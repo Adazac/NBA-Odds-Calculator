{
 "cells": [
  {
   "cell_type": "markdown",
   "id": "d61716f3",
   "metadata": {},
   "source": [
    "# This notebook collects data about all NBA players from basketball-reference.com"
   ]
  },
  {
   "cell_type": "code",
   "execution_count": 14,
   "id": "f36d5126",
   "metadata": {},
   "outputs": [],
   "source": [
    "import requests as req\n",
    "from bs4 import BeautifulSoup\n",
    "import pandas as pd\n",
    "from tqdm import tqdm\n",
    "import random\n",
    "from time import sleep\n",
    "from random import randint, uniform\n",
    "import numpy as np"
   ]
  },
  {
   "cell_type": "code",
   "execution_count": 4,
   "id": "b79c019d",
   "metadata": {},
   "outputs": [],
   "source": [
    "pd.options.display.max_colwidth = 150\n",
    "pd.set_option('display.max_columns', None)"
   ]
  },
  {
   "cell_type": "markdown",
   "id": "aa74a545",
   "metadata": {},
   "source": [
    "# Scraping players URLs"
   ]
  },
  {
   "cell_type": "markdown",
   "id": "5a30d336",
   "metadata": {},
   "source": [
    "First we create a list of websites to scrape players from."
   ]
  },
  {
   "cell_type": "code",
   "execution_count": 22,
   "id": "e944714c",
   "metadata": {},
   "outputs": [
    {
     "name": "stdout",
     "output_type": "stream",
     "text": [
      "https://www.basketball-reference.com/players/f/\n"
     ]
    }
   ],
   "source": [
    "alphabet = ['a', 'b', 'c', 'd', 'e', 'f', 'g', 'h', 'i', 'j', 'k', 'l', 'm', 'n', 'o', 'p', 'q', 'r', 's', 't', 'u', 'v', 'w', 'x', 'y', 'z']\n",
    "page = \"https://www.basketball-reference.com/players/\"\n",
    "\n",
    "# Cycle creates link for each character of alphabet\n",
    "for i, char in enumerate(alphabet):\n",
    "    alphabet[i] = page + char + \"/\"\n",
    "print(alphabet[5])"
   ]
  },
  {
   "cell_type": "markdown",
   "id": "16b3cd6f",
   "metadata": {},
   "source": [
    "Now we scrape active players which are tagged \"strong\" in the table."
   ]
  },
  {
   "cell_type": "code",
   "execution_count": 23,
   "id": "7e6efc1c",
   "metadata": {},
   "outputs": [
    {
     "name": "stderr",
     "output_type": "stream",
     "text": [
      "100%|██████████████████████████████████████████████████████████████████████████████████| 26/26 [00:24<00:00,  1.06it/s]\n"
     ]
    }
   ],
   "source": [
    "# Initialize DataFrame\n",
    "players = pd.DataFrame(columns = [\"Name\", \"Link\", \"From\", \"To\", \"Position\", \"Height\", \"Weight\", \"Birth\"])\n",
    "\n",
    "# Cycle iterates through links created before\n",
    "headers = {\"User-Agent\": \"Mozilla/5.0 (Windows NT 10.0; Win64; x64) AppleWebKit/537.36 (KHTML, like Gecko) Chrome/111.0.0.0 Safari/537.36\"}\n",
    "for url in tqdm(alphabet):\n",
    "    data = req.get(url, headers = headers).text\n",
    "    soup = BeautifulSoup(data,\"html.parser\")\n",
    "    # Find table with players\n",
    "    table = soup.find(\"table\", id=\"players\")\n",
    "    rows = table.find(\"tbody\").find_all(\"tr\", class_=None)\n",
    "    # Iterate through all rows of table\n",
    "    for row in rows:\n",
    "        # Checks if players name is \"strong\", if not skips to the next iteration\n",
    "        player = row.find(\"th\")\n",
    "        if player.find(\"strong\") == None:\n",
    "            continue\n",
    "        # Gets name and link from first col\n",
    "        name = player.a.text\n",
    "        link = \"https://www.basketball-reference.com\"+player.a[\"href\"]\n",
    "\n",
    "        # Gets more information from other cols\n",
    "        cols = row.find_all(\"td\")        \n",
    "        from_ = cols[0].text\n",
    "        to = cols[1].text\n",
    "        position = cols[2].text\n",
    "        height = cols[3].text\n",
    "        weight = cols[4].text\n",
    "        birth = cols[5].text\n",
    "        # Saves info into DataFrame\n",
    "        players = players._append({\"Name\":name, \"Link\":link, \"From\":from_, \"To\":to, \"Position\":position, \"Height\":height, \"Weight\":weight, \"Birth\":birth}, ignore_index=True)        "
   ]
  },
  {
   "cell_type": "code",
   "execution_count": 24,
   "id": "1b37e13a",
   "metadata": {},
   "outputs": [
    {
     "data": {
      "text/html": [
       "<div>\n",
       "<style scoped>\n",
       "    .dataframe tbody tr th:only-of-type {\n",
       "        vertical-align: middle;\n",
       "    }\n",
       "\n",
       "    .dataframe tbody tr th {\n",
       "        vertical-align: top;\n",
       "    }\n",
       "\n",
       "    .dataframe thead th {\n",
       "        text-align: right;\n",
       "    }\n",
       "</style>\n",
       "<table border=\"1\" class=\"dataframe\">\n",
       "  <thead>\n",
       "    <tr style=\"text-align: right;\">\n",
       "      <th></th>\n",
       "      <th>Name</th>\n",
       "      <th>Link</th>\n",
       "      <th>From</th>\n",
       "      <th>To</th>\n",
       "      <th>Position</th>\n",
       "      <th>Height</th>\n",
       "      <th>Weight</th>\n",
       "      <th>Birth</th>\n",
       "    </tr>\n",
       "  </thead>\n",
       "  <tbody>\n",
       "    <tr>\n",
       "      <th>0</th>\n",
       "      <td>Precious Achiuwa</td>\n",
       "      <td>https://www.basketball-reference.com/players/a...</td>\n",
       "      <td>2021</td>\n",
       "      <td>2024</td>\n",
       "      <td>F</td>\n",
       "      <td>6-8</td>\n",
       "      <td>225</td>\n",
       "      <td>September 19, 1999</td>\n",
       "    </tr>\n",
       "    <tr>\n",
       "      <th>1</th>\n",
       "      <td>Steven Adams</td>\n",
       "      <td>https://www.basketball-reference.com/players/a...</td>\n",
       "      <td>2014</td>\n",
       "      <td>2023</td>\n",
       "      <td>C</td>\n",
       "      <td>6-11</td>\n",
       "      <td>265</td>\n",
       "      <td>July 20, 1993</td>\n",
       "    </tr>\n",
       "    <tr>\n",
       "      <th>2</th>\n",
       "      <td>Bam Adebayo</td>\n",
       "      <td>https://www.basketball-reference.com/players/a...</td>\n",
       "      <td>2018</td>\n",
       "      <td>2024</td>\n",
       "      <td>C-F</td>\n",
       "      <td>6-9</td>\n",
       "      <td>255</td>\n",
       "      <td>July 18, 1997</td>\n",
       "    </tr>\n",
       "    <tr>\n",
       "      <th>3</th>\n",
       "      <td>Ochai Agbaji</td>\n",
       "      <td>https://www.basketball-reference.com/players/a...</td>\n",
       "      <td>2023</td>\n",
       "      <td>2024</td>\n",
       "      <td>G</td>\n",
       "      <td>6-5</td>\n",
       "      <td>215</td>\n",
       "      <td>April 20, 2000</td>\n",
       "    </tr>\n",
       "    <tr>\n",
       "      <th>4</th>\n",
       "      <td>Santi Aldama</td>\n",
       "      <td>https://www.basketball-reference.com/players/a...</td>\n",
       "      <td>2022</td>\n",
       "      <td>2024</td>\n",
       "      <td>F</td>\n",
       "      <td>6-11</td>\n",
       "      <td>224</td>\n",
       "      <td>January 10, 2001</td>\n",
       "    </tr>\n",
       "    <tr>\n",
       "      <th>...</th>\n",
       "      <td>...</td>\n",
       "      <td>...</td>\n",
       "      <td>...</td>\n",
       "      <td>...</td>\n",
       "      <td>...</td>\n",
       "      <td>...</td>\n",
       "      <td>...</td>\n",
       "      <td>...</td>\n",
       "    </tr>\n",
       "    <tr>\n",
       "      <th>782</th>\n",
       "      <td>Thaddeus Young</td>\n",
       "      <td>https://www.basketball-reference.com/players/y...</td>\n",
       "      <td>2008</td>\n",
       "      <td>2024</td>\n",
       "      <td>F</td>\n",
       "      <td>6-8</td>\n",
       "      <td>235</td>\n",
       "      <td>June 21, 1988</td>\n",
       "    </tr>\n",
       "    <tr>\n",
       "      <th>783</th>\n",
       "      <td>Trae Young</td>\n",
       "      <td>https://www.basketball-reference.com/players/y...</td>\n",
       "      <td>2019</td>\n",
       "      <td>2024</td>\n",
       "      <td>G</td>\n",
       "      <td>6-1</td>\n",
       "      <td>164</td>\n",
       "      <td>September 19, 1998</td>\n",
       "    </tr>\n",
       "    <tr>\n",
       "      <th>784</th>\n",
       "      <td>Omer Yurtseven</td>\n",
       "      <td>https://www.basketball-reference.com/players/y...</td>\n",
       "      <td>2022</td>\n",
       "      <td>2024</td>\n",
       "      <td>C</td>\n",
       "      <td>7-0</td>\n",
       "      <td>264</td>\n",
       "      <td>June 19, 1998</td>\n",
       "    </tr>\n",
       "    <tr>\n",
       "      <th>785</th>\n",
       "      <td>Cody Zeller</td>\n",
       "      <td>https://www.basketball-reference.com/players/z...</td>\n",
       "      <td>2014</td>\n",
       "      <td>2024</td>\n",
       "      <td>C-F</td>\n",
       "      <td>6-11</td>\n",
       "      <td>240</td>\n",
       "      <td>October 5, 1992</td>\n",
       "    </tr>\n",
       "    <tr>\n",
       "      <th>786</th>\n",
       "      <td>Ivica Zubac</td>\n",
       "      <td>https://www.basketball-reference.com/players/z...</td>\n",
       "      <td>2017</td>\n",
       "      <td>2024</td>\n",
       "      <td>C</td>\n",
       "      <td>7-0</td>\n",
       "      <td>240</td>\n",
       "      <td>March 18, 1997</td>\n",
       "    </tr>\n",
       "  </tbody>\n",
       "</table>\n",
       "<p>787 rows × 8 columns</p>\n",
       "</div>"
      ],
      "text/plain": [
       "                 Name                                               Link  \\\n",
       "0    Precious Achiuwa  https://www.basketball-reference.com/players/a...   \n",
       "1        Steven Adams  https://www.basketball-reference.com/players/a...   \n",
       "2         Bam Adebayo  https://www.basketball-reference.com/players/a...   \n",
       "3        Ochai Agbaji  https://www.basketball-reference.com/players/a...   \n",
       "4        Santi Aldama  https://www.basketball-reference.com/players/a...   \n",
       "..                ...                                                ...   \n",
       "782    Thaddeus Young  https://www.basketball-reference.com/players/y...   \n",
       "783        Trae Young  https://www.basketball-reference.com/players/y...   \n",
       "784    Omer Yurtseven  https://www.basketball-reference.com/players/y...   \n",
       "785       Cody Zeller  https://www.basketball-reference.com/players/z...   \n",
       "786       Ivica Zubac  https://www.basketball-reference.com/players/z...   \n",
       "\n",
       "     From    To Position Height Weight               Birth  \n",
       "0    2021  2024        F    6-8    225  September 19, 1999  \n",
       "1    2014  2023        C   6-11    265       July 20, 1993  \n",
       "2    2018  2024      C-F    6-9    255       July 18, 1997  \n",
       "3    2023  2024        G    6-5    215      April 20, 2000  \n",
       "4    2022  2024        F   6-11    224    January 10, 2001  \n",
       "..    ...   ...      ...    ...    ...                 ...  \n",
       "782  2008  2024        F    6-8    235       June 21, 1988  \n",
       "783  2019  2024        G    6-1    164  September 19, 1998  \n",
       "784  2022  2024        C    7-0    264       June 19, 1998  \n",
       "785  2014  2024      C-F   6-11    240     October 5, 1992  \n",
       "786  2017  2024        C    7-0    240      March 18, 1997  \n",
       "\n",
       "[787 rows x 8 columns]"
      ]
     },
     "execution_count": 24,
     "metadata": {},
     "output_type": "execute_result"
    }
   ],
   "source": [
    "players"
   ]
  },
  {
   "cell_type": "code",
   "execution_count": 26,
   "id": "37530bec",
   "metadata": {
    "scrolled": true
   },
   "outputs": [
    {
     "data": {
      "text/plain": [
       "0      https://www.basketball-reference.com/players/a/achiupr01.html\n",
       "1      https://www.basketball-reference.com/players/a/adamsst01.html\n",
       "2      https://www.basketball-reference.com/players/a/adebaba01.html\n",
       "3      https://www.basketball-reference.com/players/a/agbajoc01.html\n",
       "4      https://www.basketball-reference.com/players/a/aldamsa01.html\n",
       "                                   ...                              \n",
       "782    https://www.basketball-reference.com/players/y/youngth01.html\n",
       "783    https://www.basketball-reference.com/players/y/youngtr01.html\n",
       "784    https://www.basketball-reference.com/players/y/yurtsom01.html\n",
       "785    https://www.basketball-reference.com/players/z/zelleco01.html\n",
       "786    https://www.basketball-reference.com/players/z/zubaciv01.html\n",
       "Name: Link, Length: 787, dtype: object"
      ]
     },
     "execution_count": 26,
     "metadata": {},
     "output_type": "execute_result"
    }
   ],
   "source": [
    "players[\"Link\"]"
   ]
  },
  {
   "cell_type": "code",
   "execution_count": 27,
   "id": "3bfeb8f1",
   "metadata": {},
   "outputs": [],
   "source": [
    "players.to_csv(\"players.csv\", index=False)"
   ]
  },
  {
   "cell_type": "code",
   "execution_count": 2,
   "id": "2e0413be-d0b5-4598-a170-1930d6002e8a",
   "metadata": {},
   "outputs": [
    {
     "data": {
      "text/html": [
       "<div>\n",
       "<style scoped>\n",
       "    .dataframe tbody tr th:only-of-type {\n",
       "        vertical-align: middle;\n",
       "    }\n",
       "\n",
       "    .dataframe tbody tr th {\n",
       "        vertical-align: top;\n",
       "    }\n",
       "\n",
       "    .dataframe thead th {\n",
       "        text-align: right;\n",
       "    }\n",
       "</style>\n",
       "<table border=\"1\" class=\"dataframe\">\n",
       "  <thead>\n",
       "    <tr style=\"text-align: right;\">\n",
       "      <th></th>\n",
       "      <th>Name</th>\n",
       "      <th>Link</th>\n",
       "      <th>From</th>\n",
       "      <th>To</th>\n",
       "      <th>Position</th>\n",
       "      <th>Height</th>\n",
       "      <th>Weight</th>\n",
       "      <th>Birth</th>\n",
       "    </tr>\n",
       "  </thead>\n",
       "  <tbody>\n",
       "    <tr>\n",
       "      <th>0</th>\n",
       "      <td>Precious Achiuwa</td>\n",
       "      <td>https://www.basketball-reference.com/players/a...</td>\n",
       "      <td>2021</td>\n",
       "      <td>2024</td>\n",
       "      <td>F</td>\n",
       "      <td>6-8</td>\n",
       "      <td>225</td>\n",
       "      <td>September 19, 1999</td>\n",
       "    </tr>\n",
       "    <tr>\n",
       "      <th>1</th>\n",
       "      <td>Steven Adams</td>\n",
       "      <td>https://www.basketball-reference.com/players/a...</td>\n",
       "      <td>2014</td>\n",
       "      <td>2023</td>\n",
       "      <td>C</td>\n",
       "      <td>6-11</td>\n",
       "      <td>265</td>\n",
       "      <td>July 20, 1993</td>\n",
       "    </tr>\n",
       "    <tr>\n",
       "      <th>2</th>\n",
       "      <td>Bam Adebayo</td>\n",
       "      <td>https://www.basketball-reference.com/players/a...</td>\n",
       "      <td>2018</td>\n",
       "      <td>2024</td>\n",
       "      <td>C-F</td>\n",
       "      <td>6-9</td>\n",
       "      <td>255</td>\n",
       "      <td>July 18, 1997</td>\n",
       "    </tr>\n",
       "    <tr>\n",
       "      <th>3</th>\n",
       "      <td>Ochai Agbaji</td>\n",
       "      <td>https://www.basketball-reference.com/players/a...</td>\n",
       "      <td>2023</td>\n",
       "      <td>2024</td>\n",
       "      <td>G</td>\n",
       "      <td>6-5</td>\n",
       "      <td>215</td>\n",
       "      <td>April 20, 2000</td>\n",
       "    </tr>\n",
       "    <tr>\n",
       "      <th>4</th>\n",
       "      <td>Santi Aldama</td>\n",
       "      <td>https://www.basketball-reference.com/players/a...</td>\n",
       "      <td>2022</td>\n",
       "      <td>2024</td>\n",
       "      <td>F</td>\n",
       "      <td>6-11</td>\n",
       "      <td>224</td>\n",
       "      <td>January 10, 2001</td>\n",
       "    </tr>\n",
       "    <tr>\n",
       "      <th>...</th>\n",
       "      <td>...</td>\n",
       "      <td>...</td>\n",
       "      <td>...</td>\n",
       "      <td>...</td>\n",
       "      <td>...</td>\n",
       "      <td>...</td>\n",
       "      <td>...</td>\n",
       "      <td>...</td>\n",
       "    </tr>\n",
       "    <tr>\n",
       "      <th>782</th>\n",
       "      <td>Thaddeus Young</td>\n",
       "      <td>https://www.basketball-reference.com/players/y...</td>\n",
       "      <td>2008</td>\n",
       "      <td>2024</td>\n",
       "      <td>F</td>\n",
       "      <td>6-8</td>\n",
       "      <td>235</td>\n",
       "      <td>June 21, 1988</td>\n",
       "    </tr>\n",
       "    <tr>\n",
       "      <th>783</th>\n",
       "      <td>Trae Young</td>\n",
       "      <td>https://www.basketball-reference.com/players/y...</td>\n",
       "      <td>2019</td>\n",
       "      <td>2024</td>\n",
       "      <td>G</td>\n",
       "      <td>6-1</td>\n",
       "      <td>164</td>\n",
       "      <td>September 19, 1998</td>\n",
       "    </tr>\n",
       "    <tr>\n",
       "      <th>784</th>\n",
       "      <td>Omer Yurtseven</td>\n",
       "      <td>https://www.basketball-reference.com/players/y...</td>\n",
       "      <td>2022</td>\n",
       "      <td>2024</td>\n",
       "      <td>C</td>\n",
       "      <td>7-0</td>\n",
       "      <td>264</td>\n",
       "      <td>June 19, 1998</td>\n",
       "    </tr>\n",
       "    <tr>\n",
       "      <th>785</th>\n",
       "      <td>Cody Zeller</td>\n",
       "      <td>https://www.basketball-reference.com/players/z...</td>\n",
       "      <td>2014</td>\n",
       "      <td>2024</td>\n",
       "      <td>C-F</td>\n",
       "      <td>6-11</td>\n",
       "      <td>240</td>\n",
       "      <td>October 5, 1992</td>\n",
       "    </tr>\n",
       "    <tr>\n",
       "      <th>786</th>\n",
       "      <td>Ivica Zubac</td>\n",
       "      <td>https://www.basketball-reference.com/players/z...</td>\n",
       "      <td>2017</td>\n",
       "      <td>2024</td>\n",
       "      <td>C</td>\n",
       "      <td>7-0</td>\n",
       "      <td>240</td>\n",
       "      <td>March 18, 1997</td>\n",
       "    </tr>\n",
       "  </tbody>\n",
       "</table>\n",
       "<p>787 rows × 8 columns</p>\n",
       "</div>"
      ],
      "text/plain": [
       "                 Name                                               Link  \\\n",
       "0    Precious Achiuwa  https://www.basketball-reference.com/players/a...   \n",
       "1        Steven Adams  https://www.basketball-reference.com/players/a...   \n",
       "2         Bam Adebayo  https://www.basketball-reference.com/players/a...   \n",
       "3        Ochai Agbaji  https://www.basketball-reference.com/players/a...   \n",
       "4        Santi Aldama  https://www.basketball-reference.com/players/a...   \n",
       "..                ...                                                ...   \n",
       "782    Thaddeus Young  https://www.basketball-reference.com/players/y...   \n",
       "783        Trae Young  https://www.basketball-reference.com/players/y...   \n",
       "784    Omer Yurtseven  https://www.basketball-reference.com/players/y...   \n",
       "785       Cody Zeller  https://www.basketball-reference.com/players/z...   \n",
       "786       Ivica Zubac  https://www.basketball-reference.com/players/z...   \n",
       "\n",
       "     From    To Position Height  Weight               Birth  \n",
       "0    2021  2024        F    6-8     225  September 19, 1999  \n",
       "1    2014  2023        C   6-11     265       July 20, 1993  \n",
       "2    2018  2024      C-F    6-9     255       July 18, 1997  \n",
       "3    2023  2024        G    6-5     215      April 20, 2000  \n",
       "4    2022  2024        F   6-11     224    January 10, 2001  \n",
       "..    ...   ...      ...    ...     ...                 ...  \n",
       "782  2008  2024        F    6-8     235       June 21, 1988  \n",
       "783  2019  2024        G    6-1     164  September 19, 1998  \n",
       "784  2022  2024        C    7-0     264       June 19, 1998  \n",
       "785  2014  2024      C-F   6-11     240     October 5, 1992  \n",
       "786  2017  2024        C    7-0     240      March 18, 1997  \n",
       "\n",
       "[787 rows x 8 columns]"
      ]
     },
     "execution_count": 2,
     "metadata": {},
     "output_type": "execute_result"
    }
   ],
   "source": [
    "players = pd.read_csv(\"players.csv\")\n",
    "players"
   ]
  },
  {
   "cell_type": "markdown",
   "id": "559a6ab8",
   "metadata": {},
   "source": [
    "# Creating links for gamelogs and splits"
   ]
  },
  {
   "cell_type": "markdown",
   "id": "e14a1ea7",
   "metadata": {},
   "source": [
    "### Gamelogs"
   ]
  },
  {
   "cell_type": "code",
   "execution_count": 8,
   "id": "db776bb2",
   "metadata": {},
   "outputs": [
    {
     "name": "stderr",
     "output_type": "stream",
     "text": [
      "100%|██████████████████████████████████████████████████████████████████████████████| 787/787 [00:00<00:00, 7562.71it/s]\n"
     ]
    }
   ],
   "source": [
    "# Years to numeric\n",
    "players['From'] = pd.to_numeric(players['From'])\n",
    "players['To'] = pd.to_numeric(players['To'])\n",
    "# New column for links\n",
    "players[\"Gamelogs\"] = None\n",
    "# Creating links for gamelogs\n",
    "for ind in tqdm(players.index):\n",
    "    links = []\n",
    "    # Players with 1 season\n",
    "    if (players[\"To\"][ind] - players[\"From\"][ind]) == 0:\n",
    "        link = players[\"Link\"][ind][0:-5] + \"/gamelog/\" + str(int(players[\"To\"][ind]))\n",
    "        links.append(link)\n",
    "    # Players with 2 seasons\n",
    "    elif (players[\"To\"][ind] - players[\"From\"][ind]) == 1:\n",
    "        link1 = players[\"Link\"][ind][0:-5] + \"/gamelog/\" + str(int(players[\"To\"][ind]))\n",
    "        link2 = players[\"Link\"][ind][0:-5] + \"/gamelog/\" + str(int(players[\"To\"][ind]-1))\n",
    "        links.append(link1)\n",
    "        links.append(link2)\n",
    "    # Players with 3 or more seasons   \n",
    "    else:\n",
    "        link1 = players[\"Link\"][ind][0:-5] + \"/gamelog/\" + str(int(players[\"To\"][ind]))\n",
    "        link2 = players[\"Link\"][ind][0:-5] + \"/gamelog/\" + str(int(players[\"To\"][ind]-1))\n",
    "        link3 = players[\"Link\"][ind][0:-5] + \"/gamelog/\" + str(int(players[\"To\"][ind]-2))\n",
    "        links.append(link1)\n",
    "        links.append(link2)\n",
    "        links.append(link3)\n",
    "    # Saves links to Gamelogs column\n",
    "    players.at[ind, 'Gamelogs'] = links"
   ]
  },
  {
   "cell_type": "code",
   "execution_count": 9,
   "id": "dee174dc",
   "metadata": {},
   "outputs": [
    {
     "data": {
      "text/plain": [
       "['https://www.basketball-reference.com/players/a/agbajoc01/gamelog/2024',\n",
       " 'https://www.basketball-reference.com/players/a/agbajoc01/gamelog/2023']"
      ]
     },
     "execution_count": 9,
     "metadata": {},
     "output_type": "execute_result"
    }
   ],
   "source": [
    "players[\"Gamelogs\"][3]"
   ]
  },
  {
   "cell_type": "markdown",
   "id": "a5dbe268",
   "metadata": {},
   "source": [
    "### Splits"
   ]
  },
  {
   "cell_type": "code",
   "execution_count": 10,
   "id": "30e79c17",
   "metadata": {},
   "outputs": [
    {
     "name": "stderr",
     "output_type": "stream",
     "text": [
      "100%|██████████████████████████████████████████████████████████████████████████████| 787/787 [00:00<00:00, 6912.08it/s]\n"
     ]
    }
   ],
   "source": [
    "# Years to numeric\n",
    "players['From'] = pd.to_numeric(players['From'])\n",
    "players['To'] = pd.to_numeric(players['To'])\n",
    "# New column for splits\n",
    "players[\"Splits\"] = None\n",
    "# Creating links for splits\n",
    "for ind in tqdm(players.index):\n",
    "    links = []\n",
    "    # Players with 1 season\n",
    "    if (players[\"To\"][ind] - players[\"From\"][ind]) == 0:\n",
    "        link = players[\"Link\"][ind][0:-5] + \"/splits/\" + str(int(players[\"To\"][ind]))\n",
    "        links.append(link)\n",
    "    # Players with 2 seasons\n",
    "    elif (players[\"To\"][ind] - players[\"From\"][ind]) == 1:\n",
    "        link1 = players[\"Link\"][ind][0:-5] + \"/splits/\" + str(int(players[\"To\"][ind]))\n",
    "        link2 = players[\"Link\"][ind][0:-5] + \"/splits/\" + str(int(players[\"To\"][ind]-1))\n",
    "        links.append(link1)\n",
    "        links.append(link2)\n",
    "    # Players with 3 or more seasons   \n",
    "    else:\n",
    "        link1 = players[\"Link\"][ind][0:-5] + \"/splits/\" + str(int(players[\"To\"][ind]))\n",
    "        link2 = players[\"Link\"][ind][0:-5] + \"/splits/\" + str(int(players[\"To\"][ind]-1))\n",
    "        link3 = players[\"Link\"][ind][0:-5] + \"/splits/\" + str(int(players[\"To\"][ind]-2))\n",
    "        links.append(link1)\n",
    "        links.append(link2)\n",
    "        links.append(link3)\n",
    "    # Saves links to Splits column\n",
    "    players.at[ind, 'Splits'] = links\n"
   ]
  },
  {
   "cell_type": "code",
   "execution_count": 11,
   "id": "f190c4d2",
   "metadata": {},
   "outputs": [
    {
     "data": {
      "text/plain": [
       "['https://www.basketball-reference.com/players/a/agbajoc01/splits/2024',\n",
       " 'https://www.basketball-reference.com/players/a/agbajoc01/splits/2023']"
      ]
     },
     "execution_count": 11,
     "metadata": {},
     "output_type": "execute_result"
    }
   ],
   "source": [
    "players[\"Splits\"][3]"
   ]
  },
  {
   "cell_type": "markdown",
   "id": "96ddc79b",
   "metadata": {},
   "source": [
    "# Scraping Gamelogs"
   ]
  },
  {
   "cell_type": "code",
   "execution_count": 32,
   "id": "66030ee0",
   "metadata": {},
   "outputs": [],
   "source": [
    "def get_gamelog(rows, name, link):\n",
    "    gamelog = pd.DataFrame( columns = [\"Name\", \"Link\", \"Game\", \"Date\", \"Match Link\", \"Age\", \"Team\",\n",
    "                                   \"Location\", \"Opponent\", \"Result\", \"GS\",\n",
    "                                   \"MP\", \"FG\", \"FGA\", \"FG%\", \"3P\", \"3PA\",\n",
    "                                   \"3P%\", \"FT\", \"FTA\", \"FT%\", \"ORB\", \"DRB\",\n",
    "                                   \"TRB\", \"AST\", \"STL\", \"BLK\", \"TOV\", \"PF\",\n",
    "                                   \"PTS\", \"GmSc\", \"+/-\"])\n",
    "    # Iterate through all rows of table\n",
    "    for row in rows:\n",
    "        # Gets all cols\n",
    "        cols = row.find_all(\"td\")        \n",
    "        game = cols[0].text\n",
    "        date = cols[1].text\n",
    "        match = \"https://www.basketball-reference.com\"+cols[1].a[\"href\"]\n",
    "        age = cols[2].text\n",
    "        team = cols[3].text\n",
    "        location = cols[4].text\n",
    "        opponent = cols[5].text\n",
    "        result = cols[6].text\n",
    "        gs = cols[7].text\n",
    "        mp = cols[8].text\n",
    "        fg = cols[9].text\n",
    "        fga = cols[10].text\n",
    "        fg_perc = cols[11].text\n",
    "        three_p = cols[12].text\n",
    "        three_pa = cols[13].text\n",
    "        three_p_perc = cols[14].text\n",
    "        ft = cols[15].text\n",
    "        fta = cols[16].text\n",
    "        ft_perc = cols[17].text\n",
    "        orb = cols[18].text\n",
    "        drb = cols[19].text\n",
    "        trb = cols[20].text\n",
    "        ast = cols[21].text\n",
    "        stl = cols[22].text\n",
    "        blk = cols[23].text\n",
    "        tov = cols[24].text\n",
    "        pf = cols[25].text\n",
    "        pts = cols[26].text\n",
    "        gmsc = cols[27].text\n",
    "        pm = cols[28].text\n",
    "        # Saves info into DataFrame\n",
    "        gamelog = gamelog._append({\"Name\":name, \"Link\": link, \"Game\": game, \"Date\": date, \"Match Link\": match, \"Age\": age, \"Team\": team,\"Location\": location, \"Opponent\": opponent, \"Result\": result, \"GS\": gs,\"MP\": mp, \"FG\": fg, \"FGA\": fga, \"FG%\": fg_perc, \"3P\": three_p, \"3PA\": three_pa,\"3P%\": three_p_perc, \"FT\": ft, \"FTA\": fta, \"FT%\": ft_perc, \"ORB\": orb, \"DRB\": drb,\"TRB\": trb, \"AST\": ast, \"STL\": stl, \"BLK\": blk, \"TOV\": tov, \"PF\": pf,\"PTS\": pts, \"GmSc\": gmsc, \"+/-\": pm}, ignore_index=True )\n",
    "    return gamelog"
   ]
  },
  {
   "cell_type": "code",
   "execution_count": 47,
   "id": "7686b015",
   "metadata": {
    "scrolled": true
   },
   "outputs": [
    {
     "name": "stderr",
     "output_type": "stream",
     "text": [
      "\r",
      "  0%|                                                                                          | 0/107 [00:00<?, ?it/s]"
     ]
    },
    {
     "name": "stdout",
     "output_type": "stream",
     "text": [
      "Jayson Tatum\n",
      "Jayson Tatum\n"
     ]
    },
    {
     "name": "stderr",
     "output_type": "stream",
     "text": [
      "\r",
      "  1%|▊                                                                                 | 1/107 [00:12<21:44, 12.30s/it]"
     ]
    },
    {
     "name": "stdout",
     "output_type": "stream",
     "text": [
      "Jayson Tatum\n",
      "Terry Taylor\n",
      "Terry Taylor\n"
     ]
    },
    {
     "name": "stderr",
     "output_type": "stream",
     "text": [
      "\r",
      "  2%|█▌                                                                                | 2/107 [00:19<16:41,  9.54s/it]"
     ]
    },
    {
     "name": "stdout",
     "output_type": "stream",
     "text": [
      "Terry Taylor\n",
      "Garrett Temple\n",
      "Garrett Temple\n"
     ]
    },
    {
     "name": "stderr",
     "output_type": "stream",
     "text": [
      "\r",
      "  3%|██▎                                                                               | 3/107 [00:27<14:49,  8.56s/it]"
     ]
    },
    {
     "name": "stdout",
     "output_type": "stream",
     "text": [
      "Garrett Temple\n",
      "Dalen Terry\n"
     ]
    },
    {
     "name": "stderr",
     "output_type": "stream",
     "text": [
      "\r",
      "  4%|███                                                                               | 4/107 [00:36<14:56,  8.70s/it]"
     ]
    },
    {
     "name": "stdout",
     "output_type": "stream",
     "text": [
      "Dalen Terry\n",
      "Tyrell Terry\n"
     ]
    },
    {
     "name": "stderr",
     "output_type": "stream",
     "text": [
      "\r",
      "  5%|███▊                                                                              | 5/107 [00:43<13:45,  8.09s/it]"
     ]
    },
    {
     "name": "stdout",
     "output_type": "stream",
     "text": [
      "Tyrell Terry\n",
      "Daniel Theis\n",
      "Daniel Theis\n"
     ]
    },
    {
     "name": "stderr",
     "output_type": "stream",
     "text": [
      "\r",
      "  6%|████▌                                                                             | 6/107 [00:52<14:02,  8.34s/it]"
     ]
    },
    {
     "name": "stdout",
     "output_type": "stream",
     "text": [
      "Daniel Theis\n",
      "Brodric Thomas\n"
     ]
    },
    {
     "name": "stderr",
     "output_type": "stream",
     "text": [
      "\r",
      "  7%|█████▎                                                                            | 7/107 [00:56<11:45,  7.06s/it]"
     ]
    },
    {
     "name": "stdout",
     "output_type": "stream",
     "text": [
      "Brodric Thomas\n",
      "Cam Thomas\n",
      "Cam Thomas\n"
     ]
    },
    {
     "name": "stderr",
     "output_type": "stream",
     "text": [
      "\r",
      "  7%|██████▏                                                                           | 8/107 [01:06<13:27,  8.15s/it]"
     ]
    },
    {
     "name": "stdout",
     "output_type": "stream",
     "text": [
      "Cam Thomas\n",
      "Isaiah Thomas\n",
      "Isaiah Thomas\n"
     ]
    },
    {
     "name": "stderr",
     "output_type": "stream",
     "text": [
      "\r",
      "  8%|██████▉                                                                           | 9/107 [01:16<14:01,  8.59s/it]"
     ]
    },
    {
     "name": "stdout",
     "output_type": "stream",
     "text": [
      "Isaiah Thomas\n",
      "Khyri Thomas\n",
      "Khyri Thomas\n"
     ]
    },
    {
     "name": "stderr",
     "output_type": "stream",
     "text": [
      "\r",
      "  9%|███████▌                                                                         | 10/107 [01:25<13:50,  8.57s/it]"
     ]
    },
    {
     "name": "stdout",
     "output_type": "stream",
     "text": [
      "Khyri Thomas\n"
     ]
    },
    {
     "name": "stderr",
     "output_type": "stream",
     "text": [
      "\r",
      " 10%|████████▎                                                                        | 11/107 [01:27<10:32,  6.59s/it]"
     ]
    },
    {
     "name": "stdout",
     "output_type": "stream",
     "text": [
      "Amen Thompson\n"
     ]
    },
    {
     "name": "stderr",
     "output_type": "stream",
     "text": [
      "\r",
      " 11%|█████████                                                                        | 12/107 [01:32<09:51,  6.23s/it]"
     ]
    },
    {
     "name": "stdout",
     "output_type": "stream",
     "text": [
      "Ausar Thompson\n",
      "Klay Thompson\n",
      "Klay Thompson\n"
     ]
    },
    {
     "name": "stderr",
     "output_type": "stream",
     "text": [
      "\r",
      " 12%|█████████▊                                                                       | 13/107 [01:43<12:06,  7.73s/it]"
     ]
    },
    {
     "name": "stdout",
     "output_type": "stream",
     "text": [
      "Klay Thompson\n",
      "Tristan Thompson\n",
      "Tristan Thompson\n"
     ]
    },
    {
     "name": "stderr",
     "output_type": "stream",
     "text": [
      "\r",
      " 13%|██████████▌                                                                      | 14/107 [01:56<14:31,  9.37s/it]"
     ]
    },
    {
     "name": "stdout",
     "output_type": "stream",
     "text": [
      "Tristan Thompson\n",
      "JT Thor\n",
      "JT Thor\n"
     ]
    },
    {
     "name": "stderr",
     "output_type": "stream",
     "text": [
      "\r",
      " 14%|███████████▎                                                                     | 15/107 [02:06<14:29,  9.45s/it]"
     ]
    },
    {
     "name": "stdout",
     "output_type": "stream",
     "text": [
      "JT Thor\n",
      "Matisse Thybulle\n",
      "Matisse Thybulle\n"
     ]
    },
    {
     "name": "stderr",
     "output_type": "stream",
     "text": [
      "\r",
      " 15%|████████████                                                                     | 16/107 [02:16<14:27,  9.54s/it]"
     ]
    },
    {
     "name": "stdout",
     "output_type": "stream",
     "text": [
      "Matisse Thybulle\n",
      "Killian Tillie\n"
     ]
    },
    {
     "name": "stderr",
     "output_type": "stream",
     "text": [
      "\r",
      " 16%|████████████▊                                                                    | 17/107 [02:21<12:18,  8.21s/it]"
     ]
    },
    {
     "name": "stdout",
     "output_type": "stream",
     "text": [
      "Killian Tillie\n",
      "Xavier Tillman Sr.\n",
      "Xavier Tillman Sr.\n"
     ]
    },
    {
     "name": "stderr",
     "output_type": "stream",
     "text": [
      "\r",
      " 17%|█████████████▋                                                                   | 18/107 [02:28<11:31,  7.77s/it]"
     ]
    },
    {
     "name": "stdout",
     "output_type": "stream",
     "text": [
      "Xavier Tillman Sr.\n",
      "Isaiah Todd\n"
     ]
    },
    {
     "name": "stderr",
     "output_type": "stream",
     "text": [
      "\r",
      " 18%|██████████████▍                                                                  | 19/107 [02:33<10:07,  6.91s/it]"
     ]
    },
    {
     "name": "stdout",
     "output_type": "stream",
     "text": [
      "Isaiah Todd\n"
     ]
    },
    {
     "name": "stderr",
     "output_type": "stream",
     "text": [
      "\r",
      " 19%|███████████████▏                                                                 | 20/107 [02:36<08:20,  5.76s/it]"
     ]
    },
    {
     "name": "stdout",
     "output_type": "stream",
     "text": [
      "Jacob Toppin\n",
      "Obi Toppin\n",
      "Obi Toppin\n"
     ]
    },
    {
     "name": "stderr",
     "output_type": "stream",
     "text": [
      "\r",
      " 20%|███████████████▉                                                                 | 21/107 [02:47<10:53,  7.60s/it]"
     ]
    },
    {
     "name": "stdout",
     "output_type": "stream",
     "text": [
      "Obi Toppin\n",
      "Juan Toscano-Anderson\n",
      "Juan Toscano-Anderson\n"
     ]
    },
    {
     "name": "stderr",
     "output_type": "stream",
     "text": [
      "\r",
      " 21%|████████████████▋                                                                | 22/107 [02:54<10:24,  7.35s/it]"
     ]
    },
    {
     "name": "stdout",
     "output_type": "stream",
     "text": [
      "Juan Toscano-Anderson\n",
      "Karl-Anthony Towns\n",
      "Karl-Anthony Towns\n"
     ]
    },
    {
     "name": "stderr",
     "output_type": "stream",
     "text": [
      "\r",
      " 21%|█████████████████▍                                                               | 23/107 [03:01<10:05,  7.20s/it]"
     ]
    },
    {
     "name": "stdout",
     "output_type": "stream",
     "text": [
      "Karl-Anthony Towns\n",
      "Gary Trent Jr.\n",
      "Gary Trent Jr.\n"
     ]
    },
    {
     "name": "stderr",
     "output_type": "stream",
     "text": [
      "\r",
      " 22%|██████████████████▏                                                              | 24/107 [03:12<11:40,  8.45s/it]"
     ]
    },
    {
     "name": "stdout",
     "output_type": "stream",
     "text": [
      "Gary Trent Jr.\n"
     ]
    },
    {
     "name": "stderr",
     "output_type": "stream",
     "text": [
      "\r",
      " 23%|██████████████████▉                                                              | 25/107 [03:16<09:42,  7.10s/it]"
     ]
    },
    {
     "name": "stdout",
     "output_type": "stream",
     "text": [
      "Oscar Tshiebwe\n",
      "P.J. Tucker\n",
      "P.J. Tucker\n"
     ]
    },
    {
     "name": "stderr",
     "output_type": "stream",
     "text": [
      "\r",
      " 24%|███████████████████▋                                                             | 26/107 [03:26<10:35,  7.85s/it]"
     ]
    },
    {
     "name": "stdout",
     "output_type": "stream",
     "text": [
      "P.J. Tucker\n",
      "Rayjon Tucker\n",
      "Rayjon Tucker\n"
     ]
    },
    {
     "name": "stderr",
     "output_type": "stream",
     "text": [
      "\r",
      " 25%|████████████████████▍                                                            | 27/107 [03:34<10:26,  7.83s/it]"
     ]
    },
    {
     "name": "stdout",
     "output_type": "stream",
     "text": [
      "Rayjon Tucker\n",
      "Myles Turner\n",
      "Myles Turner\n"
     ]
    },
    {
     "name": "stderr",
     "output_type": "stream",
     "text": [
      "\r",
      " 26%|█████████████████████▏                                                           | 28/107 [03:40<09:45,  7.41s/it]"
     ]
    },
    {
     "name": "stdout",
     "output_type": "stream",
     "text": [
      "Myles Turner\n"
     ]
    },
    {
     "name": "stderr",
     "output_type": "stream",
     "text": [
      "\r",
      " 27%|█████████████████████▉                                                           | 29/107 [03:42<07:33,  5.81s/it]"
     ]
    },
    {
     "name": "stdout",
     "output_type": "stream",
     "text": [
      "Hunter Tyson\n",
      "Stanley Umude\n"
     ]
    },
    {
     "name": "stderr",
     "output_type": "stream",
     "text": [
      "\r",
      " 28%|██████████████████████▋                                                          | 30/107 [03:46<06:41,  5.21s/it]"
     ]
    },
    {
     "name": "stdout",
     "output_type": "stream",
     "text": [
      "Stanley Umude\n",
      "Jonas ValanÄiÅ«nas\n",
      "Jonas ValanÄiÅ«nas\n"
     ]
    },
    {
     "name": "stderr",
     "output_type": "stream",
     "text": [
      "\r",
      " 29%|███████████████████████▍                                                         | 31/107 [03:52<06:56,  5.49s/it]"
     ]
    },
    {
     "name": "stdout",
     "output_type": "stream",
     "text": [
      "Jonas ValanÄiÅ«nas\n",
      "Denzel Valentine\n",
      "Denzel Valentine\n"
     ]
    },
    {
     "name": "stderr",
     "output_type": "stream",
     "text": [
      "\r",
      " 30%|████████████████████████▏                                                        | 32/107 [04:02<08:25,  6.74s/it]"
     ]
    },
    {
     "name": "stdout",
     "output_type": "stream",
     "text": [
      "Denzel Valentine\n",
      "Fred VanVleet\n",
      "Fred VanVleet\n"
     ]
    },
    {
     "name": "stderr",
     "output_type": "stream",
     "text": [
      "\r",
      " 31%|████████████████████████▉                                                        | 33/107 [04:16<11:00,  8.92s/it]"
     ]
    },
    {
     "name": "stdout",
     "output_type": "stream",
     "text": [
      "Fred VanVleet\n",
      "Jarred Vanderbilt\n",
      "Jarred Vanderbilt\n"
     ]
    },
    {
     "name": "stderr",
     "output_type": "stream",
     "text": [
      "\r",
      " 32%|█████████████████████████▋                                                       | 34/107 [04:23<10:21,  8.51s/it]"
     ]
    },
    {
     "name": "stdout",
     "output_type": "stream",
     "text": [
      "Jarred Vanderbilt\n",
      "Devin Vassell\n",
      "Devin Vassell\n"
     ]
    },
    {
     "name": "stderr",
     "output_type": "stream",
     "text": [
      "\r",
      " 33%|██████████████████████████▍                                                      | 35/107 [04:34<10:46,  8.98s/it]"
     ]
    },
    {
     "name": "stdout",
     "output_type": "stream",
     "text": [
      "Devin Vassell\n"
     ]
    },
    {
     "name": "stderr",
     "output_type": "stream",
     "text": [
      "\r",
      " 34%|███████████████████████████▎                                                     | 36/107 [04:38<08:56,  7.56s/it]"
     ]
    },
    {
     "name": "stdout",
     "output_type": "stream",
     "text": [
      "Sasha Vezenkov\n",
      "Gabe Vincent\n",
      "Gabe Vincent\n"
     ]
    },
    {
     "name": "stderr",
     "output_type": "stream",
     "text": [
      "\r",
      " 35%|████████████████████████████                                                     | 37/107 [04:51<10:44,  9.20s/it]"
     ]
    },
    {
     "name": "stdout",
     "output_type": "stream",
     "text": [
      "Gabe Vincent\n",
      "Noah Vonleh\n",
      "Noah Vonleh\n"
     ]
    },
    {
     "name": "stderr",
     "output_type": "stream",
     "text": [
      "\r",
      " 36%|████████████████████████████▊                                                    | 38/107 [04:55<08:58,  7.80s/it]"
     ]
    },
    {
     "name": "stdout",
     "output_type": "stream",
     "text": [
      "Noah Vonleh\n",
      "Nikola VuÄeviÄ\n",
      "Nikola VuÄeviÄ\n"
     ]
    },
    {
     "name": "stderr",
     "output_type": "stream",
     "text": [
      "\r",
      " 36%|█████████████████████████████▌                                                   | 39/107 [05:07<10:12,  9.01s/it]"
     ]
    },
    {
     "name": "stdout",
     "output_type": "stream",
     "text": [
      "Nikola VuÄeviÄ\n"
     ]
    },
    {
     "name": "stderr",
     "output_type": "stream",
     "text": [
      "\r",
      " 37%|██████████████████████████████▎                                                  | 40/107 [05:10<07:51,  7.04s/it]"
     ]
    },
    {
     "name": "stdout",
     "output_type": "stream",
     "text": [
      "Tristan Vukcevic\n",
      "Dean Wade\n",
      "Dean Wade\n"
     ]
    },
    {
     "name": "stderr",
     "output_type": "stream",
     "text": [
      "\r",
      " 38%|███████████████████████████████                                                  | 41/107 [05:21<09:07,  8.29s/it]"
     ]
    },
    {
     "name": "stdout",
     "output_type": "stream",
     "text": [
      "Dean Wade\n",
      "Franz Wagner\n",
      "Franz Wagner\n"
     ]
    },
    {
     "name": "stderr",
     "output_type": "stream",
     "text": [
      "\r",
      " 39%|███████████████████████████████▊                                                 | 42/107 [05:29<08:48,  8.14s/it]"
     ]
    },
    {
     "name": "stdout",
     "output_type": "stream",
     "text": [
      "Franz Wagner\n",
      "Moritz Wagner\n",
      "Moritz Wagner\n"
     ]
    },
    {
     "name": "stderr",
     "output_type": "stream",
     "text": [
      "\r",
      " 40%|████████████████████████████████▌                                                | 43/107 [05:39<09:21,  8.77s/it]"
     ]
    },
    {
     "name": "stdout",
     "output_type": "stream",
     "text": [
      "Moritz Wagner\n",
      "Ish Wainright\n",
      "Ish Wainright\n"
     ]
    },
    {
     "name": "stderr",
     "output_type": "stream",
     "text": [
      "\r",
      " 41%|█████████████████████████████████▎                                               | 44/107 [05:50<09:58,  9.50s/it]"
     ]
    },
    {
     "name": "stdout",
     "output_type": "stream",
     "text": [
      "Ish Wainright\n",
      "Jabari Walker\n"
     ]
    },
    {
     "name": "stderr",
     "output_type": "stream",
     "text": [
      "\r",
      " 42%|██████████████████████████████████                                               | 45/107 [05:54<08:12,  7.95s/it]"
     ]
    },
    {
     "name": "stdout",
     "output_type": "stream",
     "text": [
      "Jabari Walker\n"
     ]
    },
    {
     "name": "stderr",
     "output_type": "stream",
     "text": [
      "\r",
      " 43%|██████████████████████████████████▊                                              | 46/107 [05:56<06:11,  6.09s/it]"
     ]
    },
    {
     "name": "stdout",
     "output_type": "stream",
     "text": [
      "Jarace Walker\n",
      "Lonnie Walker IV\n",
      "Lonnie Walker IV\n"
     ]
    },
    {
     "name": "stderr",
     "output_type": "stream",
     "text": [
      "\r",
      " 44%|███████████████████████████████████▌                                             | 47/107 [06:05<06:56,  6.94s/it]"
     ]
    },
    {
     "name": "stdout",
     "output_type": "stream",
     "text": [
      "Lonnie Walker IV\n"
     ]
    },
    {
     "name": "stderr",
     "output_type": "stream",
     "text": [
      "\r",
      " 45%|████████████████████████████████████▎                                            | 48/107 [06:07<05:27,  5.54s/it]"
     ]
    },
    {
     "name": "stdout",
     "output_type": "stream",
     "text": [
      "M.J. Walker\n",
      "John Wall\n",
      "John Wall\n"
     ]
    },
    {
     "name": "stderr",
     "output_type": "stream",
     "text": [
      "\r",
      " 46%|█████████████████████████████████████                                            | 49/107 [06:17<06:34,  6.80s/it]"
     ]
    },
    {
     "name": "stdout",
     "output_type": "stream",
     "text": [
      "John Wall\n"
     ]
    },
    {
     "name": "stderr",
     "output_type": "stream",
     "text": [
      "\r",
      " 47%|█████████████████████████████████████▊                                           | 50/107 [06:20<05:15,  5.54s/it]"
     ]
    },
    {
     "name": "stdout",
     "output_type": "stream",
     "text": [
      "Cason Wallace\n"
     ]
    },
    {
     "name": "stderr",
     "output_type": "stream",
     "text": [
      "\r",
      " 48%|██████████████████████████████████████▌                                          | 51/107 [06:22<04:20,  4.66s/it]"
     ]
    },
    {
     "name": "stdout",
     "output_type": "stream",
     "text": [
      "Jordan Walsh\n",
      "T.J. Warren\n",
      "T.J. Warren\n"
     ]
    },
    {
     "name": "stderr",
     "output_type": "stream",
     "text": [
      "\r",
      " 49%|███████████████████████████████████████▎                                         | 52/107 [06:35<06:27,  7.05s/it]"
     ]
    },
    {
     "name": "stdout",
     "output_type": "stream",
     "text": [
      "T.J. Warren\n",
      "Duane Washington Jr.\n"
     ]
    },
    {
     "name": "stderr",
     "output_type": "stream",
     "text": [
      "\r",
      " 50%|████████████████████████████████████████                                         | 53/107 [06:41<06:06,  6.79s/it]"
     ]
    },
    {
     "name": "stdout",
     "output_type": "stream",
     "text": [
      "Duane Washington Jr.\n",
      "P.J. Washington\n",
      "P.J. Washington\n"
     ]
    },
    {
     "name": "stderr",
     "output_type": "stream",
     "text": [
      "\r",
      " 50%|████████████████████████████████████████▉                                        | 54/107 [06:49<06:12,  7.03s/it]"
     ]
    },
    {
     "name": "stdout",
     "output_type": "stream",
     "text": [
      "P.J. Washington\n",
      "TyTy Washington Jr.\n"
     ]
    },
    {
     "name": "stderr",
     "output_type": "stream",
     "text": [
      "\r",
      " 51%|█████████████████████████████████████████▋                                       | 55/107 [06:52<05:11,  5.99s/it]"
     ]
    },
    {
     "name": "stdout",
     "output_type": "stream",
     "text": [
      "TyTy Washington Jr.\n",
      "Yuta Watanabe\n",
      "Yuta Watanabe\n"
     ]
    },
    {
     "name": "stderr",
     "output_type": "stream",
     "text": [
      "\r",
      " 52%|██████████████████████████████████████████▍                                      | 56/107 [07:01<05:42,  6.71s/it]"
     ]
    },
    {
     "name": "stdout",
     "output_type": "stream",
     "text": [
      "Yuta Watanabe\n",
      "Lindy Waters III\n",
      "Lindy Waters III\n"
     ]
    },
    {
     "name": "stderr",
     "output_type": "stream",
     "text": [
      "\r",
      " 53%|███████████████████████████████████████████▏                                     | 57/107 [07:11<06:24,  7.69s/it]"
     ]
    },
    {
     "name": "stdout",
     "output_type": "stream",
     "text": [
      "Lindy Waters III\n",
      "Tremont Waters\n",
      "Tremont Waters\n"
     ]
    },
    {
     "name": "stderr",
     "output_type": "stream",
     "text": [
      "\r",
      " 54%|███████████████████████████████████████████▉                                     | 58/107 [07:18<06:18,  7.71s/it]"
     ]
    },
    {
     "name": "stdout",
     "output_type": "stream",
     "text": [
      "Tremont Waters\n",
      "Trendon Watford\n",
      "Trendon Watford\n"
     ]
    },
    {
     "name": "stderr",
     "output_type": "stream",
     "text": [
      "\r",
      " 55%|████████████████████████████████████████████▋                                    | 59/107 [07:26<06:15,  7.82s/it]"
     ]
    },
    {
     "name": "stdout",
     "output_type": "stream",
     "text": [
      "Trendon Watford\n",
      "Peyton Watson\n"
     ]
    },
    {
     "name": "stderr",
     "output_type": "stream",
     "text": [
      "\r",
      " 56%|█████████████████████████████████████████████▍                                   | 60/107 [07:34<06:01,  7.69s/it]"
     ]
    },
    {
     "name": "stdout",
     "output_type": "stream",
     "text": [
      "Peyton Watson\n",
      "Quinndary Weatherspoon\n",
      "Quinndary Weatherspoon\n"
     ]
    },
    {
     "name": "stderr",
     "output_type": "stream",
     "text": [
      "\r",
      " 57%|██████████████████████████████████████████████▏                                  | 61/107 [07:43<06:18,  8.22s/it]"
     ]
    },
    {
     "name": "stdout",
     "output_type": "stream",
     "text": [
      "Quinndary Weatherspoon\n"
     ]
    },
    {
     "name": "stderr",
     "output_type": "stream",
     "text": [
      "\r",
      " 58%|██████████████████████████████████████████████▉                                  | 62/107 [07:47<05:08,  6.85s/it]"
     ]
    },
    {
     "name": "stdout",
     "output_type": "stream",
     "text": [
      "Thomas Welsh\n"
     ]
    },
    {
     "name": "stderr",
     "output_type": "stream",
     "text": [
      "\r",
      " 59%|███████████████████████████████████████████████▋                                 | 63/107 [07:49<03:55,  5.35s/it]"
     ]
    },
    {
     "name": "stdout",
     "output_type": "stream",
     "text": [
      "Victor Wembanyama\n",
      "Blake Wesley\n"
     ]
    },
    {
     "name": "stderr",
     "output_type": "stream",
     "text": [
      "\r",
      " 60%|████████████████████████████████████████████████▍                                | 64/107 [07:52<03:24,  4.75s/it]"
     ]
    },
    {
     "name": "stdout",
     "output_type": "stream",
     "text": [
      "Blake Wesley\n",
      "Russell Westbrook\n",
      "Russell Westbrook\n"
     ]
    },
    {
     "name": "stderr",
     "output_type": "stream",
     "text": [
      "\r",
      " 61%|█████████████████████████████████████████████████▏                               | 65/107 [07:59<03:49,  5.47s/it]"
     ]
    },
    {
     "name": "stdout",
     "output_type": "stream",
     "text": [
      "Russell Westbrook\n",
      "Coby White\n",
      "Coby White\n"
     ]
    },
    {
     "name": "stderr",
     "output_type": "stream",
     "text": [
      "\r",
      " 62%|█████████████████████████████████████████████████▉                               | 66/107 [08:08<04:21,  6.37s/it]"
     ]
    },
    {
     "name": "stdout",
     "output_type": "stream",
     "text": [
      "Coby White\n",
      "Derrick White\n",
      "Derrick White\n"
     ]
    },
    {
     "name": "stderr",
     "output_type": "stream",
     "text": [
      "\r",
      " 63%|██████████████████████████████████████████████████▋                              | 67/107 [08:20<05:26,  8.15s/it]"
     ]
    },
    {
     "name": "stdout",
     "output_type": "stream",
     "text": [
      "Derrick White\n",
      "Jack White\n"
     ]
    },
    {
     "name": "stderr",
     "output_type": "stream",
     "text": [
      "\r",
      " 64%|███████████████████████████████████████████████████▍                             | 68/107 [08:24<04:29,  6.90s/it]"
     ]
    },
    {
     "name": "stdout",
     "output_type": "stream",
     "text": [
      "Jack White\n",
      "Okaro White\n",
      "Okaro White\n"
     ]
    },
    {
     "name": "stderr",
     "output_type": "stream",
     "text": [
      "\r",
      " 64%|████████████████████████████████████████████████████▏                            | 69/107 [08:38<05:40,  8.95s/it]"
     ]
    },
    {
     "name": "stdout",
     "output_type": "stream",
     "text": [
      "Okaro White\n"
     ]
    },
    {
     "name": "stderr",
     "output_type": "stream",
     "text": [
      "\r",
      " 65%|████████████████████████████████████████████████████▉                            | 70/107 [08:42<04:36,  7.48s/it]"
     ]
    },
    {
     "name": "stdout",
     "output_type": "stream",
     "text": [
      "Cam Whitmore\n",
      "Joe Wieskamp\n"
     ]
    },
    {
     "name": "stderr",
     "output_type": "stream",
     "text": [
      "\r",
      " 66%|█████████████████████████████████████████████████████▋                           | 71/107 [08:46<03:55,  6.54s/it]"
     ]
    },
    {
     "name": "stdout",
     "output_type": "stream",
     "text": [
      "Joe Wieskamp\n",
      "Aaron Wiggins\n",
      "Aaron Wiggins\n"
     ]
    },
    {
     "name": "stderr",
     "output_type": "stream",
     "text": [
      "\r",
      " 67%|██████████████████████████████████████████████████████▌                          | 72/107 [08:54<03:57,  6.78s/it]"
     ]
    },
    {
     "name": "stdout",
     "output_type": "stream",
     "text": [
      "Aaron Wiggins\n",
      "Andrew Wiggins\n",
      "Andrew Wiggins\n"
     ]
    },
    {
     "name": "stderr",
     "output_type": "stream",
     "text": [
      "\r",
      " 68%|███████████████████████████████████████████████████████▎                         | 73/107 [09:06<04:46,  8.41s/it]"
     ]
    },
    {
     "name": "stdout",
     "output_type": "stream",
     "text": [
      "Andrew Wiggins\n",
      "Lindell Wigginton\n",
      "Lindell Wigginton\n"
     ]
    },
    {
     "name": "stderr",
     "output_type": "stream",
     "text": [
      "\r",
      " 69%|████████████████████████████████████████████████████████                         | 74/107 [09:13<04:26,  8.08s/it]"
     ]
    },
    {
     "name": "stdout",
     "output_type": "stream",
     "text": [
      "Lindell Wigginton\n",
      "Alondes Williams\n"
     ]
    },
    {
     "name": "stderr",
     "output_type": "stream",
     "text": [
      "\r",
      " 70%|████████████████████████████████████████████████████████▊                        | 75/107 [09:23<04:38,  8.70s/it]"
     ]
    },
    {
     "name": "stdout",
     "output_type": "stream",
     "text": [
      "Alondes Williams\n",
      "Brandon Williams\n",
      "Brandon Williams\n"
     ]
    },
    {
     "name": "stderr",
     "output_type": "stream",
     "text": [
      "\r",
      " 71%|█████████████████████████████████████████████████████████▌                       | 76/107 [09:33<04:38,  8.98s/it]"
     ]
    },
    {
     "name": "stdout",
     "output_type": "stream",
     "text": [
      "Brandon Williams\n"
     ]
    },
    {
     "name": "stderr",
     "output_type": "stream",
     "text": [
      "\r",
      " 72%|██████████████████████████████████████████████████████████▎                      | 77/107 [09:35<03:30,  7.01s/it]"
     ]
    },
    {
     "name": "stdout",
     "output_type": "stream",
     "text": [
      "Donovan Williams\n",
      "Grant Williams\n",
      "Grant Williams\n"
     ]
    },
    {
     "name": "stderr",
     "output_type": "stream",
     "text": [
      "\r",
      " 73%|███████████████████████████████████████████████████████████                      | 78/107 [09:46<03:54,  8.10s/it]"
     ]
    },
    {
     "name": "stdout",
     "output_type": "stream",
     "text": [
      "Grant Williams\n",
      "Jalen Williams\n"
     ]
    },
    {
     "name": "stderr",
     "output_type": "stream",
     "text": [
      "\r",
      " 74%|███████████████████████████████████████████████████████████▊                     | 79/107 [09:51<03:19,  7.14s/it]"
     ]
    },
    {
     "name": "stdout",
     "output_type": "stream",
     "text": [
      "Jalen Williams\n",
      "Jaylin Williams\n"
     ]
    },
    {
     "name": "stderr",
     "output_type": "stream",
     "text": [
      "\r",
      " 75%|████████████████████████████████████████████████████████████▌                    | 80/107 [09:56<03:00,  6.67s/it]"
     ]
    },
    {
     "name": "stdout",
     "output_type": "stream",
     "text": [
      "Jaylin Williams\n",
      "Jeenathan Williams\n"
     ]
    },
    {
     "name": "stderr",
     "output_type": "stream",
     "text": [
      "\r",
      " 76%|█████████████████████████████████████████████████████████████▎                   | 81/107 [10:01<02:36,  6.01s/it]"
     ]
    },
    {
     "name": "stdout",
     "output_type": "stream",
     "text": [
      "Jeenathan Williams\n",
      "Kenrich Williams\n",
      "Kenrich Williams\n"
     ]
    },
    {
     "name": "stderr",
     "output_type": "stream",
     "text": [
      "\r",
      " 77%|██████████████████████████████████████████████████████████████                   | 82/107 [10:09<02:46,  6.66s/it]"
     ]
    },
    {
     "name": "stdout",
     "output_type": "stream",
     "text": [
      "Kenrich Williams\n"
     ]
    },
    {
     "name": "stderr",
     "output_type": "stream",
     "text": [
      "\r",
      " 78%|██████████████████████████████████████████████████████████████▊                  | 83/107 [10:11<02:09,  5.38s/it]"
     ]
    },
    {
     "name": "stdout",
     "output_type": "stream",
     "text": [
      "Malik Williams\n",
      "Mark Williams\n"
     ]
    },
    {
     "name": "stderr",
     "output_type": "stream",
     "text": [
      "\r",
      " 79%|███████████████████████████████████████████████████████████████▌                 | 84/107 [10:16<01:55,  5.03s/it]"
     ]
    },
    {
     "name": "stdout",
     "output_type": "stream",
     "text": [
      "Mark Williams\n",
      "Patrick Williams\n",
      "Patrick Williams\n"
     ]
    },
    {
     "name": "stderr",
     "output_type": "stream",
     "text": [
      "\r",
      " 79%|████████████████████████████████████████████████████████████████▎                | 85/107 [10:22<02:00,  5.48s/it]"
     ]
    },
    {
     "name": "stdout",
     "output_type": "stream",
     "text": [
      "Patrick Williams\n",
      "Robert Williams\n",
      "Robert Williams\n"
     ]
    },
    {
     "name": "stderr",
     "output_type": "stream",
     "text": [
      "\r",
      " 80%|█████████████████████████████████████████████████████████████████                | 86/107 [10:30<02:08,  6.14s/it]"
     ]
    },
    {
     "name": "stdout",
     "output_type": "stream",
     "text": [
      "Robert Williams\n",
      "Vince Williams Jr.\n"
     ]
    },
    {
     "name": "stderr",
     "output_type": "stream",
     "text": [
      "\r",
      " 81%|█████████████████████████████████████████████████████████████████▊               | 87/107 [10:36<02:01,  6.09s/it]"
     ]
    },
    {
     "name": "stdout",
     "output_type": "stream",
     "text": [
      "Vince Williams Jr.\n",
      "Ziaire Williams\n",
      "Ziaire Williams\n"
     ]
    },
    {
     "name": "stderr",
     "output_type": "stream",
     "text": [
      "\r",
      " 82%|██████████████████████████████████████████████████████████████████▌              | 88/107 [10:45<02:13,  7.03s/it]"
     ]
    },
    {
     "name": "stdout",
     "output_type": "stream",
     "text": [
      "Ziaire Williams\n",
      "Zion Williamson\n",
      "Zion Williamson\n"
     ]
    },
    {
     "name": "stderr",
     "output_type": "stream",
     "text": [
      "\r",
      " 83%|███████████████████████████████████████████████████████████████████▎             | 89/107 [10:52<02:05,  6.95s/it]"
     ]
    },
    {
     "name": "stdout",
     "output_type": "stream",
     "text": [
      "Zion Williamson\n",
      "D.J. Wilson\n",
      "D.J. Wilson\n"
     ]
    },
    {
     "name": "stderr",
     "output_type": "stream",
     "text": [
      "\r",
      " 84%|████████████████████████████████████████████████████████████████████▏            | 90/107 [10:58<01:54,  6.75s/it]"
     ]
    },
    {
     "name": "stdout",
     "output_type": "stream",
     "text": [
      "D.J. Wilson\n"
     ]
    },
    {
     "name": "stderr",
     "output_type": "stream",
     "text": [
      "\r",
      " 85%|████████████████████████████████████████████████████████████████████▉            | 91/107 [11:01<01:31,  5.73s/it]"
     ]
    },
    {
     "name": "stdout",
     "output_type": "stream",
     "text": [
      "Jalen Wilson\n",
      "Dylan Windler\n",
      "Dylan Windler\n"
     ]
    },
    {
     "name": "stderr",
     "output_type": "stream",
     "text": [
      "\r",
      " 86%|█████████████████████████████████████████████████████████████████████▋           | 92/107 [11:11<01:42,  6.83s/it]"
     ]
    },
    {
     "name": "stdout",
     "output_type": "stream",
     "text": [
      "Dylan Windler\n",
      "Justise Winslow\n",
      "Justise Winslow\n"
     ]
    },
    {
     "name": "stderr",
     "output_type": "stream",
     "text": [
      "\r",
      " 87%|██████████████████████████████████████████████████████████████████████▍          | 93/107 [11:19<01:41,  7.22s/it]"
     ]
    },
    {
     "name": "stdout",
     "output_type": "stream",
     "text": [
      "Justise Winslow\n",
      "Cassius Winston\n"
     ]
    },
    {
     "name": "stderr",
     "output_type": "stream",
     "text": [
      "\r",
      " 88%|███████████████████████████████████████████████████████████████████████▏         | 94/107 [11:24<01:25,  6.58s/it]"
     ]
    },
    {
     "name": "stdout",
     "output_type": "stream",
     "text": [
      "Cassius Winston\n",
      "James Wiseman\n",
      "James Wiseman\n"
     ]
    },
    {
     "name": "stderr",
     "output_type": "stream",
     "text": [
      "\r",
      " 89%|███████████████████████████████████████████████████████████████████████▉         | 95/107 [11:36<01:36,  8.06s/it]"
     ]
    },
    {
     "name": "stdout",
     "output_type": "stream",
     "text": [
      "James Wiseman\n"
     ]
    },
    {
     "name": "stderr",
     "output_type": "stream",
     "text": [
      "\r",
      " 90%|████████████████████████████████████████████████████████████████████████▋        | 96/107 [11:39<01:11,  6.54s/it]"
     ]
    },
    {
     "name": "stdout",
     "output_type": "stream",
     "text": [
      "Isaiah Wong\n",
      "Christian Wood\n",
      "Christian Wood\n"
     ]
    },
    {
     "name": "stderr",
     "output_type": "stream",
     "text": [
      "\r",
      " 91%|█████████████████████████████████████████████████████████████████████████▍       | 97/107 [11:47<01:09,  6.98s/it]"
     ]
    },
    {
     "name": "stdout",
     "output_type": "stream",
     "text": [
      "Christian Wood\n",
      "Robert Woodard II\n"
     ]
    },
    {
     "name": "stderr",
     "output_type": "stream",
     "text": [
      "\r",
      " 92%|██████████████████████████████████████████████████████████████████████████▏      | 98/107 [11:50<00:52,  5.85s/it]"
     ]
    },
    {
     "name": "stdout",
     "output_type": "stream",
     "text": [
      "Robert Woodard II\n",
      "Delon Wright\n",
      "Delon Wright\n"
     ]
    },
    {
     "name": "stderr",
     "output_type": "stream",
     "text": [
      "\r",
      " 93%|██████████████████████████████████████████████████████████████████████████▉      | 99/107 [11:56<00:47,  5.95s/it]"
     ]
    },
    {
     "name": "stdout",
     "output_type": "stream",
     "text": [
      "Delon Wright\n",
      "McKinley Wright IV\n"
     ]
    },
    {
     "name": "stderr",
     "output_type": "stream",
     "text": [
      "\r",
      " 93%|██████████████████████████████████████████████████████████████████████████▊     | 100/107 [12:01<00:39,  5.61s/it]"
     ]
    },
    {
     "name": "stdout",
     "output_type": "stream",
     "text": [
      "McKinley Wright IV\n"
     ]
    },
    {
     "name": "stderr",
     "output_type": "stream",
     "text": [
      "\r",
      " 94%|███████████████████████████████████████████████████████████████████████████▌    | 101/107 [12:08<00:36,  6.12s/it]"
     ]
    },
    {
     "name": "stdout",
     "output_type": "stream",
     "text": [
      "Justin Wright-Foreman\n",
      "Gabe York\n"
     ]
    },
    {
     "name": "stderr",
     "output_type": "stream",
     "text": [
      "\r",
      " 95%|████████████████████████████████████████████████████████████████████████████▎   | 102/107 [12:12<00:26,  5.31s/it]"
     ]
    },
    {
     "name": "stdout",
     "output_type": "stream",
     "text": [
      "Gabe York\n",
      "Thaddeus Young\n",
      "Thaddeus Young\n"
     ]
    },
    {
     "name": "stderr",
     "output_type": "stream",
     "text": [
      "\r",
      " 96%|█████████████████████████████████████████████████████████████████████████████   | 103/107 [12:19<00:24,  6.10s/it]"
     ]
    },
    {
     "name": "stdout",
     "output_type": "stream",
     "text": [
      "Thaddeus Young\n",
      "Trae Young\n",
      "Trae Young\n"
     ]
    },
    {
     "name": "stderr",
     "output_type": "stream",
     "text": [
      "\r",
      " 97%|█████████████████████████████████████████████████████████████████████████████▊  | 104/107 [12:26<00:18,  6.29s/it]"
     ]
    },
    {
     "name": "stdout",
     "output_type": "stream",
     "text": [
      "Trae Young\n",
      "Omer Yurtseven\n",
      "Omer Yurtseven\n"
     ]
    },
    {
     "name": "stderr",
     "output_type": "stream",
     "text": [
      "\r",
      " 98%|██████████████████████████████████████████████████████████████████████████████▌ | 105/107 [12:35<00:14,  7.10s/it]"
     ]
    },
    {
     "name": "stdout",
     "output_type": "stream",
     "text": [
      "Omer Yurtseven\n",
      "Cody Zeller\n",
      "Cody Zeller\n"
     ]
    },
    {
     "name": "stderr",
     "output_type": "stream",
     "text": [
      "\r",
      " 99%|███████████████████████████████████████████████████████████████████████████████▎| 106/107 [12:46<00:08,  8.23s/it]"
     ]
    },
    {
     "name": "stdout",
     "output_type": "stream",
     "text": [
      "Cody Zeller\n",
      "Ivica Zubac\n",
      "Ivica Zubac\n"
     ]
    },
    {
     "name": "stderr",
     "output_type": "stream",
     "text": [
      "100%|████████████████████████████████████████████████████████████████████████████████| 107/107 [12:53<00:00,  7.23s/it]"
     ]
    },
    {
     "name": "stdout",
     "output_type": "stream",
     "text": [
      "Ivica Zubac\n"
     ]
    },
    {
     "name": "stderr",
     "output_type": "stream",
     "text": [
      "\n"
     ]
    }
   ],
   "source": [
    "gamelogs = pd.DataFrame( columns = [\"Name\", \"Link\", \"Game\", \"Date\", \"Match Link\", \"Age\", \"Team\",\n",
    "                                   \"Location\", \"Opponent\", \"Result\", \"GS\",\n",
    "                                   \"MP\", \"FG\", \"FGA\", \"FG%\", \"3P\", \"3PA\",\n",
    "                                   \"3P%\", \"FT\", \"FTA\", \"FT%\", \"ORB\", \"DRB\",\n",
    "                                   \"TRB\", \"AST\", \"STL\", \"BLK\", \"TOV\", \"PF\",\n",
    "                                   \"PTS\", \"GmSc\", \"+/-\"])\n",
    "counter = 0\n",
    "for ind in tqdm(players.index):\n",
    "    for url in players[\"Gamelogs\"][ind]:\n",
    "        user_agent_list = [\n",
    "        'Mozilla/5.0 (Windows NT 10.0; Win64; x64) AppleWebKit/537.36 (KHTML, like Gecko) Chrome/93.0.4577.82 Safari/537.36',\n",
    "        'Mozilla/5.0 (iPhone; CPU iPhone OS 14_4_2 like Mac OS X) AppleWebKit/605.1.15 (KHTML, like Gecko) Version/14.0.3 Mobile/15E148 Safari/604.1',\n",
    "        'Mozilla/4.0 (compatible; MSIE 9.0; Windows NT 6.1)',\n",
    "        'Mozilla/5.0 (Windows NT 10.0; Win64; x64) AppleWebKit/537.36 (KHTML, like Gecko) Chrome/87.0.4280.141 Safari/537.36 Edg/87.0.664.75',\n",
    "        'Mozilla/5.0 (Windows NT 10.0; Win64; x64) AppleWebKit/537.36 (KHTML, like Gecko) Chrome/70.0.3538.102 Safari/537.36 Edge/18.18363',]\n",
    "        headers={\"User-Agent\": user_agent_list[random.randint(0, len(user_agent_list)-1)]}\n",
    "        data = req.get(url, headers = headers).text\n",
    "        soup = BeautifulSoup(data,\"html.parser\")\n",
    "        print(players[\"Name\"][ind])\n",
    "        # Regular season gamelog\n",
    "        table = soup.find(\"table\", id=\"pgl_basic\")\n",
    "        if table == None:\n",
    "            continue\n",
    "        # Selects only rows where player played\n",
    "        if table.find(\"tbody\").find_all(\"tr\", id=True) == None:\n",
    "            continue\n",
    "        rows = table.find(\"tbody\").find_all(\"tr\", id=True)\n",
    "        regular = get_gamelog(rows, players[\"Name\"][ind], players[\"Link\"][ind])\n",
    "        gamelogs = pd.concat([gamelogs, regular])\n",
    "        \n",
    "        # Playoffs gamelog\n",
    "        #if soup.find(\"table\", id=\"pgl_basic_playoffs\") != None:\n",
    "        #    table = soup.find(\"table\", id=\"pgl_basic_playoffs\")\n",
    "            # Selects only rows where player played\n",
    "        #    rows = table.find(\"tbody\").find_all(\"tr\", id=True)\n",
    "        #    playoffs = get_gamelog(rows)\n",
    "        \n",
    "        counter+=1\n",
    "        if counter == 90:\n",
    "            gamelogs.to_csv(\"regular.csv\", index=False)\n",
    "            sleep(randint(5,10))\n",
    "            counter=0\n",
    "gamelogs.to_csv(\"regular.csv\", index=False)"
   ]
  },
  {
   "cell_type": "code",
   "execution_count": 8,
   "id": "b8100e48",
   "metadata": {},
   "outputs": [
    {
     "data": {
      "text/html": [
       "<div>\n",
       "<style scoped>\n",
       "    .dataframe tbody tr th:only-of-type {\n",
       "        vertical-align: middle;\n",
       "    }\n",
       "\n",
       "    .dataframe tbody tr th {\n",
       "        vertical-align: top;\n",
       "    }\n",
       "\n",
       "    .dataframe thead th {\n",
       "        text-align: right;\n",
       "    }\n",
       "</style>\n",
       "<table border=\"1\" class=\"dataframe\">\n",
       "  <thead>\n",
       "    <tr style=\"text-align: right;\">\n",
       "      <th></th>\n",
       "      <th>Name</th>\n",
       "      <th>Link</th>\n",
       "      <th>Game</th>\n",
       "      <th>Date</th>\n",
       "      <th>Match Link</th>\n",
       "      <th>Age</th>\n",
       "      <th>Team</th>\n",
       "      <th>Location</th>\n",
       "      <th>Opponent</th>\n",
       "      <th>Result</th>\n",
       "      <th>GS</th>\n",
       "      <th>MP</th>\n",
       "      <th>FG</th>\n",
       "      <th>FGA</th>\n",
       "      <th>FG%</th>\n",
       "      <th>3P</th>\n",
       "      <th>3PA</th>\n",
       "      <th>3P%</th>\n",
       "      <th>FT</th>\n",
       "      <th>FTA</th>\n",
       "      <th>FT%</th>\n",
       "      <th>ORB</th>\n",
       "      <th>DRB</th>\n",
       "      <th>TRB</th>\n",
       "      <th>AST</th>\n",
       "      <th>STL</th>\n",
       "      <th>BLK</th>\n",
       "      <th>TOV</th>\n",
       "      <th>PF</th>\n",
       "      <th>PTS</th>\n",
       "      <th>GmSc</th>\n",
       "      <th>+/-</th>\n",
       "    </tr>\n",
       "  </thead>\n",
       "  <tbody>\n",
       "    <tr>\n",
       "      <th>0</th>\n",
       "      <td>Precious Achiuwa</td>\n",
       "      <td>https://www.basketball-reference.com/players/a/achiupr01.html</td>\n",
       "      <td>1</td>\n",
       "      <td>2023-10-25</td>\n",
       "      <td>https://www.basketball-reference.com/boxscores/202310250TOR.html</td>\n",
       "      <td>24-036</td>\n",
       "      <td>TOR</td>\n",
       "      <td>NaN</td>\n",
       "      <td>MIN</td>\n",
       "      <td>W (+3)</td>\n",
       "      <td>0</td>\n",
       "      <td>24:17</td>\n",
       "      <td>4</td>\n",
       "      <td>9</td>\n",
       "      <td>0.444</td>\n",
       "      <td>0</td>\n",
       "      <td>1</td>\n",
       "      <td>0.000</td>\n",
       "      <td>0</td>\n",
       "      <td>0</td>\n",
       "      <td>NaN</td>\n",
       "      <td>3</td>\n",
       "      <td>5</td>\n",
       "      <td>8</td>\n",
       "      <td>0</td>\n",
       "      <td>0</td>\n",
       "      <td>0</td>\n",
       "      <td>2</td>\n",
       "      <td>1</td>\n",
       "      <td>8</td>\n",
       "      <td>4.5</td>\n",
       "      <td>-5.0</td>\n",
       "    </tr>\n",
       "    <tr>\n",
       "      <th>1</th>\n",
       "      <td>Precious Achiuwa</td>\n",
       "      <td>https://www.basketball-reference.com/players/a/achiupr01.html</td>\n",
       "      <td>2</td>\n",
       "      <td>2023-10-27</td>\n",
       "      <td>https://www.basketball-reference.com/boxscores/202310270CHI.html</td>\n",
       "      <td>24-038</td>\n",
       "      <td>TOR</td>\n",
       "      <td>@</td>\n",
       "      <td>CHI</td>\n",
       "      <td>L (-1)</td>\n",
       "      <td>0</td>\n",
       "      <td>22:38</td>\n",
       "      <td>2</td>\n",
       "      <td>5</td>\n",
       "      <td>0.400</td>\n",
       "      <td>1</td>\n",
       "      <td>3</td>\n",
       "      <td>0.333</td>\n",
       "      <td>3</td>\n",
       "      <td>3</td>\n",
       "      <td>1.000</td>\n",
       "      <td>2</td>\n",
       "      <td>7</td>\n",
       "      <td>9</td>\n",
       "      <td>1</td>\n",
       "      <td>0</td>\n",
       "      <td>0</td>\n",
       "      <td>3</td>\n",
       "      <td>6</td>\n",
       "      <td>8</td>\n",
       "      <td>4.1</td>\n",
       "      <td>-22.0</td>\n",
       "    </tr>\n",
       "    <tr>\n",
       "      <th>2</th>\n",
       "      <td>Precious Achiuwa</td>\n",
       "      <td>https://www.basketball-reference.com/players/a/achiupr01.html</td>\n",
       "      <td>3</td>\n",
       "      <td>2023-10-28</td>\n",
       "      <td>https://www.basketball-reference.com/boxscores/202310280TOR.html</td>\n",
       "      <td>24-039</td>\n",
       "      <td>TOR</td>\n",
       "      <td>NaN</td>\n",
       "      <td>PHI</td>\n",
       "      <td>L (-7)</td>\n",
       "      <td>0</td>\n",
       "      <td>18:15</td>\n",
       "      <td>3</td>\n",
       "      <td>10</td>\n",
       "      <td>0.300</td>\n",
       "      <td>0</td>\n",
       "      <td>1</td>\n",
       "      <td>0.000</td>\n",
       "      <td>0</td>\n",
       "      <td>0</td>\n",
       "      <td>NaN</td>\n",
       "      <td>3</td>\n",
       "      <td>4</td>\n",
       "      <td>7</td>\n",
       "      <td>3</td>\n",
       "      <td>0</td>\n",
       "      <td>1</td>\n",
       "      <td>1</td>\n",
       "      <td>1</td>\n",
       "      <td>6</td>\n",
       "      <td>4.9</td>\n",
       "      <td>5.0</td>\n",
       "    </tr>\n",
       "    <tr>\n",
       "      <th>3</th>\n",
       "      <td>Precious Achiuwa</td>\n",
       "      <td>https://www.basketball-reference.com/players/a/achiupr01.html</td>\n",
       "      <td>4</td>\n",
       "      <td>2023-11-11</td>\n",
       "      <td>https://www.basketball-reference.com/boxscores/202311110BOS.html</td>\n",
       "      <td>24-053</td>\n",
       "      <td>TOR</td>\n",
       "      <td>@</td>\n",
       "      <td>BOS</td>\n",
       "      <td>L (-23)</td>\n",
       "      <td>0</td>\n",
       "      <td>18:31</td>\n",
       "      <td>1</td>\n",
       "      <td>5</td>\n",
       "      <td>0.200</td>\n",
       "      <td>0</td>\n",
       "      <td>2</td>\n",
       "      <td>0.000</td>\n",
       "      <td>0</td>\n",
       "      <td>0</td>\n",
       "      <td>NaN</td>\n",
       "      <td>0</td>\n",
       "      <td>5</td>\n",
       "      <td>5</td>\n",
       "      <td>5</td>\n",
       "      <td>0</td>\n",
       "      <td>0</td>\n",
       "      <td>0</td>\n",
       "      <td>1</td>\n",
       "      <td>2</td>\n",
       "      <td>3.5</td>\n",
       "      <td>-12.0</td>\n",
       "    </tr>\n",
       "    <tr>\n",
       "      <th>4</th>\n",
       "      <td>Precious Achiuwa</td>\n",
       "      <td>https://www.basketball-reference.com/players/a/achiupr01.html</td>\n",
       "      <td>5</td>\n",
       "      <td>2023-11-13</td>\n",
       "      <td>https://www.basketball-reference.com/boxscores/202311130TOR.html</td>\n",
       "      <td>24-055</td>\n",
       "      <td>TOR</td>\n",
       "      <td>NaN</td>\n",
       "      <td>WAS</td>\n",
       "      <td>W (+4)</td>\n",
       "      <td>0</td>\n",
       "      <td>19:16</td>\n",
       "      <td>5</td>\n",
       "      <td>8</td>\n",
       "      <td>0.625</td>\n",
       "      <td>0</td>\n",
       "      <td>1</td>\n",
       "      <td>0.000</td>\n",
       "      <td>0</td>\n",
       "      <td>0</td>\n",
       "      <td>NaN</td>\n",
       "      <td>1</td>\n",
       "      <td>3</td>\n",
       "      <td>4</td>\n",
       "      <td>1</td>\n",
       "      <td>1</td>\n",
       "      <td>0</td>\n",
       "      <td>2</td>\n",
       "      <td>1</td>\n",
       "      <td>10</td>\n",
       "      <td>7.3</td>\n",
       "      <td>8.0</td>\n",
       "    </tr>\n",
       "    <tr>\n",
       "      <th>...</th>\n",
       "      <td>...</td>\n",
       "      <td>...</td>\n",
       "      <td>...</td>\n",
       "      <td>...</td>\n",
       "      <td>...</td>\n",
       "      <td>...</td>\n",
       "      <td>...</td>\n",
       "      <td>...</td>\n",
       "      <td>...</td>\n",
       "      <td>...</td>\n",
       "      <td>...</td>\n",
       "      <td>...</td>\n",
       "      <td>...</td>\n",
       "      <td>...</td>\n",
       "      <td>...</td>\n",
       "      <td>...</td>\n",
       "      <td>...</td>\n",
       "      <td>...</td>\n",
       "      <td>...</td>\n",
       "      <td>...</td>\n",
       "      <td>...</td>\n",
       "      <td>...</td>\n",
       "      <td>...</td>\n",
       "      <td>...</td>\n",
       "      <td>...</td>\n",
       "      <td>...</td>\n",
       "      <td>...</td>\n",
       "      <td>...</td>\n",
       "      <td>...</td>\n",
       "      <td>...</td>\n",
       "      <td>...</td>\n",
       "      <td>...</td>\n",
       "    </tr>\n",
       "    <tr>\n",
       "      <th>82857</th>\n",
       "      <td>Ivica Zubac</td>\n",
       "      <td>https://www.basketball-reference.com/players/z/zubaciv01.html</td>\n",
       "      <td>72</td>\n",
       "      <td>2022-04-01</td>\n",
       "      <td>https://www.basketball-reference.com/boxscores/202204010MIL.html</td>\n",
       "      <td>25-014</td>\n",
       "      <td>LAC</td>\n",
       "      <td>@</td>\n",
       "      <td>MIL</td>\n",
       "      <td>W (+34)</td>\n",
       "      <td>1</td>\n",
       "      <td>21:14</td>\n",
       "      <td>5</td>\n",
       "      <td>7</td>\n",
       "      <td>0.714</td>\n",
       "      <td>0</td>\n",
       "      <td>0</td>\n",
       "      <td>NaN</td>\n",
       "      <td>1</td>\n",
       "      <td>4</td>\n",
       "      <td>0.250</td>\n",
       "      <td>2</td>\n",
       "      <td>1</td>\n",
       "      <td>3</td>\n",
       "      <td>4</td>\n",
       "      <td>0</td>\n",
       "      <td>1</td>\n",
       "      <td>0</td>\n",
       "      <td>1</td>\n",
       "      <td>11</td>\n",
       "      <td>11.7</td>\n",
       "      <td>22.0</td>\n",
       "    </tr>\n",
       "    <tr>\n",
       "      <th>82858</th>\n",
       "      <td>Ivica Zubac</td>\n",
       "      <td>https://www.basketball-reference.com/players/z/zubaciv01.html</td>\n",
       "      <td>73</td>\n",
       "      <td>2022-04-03</td>\n",
       "      <td>https://www.basketball-reference.com/boxscores/202204030LAC.html</td>\n",
       "      <td>25-016</td>\n",
       "      <td>LAC</td>\n",
       "      <td>NaN</td>\n",
       "      <td>NOP</td>\n",
       "      <td>W (+19)</td>\n",
       "      <td>1</td>\n",
       "      <td>24:59</td>\n",
       "      <td>7</td>\n",
       "      <td>9</td>\n",
       "      <td>0.778</td>\n",
       "      <td>0</td>\n",
       "      <td>0</td>\n",
       "      <td>NaN</td>\n",
       "      <td>2</td>\n",
       "      <td>3</td>\n",
       "      <td>0.667</td>\n",
       "      <td>7</td>\n",
       "      <td>7</td>\n",
       "      <td>14</td>\n",
       "      <td>1</td>\n",
       "      <td>0</td>\n",
       "      <td>1</td>\n",
       "      <td>1</td>\n",
       "      <td>3</td>\n",
       "      <td>16</td>\n",
       "      <td>18.3</td>\n",
       "      <td>3.0</td>\n",
       "    </tr>\n",
       "    <tr>\n",
       "      <th>82859</th>\n",
       "      <td>Ivica Zubac</td>\n",
       "      <td>https://www.basketball-reference.com/players/z/zubaciv01.html</td>\n",
       "      <td>74</td>\n",
       "      <td>2022-04-06</td>\n",
       "      <td>https://www.basketball-reference.com/boxscores/202204060LAC.html</td>\n",
       "      <td>25-019</td>\n",
       "      <td>LAC</td>\n",
       "      <td>NaN</td>\n",
       "      <td>PHO</td>\n",
       "      <td>W (+4)</td>\n",
       "      <td>1</td>\n",
       "      <td>25:13</td>\n",
       "      <td>5</td>\n",
       "      <td>6</td>\n",
       "      <td>0.833</td>\n",
       "      <td>0</td>\n",
       "      <td>0</td>\n",
       "      <td>NaN</td>\n",
       "      <td>3</td>\n",
       "      <td>4</td>\n",
       "      <td>0.750</td>\n",
       "      <td>1</td>\n",
       "      <td>10</td>\n",
       "      <td>11</td>\n",
       "      <td>1</td>\n",
       "      <td>0</td>\n",
       "      <td>2</td>\n",
       "      <td>2</td>\n",
       "      <td>4</td>\n",
       "      <td>13</td>\n",
       "      <td>12.6</td>\n",
       "      <td>14.0</td>\n",
       "    </tr>\n",
       "    <tr>\n",
       "      <th>82860</th>\n",
       "      <td>Ivica Zubac</td>\n",
       "      <td>https://www.basketball-reference.com/players/z/zubaciv01.html</td>\n",
       "      <td>75</td>\n",
       "      <td>2022-04-09</td>\n",
       "      <td>https://www.basketball-reference.com/boxscores/202204090LAC.html</td>\n",
       "      <td>25-022</td>\n",
       "      <td>LAC</td>\n",
       "      <td>NaN</td>\n",
       "      <td>SAC</td>\n",
       "      <td>W (+19)</td>\n",
       "      <td>1</td>\n",
       "      <td>24:32</td>\n",
       "      <td>7</td>\n",
       "      <td>11</td>\n",
       "      <td>0.636</td>\n",
       "      <td>0</td>\n",
       "      <td>0</td>\n",
       "      <td>NaN</td>\n",
       "      <td>1</td>\n",
       "      <td>2</td>\n",
       "      <td>0.500</td>\n",
       "      <td>4</td>\n",
       "      <td>8</td>\n",
       "      <td>12</td>\n",
       "      <td>2</td>\n",
       "      <td>0</td>\n",
       "      <td>0</td>\n",
       "      <td>0</td>\n",
       "      <td>4</td>\n",
       "      <td>15</td>\n",
       "      <td>14.7</td>\n",
       "      <td>9.0</td>\n",
       "    </tr>\n",
       "    <tr>\n",
       "      <th>82861</th>\n",
       "      <td>Ivica Zubac</td>\n",
       "      <td>https://www.basketball-reference.com/players/z/zubaciv01.html</td>\n",
       "      <td>76</td>\n",
       "      <td>2022-04-10</td>\n",
       "      <td>https://www.basketball-reference.com/boxscores/202204100LAC.html</td>\n",
       "      <td>25-023</td>\n",
       "      <td>LAC</td>\n",
       "      <td>NaN</td>\n",
       "      <td>OKC</td>\n",
       "      <td>W (+50)</td>\n",
       "      <td>1</td>\n",
       "      <td>23:16</td>\n",
       "      <td>6</td>\n",
       "      <td>10</td>\n",
       "      <td>0.600</td>\n",
       "      <td>0</td>\n",
       "      <td>0</td>\n",
       "      <td>NaN</td>\n",
       "      <td>0</td>\n",
       "      <td>0</td>\n",
       "      <td>NaN</td>\n",
       "      <td>4</td>\n",
       "      <td>7</td>\n",
       "      <td>11</td>\n",
       "      <td>2</td>\n",
       "      <td>0</td>\n",
       "      <td>2</td>\n",
       "      <td>1</td>\n",
       "      <td>2</td>\n",
       "      <td>12</td>\n",
       "      <td>13.3</td>\n",
       "      <td>18.0</td>\n",
       "    </tr>\n",
       "  </tbody>\n",
       "</table>\n",
       "<p>82862 rows × 32 columns</p>\n",
       "</div>"
      ],
      "text/plain": [
       "                   Name  \\\n",
       "0      Precious Achiuwa   \n",
       "1      Precious Achiuwa   \n",
       "2      Precious Achiuwa   \n",
       "3      Precious Achiuwa   \n",
       "4      Precious Achiuwa   \n",
       "...                 ...   \n",
       "82857       Ivica Zubac   \n",
       "82858       Ivica Zubac   \n",
       "82859       Ivica Zubac   \n",
       "82860       Ivica Zubac   \n",
       "82861       Ivica Zubac   \n",
       "\n",
       "                                                                Link  Game  \\\n",
       "0      https://www.basketball-reference.com/players/a/achiupr01.html     1   \n",
       "1      https://www.basketball-reference.com/players/a/achiupr01.html     2   \n",
       "2      https://www.basketball-reference.com/players/a/achiupr01.html     3   \n",
       "3      https://www.basketball-reference.com/players/a/achiupr01.html     4   \n",
       "4      https://www.basketball-reference.com/players/a/achiupr01.html     5   \n",
       "...                                                              ...   ...   \n",
       "82857  https://www.basketball-reference.com/players/z/zubaciv01.html    72   \n",
       "82858  https://www.basketball-reference.com/players/z/zubaciv01.html    73   \n",
       "82859  https://www.basketball-reference.com/players/z/zubaciv01.html    74   \n",
       "82860  https://www.basketball-reference.com/players/z/zubaciv01.html    75   \n",
       "82861  https://www.basketball-reference.com/players/z/zubaciv01.html    76   \n",
       "\n",
       "             Date  \\\n",
       "0      2023-10-25   \n",
       "1      2023-10-27   \n",
       "2      2023-10-28   \n",
       "3      2023-11-11   \n",
       "4      2023-11-13   \n",
       "...           ...   \n",
       "82857  2022-04-01   \n",
       "82858  2022-04-03   \n",
       "82859  2022-04-06   \n",
       "82860  2022-04-09   \n",
       "82861  2022-04-10   \n",
       "\n",
       "                                                             Match Link  \\\n",
       "0      https://www.basketball-reference.com/boxscores/202310250TOR.html   \n",
       "1      https://www.basketball-reference.com/boxscores/202310270CHI.html   \n",
       "2      https://www.basketball-reference.com/boxscores/202310280TOR.html   \n",
       "3      https://www.basketball-reference.com/boxscores/202311110BOS.html   \n",
       "4      https://www.basketball-reference.com/boxscores/202311130TOR.html   \n",
       "...                                                                 ...   \n",
       "82857  https://www.basketball-reference.com/boxscores/202204010MIL.html   \n",
       "82858  https://www.basketball-reference.com/boxscores/202204030LAC.html   \n",
       "82859  https://www.basketball-reference.com/boxscores/202204060LAC.html   \n",
       "82860  https://www.basketball-reference.com/boxscores/202204090LAC.html   \n",
       "82861  https://www.basketball-reference.com/boxscores/202204100LAC.html   \n",
       "\n",
       "          Age Team Location Opponent   Result  GS     MP  FG  FGA    FG%  3P  \\\n",
       "0      24-036  TOR      NaN      MIN   W (+3)   0  24:17   4    9  0.444   0   \n",
       "1      24-038  TOR        @      CHI   L (-1)   0  22:38   2    5  0.400   1   \n",
       "2      24-039  TOR      NaN      PHI   L (-7)   0  18:15   3   10  0.300   0   \n",
       "3      24-053  TOR        @      BOS  L (-23)   0  18:31   1    5  0.200   0   \n",
       "4      24-055  TOR      NaN      WAS   W (+4)   0  19:16   5    8  0.625   0   \n",
       "...       ...  ...      ...      ...      ...  ..    ...  ..  ...    ...  ..   \n",
       "82857  25-014  LAC        @      MIL  W (+34)   1  21:14   5    7  0.714   0   \n",
       "82858  25-016  LAC      NaN      NOP  W (+19)   1  24:59   7    9  0.778   0   \n",
       "82859  25-019  LAC      NaN      PHO   W (+4)   1  25:13   5    6  0.833   0   \n",
       "82860  25-022  LAC      NaN      SAC  W (+19)   1  24:32   7   11  0.636   0   \n",
       "82861  25-023  LAC      NaN      OKC  W (+50)   1  23:16   6   10  0.600   0   \n",
       "\n",
       "       3PA    3P%  FT  FTA    FT%  ORB  DRB  TRB  AST  STL  BLK  TOV  PF  PTS  \\\n",
       "0        1  0.000   0    0    NaN    3    5    8    0    0    0    2   1    8   \n",
       "1        3  0.333   3    3  1.000    2    7    9    1    0    0    3   6    8   \n",
       "2        1  0.000   0    0    NaN    3    4    7    3    0    1    1   1    6   \n",
       "3        2  0.000   0    0    NaN    0    5    5    5    0    0    0   1    2   \n",
       "4        1  0.000   0    0    NaN    1    3    4    1    1    0    2   1   10   \n",
       "...    ...    ...  ..  ...    ...  ...  ...  ...  ...  ...  ...  ...  ..  ...   \n",
       "82857    0    NaN   1    4  0.250    2    1    3    4    0    1    0   1   11   \n",
       "82858    0    NaN   2    3  0.667    7    7   14    1    0    1    1   3   16   \n",
       "82859    0    NaN   3    4  0.750    1   10   11    1    0    2    2   4   13   \n",
       "82860    0    NaN   1    2  0.500    4    8   12    2    0    0    0   4   15   \n",
       "82861    0    NaN   0    0    NaN    4    7   11    2    0    2    1   2   12   \n",
       "\n",
       "       GmSc   +/-  \n",
       "0       4.5  -5.0  \n",
       "1       4.1 -22.0  \n",
       "2       4.9   5.0  \n",
       "3       3.5 -12.0  \n",
       "4       7.3   8.0  \n",
       "...     ...   ...  \n",
       "82857  11.7  22.0  \n",
       "82858  18.3   3.0  \n",
       "82859  12.6  14.0  \n",
       "82860  14.7   9.0  \n",
       "82861  13.3  18.0  \n",
       "\n",
       "[82862 rows x 32 columns]"
      ]
     },
     "execution_count": 8,
     "metadata": {},
     "output_type": "execute_result"
    }
   ],
   "source": [
    "df = pd.read_csv(\"regular.csv\")\n",
    "df"
   ]
  },
  {
   "cell_type": "markdown",
   "id": "0b452ac7",
   "metadata": {},
   "source": [
    "# Scraping Splits"
   ]
  },
  {
   "cell_type": "code",
   "execution_count": 14,
   "id": "c50699bf",
   "metadata": {},
   "outputs": [],
   "source": [
    "def get_split(rows, name, link, year):\n",
    "    split = pd.DataFrame( columns = [\"Name\", \"Link\", \"Year\", \"Split\", \"Value\", \"G\", \"GS\",\n",
    "                                   \"MP\", \"FG\", \"FGA\", \"3P\", \"3PA\", \"FT\", \"FTA\", \n",
    "                                   \"ORB\", \"TRB\", \"AST\", \"STL\", \"BLK\", \"TOV\", \"PF\",\n",
    "                                   \"PTS\", \"FG%\", \"3P%\", \"FT%\", \"TS%\", \"USG%\", \n",
    "                                   \"ORtg\", \"DRtg\", \"+/-\"])\n",
    "    # Iterate through all rows of table\n",
    "    for row in rows:\n",
    "        # Get Split col\n",
    "        spl = row.find(\"th\").text \n",
    "        # Gets all cols\n",
    "        cols = row.find_all(\"td\")        \n",
    "        value = cols[0].text\n",
    "        g = cols[1].text\n",
    "        gs = cols[2].text\n",
    "        mp = cols[3].text\n",
    "        fg = cols[4].text\n",
    "        fga = cols[5].text\n",
    "        three_p = cols[6].text\n",
    "        three_pa = cols[7].text\n",
    "        ft = cols[8].text\n",
    "        fta = cols[9].text\n",
    "        orb = cols[10].text\n",
    "        trb = cols[11].text\n",
    "        ast = cols[12].text\n",
    "        stl = cols[13].text\n",
    "        blk = cols[14].text\n",
    "        tov = cols[15].text\n",
    "        pf = cols[16].text\n",
    "        pts = cols[17].text\n",
    "        fg_perc = cols[19].text\n",
    "        three_p_perc = cols[20].text\n",
    "        ft_perc = cols[21].text\n",
    "        ts_perc = cols[23].text\n",
    "        usg_perc = cols[24].text\n",
    "        ortg = cols[25].text\n",
    "        drtg =cols[26].text\n",
    "        pm = cols[27].text\n",
    "        # Saves info into DataFrame\n",
    "        split = split._append({\"Name\":name, \"Link\": link, \"Year\": year, \"Split\": spl, \"Value\": value, \"G\": g, \"GS\": gs, \"MP\": mp, \"FG\": fg, \"FGA\": fga, \"3P\": three_p, \"3PA\": three_pa, \"FT\": ft, \"FTA\": fta, \"ORB\": orb, \"TRB\": trb, \"AST\": ast, \"STL\": stl, \"BLK\": blk, \"TOV\": tov, \"PF\": pf, \"PTS\": pts, \"FG%\": fg_perc, \"3P%\": three_p_perc, \"FT%\": ft_perc, \"TS%\": ts_perc, \"USG%\": usg_perc, \"ORtg\": ortg, \"DRtg\": drtg, \"+/-\": pm}, ignore_index=True )\n",
    "    return split"
   ]
  },
  {
   "cell_type": "code",
   "execution_count": 28,
   "id": "9863dab1",
   "metadata": {
    "scrolled": true
   },
   "outputs": [
    {
     "name": "stderr",
     "output_type": "stream",
     "text": [
      "  0%|                                                                                          | 0/441 [00:00<?, ?it/s]"
     ]
    },
    {
     "name": "stdout",
     "output_type": "stream",
     "text": [
      "0 Jaren Jackson Jr. https://www.basketball-reference.com/players/j/jacksja02/splits/2024\n",
      "1 Jaren Jackson Jr. https://www.basketball-reference.com/players/j/jacksja02/splits/2023\n"
     ]
    },
    {
     "name": "stderr",
     "output_type": "stream",
     "text": [
      "  0%|▏                                                                                 | 1/441 [00:06<48:41,  6.64s/it]"
     ]
    },
    {
     "name": "stdout",
     "output_type": "stream",
     "text": [
      "2 Jaren Jackson Jr. https://www.basketball-reference.com/players/j/jacksja02/splits/2022\n",
      "3 Josh Jackson https://www.basketball-reference.com/players/j/jacksjo02/splits/2022\n",
      "4 Josh Jackson https://www.basketball-reference.com/players/j/jacksjo02/splits/2021\n"
     ]
    },
    {
     "name": "stderr",
     "output_type": "stream",
     "text": [
      "  0%|▎                                                                                 | 2/441 [00:13<48:08,  6.58s/it]"
     ]
    },
    {
     "name": "stdout",
     "output_type": "stream",
     "text": [
      "5 Josh Jackson https://www.basketball-reference.com/players/j/jacksjo02/splits/2020\n",
      "6 Justin Jackson https://www.basketball-reference.com/players/j/jacksju01/splits/2024\n",
      "7 Justin Jackson https://www.basketball-reference.com/players/j/jacksju01/splits/2023\n"
     ]
    },
    {
     "name": "stderr",
     "output_type": "stream",
     "text": [
      "  1%|▌                                                                                 | 3/441 [00:19<46:27,  6.36s/it]"
     ]
    },
    {
     "name": "stdout",
     "output_type": "stream",
     "text": [
      "8 Justin Jackson https://www.basketball-reference.com/players/j/jacksju01/splits/2022\n",
      "9 Quenton Jackson https://www.basketball-reference.com/players/j/jacksqu01/splits/2024\n"
     ]
    },
    {
     "name": "stderr",
     "output_type": "stream",
     "text": [
      "  1%|▋                                                                                 | 4/441 [00:23<38:54,  5.34s/it]"
     ]
    },
    {
     "name": "stdout",
     "output_type": "stream",
     "text": [
      "10 Quenton Jackson https://www.basketball-reference.com/players/j/jacksqu01/splits/2023\n",
      "11 Reggie Jackson https://www.basketball-reference.com/players/j/jacksre01/splits/2024\n",
      "12 Reggie Jackson https://www.basketball-reference.com/players/j/jacksre01/splits/2023\n"
     ]
    },
    {
     "name": "stderr",
     "output_type": "stream",
     "text": [
      "  1%|▉                                                                                 | 5/441 [00:29<40:29,  5.57s/it]"
     ]
    },
    {
     "name": "stdout",
     "output_type": "stream",
     "text": [
      "13 Reggie Jackson https://www.basketball-reference.com/players/j/jacksre01/splits/2022\n"
     ]
    },
    {
     "name": "stderr",
     "output_type": "stream",
     "text": [
      "  1%|█                                                                                 | 6/441 [00:30<31:24,  4.33s/it]"
     ]
    },
    {
     "name": "stdout",
     "output_type": "stream",
     "text": [
      "14 Trayce Jackson-Davis https://www.basketball-reference.com/players/j/jackstr02/splits/2024\n",
      "15 Justin James https://www.basketball-reference.com/players/j/jamesju01/splits/2021\n"
     ]
    },
    {
     "name": "stderr",
     "output_type": "stream",
     "text": [
      "  2%|█▎                                                                                | 7/441 [00:34<30:09,  4.17s/it]"
     ]
    },
    {
     "name": "stdout",
     "output_type": "stream",
     "text": [
      "16 Justin James https://www.basketball-reference.com/players/j/jamesju01/splits/2020\n",
      "17 LeBron James https://www.basketball-reference.com/players/j/jamesle01/splits/2024\n",
      "18 LeBron James https://www.basketball-reference.com/players/j/jamesle01/splits/2023\n"
     ]
    },
    {
     "name": "stderr",
     "output_type": "stream",
     "text": [
      "  2%|█▍                                                                                | 8/441 [00:41<36:43,  5.09s/it]"
     ]
    },
    {
     "name": "stdout",
     "output_type": "stream",
     "text": [
      "19 LeBron James https://www.basketball-reference.com/players/j/jamesle01/splits/2022\n"
     ]
    },
    {
     "name": "stderr",
     "output_type": "stream",
     "text": [
      "  2%|█▋                                                                                | 9/441 [00:44<30:57,  4.30s/it]"
     ]
    },
    {
     "name": "stdout",
     "output_type": "stream",
     "text": [
      "20 Jaime Jaquez Jr. https://www.basketball-reference.com/players/j/jaqueja01/splits/2024\n",
      "21 DeJon Jarreau https://www.basketball-reference.com/players/j/jarrede01/splits/2024\n",
      "22 DeJon Jarreau https://www.basketball-reference.com/players/j/jarrede01/splits/2023\n"
     ]
    },
    {
     "name": "stderr",
     "output_type": "stream",
     "text": [
      "  2%|█▊                                                                               | 10/441 [00:50<34:29,  4.80s/it]"
     ]
    },
    {
     "name": "stdout",
     "output_type": "stream",
     "text": [
      "22 DeJon Jarreau https://www.basketball-reference.com/players/j/jarrede01/splits/2022\n",
      "23 DaQuan Jeffries https://www.basketball-reference.com/players/j/jeffrda01/splits/2024\n",
      "24 DaQuan Jeffries https://www.basketball-reference.com/players/j/jeffrda01/splits/2023\n"
     ]
    },
    {
     "name": "stderr",
     "output_type": "stream",
     "text": [
      "  2%|██                                                                               | 11/441 [00:55<35:44,  4.99s/it]"
     ]
    },
    {
     "name": "stdout",
     "output_type": "stream",
     "text": [
      "24 DaQuan Jeffries https://www.basketball-reference.com/players/j/jeffrda01/splits/2022\n"
     ]
    },
    {
     "name": "stderr",
     "output_type": "stream",
     "text": [
      "  3%|██▏                                                                              | 12/441 [00:57<29:13,  4.09s/it]"
     ]
    },
    {
     "name": "stdout",
     "output_type": "stream",
     "text": [
      "25 Trey Jemison https://www.basketball-reference.com/players/j/jemistr01/splits/2024\n",
      "26 John Jenkins https://www.basketball-reference.com/players/j/jenkijo01/splits/2019\n",
      "27 John Jenkins https://www.basketball-reference.com/players/j/jenkijo01/splits/2018\n"
     ]
    },
    {
     "name": "stderr",
     "output_type": "stream",
     "text": [
      "  3%|██▍                                                                              | 13/441 [01:03<33:28,  4.69s/it]"
     ]
    },
    {
     "name": "stdout",
     "output_type": "stream",
     "text": [
      "27 John Jenkins https://www.basketball-reference.com/players/j/jenkijo01/splits/2017\n",
      "28 Ty Jerome https://www.basketball-reference.com/players/j/jeromty01/splits/2024\n",
      "29 Ty Jerome https://www.basketball-reference.com/players/j/jeromty01/splits/2023\n"
     ]
    },
    {
     "name": "stderr",
     "output_type": "stream",
     "text": [
      "  3%|██▌                                                                              | 14/441 [01:09<35:45,  5.02s/it]"
     ]
    },
    {
     "name": "stdout",
     "output_type": "stream",
     "text": [
      "30 Ty Jerome https://www.basketball-reference.com/players/j/jeromty01/splits/2022\n",
      "31 Isaiah Joe https://www.basketball-reference.com/players/j/joeis01/splits/2024\n",
      "32 Isaiah Joe https://www.basketball-reference.com/players/j/joeis01/splits/2023\n"
     ]
    },
    {
     "name": "stderr",
     "output_type": "stream",
     "text": [
      "  3%|██▊                                                                              | 15/441 [01:16<39:47,  5.60s/it]"
     ]
    },
    {
     "name": "stdout",
     "output_type": "stream",
     "text": [
      "33 Isaiah Joe https://www.basketball-reference.com/players/j/joeis01/splits/2022\n",
      "34 Alize Johnson https://www.basketball-reference.com/players/j/johnsal02/splits/2023\n",
      "35 Alize Johnson https://www.basketball-reference.com/players/j/johnsal02/splits/2022\n"
     ]
    },
    {
     "name": "stderr",
     "output_type": "stream",
     "text": [
      "  4%|██▉                                                                              | 16/441 [01:23<43:16,  6.11s/it]"
     ]
    },
    {
     "name": "stdout",
     "output_type": "stream",
     "text": [
      "36 Alize Johnson https://www.basketball-reference.com/players/j/johnsal02/splits/2021\n",
      "37 Cameron Johnson https://www.basketball-reference.com/players/j/johnsca02/splits/2024\n",
      "38 Cameron Johnson https://www.basketball-reference.com/players/j/johnsca02/splits/2023\n"
     ]
    },
    {
     "name": "stderr",
     "output_type": "stream",
     "text": [
      "  4%|███                                                                              | 17/441 [01:31<47:10,  6.68s/it]"
     ]
    },
    {
     "name": "stdout",
     "output_type": "stream",
     "text": [
      "39 Cameron Johnson https://www.basketball-reference.com/players/j/johnsca02/splits/2022\n"
     ]
    },
    {
     "name": "stderr",
     "output_type": "stream",
     "text": [
      "  4%|███▎                                                                             | 18/441 [01:34<37:27,  5.31s/it]"
     ]
    },
    {
     "name": "stdout",
     "output_type": "stream",
     "text": [
      "40 David Johnson https://www.basketball-reference.com/players/j/johnsda08/splits/2022\n",
      "41 Jalen Johnson https://www.basketball-reference.com/players/j/johnsja05/splits/2024\n",
      "42 Jalen Johnson https://www.basketball-reference.com/players/j/johnsja05/splits/2023\n"
     ]
    },
    {
     "name": "stderr",
     "output_type": "stream",
     "text": [
      "  4%|███▍                                                                             | 19/441 [01:41<41:30,  5.90s/it]"
     ]
    },
    {
     "name": "stdout",
     "output_type": "stream",
     "text": [
      "43 Jalen Johnson https://www.basketball-reference.com/players/j/johnsja05/splits/2022\n",
      "44 James Johnson https://www.basketball-reference.com/players/j/johnsja01/splits/2024\n",
      "45 James Johnson https://www.basketball-reference.com/players/j/johnsja01/splits/2023\n"
     ]
    },
    {
     "name": "stderr",
     "output_type": "stream",
     "text": [
      "  5%|███▋                                                                             | 20/441 [01:49<46:40,  6.65s/it]"
     ]
    },
    {
     "name": "stdout",
     "output_type": "stream",
     "text": [
      "46 James Johnson https://www.basketball-reference.com/players/j/johnsja01/splits/2022\n",
      "47 Keldon Johnson https://www.basketball-reference.com/players/j/johnske04/splits/2024\n",
      "48 Keldon Johnson https://www.basketball-reference.com/players/j/johnske04/splits/2023\n"
     ]
    },
    {
     "name": "stderr",
     "output_type": "stream",
     "text": [
      "  5%|███▊                                                                             | 21/441 [01:57<49:07,  7.02s/it]"
     ]
    },
    {
     "name": "stdout",
     "output_type": "stream",
     "text": [
      "49 Keldon Johnson https://www.basketball-reference.com/players/j/johnske04/splits/2022\n",
      "50 Keon Johnson https://www.basketball-reference.com/players/j/johnske07/splits/2024\n",
      "51 Keon Johnson https://www.basketball-reference.com/players/j/johnske07/splits/2023\n"
     ]
    },
    {
     "name": "stderr",
     "output_type": "stream",
     "text": [
      "  5%|████                                                                             | 22/441 [02:05<49:52,  7.14s/it]"
     ]
    },
    {
     "name": "stdout",
     "output_type": "stream",
     "text": [
      "52 Keon Johnson https://www.basketball-reference.com/players/j/johnske07/splits/2022\n"
     ]
    },
    {
     "name": "stderr",
     "output_type": "stream",
     "text": [
      "  5%|████▏                                                                            | 23/441 [02:07<39:54,  5.73s/it]"
     ]
    },
    {
     "name": "stdout",
     "output_type": "stream",
     "text": [
      "53 Keyontae Johnson https://www.basketball-reference.com/players/j/johnske08/splits/2024\n",
      "54 Stanley Johnson https://www.basketball-reference.com/players/j/johnsst04/splits/2023\n",
      "55 Stanley Johnson https://www.basketball-reference.com/players/j/johnsst04/splits/2022\n"
     ]
    },
    {
     "name": "stderr",
     "output_type": "stream",
     "text": [
      "  5%|████▍                                                                            | 24/441 [02:15<44:05,  6.34s/it]"
     ]
    },
    {
     "name": "stdout",
     "output_type": "stream",
     "text": [
      "56 Stanley Johnson https://www.basketball-reference.com/players/j/johnsst04/splits/2021\n",
      "57 Nikola JokiÄ https://www.basketball-reference.com/players/j/jokicni01/splits/2024\n",
      "58 Nikola JokiÄ https://www.basketball-reference.com/players/j/jokicni01/splits/2023\n"
     ]
    },
    {
     "name": "stderr",
     "output_type": "stream",
     "text": [
      "  6%|████▌                                                                            | 25/441 [02:24<49:17,  7.11s/it]"
     ]
    },
    {
     "name": "stdout",
     "output_type": "stream",
     "text": [
      "59 Nikola JokiÄ https://www.basketball-reference.com/players/j/jokicni01/splits/2022\n",
      "60 Carlik Jones https://www.basketball-reference.com/players/j/jonesca03/splits/2023\n"
     ]
    },
    {
     "name": "stderr",
     "output_type": "stream",
     "text": [
      "  6%|████▊                                                                            | 26/441 [02:28<44:09,  6.38s/it]"
     ]
    },
    {
     "name": "stdout",
     "output_type": "stream",
     "text": [
      "61 Carlik Jones https://www.basketball-reference.com/players/j/jonesca03/splits/2022\n"
     ]
    },
    {
     "name": "stderr",
     "output_type": "stream",
     "text": [
      "  6%|████▉                                                                            | 27/441 [02:31<36:26,  5.28s/it]"
     ]
    },
    {
     "name": "stdout",
     "output_type": "stream",
     "text": [
      "62 Colby Jones https://www.basketball-reference.com/players/j/jonesco02/splits/2024\n",
      "63 Damian Jones https://www.basketball-reference.com/players/j/jonesda03/splits/2024\n",
      "64 Damian Jones https://www.basketball-reference.com/players/j/jonesda03/splits/2023\n"
     ]
    },
    {
     "name": "stderr",
     "output_type": "stream",
     "text": [
      "  6%|█████▏                                                                           | 28/441 [02:39<42:49,  6.22s/it]"
     ]
    },
    {
     "name": "stdout",
     "output_type": "stream",
     "text": [
      "65 Damian Jones https://www.basketball-reference.com/players/j/jonesda03/splits/2022\n",
      "66 Derrick Jones Jr. https://www.basketball-reference.com/players/j/jonesde02/splits/2024\n",
      "67 Derrick Jones Jr. https://www.basketball-reference.com/players/j/jonesde02/splits/2023\n"
     ]
    },
    {
     "name": "stderr",
     "output_type": "stream",
     "text": [
      "  7%|█████▎                                                                           | 29/441 [02:48<46:45,  6.81s/it]"
     ]
    },
    {
     "name": "stdout",
     "output_type": "stream",
     "text": [
      "68 Derrick Jones Jr. https://www.basketball-reference.com/players/j/jonesde02/splits/2022\n",
      "69 Herbert Jones https://www.basketball-reference.com/players/j/joneshe01/splits/2024\n",
      "70 Herbert Jones https://www.basketball-reference.com/players/j/joneshe01/splits/2023\n"
     ]
    },
    {
     "name": "stderr",
     "output_type": "stream",
     "text": [
      "  7%|█████▌                                                                           | 30/441 [02:57<51:16,  7.48s/it]"
     ]
    },
    {
     "name": "stdout",
     "output_type": "stream",
     "text": [
      "71 Herbert Jones https://www.basketball-reference.com/players/j/joneshe01/splits/2022\n",
      "72 Jemerrio Jones https://www.basketball-reference.com/players/j/jonesje01/splits/2022\n",
      "73 Jemerrio Jones https://www.basketball-reference.com/players/j/jonesje01/splits/2021\n"
     ]
    },
    {
     "name": "stderr",
     "output_type": "stream",
     "text": [
      "  7%|█████▋                                                                           | 31/441 [03:04<51:00,  7.46s/it]"
     ]
    },
    {
     "name": "stdout",
     "output_type": "stream",
     "text": [
      "73 Jemerrio Jones https://www.basketball-reference.com/players/j/jonesje01/splits/2020\n",
      "73 Kai Jones https://www.basketball-reference.com/players/j/joneska01/splits/2023\n"
     ]
    },
    {
     "name": "stderr",
     "output_type": "stream",
     "text": [
      "  7%|█████▉                                                                           | 32/441 [03:09<45:38,  6.69s/it]"
     ]
    },
    {
     "name": "stdout",
     "output_type": "stream",
     "text": [
      "74 Kai Jones https://www.basketball-reference.com/players/j/joneska01/splits/2022\n",
      "75 Mason Jones https://www.basketball-reference.com/players/j/jonesma05/splits/2024\n",
      "76 Mason Jones https://www.basketball-reference.com/players/j/jonesma05/splits/2023\n"
     ]
    },
    {
     "name": "stderr",
     "output_type": "stream",
     "text": [
      "  7%|██████                                                                           | 33/441 [03:16<45:36,  6.71s/it]"
     ]
    },
    {
     "name": "stdout",
     "output_type": "stream",
     "text": [
      "76 Mason Jones https://www.basketball-reference.com/players/j/jonesma05/splits/2022\n",
      "77 Tre Jones https://www.basketball-reference.com/players/j/jonestr01/splits/2024\n",
      "78 Tre Jones https://www.basketball-reference.com/players/j/jonestr01/splits/2023\n"
     ]
    },
    {
     "name": "stderr",
     "output_type": "stream",
     "text": [
      "  8%|██████▏                                                                          | 34/441 [03:25<50:22,  7.43s/it]"
     ]
    },
    {
     "name": "stdout",
     "output_type": "stream",
     "text": [
      "79 Tre Jones https://www.basketball-reference.com/players/j/jonestr01/splits/2022\n",
      "80 Tyus Jones https://www.basketball-reference.com/players/j/jonesty01/splits/2024\n",
      "81 Tyus Jones https://www.basketball-reference.com/players/j/jonesty01/splits/2023\n"
     ]
    },
    {
     "name": "stderr",
     "output_type": "stream",
     "text": [
      "  8%|██████▍                                                                          | 35/441 [03:34<53:42,  7.94s/it]"
     ]
    },
    {
     "name": "stdout",
     "output_type": "stream",
     "text": [
      "82 Tyus Jones https://www.basketball-reference.com/players/j/jonesty01/splits/2022\n",
      "83 DeAndre Jordan https://www.basketball-reference.com/players/j/jordade01/splits/2024\n",
      "84 DeAndre Jordan https://www.basketball-reference.com/players/j/jordade01/splits/2023\n"
     ]
    },
    {
     "name": "stderr",
     "output_type": "stream",
     "text": [
      "  8%|██████▌                                                                          | 36/441 [03:42<54:33,  8.08s/it]"
     ]
    },
    {
     "name": "stdout",
     "output_type": "stream",
     "text": [
      "85 DeAndre Jordan https://www.basketball-reference.com/players/j/jordade01/splits/2022\n",
      "86 Cory Joseph https://www.basketball-reference.com/players/j/josepco01/splits/2024\n",
      "87 Cory Joseph https://www.basketball-reference.com/players/j/josepco01/splits/2023\n"
     ]
    },
    {
     "name": "stderr",
     "output_type": "stream",
     "text": [
      "  8%|██████▊                                                                          | 37/441 [03:51<55:30,  8.24s/it]"
     ]
    },
    {
     "name": "stdout",
     "output_type": "stream",
     "text": [
      "88 Cory Joseph https://www.basketball-reference.com/players/j/josepco01/splits/2022\n",
      "89 Nikola JoviÄ https://www.basketball-reference.com/players/j/jovicni01/splits/2024\n",
      "---------------------------PAUSE-------------------------------\n"
     ]
    },
    {
     "name": "stderr",
     "output_type": "stream",
     "text": [
      "  9%|██████▊                                                                        | 38/441 [04:02<1:01:35,  9.17s/it]"
     ]
    },
    {
     "name": "stdout",
     "output_type": "stream",
     "text": [
      "0 Nikola JoviÄ https://www.basketball-reference.com/players/j/jovicni01/splits/2023\n",
      "1 Johnny Juzang https://www.basketball-reference.com/players/j/juzanjo01/splits/2024\n"
     ]
    },
    {
     "name": "stderr",
     "output_type": "stream",
     "text": [
      "  9%|███████▏                                                                         | 39/441 [04:07<52:32,  7.84s/it]"
     ]
    },
    {
     "name": "stdout",
     "output_type": "stream",
     "text": [
      "2 Johnny Juzang https://www.basketball-reference.com/players/j/juzanjo01/splits/2023\n",
      "3 Mfiondu Kabengele https://www.basketball-reference.com/players/k/kabenmf01/splits/2023\n",
      "4 Mfiondu Kabengele https://www.basketball-reference.com/players/k/kabenmf01/splits/2022\n"
     ]
    },
    {
     "name": "stderr",
     "output_type": "stream",
     "text": [
      "  9%|███████▎                                                                         | 40/441 [04:14<50:17,  7.53s/it]"
     ]
    },
    {
     "name": "stdout",
     "output_type": "stream",
     "text": [
      "4 Mfiondu Kabengele https://www.basketball-reference.com/players/k/kabenmf01/splits/2021\n",
      "5 Frank Kaminsky https://www.basketball-reference.com/players/k/kaminfr01/splits/2023\n",
      "6 Frank Kaminsky https://www.basketball-reference.com/players/k/kaminfr01/splits/2022\n"
     ]
    },
    {
     "name": "stderr",
     "output_type": "stream",
     "text": [
      "  9%|███████▌                                                                         | 41/441 [04:21<50:21,  7.55s/it]"
     ]
    },
    {
     "name": "stdout",
     "output_type": "stream",
     "text": [
      "7 Frank Kaminsky https://www.basketball-reference.com/players/k/kaminfr01/splits/2021\n"
     ]
    },
    {
     "name": "stderr",
     "output_type": "stream",
     "text": [
      " 10%|███████▋                                                                         | 42/441 [04:25<41:26,  6.23s/it]"
     ]
    },
    {
     "name": "stdout",
     "output_type": "stream",
     "text": [
      "8 Trevor Keels https://www.basketball-reference.com/players/k/keelstr01/splits/2023\n",
      "9 Luke Kennard https://www.basketball-reference.com/players/k/kennalu01/splits/2024\n",
      "10 Luke Kennard https://www.basketball-reference.com/players/k/kennalu01/splits/2023\n"
     ]
    },
    {
     "name": "stderr",
     "output_type": "stream",
     "text": [
      " 10%|███████▉                                                                         | 43/441 [04:33<45:34,  6.87s/it]"
     ]
    },
    {
     "name": "stdout",
     "output_type": "stream",
     "text": [
      "11 Luke Kennard https://www.basketball-reference.com/players/k/kennalu01/splits/2022\n",
      "12 Walker Kessler https://www.basketball-reference.com/players/k/kesslwa01/splits/2024\n"
     ]
    },
    {
     "name": "stderr",
     "output_type": "stream",
     "text": [
      " 10%|████████                                                                         | 44/441 [04:38<42:04,  6.36s/it]"
     ]
    },
    {
     "name": "stdout",
     "output_type": "stream",
     "text": [
      "13 Walker Kessler https://www.basketball-reference.com/players/k/kesslwa01/splits/2023\n",
      "14 Braxton Key https://www.basketball-reference.com/players/k/keybr01/splits/2024\n",
      "15 Braxton Key https://www.basketball-reference.com/players/k/keybr01/splits/2023\n"
     ]
    },
    {
     "name": "stderr",
     "output_type": "stream",
     "text": [
      " 10%|████████▎                                                                        | 45/441 [04:46<44:41,  6.77s/it]"
     ]
    },
    {
     "name": "stdout",
     "output_type": "stream",
     "text": [
      "16 Braxton Key https://www.basketball-reference.com/players/k/keybr01/splits/2022\n",
      "17 George King https://www.basketball-reference.com/players/k/kingge03/splits/2022\n",
      "18 George King https://www.basketball-reference.com/players/k/kingge03/splits/2021\n"
     ]
    },
    {
     "name": "stderr",
     "output_type": "stream",
     "text": [
      " 10%|████████▍                                                                        | 46/441 [04:52<44:04,  6.69s/it]"
     ]
    },
    {
     "name": "stdout",
     "output_type": "stream",
     "text": [
      "18 George King https://www.basketball-reference.com/players/k/kingge03/splits/2020\n",
      "18 Louis King https://www.basketball-reference.com/players/k/kinglo02/splits/2023\n",
      "19 Louis King https://www.basketball-reference.com/players/k/kinglo02/splits/2022\n"
     ]
    },
    {
     "name": "stderr",
     "output_type": "stream",
     "text": [
      " 11%|████████▋                                                                        | 47/441 [04:59<44:02,  6.71s/it]"
     ]
    },
    {
     "name": "stdout",
     "output_type": "stream",
     "text": [
      "20 Louis King https://www.basketball-reference.com/players/k/kinglo02/splits/2021\n",
      "21 Corey Kispert https://www.basketball-reference.com/players/k/kispeco01/splits/2024\n",
      "22 Corey Kispert https://www.basketball-reference.com/players/k/kispeco01/splits/2023\n"
     ]
    },
    {
     "name": "stderr",
     "output_type": "stream",
     "text": [
      " 11%|████████▊                                                                        | 48/441 [05:07<47:01,  7.18s/it]"
     ]
    },
    {
     "name": "stdout",
     "output_type": "stream",
     "text": [
      "23 Corey Kispert https://www.basketball-reference.com/players/k/kispeco01/splits/2022\n",
      "24 Maxi Kleber https://www.basketball-reference.com/players/k/klebima01/splits/2024\n",
      "25 Maxi Kleber https://www.basketball-reference.com/players/k/klebima01/splits/2023\n"
     ]
    },
    {
     "name": "stderr",
     "output_type": "stream",
     "text": [
      " 11%|█████████                                                                        | 49/441 [05:16<49:34,  7.59s/it]"
     ]
    },
    {
     "name": "stdout",
     "output_type": "stream",
     "text": [
      "26 Maxi Kleber https://www.basketball-reference.com/players/k/klebima01/splits/2022\n",
      "27 Nathan Knight https://www.basketball-reference.com/players/k/knighna01/splits/2023\n",
      "28 Nathan Knight https://www.basketball-reference.com/players/k/knighna01/splits/2022\n"
     ]
    },
    {
     "name": "stderr",
     "output_type": "stream",
     "text": [
      " 11%|█████████▏                                                                       | 50/441 [05:25<51:43,  7.94s/it]"
     ]
    },
    {
     "name": "stdout",
     "output_type": "stream",
     "text": [
      "29 Nathan Knight https://www.basketball-reference.com/players/k/knighna01/splits/2021\n",
      "30 Kevin Knox https://www.basketball-reference.com/players/k/knoxke01/splits/2024\n",
      "31 Kevin Knox https://www.basketball-reference.com/players/k/knoxke01/splits/2023\n"
     ]
    },
    {
     "name": "stderr",
     "output_type": "stream",
     "text": [
      " 12%|█████████▎                                                                       | 51/441 [05:33<52:26,  8.07s/it]"
     ]
    },
    {
     "name": "stdout",
     "output_type": "stream",
     "text": [
      "32 Kevin Knox https://www.basketball-reference.com/players/k/knoxke01/splits/2022\n"
     ]
    },
    {
     "name": "stderr",
     "output_type": "stream",
     "text": [
      " 12%|█████████▌                                                                       | 52/441 [05:36<41:43,  6.44s/it]"
     ]
    },
    {
     "name": "stdout",
     "output_type": "stream",
     "text": [
      "33 Christian Koloko https://www.basketball-reference.com/players/k/kolokch01/splits/2023\n",
      "34 John Konchar https://www.basketball-reference.com/players/k/konchjo01/splits/2024\n",
      "35 John Konchar https://www.basketball-reference.com/players/k/konchjo01/splits/2023\n"
     ]
    },
    {
     "name": "stderr",
     "output_type": "stream",
     "text": [
      " 12%|█████████▋                                                                       | 53/441 [05:44<45:04,  6.97s/it]"
     ]
    },
    {
     "name": "stdout",
     "output_type": "stream",
     "text": [
      "36 John Konchar https://www.basketball-reference.com/players/k/konchjo01/splits/2022\n",
      "37 Furkan Korkmaz https://www.basketball-reference.com/players/k/korkmfu01/splits/2024\n",
      "38 Furkan Korkmaz https://www.basketball-reference.com/players/k/korkmfu01/splits/2023\n"
     ]
    },
    {
     "name": "stderr",
     "output_type": "stream",
     "text": [
      " 12%|█████████▉                                                                       | 54/441 [05:52<46:30,  7.21s/it]"
     ]
    },
    {
     "name": "stdout",
     "output_type": "stream",
     "text": [
      "39 Furkan Korkmaz https://www.basketball-reference.com/players/k/korkmfu01/splits/2022\n",
      "40 Luke Kornet https://www.basketball-reference.com/players/k/kornelu01/splits/2024\n",
      "41 Luke Kornet https://www.basketball-reference.com/players/k/kornelu01/splits/2023\n"
     ]
    },
    {
     "name": "stderr",
     "output_type": "stream",
     "text": [
      " 12%|██████████                                                                       | 55/441 [05:59<47:20,  7.36s/it]"
     ]
    },
    {
     "name": "stdout",
     "output_type": "stream",
     "text": [
      "42 Luke Kornet https://www.basketball-reference.com/players/k/kornelu01/splits/2022\n",
      "43 Vit Krejci https://www.basketball-reference.com/players/k/krejcvi01/splits/2024\n",
      "44 Vit Krejci https://www.basketball-reference.com/players/k/krejcvi01/splits/2023\n"
     ]
    },
    {
     "name": "stderr",
     "output_type": "stream",
     "text": [
      " 13%|██████████▎                                                                      | 56/441 [06:08<50:07,  7.81s/it]"
     ]
    },
    {
     "name": "stdout",
     "output_type": "stream",
     "text": [
      "45 Vit Krejci https://www.basketball-reference.com/players/k/krejcvi01/splits/2022\n",
      "46 Jonathan Kuminga https://www.basketball-reference.com/players/k/kuminjo01/splits/2024\n",
      "47 Jonathan Kuminga https://www.basketball-reference.com/players/k/kuminjo01/splits/2023\n"
     ]
    },
    {
     "name": "stderr",
     "output_type": "stream",
     "text": [
      " 13%|██████████▍                                                                      | 57/441 [06:16<50:29,  7.89s/it]"
     ]
    },
    {
     "name": "stdout",
     "output_type": "stream",
     "text": [
      "48 Jonathan Kuminga https://www.basketball-reference.com/players/k/kuminjo01/splits/2022\n",
      "49 Kyle Kuzma https://www.basketball-reference.com/players/k/kuzmaky01/splits/2024\n",
      "50 Kyle Kuzma https://www.basketball-reference.com/players/k/kuzmaky01/splits/2023\n"
     ]
    },
    {
     "name": "stderr",
     "output_type": "stream",
     "text": [
      " 13%|██████████▋                                                                      | 58/441 [06:25<51:58,  8.14s/it]"
     ]
    },
    {
     "name": "stdout",
     "output_type": "stream",
     "text": [
      "51 Kyle Kuzma https://www.basketball-reference.com/players/k/kuzmaky01/splits/2022\n",
      "52 Jake LaRavia https://www.basketball-reference.com/players/l/laravja01/splits/2024\n"
     ]
    },
    {
     "name": "stderr",
     "output_type": "stream",
     "text": [
      " 13%|██████████▊                                                                      | 59/441 [06:30<46:02,  7.23s/it]"
     ]
    },
    {
     "name": "stdout",
     "output_type": "stream",
     "text": [
      "53 Jake LaRavia https://www.basketball-reference.com/players/l/laravja01/splits/2023\n",
      "54 Zach LaVine https://www.basketball-reference.com/players/l/lavinza01/splits/2024\n",
      "55 Zach LaVine https://www.basketball-reference.com/players/l/lavinza01/splits/2023\n"
     ]
    },
    {
     "name": "stderr",
     "output_type": "stream",
     "text": [
      " 14%|███████████                                                                      | 60/441 [06:38<47:44,  7.52s/it]"
     ]
    },
    {
     "name": "stdout",
     "output_type": "stream",
     "text": [
      "56 Zach LaVine https://www.basketball-reference.com/players/l/lavinza01/splits/2022\n",
      "57 Anthony Lamb https://www.basketball-reference.com/players/l/lamban01/splits/2023\n",
      "58 Anthony Lamb https://www.basketball-reference.com/players/l/lamban01/splits/2022\n"
     ]
    },
    {
     "name": "stderr",
     "output_type": "stream",
     "text": [
      " 14%|███████████▏                                                                     | 61/441 [06:46<47:02,  7.43s/it]"
     ]
    },
    {
     "name": "stdout",
     "output_type": "stream",
     "text": [
      "59 Anthony Lamb https://www.basketball-reference.com/players/l/lamban01/splits/2021\n",
      "60 Jeremy Lamb https://www.basketball-reference.com/players/l/lambje01/splits/2022\n",
      "61 Jeremy Lamb https://www.basketball-reference.com/players/l/lambje01/splits/2021\n"
     ]
    },
    {
     "name": "stderr",
     "output_type": "stream",
     "text": [
      " 14%|███████████▍                                                                     | 62/441 [06:54<48:22,  7.66s/it]"
     ]
    },
    {
     "name": "stdout",
     "output_type": "stream",
     "text": [
      "62 Jeremy Lamb https://www.basketball-reference.com/players/l/lambje01/splits/2020\n",
      "63 Jock Landale https://www.basketball-reference.com/players/l/landajo01/splits/2024\n",
      "64 Jock Landale https://www.basketball-reference.com/players/l/landajo01/splits/2023\n"
     ]
    },
    {
     "name": "stderr",
     "output_type": "stream",
     "text": [
      " 14%|███████████▌                                                                     | 63/441 [07:03<51:27,  8.17s/it]"
     ]
    },
    {
     "name": "stdout",
     "output_type": "stream",
     "text": [
      "65 Jock Landale https://www.basketball-reference.com/players/l/landajo01/splits/2022\n",
      "66 Romeo Langford https://www.basketball-reference.com/players/l/langfro01/splits/2023\n",
      "67 Romeo Langford https://www.basketball-reference.com/players/l/langfro01/splits/2022\n"
     ]
    },
    {
     "name": "stderr",
     "output_type": "stream",
     "text": [
      " 15%|███████████▊                                                                     | 64/441 [07:11<50:07,  7.98s/it]"
     ]
    },
    {
     "name": "stdout",
     "output_type": "stream",
     "text": [
      "68 Romeo Langford https://www.basketball-reference.com/players/l/langfro01/splits/2021\n",
      "69 A.J. Lawson https://www.basketball-reference.com/players/l/lawsoaj01/splits/2024\n"
     ]
    },
    {
     "name": "stderr",
     "output_type": "stream",
     "text": [
      " 15%|███████████▉                                                                     | 65/441 [07:15<44:03,  7.03s/it]"
     ]
    },
    {
     "name": "stdout",
     "output_type": "stream",
     "text": [
      "70 A.J. Lawson https://www.basketball-reference.com/players/l/lawsoaj01/splits/2023\n",
      "71 Jake Layman https://www.basketball-reference.com/players/l/laymaja01/splits/2022\n",
      "72 Jake Layman https://www.basketball-reference.com/players/l/laymaja01/splits/2021\n"
     ]
    },
    {
     "name": "stderr",
     "output_type": "stream",
     "text": [
      " 15%|████████████                                                                     | 66/441 [07:24<45:56,  7.35s/it]"
     ]
    },
    {
     "name": "stdout",
     "output_type": "stream",
     "text": [
      "73 Jake Layman https://www.basketball-reference.com/players/l/laymaja01/splits/2020\n",
      "74 Caris LeVert https://www.basketball-reference.com/players/l/leverca01/splits/2024\n",
      "75 Caris LeVert https://www.basketball-reference.com/players/l/leverca01/splits/2023\n"
     ]
    },
    {
     "name": "stderr",
     "output_type": "stream",
     "text": [
      " 15%|████████████▎                                                                    | 67/441 [07:32<48:33,  7.79s/it]"
     ]
    },
    {
     "name": "stdout",
     "output_type": "stream",
     "text": [
      "76 Caris LeVert https://www.basketball-reference.com/players/l/leverca01/splits/2022\n",
      "77 Jalen Lecque https://www.basketball-reference.com/players/l/lecquja01/splits/2021\n"
     ]
    },
    {
     "name": "stderr",
     "output_type": "stream",
     "text": [
      " 15%|████████████▍                                                                    | 68/441 [07:37<42:33,  6.85s/it]"
     ]
    },
    {
     "name": "stdout",
     "output_type": "stream",
     "text": [
      "78 Jalen Lecque https://www.basketball-reference.com/players/l/lecquja01/splits/2020\n",
      "79 Damion Lee https://www.basketball-reference.com/players/l/leeda03/splits/2023\n",
      "80 Damion Lee https://www.basketball-reference.com/players/l/leeda03/splits/2022\n"
     ]
    },
    {
     "name": "stderr",
     "output_type": "stream",
     "text": [
      " 16%|████████████▋                                                                    | 69/441 [07:46<46:04,  7.43s/it]"
     ]
    },
    {
     "name": "stdout",
     "output_type": "stream",
     "text": [
      "81 Damion Lee https://www.basketball-reference.com/players/l/leeda03/splits/2021\n",
      "82 Saben Lee https://www.basketball-reference.com/players/l/leesa01/splits/2024\n",
      "83 Saben Lee https://www.basketball-reference.com/players/l/leesa01/splits/2023\n"
     ]
    },
    {
     "name": "stderr",
     "output_type": "stream",
     "text": [
      " 16%|████████████▊                                                                    | 70/441 [07:55<49:35,  8.02s/it]"
     ]
    },
    {
     "name": "stdout",
     "output_type": "stream",
     "text": [
      "84 Saben Lee https://www.basketball-reference.com/players/l/leesa01/splits/2022\n",
      "85 Alex Len https://www.basketball-reference.com/players/l/lenal01/splits/2024\n",
      "86 Alex Len https://www.basketball-reference.com/players/l/lenal01/splits/2023\n"
     ]
    },
    {
     "name": "stderr",
     "output_type": "stream",
     "text": [
      " 16%|█████████████                                                                    | 71/441 [08:03<49:33,  8.04s/it]"
     ]
    },
    {
     "name": "stdout",
     "output_type": "stream",
     "text": [
      "87 Alex Len https://www.basketball-reference.com/players/l/lenal01/splits/2022\n",
      "88 Kawhi Leonard https://www.basketball-reference.com/players/l/leonaka01/splits/2024\n",
      "89 Kawhi Leonard https://www.basketball-reference.com/players/l/leonaka01/splits/2023\n",
      "---------------------------PAUSE-------------------------------\n"
     ]
    },
    {
     "name": "stderr",
     "output_type": "stream",
     "text": [
      " 16%|████████████▉                                                                  | 72/441 [08:19<1:03:54, 10.39s/it]"
     ]
    },
    {
     "name": "stdout",
     "output_type": "stream",
     "text": [
      "0 Kawhi Leonard https://www.basketball-reference.com/players/l/leonaka01/splits/2022\n",
      "0 Meyers Leonard https://www.basketball-reference.com/players/l/leoname01/splits/2023\n",
      "1 Meyers Leonard https://www.basketball-reference.com/players/l/leoname01/splits/2022\n"
     ]
    },
    {
     "name": "stderr",
     "output_type": "stream",
     "text": [
      " 17%|█████████████▍                                                                   | 73/441 [08:26<57:13,  9.33s/it]"
     ]
    },
    {
     "name": "stdout",
     "output_type": "stream",
     "text": [
      "1 Meyers Leonard https://www.basketball-reference.com/players/l/leoname01/splits/2021\n",
      "2 Kira Lewis Jr. https://www.basketball-reference.com/players/l/lewiski01/splits/2024\n",
      "3 Kira Lewis Jr. https://www.basketball-reference.com/players/l/lewiski01/splits/2023\n"
     ]
    },
    {
     "name": "stderr",
     "output_type": "stream",
     "text": [
      " 17%|█████████████▌                                                                   | 74/441 [08:34<54:08,  8.85s/it]"
     ]
    },
    {
     "name": "stdout",
     "output_type": "stream",
     "text": [
      "4 Kira Lewis Jr. https://www.basketball-reference.com/players/l/lewiski01/splits/2022\n"
     ]
    },
    {
     "name": "stderr",
     "output_type": "stream",
     "text": [
      " 17%|█████████████▊                                                                   | 75/441 [08:36<42:32,  6.97s/it]"
     ]
    },
    {
     "name": "stdout",
     "output_type": "stream",
     "text": [
      "5 Maxwell Lewis https://www.basketball-reference.com/players/l/lewisma05/splits/2024\n"
     ]
    },
    {
     "name": "stderr",
     "output_type": "stream",
     "text": [
      " 17%|█████████████▉                                                                   | 76/441 [08:39<34:07,  5.61s/it]"
     ]
    },
    {
     "name": "stdout",
     "output_type": "stream",
     "text": [
      "6 E.J. Liddell https://www.basketball-reference.com/players/l/liddeej01/splits/2024\n",
      "7 Damian Lillard https://www.basketball-reference.com/players/l/lillada01/splits/2024\n",
      "8 Damian Lillard https://www.basketball-reference.com/players/l/lillada01/splits/2023\n"
     ]
    },
    {
     "name": "stderr",
     "output_type": "stream",
     "text": [
      " 17%|██████████████▏                                                                  | 77/441 [08:47<38:34,  6.36s/it]"
     ]
    },
    {
     "name": "stdout",
     "output_type": "stream",
     "text": [
      "9 Damian Lillard https://www.basketball-reference.com/players/l/lillada01/splits/2022\n",
      "10 Nassir Little https://www.basketball-reference.com/players/l/littlna01/splits/2024\n",
      "11 Nassir Little https://www.basketball-reference.com/players/l/littlna01/splits/2023\n"
     ]
    },
    {
     "name": "stderr",
     "output_type": "stream",
     "text": [
      " 18%|██████████████▎                                                                  | 78/441 [08:56<43:34,  7.20s/it]"
     ]
    },
    {
     "name": "stdout",
     "output_type": "stream",
     "text": [
      "12 Nassir Little https://www.basketball-reference.com/players/l/littlna01/splits/2022\n"
     ]
    },
    {
     "name": "stderr",
     "output_type": "stream",
     "text": [
      " 18%|██████████████▌                                                                  | 79/441 [08:59<35:17,  5.85s/it]"
     ]
    },
    {
     "name": "stdout",
     "output_type": "stream",
     "text": [
      "13 Dereck Lively II https://www.basketball-reference.com/players/l/livelde01/splits/2024\n",
      "14 Isaiah Livers https://www.basketball-reference.com/players/l/liveris01/splits/2024\n",
      "15 Isaiah Livers https://www.basketball-reference.com/players/l/liveris01/splits/2023\n"
     ]
    },
    {
     "name": "stderr",
     "output_type": "stream",
     "text": [
      " 18%|██████████████▋                                                                  | 80/441 [09:09<42:43,  7.10s/it]"
     ]
    },
    {
     "name": "stdout",
     "output_type": "stream",
     "text": [
      "16 Isaiah Livers https://www.basketball-reference.com/players/l/liveris01/splits/2022\n"
     ]
    },
    {
     "name": "stderr",
     "output_type": "stream",
     "text": [
      " 18%|██████████████▉                                                                  | 81/441 [09:11<34:15,  5.71s/it]"
     ]
    },
    {
     "name": "stdout",
     "output_type": "stream",
     "text": [
      "17 Chris Livingston https://www.basketball-reference.com/players/l/livinch01/splits/2024\n",
      "18 Kenneth Lofton Jr. https://www.basketball-reference.com/players/l/loftoke01/splits/2024\n"
     ]
    },
    {
     "name": "stderr",
     "output_type": "stream",
     "text": [
      " 19%|███████████████                                                                  | 82/441 [09:17<34:51,  5.83s/it]"
     ]
    },
    {
     "name": "stdout",
     "output_type": "stream",
     "text": [
      "19 Kenneth Lofton Jr. https://www.basketball-reference.com/players/l/loftoke01/splits/2023\n",
      "20 Kevon Looney https://www.basketball-reference.com/players/l/looneke01/splits/2024\n",
      "21 Kevon Looney https://www.basketball-reference.com/players/l/looneke01/splits/2023\n"
     ]
    },
    {
     "name": "stderr",
     "output_type": "stream",
     "text": [
      " 19%|███████████████▏                                                                 | 83/441 [09:27<41:21,  6.93s/it]"
     ]
    },
    {
     "name": "stdout",
     "output_type": "stream",
     "text": [
      "22 Kevon Looney https://www.basketball-reference.com/players/l/looneke01/splits/2022\n",
      "23 Brook Lopez https://www.basketball-reference.com/players/l/lopezbr01/splits/2024\n",
      "24 Brook Lopez https://www.basketball-reference.com/players/l/lopezbr01/splits/2023\n"
     ]
    },
    {
     "name": "stderr",
     "output_type": "stream",
     "text": [
      " 19%|███████████████▍                                                                 | 84/441 [09:36<44:30,  7.48s/it]"
     ]
    },
    {
     "name": "stdout",
     "output_type": "stream",
     "text": [
      "25 Brook Lopez https://www.basketball-reference.com/players/l/lopezbr01/splits/2022\n",
      "26 Robin Lopez https://www.basketball-reference.com/players/l/lopezro01/splits/2024\n",
      "27 Robin Lopez https://www.basketball-reference.com/players/l/lopezro01/splits/2023\n"
     ]
    },
    {
     "name": "stderr",
     "output_type": "stream",
     "text": [
      " 19%|███████████████▌                                                                 | 85/441 [09:44<45:16,  7.63s/it]"
     ]
    },
    {
     "name": "stdout",
     "output_type": "stream",
     "text": [
      "28 Robin Lopez https://www.basketball-reference.com/players/l/lopezro01/splits/2022\n",
      "29 Didi Louzada https://www.basketball-reference.com/players/l/louzama01/splits/2022\n"
     ]
    },
    {
     "name": "stderr",
     "output_type": "stream",
     "text": [
      " 20%|███████████████▊                                                                 | 86/441 [09:48<40:00,  6.76s/it]"
     ]
    },
    {
     "name": "stdout",
     "output_type": "stream",
     "text": [
      "30 Didi Louzada https://www.basketball-reference.com/players/l/louzama01/splits/2021\n",
      "31 Kevin Love https://www.basketball-reference.com/players/l/loveke01/splits/2024\n",
      "32 Kevin Love https://www.basketball-reference.com/players/l/loveke01/splits/2023\n"
     ]
    },
    {
     "name": "stderr",
     "output_type": "stream",
     "text": [
      " 20%|███████████████▉                                                                 | 87/441 [09:57<44:03,  7.47s/it]"
     ]
    },
    {
     "name": "stdout",
     "output_type": "stream",
     "text": [
      "33 Kevin Love https://www.basketball-reference.com/players/l/loveke01/splits/2022\n",
      "34 Kyle Lowry https://www.basketball-reference.com/players/l/lowryky01/splits/2024\n",
      "35 Kyle Lowry https://www.basketball-reference.com/players/l/lowryky01/splits/2023\n"
     ]
    },
    {
     "name": "stderr",
     "output_type": "stream",
     "text": [
      " 20%|████████████████▏                                                                | 88/441 [10:07<47:53,  8.14s/it]"
     ]
    },
    {
     "name": "stdout",
     "output_type": "stream",
     "text": [
      "36 Kyle Lowry https://www.basketball-reference.com/players/l/lowryky01/splits/2022\n"
     ]
    },
    {
     "name": "stderr",
     "output_type": "stream",
     "text": [
      " 20%|████████████████▎                                                                | 89/441 [10:10<37:53,  6.46s/it]"
     ]
    },
    {
     "name": "stdout",
     "output_type": "stream",
     "text": [
      "37 Seth Lundy https://www.basketball-reference.com/players/l/lundyse01/splits/2024\n",
      "38 TimothÃ© Luwawu-Cabarrot https://www.basketball-reference.com/players/l/luwawti01/splits/2022\n",
      "39 TimothÃ© Luwawu-Cabarrot https://www.basketball-reference.com/players/l/luwawti01/splits/2021\n"
     ]
    },
    {
     "name": "stderr",
     "output_type": "stream",
     "text": [
      " 20%|████████████████▌                                                                | 90/441 [10:18<40:28,  6.92s/it]"
     ]
    },
    {
     "name": "stdout",
     "output_type": "stream",
     "text": [
      "40 TimothÃ© Luwawu-Cabarrot https://www.basketball-reference.com/players/l/luwawti01/splits/2020\n",
      "41 Trey Lyles https://www.basketball-reference.com/players/l/lylestr01/splits/2024\n",
      "42 Trey Lyles https://www.basketball-reference.com/players/l/lylestr01/splits/2023\n"
     ]
    },
    {
     "name": "stderr",
     "output_type": "stream",
     "text": [
      " 21%|████████████████▋                                                                | 91/441 [10:27<44:40,  7.66s/it]"
     ]
    },
    {
     "name": "stdout",
     "output_type": "stream",
     "text": [
      "43 Trey Lyles https://www.basketball-reference.com/players/l/lylestr01/splits/2022\n",
      "44 ThÃ©o Maledon https://www.basketball-reference.com/players/m/maledth01/splits/2024\n",
      "45 ThÃ©o Maledon https://www.basketball-reference.com/players/m/maledth01/splits/2023\n"
     ]
    },
    {
     "name": "stderr",
     "output_type": "stream",
     "text": [
      " 21%|████████████████▉                                                                | 92/441 [10:36<46:53,  8.06s/it]"
     ]
    },
    {
     "name": "stdout",
     "output_type": "stream",
     "text": [
      "46 ThÃ©o Maledon https://www.basketball-reference.com/players/m/maledth01/splits/2022\n",
      "47 Sandro Mamukelashvili https://www.basketball-reference.com/players/m/mamuksa01/splits/2024\n",
      "48 Sandro Mamukelashvili https://www.basketball-reference.com/players/m/mamuksa01/splits/2023\n"
     ]
    },
    {
     "name": "stderr",
     "output_type": "stream",
     "text": [
      " 21%|█████████████████                                                                | 93/441 [10:45<47:56,  8.27s/it]"
     ]
    },
    {
     "name": "stdout",
     "output_type": "stream",
     "text": [
      "49 Sandro Mamukelashvili https://www.basketball-reference.com/players/m/mamuksa01/splits/2022\n"
     ]
    },
    {
     "name": "stderr",
     "output_type": "stream",
     "text": [
      " 21%|█████████████████▎                                                               | 94/441 [10:47<37:28,  6.48s/it]"
     ]
    },
    {
     "name": "stdout",
     "output_type": "stream",
     "text": [
      "50 Karim ManÃ© https://www.basketball-reference.com/players/m/maneka01/splits/2021\n",
      "51 Terance Mann https://www.basketball-reference.com/players/m/mannte01/splits/2024\n",
      "52 Terance Mann https://www.basketball-reference.com/players/m/mannte01/splits/2023\n"
     ]
    },
    {
     "name": "stderr",
     "output_type": "stream",
     "text": [
      " 22%|█████████████████▍                                                               | 95/441 [10:56<40:50,  7.08s/it]"
     ]
    },
    {
     "name": "stdout",
     "output_type": "stream",
     "text": [
      "53 Terance Mann https://www.basketball-reference.com/players/m/mannte01/splits/2022\n",
      "54 Tre Mann https://www.basketball-reference.com/players/m/manntr01/splits/2024\n",
      "55 Tre Mann https://www.basketball-reference.com/players/m/manntr01/splits/2023\n"
     ]
    },
    {
     "name": "stderr",
     "output_type": "stream",
     "text": [
      " 22%|█████████████████▋                                                               | 96/441 [11:04<42:19,  7.36s/it]"
     ]
    },
    {
     "name": "stdout",
     "output_type": "stream",
     "text": [
      "56 Tre Mann https://www.basketball-reference.com/players/m/manntr01/splits/2022\n"
     ]
    },
    {
     "name": "stderr",
     "output_type": "stream",
     "text": [
      " 22%|█████████████████▊                                                               | 97/441 [11:07<35:39,  6.22s/it]"
     ]
    },
    {
     "name": "stdout",
     "output_type": "stream",
     "text": [
      "57 Nico Mannion https://www.basketball-reference.com/players/m/mannini01/splits/2021\n",
      "58 Boban MarjanoviÄ https://www.basketball-reference.com/players/m/marjabo01/splits/2024\n",
      "59 Boban MarjanoviÄ https://www.basketball-reference.com/players/m/marjabo01/splits/2023\n"
     ]
    },
    {
     "name": "stderr",
     "output_type": "stream",
     "text": [
      " 22%|██████████████████                                                               | 98/441 [11:16<39:20,  6.88s/it]"
     ]
    },
    {
     "name": "stdout",
     "output_type": "stream",
     "text": [
      "60 Boban MarjanoviÄ https://www.basketball-reference.com/players/m/marjabo01/splits/2022\n",
      "61 Lauri Markkanen https://www.basketball-reference.com/players/m/markkla01/splits/2024\n",
      "62 Lauri Markkanen https://www.basketball-reference.com/players/m/markkla01/splits/2023\n"
     ]
    },
    {
     "name": "stderr",
     "output_type": "stream",
     "text": [
      " 22%|██████████████████▏                                                              | 99/441 [11:25<42:42,  7.49s/it]"
     ]
    },
    {
     "name": "stdout",
     "output_type": "stream",
     "text": [
      "63 Lauri Markkanen https://www.basketball-reference.com/players/m/markkla01/splits/2022\n",
      "64 Naji Marshall https://www.basketball-reference.com/players/m/marshna01/splits/2024\n",
      "65 Naji Marshall https://www.basketball-reference.com/players/m/marshna01/splits/2023\n"
     ]
    },
    {
     "name": "stderr",
     "output_type": "stream",
     "text": [
      " 23%|██████████████████▏                                                             | 100/441 [11:33<44:16,  7.79s/it]"
     ]
    },
    {
     "name": "stdout",
     "output_type": "stream",
     "text": [
      "66 Naji Marshall https://www.basketball-reference.com/players/m/marshna01/splits/2022\n",
      "67 Caleb Martin https://www.basketball-reference.com/players/m/martica02/splits/2024\n",
      "68 Caleb Martin https://www.basketball-reference.com/players/m/martica02/splits/2023\n"
     ]
    },
    {
     "name": "stderr",
     "output_type": "stream",
     "text": [
      " 23%|██████████████████▎                                                             | 101/441 [11:42<45:42,  8.07s/it]"
     ]
    },
    {
     "name": "stdout",
     "output_type": "stream",
     "text": [
      "69 Caleb Martin https://www.basketball-reference.com/players/m/martica02/splits/2022\n",
      "70 Cody Martin https://www.basketball-reference.com/players/m/martico01/splits/2024\n",
      "71 Cody Martin https://www.basketball-reference.com/players/m/martico01/splits/2023\n"
     ]
    },
    {
     "name": "stderr",
     "output_type": "stream",
     "text": [
      " 23%|██████████████████▌                                                             | 102/441 [11:50<45:27,  8.05s/it]"
     ]
    },
    {
     "name": "stdout",
     "output_type": "stream",
     "text": [
      "72 Cody Martin https://www.basketball-reference.com/players/m/martico01/splits/2022\n",
      "73 Kelan Martin https://www.basketball-reference.com/players/m/martike03/splits/2022\n",
      "74 Kelan Martin https://www.basketball-reference.com/players/m/martike03/splits/2021\n"
     ]
    },
    {
     "name": "stderr",
     "output_type": "stream",
     "text": [
      " 23%|██████████████████▋                                                             | 103/441 [11:58<44:56,  7.98s/it]"
     ]
    },
    {
     "name": "stdout",
     "output_type": "stream",
     "text": [
      "75 Kelan Martin https://www.basketball-reference.com/players/m/martike03/splits/2020\n",
      "76 KJ Martin https://www.basketball-reference.com/players/m/martike04/splits/2024\n",
      "77 KJ Martin https://www.basketball-reference.com/players/m/martike04/splits/2023\n"
     ]
    },
    {
     "name": "stderr",
     "output_type": "stream",
     "text": [
      " 24%|██████████████████▊                                                             | 104/441 [12:06<45:07,  8.03s/it]"
     ]
    },
    {
     "name": "stdout",
     "output_type": "stream",
     "text": [
      "78 KJ Martin https://www.basketball-reference.com/players/m/martike04/splits/2022\n"
     ]
    },
    {
     "name": "stderr",
     "output_type": "stream",
     "text": [
      " 24%|███████████████████                                                             | 105/441 [12:08<35:28,  6.33s/it]"
     ]
    },
    {
     "name": "stdout",
     "output_type": "stream",
     "text": [
      "79 Tyrese Martin https://www.basketball-reference.com/players/m/martity01/splits/2023\n",
      "80 Garrison Mathews https://www.basketball-reference.com/players/m/mathega01/splits/2024\n",
      "81 Garrison Mathews https://www.basketball-reference.com/players/m/mathega01/splits/2023\n"
     ]
    },
    {
     "name": "stderr",
     "output_type": "stream",
     "text": [
      " 24%|███████████████████▏                                                            | 106/441 [12:16<37:51,  6.78s/it]"
     ]
    },
    {
     "name": "stdout",
     "output_type": "stream",
     "text": [
      "82 Garrison Mathews https://www.basketball-reference.com/players/m/mathega01/splits/2022\n",
      "83 Dakota Mathias https://www.basketball-reference.com/players/m/mathida01/splits/2022\n"
     ]
    },
    {
     "name": "stderr",
     "output_type": "stream",
     "text": [
      " 24%|███████████████████▍                                                            | 107/441 [12:22<36:58,  6.64s/it]"
     ]
    },
    {
     "name": "stdout",
     "output_type": "stream",
     "text": [
      "84 Dakota Mathias https://www.basketball-reference.com/players/m/mathida01/splits/2021\n",
      "85 Bennedict Mathurin https://www.basketball-reference.com/players/m/mathube01/splits/2024\n"
     ]
    },
    {
     "name": "stderr",
     "output_type": "stream",
     "text": [
      " 24%|███████████████████▌                                                            | 108/441 [12:28<35:33,  6.41s/it]"
     ]
    },
    {
     "name": "stdout",
     "output_type": "stream",
     "text": [
      "86 Bennedict Mathurin https://www.basketball-reference.com/players/m/mathube01/splits/2023\n",
      "87 Wesley Matthews https://www.basketball-reference.com/players/m/matthwe02/splits/2024\n",
      "88 Wesley Matthews https://www.basketball-reference.com/players/m/matthwe02/splits/2023\n",
      "89 Wesley Matthews https://www.basketball-reference.com/players/m/matthwe02/splits/2022\n"
     ]
    },
    {
     "name": "stderr",
     "output_type": "stream",
     "text": [
      " 25%|███████████████████▊                                                            | 109/441 [12:42<47:58,  8.67s/it]"
     ]
    },
    {
     "name": "stdout",
     "output_type": "stream",
     "text": [
      "---------------------------PAUSE-------------------------------\n",
      "0 Tyrese Maxey https://www.basketball-reference.com/players/m/maxeyty01/splits/2024\n",
      "1 Tyrese Maxey https://www.basketball-reference.com/players/m/maxeyty01/splits/2023\n"
     ]
    },
    {
     "name": "stderr",
     "output_type": "stream",
     "text": [
      " 25%|███████████████████▉                                                            | 110/441 [12:50<46:42,  8.47s/it]"
     ]
    },
    {
     "name": "stdout",
     "output_type": "stream",
     "text": [
      "2 Tyrese Maxey https://www.basketball-reference.com/players/m/maxeyty01/splits/2022\n",
      "3 Skylar Mays https://www.basketball-reference.com/players/m/mayssk01/splits/2024\n",
      "4 Skylar Mays https://www.basketball-reference.com/players/m/mayssk01/splits/2023\n"
     ]
    },
    {
     "name": "stderr",
     "output_type": "stream",
     "text": [
      " 25%|████████████████████▏                                                           | 111/441 [12:58<45:30,  8.28s/it]"
     ]
    },
    {
     "name": "stdout",
     "output_type": "stream",
     "text": [
      "5 Skylar Mays https://www.basketball-reference.com/players/m/mayssk01/splits/2022\n",
      "6 Miles McBride https://www.basketball-reference.com/players/m/mcbrimi01/splits/2024\n",
      "7 Miles McBride https://www.basketball-reference.com/players/m/mcbrimi01/splits/2023\n"
     ]
    },
    {
     "name": "stderr",
     "output_type": "stream",
     "text": [
      " 25%|████████████████████▎                                                           | 112/441 [13:07<46:22,  8.46s/it]"
     ]
    },
    {
     "name": "stdout",
     "output_type": "stream",
     "text": [
      "8 Miles McBride https://www.basketball-reference.com/players/m/mcbrimi01/splits/2022\n",
      "9 Patrick McCaw https://www.basketball-reference.com/players/m/mccawpa01/splits/2021\n",
      "10 Patrick McCaw https://www.basketball-reference.com/players/m/mccawpa01/splits/2020\n"
     ]
    },
    {
     "name": "stderr",
     "output_type": "stream",
     "text": [
      " 26%|████████████████████▍                                                           | 113/441 [13:14<44:40,  8.17s/it]"
     ]
    },
    {
     "name": "stdout",
     "output_type": "stream",
     "text": [
      "11 Patrick McCaw https://www.basketball-reference.com/players/m/mccawpa01/splits/2019\n",
      "12 Mac McClung https://www.basketball-reference.com/players/m/mccluma01/splits/2023\n"
     ]
    },
    {
     "name": "stderr",
     "output_type": "stream",
     "text": [
      " 26%|████████████████████▋                                                           | 114/441 [13:19<38:21,  7.04s/it]"
     ]
    },
    {
     "name": "stdout",
     "output_type": "stream",
     "text": [
      "13 Mac McClung https://www.basketball-reference.com/players/m/mccluma01/splits/2022\n",
      "14 CJ McCollum https://www.basketball-reference.com/players/m/mccolcj01/splits/2024\n",
      "15 CJ McCollum https://www.basketball-reference.com/players/m/mccolcj01/splits/2023\n"
     ]
    },
    {
     "name": "stderr",
     "output_type": "stream",
     "text": [
      " 26%|████████████████████▊                                                           | 115/441 [13:27<40:29,  7.45s/it]"
     ]
    },
    {
     "name": "stdout",
     "output_type": "stream",
     "text": [
      "16 CJ McCollum https://www.basketball-reference.com/players/m/mccolcj01/splits/2022\n",
      "17 T.J. McConnell https://www.basketball-reference.com/players/m/mccontj01/splits/2024\n",
      "18 T.J. McConnell https://www.basketball-reference.com/players/m/mccontj01/splits/2023\n"
     ]
    },
    {
     "name": "stderr",
     "output_type": "stream",
     "text": [
      " 26%|█████████████████████                                                           | 116/441 [13:35<41:34,  7.67s/it]"
     ]
    },
    {
     "name": "stdout",
     "output_type": "stream",
     "text": [
      "19 T.J. McConnell https://www.basketball-reference.com/players/m/mccontj01/splits/2022\n",
      "20 Jaden McDaniels https://www.basketball-reference.com/players/m/mcdanja02/splits/2024\n",
      "21 Jaden McDaniels https://www.basketball-reference.com/players/m/mcdanja02/splits/2023\n"
     ]
    },
    {
     "name": "stderr",
     "output_type": "stream",
     "text": [
      " 27%|█████████████████████▏                                                          | 117/441 [13:44<42:34,  7.88s/it]"
     ]
    },
    {
     "name": "stdout",
     "output_type": "stream",
     "text": [
      "22 Jaden McDaniels https://www.basketball-reference.com/players/m/mcdanja02/splits/2022\n",
      "23 Jalen McDaniels https://www.basketball-reference.com/players/m/mcdanja01/splits/2024\n",
      "24 Jalen McDaniels https://www.basketball-reference.com/players/m/mcdanja01/splits/2023\n"
     ]
    },
    {
     "name": "stderr",
     "output_type": "stream",
     "text": [
      " 27%|█████████████████████▍                                                          | 118/441 [13:52<42:42,  7.93s/it]"
     ]
    },
    {
     "name": "stdout",
     "output_type": "stream",
     "text": [
      "25 Jalen McDaniels https://www.basketball-reference.com/players/m/mcdanja01/splits/2022\n",
      "26 Doug McDermott https://www.basketball-reference.com/players/m/mcderdo01/splits/2024\n",
      "27 Doug McDermott https://www.basketball-reference.com/players/m/mcderdo01/splits/2023\n"
     ]
    },
    {
     "name": "stderr",
     "output_type": "stream",
     "text": [
      " 27%|█████████████████████▌                                                          | 119/441 [14:00<43:23,  8.08s/it]"
     ]
    },
    {
     "name": "stdout",
     "output_type": "stream",
     "text": [
      "28 Doug McDermott https://www.basketball-reference.com/players/m/mcderdo01/splits/2022\n"
     ]
    },
    {
     "name": "stderr",
     "output_type": "stream",
     "text": [
      " 27%|█████████████████████▊                                                          | 120/441 [14:03<34:18,  6.41s/it]"
     ]
    },
    {
     "name": "stdout",
     "output_type": "stream",
     "text": [
      "29 Sean McDermott https://www.basketball-reference.com/players/m/mcderse01/splits/2021\n",
      "30 JaVale McGee https://www.basketball-reference.com/players/m/mcgeeja01/splits/2024\n",
      "31 JaVale McGee https://www.basketball-reference.com/players/m/mcgeeja01/splits/2023\n"
     ]
    },
    {
     "name": "stderr",
     "output_type": "stream",
     "text": [
      " 27%|█████████████████████▉                                                          | 121/441 [14:11<37:28,  7.03s/it]"
     ]
    },
    {
     "name": "stdout",
     "output_type": "stream",
     "text": [
      "32 JaVale McGee https://www.basketball-reference.com/players/m/mcgeeja01/splits/2022\n",
      "33 Bryce McGowens https://www.basketball-reference.com/players/m/mcgowbr01/splits/2024\n"
     ]
    },
    {
     "name": "stderr",
     "output_type": "stream",
     "text": [
      " 28%|██████████████████████▏                                                         | 122/441 [14:17<34:56,  6.57s/it]"
     ]
    },
    {
     "name": "stdout",
     "output_type": "stream",
     "text": [
      "34 Bryce McGowens https://www.basketball-reference.com/players/m/mcgowbr01/splits/2023\n",
      "35 Rodney McGruder https://www.basketball-reference.com/players/m/mcgruro01/splits/2023\n",
      "36 Rodney McGruder https://www.basketball-reference.com/players/m/mcgruro01/splits/2022\n"
     ]
    },
    {
     "name": "stderr",
     "output_type": "stream",
     "text": [
      " 28%|██████████████████████▎                                                         | 123/441 [14:25<36:56,  6.97s/it]"
     ]
    },
    {
     "name": "stdout",
     "output_type": "stream",
     "text": [
      "37 Rodney McGruder https://www.basketball-reference.com/players/m/mcgruro01/splits/2021\n",
      "38 Alfonzo McKinnie https://www.basketball-reference.com/players/m/mckinal01/splits/2022\n",
      "39 Alfonzo McKinnie https://www.basketball-reference.com/players/m/mckinal01/splits/2021\n"
     ]
    },
    {
     "name": "stderr",
     "output_type": "stream",
     "text": [
      " 28%|██████████████████████▍                                                         | 124/441 [14:32<38:18,  7.25s/it]"
     ]
    },
    {
     "name": "stdout",
     "output_type": "stream",
     "text": [
      "40 Alfonzo McKinnie https://www.basketball-reference.com/players/m/mckinal01/splits/2020\n"
     ]
    },
    {
     "name": "stderr",
     "output_type": "stream",
     "text": [
      " 28%|██████████████████████▋                                                         | 125/441 [14:35<30:25,  5.78s/it]"
     ]
    },
    {
     "name": "stdout",
     "output_type": "stream",
     "text": [
      "41 JaQuori McLaughlin https://www.basketball-reference.com/players/m/mclauja01/splits/2022\n",
      "42 Jordan McLaughlin https://www.basketball-reference.com/players/m/mclaujo01/splits/2024\n",
      "43 Jordan McLaughlin https://www.basketball-reference.com/players/m/mclaujo01/splits/2023\n"
     ]
    },
    {
     "name": "stderr",
     "output_type": "stream",
     "text": [
      " 29%|██████████████████████▊                                                         | 126/441 [14:43<34:04,  6.49s/it]"
     ]
    },
    {
     "name": "stdout",
     "output_type": "stream",
     "text": [
      "44 Jordan McLaughlin https://www.basketball-reference.com/players/m/mclaujo01/splits/2022\n",
      "45 De'Anthony Melton https://www.basketball-reference.com/players/m/meltode01/splits/2024\n",
      "46 De'Anthony Melton https://www.basketball-reference.com/players/m/meltode01/splits/2023\n"
     ]
    },
    {
     "name": "stderr",
     "output_type": "stream",
     "text": [
      " 29%|███████████████████████                                                         | 127/441 [14:51<36:40,  7.01s/it]"
     ]
    },
    {
     "name": "stdout",
     "output_type": "stream",
     "text": [
      "47 De'Anthony Melton https://www.basketball-reference.com/players/m/meltode01/splits/2022\n"
     ]
    },
    {
     "name": "stderr",
     "output_type": "stream",
     "text": [
      " 29%|███████████████████████▏                                                        | 128/441 [14:54<29:28,  5.65s/it]"
     ]
    },
    {
     "name": "stdout",
     "output_type": "stream",
     "text": [
      "48 Nathan Mensah https://www.basketball-reference.com/players/m/mensana01/splits/2024\n",
      "49 Sam Merrill https://www.basketball-reference.com/players/m/merrisa01/splits/2024\n",
      "50 Sam Merrill https://www.basketball-reference.com/players/m/merrisa01/splits/2023\n"
     ]
    },
    {
     "name": "stderr",
     "output_type": "stream",
     "text": [
      " 29%|███████████████████████▍                                                        | 129/441 [15:01<32:42,  6.29s/it]"
     ]
    },
    {
     "name": "stdout",
     "output_type": "stream",
     "text": [
      "51 Sam Merrill https://www.basketball-reference.com/players/m/merrisa01/splits/2022\n",
      "52 Chimezie Metu https://www.basketball-reference.com/players/m/metuch01/splits/2024\n",
      "53 Chimezie Metu https://www.basketball-reference.com/players/m/metuch01/splits/2023\n"
     ]
    },
    {
     "name": "stderr",
     "output_type": "stream",
     "text": [
      " 29%|███████████████████████▌                                                        | 130/441 [15:10<36:30,  7.04s/it]"
     ]
    },
    {
     "name": "stdout",
     "output_type": "stream",
     "text": [
      "54 Chimezie Metu https://www.basketball-reference.com/players/m/metuch01/splits/2022\n"
     ]
    },
    {
     "name": "stderr",
     "output_type": "stream",
     "text": [
      " 30%|███████████████████████▊                                                        | 131/441 [15:13<29:59,  5.80s/it]"
     ]
    },
    {
     "name": "stdout",
     "output_type": "stream",
     "text": [
      "55 Vasilije MiciÄ https://www.basketball-reference.com/players/m/micicva01/splits/2024\n",
      "56 Khris Middleton https://www.basketball-reference.com/players/m/middlkh01/splits/2024\n",
      "57 Khris Middleton https://www.basketball-reference.com/players/m/middlkh01/splits/2023\n"
     ]
    },
    {
     "name": "stderr",
     "output_type": "stream",
     "text": [
      " 30%|███████████████████████▉                                                        | 132/441 [15:21<33:35,  6.52s/it]"
     ]
    },
    {
     "name": "stdout",
     "output_type": "stream",
     "text": [
      "58 Khris Middleton https://www.basketball-reference.com/players/m/middlkh01/splits/2022\n"
     ]
    },
    {
     "name": "stderr",
     "output_type": "stream",
     "text": [
      " 30%|████████████████████████▏                                                       | 133/441 [15:23<26:49,  5.23s/it]"
     ]
    },
    {
     "name": "stdout",
     "output_type": "stream",
     "text": [
      "59 Eric Mika https://www.basketball-reference.com/players/m/mikaer01/splits/2020\n"
     ]
    },
    {
     "name": "stderr",
     "output_type": "stream",
     "text": [
      " 30%|████████████████████████▎                                                       | 134/441 [15:26<22:57,  4.49s/it]"
     ]
    },
    {
     "name": "stdout",
     "output_type": "stream",
     "text": [
      "60 Brandon Miller https://www.basketball-reference.com/players/m/millebr02/splits/2024\n"
     ]
    },
    {
     "name": "stderr",
     "output_type": "stream",
     "text": [
      " 31%|████████████████████████▍                                                       | 135/441 [15:29<19:45,  3.87s/it]"
     ]
    },
    {
     "name": "stdout",
     "output_type": "stream",
     "text": [
      "61 Jordan Miller https://www.basketball-reference.com/players/m/millejo02/splits/2024\n"
     ]
    },
    {
     "name": "stderr",
     "output_type": "stream",
     "text": [
      " 31%|████████████████████████▋                                                       | 136/441 [15:31<17:21,  3.41s/it]"
     ]
    },
    {
     "name": "stdout",
     "output_type": "stream",
     "text": [
      "62 Leonard Miller https://www.basketball-reference.com/players/m/millele01/splits/2024\n",
      "63 Malcolm Miller https://www.basketball-reference.com/players/m/millema01/splits/2020\n",
      "64 Malcolm Miller https://www.basketball-reference.com/players/m/millema01/splits/2019\n"
     ]
    },
    {
     "name": "stderr",
     "output_type": "stream",
     "text": [
      " 31%|████████████████████████▊                                                       | 137/441 [15:39<23:35,  4.66s/it]"
     ]
    },
    {
     "name": "stdout",
     "output_type": "stream",
     "text": [
      "65 Malcolm Miller https://www.basketball-reference.com/players/m/millema01/splits/2018\n"
     ]
    },
    {
     "name": "stderr",
     "output_type": "stream",
     "text": [
      " 31%|█████████████████████████                                                       | 138/441 [15:41<19:53,  3.94s/it]"
     ]
    },
    {
     "name": "stdout",
     "output_type": "stream",
     "text": [
      "66 Dariq Whitehead https://www.basketball-reference.com/players/w/whiteda01/splits/2024\n",
      "67 Patty Mills https://www.basketball-reference.com/players/m/millspa02/splits/2024\n",
      "68 Patty Mills https://www.basketball-reference.com/players/m/millspa02/splits/2023\n"
     ]
    },
    {
     "name": "stderr",
     "output_type": "stream",
     "text": [
      " 32%|█████████████████████████▏                                                      | 139/441 [15:49<26:15,  5.22s/it]"
     ]
    },
    {
     "name": "stdout",
     "output_type": "stream",
     "text": [
      "69 Patty Mills https://www.basketball-reference.com/players/m/millspa02/splits/2022\n",
      "70 Shake Milton https://www.basketball-reference.com/players/m/miltosh01/splits/2024\n",
      "71 Shake Milton https://www.basketball-reference.com/players/m/miltosh01/splits/2023\n"
     ]
    },
    {
     "name": "stderr",
     "output_type": "stream",
     "text": [
      " 32%|█████████████████████████▍                                                      | 140/441 [15:57<30:50,  6.15s/it]"
     ]
    },
    {
     "name": "stdout",
     "output_type": "stream",
     "text": [
      "72 Shake Milton https://www.basketball-reference.com/players/m/miltosh01/splits/2022\n",
      "73 Justin Minaya https://www.basketball-reference.com/players/m/minayju01/splits/2024\n"
     ]
    },
    {
     "name": "stderr",
     "output_type": "stream",
     "text": [
      " 32%|█████████████████████████▌                                                      | 141/441 [16:03<30:08,  6.03s/it]"
     ]
    },
    {
     "name": "stdout",
     "output_type": "stream",
     "text": [
      "74 Justin Minaya https://www.basketball-reference.com/players/m/minayju01/splits/2023\n",
      "75 Josh Minott https://www.basketball-reference.com/players/m/minotjo01/splits/2024\n"
     ]
    },
    {
     "name": "stderr",
     "output_type": "stream",
     "text": [
      " 32%|█████████████████████████▊                                                      | 142/441 [16:08<28:56,  5.81s/it]"
     ]
    },
    {
     "name": "stdout",
     "output_type": "stream",
     "text": [
      "76 Josh Minott https://www.basketball-reference.com/players/m/minotjo01/splits/2023\n",
      "77 Davion Mitchell https://www.basketball-reference.com/players/m/mitchda01/splits/2024\n",
      "78 Davion Mitchell https://www.basketball-reference.com/players/m/mitchda01/splits/2023\n"
     ]
    },
    {
     "name": "stderr",
     "output_type": "stream",
     "text": [
      " 32%|█████████████████████████▉                                                      | 143/441 [16:16<31:59,  6.44s/it]"
     ]
    },
    {
     "name": "stdout",
     "output_type": "stream",
     "text": [
      "79 Davion Mitchell https://www.basketball-reference.com/players/m/mitchda01/splits/2022\n",
      "80 Donovan Mitchell https://www.basketball-reference.com/players/m/mitchdo01/splits/2024\n",
      "81 Donovan Mitchell https://www.basketball-reference.com/players/m/mitchdo01/splits/2023\n"
     ]
    },
    {
     "name": "stderr",
     "output_type": "stream",
     "text": [
      " 33%|██████████████████████████                                                      | 144/441 [16:25<35:51,  7.24s/it]"
     ]
    },
    {
     "name": "stdout",
     "output_type": "stream",
     "text": [
      "82 Donovan Mitchell https://www.basketball-reference.com/players/m/mitchdo01/splits/2022\n",
      "83 Evan Mobley https://www.basketball-reference.com/players/m/mobleev01/splits/2024\n",
      "84 Evan Mobley https://www.basketball-reference.com/players/m/mobleev01/splits/2023\n"
     ]
    },
    {
     "name": "stderr",
     "output_type": "stream",
     "text": [
      " 33%|██████████████████████████▎                                                     | 145/441 [16:36<40:38,  8.24s/it]"
     ]
    },
    {
     "name": "stdout",
     "output_type": "stream",
     "text": [
      "85 Evan Mobley https://www.basketball-reference.com/players/m/mobleev01/splits/2022\n",
      "86 Isaiah Mobley https://www.basketball-reference.com/players/m/mobleis01/splits/2024\n"
     ]
    },
    {
     "name": "stderr",
     "output_type": "stream",
     "text": [
      " 33%|██████████████████████████▍                                                     | 146/441 [16:41<35:38,  7.25s/it]"
     ]
    },
    {
     "name": "stdout",
     "output_type": "stream",
     "text": [
      "87 Isaiah Mobley https://www.basketball-reference.com/players/m/mobleis01/splits/2023\n",
      "88 Adam Mokoka https://www.basketball-reference.com/players/m/mokokad01/splits/2021\n",
      "89 Adam Mokoka https://www.basketball-reference.com/players/m/mokokad01/splits/2020\n"
     ]
    },
    {
     "name": "stderr",
     "output_type": "stream",
     "text": [
      " 33%|██████████████████████████▋                                                     | 147/441 [16:51<39:23,  8.04s/it]"
     ]
    },
    {
     "name": "stdout",
     "output_type": "stream",
     "text": [
      "---------------------------PAUSE-------------------------------\n"
     ]
    },
    {
     "name": "stderr",
     "output_type": "stream",
     "text": [
      " 34%|██████████████████████████▊                                                     | 148/441 [16:53<30:36,  6.27s/it]"
     ]
    },
    {
     "name": "stdout",
     "output_type": "stream",
     "text": [
      "0 Chima Moneke https://www.basketball-reference.com/players/m/monekch01/splits/2023\n",
      "1 Malik Monk https://www.basketball-reference.com/players/m/monkma01/splits/2024\n",
      "2 Malik Monk https://www.basketball-reference.com/players/m/monkma01/splits/2023\n"
     ]
    },
    {
     "name": "stderr",
     "output_type": "stream",
     "text": [
      " 34%|███████████████████████████                                                     | 149/441 [17:01<33:24,  6.87s/it]"
     ]
    },
    {
     "name": "stdout",
     "output_type": "stream",
     "text": [
      "3 Malik Monk https://www.basketball-reference.com/players/m/monkma01/splits/2022\n",
      "4 Moses Moody https://www.basketball-reference.com/players/m/moodymo01/splits/2024\n",
      "5 Moses Moody https://www.basketball-reference.com/players/m/moodymo01/splits/2023\n"
     ]
    },
    {
     "name": "stderr",
     "output_type": "stream",
     "text": [
      " 34%|███████████████████████████▏                                                    | 150/441 [17:10<35:28,  7.31s/it]"
     ]
    },
    {
     "name": "stdout",
     "output_type": "stream",
     "text": [
      "6 Moses Moody https://www.basketball-reference.com/players/m/moodymo01/splits/2022\n",
      "7 Xavier Moon https://www.basketball-reference.com/players/m/moonxa01/splits/2024\n",
      "8 Xavier Moon https://www.basketball-reference.com/players/m/moonxa01/splits/2023\n"
     ]
    },
    {
     "name": "stderr",
     "output_type": "stream",
     "text": [
      " 34%|███████████████████████████▍                                                    | 151/441 [17:17<35:04,  7.26s/it]"
     ]
    },
    {
     "name": "stdout",
     "output_type": "stream",
     "text": [
      "9 Xavier Moon https://www.basketball-reference.com/players/m/moonxa01/splits/2022\n"
     ]
    },
    {
     "name": "stderr",
     "output_type": "stream",
     "text": [
      " 34%|███████████████████████████▌                                                    | 152/441 [17:19<27:49,  5.78s/it]"
     ]
    },
    {
     "name": "stdout",
     "output_type": "stream",
     "text": [
      "10 Taze Moore https://www.basketball-reference.com/players/m/mooreta02/splits/2024\n",
      "11 Wendell Moore Jr. https://www.basketball-reference.com/players/m/moorewe01/splits/2024\n"
     ]
    },
    {
     "name": "stderr",
     "output_type": "stream",
     "text": [
      " 35%|███████████████████████████▊                                                    | 153/441 [17:24<27:02,  5.63s/it]"
     ]
    },
    {
     "name": "stdout",
     "output_type": "stream",
     "text": [
      "12 Wendell Moore Jr. https://www.basketball-reference.com/players/m/moorewe01/splits/2023\n",
      "13 Ja Morant https://www.basketball-reference.com/players/m/moranja01/splits/2024\n",
      "14 Ja Morant https://www.basketball-reference.com/players/m/moranja01/splits/2023\n"
     ]
    },
    {
     "name": "stderr",
     "output_type": "stream",
     "text": [
      " 35%|███████████████████████████▉                                                    | 154/441 [17:32<29:53,  6.25s/it]"
     ]
    },
    {
     "name": "stdout",
     "output_type": "stream",
     "text": [
      "15 Ja Morant https://www.basketball-reference.com/players/m/moranja01/splits/2022\n",
      "16 Juwan Morgan https://www.basketball-reference.com/players/m/morgaju01/splits/2022\n",
      "17 Juwan Morgan https://www.basketball-reference.com/players/m/morgaju01/splits/2021\n"
     ]
    },
    {
     "name": "stderr",
     "output_type": "stream",
     "text": [
      " 35%|████████████████████████████                                                    | 155/441 [17:39<30:59,  6.50s/it]"
     ]
    },
    {
     "name": "stdout",
     "output_type": "stream",
     "text": [
      "18 Juwan Morgan https://www.basketball-reference.com/players/m/morgaju01/splits/2020\n",
      "19 Marcus Morris https://www.basketball-reference.com/players/m/morrima03/splits/2024\n",
      "20 Marcus Morris https://www.basketball-reference.com/players/m/morrima03/splits/2023\n"
     ]
    },
    {
     "name": "stderr",
     "output_type": "stream",
     "text": [
      " 35%|████████████████████████████▎                                                   | 156/441 [17:49<35:28,  7.47s/it]"
     ]
    },
    {
     "name": "stdout",
     "output_type": "stream",
     "text": [
      "21 Marcus Morris https://www.basketball-reference.com/players/m/morrima03/splits/2022\n",
      "22 Markieff Morris https://www.basketball-reference.com/players/m/morrima02/splits/2024\n",
      "23 Markieff Morris https://www.basketball-reference.com/players/m/morrima02/splits/2023\n"
     ]
    },
    {
     "name": "stderr",
     "output_type": "stream",
     "text": [
      " 36%|████████████████████████████▍                                                   | 157/441 [17:56<35:25,  7.48s/it]"
     ]
    },
    {
     "name": "stdout",
     "output_type": "stream",
     "text": [
      "24 Markieff Morris https://www.basketball-reference.com/players/m/morrima02/splits/2022\n",
      "25 Monte Morris https://www.basketball-reference.com/players/m/morrimo01/splits/2024\n",
      "26 Monte Morris https://www.basketball-reference.com/players/m/morrimo01/splits/2023\n"
     ]
    },
    {
     "name": "stderr",
     "output_type": "stream",
     "text": [
      " 36%|████████████████████████████▋                                                   | 158/441 [18:06<38:01,  8.06s/it]"
     ]
    },
    {
     "name": "stdout",
     "output_type": "stream",
     "text": [
      "27 Monte Morris https://www.basketball-reference.com/players/m/morrimo01/splits/2022\n",
      "28 Emmanuel Mudiay https://www.basketball-reference.com/players/m/mudiaem01/splits/2022\n",
      "29 Emmanuel Mudiay https://www.basketball-reference.com/players/m/mudiaem01/splits/2021\n"
     ]
    },
    {
     "name": "stderr",
     "output_type": "stream",
     "text": [
      " 36%|████████████████████████████▊                                                   | 159/441 [18:14<37:33,  7.99s/it]"
     ]
    },
    {
     "name": "stdout",
     "output_type": "stream",
     "text": [
      "29 Emmanuel Mudiay https://www.basketball-reference.com/players/m/mudiaem01/splits/2020\n",
      "30 Mychal Mulder https://www.basketball-reference.com/players/m/muldemy01/splits/2022\n",
      "31 Mychal Mulder https://www.basketball-reference.com/players/m/muldemy01/splits/2021\n"
     ]
    },
    {
     "name": "stderr",
     "output_type": "stream",
     "text": [
      " 36%|█████████████████████████████                                                   | 160/441 [18:21<36:24,  7.77s/it]"
     ]
    },
    {
     "name": "stdout",
     "output_type": "stream",
     "text": [
      "32 Mychal Mulder https://www.basketball-reference.com/players/m/muldemy01/splits/2020\n",
      "33 Trey Murphy III https://www.basketball-reference.com/players/m/murphtr02/splits/2024\n",
      "34 Trey Murphy III https://www.basketball-reference.com/players/m/murphtr02/splits/2023\n"
     ]
    },
    {
     "name": "stderr",
     "output_type": "stream",
     "text": [
      " 37%|█████████████████████████████▏                                                  | 161/441 [18:28<35:56,  7.70s/it]"
     ]
    },
    {
     "name": "stdout",
     "output_type": "stream",
     "text": [
      "35 Trey Murphy III https://www.basketball-reference.com/players/m/murphtr02/splits/2022\n",
      "36 Dejounte Murray https://www.basketball-reference.com/players/m/murrade01/splits/2024\n",
      "37 Dejounte Murray https://www.basketball-reference.com/players/m/murrade01/splits/2023\n"
     ]
    },
    {
     "name": "stderr",
     "output_type": "stream",
     "text": [
      " 37%|█████████████████████████████▍                                                  | 162/441 [18:37<37:02,  7.97s/it]"
     ]
    },
    {
     "name": "stdout",
     "output_type": "stream",
     "text": [
      "38 Dejounte Murray https://www.basketball-reference.com/players/m/murrade01/splits/2022\n",
      "39 Jamal Murray https://www.basketball-reference.com/players/m/murraja01/splits/2024\n",
      "40 Jamal Murray https://www.basketball-reference.com/players/m/murraja01/splits/2023\n"
     ]
    },
    {
     "name": "stderr",
     "output_type": "stream",
     "text": [
      " 37%|█████████████████████████████▌                                                  | 163/441 [18:45<36:34,  7.90s/it]"
     ]
    },
    {
     "name": "stdout",
     "output_type": "stream",
     "text": [
      "41 Jamal Murray https://www.basketball-reference.com/players/m/murraja01/splits/2022\n",
      "41 Keegan Murray https://www.basketball-reference.com/players/m/murrake02/splits/2024\n"
     ]
    },
    {
     "name": "stderr",
     "output_type": "stream",
     "text": [
      " 37%|█████████████████████████████▊                                                  | 164/441 [18:50<32:35,  7.06s/it]"
     ]
    },
    {
     "name": "stdout",
     "output_type": "stream",
     "text": [
      "42 Keegan Murray https://www.basketball-reference.com/players/m/murrake02/splits/2023\n"
     ]
    },
    {
     "name": "stderr",
     "output_type": "stream",
     "text": [
      " 37%|█████████████████████████████▉                                                  | 165/441 [18:54<28:10,  6.13s/it]"
     ]
    },
    {
     "name": "stdout",
     "output_type": "stream",
     "text": [
      "43 Kris Murray https://www.basketball-reference.com/players/m/murrakr01/splits/2024\n",
      "44 Mike Muscala https://www.basketball-reference.com/players/m/muscami01/splits/2024\n",
      "45 Mike Muscala https://www.basketball-reference.com/players/m/muscami01/splits/2023\n"
     ]
    },
    {
     "name": "stderr",
     "output_type": "stream",
     "text": [
      " 38%|██████████████████████████████                                                  | 166/441 [19:02<30:58,  6.76s/it]"
     ]
    },
    {
     "name": "stdout",
     "output_type": "stream",
     "text": [
      "46 Mike Muscala https://www.basketball-reference.com/players/m/muscami01/splits/2022\n",
      "47 Svi Mykhailiuk https://www.basketball-reference.com/players/m/mykhasv01/splits/2024\n",
      "48 Svi Mykhailiuk https://www.basketball-reference.com/players/m/mykhasv01/splits/2023\n"
     ]
    },
    {
     "name": "stderr",
     "output_type": "stream",
     "text": [
      " 38%|██████████████████████████████▎                                                 | 167/441 [19:10<32:13,  7.06s/it]"
     ]
    },
    {
     "name": "stdout",
     "output_type": "stream",
     "text": [
      "49 Svi Mykhailiuk https://www.basketball-reference.com/players/m/mykhasv01/splits/2022\n",
      "50 Larry Nance Jr. https://www.basketball-reference.com/players/n/nancela02/splits/2024\n",
      "51 Larry Nance Jr. https://www.basketball-reference.com/players/n/nancela02/splits/2023\n"
     ]
    },
    {
     "name": "stderr",
     "output_type": "stream",
     "text": [
      " 38%|██████████████████████████████▍                                                 | 168/441 [19:18<34:07,  7.50s/it]"
     ]
    },
    {
     "name": "stdout",
     "output_type": "stream",
     "text": [
      "52 Larry Nance Jr. https://www.basketball-reference.com/players/n/nancela02/splits/2022\n"
     ]
    },
    {
     "name": "stderr",
     "output_type": "stream",
     "text": [
      " 38%|██████████████████████████████▋                                                 | 169/441 [19:21<26:58,  5.95s/it]"
     ]
    },
    {
     "name": "stdout",
     "output_type": "stream",
     "text": [
      "53 Pete Nance https://www.basketball-reference.com/players/n/nancepe01/splits/2024\n",
      "54 Shabazz Napier https://www.basketball-reference.com/players/n/napiesh01/splits/2020\n",
      "55 Shabazz Napier https://www.basketball-reference.com/players/n/napiesh01/splits/2019\n"
     ]
    },
    {
     "name": "stderr",
     "output_type": "stream",
     "text": [
      " 39%|██████████████████████████████▊                                                 | 170/441 [19:29<30:04,  6.66s/it]"
     ]
    },
    {
     "name": "stdout",
     "output_type": "stream",
     "text": [
      "56 Shabazz Napier https://www.basketball-reference.com/players/n/napiesh01/splits/2018\n",
      "57 Andrew Nembhard https://www.basketball-reference.com/players/n/nembhan01/splits/2024\n"
     ]
    },
    {
     "name": "stderr",
     "output_type": "stream",
     "text": [
      " 39%|███████████████████████████████                                                 | 171/441 [19:34<28:29,  6.33s/it]"
     ]
    },
    {
     "name": "stdout",
     "output_type": "stream",
     "text": [
      "58 Andrew Nembhard https://www.basketball-reference.com/players/n/nembhan01/splits/2023\n"
     ]
    },
    {
     "name": "stderr",
     "output_type": "stream",
     "text": [
      " 39%|███████████████████████████████▏                                                | 172/441 [19:36<22:27,  5.01s/it]"
     ]
    },
    {
     "name": "stdout",
     "output_type": "stream",
     "text": [
      "59 RJ Nembhard Jr. https://www.basketball-reference.com/players/n/nembhrj01/splits/2022\n",
      "60 Aaron Nesmith https://www.basketball-reference.com/players/n/nesmiaa01/splits/2024\n",
      "61 Aaron Nesmith https://www.basketball-reference.com/players/n/nesmiaa01/splits/2023\n"
     ]
    },
    {
     "name": "stderr",
     "output_type": "stream",
     "text": [
      " 39%|███████████████████████████████▍                                                | 173/441 [19:44<26:12,  5.87s/it]"
     ]
    },
    {
     "name": "stdout",
     "output_type": "stream",
     "text": [
      "62 Aaron Nesmith https://www.basketball-reference.com/players/n/nesmiaa01/splits/2022\n",
      "63 Raul Neto https://www.basketball-reference.com/players/n/netora01/splits/2023\n",
      "64 Raul Neto https://www.basketball-reference.com/players/n/netora01/splits/2022\n"
     ]
    },
    {
     "name": "stderr",
     "output_type": "stream",
     "text": [
      " 39%|███████████████████████████████▌                                                | 174/441 [19:52<28:17,  6.36s/it]"
     ]
    },
    {
     "name": "stdout",
     "output_type": "stream",
     "text": [
      "65 Raul Neto https://www.basketball-reference.com/players/n/netora01/splits/2021\n",
      "66 Georges Niang https://www.basketball-reference.com/players/n/niangge01/splits/2024\n",
      "67 Georges Niang https://www.basketball-reference.com/players/n/niangge01/splits/2023\n"
     ]
    },
    {
     "name": "stderr",
     "output_type": "stream",
     "text": [
      " 40%|███████████████████████████████▋                                                | 175/441 [19:59<29:49,  6.73s/it]"
     ]
    },
    {
     "name": "stdout",
     "output_type": "stream",
     "text": [
      "68 Georges Niang https://www.basketball-reference.com/players/n/niangge01/splits/2022\n",
      "69 Daishen Nix https://www.basketball-reference.com/players/n/nixda01/splits/2024\n",
      "70 Daishen Nix https://www.basketball-reference.com/players/n/nixda01/splits/2023\n"
     ]
    },
    {
     "name": "stderr",
     "output_type": "stream",
     "text": [
      " 40%|███████████████████████████████▉                                                | 176/441 [20:07<31:12,  7.07s/it]"
     ]
    },
    {
     "name": "stdout",
     "output_type": "stream",
     "text": [
      "71 Daishen Nix https://www.basketball-reference.com/players/n/nixda01/splits/2022\n",
      "72 Zeke Nnaji https://www.basketball-reference.com/players/n/nnajize01/splits/2024\n",
      "73 Zeke Nnaji https://www.basketball-reference.com/players/n/nnajize01/splits/2023\n"
     ]
    },
    {
     "name": "stderr",
     "output_type": "stream",
     "text": [
      " 40%|████████████████████████████████                                                | 177/441 [20:16<32:41,  7.43s/it]"
     ]
    },
    {
     "name": "stdout",
     "output_type": "stream",
     "text": [
      "74 Zeke Nnaji https://www.basketball-reference.com/players/n/nnajize01/splits/2022\n",
      "75 Nerlens Noel https://www.basketball-reference.com/players/n/noelne01/splits/2023\n",
      "76 Nerlens Noel https://www.basketball-reference.com/players/n/noelne01/splits/2022\n"
     ]
    },
    {
     "name": "stderr",
     "output_type": "stream",
     "text": [
      " 40%|████████████████████████████████▎                                               | 178/441 [20:24<34:01,  7.76s/it]"
     ]
    },
    {
     "name": "stdout",
     "output_type": "stream",
     "text": [
      "77 Nerlens Noel https://www.basketball-reference.com/players/n/noelne01/splits/2021\n",
      "78 Jaylen Nowell https://www.basketball-reference.com/players/n/nowelja01/splits/2024\n",
      "79 Jaylen Nowell https://www.basketball-reference.com/players/n/nowelja01/splits/2023\n"
     ]
    },
    {
     "name": "stderr",
     "output_type": "stream",
     "text": [
      " 41%|████████████████████████████████▍                                               | 179/441 [20:34<36:29,  8.36s/it]"
     ]
    },
    {
     "name": "stdout",
     "output_type": "stream",
     "text": [
      "80 Jaylen Nowell https://www.basketball-reference.com/players/n/nowelja01/splits/2022\n"
     ]
    },
    {
     "name": "stderr",
     "output_type": "stream",
     "text": [
      " 41%|████████████████████████████████▋                                               | 180/441 [20:36<28:16,  6.50s/it]"
     ]
    },
    {
     "name": "stdout",
     "output_type": "stream",
     "text": [
      "81 Markquis Nowell https://www.basketball-reference.com/players/n/nowelma01/splits/2024\n",
      "82 Frank Ntilikina https://www.basketball-reference.com/players/n/ntilila01/splits/2024\n",
      "83 Frank Ntilikina https://www.basketball-reference.com/players/n/ntilila01/splits/2023\n"
     ]
    },
    {
     "name": "stderr",
     "output_type": "stream",
     "text": [
      " 41%|████████████████████████████████▊                                               | 181/441 [20:45<31:13,  7.21s/it]"
     ]
    },
    {
     "name": "stdout",
     "output_type": "stream",
     "text": [
      "84 Frank Ntilikina https://www.basketball-reference.com/players/n/ntilila01/splits/2022\n",
      "85 Kendrick Nunn https://www.basketball-reference.com/players/n/nunnke01/splits/2023\n",
      "86 Kendrick Nunn https://www.basketball-reference.com/players/n/nunnke01/splits/2022\n"
     ]
    },
    {
     "name": "stderr",
     "output_type": "stream",
     "text": [
      " 41%|█████████████████████████████████                                               | 182/441 [20:54<33:12,  7.69s/it]"
     ]
    },
    {
     "name": "stdout",
     "output_type": "stream",
     "text": [
      "86 Kendrick Nunn https://www.basketball-reference.com/players/n/nunnke01/splits/2021\n",
      "87 Jusuf NurkiÄ https://www.basketball-reference.com/players/n/nurkiju01/splits/2024\n",
      "88 Jusuf NurkiÄ https://www.basketball-reference.com/players/n/nurkiju01/splits/2023\n",
      "89 Jusuf NurkiÄ https://www.basketball-reference.com/players/n/nurkiju01/splits/2022\n"
     ]
    },
    {
     "name": "stderr",
     "output_type": "stream",
     "text": [
      " 41%|█████████████████████████████████▏                                              | 183/441 [21:11<46:04, 10.72s/it]"
     ]
    },
    {
     "name": "stdout",
     "output_type": "stream",
     "text": [
      "---------------------------PAUSE-------------------------------\n",
      "0 David Nwaba https://www.basketball-reference.com/players/n/nwabada01/splits/2022\n",
      "1 David Nwaba https://www.basketball-reference.com/players/n/nwabada01/splits/2021\n"
     ]
    },
    {
     "name": "stderr",
     "output_type": "stream",
     "text": [
      " 42%|█████████████████████████████████▍                                              | 184/441 [21:19<41:55,  9.79s/it]"
     ]
    },
    {
     "name": "stdout",
     "output_type": "stream",
     "text": [
      "2 David Nwaba https://www.basketball-reference.com/players/n/nwabada01/splits/2020\n",
      "3 Jordan Nwora https://www.basketball-reference.com/players/n/nworajo01/splits/2024\n",
      "4 Jordan Nwora https://www.basketball-reference.com/players/n/nworajo01/splits/2023\n"
     ]
    },
    {
     "name": "stderr",
     "output_type": "stream",
     "text": [
      " 42%|█████████████████████████████████▌                                              | 185/441 [21:27<39:53,  9.35s/it]"
     ]
    },
    {
     "name": "stdout",
     "output_type": "stream",
     "text": [
      "5 Jordan Nwora https://www.basketball-reference.com/players/n/nworajo01/splits/2022\n",
      "6 Royce O'Neale https://www.basketball-reference.com/players/o/onealro01/splits/2024\n",
      "7 Royce O'Neale https://www.basketball-reference.com/players/o/onealro01/splits/2023\n"
     ]
    },
    {
     "name": "stderr",
     "output_type": "stream",
     "text": [
      " 42%|█████████████████████████████████▋                                              | 186/441 [21:36<38:40,  9.10s/it]"
     ]
    },
    {
     "name": "stdout",
     "output_type": "stream",
     "text": [
      "8 Royce O'Neale https://www.basketball-reference.com/players/o/onealro01/splits/2022\n",
      "9 Jahlil Okafor https://www.basketball-reference.com/players/o/okafoja01/splits/2021\n",
      "10 Jahlil Okafor https://www.basketball-reference.com/players/o/okafoja01/splits/2020\n"
     ]
    },
    {
     "name": "stderr",
     "output_type": "stream",
     "text": [
      " 42%|█████████████████████████████████▉                                              | 187/441 [21:44<36:49,  8.70s/it]"
     ]
    },
    {
     "name": "stdout",
     "output_type": "stream",
     "text": [
      "11 Jahlil Okafor https://www.basketball-reference.com/players/o/okafoja01/splits/2019\n",
      "12 Chuma Okeke https://www.basketball-reference.com/players/o/okekech01/splits/2024\n",
      "13 Chuma Okeke https://www.basketball-reference.com/players/o/okekech01/splits/2023\n"
     ]
    },
    {
     "name": "stderr",
     "output_type": "stream",
     "text": [
      " 43%|██████████████████████████████████                                              | 188/441 [21:51<35:23,  8.39s/it]"
     ]
    },
    {
     "name": "stdout",
     "output_type": "stream",
     "text": [
      "14 Chuma Okeke https://www.basketball-reference.com/players/o/okekech01/splits/2022\n",
      "15 Josh Okogie https://www.basketball-reference.com/players/o/okogijo01/splits/2024\n",
      "16 Josh Okogie https://www.basketball-reference.com/players/o/okogijo01/splits/2023\n"
     ]
    },
    {
     "name": "stderr",
     "output_type": "stream",
     "text": [
      " 43%|██████████████████████████████████▎                                             | 189/441 [21:59<34:21,  8.18s/it]"
     ]
    },
    {
     "name": "stdout",
     "output_type": "stream",
     "text": [
      "17 Josh Okogie https://www.basketball-reference.com/players/o/okogijo01/splits/2022\n",
      "18 Onyeka Okongwu https://www.basketball-reference.com/players/o/okongon01/splits/2024\n",
      "19 Onyeka Okongwu https://www.basketball-reference.com/players/o/okongon01/splits/2023\n"
     ]
    },
    {
     "name": "stderr",
     "output_type": "stream",
     "text": [
      " 43%|██████████████████████████████████▍                                             | 190/441 [22:07<34:22,  8.22s/it]"
     ]
    },
    {
     "name": "stdout",
     "output_type": "stream",
     "text": [
      "20 Onyeka Okongwu https://www.basketball-reference.com/players/o/okongon01/splits/2022\n",
      "21 Isaac Okoro https://www.basketball-reference.com/players/o/okorois01/splits/2024\n",
      "22 Isaac Okoro https://www.basketball-reference.com/players/o/okorois01/splits/2023\n"
     ]
    },
    {
     "name": "stderr",
     "output_type": "stream",
     "text": [
      " 43%|██████████████████████████████████▋                                             | 191/441 [22:15<33:54,  8.14s/it]"
     ]
    },
    {
     "name": "stdout",
     "output_type": "stream",
     "text": [
      "23 Isaac Okoro https://www.basketball-reference.com/players/o/okorois01/splits/2022\n",
      "24 KZ Okpala https://www.basketball-reference.com/players/o/okpalkz01/splits/2023\n",
      "25 KZ Okpala https://www.basketball-reference.com/players/o/okpalkz01/splits/2022\n"
     ]
    },
    {
     "name": "stderr",
     "output_type": "stream",
     "text": [
      " 44%|██████████████████████████████████▊                                             | 192/441 [22:23<33:28,  8.07s/it]"
     ]
    },
    {
     "name": "stdout",
     "output_type": "stream",
     "text": [
      "26 KZ Okpala https://www.basketball-reference.com/players/o/okpalkz01/splits/2021\n",
      "27 Victor Oladipo https://www.basketball-reference.com/players/o/oladivi01/splits/2023\n",
      "28 Victor Oladipo https://www.basketball-reference.com/players/o/oladivi01/splits/2022\n"
     ]
    },
    {
     "name": "stderr",
     "output_type": "stream",
     "text": [
      " 44%|███████████████████████████████████                                             | 193/441 [22:31<32:41,  7.91s/it]"
     ]
    },
    {
     "name": "stdout",
     "output_type": "stream",
     "text": [
      "29 Victor Oladipo https://www.basketball-reference.com/players/o/oladivi01/splits/2021\n",
      "30 Cameron Oliver https://www.basketball-reference.com/players/o/oliveca01/splits/2022\n"
     ]
    },
    {
     "name": "stderr",
     "output_type": "stream",
     "text": [
      " 44%|███████████████████████████████████▏                                            | 194/441 [22:35<28:09,  6.84s/it]"
     ]
    },
    {
     "name": "stdout",
     "output_type": "stream",
     "text": [
      "31 Cameron Oliver https://www.basketball-reference.com/players/o/oliveca01/splits/2021\n",
      "32 Kelly Olynyk https://www.basketball-reference.com/players/o/olynyke01/splits/2024\n",
      "33 Kelly Olynyk https://www.basketball-reference.com/players/o/olynyke01/splits/2023\n"
     ]
    },
    {
     "name": "stderr",
     "output_type": "stream",
     "text": [
      " 44%|███████████████████████████████████▎                                            | 195/441 [22:43<29:54,  7.29s/it]"
     ]
    },
    {
     "name": "stdout",
     "output_type": "stream",
     "text": [
      "34 Kelly Olynyk https://www.basketball-reference.com/players/o/olynyke01/splits/2022\n",
      "35 Eugene Omoruyi https://www.basketball-reference.com/players/o/omorueu01/splits/2024\n",
      "36 Eugene Omoruyi https://www.basketball-reference.com/players/o/omorueu01/splits/2023\n"
     ]
    },
    {
     "name": "stderr",
     "output_type": "stream",
     "text": [
      " 44%|███████████████████████████████████▌                                            | 196/441 [22:52<31:03,  7.61s/it]"
     ]
    },
    {
     "name": "stdout",
     "output_type": "stream",
     "text": [
      "37 Eugene Omoruyi https://www.basketball-reference.com/players/o/omorueu01/splits/2022\n",
      "38 Miye Oni https://www.basketball-reference.com/players/o/onimi01/splits/2022\n",
      "39 Miye Oni https://www.basketball-reference.com/players/o/onimi01/splits/2021\n"
     ]
    },
    {
     "name": "stderr",
     "output_type": "stream",
     "text": [
      " 45%|███████████████████████████████████▋                                            | 197/441 [22:59<30:44,  7.56s/it]"
     ]
    },
    {
     "name": "stdout",
     "output_type": "stream",
     "text": [
      "40 Miye Oni https://www.basketball-reference.com/players/o/onimi01/splits/2020\n",
      "41 Cedi Osman https://www.basketball-reference.com/players/o/osmande01/splits/2024\n",
      "42 Cedi Osman https://www.basketball-reference.com/players/o/osmande01/splits/2023\n"
     ]
    },
    {
     "name": "stderr",
     "output_type": "stream",
     "text": [
      " 45%|███████████████████████████████████▉                                            | 198/441 [23:07<30:47,  7.60s/it]"
     ]
    },
    {
     "name": "stdout",
     "output_type": "stream",
     "text": [
      "43 Cedi Osman https://www.basketball-reference.com/players/o/osmande01/splits/2022\n",
      "44 Daniel Oturu https://www.basketball-reference.com/players/o/oturuda01/splits/2022\n"
     ]
    },
    {
     "name": "stderr",
     "output_type": "stream",
     "text": [
      " 45%|████████████████████████████████████                                            | 199/441 [23:12<27:14,  6.76s/it]"
     ]
    },
    {
     "name": "stdout",
     "output_type": "stream",
     "text": [
      "45 Daniel Oturu https://www.basketball-reference.com/players/o/oturuda01/splits/2021\n",
      "46 Kelly Oubre Jr. https://www.basketball-reference.com/players/o/oubreke01/splits/2024\n",
      "47 Kelly Oubre Jr. https://www.basketball-reference.com/players/o/oubreke01/splits/2023\n"
     ]
    },
    {
     "name": "stderr",
     "output_type": "stream",
     "text": [
      " 45%|████████████████████████████████████▎                                           | 200/441 [23:19<28:21,  7.06s/it]"
     ]
    },
    {
     "name": "stdout",
     "output_type": "stream",
     "text": [
      "48 Kelly Oubre Jr. https://www.basketball-reference.com/players/o/oubreke01/splits/2022\n"
     ]
    },
    {
     "name": "stderr",
     "output_type": "stream",
     "text": [
      " 46%|████████████████████████████████████▍                                           | 201/441 [23:22<22:17,  5.57s/it]"
     ]
    },
    {
     "name": "stdout",
     "output_type": "stream",
     "text": [
      "49 Trayvon Palmer https://www.basketball-reference.com/players/p/palmetr01/splits/2022\n",
      "50 Jeremy Pargo https://www.basketball-reference.com/players/p/pargoje01/splits/2020\n",
      "51 Jeremy Pargo https://www.basketball-reference.com/players/p/pargoje01/splits/2019\n"
     ]
    },
    {
     "name": "stderr",
     "output_type": "stream",
     "text": [
      " 46%|████████████████████████████████████▋                                           | 202/441 [23:28<22:59,  5.77s/it]"
     ]
    },
    {
     "name": "stdout",
     "output_type": "stream",
     "text": [
      "51 Jeremy Pargo https://www.basketball-reference.com/players/p/pargoje01/splits/2018\n",
      "51 Eric Paschall https://www.basketball-reference.com/players/p/pascher01/splits/2022\n",
      "52 Eric Paschall https://www.basketball-reference.com/players/p/pascher01/splits/2021\n"
     ]
    },
    {
     "name": "stderr",
     "output_type": "stream",
     "text": [
      " 46%|████████████████████████████████████▊                                           | 203/441 [23:36<25:34,  6.45s/it]"
     ]
    },
    {
     "name": "stdout",
     "output_type": "stream",
     "text": [
      "53 Eric Paschall https://www.basketball-reference.com/players/p/pascher01/splits/2020\n",
      "54 Chris Paul https://www.basketball-reference.com/players/p/paulch01/splits/2024\n",
      "55 Chris Paul https://www.basketball-reference.com/players/p/paulch01/splits/2023\n"
     ]
    },
    {
     "name": "stderr",
     "output_type": "stream",
     "text": [
      " 46%|█████████████████████████████████████                                           | 204/441 [23:45<28:08,  7.13s/it]"
     ]
    },
    {
     "name": "stdout",
     "output_type": "stream",
     "text": [
      "56 Chris Paul https://www.basketball-reference.com/players/p/paulch01/splits/2022\n",
      "57 Cameron Payne https://www.basketball-reference.com/players/p/payneca01/splits/2024\n",
      "58 Cameron Payne https://www.basketball-reference.com/players/p/payneca01/splits/2023\n"
     ]
    },
    {
     "name": "stderr",
     "output_type": "stream",
     "text": [
      " 46%|█████████████████████████████████████▏                                          | 205/441 [23:53<29:11,  7.42s/it]"
     ]
    },
    {
     "name": "stdout",
     "output_type": "stream",
     "text": [
      "59 Cameron Payne https://www.basketball-reference.com/players/p/payneca01/splits/2022\n",
      "60 Elfrid Payton https://www.basketball-reference.com/players/p/paytoel01/splits/2022\n",
      "61 Elfrid Payton https://www.basketball-reference.com/players/p/paytoel01/splits/2021\n"
     ]
    },
    {
     "name": "stderr",
     "output_type": "stream",
     "text": [
      " 47%|█████████████████████████████████████▎                                          | 206/441 [24:00<29:17,  7.48s/it]"
     ]
    },
    {
     "name": "stdout",
     "output_type": "stream",
     "text": [
      "62 Elfrid Payton https://www.basketball-reference.com/players/p/paytoel01/splits/2020\n",
      "63 Gary Payton II https://www.basketball-reference.com/players/p/paytoga02/splits/2024\n",
      "64 Gary Payton II https://www.basketball-reference.com/players/p/paytoga02/splits/2023\n"
     ]
    },
    {
     "name": "stderr",
     "output_type": "stream",
     "text": [
      " 47%|█████████████████████████████████████▌                                          | 207/441 [24:08<29:37,  7.60s/it]"
     ]
    },
    {
     "name": "stdout",
     "output_type": "stream",
     "text": [
      "65 Gary Payton II https://www.basketball-reference.com/players/p/paytoga02/splits/2022\n",
      "66 Norvel Pelle https://www.basketball-reference.com/players/p/pelleno01/splits/2022\n",
      "67 Norvel Pelle https://www.basketball-reference.com/players/p/pelleno01/splits/2021\n"
     ]
    },
    {
     "name": "stderr",
     "output_type": "stream",
     "text": [
      " 47%|█████████████████████████████████████▋                                          | 208/441 [24:15<28:46,  7.41s/it]"
     ]
    },
    {
     "name": "stdout",
     "output_type": "stream",
     "text": [
      "68 Norvel Pelle https://www.basketball-reference.com/players/p/pelleno01/splits/2020\n"
     ]
    },
    {
     "name": "stderr",
     "output_type": "stream",
     "text": [
      " 47%|█████████████████████████████████████▉                                          | 209/441 [24:17<22:42,  5.87s/it]"
     ]
    },
    {
     "name": "stdout",
     "output_type": "stream",
     "text": [
      "69 MÃ£ozinha Pereira https://www.basketball-reference.com/players/p/pereima01/splits/2024\n",
      "70 Reggie Perry https://www.basketball-reference.com/players/p/perryre01/splits/2022\n"
     ]
    },
    {
     "name": "stderr",
     "output_type": "stream",
     "text": [
      " 48%|██████████████████████████████████████                                          | 210/441 [24:22<21:32,  5.59s/it]"
     ]
    },
    {
     "name": "stdout",
     "output_type": "stream",
     "text": [
      "71 Reggie Perry https://www.basketball-reference.com/players/p/perryre01/splits/2021\n"
     ]
    },
    {
     "name": "stderr",
     "output_type": "stream",
     "text": [
      " 48%|██████████████████████████████████████▎                                         | 211/441 [24:25<17:38,  4.60s/it]"
     ]
    },
    {
     "name": "stdout",
     "output_type": "stream",
     "text": [
      "72 Drew Peterson https://www.basketball-reference.com/players/p/peterdr01/splits/2024\n"
     ]
    },
    {
     "name": "stderr",
     "output_type": "stream",
     "text": [
      " 48%|██████████████████████████████████████▍                                         | 212/441 [24:27<14:53,  3.90s/it]"
     ]
    },
    {
     "name": "stdout",
     "output_type": "stream",
     "text": [
      "73 Filip PetruÅ¡ev https://www.basketball-reference.com/players/p/petrufi01/splits/2024\n"
     ]
    },
    {
     "name": "stderr",
     "output_type": "stream",
     "text": [
      " 48%|██████████████████████████████████████▋                                         | 213/441 [24:29<13:05,  3.44s/it]"
     ]
    },
    {
     "name": "stdout",
     "output_type": "stream",
     "text": [
      "74 Julian Phillips https://www.basketball-reference.com/players/p/phillju01/splits/2024\n"
     ]
    },
    {
     "name": "stderr",
     "output_type": "stream",
     "text": [
      " 49%|██████████████████████████████████████▊                                         | 214/441 [24:32<11:52,  3.14s/it]"
     ]
    },
    {
     "name": "stdout",
     "output_type": "stream",
     "text": [
      "75 Jalen Pickett https://www.basketball-reference.com/players/p/pickeja02/splits/2024\n"
     ]
    },
    {
     "name": "stderr",
     "output_type": "stream",
     "text": [
      " 49%|███████████████████████████████████████                                         | 215/441 [24:34<10:51,  2.88s/it]"
     ]
    },
    {
     "name": "stdout",
     "output_type": "stream",
     "text": [
      "76 Jamorko Pickett https://www.basketball-reference.com/players/p/pickeja01/splits/2022\n",
      "77 Theo Pinson https://www.basketball-reference.com/players/p/pinsoth01/splits/2023\n",
      "78 Theo Pinson https://www.basketball-reference.com/players/p/pinsoth01/splits/2022\n"
     ]
    },
    {
     "name": "stderr",
     "output_type": "stream",
     "text": [
      " 49%|███████████████████████████████████████▏                                        | 216/441 [24:41<15:49,  4.22s/it]"
     ]
    },
    {
     "name": "stdout",
     "output_type": "stream",
     "text": [
      "79 Theo Pinson https://www.basketball-reference.com/players/p/pinsoth01/splits/2021\n",
      "80 Scotty Pippen Jr. https://www.basketball-reference.com/players/p/pippesc02/splits/2024\n"
     ]
    },
    {
     "name": "stderr",
     "output_type": "stream",
     "text": [
      " 49%|███████████████████████████████████████▎                                        | 217/441 [24:46<16:19,  4.37s/it]"
     ]
    },
    {
     "name": "stdout",
     "output_type": "stream",
     "text": [
      "81 Scotty Pippen Jr. https://www.basketball-reference.com/players/p/pippesc02/splits/2023\n",
      "82 Mason Plumlee https://www.basketball-reference.com/players/p/plumlma01/splits/2024\n",
      "83 Mason Plumlee https://www.basketball-reference.com/players/p/plumlma01/splits/2023\n"
     ]
    },
    {
     "name": "stderr",
     "output_type": "stream",
     "text": [
      " 49%|███████████████████████████████████████▌                                        | 218/441 [24:54<20:43,  5.58s/it]"
     ]
    },
    {
     "name": "stdout",
     "output_type": "stream",
     "text": [
      "84 Mason Plumlee https://www.basketball-reference.com/players/p/plumlma01/splits/2022\n"
     ]
    },
    {
     "name": "stderr",
     "output_type": "stream",
     "text": [
      " 50%|███████████████████████████████████████▋                                        | 219/441 [24:57<17:10,  4.64s/it]"
     ]
    },
    {
     "name": "stdout",
     "output_type": "stream",
     "text": [
      "85 Brandin Podziemski https://www.basketball-reference.com/players/p/podzibr01/splits/2024\n",
      "86 Jakob Poeltl https://www.basketball-reference.com/players/p/poeltja01/splits/2024\n",
      "87 Jakob Poeltl https://www.basketball-reference.com/players/p/poeltja01/splits/2023\n"
     ]
    },
    {
     "name": "stderr",
     "output_type": "stream",
     "text": [
      " 50%|███████████████████████████████████████▉                                        | 220/441 [25:04<20:21,  5.53s/it]"
     ]
    },
    {
     "name": "stdout",
     "output_type": "stream",
     "text": [
      "88 Jakob Poeltl https://www.basketball-reference.com/players/p/poeltja01/splits/2022\n",
      "89 Aleksej Pokusevski https://www.basketball-reference.com/players/p/pokusal01/splits/2024\n",
      "---------------------------PAUSE-------------------------------\n",
      "0 Aleksej Pokusevski https://www.basketball-reference.com/players/p/pokusal01/splits/2023\n"
     ]
    },
    {
     "name": "stderr",
     "output_type": "stream",
     "text": [
      " 50%|████████████████████████████████████████                                        | 221/441 [25:21<32:38,  8.90s/it]"
     ]
    },
    {
     "name": "stdout",
     "output_type": "stream",
     "text": [
      "1 Aleksej Pokusevski https://www.basketball-reference.com/players/p/pokusal01/splits/2022\n"
     ]
    },
    {
     "name": "stderr",
     "output_type": "stream",
     "text": [
      " 50%|████████████████████████████████████████▎                                       | 222/441 [25:23<25:09,  6.89s/it]"
     ]
    },
    {
     "name": "stdout",
     "output_type": "stream",
     "text": [
      "2 Shamorie Ponds https://www.basketball-reference.com/players/p/pondssh01/splits/2020\n"
     ]
    },
    {
     "name": "stderr",
     "output_type": "stream",
     "text": [
      " 51%|████████████████████████████████████████▍                                       | 223/441 [25:26<20:40,  5.69s/it]"
     ]
    },
    {
     "name": "stdout",
     "output_type": "stream",
     "text": [
      "3 Yves Pons https://www.basketball-reference.com/players/p/ponsyv01/splits/2022\n",
      "4 Jordan Poole https://www.basketball-reference.com/players/p/poolejo01/splits/2024\n",
      "5 Jordan Poole https://www.basketball-reference.com/players/p/poolejo01/splits/2023\n"
     ]
    },
    {
     "name": "stderr",
     "output_type": "stream",
     "text": [
      " 51%|████████████████████████████████████████▋                                       | 224/441 [25:35<23:19,  6.45s/it]"
     ]
    },
    {
     "name": "stdout",
     "output_type": "stream",
     "text": [
      "6 Jordan Poole https://www.basketball-reference.com/players/p/poolejo01/splits/2022\n"
     ]
    },
    {
     "name": "stderr",
     "output_type": "stream",
     "text": [
      " 51%|████████████████████████████████████████▊                                       | 225/441 [25:37<19:03,  5.29s/it]"
     ]
    },
    {
     "name": "stdout",
     "output_type": "stream",
     "text": [
      "7 Craig Porter Jr. https://www.basketball-reference.com/players/p/portecr01/splits/2024\n",
      "8 Jontay Porter https://www.basketball-reference.com/players/p/portejo01/splits/2024\n",
      "9 Jontay Porter https://www.basketball-reference.com/players/p/portejo01/splits/2023\n"
     ]
    },
    {
     "name": "stderr",
     "output_type": "stream",
     "text": [
      " 51%|████████████████████████████████████████▉                                       | 226/441 [25:44<20:37,  5.76s/it]"
     ]
    },
    {
     "name": "stdout",
     "output_type": "stream",
     "text": [
      "9 Jontay Porter https://www.basketball-reference.com/players/p/portejo01/splits/2022\n",
      "9 Kevin Porter Jr. https://www.basketball-reference.com/players/p/porteke02/splits/2023\n",
      "10 Kevin Porter Jr. https://www.basketball-reference.com/players/p/porteke02/splits/2022\n"
     ]
    },
    {
     "name": "stderr",
     "output_type": "stream",
     "text": [
      " 51%|█████████████████████████████████████████▏                                      | 227/441 [25:51<22:22,  6.27s/it]"
     ]
    },
    {
     "name": "stdout",
     "output_type": "stream",
     "text": [
      "11 Kevin Porter Jr. https://www.basketball-reference.com/players/p/porteke02/splits/2021\n",
      "12 Michael Porter Jr. https://www.basketball-reference.com/players/p/portemi01/splits/2024\n",
      "13 Michael Porter Jr. https://www.basketball-reference.com/players/p/portemi01/splits/2023\n"
     ]
    },
    {
     "name": "stderr",
     "output_type": "stream",
     "text": [
      " 52%|█████████████████████████████████████████▎                                      | 228/441 [25:59<23:47,  6.70s/it]"
     ]
    },
    {
     "name": "stdout",
     "output_type": "stream",
     "text": [
      "14 Michael Porter Jr. https://www.basketball-reference.com/players/p/portemi01/splits/2022\n",
      "15 Otto Porter Jr. https://www.basketball-reference.com/players/p/porteot01/splits/2024\n",
      "16 Otto Porter Jr. https://www.basketball-reference.com/players/p/porteot01/splits/2023\n"
     ]
    },
    {
     "name": "stderr",
     "output_type": "stream",
     "text": [
      " 52%|█████████████████████████████████████████▌                                      | 229/441 [26:06<24:17,  6.88s/it]"
     ]
    },
    {
     "name": "stdout",
     "output_type": "stream",
     "text": [
      "17 Otto Porter Jr. https://www.basketball-reference.com/players/p/porteot01/splits/2022\n",
      "18 Bobby Portis https://www.basketball-reference.com/players/p/portibo01/splits/2024\n",
      "19 Bobby Portis https://www.basketball-reference.com/players/p/portibo01/splits/2023\n"
     ]
    },
    {
     "name": "stderr",
     "output_type": "stream",
     "text": [
      " 52%|█████████████████████████████████████████▋                                      | 230/441 [26:15<25:59,  7.39s/it]"
     ]
    },
    {
     "name": "stdout",
     "output_type": "stream",
     "text": [
      "20 Bobby Portis https://www.basketball-reference.com/players/p/portibo01/splits/2022\n",
      "21 Kristaps PorziÅÄ£is https://www.basketball-reference.com/players/p/porzikr01/splits/2024\n",
      "22 Kristaps PorziÅÄ£is https://www.basketball-reference.com/players/p/porzikr01/splits/2023\n"
     ]
    },
    {
     "name": "stderr",
     "output_type": "stream",
     "text": [
      " 52%|█████████████████████████████████████████▉                                      | 231/441 [26:23<26:40,  7.62s/it]"
     ]
    },
    {
     "name": "stdout",
     "output_type": "stream",
     "text": [
      "23 Kristaps PorziÅÄ£is https://www.basketball-reference.com/players/p/porzikr01/splits/2022\n",
      "24 Micah Potter https://www.basketball-reference.com/players/p/pottemi01/splits/2024\n",
      "25 Micah Potter https://www.basketball-reference.com/players/p/pottemi01/splits/2023\n"
     ]
    },
    {
     "name": "stderr",
     "output_type": "stream",
     "text": [
      " 53%|██████████████████████████████████████████                                      | 232/441 [26:31<26:32,  7.62s/it]"
     ]
    },
    {
     "name": "stdout",
     "output_type": "stream",
     "text": [
      "26 Micah Potter https://www.basketball-reference.com/players/p/pottemi01/splits/2022\n",
      "27 Dwight Powell https://www.basketball-reference.com/players/p/poweldw01/splits/2024\n",
      "28 Dwight Powell https://www.basketball-reference.com/players/p/poweldw01/splits/2023\n"
     ]
    },
    {
     "name": "stderr",
     "output_type": "stream",
     "text": [
      " 53%|██████████████████████████████████████████▎                                     | 233/441 [26:39<26:52,  7.75s/it]"
     ]
    },
    {
     "name": "stdout",
     "output_type": "stream",
     "text": [
      "29 Dwight Powell https://www.basketball-reference.com/players/p/poweldw01/splits/2022\n",
      "30 Norman Powell https://www.basketball-reference.com/players/p/powelno01/splits/2024\n",
      "31 Norman Powell https://www.basketball-reference.com/players/p/powelno01/splits/2023\n"
     ]
    },
    {
     "name": "stderr",
     "output_type": "stream",
     "text": [
      " 53%|██████████████████████████████████████████▍                                     | 234/441 [26:47<26:52,  7.79s/it]"
     ]
    },
    {
     "name": "stdout",
     "output_type": "stream",
     "text": [
      "32 Norman Powell https://www.basketball-reference.com/players/p/powelno01/splits/2022\n",
      "33 Jason Preston https://www.basketball-reference.com/players/p/prestja01/splits/2024\n"
     ]
    },
    {
     "name": "stderr",
     "output_type": "stream",
     "text": [
      " 53%|██████████████████████████████████████████▋                                     | 235/441 [26:52<23:49,  6.94s/it]"
     ]
    },
    {
     "name": "stdout",
     "output_type": "stream",
     "text": [
      "34 Jason Preston https://www.basketball-reference.com/players/p/prestja01/splits/2023\n",
      "35 Joshua Primo https://www.basketball-reference.com/players/p/primojo01/splits/2024\n",
      "36 Joshua Primo https://www.basketball-reference.com/players/p/primojo01/splits/2023\n"
     ]
    },
    {
     "name": "stderr",
     "output_type": "stream",
     "text": [
      " 54%|██████████████████████████████████████████▊                                     | 236/441 [26:59<24:19,  7.12s/it]"
     ]
    },
    {
     "name": "stdout",
     "output_type": "stream",
     "text": [
      "37 Joshua Primo https://www.basketball-reference.com/players/p/primojo01/splits/2022\n",
      "38 Taurean Prince https://www.basketball-reference.com/players/p/princta02/splits/2024\n",
      "39 Taurean Prince https://www.basketball-reference.com/players/p/princta02/splits/2023\n"
     ]
    },
    {
     "name": "stderr",
     "output_type": "stream",
     "text": [
      " 54%|██████████████████████████████████████████▉                                     | 237/441 [27:07<25:13,  7.42s/it]"
     ]
    },
    {
     "name": "stdout",
     "output_type": "stream",
     "text": [
      "40 Taurean Prince https://www.basketball-reference.com/players/p/princta02/splits/2022\n",
      "41 Payton Pritchard https://www.basketball-reference.com/players/p/pritcpa01/splits/2024\n",
      "42 Payton Pritchard https://www.basketball-reference.com/players/p/pritcpa01/splits/2023\n"
     ]
    },
    {
     "name": "stderr",
     "output_type": "stream",
     "text": [
      " 54%|███████████████████████████████████████████▏                                    | 238/441 [27:15<25:33,  7.56s/it]"
     ]
    },
    {
     "name": "stdout",
     "output_type": "stream",
     "text": [
      "43 Payton Pritchard https://www.basketball-reference.com/players/p/pritcpa01/splits/2022\n"
     ]
    },
    {
     "name": "stderr",
     "output_type": "stream",
     "text": [
      " 54%|███████████████████████████████████████████▎                                    | 239/441 [27:18<20:37,  6.13s/it]"
     ]
    },
    {
     "name": "stdout",
     "output_type": "stream",
     "text": [
      "44 Olivier-Maxence Prosper https://www.basketball-reference.com/players/p/prospol01/splits/2024\n",
      "45 Trevelin Queen https://www.basketball-reference.com/players/q/queentr01/splits/2024\n",
      "46 Trevelin Queen https://www.basketball-reference.com/players/q/queentr01/splits/2023\n"
     ]
    },
    {
     "name": "stderr",
     "output_type": "stream",
     "text": [
      " 54%|███████████████████████████████████████████▌                                    | 240/441 [27:25<21:12,  6.33s/it]"
     ]
    },
    {
     "name": "stdout",
     "output_type": "stream",
     "text": [
      "47 Trevelin Queen https://www.basketball-reference.com/players/q/queentr01/splits/2022\n",
      "48 Neemias Queta https://www.basketball-reference.com/players/q/quetane01/splits/2024\n",
      "49 Neemias Queta https://www.basketball-reference.com/players/q/quetane01/splits/2023\n"
     ]
    },
    {
     "name": "stderr",
     "output_type": "stream",
     "text": [
      " 55%|███████████████████████████████████████████▋                                    | 241/441 [27:33<23:11,  6.96s/it]"
     ]
    },
    {
     "name": "stdout",
     "output_type": "stream",
     "text": [
      "50 Neemias Queta https://www.basketball-reference.com/players/q/quetane01/splits/2022\n",
      "51 Immanuel Quickley https://www.basketball-reference.com/players/q/quickim01/splits/2024\n",
      "52 Immanuel Quickley https://www.basketball-reference.com/players/q/quickim01/splits/2023\n"
     ]
    },
    {
     "name": "stderr",
     "output_type": "stream",
     "text": [
      " 55%|███████████████████████████████████████████▉                                    | 242/441 [27:42<24:46,  7.47s/it]"
     ]
    },
    {
     "name": "stdout",
     "output_type": "stream",
     "text": [
      "53 Immanuel Quickley https://www.basketball-reference.com/players/q/quickim01/splits/2022\n",
      "54 Lester Quinones https://www.basketball-reference.com/players/q/quinole01/splits/2024\n"
     ]
    },
    {
     "name": "stderr",
     "output_type": "stream",
     "text": [
      " 55%|████████████████████████████████████████████                                    | 243/441 [27:46<21:39,  6.56s/it]"
     ]
    },
    {
     "name": "stdout",
     "output_type": "stream",
     "text": [
      "55 Lester Quinones https://www.basketball-reference.com/players/q/quinole01/splits/2023\n",
      "56 Jahmi'us Ramsey https://www.basketball-reference.com/players/r/ramseja01/splits/2024\n",
      "57 Jahmi'us Ramsey https://www.basketball-reference.com/players/r/ramseja01/splits/2023\n"
     ]
    },
    {
     "name": "stderr",
     "output_type": "stream",
     "text": [
      " 55%|████████████████████████████████████████████▎                                   | 244/441 [27:53<21:12,  6.46s/it]"
     ]
    },
    {
     "name": "stdout",
     "output_type": "stream",
     "text": [
      "57 Jahmi'us Ramsey https://www.basketball-reference.com/players/r/ramseja01/splits/2022\n",
      "58 Chasson Randle https://www.basketball-reference.com/players/r/randlch01/splits/2021\n",
      "59 Chasson Randle https://www.basketball-reference.com/players/r/randlch01/splits/2020\n"
     ]
    },
    {
     "name": "stderr",
     "output_type": "stream",
     "text": [
      " 56%|████████████████████████████████████████████▍                                   | 245/441 [27:58<20:31,  6.28s/it]"
     ]
    },
    {
     "name": "stdout",
     "output_type": "stream",
     "text": [
      "60 Chasson Randle https://www.basketball-reference.com/players/r/randlch01/splits/2019\n",
      "61 Julius Randle https://www.basketball-reference.com/players/r/randlju01/splits/2024\n",
      "62 Julius Randle https://www.basketball-reference.com/players/r/randlju01/splits/2023\n"
     ]
    },
    {
     "name": "stderr",
     "output_type": "stream",
     "text": [
      " 56%|████████████████████████████████████████████▋                                   | 246/441 [28:06<21:56,  6.75s/it]"
     ]
    },
    {
     "name": "stdout",
     "output_type": "stream",
     "text": [
      "63 Julius Randle https://www.basketball-reference.com/players/r/randlju01/splits/2022\n"
     ]
    },
    {
     "name": "stderr",
     "output_type": "stream",
     "text": [
      " 56%|████████████████████████████████████████████▊                                   | 247/441 [28:09<18:02,  5.58s/it]"
     ]
    },
    {
     "name": "stdout",
     "output_type": "stream",
     "text": [
      "64 Duop Reath https://www.basketball-reference.com/players/r/reathdu01/splits/2024\n",
      "65 Austin Reaves https://www.basketball-reference.com/players/r/reaveau01/splits/2024\n",
      "66 Austin Reaves https://www.basketball-reference.com/players/r/reaveau01/splits/2023\n"
     ]
    },
    {
     "name": "stderr",
     "output_type": "stream",
     "text": [
      " 56%|████████████████████████████████████████████▉                                   | 248/441 [28:17<20:03,  6.24s/it]"
     ]
    },
    {
     "name": "stdout",
     "output_type": "stream",
     "text": [
      "67 Austin Reaves https://www.basketball-reference.com/players/r/reaveau01/splits/2022\n"
     ]
    },
    {
     "name": "stderr",
     "output_type": "stream",
     "text": [
      " 56%|█████████████████████████████████████████████▏                                  | 249/441 [28:19<16:08,  5.05s/it]"
     ]
    },
    {
     "name": "stdout",
     "output_type": "stream",
     "text": [
      "68 Josh Reaves https://www.basketball-reference.com/players/r/reavejo02/splits/2020\n",
      "69 Cam Reddish https://www.basketball-reference.com/players/r/reddica01/splits/2024\n",
      "70 Cam Reddish https://www.basketball-reference.com/players/r/reddica01/splits/2023\n"
     ]
    },
    {
     "name": "stderr",
     "output_type": "stream",
     "text": [
      " 57%|█████████████████████████████████████████████▎                                  | 250/441 [28:27<18:39,  5.86s/it]"
     ]
    },
    {
     "name": "stdout",
     "output_type": "stream",
     "text": [
      "71 Cam Reddish https://www.basketball-reference.com/players/r/reddica01/splits/2022\n",
      "72 Davon Reed https://www.basketball-reference.com/players/r/reedda01/splits/2023\n",
      "73 Davon Reed https://www.basketball-reference.com/players/r/reedda01/splits/2022\n"
     ]
    },
    {
     "name": "stderr",
     "output_type": "stream",
     "text": [
      " 57%|█████████████████████████████████████████████▌                                  | 251/441 [28:34<20:08,  6.36s/it]"
     ]
    },
    {
     "name": "stdout",
     "output_type": "stream",
     "text": [
      "74 Davon Reed https://www.basketball-reference.com/players/r/reedda01/splits/2021\n",
      "74 Paul Reed https://www.basketball-reference.com/players/r/reedpa01/splits/2024\n",
      "75 Paul Reed https://www.basketball-reference.com/players/r/reedpa01/splits/2023\n"
     ]
    },
    {
     "name": "stderr",
     "output_type": "stream",
     "text": [
      " 57%|█████████████████████████████████████████████▋                                  | 252/441 [28:42<21:26,  6.81s/it]"
     ]
    },
    {
     "name": "stdout",
     "output_type": "stream",
     "text": [
      "76 Paul Reed https://www.basketball-reference.com/players/r/reedpa01/splits/2022\n",
      "77 Naz Reid https://www.basketball-reference.com/players/r/reidna01/splits/2024\n",
      "78 Naz Reid https://www.basketball-reference.com/players/r/reidna01/splits/2023\n"
     ]
    },
    {
     "name": "stderr",
     "output_type": "stream",
     "text": [
      " 57%|█████████████████████████████████████████████▉                                  | 253/441 [28:50<22:11,  7.08s/it]"
     ]
    },
    {
     "name": "stdout",
     "output_type": "stream",
     "text": [
      "79 Naz Reid https://www.basketball-reference.com/players/r/reidna01/splits/2022\n",
      "80 Jared Rhoden https://www.basketball-reference.com/players/r/rhodeja01/splits/2024\n"
     ]
    },
    {
     "name": "stderr",
     "output_type": "stream",
     "text": [
      " 58%|██████████████████████████████████████████████                                  | 254/441 [28:55<20:06,  6.45s/it]"
     ]
    },
    {
     "name": "stdout",
     "output_type": "stream",
     "text": [
      "81 Jared Rhoden https://www.basketball-reference.com/players/r/rhodeja01/splits/2023\n",
      "82 Nick Richards https://www.basketball-reference.com/players/r/richani01/splits/2024\n",
      "83 Nick Richards https://www.basketball-reference.com/players/r/richani01/splits/2023\n"
     ]
    },
    {
     "name": "stderr",
     "output_type": "stream",
     "text": [
      " 58%|██████████████████████████████████████████████▎                                 | 255/441 [29:03<21:13,  6.85s/it]"
     ]
    },
    {
     "name": "stdout",
     "output_type": "stream",
     "text": [
      "84 Nick Richards https://www.basketball-reference.com/players/r/richani01/splits/2022\n",
      "85 Josh Richardson https://www.basketball-reference.com/players/r/richajo01/splits/2024\n",
      "86 Josh Richardson https://www.basketball-reference.com/players/r/richajo01/splits/2023\n"
     ]
    },
    {
     "name": "stderr",
     "output_type": "stream",
     "text": [
      " 58%|██████████████████████████████████████████████▍                                 | 256/441 [29:10<21:19,  6.91s/it]"
     ]
    },
    {
     "name": "stdout",
     "output_type": "stream",
     "text": [
      "87 Josh Richardson https://www.basketball-reference.com/players/r/richajo01/splits/2022\n"
     ]
    },
    {
     "name": "stderr",
     "output_type": "stream",
     "text": [
      " 58%|██████████████████████████████████████████████▌                                 | 257/441 [29:12<17:05,  5.57s/it]"
     ]
    },
    {
     "name": "stdout",
     "output_type": "stream",
     "text": [
      "88 Grant Riller https://www.basketball-reference.com/players/r/rillegr01/splits/2021\n",
      "89 Austin Rivers https://www.basketball-reference.com/players/r/riverau01/splits/2023\n",
      "---------------------------PAUSE-------------------------------\n",
      "0 Austin Rivers https://www.basketball-reference.com/players/r/riverau01/splits/2022\n"
     ]
    },
    {
     "name": "stderr",
     "output_type": "stream",
     "text": [
      " 59%|██████████████████████████████████████████████▊                                 | 258/441 [29:30<28:27,  9.33s/it]"
     ]
    },
    {
     "name": "stdout",
     "output_type": "stream",
     "text": [
      "1 Austin Rivers https://www.basketball-reference.com/players/r/riverau01/splits/2021\n",
      "2 Duncan Robinson https://www.basketball-reference.com/players/r/robindu01/splits/2024\n",
      "3 Duncan Robinson https://www.basketball-reference.com/players/r/robindu01/splits/2023\n"
     ]
    },
    {
     "name": "stderr",
     "output_type": "stream",
     "text": [
      " 59%|██████████████████████████████████████████████▉                                 | 259/441 [29:38<26:24,  8.70s/it]"
     ]
    },
    {
     "name": "stdout",
     "output_type": "stream",
     "text": [
      "4 Duncan Robinson https://www.basketball-reference.com/players/r/robindu01/splits/2022\n",
      "5 Jerome Robinson https://www.basketball-reference.com/players/r/robinje01/splits/2024\n",
      "6 Jerome Robinson https://www.basketball-reference.com/players/r/robinje01/splits/2023\n"
     ]
    },
    {
     "name": "stderr",
     "output_type": "stream",
     "text": [
      " 59%|███████████████████████████████████████████████▏                                | 260/441 [29:46<25:46,  8.55s/it]"
     ]
    },
    {
     "name": "stdout",
     "output_type": "stream",
     "text": [
      "6 Jerome Robinson https://www.basketball-reference.com/players/r/robinje01/splits/2022\n",
      "6 Justin Robinson https://www.basketball-reference.com/players/r/robinju01/splits/2022\n",
      "7 Justin Robinson https://www.basketball-reference.com/players/r/robinju01/splits/2021\n"
     ]
    },
    {
     "name": "stderr",
     "output_type": "stream",
     "text": [
      " 59%|███████████████████████████████████████████████▎                                | 261/441 [29:53<24:09,  8.05s/it]"
     ]
    },
    {
     "name": "stdout",
     "output_type": "stream",
     "text": [
      "8 Justin Robinson https://www.basketball-reference.com/players/r/robinju01/splits/2020\n",
      "9 Mitchell Robinson https://www.basketball-reference.com/players/r/robinmi01/splits/2024\n",
      "10 Mitchell Robinson https://www.basketball-reference.com/players/r/robinmi01/splits/2023\n"
     ]
    },
    {
     "name": "stderr",
     "output_type": "stream",
     "text": [
      " 59%|███████████████████████████████████████████████▌                                | 262/441 [30:01<23:57,  8.03s/it]"
     ]
    },
    {
     "name": "stdout",
     "output_type": "stream",
     "text": [
      "11 Mitchell Robinson https://www.basketball-reference.com/players/r/robinmi01/splits/2022\n",
      "12 Orlando Robinson https://www.basketball-reference.com/players/r/robinor01/splits/2024\n"
     ]
    },
    {
     "name": "stderr",
     "output_type": "stream",
     "text": [
      " 60%|███████████████████████████████████████████████▋                                | 263/441 [30:06<21:22,  7.20s/it]"
     ]
    },
    {
     "name": "stdout",
     "output_type": "stream",
     "text": [
      "13 Orlando Robinson https://www.basketball-reference.com/players/r/robinor01/splits/2023\n",
      "14 Jeremiah Robinson-Earl https://www.basketball-reference.com/players/r/robinje02/splits/2024\n",
      "15 Jeremiah Robinson-Earl https://www.basketball-reference.com/players/r/robinje02/splits/2023\n"
     ]
    },
    {
     "name": "stderr",
     "output_type": "stream",
     "text": [
      " 60%|███████████████████████████████████████████████▉                                | 264/441 [30:14<21:40,  7.35s/it]"
     ]
    },
    {
     "name": "stdout",
     "output_type": "stream",
     "text": [
      "16 Jeremiah Robinson-Earl https://www.basketball-reference.com/players/r/robinje02/splits/2022\n",
      "17 Isaiah Roby https://www.basketball-reference.com/players/r/robyis01/splits/2023\n",
      "18 Isaiah Roby https://www.basketball-reference.com/players/r/robyis01/splits/2022\n"
     ]
    },
    {
     "name": "stderr",
     "output_type": "stream",
     "text": [
      " 60%|████████████████████████████████████████████████                                | 265/441 [30:22<22:16,  7.59s/it]"
     ]
    },
    {
     "name": "stdout",
     "output_type": "stream",
     "text": [
      "19 Isaiah Roby https://www.basketball-reference.com/players/r/robyis01/splits/2021\n",
      "20 David Roddy https://www.basketball-reference.com/players/r/roddyda01/splits/2024\n"
     ]
    },
    {
     "name": "stderr",
     "output_type": "stream",
     "text": [
      " 60%|████████████████████████████████████████████████▎                               | 266/441 [30:27<20:05,  6.89s/it]"
     ]
    },
    {
     "name": "stdout",
     "output_type": "stream",
     "text": [
      "21 David Roddy https://www.basketball-reference.com/players/r/roddyda01/splits/2023\n",
      "22 Ryan Rollins https://www.basketball-reference.com/players/r/rolliry01/splits/2024\n"
     ]
    },
    {
     "name": "stderr",
     "output_type": "stream",
     "text": [
      " 61%|████████████████████████████████████████████████▍                               | 267/441 [30:32<17:50,  6.15s/it]"
     ]
    },
    {
     "name": "stdout",
     "output_type": "stream",
     "text": [
      "23 Ryan Rollins https://www.basketball-reference.com/players/r/rolliry01/splits/2023\n",
      "24 Derrick Rose https://www.basketball-reference.com/players/r/rosede01/splits/2024\n",
      "25 Derrick Rose https://www.basketball-reference.com/players/r/rosede01/splits/2023\n"
     ]
    },
    {
     "name": "stderr",
     "output_type": "stream",
     "text": [
      " 61%|████████████████████████████████████████████████▌                               | 268/441 [30:39<19:03,  6.61s/it]"
     ]
    },
    {
     "name": "stdout",
     "output_type": "stream",
     "text": [
      "26 Derrick Rose https://www.basketball-reference.com/players/r/rosede01/splits/2022\n",
      "27 Terry Rozier https://www.basketball-reference.com/players/r/roziete01/splits/2024\n",
      "28 Terry Rozier https://www.basketball-reference.com/players/r/roziete01/splits/2023\n"
     ]
    },
    {
     "name": "stderr",
     "output_type": "stream",
     "text": [
      " 61%|████████████████████████████████████████████████▊                               | 269/441 [30:47<19:59,  6.97s/it]"
     ]
    },
    {
     "name": "stdout",
     "output_type": "stream",
     "text": [
      "29 Terry Rozier https://www.basketball-reference.com/players/r/roziete01/splits/2022\n"
     ]
    },
    {
     "name": "stderr",
     "output_type": "stream",
     "text": [
      " 61%|████████████████████████████████████████████████▉                               | 270/441 [30:49<16:00,  5.62s/it]"
     ]
    },
    {
     "name": "stdout",
     "output_type": "stream",
     "text": [
      "30 Rayan Rupert https://www.basketball-reference.com/players/r/ruperra01/splits/2024\n",
      "31 D'Angelo Russell https://www.basketball-reference.com/players/r/russeda01/splits/2024\n",
      "32 D'Angelo Russell https://www.basketball-reference.com/players/r/russeda01/splits/2023\n"
     ]
    },
    {
     "name": "stderr",
     "output_type": "stream",
     "text": [
      " 61%|█████████████████████████████████████████████████▏                              | 271/441 [30:58<18:08,  6.40s/it]"
     ]
    },
    {
     "name": "stdout",
     "output_type": "stream",
     "text": [
      "33 D'Angelo Russell https://www.basketball-reference.com/players/r/russeda01/splits/2022\n",
      "34 Matt Ryan https://www.basketball-reference.com/players/r/ryanma01/splits/2024\n",
      "35 Matt Ryan https://www.basketball-reference.com/players/r/ryanma01/splits/2023\n"
     ]
    },
    {
     "name": "stderr",
     "output_type": "stream",
     "text": [
      " 62%|█████████████████████████████████████████████████▎                              | 272/441 [31:04<18:21,  6.52s/it]"
     ]
    },
    {
     "name": "stdout",
     "output_type": "stream",
     "text": [
      "36 Matt Ryan https://www.basketball-reference.com/players/r/ryanma01/splits/2022\n",
      "37 Domantas Sabonis https://www.basketball-reference.com/players/s/sabondo01/splits/2024\n",
      "38 Domantas Sabonis https://www.basketball-reference.com/players/s/sabondo01/splits/2023\n"
     ]
    },
    {
     "name": "stderr",
     "output_type": "stream",
     "text": [
      " 62%|█████████████████████████████████████████████████▌                              | 273/441 [31:13<19:32,  6.98s/it]"
     ]
    },
    {
     "name": "stdout",
     "output_type": "stream",
     "text": [
      "39 Domantas Sabonis https://www.basketball-reference.com/players/s/sabondo01/splits/2022\n",
      "40 Luka Å amaniÄ https://www.basketball-reference.com/players/s/samanlu01/splits/2024\n",
      "41 Luka Å amaniÄ https://www.basketball-reference.com/players/s/samanlu01/splits/2023\n"
     ]
    },
    {
     "name": "stderr",
     "output_type": "stream",
     "text": [
      " 62%|█████████████████████████████████████████████████▋                              | 274/441 [31:19<19:21,  6.96s/it]"
     ]
    },
    {
     "name": "stdout",
     "output_type": "stream",
     "text": [
      "42 Luka Å amaniÄ https://www.basketball-reference.com/players/s/samanlu01/splits/2022\n"
     ]
    },
    {
     "name": "stderr",
     "output_type": "stream",
     "text": [
      " 62%|█████████████████████████████████████████████████▉                              | 275/441 [31:22<15:16,  5.52s/it]"
     ]
    },
    {
     "name": "stdout",
     "output_type": "stream",
     "text": [
      "42 Brandon Sampson https://www.basketball-reference.com/players/s/sampsbr01/splits/2019\n"
     ]
    },
    {
     "name": "stderr",
     "output_type": "stream",
     "text": [
      " 63%|██████████████████████████████████████████████████                              | 276/441 [31:25<13:25,  4.88s/it]"
     ]
    },
    {
     "name": "stdout",
     "output_type": "stream",
     "text": [
      "43 Jermaine Samuels https://www.basketball-reference.com/players/s/samueje01/splits/2024\n"
     ]
    },
    {
     "name": "stderr",
     "output_type": "stream",
     "text": [
      " 63%|██████████████████████████████████████████████████▏                             | 277/441 [31:28<11:43,  4.29s/it]"
     ]
    },
    {
     "name": "stdout",
     "output_type": "stream",
     "text": [
      "44 Adama Sanogo https://www.basketball-reference.com/players/s/sanogad01/splits/2024\n"
     ]
    },
    {
     "name": "stderr",
     "output_type": "stream",
     "text": [
      " 63%|██████████████████████████████████████████████████▍                             | 278/441 [31:30<10:10,  3.74s/it]"
     ]
    },
    {
     "name": "stdout",
     "output_type": "stream",
     "text": [
      "45 Gui Santos https://www.basketball-reference.com/players/s/santogu01/splits/2024\n",
      "46 Dario Å ariÄ https://www.basketball-reference.com/players/s/saricda01/splits/2024\n",
      "47 Dario Å ariÄ https://www.basketball-reference.com/players/s/saricda01/splits/2023\n"
     ]
    },
    {
     "name": "stderr",
     "output_type": "stream",
     "text": [
      " 63%|██████████████████████████████████████████████████▌                             | 279/441 [31:38<13:10,  4.88s/it]"
     ]
    },
    {
     "name": "stdout",
     "output_type": "stream",
     "text": [
      "48 Dario Å ariÄ https://www.basketball-reference.com/players/s/saricda01/splits/2022\n",
      "48 Olivier Sarr https://www.basketball-reference.com/players/s/sarrol01/splits/2024\n",
      "49 Olivier Sarr https://www.basketball-reference.com/players/s/sarrol01/splits/2023\n"
     ]
    },
    {
     "name": "stderr",
     "output_type": "stream",
     "text": [
      " 63%|██████████████████████████████████████████████████▊                             | 280/441 [31:45<15:06,  5.63s/it]"
     ]
    },
    {
     "name": "stdout",
     "output_type": "stream",
     "text": [
      "50 Olivier Sarr https://www.basketball-reference.com/players/s/sarrol01/splits/2022\n"
     ]
    },
    {
     "name": "stderr",
     "output_type": "stream",
     "text": [
      " 64%|██████████████████████████████████████████████████▉                             | 281/441 [31:48<12:25,  4.66s/it]"
     ]
    },
    {
     "name": "stdout",
     "output_type": "stream",
     "text": [
      "51 Marcus Sasser https://www.basketball-reference.com/players/s/sassema01/splits/2024\n",
      "52 Jordan Schakel https://www.basketball-reference.com/players/s/schakjo01/splits/2023\n"
     ]
    },
    {
     "name": "stderr",
     "output_type": "stream",
     "text": [
      " 64%|███████████████████████████████████████████████████▏                            | 282/441 [31:52<11:58,  4.52s/it]"
     ]
    },
    {
     "name": "stdout",
     "output_type": "stream",
     "text": [
      "53 Jordan Schakel https://www.basketball-reference.com/players/s/schakjo01/splits/2022\n",
      "54 Admiral Schofield https://www.basketball-reference.com/players/s/schofad01/splits/2024\n",
      "55 Admiral Schofield https://www.basketball-reference.com/players/s/schofad01/splits/2023\n"
     ]
    },
    {
     "name": "stderr",
     "output_type": "stream",
     "text": [
      " 64%|███████████████████████████████████████████████████▎                            | 283/441 [31:59<14:17,  5.43s/it]"
     ]
    },
    {
     "name": "stdout",
     "output_type": "stream",
     "text": [
      "56 Admiral Schofield https://www.basketball-reference.com/players/s/schofad01/splits/2022\n",
      "57 Dennis SchrÃ¶der https://www.basketball-reference.com/players/s/schrode01/splits/2024\n",
      "58 Dennis SchrÃ¶der https://www.basketball-reference.com/players/s/schrode01/splits/2023\n"
     ]
    },
    {
     "name": "stderr",
     "output_type": "stream",
     "text": [
      " 64%|███████████████████████████████████████████████████▌                            | 284/441 [32:08<16:44,  6.40s/it]"
     ]
    },
    {
     "name": "stdout",
     "output_type": "stream",
     "text": [
      "59 Dennis SchrÃ¶der https://www.basketball-reference.com/players/s/schrode01/splits/2022\n",
      "60 Jay Scrubb https://www.basketball-reference.com/players/s/scrubja01/splits/2023\n",
      "61 Jay Scrubb https://www.basketball-reference.com/players/s/scrubja01/splits/2022\n"
     ]
    },
    {
     "name": "stderr",
     "output_type": "stream",
     "text": [
      " 65%|███████████████████████████████████████████████████▋                            | 285/441 [32:15<17:10,  6.61s/it]"
     ]
    },
    {
     "name": "stdout",
     "output_type": "stream",
     "text": [
      "62 Jay Scrubb https://www.basketball-reference.com/players/s/scrubja01/splits/2021\n",
      "63 Dereon Seabron https://www.basketball-reference.com/players/s/seabrde01/splits/2024\n"
     ]
    },
    {
     "name": "stderr",
     "output_type": "stream",
     "text": [
      " 65%|███████████████████████████████████████████████████▉                            | 286/441 [32:20<15:29,  6.00s/it]"
     ]
    },
    {
     "name": "stdout",
     "output_type": "stream",
     "text": [
      "64 Dereon Seabron https://www.basketball-reference.com/players/s/seabrde01/splits/2023\n",
      "65 Alperen Sengun https://www.basketball-reference.com/players/s/sengual01/splits/2024\n",
      "66 Alperen Sengun https://www.basketball-reference.com/players/s/sengual01/splits/2023\n"
     ]
    },
    {
     "name": "stderr",
     "output_type": "stream",
     "text": [
      " 65%|████████████████████████████████████████████████████                            | 287/441 [32:27<16:24,  6.39s/it]"
     ]
    },
    {
     "name": "stdout",
     "output_type": "stream",
     "text": [
      "67 Alperen Sengun https://www.basketball-reference.com/players/s/sengual01/splits/2022\n"
     ]
    },
    {
     "name": "stderr",
     "output_type": "stream",
     "text": [
      " 65%|████████████████████████████████████████████████████▏                           | 288/441 [32:30<13:31,  5.30s/it]"
     ]
    },
    {
     "name": "stdout",
     "output_type": "stream",
     "text": [
      "68 Brice Sensabaugh https://www.basketball-reference.com/players/s/sensabr01/splits/2024\n",
      "69 Collin Sexton https://www.basketball-reference.com/players/s/sextoco01/splits/2024\n",
      "70 Collin Sexton https://www.basketball-reference.com/players/s/sextoco01/splits/2023\n"
     ]
    },
    {
     "name": "stderr",
     "output_type": "stream",
     "text": [
      " 66%|████████████████████████████████████████████████████▍                           | 289/441 [32:38<15:20,  6.06s/it]"
     ]
    },
    {
     "name": "stdout",
     "output_type": "stream",
     "text": [
      "71 Collin Sexton https://www.basketball-reference.com/players/s/sextoco01/splits/2022\n",
      "72 Landry Shamet https://www.basketball-reference.com/players/s/shamela01/splits/2024\n",
      "73 Landry Shamet https://www.basketball-reference.com/players/s/shamela01/splits/2023\n"
     ]
    },
    {
     "name": "stderr",
     "output_type": "stream",
     "text": [
      " 66%|████████████████████████████████████████████████████▌                           | 290/441 [32:49<18:51,  7.49s/it]"
     ]
    },
    {
     "name": "stdout",
     "output_type": "stream",
     "text": [
      "74 Landry Shamet https://www.basketball-reference.com/players/s/shamela01/splits/2022\n",
      "75 Day'Ron Sharpe https://www.basketball-reference.com/players/s/sharpda01/splits/2024\n",
      "76 Day'Ron Sharpe https://www.basketball-reference.com/players/s/sharpda01/splits/2023\n"
     ]
    },
    {
     "name": "stderr",
     "output_type": "stream",
     "text": [
      " 66%|████████████████████████████████████████████████████▊                           | 291/441 [32:57<19:14,  7.70s/it]"
     ]
    },
    {
     "name": "stdout",
     "output_type": "stream",
     "text": [
      "77 Day'Ron Sharpe https://www.basketball-reference.com/players/s/sharpda01/splits/2022\n",
      "78 Shaedon Sharpe https://www.basketball-reference.com/players/s/sharpsh01/splits/2024\n"
     ]
    },
    {
     "name": "stderr",
     "output_type": "stream",
     "text": [
      " 66%|████████████████████████████████████████████████████▉                           | 292/441 [33:02<17:11,  6.92s/it]"
     ]
    },
    {
     "name": "stdout",
     "output_type": "stream",
     "text": [
      "79 Shaedon Sharpe https://www.basketball-reference.com/players/s/sharpsh01/splits/2023\n"
     ]
    },
    {
     "name": "stderr",
     "output_type": "stream",
     "text": [
      " 66%|█████████████████████████████████████████████████████▏                          | 293/441 [33:04<13:32,  5.49s/it]"
     ]
    },
    {
     "name": "stdout",
     "output_type": "stream",
     "text": [
      "80 Marial Shayok https://www.basketball-reference.com/players/s/shayoma01/splits/2020\n"
     ]
    },
    {
     "name": "stderr",
     "output_type": "stream",
     "text": [
      " 67%|█████████████████████████████████████████████████████▎                          | 294/441 [33:06<11:16,  4.61s/it]"
     ]
    },
    {
     "name": "stdout",
     "output_type": "stream",
     "text": [
      "81 Ben Sheppard https://www.basketball-reference.com/players/s/sheppbe01/splits/2024\n",
      "82 Pascal Siakam https://www.basketball-reference.com/players/s/siakapa01/splits/2024\n",
      "83 Pascal Siakam https://www.basketball-reference.com/players/s/siakapa01/splits/2023\n"
     ]
    },
    {
     "name": "stderr",
     "output_type": "stream",
     "text": [
      " 67%|█████████████████████████████████████████████████████▌                          | 295/441 [33:16<14:36,  6.00s/it]"
     ]
    },
    {
     "name": "stdout",
     "output_type": "stream",
     "text": [
      "84 Pascal Siakam https://www.basketball-reference.com/players/s/siakapa01/splits/2022\n",
      "85 Chris Silva https://www.basketball-reference.com/players/s/silvach01/splits/2023\n",
      "86 Chris Silva https://www.basketball-reference.com/players/s/silvach01/splits/2022\n"
     ]
    },
    {
     "name": "stderr",
     "output_type": "stream",
     "text": [
      " 67%|█████████████████████████████████████████████████████▋                          | 296/441 [33:22<14:59,  6.20s/it]"
     ]
    },
    {
     "name": "stdout",
     "output_type": "stream",
     "text": [
      "87 Chris Silva https://www.basketball-reference.com/players/s/silvach01/splits/2021\n",
      "88 Ben Simmons https://www.basketball-reference.com/players/s/simmobe01/splits/2024\n",
      "89 Ben Simmons https://www.basketball-reference.com/players/s/simmobe01/splits/2023\n",
      "---------------------------PAUSE-------------------------------\n"
     ]
    },
    {
     "name": "stderr",
     "output_type": "stream",
     "text": [
      " 67%|█████████████████████████████████████████████████████▉                          | 297/441 [33:35<19:38,  8.18s/it]"
     ]
    },
    {
     "name": "stdout",
     "output_type": "stream",
     "text": [
      "0 Ben Simmons https://www.basketball-reference.com/players/s/simmobe01/splits/2022\n",
      "0 Kobi Simmons https://www.basketball-reference.com/players/s/simmoko01/splits/2024\n",
      "1 Kobi Simmons https://www.basketball-reference.com/players/s/simmoko01/splits/2023\n"
     ]
    },
    {
     "name": "stderr",
     "output_type": "stream",
     "text": [
      " 68%|██████████████████████████████████████████████████████                          | 298/441 [33:42<18:18,  7.68s/it]"
     ]
    },
    {
     "name": "stdout",
     "output_type": "stream",
     "text": [
      "2 Kobi Simmons https://www.basketball-reference.com/players/s/simmoko01/splits/2022\n",
      "2 Marko Simonovic https://www.basketball-reference.com/players/s/simonma01/splits/2023\n"
     ]
    },
    {
     "name": "stderr",
     "output_type": "stream",
     "text": [
      " 68%|██████████████████████████████████████████████████████▏                         | 299/441 [33:46<16:02,  6.78s/it]"
     ]
    },
    {
     "name": "stdout",
     "output_type": "stream",
     "text": [
      "3 Marko Simonovic https://www.basketball-reference.com/players/s/simonma01/splits/2022\n",
      "4 Anfernee Simons https://www.basketball-reference.com/players/s/simonan01/splits/2024\n",
      "5 Anfernee Simons https://www.basketball-reference.com/players/s/simonan01/splits/2023\n"
     ]
    },
    {
     "name": "stderr",
     "output_type": "stream",
     "text": [
      " 68%|██████████████████████████████████████████████████████▍                         | 300/441 [33:54<16:34,  7.05s/it]"
     ]
    },
    {
     "name": "stdout",
     "output_type": "stream",
     "text": [
      "6 Anfernee Simons https://www.basketball-reference.com/players/s/simonan01/splits/2022\n",
      "7 Zavier Simpson https://www.basketball-reference.com/players/s/simpsza01/splits/2024\n",
      "8 Zavier Simpson https://www.basketball-reference.com/players/s/simpsza01/splits/2023\n"
     ]
    },
    {
     "name": "stderr",
     "output_type": "stream",
     "text": [
      " 68%|██████████████████████████████████████████████████████▌                         | 301/441 [34:01<16:15,  6.97s/it]"
     ]
    },
    {
     "name": "stdout",
     "output_type": "stream",
     "text": [
      "8 Zavier Simpson https://www.basketball-reference.com/players/s/simpsza01/splits/2022\n",
      "9 Jericho Sims https://www.basketball-reference.com/players/s/simsje01/splits/2024\n",
      "10 Jericho Sims https://www.basketball-reference.com/players/s/simsje01/splits/2023\n"
     ]
    },
    {
     "name": "stderr",
     "output_type": "stream",
     "text": [
      " 68%|██████████████████████████████████████████████████████▊                         | 302/441 [34:09<17:06,  7.39s/it]"
     ]
    },
    {
     "name": "stdout",
     "output_type": "stream",
     "text": [
      "11 Jericho Sims https://www.basketball-reference.com/players/s/simsje01/splits/2022\n",
      "12 Deividas Sirvydis https://www.basketball-reference.com/players/s/sirvyde01/splits/2022\n"
     ]
    },
    {
     "name": "stderr",
     "output_type": "stream",
     "text": [
      " 69%|██████████████████████████████████████████████████████▉                         | 303/441 [34:14<15:11,  6.60s/it]"
     ]
    },
    {
     "name": "stdout",
     "output_type": "stream",
     "text": [
      "13 Deividas Sirvydis https://www.basketball-reference.com/players/s/sirvyde01/splits/2021\n"
     ]
    },
    {
     "name": "stderr",
     "output_type": "stream",
     "text": [
      " 69%|███████████████████████████████████████████████████████▏                        | 304/441 [34:16<12:08,  5.32s/it]"
     ]
    },
    {
     "name": "stdout",
     "output_type": "stream",
     "text": [
      "14 Dmytro Skapintsev https://www.basketball-reference.com/players/s/skapidm01/splits/2024\n"
     ]
    },
    {
     "name": "stderr",
     "output_type": "stream",
     "text": [
      " 69%|███████████████████████████████████████████████████████▎                        | 305/441 [34:18<09:44,  4.30s/it]"
     ]
    },
    {
     "name": "stdout",
     "output_type": "stream",
     "text": [
      "15 Jalen Slawson https://www.basketball-reference.com/players/s/slawsja01/splits/2024\n",
      "16 Alen SmailagiÄ https://www.basketball-reference.com/players/s/smailal01/splits/2021\n"
     ]
    },
    {
     "name": "stderr",
     "output_type": "stream",
     "text": [
      " 69%|███████████████████████████████████████████████████████▌                        | 306/441 [34:23<10:00,  4.45s/it]"
     ]
    },
    {
     "name": "stdout",
     "output_type": "stream",
     "text": [
      "17 Alen SmailagiÄ https://www.basketball-reference.com/players/s/smailal01/splits/2020\n",
      "18 Javonte Smart https://www.basketball-reference.com/players/s/smartja01/splits/2024\n",
      "19 Javonte Smart https://www.basketball-reference.com/players/s/smartja01/splits/2023\n"
     ]
    },
    {
     "name": "stderr",
     "output_type": "stream",
     "text": [
      " 70%|███████████████████████████████████████████████████████▋                        | 307/441 [34:30<11:35,  5.19s/it]"
     ]
    },
    {
     "name": "stdout",
     "output_type": "stream",
     "text": [
      "19 Javonte Smart https://www.basketball-reference.com/players/s/smartja01/splits/2022\n",
      "20 Marcus Smart https://www.basketball-reference.com/players/s/smartma01/splits/2024\n",
      "21 Marcus Smart https://www.basketball-reference.com/players/s/smartma01/splits/2023\n"
     ]
    },
    {
     "name": "stderr",
     "output_type": "stream",
     "text": [
      " 70%|███████████████████████████████████████████████████████▊                        | 308/441 [34:38<13:34,  6.12s/it]"
     ]
    },
    {
     "name": "stdout",
     "output_type": "stream",
     "text": [
      "22 Marcus Smart https://www.basketball-reference.com/players/s/smartma01/splits/2022\n",
      "23 Dennis Smith Jr. https://www.basketball-reference.com/players/s/smithde03/splits/2024\n",
      "24 Dennis Smith Jr. https://www.basketball-reference.com/players/s/smithde03/splits/2023\n"
     ]
    },
    {
     "name": "stderr",
     "output_type": "stream",
     "text": [
      " 70%|████████████████████████████████████████████████████████                        | 309/441 [34:46<14:37,  6.65s/it]"
     ]
    },
    {
     "name": "stdout",
     "output_type": "stream",
     "text": [
      "25 Dennis Smith Jr. https://www.basketball-reference.com/players/s/smithde03/splits/2022\n",
      "26 Dru Smith https://www.basketball-reference.com/players/s/smithdr01/splits/2024\n"
     ]
    },
    {
     "name": "stderr",
     "output_type": "stream",
     "text": [
      " 70%|████████████████████████████████████████████████████████▏                       | 310/441 [34:51<13:10,  6.04s/it]"
     ]
    },
    {
     "name": "stdout",
     "output_type": "stream",
     "text": [
      "27 Dru Smith https://www.basketball-reference.com/players/s/smithdr01/splits/2023\n",
      "28 Ish Smith https://www.basketball-reference.com/players/s/smithis01/splits/2024\n",
      "29 Ish Smith https://www.basketball-reference.com/players/s/smithis01/splits/2023\n"
     ]
    },
    {
     "name": "stderr",
     "output_type": "stream",
     "text": [
      " 71%|████████████████████████████████████████████████████████▍                       | 311/441 [35:01<15:47,  7.29s/it]"
     ]
    },
    {
     "name": "stdout",
     "output_type": "stream",
     "text": [
      "30 Ish Smith https://www.basketball-reference.com/players/s/smithis01/splits/2022\n",
      "31 Jabari Smith Jr. https://www.basketball-reference.com/players/s/smithja05/splits/2024\n"
     ]
    },
    {
     "name": "stderr",
     "output_type": "stream",
     "text": [
      " 71%|████████████████████████████████████████████████████████▌                       | 312/441 [35:06<14:18,  6.65s/it]"
     ]
    },
    {
     "name": "stdout",
     "output_type": "stream",
     "text": [
      "32 Jabari Smith Jr. https://www.basketball-reference.com/players/s/smithja05/splits/2023\n",
      "33 Jalen Smith https://www.basketball-reference.com/players/s/smithja04/splits/2024\n",
      "34 Jalen Smith https://www.basketball-reference.com/players/s/smithja04/splits/2023\n"
     ]
    },
    {
     "name": "stderr",
     "output_type": "stream",
     "text": [
      " 71%|████████████████████████████████████████████████████████▊                       | 313/441 [35:13<14:28,  6.79s/it]"
     ]
    },
    {
     "name": "stdout",
     "output_type": "stream",
     "text": [
      "35 Jalen Smith https://www.basketball-reference.com/players/s/smithja04/splits/2022\n"
     ]
    },
    {
     "name": "stderr",
     "output_type": "stream",
     "text": [
      " 71%|████████████████████████████████████████████████████████▉                       | 314/441 [35:16<11:43,  5.54s/it]"
     ]
    },
    {
     "name": "stdout",
     "output_type": "stream",
     "text": [
      "36 Nick Smith Jr. https://www.basketball-reference.com/players/s/smithni01/splits/2024\n"
     ]
    },
    {
     "name": "stderr",
     "output_type": "stream",
     "text": [
      " 71%|█████████████████████████████████████████████████████████▏                      | 315/441 [35:18<09:38,  4.59s/it]"
     ]
    },
    {
     "name": "stdout",
     "output_type": "stream",
     "text": [
      "37 Terquavion Smith https://www.basketball-reference.com/players/s/smithte01/splits/2024\n",
      "38 Zhaire Smith https://www.basketball-reference.com/players/s/smithzh01/splits/2020\n"
     ]
    },
    {
     "name": "stderr",
     "output_type": "stream",
     "text": [
      " 72%|█████████████████████████████████████████████████████████▎                      | 316/441 [35:23<09:45,  4.68s/it]"
     ]
    },
    {
     "name": "stdout",
     "output_type": "stream",
     "text": [
      "39 Zhaire Smith https://www.basketball-reference.com/players/s/smithzh01/splits/2019\n",
      "40 Xavier Sneed https://www.basketball-reference.com/players/s/sneedxa01/splits/2023\n"
     ]
    },
    {
     "name": "stderr",
     "output_type": "stream",
     "text": [
      " 72%|█████████████████████████████████████████████████████████▌                      | 317/441 [35:28<09:56,  4.81s/it]"
     ]
    },
    {
     "name": "stdout",
     "output_type": "stream",
     "text": [
      "41 Xavier Sneed https://www.basketball-reference.com/players/s/sneedxa01/splits/2022\n",
      "42 Jeremy Sochan https://www.basketball-reference.com/players/s/sochaje01/splits/2024\n"
     ]
    },
    {
     "name": "stderr",
     "output_type": "stream",
     "text": [
      " 72%|█████████████████████████████████████████████████████████▋                      | 318/441 [35:34<10:08,  4.95s/it]"
     ]
    },
    {
     "name": "stdout",
     "output_type": "stream",
     "text": [
      "43 Jeremy Sochan https://www.basketball-reference.com/players/s/sochaje01/splits/2023\n",
      "44 Ray Spalding https://www.basketball-reference.com/players/s/spaldra01/splits/2021\n",
      "45 Ray Spalding https://www.basketball-reference.com/players/s/spaldra01/splits/2020\n"
     ]
    },
    {
     "name": "stderr",
     "output_type": "stream",
     "text": [
      " 72%|█████████████████████████████████████████████████████████▊                      | 319/441 [35:40<11:05,  5.45s/it]"
     ]
    },
    {
     "name": "stdout",
     "output_type": "stream",
     "text": [
      "45 Ray Spalding https://www.basketball-reference.com/players/s/spaldra01/splits/2019\n",
      "46 Omari Spellman https://www.basketball-reference.com/players/s/spellom01/splits/2020\n"
     ]
    },
    {
     "name": "stderr",
     "output_type": "stream",
     "text": [
      " 73%|██████████████████████████████████████████████████████████                      | 320/441 [35:45<10:37,  5.27s/it]"
     ]
    },
    {
     "name": "stdout",
     "output_type": "stream",
     "text": [
      "47 Omari Spellman https://www.basketball-reference.com/players/s/spellom01/splits/2019\n"
     ]
    },
    {
     "name": "stderr",
     "output_type": "stream",
     "text": [
      " 73%|██████████████████████████████████████████████████████████▏                     | 321/441 [35:47<08:43,  4.37s/it]"
     ]
    },
    {
     "name": "stdout",
     "output_type": "stream",
     "text": [
      "48 Pat Spencer https://www.basketball-reference.com/players/s/spencpa01/splits/2024\n",
      "49 Jaden Springer https://www.basketball-reference.com/players/s/sprinja01/splits/2024\n",
      "50 Jaden Springer https://www.basketball-reference.com/players/s/sprinja01/splits/2023\n"
     ]
    },
    {
     "name": "stderr",
     "output_type": "stream",
     "text": [
      " 73%|██████████████████████████████████████████████████████████▍                     | 322/441 [35:54<10:07,  5.10s/it]"
     ]
    },
    {
     "name": "stdout",
     "output_type": "stream",
     "text": [
      "51 Jaden Springer https://www.basketball-reference.com/players/s/sprinja01/splits/2022\n",
      "52 Cassius Stanley https://www.basketball-reference.com/players/s/stanlca01/splits/2022\n"
     ]
    },
    {
     "name": "stderr",
     "output_type": "stream",
     "text": [
      " 73%|██████████████████████████████████████████████████████████▌                     | 323/441 [35:59<09:47,  4.98s/it]"
     ]
    },
    {
     "name": "stdout",
     "output_type": "stream",
     "text": [
      "53 Cassius Stanley https://www.basketball-reference.com/players/s/stanlca01/splits/2021\n",
      "54 Nik Stauskas https://www.basketball-reference.com/players/s/stausni01/splits/2022\n",
      "55 Nik Stauskas https://www.basketball-reference.com/players/s/stausni01/splits/2021\n"
     ]
    },
    {
     "name": "stderr",
     "output_type": "stream",
     "text": [
      " 73%|██████████████████████████████████████████████████████████▊                     | 324/441 [36:05<10:32,  5.41s/it]"
     ]
    },
    {
     "name": "stdout",
     "output_type": "stream",
     "text": [
      "55 Nik Stauskas https://www.basketball-reference.com/players/s/stausni01/splits/2020\n",
      "55 Lamar Stevens https://www.basketball-reference.com/players/s/stevela01/splits/2024\n",
      "56 Lamar Stevens https://www.basketball-reference.com/players/s/stevela01/splits/2023\n"
     ]
    },
    {
     "name": "stderr",
     "output_type": "stream",
     "text": [
      " 74%|██████████████████████████████████████████████████████████▉                     | 325/441 [36:13<11:34,  5.99s/it]"
     ]
    },
    {
     "name": "stdout",
     "output_type": "stream",
     "text": [
      "57 Lamar Stevens https://www.basketball-reference.com/players/s/stevela01/splits/2022\n",
      "58 Isaiah Stewart https://www.basketball-reference.com/players/s/stewais01/splits/2024\n",
      "59 Isaiah Stewart https://www.basketball-reference.com/players/s/stewais01/splits/2023\n"
     ]
    },
    {
     "name": "stderr",
     "output_type": "stream",
     "text": [
      " 74%|███████████████████████████████████████████████████████████▏                    | 326/441 [36:20<12:29,  6.52s/it]"
     ]
    },
    {
     "name": "stdout",
     "output_type": "stream",
     "text": [
      "60 Isaiah Stewart https://www.basketball-reference.com/players/s/stewais01/splits/2022\n"
     ]
    },
    {
     "name": "stderr",
     "output_type": "stream",
     "text": [
      " 74%|███████████████████████████████████████████████████████████▎                    | 327/441 [36:23<10:09,  5.35s/it]"
     ]
    },
    {
     "name": "stdout",
     "output_type": "stream",
     "text": [
      "61 Julian Strawther https://www.basketball-reference.com/players/s/strawju01/splits/2024\n",
      "62 Max Strus https://www.basketball-reference.com/players/s/strusma01/splits/2024\n",
      "63 Max Strus https://www.basketball-reference.com/players/s/strusma01/splits/2023\n"
     ]
    },
    {
     "name": "stderr",
     "output_type": "stream",
     "text": [
      " 74%|███████████████████████████████████████████████████████████▌                    | 328/441 [36:31<11:33,  6.14s/it]"
     ]
    },
    {
     "name": "stdout",
     "output_type": "stream",
     "text": [
      "64 Max Strus https://www.basketball-reference.com/players/s/strusma01/splits/2022\n",
      "65 Jalen Suggs https://www.basketball-reference.com/players/s/suggsja01/splits/2024\n",
      "66 Jalen Suggs https://www.basketball-reference.com/players/s/suggsja01/splits/2023\n"
     ]
    },
    {
     "name": "stderr",
     "output_type": "stream",
     "text": [
      " 75%|███████████████████████████████████████████████████████████▋                    | 329/441 [36:39<12:18,  6.60s/it]"
     ]
    },
    {
     "name": "stdout",
     "output_type": "stream",
     "text": [
      "67 Jalen Suggs https://www.basketball-reference.com/players/s/suggsja01/splits/2022\n",
      "68 Edmond Sumner https://www.basketball-reference.com/players/s/sumneed01/splits/2023\n",
      "69 Edmond Sumner https://www.basketball-reference.com/players/s/sumneed01/splits/2022\n"
     ]
    },
    {
     "name": "stderr",
     "output_type": "stream",
     "text": [
      " 75%|███████████████████████████████████████████████████████████▊                    | 330/441 [36:46<12:29,  6.75s/it]"
     ]
    },
    {
     "name": "stdout",
     "output_type": "stream",
     "text": [
      "69 Edmond Sumner https://www.basketball-reference.com/players/s/sumneed01/splits/2021\n",
      "70 Cole Swider https://www.basketball-reference.com/players/s/swideco01/splits/2024\n"
     ]
    },
    {
     "name": "stderr",
     "output_type": "stream",
     "text": [
      " 75%|████████████████████████████████████████████████████████████                    | 331/441 [36:50<11:12,  6.11s/it]"
     ]
    },
    {
     "name": "stdout",
     "output_type": "stream",
     "text": [
      "71 Cole Swider https://www.basketball-reference.com/players/s/swideco01/splits/2023\n"
     ]
    },
    {
     "name": "stderr",
     "output_type": "stream",
     "text": [
      " 75%|████████████████████████████████████████████████████████████▏                   | 332/441 [36:52<08:58,  4.94s/it]"
     ]
    },
    {
     "name": "stdout",
     "output_type": "stream",
     "text": [
      "72 Craig Sword https://www.basketball-reference.com/players/s/swordcr01/splits/2022\n"
     ]
    },
    {
     "name": "stderr",
     "output_type": "stream",
     "text": [
      " 76%|████████████████████████████████████████████████████████████▍                   | 333/441 [36:55<07:28,  4.16s/it]"
     ]
    },
    {
     "name": "stdout",
     "output_type": "stream",
     "text": [
      "73 Keifer Sykes https://www.basketball-reference.com/players/s/sykeske01/splits/2022\n",
      "74 Jae'Sean Tate https://www.basketball-reference.com/players/t/tateja01/splits/2024\n",
      "75 Jae'Sean Tate https://www.basketball-reference.com/players/t/tateja01/splits/2023\n"
     ]
    },
    {
     "name": "stderr",
     "output_type": "stream",
     "text": [
      " 76%|████████████████████████████████████████████████████████████▌                   | 334/441 [37:02<09:11,  5.15s/it]"
     ]
    },
    {
     "name": "stdout",
     "output_type": "stream",
     "text": [
      "76 Jae'Sean Tate https://www.basketball-reference.com/players/t/tateja01/splits/2022\n",
      "77 Jayson Tatum https://www.basketball-reference.com/players/t/tatumja01/splits/2024\n",
      "78 Jayson Tatum https://www.basketball-reference.com/players/t/tatumja01/splits/2023\n"
     ]
    },
    {
     "name": "stderr",
     "output_type": "stream",
     "text": [
      " 76%|████████████████████████████████████████████████████████████▊                   | 335/441 [37:11<10:44,  6.08s/it]"
     ]
    },
    {
     "name": "stdout",
     "output_type": "stream",
     "text": [
      "79 Jayson Tatum https://www.basketball-reference.com/players/t/tatumja01/splits/2022\n",
      "80 Terry Taylor https://www.basketball-reference.com/players/t/taylote01/splits/2024\n",
      "81 Terry Taylor https://www.basketball-reference.com/players/t/taylote01/splits/2023\n"
     ]
    },
    {
     "name": "stderr",
     "output_type": "stream",
     "text": [
      " 76%|████████████████████████████████████████████████████████████▉                   | 336/441 [37:18<11:31,  6.59s/it]"
     ]
    },
    {
     "name": "stdout",
     "output_type": "stream",
     "text": [
      "82 Terry Taylor https://www.basketball-reference.com/players/t/taylote01/splits/2022\n",
      "83 Garrett Temple https://www.basketball-reference.com/players/t/templga01/splits/2024\n",
      "84 Garrett Temple https://www.basketball-reference.com/players/t/templga01/splits/2023\n"
     ]
    },
    {
     "name": "stderr",
     "output_type": "stream",
     "text": [
      " 76%|█████████████████████████████████████████████████████████████▏                  | 337/441 [37:26<12:08,  7.00s/it]"
     ]
    },
    {
     "name": "stdout",
     "output_type": "stream",
     "text": [
      "85 Garrett Temple https://www.basketball-reference.com/players/t/templga01/splits/2022\n",
      "86 Dalen Terry https://www.basketball-reference.com/players/t/terryda01/splits/2024\n"
     ]
    },
    {
     "name": "stderr",
     "output_type": "stream",
     "text": [
      " 77%|█████████████████████████████████████████████████████████████▎                  | 338/441 [37:31<10:55,  6.37s/it]"
     ]
    },
    {
     "name": "stdout",
     "output_type": "stream",
     "text": [
      "87 Dalen Terry https://www.basketball-reference.com/players/t/terryda01/splits/2023\n",
      "88 Tyrell Terry https://www.basketball-reference.com/players/t/terryty01/splits/2022\n",
      "89 Tyrell Terry https://www.basketball-reference.com/players/t/terryty01/splits/2021\n"
     ]
    },
    {
     "name": "stderr",
     "output_type": "stream",
     "text": [
      " 77%|█████████████████████████████████████████████████████████████▍                  | 339/441 [37:44<14:08,  8.32s/it]"
     ]
    },
    {
     "name": "stdout",
     "output_type": "stream",
     "text": [
      "---------------------------PAUSE-------------------------------\n",
      "0 Daniel Theis https://www.basketball-reference.com/players/t/theisda01/splits/2024\n",
      "1 Daniel Theis https://www.basketball-reference.com/players/t/theisda01/splits/2023\n"
     ]
    },
    {
     "name": "stderr",
     "output_type": "stream",
     "text": [
      " 77%|█████████████████████████████████████████████████████████████▋                  | 340/441 [37:52<13:44,  8.17s/it]"
     ]
    },
    {
     "name": "stdout",
     "output_type": "stream",
     "text": [
      "2 Daniel Theis https://www.basketball-reference.com/players/t/theisda01/splits/2022\n",
      "3 Brodric Thomas https://www.basketball-reference.com/players/t/thomabr01/splits/2022\n"
     ]
    },
    {
     "name": "stderr",
     "output_type": "stream",
     "text": [
      " 77%|█████████████████████████████████████████████████████████████▊                  | 341/441 [37:57<11:58,  7.19s/it]"
     ]
    },
    {
     "name": "stdout",
     "output_type": "stream",
     "text": [
      "4 Brodric Thomas https://www.basketball-reference.com/players/t/thomabr01/splits/2021\n",
      "5 Cam Thomas https://www.basketball-reference.com/players/t/thomaca02/splits/2024\n",
      "6 Cam Thomas https://www.basketball-reference.com/players/t/thomaca02/splits/2023\n"
     ]
    },
    {
     "name": "stderr",
     "output_type": "stream",
     "text": [
      " 78%|██████████████████████████████████████████████████████████████                  | 342/441 [38:05<12:08,  7.36s/it]"
     ]
    },
    {
     "name": "stdout",
     "output_type": "stream",
     "text": [
      "7 Cam Thomas https://www.basketball-reference.com/players/t/thomaca02/splits/2022\n",
      "8 Isaiah Thomas https://www.basketball-reference.com/players/t/thomais02/splits/2024\n",
      "9 Isaiah Thomas https://www.basketball-reference.com/players/t/thomais02/splits/2023\n"
     ]
    },
    {
     "name": "stderr",
     "output_type": "stream",
     "text": [
      " 78%|██████████████████████████████████████████████████████████████▏                 | 343/441 [38:12<11:53,  7.28s/it]"
     ]
    },
    {
     "name": "stdout",
     "output_type": "stream",
     "text": [
      "9 Isaiah Thomas https://www.basketball-reference.com/players/t/thomais02/splits/2022\n",
      "10 Khyri Thomas https://www.basketball-reference.com/players/t/thomakh01/splits/2021\n",
      "11 Khyri Thomas https://www.basketball-reference.com/players/t/thomakh01/splits/2020\n"
     ]
    },
    {
     "name": "stderr",
     "output_type": "stream",
     "text": [
      " 78%|██████████████████████████████████████████████████████████████▍                 | 344/441 [38:18<11:22,  7.04s/it]"
     ]
    },
    {
     "name": "stdout",
     "output_type": "stream",
     "text": [
      "12 Khyri Thomas https://www.basketball-reference.com/players/t/thomakh01/splits/2019\n"
     ]
    },
    {
     "name": "stderr",
     "output_type": "stream",
     "text": [
      " 78%|██████████████████████████████████████████████████████████████▌                 | 345/441 [38:20<09:02,  5.65s/it]"
     ]
    },
    {
     "name": "stdout",
     "output_type": "stream",
     "text": [
      "13 Amen Thompson https://www.basketball-reference.com/players/t/thompam01/splits/2024\n"
     ]
    },
    {
     "name": "stderr",
     "output_type": "stream",
     "text": [
      " 78%|██████████████████████████████████████████████████████████████▊                 | 346/441 [38:23<07:28,  4.72s/it]"
     ]
    },
    {
     "name": "stdout",
     "output_type": "stream",
     "text": [
      "14 Ausar Thompson https://www.basketball-reference.com/players/t/thompau01/splits/2024\n",
      "15 Klay Thompson https://www.basketball-reference.com/players/t/thompkl01/splits/2024\n",
      "16 Klay Thompson https://www.basketball-reference.com/players/t/thompkl01/splits/2023\n"
     ]
    },
    {
     "name": "stderr",
     "output_type": "stream",
     "text": [
      " 79%|██████████████████████████████████████████████████████████████▉                 | 347/441 [38:32<09:31,  6.08s/it]"
     ]
    },
    {
     "name": "stdout",
     "output_type": "stream",
     "text": [
      "17 Klay Thompson https://www.basketball-reference.com/players/t/thompkl01/splits/2022\n",
      "18 Tristan Thompson https://www.basketball-reference.com/players/t/thomptr01/splits/2024\n",
      "19 Tristan Thompson https://www.basketball-reference.com/players/t/thomptr01/splits/2023\n"
     ]
    },
    {
     "name": "stderr",
     "output_type": "stream",
     "text": [
      " 79%|███████████████████████████████████████████████████████████████▏                | 348/441 [38:40<10:04,  6.50s/it]"
     ]
    },
    {
     "name": "stdout",
     "output_type": "stream",
     "text": [
      "19 Tristan Thompson https://www.basketball-reference.com/players/t/thomptr01/splits/2022\n",
      "20 JT Thor https://www.basketball-reference.com/players/t/thorjt01/splits/2024\n",
      "21 JT Thor https://www.basketball-reference.com/players/t/thorjt01/splits/2023\n"
     ]
    },
    {
     "name": "stderr",
     "output_type": "stream",
     "text": [
      " 79%|███████████████████████████████████████████████████████████████▎                | 349/441 [38:48<10:35,  6.91s/it]"
     ]
    },
    {
     "name": "stdout",
     "output_type": "stream",
     "text": [
      "22 JT Thor https://www.basketball-reference.com/players/t/thorjt01/splits/2022\n",
      "23 Matisse Thybulle https://www.basketball-reference.com/players/t/thybuma01/splits/2024\n",
      "24 Matisse Thybulle https://www.basketball-reference.com/players/t/thybuma01/splits/2023\n"
     ]
    },
    {
     "name": "stderr",
     "output_type": "stream",
     "text": [
      " 79%|███████████████████████████████████████████████████████████████▍                | 350/441 [38:55<10:46,  7.10s/it]"
     ]
    },
    {
     "name": "stdout",
     "output_type": "stream",
     "text": [
      "25 Matisse Thybulle https://www.basketball-reference.com/players/t/thybuma01/splits/2022\n",
      "26 Killian Tillie https://www.basketball-reference.com/players/t/tilliki02/splits/2022\n"
     ]
    },
    {
     "name": "stderr",
     "output_type": "stream",
     "text": [
      " 80%|███████████████████████████████████████████████████████████████▋                | 351/441 [39:00<09:39,  6.43s/it]"
     ]
    },
    {
     "name": "stdout",
     "output_type": "stream",
     "text": [
      "27 Killian Tillie https://www.basketball-reference.com/players/t/tilliki02/splits/2021\n",
      "28 Xavier Tillman Sr. https://www.basketball-reference.com/players/t/tillmxa01/splits/2024\n",
      "29 Xavier Tillman Sr. https://www.basketball-reference.com/players/t/tillmxa01/splits/2023\n"
     ]
    },
    {
     "name": "stderr",
     "output_type": "stream",
     "text": [
      " 80%|███████████████████████████████████████████████████████████████▊                | 352/441 [39:10<10:53,  7.34s/it]"
     ]
    },
    {
     "name": "stdout",
     "output_type": "stream",
     "text": [
      "30 Xavier Tillman Sr. https://www.basketball-reference.com/players/t/tillmxa01/splits/2022\n",
      "31 Isaiah Todd https://www.basketball-reference.com/players/t/toddis01/splits/2023\n"
     ]
    },
    {
     "name": "stderr",
     "output_type": "stream",
     "text": [
      " 80%|████████████████████████████████████████████████████████████████                | 353/441 [39:14<09:23,  6.40s/it]"
     ]
    },
    {
     "name": "stdout",
     "output_type": "stream",
     "text": [
      "32 Isaiah Todd https://www.basketball-reference.com/players/t/toddis01/splits/2022\n"
     ]
    },
    {
     "name": "stderr",
     "output_type": "stream",
     "text": [
      " 80%|████████████████████████████████████████████████████████████████▏               | 354/441 [39:16<07:28,  5.16s/it]"
     ]
    },
    {
     "name": "stdout",
     "output_type": "stream",
     "text": [
      "33 Jacob Toppin https://www.basketball-reference.com/players/t/toppija01/splits/2024\n",
      "34 Obi Toppin https://www.basketball-reference.com/players/t/toppiob01/splits/2024\n",
      "35 Obi Toppin https://www.basketball-reference.com/players/t/toppiob01/splits/2023\n"
     ]
    },
    {
     "name": "stderr",
     "output_type": "stream",
     "text": [
      " 80%|████████████████████████████████████████████████████████████████▍               | 355/441 [39:24<08:35,  5.99s/it]"
     ]
    },
    {
     "name": "stdout",
     "output_type": "stream",
     "text": [
      "36 Obi Toppin https://www.basketball-reference.com/players/t/toppiob01/splits/2022\n",
      "37 Juan Toscano-Anderson https://www.basketball-reference.com/players/t/toscaju01/splits/2024\n",
      "38 Juan Toscano-Anderson https://www.basketball-reference.com/players/t/toscaju01/splits/2023\n"
     ]
    },
    {
     "name": "stderr",
     "output_type": "stream",
     "text": [
      " 81%|████████████████████████████████████████████████████████████████▌               | 356/441 [39:32<09:11,  6.49s/it]"
     ]
    },
    {
     "name": "stdout",
     "output_type": "stream",
     "text": [
      "39 Juan Toscano-Anderson https://www.basketball-reference.com/players/t/toscaju01/splits/2022\n",
      "40 Karl-Anthony Towns https://www.basketball-reference.com/players/t/townska01/splits/2024\n",
      "41 Karl-Anthony Towns https://www.basketball-reference.com/players/t/townska01/splits/2023\n"
     ]
    },
    {
     "name": "stderr",
     "output_type": "stream",
     "text": [
      " 81%|████████████████████████████████████████████████████████████████▊               | 357/441 [39:40<09:44,  6.96s/it]"
     ]
    },
    {
     "name": "stdout",
     "output_type": "stream",
     "text": [
      "42 Karl-Anthony Towns https://www.basketball-reference.com/players/t/townska01/splits/2022\n",
      "43 Gary Trent Jr. https://www.basketball-reference.com/players/t/trentga02/splits/2024\n",
      "44 Gary Trent Jr. https://www.basketball-reference.com/players/t/trentga02/splits/2023\n"
     ]
    },
    {
     "name": "stderr",
     "output_type": "stream",
     "text": [
      " 81%|████████████████████████████████████████████████████████████████▉               | 358/441 [39:48<10:12,  7.38s/it]"
     ]
    },
    {
     "name": "stdout",
     "output_type": "stream",
     "text": [
      "45 Gary Trent Jr. https://www.basketball-reference.com/players/t/trentga02/splits/2022\n"
     ]
    },
    {
     "name": "stderr",
     "output_type": "stream",
     "text": [
      " 81%|█████████████████████████████████████████████████████████████████               | 359/441 [39:50<08:00,  5.85s/it]"
     ]
    },
    {
     "name": "stdout",
     "output_type": "stream",
     "text": [
      "46 Oscar Tshiebwe https://www.basketball-reference.com/players/t/tshieos01/splits/2024\n",
      "47 P.J. Tucker https://www.basketball-reference.com/players/t/tuckepj01/splits/2024\n",
      "48 P.J. Tucker https://www.basketball-reference.com/players/t/tuckepj01/splits/2023\n"
     ]
    },
    {
     "name": "stderr",
     "output_type": "stream",
     "text": [
      " 82%|█████████████████████████████████████████████████████████████████▎              | 360/441 [39:59<08:53,  6.59s/it]"
     ]
    },
    {
     "name": "stdout",
     "output_type": "stream",
     "text": [
      "49 P.J. Tucker https://www.basketball-reference.com/players/t/tuckepj01/splits/2022\n",
      "50 Rayjon Tucker https://www.basketball-reference.com/players/t/tuckera01/splits/2022\n",
      "51 Rayjon Tucker https://www.basketball-reference.com/players/t/tuckera01/splits/2021\n"
     ]
    },
    {
     "name": "stderr",
     "output_type": "stream",
     "text": [
      " 82%|█████████████████████████████████████████████████████████████████▍              | 361/441 [40:06<08:56,  6.71s/it]"
     ]
    },
    {
     "name": "stdout",
     "output_type": "stream",
     "text": [
      "52 Rayjon Tucker https://www.basketball-reference.com/players/t/tuckera01/splits/2020\n",
      "53 Myles Turner https://www.basketball-reference.com/players/t/turnemy01/splits/2024\n",
      "54 Myles Turner https://www.basketball-reference.com/players/t/turnemy01/splits/2023\n"
     ]
    },
    {
     "name": "stderr",
     "output_type": "stream",
     "text": [
      " 82%|█████████████████████████████████████████████████████████████████▋              | 362/441 [40:14<09:36,  7.30s/it]"
     ]
    },
    {
     "name": "stdout",
     "output_type": "stream",
     "text": [
      "55 Myles Turner https://www.basketball-reference.com/players/t/turnemy01/splits/2022\n"
     ]
    },
    {
     "name": "stderr",
     "output_type": "stream",
     "text": [
      " 82%|█████████████████████████████████████████████████████████████████▊              | 363/441 [40:17<07:37,  5.87s/it]"
     ]
    },
    {
     "name": "stdout",
     "output_type": "stream",
     "text": [
      "56 Hunter Tyson https://www.basketball-reference.com/players/t/tysonhu01/splits/2024\n",
      "57 Stanley Umude https://www.basketball-reference.com/players/u/umudest01/splits/2024\n"
     ]
    },
    {
     "name": "stderr",
     "output_type": "stream",
     "text": [
      " 83%|██████████████████████████████████████████████████████████████████              | 364/441 [40:21<07:02,  5.49s/it]"
     ]
    },
    {
     "name": "stdout",
     "output_type": "stream",
     "text": [
      "58 Stanley Umude https://www.basketball-reference.com/players/u/umudest01/splits/2023\n",
      "59 Jonas ValanÄiÅ«nas https://www.basketball-reference.com/players/v/valanjo01/splits/2024\n",
      "60 Jonas ValanÄiÅ«nas https://www.basketball-reference.com/players/v/valanjo01/splits/2023\n"
     ]
    },
    {
     "name": "stderr",
     "output_type": "stream",
     "text": [
      " 83%|██████████████████████████████████████████████████████████████████▏             | 365/441 [40:30<08:07,  6.41s/it]"
     ]
    },
    {
     "name": "stdout",
     "output_type": "stream",
     "text": [
      "61 Jonas ValanÄiÅ«nas https://www.basketball-reference.com/players/v/valanjo01/splits/2022\n",
      "62 Denzel Valentine https://www.basketball-reference.com/players/v/valende01/splits/2022\n",
      "63 Denzel Valentine https://www.basketball-reference.com/players/v/valende01/splits/2021\n"
     ]
    },
    {
     "name": "stderr",
     "output_type": "stream",
     "text": [
      " 83%|██████████████████████████████████████████████████████████████████▍             | 366/441 [40:37<08:23,  6.71s/it]"
     ]
    },
    {
     "name": "stdout",
     "output_type": "stream",
     "text": [
      "64 Denzel Valentine https://www.basketball-reference.com/players/v/valende01/splits/2020\n",
      "65 Fred VanVleet https://www.basketball-reference.com/players/v/vanvlfr01/splits/2024\n",
      "66 Fred VanVleet https://www.basketball-reference.com/players/v/vanvlfr01/splits/2023\n"
     ]
    },
    {
     "name": "stderr",
     "output_type": "stream",
     "text": [
      " 83%|██████████████████████████████████████████████████████████████████▌             | 367/441 [40:45<08:43,  7.07s/it]"
     ]
    },
    {
     "name": "stdout",
     "output_type": "stream",
     "text": [
      "67 Fred VanVleet https://www.basketball-reference.com/players/v/vanvlfr01/splits/2022\n",
      "68 Jarred Vanderbilt https://www.basketball-reference.com/players/v/vandeja01/splits/2024\n",
      "69 Jarred Vanderbilt https://www.basketball-reference.com/players/v/vandeja01/splits/2023\n"
     ]
    },
    {
     "name": "stderr",
     "output_type": "stream",
     "text": [
      " 83%|██████████████████████████████████████████████████████████████████▊             | 368/441 [40:53<08:54,  7.33s/it]"
     ]
    },
    {
     "name": "stdout",
     "output_type": "stream",
     "text": [
      "70 Jarred Vanderbilt https://www.basketball-reference.com/players/v/vandeja01/splits/2022\n",
      "71 Devin Vassell https://www.basketball-reference.com/players/v/vassede01/splits/2024\n",
      "72 Devin Vassell https://www.basketball-reference.com/players/v/vassede01/splits/2023\n"
     ]
    },
    {
     "name": "stderr",
     "output_type": "stream",
     "text": [
      " 84%|██████████████████████████████████████████████████████████████████▉             | 369/441 [41:01<08:49,  7.36s/it]"
     ]
    },
    {
     "name": "stdout",
     "output_type": "stream",
     "text": [
      "73 Devin Vassell https://www.basketball-reference.com/players/v/vassede01/splits/2022\n"
     ]
    },
    {
     "name": "stderr",
     "output_type": "stream",
     "text": [
      " 84%|███████████████████████████████████████████████████████████████████             | 370/441 [41:03<06:59,  5.91s/it]"
     ]
    },
    {
     "name": "stdout",
     "output_type": "stream",
     "text": [
      "74 Sasha Vezenkov https://www.basketball-reference.com/players/v/vezenal01/splits/2024\n",
      "75 Gabe Vincent https://www.basketball-reference.com/players/v/vincega01/splits/2024\n",
      "76 Gabe Vincent https://www.basketball-reference.com/players/v/vincega01/splits/2023\n"
     ]
    },
    {
     "name": "stderr",
     "output_type": "stream",
     "text": [
      " 84%|███████████████████████████████████████████████████████████████████▎            | 371/441 [41:11<07:26,  6.37s/it]"
     ]
    },
    {
     "name": "stdout",
     "output_type": "stream",
     "text": [
      "77 Gabe Vincent https://www.basketball-reference.com/players/v/vincega01/splits/2022\n",
      "78 Noah Vonleh https://www.basketball-reference.com/players/v/vonleno01/splits/2023\n",
      "79 Noah Vonleh https://www.basketball-reference.com/players/v/vonleno01/splits/2022\n"
     ]
    },
    {
     "name": "stderr",
     "output_type": "stream",
     "text": [
      " 84%|███████████████████████████████████████████████████████████████████▍            | 372/441 [41:17<07:28,  6.50s/it]"
     ]
    },
    {
     "name": "stdout",
     "output_type": "stream",
     "text": [
      "79 Noah Vonleh https://www.basketball-reference.com/players/v/vonleno01/splits/2021\n",
      "80 Nikola VuÄeviÄ https://www.basketball-reference.com/players/v/vucevni01/splits/2024\n",
      "81 Nikola VuÄeviÄ https://www.basketball-reference.com/players/v/vucevni01/splits/2023\n"
     ]
    },
    {
     "name": "stderr",
     "output_type": "stream",
     "text": [
      " 85%|███████████████████████████████████████████████████████████████████▋            | 373/441 [41:26<08:01,  7.07s/it]"
     ]
    },
    {
     "name": "stdout",
     "output_type": "stream",
     "text": [
      "82 Nikola VuÄeviÄ https://www.basketball-reference.com/players/v/vucevni01/splits/2022\n"
     ]
    },
    {
     "name": "stderr",
     "output_type": "stream",
     "text": [
      " 85%|███████████████████████████████████████████████████████████████████▊            | 374/441 [41:28<06:20,  5.68s/it]"
     ]
    },
    {
     "name": "stdout",
     "output_type": "stream",
     "text": [
      "83 Tristan Vukcevic https://www.basketball-reference.com/players/v/vukcetr01/splits/2024\n",
      "84 Dean Wade https://www.basketball-reference.com/players/w/wadede01/splits/2024\n",
      "85 Dean Wade https://www.basketball-reference.com/players/w/wadede01/splits/2023\n"
     ]
    },
    {
     "name": "stderr",
     "output_type": "stream",
     "text": [
      " 85%|████████████████████████████████████████████████████████████████████            | 375/441 [41:36<06:57,  6.32s/it]"
     ]
    },
    {
     "name": "stdout",
     "output_type": "stream",
     "text": [
      "86 Dean Wade https://www.basketball-reference.com/players/w/wadede01/splits/2022\n",
      "87 Franz Wagner https://www.basketball-reference.com/players/w/wagnefr01/splits/2024\n",
      "88 Franz Wagner https://www.basketball-reference.com/players/w/wagnefr01/splits/2023\n",
      "89 Franz Wagner https://www.basketball-reference.com/players/w/wagnefr01/splits/2022\n"
     ]
    },
    {
     "name": "stderr",
     "output_type": "stream",
     "text": [
      " 85%|████████████████████████████████████████████████████████████████████▏           | 376/441 [41:54<10:42,  9.88s/it]"
     ]
    },
    {
     "name": "stdout",
     "output_type": "stream",
     "text": [
      "---------------------------PAUSE-------------------------------\n",
      "0 Moritz Wagner https://www.basketball-reference.com/players/w/wagnemo01/splits/2024\n",
      "1 Moritz Wagner https://www.basketball-reference.com/players/w/wagnemo01/splits/2023\n"
     ]
    },
    {
     "name": "stderr",
     "output_type": "stream",
     "text": [
      " 85%|████████████████████████████████████████████████████████████████████▍           | 377/441 [42:02<10:00,  9.38s/it]"
     ]
    },
    {
     "name": "stdout",
     "output_type": "stream",
     "text": [
      "2 Moritz Wagner https://www.basketball-reference.com/players/w/wagnemo01/splits/2022\n",
      "3 Ish Wainright https://www.basketball-reference.com/players/w/wainris01/splits/2024\n",
      "4 Ish Wainright https://www.basketball-reference.com/players/w/wainris01/splits/2023\n"
     ]
    },
    {
     "name": "stderr",
     "output_type": "stream",
     "text": [
      " 86%|████████████████████████████████████████████████████████████████████▌           | 378/441 [42:12<09:45,  9.30s/it]"
     ]
    },
    {
     "name": "stdout",
     "output_type": "stream",
     "text": [
      "5 Ish Wainright https://www.basketball-reference.com/players/w/wainris01/splits/2022\n",
      "6 Jabari Walker https://www.basketball-reference.com/players/w/walkeja01/splits/2024\n"
     ]
    },
    {
     "name": "stderr",
     "output_type": "stream",
     "text": [
      " 86%|████████████████████████████████████████████████████████████████████▊           | 379/441 [42:16<08:14,  7.98s/it]"
     ]
    },
    {
     "name": "stdout",
     "output_type": "stream",
     "text": [
      "7 Jabari Walker https://www.basketball-reference.com/players/w/walkeja01/splits/2023\n"
     ]
    },
    {
     "name": "stderr",
     "output_type": "stream",
     "text": [
      " 86%|████████████████████████████████████████████████████████████████████▉           | 380/441 [42:19<06:26,  6.34s/it]"
     ]
    },
    {
     "name": "stdout",
     "output_type": "stream",
     "text": [
      "8 Jarace Walker https://www.basketball-reference.com/players/w/walkeja02/splits/2024\n",
      "9 Lonnie Walker IV https://www.basketball-reference.com/players/w/walkelo01/splits/2024\n",
      "10 Lonnie Walker IV https://www.basketball-reference.com/players/w/walkelo01/splits/2023\n"
     ]
    },
    {
     "name": "stderr",
     "output_type": "stream",
     "text": [
      " 86%|█████████████████████████████████████████████████████████████████████           | 381/441 [42:27<06:48,  6.80s/it]"
     ]
    },
    {
     "name": "stdout",
     "output_type": "stream",
     "text": [
      "11 Lonnie Walker IV https://www.basketball-reference.com/players/w/walkelo01/splits/2022\n"
     ]
    },
    {
     "name": "stderr",
     "output_type": "stream",
     "text": [
      " 87%|█████████████████████████████████████████████████████████████████████▎          | 382/441 [42:29<05:21,  5.44s/it]"
     ]
    },
    {
     "name": "stdout",
     "output_type": "stream",
     "text": [
      "12 M.J. Walker https://www.basketball-reference.com/players/w/walkemj01/splits/2022\n",
      "13 John Wall https://www.basketball-reference.com/players/w/walljo01/splits/2023\n",
      "14 John Wall https://www.basketball-reference.com/players/w/walljo01/splits/2022\n"
     ]
    },
    {
     "name": "stderr",
     "output_type": "stream",
     "text": [
      " 87%|█████████████████████████████████████████████████████████████████████▍          | 383/441 [42:37<05:53,  6.09s/it]"
     ]
    },
    {
     "name": "stdout",
     "output_type": "stream",
     "text": [
      "14 John Wall https://www.basketball-reference.com/players/w/walljo01/splits/2021\n"
     ]
    },
    {
     "name": "stderr",
     "output_type": "stream",
     "text": [
      " 87%|█████████████████████████████████████████████████████████████████████▋          | 384/441 [42:39<04:46,  5.03s/it]"
     ]
    },
    {
     "name": "stdout",
     "output_type": "stream",
     "text": [
      "15 Cason Wallace https://www.basketball-reference.com/players/w/wallaca01/splits/2024\n"
     ]
    },
    {
     "name": "stderr",
     "output_type": "stream",
     "text": [
      " 87%|█████████████████████████████████████████████████████████████████████▊          | 385/441 [42:42<03:59,  4.27s/it]"
     ]
    },
    {
     "name": "stdout",
     "output_type": "stream",
     "text": [
      "16 Jordan Walsh https://www.basketball-reference.com/players/w/walshjo01/splits/2024\n",
      "17 T.J. Warren https://www.basketball-reference.com/players/w/warretj01/splits/2024\n",
      "18 T.J. Warren https://www.basketball-reference.com/players/w/warretj01/splits/2023\n"
     ]
    },
    {
     "name": "stderr",
     "output_type": "stream",
     "text": [
      " 88%|██████████████████████████████████████████████████████████████████████          | 386/441 [42:49<04:37,  5.05s/it]"
     ]
    },
    {
     "name": "stdout",
     "output_type": "stream",
     "text": [
      "19 T.J. Warren https://www.basketball-reference.com/players/w/warretj01/splits/2022\n",
      "19 Duane Washington Jr. https://www.basketball-reference.com/players/w/washidu02/splits/2023\n"
     ]
    },
    {
     "name": "stderr",
     "output_type": "stream",
     "text": [
      " 88%|██████████████████████████████████████████████████████████████████████▏         | 387/441 [42:54<04:33,  5.07s/it]"
     ]
    },
    {
     "name": "stdout",
     "output_type": "stream",
     "text": [
      "20 Duane Washington Jr. https://www.basketball-reference.com/players/w/washidu02/splits/2022\n",
      "21 P.J. Washington https://www.basketball-reference.com/players/w/washipj01/splits/2024\n",
      "22 P.J. Washington https://www.basketball-reference.com/players/w/washipj01/splits/2023\n"
     ]
    },
    {
     "name": "stderr",
     "output_type": "stream",
     "text": [
      " 88%|██████████████████████████████████████████████████████████████████████▍         | 388/441 [43:02<05:18,  6.01s/it]"
     ]
    },
    {
     "name": "stdout",
     "output_type": "stream",
     "text": [
      "23 P.J. Washington https://www.basketball-reference.com/players/w/washipj01/splits/2022\n",
      "24 TyTy Washington Jr. https://www.basketball-reference.com/players/w/washity02/splits/2024\n"
     ]
    },
    {
     "name": "stderr",
     "output_type": "stream",
     "text": [
      " 88%|██████████████████████████████████████████████████████████████████████▌         | 389/441 [43:07<04:54,  5.66s/it]"
     ]
    },
    {
     "name": "stdout",
     "output_type": "stream",
     "text": [
      "25 TyTy Washington Jr. https://www.basketball-reference.com/players/w/washity02/splits/2023\n",
      "26 Yuta Watanabe https://www.basketball-reference.com/players/w/watanyu01/splits/2024\n",
      "27 Yuta Watanabe https://www.basketball-reference.com/players/w/watanyu01/splits/2023\n"
     ]
    },
    {
     "name": "stderr",
     "output_type": "stream",
     "text": [
      " 88%|██████████████████████████████████████████████████████████████████████▋         | 390/441 [43:15<05:24,  6.36s/it]"
     ]
    },
    {
     "name": "stdout",
     "output_type": "stream",
     "text": [
      "28 Yuta Watanabe https://www.basketball-reference.com/players/w/watanyu01/splits/2022\n",
      "29 Lindy Waters III https://www.basketball-reference.com/players/w/waterli01/splits/2024\n",
      "30 Lindy Waters III https://www.basketball-reference.com/players/w/waterli01/splits/2023\n"
     ]
    },
    {
     "name": "stderr",
     "output_type": "stream",
     "text": [
      " 89%|██████████████████████████████████████████████████████████████████████▉         | 391/441 [43:23<05:43,  6.88s/it]"
     ]
    },
    {
     "name": "stdout",
     "output_type": "stream",
     "text": [
      "31 Lindy Waters III https://www.basketball-reference.com/players/w/waterli01/splits/2022\n",
      "32 Tremont Waters https://www.basketball-reference.com/players/w/watertr01/splits/2022\n",
      "33 Tremont Waters https://www.basketball-reference.com/players/w/watertr01/splits/2021\n"
     ]
    },
    {
     "name": "stderr",
     "output_type": "stream",
     "text": [
      " 89%|███████████████████████████████████████████████████████████████████████         | 392/441 [43:30<05:38,  6.92s/it]"
     ]
    },
    {
     "name": "stdout",
     "output_type": "stream",
     "text": [
      "34 Tremont Waters https://www.basketball-reference.com/players/w/watertr01/splits/2020\n",
      "35 Trendon Watford https://www.basketball-reference.com/players/w/watfotr01/splits/2024\n",
      "36 Trendon Watford https://www.basketball-reference.com/players/w/watfotr01/splits/2023\n"
     ]
    },
    {
     "name": "stderr",
     "output_type": "stream",
     "text": [
      " 89%|███████████████████████████████████████████████████████████████████████▎        | 393/441 [43:38<05:49,  7.27s/it]"
     ]
    },
    {
     "name": "stdout",
     "output_type": "stream",
     "text": [
      "37 Trendon Watford https://www.basketball-reference.com/players/w/watfotr01/splits/2022\n",
      "38 Peyton Watson https://www.basketball-reference.com/players/w/watsope01/splits/2024\n"
     ]
    },
    {
     "name": "stderr",
     "output_type": "stream",
     "text": [
      " 89%|███████████████████████████████████████████████████████████████████████▍        | 394/441 [43:43<05:09,  6.58s/it]"
     ]
    },
    {
     "name": "stdout",
     "output_type": "stream",
     "text": [
      "39 Peyton Watson https://www.basketball-reference.com/players/w/watsope01/splits/2023\n",
      "40 Quinndary Weatherspoon https://www.basketball-reference.com/players/w/weathqu01/splits/2022\n",
      "41 Quinndary Weatherspoon https://www.basketball-reference.com/players/w/weathqu01/splits/2021\n"
     ]
    },
    {
     "name": "stderr",
     "output_type": "stream",
     "text": [
      " 90%|███████████████████████████████████████████████████████████████████████▋        | 395/441 [43:50<05:09,  6.73s/it]"
     ]
    },
    {
     "name": "stdout",
     "output_type": "stream",
     "text": [
      "42 Quinndary Weatherspoon https://www.basketball-reference.com/players/w/weathqu01/splits/2020\n"
     ]
    },
    {
     "name": "stderr",
     "output_type": "stream",
     "text": [
      " 90%|███████████████████████████████████████████████████████████████████████▊        | 396/441 [43:52<04:00,  5.35s/it]"
     ]
    },
    {
     "name": "stdout",
     "output_type": "stream",
     "text": [
      "43 Thomas Welsh https://www.basketball-reference.com/players/w/welshth01/splits/2019\n"
     ]
    },
    {
     "name": "stderr",
     "output_type": "stream",
     "text": [
      " 90%|████████████████████████████████████████████████████████████████████████        | 397/441 [43:55<03:20,  4.55s/it]"
     ]
    },
    {
     "name": "stdout",
     "output_type": "stream",
     "text": [
      "44 Victor Wembanyama https://www.basketball-reference.com/players/w/wembavi01/splits/2024\n",
      "45 Blake Wesley https://www.basketball-reference.com/players/w/weslebl01/splits/2024\n"
     ]
    },
    {
     "name": "stderr",
     "output_type": "stream",
     "text": [
      " 90%|████████████████████████████████████████████████████████████████████████▏       | 398/441 [44:00<03:26,  4.81s/it]"
     ]
    },
    {
     "name": "stdout",
     "output_type": "stream",
     "text": [
      "46 Blake Wesley https://www.basketball-reference.com/players/w/weslebl01/splits/2023\n",
      "47 Russell Westbrook https://www.basketball-reference.com/players/w/westbru01/splits/2024\n",
      "48 Russell Westbrook https://www.basketball-reference.com/players/w/westbru01/splits/2023\n"
     ]
    },
    {
     "name": "stderr",
     "output_type": "stream",
     "text": [
      " 90%|████████████████████████████████████████████████████████████████████████▍       | 399/441 [44:09<04:10,  5.97s/it]"
     ]
    },
    {
     "name": "stdout",
     "output_type": "stream",
     "text": [
      "49 Russell Westbrook https://www.basketball-reference.com/players/w/westbru01/splits/2022\n",
      "50 Coby White https://www.basketball-reference.com/players/w/whiteco01/splits/2024\n",
      "51 Coby White https://www.basketball-reference.com/players/w/whiteco01/splits/2023\n"
     ]
    },
    {
     "name": "stderr",
     "output_type": "stream",
     "text": [
      " 91%|████████████████████████████████████████████████████████████████████████▌       | 400/441 [44:17<04:26,  6.50s/it]"
     ]
    },
    {
     "name": "stdout",
     "output_type": "stream",
     "text": [
      "52 Coby White https://www.basketball-reference.com/players/w/whiteco01/splits/2022\n",
      "53 Derrick White https://www.basketball-reference.com/players/w/whitede01/splits/2024\n",
      "54 Derrick White https://www.basketball-reference.com/players/w/whitede01/splits/2023\n"
     ]
    },
    {
     "name": "stderr",
     "output_type": "stream",
     "text": [
      " 91%|████████████████████████████████████████████████████████████████████████▋       | 401/441 [44:24<04:29,  6.73s/it]"
     ]
    },
    {
     "name": "stdout",
     "output_type": "stream",
     "text": [
      "55 Derrick White https://www.basketball-reference.com/players/w/whitede01/splits/2022\n",
      "56 Jack White https://www.basketball-reference.com/players/w/whiteja03/splits/2024\n"
     ]
    },
    {
     "name": "stderr",
     "output_type": "stream",
     "text": [
      " 91%|████████████████████████████████████████████████████████████████████████▉       | 402/441 [44:29<03:58,  6.11s/it]"
     ]
    },
    {
     "name": "stdout",
     "output_type": "stream",
     "text": [
      "57 Jack White https://www.basketball-reference.com/players/w/whiteja03/splits/2023\n",
      "58 Okaro White https://www.basketball-reference.com/players/w/whiteok01/splits/2019\n",
      "59 Okaro White https://www.basketball-reference.com/players/w/whiteok01/splits/2018\n"
     ]
    },
    {
     "name": "stderr",
     "output_type": "stream",
     "text": [
      " 91%|█████████████████████████████████████████████████████████████████████████       | 403/441 [44:35<03:57,  6.26s/it]"
     ]
    },
    {
     "name": "stdout",
     "output_type": "stream",
     "text": [
      "60 Okaro White https://www.basketball-reference.com/players/w/whiteok01/splits/2017\n"
     ]
    },
    {
     "name": "stderr",
     "output_type": "stream",
     "text": [
      " 92%|█████████████████████████████████████████████████████████████████████████▎      | 404/441 [44:37<03:05,  5.01s/it]"
     ]
    },
    {
     "name": "stdout",
     "output_type": "stream",
     "text": [
      "61 Cam Whitmore https://www.basketball-reference.com/players/w/whitmca01/splits/2024\n",
      "62 Joe Wieskamp https://www.basketball-reference.com/players/w/wieskjo01/splits/2023\n"
     ]
    },
    {
     "name": "stderr",
     "output_type": "stream",
     "text": [
      " 92%|█████████████████████████████████████████████████████████████████████████▍      | 405/441 [44:42<02:54,  4.85s/it]"
     ]
    },
    {
     "name": "stdout",
     "output_type": "stream",
     "text": [
      "63 Joe Wieskamp https://www.basketball-reference.com/players/w/wieskjo01/splits/2022\n",
      "64 Aaron Wiggins https://www.basketball-reference.com/players/w/wiggiaa01/splits/2024\n",
      "65 Aaron Wiggins https://www.basketball-reference.com/players/w/wiggiaa01/splits/2023\n"
     ]
    },
    {
     "name": "stderr",
     "output_type": "stream",
     "text": [
      " 92%|█████████████████████████████████████████████████████████████████████████▋      | 406/441 [44:50<03:19,  5.71s/it]"
     ]
    },
    {
     "name": "stdout",
     "output_type": "stream",
     "text": [
      "66 Aaron Wiggins https://www.basketball-reference.com/players/w/wiggiaa01/splits/2022\n",
      "67 Andrew Wiggins https://www.basketball-reference.com/players/w/wiggian01/splits/2024\n",
      "68 Andrew Wiggins https://www.basketball-reference.com/players/w/wiggian01/splits/2023\n"
     ]
    },
    {
     "name": "stderr",
     "output_type": "stream",
     "text": [
      " 92%|█████████████████████████████████████████████████████████████████████████▊      | 407/441 [44:57<03:35,  6.34s/it]"
     ]
    },
    {
     "name": "stdout",
     "output_type": "stream",
     "text": [
      "69 Andrew Wiggins https://www.basketball-reference.com/players/w/wiggian01/splits/2022\n",
      "70 Lindell Wigginton https://www.basketball-reference.com/players/w/wiggili01/splits/2024\n",
      "71 Lindell Wigginton https://www.basketball-reference.com/players/w/wiggili01/splits/2023\n"
     ]
    },
    {
     "name": "stderr",
     "output_type": "stream",
     "text": [
      " 93%|██████████████████████████████████████████████████████████████████████████      | 408/441 [45:04<03:34,  6.50s/it]"
     ]
    },
    {
     "name": "stdout",
     "output_type": "stream",
     "text": [
      "72 Lindell Wigginton https://www.basketball-reference.com/players/w/wiggili01/splits/2022\n",
      "73 Alondes Williams https://www.basketball-reference.com/players/w/willial06/splits/2024\n"
     ]
    },
    {
     "name": "stderr",
     "output_type": "stream",
     "text": [
      " 93%|██████████████████████████████████████████████████████████████████████████▏     | 409/441 [45:09<03:07,  5.85s/it]"
     ]
    },
    {
     "name": "stdout",
     "output_type": "stream",
     "text": [
      "74 Alondes Williams https://www.basketball-reference.com/players/w/willial06/splits/2023\n",
      "75 Brandon Williams https://www.basketball-reference.com/players/w/willibr03/splits/2024\n",
      "76 Brandon Williams https://www.basketball-reference.com/players/w/willibr03/splits/2023\n"
     ]
    },
    {
     "name": "stderr",
     "output_type": "stream",
     "text": [
      " 93%|██████████████████████████████████████████████████████████████████████████▍     | 410/441 [45:15<03:10,  6.14s/it]"
     ]
    },
    {
     "name": "stdout",
     "output_type": "stream",
     "text": [
      "76 Brandon Williams https://www.basketball-reference.com/players/w/willibr03/splits/2022\n"
     ]
    },
    {
     "name": "stderr",
     "output_type": "stream",
     "text": [
      " 93%|██████████████████████████████████████████████████████████████████████████▌     | 411/441 [45:18<02:28,  4.95s/it]"
     ]
    },
    {
     "name": "stdout",
     "output_type": "stream",
     "text": [
      "77 Donovan Williams https://www.basketball-reference.com/players/w/willido02/splits/2023\n",
      "78 Grant Williams https://www.basketball-reference.com/players/w/willigr01/splits/2024\n",
      "79 Grant Williams https://www.basketball-reference.com/players/w/willigr01/splits/2023\n"
     ]
    },
    {
     "name": "stderr",
     "output_type": "stream",
     "text": [
      " 93%|██████████████████████████████████████████████████████████████████████████▋     | 412/441 [45:26<02:52,  5.95s/it]"
     ]
    },
    {
     "name": "stdout",
     "output_type": "stream",
     "text": [
      "80 Grant Williams https://www.basketball-reference.com/players/w/willigr01/splits/2022\n",
      "81 Jalen Williams https://www.basketball-reference.com/players/w/willija06/splits/2024\n"
     ]
    },
    {
     "name": "stderr",
     "output_type": "stream",
     "text": [
      " 94%|██████████████████████████████████████████████████████████████████████████▉     | 413/441 [45:31<02:40,  5.72s/it]"
     ]
    },
    {
     "name": "stdout",
     "output_type": "stream",
     "text": [
      "82 Jalen Williams https://www.basketball-reference.com/players/w/willija06/splits/2023\n",
      "83 Jaylin Williams https://www.basketball-reference.com/players/w/willija07/splits/2024\n"
     ]
    },
    {
     "name": "stderr",
     "output_type": "stream",
     "text": [
      " 94%|███████████████████████████████████████████████████████████████████████████     | 414/441 [45:37<02:33,  5.70s/it]"
     ]
    },
    {
     "name": "stdout",
     "output_type": "stream",
     "text": [
      "84 Jaylin Williams https://www.basketball-reference.com/players/w/willija07/splits/2023\n",
      "85 Jeenathan Williams https://www.basketball-reference.com/players/w/willije02/splits/2024\n"
     ]
    },
    {
     "name": "stderr",
     "output_type": "stream",
     "text": [
      " 94%|███████████████████████████████████████████████████████████████████████████▎    | 415/441 [45:42<02:21,  5.46s/it]"
     ]
    },
    {
     "name": "stdout",
     "output_type": "stream",
     "text": [
      "86 Jeenathan Williams https://www.basketball-reference.com/players/w/willije02/splits/2023\n",
      "87 Kenrich Williams https://www.basketball-reference.com/players/w/willike04/splits/2024\n",
      "88 Kenrich Williams https://www.basketball-reference.com/players/w/willike04/splits/2023\n",
      "89 Kenrich Williams https://www.basketball-reference.com/players/w/willike04/splits/2022\n"
     ]
    },
    {
     "name": "stderr",
     "output_type": "stream",
     "text": [
      " 94%|███████████████████████████████████████████████████████████████████████████▍    | 416/441 [45:56<03:24,  8.18s/it]"
     ]
    },
    {
     "name": "stdout",
     "output_type": "stream",
     "text": [
      "---------------------------PAUSE-------------------------------\n"
     ]
    },
    {
     "name": "stderr",
     "output_type": "stream",
     "text": [
      " 95%|███████████████████████████████████████████████████████████████████████████▋    | 417/441 [45:58<02:34,  6.42s/it]"
     ]
    },
    {
     "name": "stdout",
     "output_type": "stream",
     "text": [
      "0 Malik Williams https://www.basketball-reference.com/players/w/willima11/splits/2024\n",
      "1 Mark Williams https://www.basketball-reference.com/players/w/willima07/splits/2024\n"
     ]
    },
    {
     "name": "stderr",
     "output_type": "stream",
     "text": [
      " 95%|███████████████████████████████████████████████████████████████████████████▊    | 418/441 [46:03<02:17,  5.98s/it]"
     ]
    },
    {
     "name": "stdout",
     "output_type": "stream",
     "text": [
      "2 Mark Williams https://www.basketball-reference.com/players/w/willima07/splits/2023\n",
      "3 Patrick Williams https://www.basketball-reference.com/players/w/willipa01/splits/2024\n",
      "4 Patrick Williams https://www.basketball-reference.com/players/w/willipa01/splits/2023\n"
     ]
    },
    {
     "name": "stderr",
     "output_type": "stream",
     "text": [
      " 95%|████████████████████████████████████████████████████████████████████████████    | 419/441 [46:11<02:21,  6.43s/it]"
     ]
    },
    {
     "name": "stdout",
     "output_type": "stream",
     "text": [
      "5 Patrick Williams https://www.basketball-reference.com/players/w/willipa01/splits/2022\n",
      "6 Robert Williams https://www.basketball-reference.com/players/w/williro04/splits/2024\n",
      "7 Robert Williams https://www.basketball-reference.com/players/w/williro04/splits/2023\n"
     ]
    },
    {
     "name": "stderr",
     "output_type": "stream",
     "text": [
      " 95%|████████████████████████████████████████████████████████████████████████████▏   | 420/441 [46:18<02:19,  6.64s/it]"
     ]
    },
    {
     "name": "stdout",
     "output_type": "stream",
     "text": [
      "8 Robert Williams https://www.basketball-reference.com/players/w/williro04/splits/2022\n",
      "9 Vince Williams Jr. https://www.basketball-reference.com/players/w/willivi01/splits/2024\n"
     ]
    },
    {
     "name": "stderr",
     "output_type": "stream",
     "text": [
      " 95%|████████████████████████████████████████████████████████████████████████████▎   | 421/441 [46:23<02:04,  6.24s/it]"
     ]
    },
    {
     "name": "stdout",
     "output_type": "stream",
     "text": [
      "10 Vince Williams Jr. https://www.basketball-reference.com/players/w/willivi01/splits/2023\n",
      "11 Ziaire Williams https://www.basketball-reference.com/players/w/willizi02/splits/2024\n",
      "12 Ziaire Williams https://www.basketball-reference.com/players/w/willizi02/splits/2023\n"
     ]
    },
    {
     "name": "stderr",
     "output_type": "stream",
     "text": [
      " 96%|████████████████████████████████████████████████████████████████████████████▌   | 422/441 [46:31<02:08,  6.76s/it]"
     ]
    },
    {
     "name": "stdout",
     "output_type": "stream",
     "text": [
      "13 Ziaire Williams https://www.basketball-reference.com/players/w/willizi02/splits/2022\n",
      "14 Zion Williamson https://www.basketball-reference.com/players/w/willizi01/splits/2024\n",
      "15 Zion Williamson https://www.basketball-reference.com/players/w/willizi01/splits/2023\n"
     ]
    },
    {
     "name": "stderr",
     "output_type": "stream",
     "text": [
      " 96%|████████████████████████████████████████████████████████████████████████████▋   | 423/441 [46:39<02:04,  6.94s/it]"
     ]
    },
    {
     "name": "stdout",
     "output_type": "stream",
     "text": [
      "16 Zion Williamson https://www.basketball-reference.com/players/w/willizi01/splits/2022\n",
      "16 D.J. Wilson https://www.basketball-reference.com/players/w/wilsodj01/splits/2024\n",
      "17 D.J. Wilson https://www.basketball-reference.com/players/w/wilsodj01/splits/2023\n"
     ]
    },
    {
     "name": "stderr",
     "output_type": "stream",
     "text": [
      " 96%|████████████████████████████████████████████████████████████████████████████▉   | 424/441 [46:45<01:56,  6.83s/it]"
     ]
    },
    {
     "name": "stdout",
     "output_type": "stream",
     "text": [
      "17 D.J. Wilson https://www.basketball-reference.com/players/w/wilsodj01/splits/2022\n"
     ]
    },
    {
     "name": "stderr",
     "output_type": "stream",
     "text": [
      " 96%|█████████████████████████████████████████████████████████████████████████████   | 425/441 [46:48<01:28,  5.56s/it]"
     ]
    },
    {
     "name": "stdout",
     "output_type": "stream",
     "text": [
      "18 Jalen Wilson https://www.basketball-reference.com/players/w/wilsoja03/splits/2024\n",
      "19 Dylan Windler https://www.basketball-reference.com/players/w/windldy01/splits/2024\n",
      "20 Dylan Windler https://www.basketball-reference.com/players/w/windldy01/splits/2023\n"
     ]
    },
    {
     "name": "stderr",
     "output_type": "stream",
     "text": [
      " 97%|█████████████████████████████████████████████████████████████████████████████▎  | 426/441 [46:56<01:36,  6.44s/it]"
     ]
    },
    {
     "name": "stdout",
     "output_type": "stream",
     "text": [
      "21 Dylan Windler https://www.basketball-reference.com/players/w/windldy01/splits/2022\n",
      "22 Justise Winslow https://www.basketball-reference.com/players/w/winslju01/splits/2023\n",
      "23 Justise Winslow https://www.basketball-reference.com/players/w/winslju01/splits/2022\n"
     ]
    },
    {
     "name": "stderr",
     "output_type": "stream",
     "text": [
      " 97%|█████████████████████████████████████████████████████████████████████████████▍  | 427/441 [47:04<01:37,  6.97s/it]"
     ]
    },
    {
     "name": "stdout",
     "output_type": "stream",
     "text": [
      "24 Justise Winslow https://www.basketball-reference.com/players/w/winslju01/splits/2021\n",
      "25 Cassius Winston https://www.basketball-reference.com/players/w/winstca01/splits/2022\n"
     ]
    },
    {
     "name": "stderr",
     "output_type": "stream",
     "text": [
      " 97%|█████████████████████████████████████████████████████████████████████████████▋  | 428/441 [47:09<01:22,  6.36s/it]"
     ]
    },
    {
     "name": "stdout",
     "output_type": "stream",
     "text": [
      "26 Cassius Winston https://www.basketball-reference.com/players/w/winstca01/splits/2021\n",
      "27 James Wiseman https://www.basketball-reference.com/players/w/wisemja01/splits/2024\n",
      "28 James Wiseman https://www.basketball-reference.com/players/w/wisemja01/splits/2023\n"
     ]
    },
    {
     "name": "stderr",
     "output_type": "stream",
     "text": [
      " 97%|█████████████████████████████████████████████████████████████████████████████▊  | 429/441 [47:16<01:18,  6.58s/it]"
     ]
    },
    {
     "name": "stdout",
     "output_type": "stream",
     "text": [
      "29 James Wiseman https://www.basketball-reference.com/players/w/wisemja01/splits/2022\n"
     ]
    },
    {
     "name": "stderr",
     "output_type": "stream",
     "text": [
      " 98%|██████████████████████████████████████████████████████████████████████████████  | 430/441 [47:19<00:57,  5.25s/it]"
     ]
    },
    {
     "name": "stdout",
     "output_type": "stream",
     "text": [
      "29 Isaiah Wong https://www.basketball-reference.com/players/w/wongis01/splits/2024\n",
      "30 Christian Wood https://www.basketball-reference.com/players/w/woodch01/splits/2024\n",
      "31 Christian Wood https://www.basketball-reference.com/players/w/woodch01/splits/2023\n"
     ]
    },
    {
     "name": "stderr",
     "output_type": "stream",
     "text": [
      " 98%|██████████████████████████████████████████████████████████████████████████████▏ | 431/441 [47:27<01:01,  6.13s/it]"
     ]
    },
    {
     "name": "stdout",
     "output_type": "stream",
     "text": [
      "32 Christian Wood https://www.basketball-reference.com/players/w/woodch01/splits/2022\n",
      "33 Robert Woodard II https://www.basketball-reference.com/players/w/woodaro01/splits/2022\n"
     ]
    },
    {
     "name": "stderr",
     "output_type": "stream",
     "text": [
      " 98%|██████████████████████████████████████████████████████████████████████████████▎ | 432/441 [47:32<00:51,  5.77s/it]"
     ]
    },
    {
     "name": "stdout",
     "output_type": "stream",
     "text": [
      "34 Robert Woodard II https://www.basketball-reference.com/players/w/woodaro01/splits/2021\n",
      "35 Delon Wright https://www.basketball-reference.com/players/w/wrighde01/splits/2024\n",
      "36 Delon Wright https://www.basketball-reference.com/players/w/wrighde01/splits/2023\n"
     ]
    },
    {
     "name": "stderr",
     "output_type": "stream",
     "text": [
      " 98%|██████████████████████████████████████████████████████████████████████████████▌ | 433/441 [47:40<00:51,  6.43s/it]"
     ]
    },
    {
     "name": "stdout",
     "output_type": "stream",
     "text": [
      "37 Delon Wright https://www.basketball-reference.com/players/w/wrighde01/splits/2022\n",
      "38 McKinley Wright IV https://www.basketball-reference.com/players/w/wrighmc01/splits/2023\n"
     ]
    },
    {
     "name": "stderr",
     "output_type": "stream",
     "text": [
      " 98%|██████████████████████████████████████████████████████████████████████████████▋ | 434/441 [47:45<00:41,  5.94s/it]"
     ]
    },
    {
     "name": "stdout",
     "output_type": "stream",
     "text": [
      "39 McKinley Wright IV https://www.basketball-reference.com/players/w/wrighmc01/splits/2022\n"
     ]
    },
    {
     "name": "stderr",
     "output_type": "stream",
     "text": [
      " 99%|██████████████████████████████████████████████████████████████████████████████▉ | 435/441 [47:47<00:29,  4.85s/it]"
     ]
    },
    {
     "name": "stdout",
     "output_type": "stream",
     "text": [
      "40 Justin Wright-Foreman https://www.basketball-reference.com/players/w/wrighju02/splits/2020\n",
      "41 Gabe York https://www.basketball-reference.com/players/y/yorkga01/splits/2023\n"
     ]
    },
    {
     "name": "stderr",
     "output_type": "stream",
     "text": [
      " 99%|███████████████████████████████████████████████████████████████████████████████ | 436/441 [47:51<00:23,  4.74s/it]"
     ]
    },
    {
     "name": "stdout",
     "output_type": "stream",
     "text": [
      "42 Gabe York https://www.basketball-reference.com/players/y/yorkga01/splits/2022\n",
      "43 Thaddeus Young https://www.basketball-reference.com/players/y/youngth01/splits/2024\n",
      "44 Thaddeus Young https://www.basketball-reference.com/players/y/youngth01/splits/2023\n"
     ]
    },
    {
     "name": "stderr",
     "output_type": "stream",
     "text": [
      " 99%|███████████████████████████████████████████████████████████████████████████████▎| 437/441 [48:00<00:23,  5.91s/it]"
     ]
    },
    {
     "name": "stdout",
     "output_type": "stream",
     "text": [
      "45 Thaddeus Young https://www.basketball-reference.com/players/y/youngth01/splits/2022\n",
      "46 Trae Young https://www.basketball-reference.com/players/y/youngtr01/splits/2024\n",
      "47 Trae Young https://www.basketball-reference.com/players/y/youngtr01/splits/2023\n"
     ]
    },
    {
     "name": "stderr",
     "output_type": "stream",
     "text": [
      " 99%|███████████████████████████████████████████████████████████████████████████████▍| 438/441 [48:07<00:19,  6.40s/it]"
     ]
    },
    {
     "name": "stdout",
     "output_type": "stream",
     "text": [
      "48 Trae Young https://www.basketball-reference.com/players/y/youngtr01/splits/2022\n",
      "49 Omer Yurtseven https://www.basketball-reference.com/players/y/yurtsom01/splits/2024\n",
      "50 Omer Yurtseven https://www.basketball-reference.com/players/y/yurtsom01/splits/2023\n"
     ]
    },
    {
     "name": "stderr",
     "output_type": "stream",
     "text": [
      "100%|███████████████████████████████████████████████████████████████████████████████▋| 439/441 [48:15<00:13,  6.82s/it]"
     ]
    },
    {
     "name": "stdout",
     "output_type": "stream",
     "text": [
      "51 Omer Yurtseven https://www.basketball-reference.com/players/y/yurtsom01/splits/2022\n",
      "52 Cody Zeller https://www.basketball-reference.com/players/z/zelleco01/splits/2024\n",
      "53 Cody Zeller https://www.basketball-reference.com/players/z/zelleco01/splits/2023\n"
     ]
    },
    {
     "name": "stderr",
     "output_type": "stream",
     "text": [
      "100%|███████████████████████████████████████████████████████████████████████████████▊| 440/441 [48:23<00:07,  7.09s/it]"
     ]
    },
    {
     "name": "stdout",
     "output_type": "stream",
     "text": [
      "54 Cody Zeller https://www.basketball-reference.com/players/z/zelleco01/splits/2022\n",
      "55 Ivica Zubac https://www.basketball-reference.com/players/z/zubaciv01/splits/2024\n",
      "56 Ivica Zubac https://www.basketball-reference.com/players/z/zubaciv01/splits/2023\n"
     ]
    },
    {
     "name": "stderr",
     "output_type": "stream",
     "text": [
      "100%|████████████████████████████████████████████████████████████████████████████████| 441/441 [48:32<00:00,  6.60s/it]"
     ]
    },
    {
     "name": "stdout",
     "output_type": "stream",
     "text": [
      "57 Ivica Zubac https://www.basketball-reference.com/players/z/zubaciv01/splits/2022\n"
     ]
    },
    {
     "name": "stderr",
     "output_type": "stream",
     "text": [
      "\n"
     ]
    }
   ],
   "source": [
    "splits = pd.DataFrame( columns = [\"Name\", \"Link\", \"Year\", \"Split\", \"Value\", \"G\", \"GS\",\n",
    "                                   \"MP\", \"FG\", \"FGA\", \"3P\", \"3PA\", \"FT\", \"FTA\", \n",
    "                                   \"ORB\", \"TRB\", \"AST\", \"STL\", \"BLK\", \"TOV\", \"PF\",\n",
    "                                   \"PTS\", \"FG%\", \"3P%\", \"FT%\", \"TS%\", \"USG%\", \n",
    "                                   \"ORtg\", \"DRtg\", \"+/-\"])\n",
    "\n",
    "counter = 0\n",
    "for ind in tqdm(players.index):\n",
    "    for url in players[\"Splits\"][ind]:\n",
    "        user_agent_list = [\n",
    "        'Mozilla/5.0 (Windows NT 10.0; Win64; x64) AppleWebKit/537.36 (KHTML, like Gecko) Chrome/93.0.4577.82 Safari/537.36',\n",
    "        'Mozilla/5.0 (iPhone; CPU iPhone OS 14_4_2 like Mac OS X) AppleWebKit/605.1.15 (KHTML, like Gecko) Version/14.0.3 Mobile/15E148 Safari/604.1',\n",
    "        'Mozilla/4.0 (compatible; MSIE 9.0; Windows NT 6.1)',\n",
    "        'Mozilla/5.0 (Windows NT 10.0; Win64; x64) AppleWebKit/537.36 (KHTML, like Gecko) Chrome/87.0.4280.141 Safari/537.36 Edg/87.0.664.75',\n",
    "        'Mozilla/5.0 (Windows NT 10.0; Win64; x64) AppleWebKit/537.36 (KHTML, like Gecko) Chrome/70.0.3538.102 Safari/537.36 Edge/18.18363',]\n",
    "        headers={\"User-Agent\": user_agent_list[random.randint(0, len(user_agent_list)-1)]}\n",
    "        data = req.get(url, headers = headers).text\n",
    "        soup = BeautifulSoup(data,\"html.parser\")\n",
    "        print(counter, players[\"Name\"][ind], url)\n",
    "        # Season split\n",
    "        table = soup.find(\"table\", id=\"splits\")\n",
    "        if table == None:\n",
    "            continue\n",
    "        # Selects only rows with data\n",
    "        rows = table.find(\"tbody\").find_all(\"tr\", class_=False)\n",
    "        year = url[-4:]\n",
    "        split = get_split(rows, players[\"Name\"][ind], players[\"Link\"][ind], year)\n",
    "        splits = pd.concat([splits, split])\n",
    "\n",
    "        counter+=1\n",
    "        if counter == 90:\n",
    "            splits.to_csv(\"splits.csv\", index=False)\n",
    "            sleep(randint(5,10))\n",
    "            counter=0\n",
    "            print(\"---------------------------PAUSE-------------------------------\")\n",
    "splits.to_csv(\"splits.csv\", index=False)"
   ]
  },
  {
   "cell_type": "code",
   "execution_count": 9,
   "id": "ac505bd2",
   "metadata": {
    "scrolled": true
   },
   "outputs": [
    {
     "data": {
      "text/html": [
       "<div>\n",
       "<style scoped>\n",
       "    .dataframe tbody tr th:only-of-type {\n",
       "        vertical-align: middle;\n",
       "    }\n",
       "\n",
       "    .dataframe tbody tr th {\n",
       "        vertical-align: top;\n",
       "    }\n",
       "\n",
       "    .dataframe thead th {\n",
       "        text-align: right;\n",
       "    }\n",
       "</style>\n",
       "<table border=\"1\" class=\"dataframe\">\n",
       "  <thead>\n",
       "    <tr style=\"text-align: right;\">\n",
       "      <th></th>\n",
       "      <th>Name</th>\n",
       "      <th>Link</th>\n",
       "      <th>Year</th>\n",
       "      <th>Split</th>\n",
       "      <th>Value</th>\n",
       "      <th>G</th>\n",
       "      <th>GS</th>\n",
       "      <th>MP</th>\n",
       "      <th>FG</th>\n",
       "      <th>FGA</th>\n",
       "      <th>3P</th>\n",
       "      <th>3PA</th>\n",
       "      <th>FT</th>\n",
       "      <th>FTA</th>\n",
       "      <th>ORB</th>\n",
       "      <th>TRB</th>\n",
       "      <th>AST</th>\n",
       "      <th>STL</th>\n",
       "      <th>BLK</th>\n",
       "      <th>TOV</th>\n",
       "      <th>PF</th>\n",
       "      <th>PTS</th>\n",
       "      <th>FG%</th>\n",
       "      <th>3P%</th>\n",
       "      <th>FT%</th>\n",
       "      <th>TS%</th>\n",
       "      <th>USG%</th>\n",
       "      <th>ORtg</th>\n",
       "      <th>DRtg</th>\n",
       "      <th>+/-</th>\n",
       "    </tr>\n",
       "  </thead>\n",
       "  <tbody>\n",
       "    <tr>\n",
       "      <th>0</th>\n",
       "      <td>Precious Achiuwa</td>\n",
       "      <td>https://www.basketball-reference.com/players/a/achiupr01.html</td>\n",
       "      <td>2024</td>\n",
       "      <td>NaN</td>\n",
       "      <td>Total</td>\n",
       "      <td>74</td>\n",
       "      <td>18</td>\n",
       "      <td>1624</td>\n",
       "      <td>235</td>\n",
       "      <td>469</td>\n",
       "      <td>26</td>\n",
       "      <td>97</td>\n",
       "      <td>69</td>\n",
       "      <td>112</td>\n",
       "      <td>191</td>\n",
       "      <td>487</td>\n",
       "      <td>97</td>\n",
       "      <td>46</td>\n",
       "      <td>68</td>\n",
       "      <td>83</td>\n",
       "      <td>143</td>\n",
       "      <td>565</td>\n",
       "      <td>0.501</td>\n",
       "      <td>0.268</td>\n",
       "      <td>0.616</td>\n",
       "      <td>0.545</td>\n",
       "      <td>16.2</td>\n",
       "      <td>113</td>\n",
       "      <td>112</td>\n",
       "      <td>-1.5</td>\n",
       "    </tr>\n",
       "    <tr>\n",
       "      <th>1</th>\n",
       "      <td>Precious Achiuwa</td>\n",
       "      <td>https://www.basketball-reference.com/players/a/achiupr01.html</td>\n",
       "      <td>2024</td>\n",
       "      <td>Place</td>\n",
       "      <td>Home</td>\n",
       "      <td>44</td>\n",
       "      <td>13</td>\n",
       "      <td>1038</td>\n",
       "      <td>156</td>\n",
       "      <td>314</td>\n",
       "      <td>14</td>\n",
       "      <td>63</td>\n",
       "      <td>44</td>\n",
       "      <td>68</td>\n",
       "      <td>121</td>\n",
       "      <td>310</td>\n",
       "      <td>57</td>\n",
       "      <td>29</td>\n",
       "      <td>50</td>\n",
       "      <td>49</td>\n",
       "      <td>80</td>\n",
       "      <td>370</td>\n",
       "      <td>0.497</td>\n",
       "      <td>0.222</td>\n",
       "      <td>0.647</td>\n",
       "      <td>0.538</td>\n",
       "      <td>16.5</td>\n",
       "      <td>113</td>\n",
       "      <td>111</td>\n",
       "      <td>-0.9</td>\n",
       "    </tr>\n",
       "    <tr>\n",
       "      <th>2</th>\n",
       "      <td>Precious Achiuwa</td>\n",
       "      <td>https://www.basketball-reference.com/players/a/achiupr01.html</td>\n",
       "      <td>2024</td>\n",
       "      <td>NaN</td>\n",
       "      <td>Road</td>\n",
       "      <td>30</td>\n",
       "      <td>5</td>\n",
       "      <td>585</td>\n",
       "      <td>79</td>\n",
       "      <td>155</td>\n",
       "      <td>12</td>\n",
       "      <td>34</td>\n",
       "      <td>25</td>\n",
       "      <td>44</td>\n",
       "      <td>70</td>\n",
       "      <td>177</td>\n",
       "      <td>40</td>\n",
       "      <td>17</td>\n",
       "      <td>18</td>\n",
       "      <td>34</td>\n",
       "      <td>63</td>\n",
       "      <td>195</td>\n",
       "      <td>0.510</td>\n",
       "      <td>0.353</td>\n",
       "      <td>0.568</td>\n",
       "      <td>0.559</td>\n",
       "      <td>15.7</td>\n",
       "      <td>113</td>\n",
       "      <td>112</td>\n",
       "      <td>-2.4</td>\n",
       "    </tr>\n",
       "    <tr>\n",
       "      <th>3</th>\n",
       "      <td>Precious Achiuwa</td>\n",
       "      <td>https://www.basketball-reference.com/players/a/achiupr01.html</td>\n",
       "      <td>2024</td>\n",
       "      <td>All-Star</td>\n",
       "      <td>Pre</td>\n",
       "      <td>48</td>\n",
       "      <td>9</td>\n",
       "      <td>1020</td>\n",
       "      <td>158</td>\n",
       "      <td>322</td>\n",
       "      <td>19</td>\n",
       "      <td>71</td>\n",
       "      <td>41</td>\n",
       "      <td>64</td>\n",
       "      <td>124</td>\n",
       "      <td>303</td>\n",
       "      <td>65</td>\n",
       "      <td>29</td>\n",
       "      <td>36</td>\n",
       "      <td>50</td>\n",
       "      <td>88</td>\n",
       "      <td>376</td>\n",
       "      <td>0.491</td>\n",
       "      <td>0.268</td>\n",
       "      <td>0.641</td>\n",
       "      <td>0.537</td>\n",
       "      <td>16.9</td>\n",
       "      <td>113</td>\n",
       "      <td>114</td>\n",
       "      <td>-0.2</td>\n",
       "    </tr>\n",
       "    <tr>\n",
       "      <th>4</th>\n",
       "      <td>Precious Achiuwa</td>\n",
       "      <td>https://www.basketball-reference.com/players/a/achiupr01.html</td>\n",
       "      <td>2024</td>\n",
       "      <td>NaN</td>\n",
       "      <td>Post</td>\n",
       "      <td>26</td>\n",
       "      <td>9</td>\n",
       "      <td>604</td>\n",
       "      <td>77</td>\n",
       "      <td>147</td>\n",
       "      <td>7</td>\n",
       "      <td>26</td>\n",
       "      <td>28</td>\n",
       "      <td>48</td>\n",
       "      <td>67</td>\n",
       "      <td>184</td>\n",
       "      <td>32</td>\n",
       "      <td>17</td>\n",
       "      <td>32</td>\n",
       "      <td>33</td>\n",
       "      <td>55</td>\n",
       "      <td>189</td>\n",
       "      <td>0.524</td>\n",
       "      <td>0.269</td>\n",
       "      <td>0.583</td>\n",
       "      <td>0.562</td>\n",
       "      <td>15.0</td>\n",
       "      <td>112</td>\n",
       "      <td>108</td>\n",
       "      <td>-3.7</td>\n",
       "    </tr>\n",
       "    <tr>\n",
       "      <th>...</th>\n",
       "      <td>...</td>\n",
       "      <td>...</td>\n",
       "      <td>...</td>\n",
       "      <td>...</td>\n",
       "      <td>...</td>\n",
       "      <td>...</td>\n",
       "      <td>...</td>\n",
       "      <td>...</td>\n",
       "      <td>...</td>\n",
       "      <td>...</td>\n",
       "      <td>...</td>\n",
       "      <td>...</td>\n",
       "      <td>...</td>\n",
       "      <td>...</td>\n",
       "      <td>...</td>\n",
       "      <td>...</td>\n",
       "      <td>...</td>\n",
       "      <td>...</td>\n",
       "      <td>...</td>\n",
       "      <td>...</td>\n",
       "      <td>...</td>\n",
       "      <td>...</td>\n",
       "      <td>...</td>\n",
       "      <td>...</td>\n",
       "      <td>...</td>\n",
       "      <td>...</td>\n",
       "      <td>...</td>\n",
       "      <td>...</td>\n",
       "      <td>...</td>\n",
       "      <td>...</td>\n",
       "    </tr>\n",
       "    <tr>\n",
       "      <th>104835</th>\n",
       "      <td>Ivica Zubac</td>\n",
       "      <td>https://www.basketball-reference.com/players/z/zubaciv01.html</td>\n",
       "      <td>2022</td>\n",
       "      <td>NaN</td>\n",
       "      <td>Sacramento</td>\n",
       "      <td>4</td>\n",
       "      <td>4</td>\n",
       "      <td>104</td>\n",
       "      <td>23</td>\n",
       "      <td>31</td>\n",
       "      <td>0</td>\n",
       "      <td>0</td>\n",
       "      <td>8</td>\n",
       "      <td>10</td>\n",
       "      <td>11</td>\n",
       "      <td>36</td>\n",
       "      <td>5</td>\n",
       "      <td>2</td>\n",
       "      <td>3</td>\n",
       "      <td>3</td>\n",
       "      <td>10</td>\n",
       "      <td>54</td>\n",
       "      <td>0.742</td>\n",
       "      <td>NaN</td>\n",
       "      <td>0.800</td>\n",
       "      <td>0.763</td>\n",
       "      <td>15.7</td>\n",
       "      <td>149</td>\n",
       "      <td>103</td>\n",
       "      <td>4.3</td>\n",
       "    </tr>\n",
       "    <tr>\n",
       "      <th>104836</th>\n",
       "      <td>Ivica Zubac</td>\n",
       "      <td>https://www.basketball-reference.com/players/z/zubaciv01.html</td>\n",
       "      <td>2022</td>\n",
       "      <td>NaN</td>\n",
       "      <td>San Antonio</td>\n",
       "      <td>3</td>\n",
       "      <td>3</td>\n",
       "      <td>79</td>\n",
       "      <td>11</td>\n",
       "      <td>21</td>\n",
       "      <td>0</td>\n",
       "      <td>0</td>\n",
       "      <td>4</td>\n",
       "      <td>6</td>\n",
       "      <td>14</td>\n",
       "      <td>34</td>\n",
       "      <td>4</td>\n",
       "      <td>2</td>\n",
       "      <td>3</td>\n",
       "      <td>3</td>\n",
       "      <td>7</td>\n",
       "      <td>26</td>\n",
       "      <td>0.524</td>\n",
       "      <td>NaN</td>\n",
       "      <td>0.667</td>\n",
       "      <td>0.550</td>\n",
       "      <td>14.3</td>\n",
       "      <td>120</td>\n",
       "      <td>98</td>\n",
       "      <td>-13.1</td>\n",
       "    </tr>\n",
       "    <tr>\n",
       "      <th>104837</th>\n",
       "      <td>Ivica Zubac</td>\n",
       "      <td>https://www.basketball-reference.com/players/z/zubaciv01.html</td>\n",
       "      <td>2022</td>\n",
       "      <td>NaN</td>\n",
       "      <td>Toronto</td>\n",
       "      <td>1</td>\n",
       "      <td>1</td>\n",
       "      <td>17</td>\n",
       "      <td>1</td>\n",
       "      <td>4</td>\n",
       "      <td>0</td>\n",
       "      <td>0</td>\n",
       "      <td>0</td>\n",
       "      <td>0</td>\n",
       "      <td>1</td>\n",
       "      <td>7</td>\n",
       "      <td>2</td>\n",
       "      <td>1</td>\n",
       "      <td>0</td>\n",
       "      <td>3</td>\n",
       "      <td>1</td>\n",
       "      <td>2</td>\n",
       "      <td>0.250</td>\n",
       "      <td>NaN</td>\n",
       "      <td>NaN</td>\n",
       "      <td>0.250</td>\n",
       "      <td>20.0</td>\n",
       "      <td>53</td>\n",
       "      <td>105</td>\n",
       "      <td>-40.6</td>\n",
       "    </tr>\n",
       "    <tr>\n",
       "      <th>104838</th>\n",
       "      <td>Ivica Zubac</td>\n",
       "      <td>https://www.basketball-reference.com/players/z/zubaciv01.html</td>\n",
       "      <td>2022</td>\n",
       "      <td>NaN</td>\n",
       "      <td>Utah</td>\n",
       "      <td>3</td>\n",
       "      <td>3</td>\n",
       "      <td>56</td>\n",
       "      <td>7</td>\n",
       "      <td>17</td>\n",
       "      <td>0</td>\n",
       "      <td>0</td>\n",
       "      <td>7</td>\n",
       "      <td>7</td>\n",
       "      <td>9</td>\n",
       "      <td>18</td>\n",
       "      <td>1</td>\n",
       "      <td>3</td>\n",
       "      <td>2</td>\n",
       "      <td>2</td>\n",
       "      <td>9</td>\n",
       "      <td>21</td>\n",
       "      <td>0.412</td>\n",
       "      <td>NaN</td>\n",
       "      <td>1.000</td>\n",
       "      <td>0.523</td>\n",
       "      <td>17.7</td>\n",
       "      <td>117</td>\n",
       "      <td>121</td>\n",
       "      <td>-44.7</td>\n",
       "    </tr>\n",
       "    <tr>\n",
       "      <th>104839</th>\n",
       "      <td>Ivica Zubac</td>\n",
       "      <td>https://www.basketball-reference.com/players/z/zubaciv01.html</td>\n",
       "      <td>2022</td>\n",
       "      <td>NaN</td>\n",
       "      <td>Washington</td>\n",
       "      <td>2</td>\n",
       "      <td>2</td>\n",
       "      <td>39</td>\n",
       "      <td>5</td>\n",
       "      <td>18</td>\n",
       "      <td>0</td>\n",
       "      <td>0</td>\n",
       "      <td>2</td>\n",
       "      <td>4</td>\n",
       "      <td>5</td>\n",
       "      <td>13</td>\n",
       "      <td>4</td>\n",
       "      <td>1</td>\n",
       "      <td>2</td>\n",
       "      <td>2</td>\n",
       "      <td>4</td>\n",
       "      <td>12</td>\n",
       "      <td>0.278</td>\n",
       "      <td>NaN</td>\n",
       "      <td>0.500</td>\n",
       "      <td>0.304</td>\n",
       "      <td>24.6</td>\n",
       "      <td>81</td>\n",
       "      <td>110</td>\n",
       "      <td>-41.8</td>\n",
       "    </tr>\n",
       "  </tbody>\n",
       "</table>\n",
       "<p>104840 rows × 30 columns</p>\n",
       "</div>"
      ],
      "text/plain": [
       "                    Name  \\\n",
       "0       Precious Achiuwa   \n",
       "1       Precious Achiuwa   \n",
       "2       Precious Achiuwa   \n",
       "3       Precious Achiuwa   \n",
       "4       Precious Achiuwa   \n",
       "...                  ...   \n",
       "104835       Ivica Zubac   \n",
       "104836       Ivica Zubac   \n",
       "104837       Ivica Zubac   \n",
       "104838       Ivica Zubac   \n",
       "104839       Ivica Zubac   \n",
       "\n",
       "                                                                 Link  Year  \\\n",
       "0       https://www.basketball-reference.com/players/a/achiupr01.html  2024   \n",
       "1       https://www.basketball-reference.com/players/a/achiupr01.html  2024   \n",
       "2       https://www.basketball-reference.com/players/a/achiupr01.html  2024   \n",
       "3       https://www.basketball-reference.com/players/a/achiupr01.html  2024   \n",
       "4       https://www.basketball-reference.com/players/a/achiupr01.html  2024   \n",
       "...                                                               ...   ...   \n",
       "104835  https://www.basketball-reference.com/players/z/zubaciv01.html  2022   \n",
       "104836  https://www.basketball-reference.com/players/z/zubaciv01.html  2022   \n",
       "104837  https://www.basketball-reference.com/players/z/zubaciv01.html  2022   \n",
       "104838  https://www.basketball-reference.com/players/z/zubaciv01.html  2022   \n",
       "104839  https://www.basketball-reference.com/players/z/zubaciv01.html  2022   \n",
       "\n",
       "           Split        Value   G  GS    MP   FG  FGA  3P  3PA  FT  FTA  ORB  \\\n",
       "0            NaN        Total  74  18  1624  235  469  26   97  69  112  191   \n",
       "1          Place         Home  44  13  1038  156  314  14   63  44   68  121   \n",
       "2            NaN         Road  30   5   585   79  155  12   34  25   44   70   \n",
       "3       All-Star          Pre  48   9  1020  158  322  19   71  41   64  124   \n",
       "4            NaN         Post  26   9   604   77  147   7   26  28   48   67   \n",
       "...          ...          ...  ..  ..   ...  ...  ...  ..  ...  ..  ...  ...   \n",
       "104835       NaN   Sacramento   4   4   104   23   31   0    0   8   10   11   \n",
       "104836       NaN  San Antonio   3   3    79   11   21   0    0   4    6   14   \n",
       "104837       NaN      Toronto   1   1    17    1    4   0    0   0    0    1   \n",
       "104838       NaN         Utah   3   3    56    7   17   0    0   7    7    9   \n",
       "104839       NaN   Washington   2   2    39    5   18   0    0   2    4    5   \n",
       "\n",
       "        TRB  AST  STL  BLK  TOV   PF  PTS    FG%    3P%    FT%    TS%  USG%  \\\n",
       "0       487   97   46   68   83  143  565  0.501  0.268  0.616  0.545  16.2   \n",
       "1       310   57   29   50   49   80  370  0.497  0.222  0.647  0.538  16.5   \n",
       "2       177   40   17   18   34   63  195  0.510  0.353  0.568  0.559  15.7   \n",
       "3       303   65   29   36   50   88  376  0.491  0.268  0.641  0.537  16.9   \n",
       "4       184   32   17   32   33   55  189  0.524  0.269  0.583  0.562  15.0   \n",
       "...     ...  ...  ...  ...  ...  ...  ...    ...    ...    ...    ...   ...   \n",
       "104835   36    5    2    3    3   10   54  0.742    NaN  0.800  0.763  15.7   \n",
       "104836   34    4    2    3    3    7   26  0.524    NaN  0.667  0.550  14.3   \n",
       "104837    7    2    1    0    3    1    2  0.250    NaN    NaN  0.250  20.0   \n",
       "104838   18    1    3    2    2    9   21  0.412    NaN  1.000  0.523  17.7   \n",
       "104839   13    4    1    2    2    4   12  0.278    NaN  0.500  0.304  24.6   \n",
       "\n",
       "        ORtg  DRtg   +/-  \n",
       "0        113   112  -1.5  \n",
       "1        113   111  -0.9  \n",
       "2        113   112  -2.4  \n",
       "3        113   114  -0.2  \n",
       "4        112   108  -3.7  \n",
       "...      ...   ...   ...  \n",
       "104835   149   103   4.3  \n",
       "104836   120    98 -13.1  \n",
       "104837    53   105 -40.6  \n",
       "104838   117   121 -44.7  \n",
       "104839    81   110 -41.8  \n",
       "\n",
       "[104840 rows x 30 columns]"
      ]
     },
     "execution_count": 9,
     "metadata": {},
     "output_type": "execute_result"
    }
   ],
   "source": [
    "df = pd.read_csv(\"splits.csv\")\n",
    "df"
   ]
  },
  {
   "cell_type": "markdown",
   "id": "741b4c0f-5e16-4ee5-9797-ac7455602b8f",
   "metadata": {},
   "source": [
    "# Scraping Playoffs using Selenium"
   ]
  },
  {
   "cell_type": "code",
   "execution_count": 9,
   "id": "efbff714-f01d-4243-b451-40ff567e3b73",
   "metadata": {},
   "outputs": [],
   "source": [
    "import lxml\n",
    "from selenium import webdriver\n",
    "from selenium.webdriver.common.by import By\n",
    "from selenium.webdriver.chrome.service import Service\n",
    "from selenium.common.exceptions import NoSuchElementException"
   ]
  },
  {
   "cell_type": "code",
   "execution_count": 123,
   "id": "6f6768a3-fca9-446d-8f37-116cee17410b",
   "metadata": {},
   "outputs": [],
   "source": [
    "def get_gamelog_playoffs(rows, name, link):\n",
    "    gamelog = pd.DataFrame( columns = [\"Name\", \"Link\", \"Game\", \"Date\", \"Match Link\", \"Age\", \"Team\",\n",
    "                                   \"Location\", \"Opponent\", \"Result\", \"GS\",\n",
    "                                   \"MP\", \"FG\", \"FGA\", \"FG%\", \"3P\", \"3PA\",\n",
    "                                   \"3P%\", \"FT\", \"FTA\", \"FT%\", \"ORB\", \"DRB\",\n",
    "                                   \"TRB\", \"AST\", \"STL\", \"BLK\", \"TOV\", \"PF\",\n",
    "                                   \"PTS\", \"GmSc\", \"+/-\"])\n",
    "    # Iterate through all rows of table\n",
    "    for row in rows:\n",
    "        # Gets all cols\n",
    "        cols = row.find_elements(By.TAG_NAME, \"td\")       \n",
    "        game = cols[0].text\n",
    "        date = cols[1].text\n",
    "        match = cols[1].find_element(By.TAG_NAME, \"a\").get_attribute('href')\n",
    "        age = cols[2].text\n",
    "        team = cols[3].text\n",
    "        location = cols[4].text\n",
    "        opponent = cols[5].text\n",
    "        result = cols[6].text\n",
    "        gs = cols[7].text\n",
    "        mp = cols[8].text\n",
    "        fg = cols[9].text\n",
    "        fga = cols[10].text\n",
    "        fg_perc = cols[11].text\n",
    "        three_p = cols[12].text\n",
    "        three_pa = cols[13].text\n",
    "        three_p_perc = cols[14].text\n",
    "        ft = cols[15].text\n",
    "        fta = cols[16].text\n",
    "        ft_perc = cols[17].text\n",
    "        orb = cols[18].text\n",
    "        drb = cols[19].text\n",
    "        trb = cols[20].text\n",
    "        ast = cols[21].text\n",
    "        stl = cols[22].text\n",
    "        blk = cols[23].text\n",
    "        tov = cols[24].text\n",
    "        pf = cols[25].text\n",
    "        pts = cols[26].text\n",
    "        gmsc = cols[27].text\n",
    "        pm = cols[28].text\n",
    "        # Saves info into DataFrame\n",
    "        gamelog = gamelog._append({\"Name\":name, \"Link\": link, \"Game\": game, \"Date\": date, \"Match Link\": match, \"Age\": age, \"Team\": team,\"Location\": location, \"Opponent\": opponent, \"Result\": result, \"GS\": gs,\"MP\": mp, \"FG\": fg, \"FGA\": fga, \"FG%\": fg_perc, \"3P\": three_p, \"3PA\": three_pa,\"3P%\": three_p_perc, \"FT\": ft, \"FTA\": fta, \"FT%\": ft_perc, \"ORB\": orb, \"DRB\": drb,\"TRB\": trb, \"AST\": ast, \"STL\": stl, \"BLK\": blk, \"TOV\": tov, \"PF\": pf,\"PTS\": pts, \"GmSc\": gmsc, \"+/-\": pm}, ignore_index=True )\n",
    "    return gamelog"
   ]
  },
  {
   "cell_type": "code",
   "execution_count": 133,
   "id": "12dda6f3-0b0b-400f-b099-fcdad99aa2fb",
   "metadata": {},
   "outputs": [
    {
     "name": "stderr",
     "output_type": "stream",
     "text": [
      "  0%|                                                                                          | 0/787 [00:00<?, ?it/s]"
     ]
    },
    {
     "name": "stdout",
     "output_type": "stream",
     "text": [
      "0 Precious Achiuwa https://www.basketball-reference.com/players/a/achiupr01/gamelog/2024\n"
     ]
    },
    {
     "name": "stderr",
     "output_type": "stream",
     "text": [
      "  0%|                                                                                | 1/787 [00:11<2:32:42, 11.66s/it]"
     ]
    },
    {
     "name": "stdout",
     "output_type": "stream",
     "text": [
      "1 Precious Achiuwa https://www.basketball-reference.com/players/a/achiupr01/gamelog/2023\n",
      "1 Steven Adams https://www.basketball-reference.com/players/a/adamsst01/gamelog/2023\n",
      "2 Steven Adams https://www.basketball-reference.com/players/a/adamsst01/gamelog/2022\n"
     ]
    },
    {
     "name": "stderr",
     "output_type": "stream",
     "text": [
      "  0%|▏                                                                               | 2/787 [00:22<2:25:54, 11.15s/it]"
     ]
    },
    {
     "name": "stdout",
     "output_type": "stream",
     "text": [
      "3 Steven Adams https://www.basketball-reference.com/players/a/adamsst01/gamelog/2021\n",
      "3 Bam Adebayo https://www.basketball-reference.com/players/a/adebaba01/gamelog/2024\n",
      "4 Bam Adebayo https://www.basketball-reference.com/players/a/adebaba01/gamelog/2023\n",
      "5 Bam Adebayo https://www.basketball-reference.com/players/a/adebaba01/gamelog/2022\n"
     ]
    },
    {
     "name": "stderr",
     "output_type": "stream",
     "text": [
      "  1%|▍                                                                               | 4/787 [00:44<2:09:25,  9.92s/it]"
     ]
    },
    {
     "name": "stdout",
     "output_type": "stream",
     "text": [
      "6 Ochai Agbaji https://www.basketball-reference.com/players/a/agbajoc01/gamelog/2024\n"
     ]
    },
    {
     "name": "stderr",
     "output_type": "stream",
     "text": [
      "  1%|▌                                                                               | 5/787 [00:45<1:29:08,  6.84s/it]"
     ]
    },
    {
     "name": "stdout",
     "output_type": "stream",
     "text": [
      "6 Santi Aldama https://www.basketball-reference.com/players/a/aldamsa01/gamelog/2024\n",
      "6 Ty-Shon Alexander https://www.basketball-reference.com/players/a/alexaty01/gamelog/2021\n"
     ]
    },
    {
     "name": "stderr",
     "output_type": "stream",
     "text": [
      "  1%|▌                                                                               | 6/787 [00:49<1:15:43,  5.82s/it]"
     ]
    },
    {
     "name": "stdout",
     "output_type": "stream",
     "text": [
      "7 Nickeil Alexander-Walker https://www.basketball-reference.com/players/a/alexani01/gamelog/2024\n",
      "8 Nickeil Alexander-Walker https://www.basketball-reference.com/players/a/alexani01/gamelog/2023\n",
      "9 Nickeil Alexander-Walker https://www.basketball-reference.com/players/a/alexani01/gamelog/2022\n"
     ]
    },
    {
     "name": "stderr",
     "output_type": "stream",
     "text": [
      "  1%|▊                                                                               | 8/787 [01:07<1:28:35,  6.82s/it]"
     ]
    },
    {
     "name": "stdout",
     "output_type": "stream",
     "text": [
      "10 Rawle Alkins https://www.basketball-reference.com/players/a/alkinra01/gamelog/2019\n",
      "10 Grayson Allen https://www.basketball-reference.com/players/a/allengr01/gamelog/2024\n",
      "11 Grayson Allen https://www.basketball-reference.com/players/a/allengr01/gamelog/2023\n",
      "12 Grayson Allen https://www.basketball-reference.com/players/a/allengr01/gamelog/2022\n"
     ]
    },
    {
     "name": "stderr",
     "output_type": "stream",
     "text": [
      "  1%|▉                                                                               | 9/787 [01:23<2:04:44,  9.62s/it]"
     ]
    },
    {
     "name": "stdout",
     "output_type": "stream",
     "text": [
      "13 Jarrett Allen https://www.basketball-reference.com/players/a/allenja01/gamelog/2024\n",
      "14 Jarrett Allen https://www.basketball-reference.com/players/a/allenja01/gamelog/2023\n"
     ]
    },
    {
     "name": "stderr",
     "output_type": "stream",
     "text": [
      "  1%|█                                                                              | 10/787 [01:34<2:12:18, 10.22s/it]"
     ]
    },
    {
     "name": "stdout",
     "output_type": "stream",
     "text": [
      "15 Jarrett Allen https://www.basketball-reference.com/players/a/allenja01/gamelog/2022\n"
     ]
    },
    {
     "name": "stderr",
     "output_type": "stream",
     "text": [
      "  1%|█                                                                              | 11/787 [01:35<1:36:42,  7.48s/it]"
     ]
    },
    {
     "name": "stdout",
     "output_type": "stream",
     "text": [
      "15 Timmy Allen https://www.basketball-reference.com/players/a/allenti01/gamelog/2024\n",
      "15 Jose Alvarado https://www.basketball-reference.com/players/a/alvarjo01/gamelog/2024\n"
     ]
    },
    {
     "name": "stderr",
     "output_type": "stream",
     "text": [
      "  2%|█▏                                                                             | 12/787 [01:42<1:31:45,  7.10s/it]"
     ]
    },
    {
     "name": "stdout",
     "output_type": "stream",
     "text": [
      "16 Jose Alvarado https://www.basketball-reference.com/players/a/alvarjo01/gamelog/2023\n"
     ]
    },
    {
     "name": "stderr",
     "output_type": "stream",
     "text": [
      "  2%|█▎                                                                             | 13/787 [01:44<1:11:00,  5.50s/it]"
     ]
    },
    {
     "name": "stdout",
     "output_type": "stream",
     "text": [
      "16 Justin Anderson https://www.basketball-reference.com/players/a/anderju01/gamelog/2022\n",
      "16 Kyle Anderson https://www.basketball-reference.com/players/a/anderky01/gamelog/2024\n",
      "17 Kyle Anderson https://www.basketball-reference.com/players/a/anderky01/gamelog/2023\n",
      "18 Kyle Anderson https://www.basketball-reference.com/players/a/anderky01/gamelog/2022\n"
     ]
    },
    {
     "name": "stderr",
     "output_type": "stream",
     "text": [
      "  2%|█▍                                                                             | 14/787 [02:01<1:56:35,  9.05s/it]"
     ]
    },
    {
     "name": "stdout",
     "output_type": "stream",
     "text": [
      "19 Giannis Antetokounmpo https://www.basketball-reference.com/players/a/antetgi01/gamelog/2024\n",
      "20 Giannis Antetokounmpo https://www.basketball-reference.com/players/a/antetgi01/gamelog/2023\n",
      "21 Giannis Antetokounmpo https://www.basketball-reference.com/players/a/antetgi01/gamelog/2022\n"
     ]
    },
    {
     "name": "stderr",
     "output_type": "stream",
     "text": [
      "  2%|█▌                                                                             | 15/787 [02:16<2:20:05, 10.89s/it]"
     ]
    },
    {
     "name": "stdout",
     "output_type": "stream",
     "text": [
      "22 Kostas Antetokounmpo https://www.basketball-reference.com/players/a/antetko01/gamelog/2021\n",
      "23 Kostas Antetokounmpo https://www.basketball-reference.com/players/a/antetko01/gamelog/2020\n"
     ]
    },
    {
     "name": "stderr",
     "output_type": "stream",
     "text": [
      "  2%|█▌                                                                             | 16/787 [02:26<2:15:56, 10.58s/it]"
     ]
    },
    {
     "name": "stdout",
     "output_type": "stream",
     "text": [
      "24 Kostas Antetokounmpo https://www.basketball-reference.com/players/a/antetko01/gamelog/2019\n",
      "24 Thanasis Antetokounmpo https://www.basketball-reference.com/players/a/antetth01/gamelog/2024\n",
      "25 Thanasis Antetokounmpo https://www.basketball-reference.com/players/a/antetth01/gamelog/2023\n",
      "26 Thanasis Antetokounmpo https://www.basketball-reference.com/players/a/antetth01/gamelog/2022\n"
     ]
    },
    {
     "name": "stderr",
     "output_type": "stream",
     "text": [
      "  2%|█▋                                                                             | 17/787 [02:40<2:29:25, 11.64s/it]"
     ]
    },
    {
     "name": "stdout",
     "output_type": "stream",
     "text": [
      "27 Cole Anthony https://www.basketball-reference.com/players/a/anthoco01/gamelog/2024\n"
     ]
    },
    {
     "name": "stderr",
     "output_type": "stream",
     "text": [
      "  2%|█▊                                                                             | 18/787 [02:47<2:12:09, 10.31s/it]"
     ]
    },
    {
     "name": "stdout",
     "output_type": "stream",
     "text": [
      "28 Cole Anthony https://www.basketball-reference.com/players/a/anthoco01/gamelog/2023\n",
      "28 OG Anunoby https://www.basketball-reference.com/players/a/anunoog01/gamelog/2024\n"
     ]
    },
    {
     "name": "stderr",
     "output_type": "stream",
     "text": [
      "  2%|█▉                                                                             | 19/787 [02:54<1:59:03,  9.30s/it]"
     ]
    },
    {
     "name": "stdout",
     "output_type": "stream",
     "text": [
      "29 OG Anunoby https://www.basketball-reference.com/players/a/anunoog01/gamelog/2023\n",
      "29 Ryan Arcidiacono https://www.basketball-reference.com/players/a/arcidry01/gamelog/2024\n"
     ]
    },
    {
     "name": "stderr",
     "output_type": "stream",
     "text": [
      "  3%|██                                                                             | 21/787 [02:57<1:07:11,  5.26s/it]"
     ]
    },
    {
     "name": "stdout",
     "output_type": "stream",
     "text": [
      "29 Deni Avdija https://www.basketball-reference.com/players/a/avdijde01/gamelog/2024\n"
     ]
    },
    {
     "name": "stderr",
     "output_type": "stream",
     "text": [
      "  3%|██▎                                                                              | 22/787 [02:58<52:37,  4.13s/it]"
     ]
    },
    {
     "name": "stdout",
     "output_type": "stream",
     "text": [
      "29 Joel Ayayi https://www.basketball-reference.com/players/a/ayayijo01/gamelog/2022\n"
     ]
    },
    {
     "name": "stderr",
     "output_type": "stream",
     "text": [
      "  3%|██▎                                                                              | 23/787 [03:00<42:13,  3.32s/it]"
     ]
    },
    {
     "name": "stdout",
     "output_type": "stream",
     "text": [
      "29 Deandre Ayton https://www.basketball-reference.com/players/a/aytonde01/gamelog/2024\n"
     ]
    },
    {
     "name": "stderr",
     "output_type": "stream",
     "text": [
      "  3%|██▍                                                                              | 24/787 [03:01<34:44,  2.73s/it]"
     ]
    },
    {
     "name": "stdout",
     "output_type": "stream",
     "text": [
      "29 Udoka Azubuike https://www.basketball-reference.com/players/a/azubuud01/gamelog/2024\n"
     ]
    },
    {
     "name": "stderr",
     "output_type": "stream",
     "text": [
      "  3%|██▌                                                                              | 25/787 [03:03<29:42,  2.34s/it]"
     ]
    },
    {
     "name": "stdout",
     "output_type": "stream",
     "text": [
      "29 Ibou Badji https://www.basketball-reference.com/players/b/badjiib01/gamelog/2024\n"
     ]
    },
    {
     "name": "stderr",
     "output_type": "stream",
     "text": [
      "  3%|██▋                                                                              | 26/787 [03:04<26:53,  2.12s/it]"
     ]
    },
    {
     "name": "stdout",
     "output_type": "stream",
     "text": [
      "29 Marvin Bagley III https://www.basketball-reference.com/players/b/baglema01/gamelog/2024\n",
      "29 Amari Bailey https://www.basketball-reference.com/players/b/baileam01/gamelog/2024\n"
     ]
    },
    {
     "name": "stderr",
     "output_type": "stream",
     "text": [
      "  4%|██▉                                                                              | 28/787 [03:07<23:58,  1.90s/it]"
     ]
    },
    {
     "name": "stdout",
     "output_type": "stream",
     "text": [
      "29 Patrick Baldwin Jr. https://www.basketball-reference.com/players/b/baldwpa01/gamelog/2024\n"
     ]
    },
    {
     "name": "stderr",
     "output_type": "stream",
     "text": [
      "  4%|██▉                                                                              | 29/787 [03:09<23:00,  1.82s/it]"
     ]
    },
    {
     "name": "stdout",
     "output_type": "stream",
     "text": [
      "29 LaMelo Ball https://www.basketball-reference.com/players/b/ballla01/gamelog/2024\n",
      "29 Lonzo Ball https://www.basketball-reference.com/players/b/balllo01/gamelog/2022\n"
     ]
    },
    {
     "name": "stderr",
     "output_type": "stream",
     "text": [
      "  4%|███                                                                              | 30/787 [03:16<42:19,  3.35s/it]"
     ]
    },
    {
     "name": "stdout",
     "output_type": "stream",
     "text": [
      "30 Lonzo Ball https://www.basketball-reference.com/players/b/balllo01/gamelog/2021\n",
      "30 Mo Bamba https://www.basketball-reference.com/players/b/bambamo01/gamelog/2024\n",
      "31 Mo Bamba https://www.basketball-reference.com/players/b/bambamo01/gamelog/2023\n"
     ]
    },
    {
     "name": "stderr",
     "output_type": "stream",
     "text": [
      "  4%|███                                                                            | 31/787 [03:26<1:08:00,  5.40s/it]"
     ]
    },
    {
     "name": "stdout",
     "output_type": "stream",
     "text": [
      "32 Mo Bamba https://www.basketball-reference.com/players/b/bambamo01/gamelog/2022\n",
      "32 Paolo Banchero https://www.basketball-reference.com/players/b/banchpa01/gamelog/2024\n"
     ]
    },
    {
     "name": "stderr",
     "output_type": "stream",
     "text": [
      "  4%|███▏                                                                           | 32/787 [03:33<1:14:49,  5.95s/it]"
     ]
    },
    {
     "name": "stdout",
     "output_type": "stream",
     "text": [
      "33 Paolo Banchero https://www.basketball-reference.com/players/b/banchpa01/gamelog/2023\n"
     ]
    },
    {
     "name": "stderr",
     "output_type": "stream",
     "text": [
      "  4%|███▍                                                                             | 33/787 [03:35<58:01,  4.62s/it]"
     ]
    },
    {
     "name": "stdout",
     "output_type": "stream",
     "text": [
      "33 Desmond Bane https://www.basketball-reference.com/players/b/banede01/gamelog/2024\n"
     ]
    },
    {
     "name": "stderr",
     "output_type": "stream",
     "text": [
      "  4%|███▍                                                                             | 34/787 [03:36<45:53,  3.66s/it]"
     ]
    },
    {
     "name": "stdout",
     "output_type": "stream",
     "text": [
      "33 Dalano Banton https://www.basketball-reference.com/players/b/bantoda01/gamelog/2024\n"
     ]
    },
    {
     "name": "stderr",
     "output_type": "stream",
     "text": [
      "  4%|███▌                                                                             | 35/787 [03:38<37:03,  2.96s/it]"
     ]
    },
    {
     "name": "stdout",
     "output_type": "stream",
     "text": [
      "33 Cat Barber https://www.basketball-reference.com/players/b/barbeca01/gamelog/2022\n"
     ]
    },
    {
     "name": "stderr",
     "output_type": "stream",
     "text": [
      "  5%|███▋                                                                             | 36/787 [03:39<31:32,  2.52s/it]"
     ]
    },
    {
     "name": "stdout",
     "output_type": "stream",
     "text": [
      "33 Dominick Barlow https://www.basketball-reference.com/players/b/barlodo01/gamelog/2024\n"
     ]
    },
    {
     "name": "stderr",
     "output_type": "stream",
     "text": [
      "  5%|███▊                                                                             | 37/787 [03:41<27:50,  2.23s/it]"
     ]
    },
    {
     "name": "stdout",
     "output_type": "stream",
     "text": [
      "33 Harrison Barnes https://www.basketball-reference.com/players/b/barneha02/gamelog/2024\n"
     ]
    },
    {
     "name": "stderr",
     "output_type": "stream",
     "text": [
      "  5%|███▉                                                                             | 38/787 [03:42<25:13,  2.02s/it]"
     ]
    },
    {
     "name": "stdout",
     "output_type": "stream",
     "text": [
      "33 Scottie Barnes https://www.basketball-reference.com/players/b/barnesc01/gamelog/2024\n"
     ]
    },
    {
     "name": "stderr",
     "output_type": "stream",
     "text": [
      "  5%|████                                                                             | 39/787 [03:44<24:16,  1.95s/it]"
     ]
    },
    {
     "name": "stdout",
     "output_type": "stream",
     "text": [
      "33 RJ Barrett https://www.basketball-reference.com/players/b/barrerj01/gamelog/2024\n"
     ]
    },
    {
     "name": "stderr",
     "output_type": "stream",
     "text": [
      "  5%|████                                                                             | 40/787 [03:46<24:15,  1.95s/it]"
     ]
    },
    {
     "name": "stdout",
     "output_type": "stream",
     "text": [
      "33 Paris Bass https://www.basketball-reference.com/players/b/basspa01/gamelog/2022\n",
      "33 Charles Bassey https://www.basketball-reference.com/players/b/bassech01/gamelog/2024\n"
     ]
    },
    {
     "name": "stderr",
     "output_type": "stream",
     "text": [
      "  5%|████▏                                                                            | 41/787 [03:48<24:29,  1.97s/it]"
     ]
    },
    {
     "name": "stdout",
     "output_type": "stream",
     "text": [
      "33 Emoni Bates https://www.basketball-reference.com/players/b/batesem01/gamelog/2024\n"
     ]
    },
    {
     "name": "stderr",
     "output_type": "stream",
     "text": [
      "  5%|████▍                                                                            | 43/787 [03:54<29:55,  2.41s/it]"
     ]
    },
    {
     "name": "stdout",
     "output_type": "stream",
     "text": [
      "34 Keita Bates-Diop https://www.basketball-reference.com/players/b/bateske01/gamelog/2024\n",
      "34 Nicolas Batum https://www.basketball-reference.com/players/b/batumni01/gamelog/2024\n",
      "35 Nicolas Batum https://www.basketball-reference.com/players/b/batumni01/gamelog/2023\n"
     ]
    },
    {
     "name": "stderr",
     "output_type": "stream",
     "text": [
      "  6%|████▍                                                                          | 44/787 [04:06<1:04:59,  5.25s/it]"
     ]
    },
    {
     "name": "stdout",
     "output_type": "stream",
     "text": [
      "36 Nicolas Batum https://www.basketball-reference.com/players/b/batumni01/gamelog/2022\n"
     ]
    },
    {
     "name": "stderr",
     "output_type": "stream",
     "text": [
      "  6%|████▋                                                                            | 45/787 [04:07<50:37,  4.09s/it]"
     ]
    },
    {
     "name": "stdout",
     "output_type": "stream",
     "text": [
      "36 Kent Bazemore https://www.basketball-reference.com/players/b/bazemke01/gamelog/2022\n"
     ]
    },
    {
     "name": "stderr",
     "output_type": "stream",
     "text": [
      "  6%|████▋                                                                            | 46/787 [04:09<41:09,  3.33s/it]"
     ]
    },
    {
     "name": "stdout",
     "output_type": "stream",
     "text": [
      "36 Darius Bazley https://www.basketball-reference.com/players/b/bazleda01/gamelog/2024\n",
      "36 Bradley Beal https://www.basketball-reference.com/players/b/bealbr01/gamelog/2024\n"
     ]
    },
    {
     "name": "stderr",
     "output_type": "stream",
     "text": [
      "  6%|████▊                                                                            | 47/787 [04:15<52:23,  4.25s/it]"
     ]
    },
    {
     "name": "stdout",
     "output_type": "stream",
     "text": [
      "37 Bradley Beal https://www.basketball-reference.com/players/b/bealbr01/gamelog/2023\n",
      "37 Malik Beasley https://www.basketball-reference.com/players/b/beaslma01/gamelog/2024\n",
      "38 Malik Beasley https://www.basketball-reference.com/players/b/beaslma01/gamelog/2023\n",
      "39 Malik Beasley https://www.basketball-reference.com/players/b/beaslma01/gamelog/2022\n"
     ]
    },
    {
     "name": "stderr",
     "output_type": "stream",
     "text": [
      "  6%|████▊                                                                          | 48/787 [04:31<1:35:48,  7.78s/it]"
     ]
    },
    {
     "name": "stdout",
     "output_type": "stream",
     "text": [
      "40 MarJon Beauchamp https://www.basketball-reference.com/players/b/beaucma01/gamelog/2024\n",
      "41 MarJon Beauchamp https://www.basketball-reference.com/players/b/beaucma01/gamelog/2023\n"
     ]
    },
    {
     "name": "stderr",
     "output_type": "stream",
     "text": [
      "  6%|█████                                                                          | 50/787 [04:42<1:16:55,  6.26s/it]"
     ]
    },
    {
     "name": "stdout",
     "output_type": "stream",
     "text": [
      "42 Jordan Bell https://www.basketball-reference.com/players/b/belljo01/gamelog/2022\n"
     ]
    },
    {
     "name": "stderr",
     "output_type": "stream",
     "text": [
      "  6%|█████▏                                                                           | 51/787 [04:44<58:49,  4.80s/it]"
     ]
    },
    {
     "name": "stdout",
     "output_type": "stream",
     "text": [
      "42 DeAndre' Bembry https://www.basketball-reference.com/players/b/bembrde01/gamelog/2022\n"
     ]
    },
    {
     "name": "stderr",
     "output_type": "stream",
     "text": [
      "  7%|█████▎                                                                           | 52/787 [04:45<46:15,  3.78s/it]"
     ]
    },
    {
     "name": "stdout",
     "output_type": "stream",
     "text": [
      "42 Jules Bernard https://www.basketball-reference.com/players/b/bernaju01/gamelog/2024\n"
     ]
    },
    {
     "name": "stderr",
     "output_type": "stream",
     "text": [
      "  7%|█████▍                                                                           | 53/787 [04:46<37:26,  3.06s/it]"
     ]
    },
    {
     "name": "stdout",
     "output_type": "stream",
     "text": [
      "42 DÄvis BertÄns https://www.basketball-reference.com/players/b/bertada01/gamelog/2024\n",
      "42 Patrick Beverley https://www.basketball-reference.com/players/b/beverpa01/gamelog/2024\n"
     ]
    },
    {
     "name": "stderr",
     "output_type": "stream",
     "text": [
      "  7%|█████▌                                                                           | 54/787 [04:53<51:19,  4.20s/it]"
     ]
    },
    {
     "name": "stdout",
     "output_type": "stream",
     "text": [
      "43 Patrick Beverley https://www.basketball-reference.com/players/b/beverpa01/gamelog/2023\n"
     ]
    },
    {
     "name": "stderr",
     "output_type": "stream",
     "text": [
      "  7%|█████▋                                                                           | 55/787 [04:55<40:56,  3.36s/it]"
     ]
    },
    {
     "name": "stdout",
     "output_type": "stream",
     "text": [
      "43 Saddiq Bey https://www.basketball-reference.com/players/b/beysa01/gamelog/2024\n",
      "43 Tyler Bey https://www.basketball-reference.com/players/b/beyty01/gamelog/2021\n"
     ]
    },
    {
     "name": "stderr",
     "output_type": "stream",
     "text": [
      "  7%|█████▊                                                                           | 57/787 [05:00<36:02,  2.96s/it]"
     ]
    },
    {
     "name": "stdout",
     "output_type": "stream",
     "text": [
      "44 Khem Birch https://www.basketball-reference.com/players/b/birchkh01/gamelog/2023\n",
      "44 Goga Bitadze https://www.basketball-reference.com/players/b/bitadgo01/gamelog/2024\n"
     ]
    },
    {
     "name": "stderr",
     "output_type": "stream",
     "text": [
      "  7%|█████▉                                                                           | 58/787 [05:06<46:49,  3.85s/it]"
     ]
    },
    {
     "name": "stdout",
     "output_type": "stream",
     "text": [
      "45 Goga Bitadze https://www.basketball-reference.com/players/b/bitadgo01/gamelog/2023\n"
     ]
    },
    {
     "name": "stderr",
     "output_type": "stream",
     "text": [
      "  7%|██████                                                                           | 59/787 [05:07<37:42,  3.11s/it]"
     ]
    },
    {
     "name": "stdout",
     "output_type": "stream",
     "text": [
      "45 Onuralp Bitim https://www.basketball-reference.com/players/b/bitimon01/gamelog/2024\n",
      "45 Bismack Biyombo https://www.basketball-reference.com/players/b/biyombi01/gamelog/2024\n",
      "46 Bismack Biyombo https://www.basketball-reference.com/players/b/biyombi01/gamelog/2023\n",
      "47 Bismack Biyombo https://www.basketball-reference.com/players/b/biyombi01/gamelog/2022\n"
     ]
    },
    {
     "name": "stderr",
     "output_type": "stream",
     "text": [
      "  8%|██████                                                                         | 60/787 [05:22<1:19:50,  6.59s/it]"
     ]
    },
    {
     "name": "stdout",
     "output_type": "stream",
     "text": [
      "48 Anthony Black https://www.basketball-reference.com/players/b/blackan01/gamelog/2024\n"
     ]
    },
    {
     "name": "stderr",
     "output_type": "stream",
     "text": [
      "  8%|██████▍                                                                          | 62/787 [05:28<57:14,  4.74s/it]"
     ]
    },
    {
     "name": "stdout",
     "output_type": "stream",
     "text": [
      "49 Leaky Black https://www.basketball-reference.com/players/b/blackle01/gamelog/2024\n"
     ]
    },
    {
     "name": "stderr",
     "output_type": "stream",
     "text": [
      "  8%|██████▍                                                                          | 63/787 [05:30<44:53,  3.72s/it]"
     ]
    },
    {
     "name": "stdout",
     "output_type": "stream",
     "text": [
      "49 Buddy Boeheim https://www.basketball-reference.com/players/b/boehebu01/gamelog/2024\n"
     ]
    },
    {
     "name": "stderr",
     "output_type": "stream",
     "text": [
      "  8%|██████▌                                                                          | 64/787 [05:31<36:41,  3.04s/it]"
     ]
    },
    {
     "name": "stdout",
     "output_type": "stream",
     "text": [
      "49 Bogdan BogdanoviÄ https://www.basketball-reference.com/players/b/bogdabo01/gamelog/2024\n",
      "49 Bojan BogdanoviÄ https://www.basketball-reference.com/players/b/bogdabo02/gamelog/2024\n"
     ]
    },
    {
     "name": "stderr",
     "output_type": "stream",
     "text": [
      "  8%|██████▋                                                                          | 65/787 [05:37<48:09,  4.00s/it]"
     ]
    },
    {
     "name": "stdout",
     "output_type": "stream",
     "text": [
      "50 Bojan BogdanoviÄ https://www.basketball-reference.com/players/b/bogdabo02/gamelog/2023\n",
      "50 Bol Bol https://www.basketball-reference.com/players/b/bolbo01/gamelog/2024\n"
     ]
    },
    {
     "name": "stderr",
     "output_type": "stream",
     "text": [
      "  8%|██████▊                                                                          | 66/787 [05:43<55:11,  4.59s/it]"
     ]
    },
    {
     "name": "stdout",
     "output_type": "stream",
     "text": [
      "51 Bol Bol https://www.basketball-reference.com/players/b/bolbo01/gamelog/2023\n"
     ]
    },
    {
     "name": "stderr",
     "output_type": "stream",
     "text": [
      "  9%|██████▉                                                                          | 67/787 [05:45<43:17,  3.61s/it]"
     ]
    },
    {
     "name": "stdout",
     "output_type": "stream",
     "text": [
      "51 Marques Bolden https://www.basketball-reference.com/players/b/boldema01/gamelog/2024\n"
     ]
    },
    {
     "name": "stderr",
     "output_type": "stream",
     "text": [
      "  9%|██████▉                                                                          | 68/787 [05:46<35:06,  2.93s/it]"
     ]
    },
    {
     "name": "stdout",
     "output_type": "stream",
     "text": [
      "51 Leandro Bolmaro https://www.basketball-reference.com/players/b/bolmale01/gamelog/2023\n"
     ]
    },
    {
     "name": "stderr",
     "output_type": "stream",
     "text": [
      "  9%|███████                                                                          | 69/787 [05:47<29:26,  2.46s/it]"
     ]
    },
    {
     "name": "stdout",
     "output_type": "stream",
     "text": [
      "51 Jordan Bone https://www.basketball-reference.com/players/b/bonejo01/gamelog/2021\n",
      "51 Devin Booker https://www.basketball-reference.com/players/b/bookede01/gamelog/2024\n",
      "52 Devin Booker https://www.basketball-reference.com/players/b/bookede01/gamelog/2023\n",
      "53 Devin Booker https://www.basketball-reference.com/players/b/bookede01/gamelog/2022\n"
     ]
    },
    {
     "name": "stderr",
     "output_type": "stream",
     "text": [
      "  9%|███████                                                                        | 70/787 [06:04<1:19:20,  6.64s/it]"
     ]
    },
    {
     "name": "stdout",
     "output_type": "stream",
     "text": [
      "54 Brandon Boston Jr. https://www.basketball-reference.com/players/b/bostobr01/gamelog/2024\n",
      "55 Brandon Boston Jr. https://www.basketball-reference.com/players/b/bostobr01/gamelog/2023\n"
     ]
    },
    {
     "name": "stderr",
     "output_type": "stream",
     "text": [
      "  9%|███████▏                                                                       | 71/787 [06:15<1:33:40,  7.85s/it]"
     ]
    },
    {
     "name": "stdout",
     "output_type": "stream",
     "text": [
      "56 Brandon Boston Jr. https://www.basketball-reference.com/players/b/bostobr01/gamelog/2022\n"
     ]
    },
    {
     "name": "stderr",
     "output_type": "stream",
     "text": [
      "  9%|███████▏                                                                       | 72/787 [06:16<1:10:27,  5.91s/it]"
     ]
    },
    {
     "name": "stdout",
     "output_type": "stream",
     "text": [
      "56 Chris Boucher https://www.basketball-reference.com/players/b/bouchch01/gamelog/2024\n"
     ]
    },
    {
     "name": "stderr",
     "output_type": "stream",
     "text": [
      "  9%|███████▌                                                                         | 73/787 [06:17<54:08,  4.55s/it]"
     ]
    },
    {
     "name": "stdout",
     "output_type": "stream",
     "text": [
      "56 James Bouknight https://www.basketball-reference.com/players/b/bouknja01/gamelog/2024\n"
     ]
    },
    {
     "name": "stderr",
     "output_type": "stream",
     "text": [
      "  9%|███████▌                                                                         | 74/787 [06:19<42:36,  3.59s/it]"
     ]
    },
    {
     "name": "stdout",
     "output_type": "stream",
     "text": [
      "56 Jamaree Bouyea https://www.basketball-reference.com/players/b/bouyeja01/gamelog/2024\n"
     ]
    },
    {
     "name": "stderr",
     "output_type": "stream",
     "text": [
      " 10%|███████▋                                                                         | 75/787 [06:20<34:48,  2.93s/it]"
     ]
    },
    {
     "name": "stdout",
     "output_type": "stream",
     "text": [
      "56 Ky Bowman https://www.basketball-reference.com/players/b/bowmaky01/gamelog/2020\n"
     ]
    },
    {
     "name": "stderr",
     "output_type": "stream",
     "text": [
      " 10%|███████▊                                                                         | 76/787 [06:22<29:33,  2.49s/it]"
     ]
    },
    {
     "name": "stdout",
     "output_type": "stream",
     "text": [
      "56 Tony Bradley https://www.basketball-reference.com/players/b/bradlto01/gamelog/2023\n"
     ]
    },
    {
     "name": "stderr",
     "output_type": "stream",
     "text": [
      " 10%|███████▉                                                                         | 77/787 [06:23<26:06,  2.21s/it]"
     ]
    },
    {
     "name": "stdout",
     "output_type": "stream",
     "text": [
      "56 Malaki Branham https://www.basketball-reference.com/players/b/branhma01/gamelog/2024\n"
     ]
    },
    {
     "name": "stderr",
     "output_type": "stream",
     "text": [
      " 10%|████████                                                                         | 78/787 [06:25<25:00,  2.12s/it]"
     ]
    },
    {
     "name": "stdout",
     "output_type": "stream",
     "text": [
      "56 Jarrell Brantley https://www.basketball-reference.com/players/b/brantja01/gamelog/2023\n",
      "56 Christian Braun https://www.basketball-reference.com/players/b/braunch01/gamelog/2024\n",
      "57 Christian Braun https://www.basketball-reference.com/players/b/braunch01/gamelog/2023\n"
     ]
    },
    {
     "name": "stderr",
     "output_type": "stream",
     "text": [
      " 10%|████████                                                                       | 80/787 [06:43<1:01:29,  5.22s/it]"
     ]
    },
    {
     "name": "stdout",
     "output_type": "stream",
     "text": [
      "58 Ignas Brazdeikis https://www.basketball-reference.com/players/b/brazdig01/gamelog/2022\n"
     ]
    },
    {
     "name": "stderr",
     "output_type": "stream",
     "text": [
      " 10%|████████▎                                                                        | 81/787 [06:46<51:40,  4.39s/it]"
     ]
    },
    {
     "name": "stdout",
     "output_type": "stream",
     "text": [
      "58 Mikal Bridges https://www.basketball-reference.com/players/b/bridgmi01/gamelog/2024\n"
     ]
    },
    {
     "name": "stderr",
     "output_type": "stream",
     "text": [
      " 10%|████████▍                                                                        | 82/787 [06:48<43:12,  3.68s/it]"
     ]
    },
    {
     "name": "stdout",
     "output_type": "stream",
     "text": [
      "58 Miles Bridges https://www.basketball-reference.com/players/b/bridgmi02/gamelog/2024\n"
     ]
    },
    {
     "name": "stderr",
     "output_type": "stream",
     "text": [
      " 11%|████████▌                                                                        | 83/787 [06:50<36:04,  3.07s/it]"
     ]
    },
    {
     "name": "stdout",
     "output_type": "stream",
     "text": [
      "58 Amida Brimah https://www.basketball-reference.com/players/b/brimaam01/gamelog/2021\n",
      "58 Oshae Brissett https://www.basketball-reference.com/players/b/brissos01/gamelog/2024\n"
     ]
    },
    {
     "name": "stderr",
     "output_type": "stream",
     "text": [
      " 11%|████████▋                                                                        | 84/787 [06:59<58:42,  5.01s/it]"
     ]
    },
    {
     "name": "stdout",
     "output_type": "stream",
     "text": [
      "59 Oshae Brissett https://www.basketball-reference.com/players/b/brissos01/gamelog/2023\n"
     ]
    },
    {
     "name": "stderr",
     "output_type": "stream",
     "text": [
      " 11%|████████▋                                                                        | 85/787 [07:01<46:54,  4.01s/it]"
     ]
    },
    {
     "name": "stdout",
     "output_type": "stream",
     "text": [
      "59 Izaiah Brockington https://www.basketball-reference.com/players/b/brockiz01/gamelog/2024\n"
     ]
    },
    {
     "name": "stderr",
     "output_type": "stream",
     "text": [
      " 11%|████████▊                                                                        | 86/787 [07:03<40:40,  3.48s/it]"
     ]
    },
    {
     "name": "stdout",
     "output_type": "stream",
     "text": [
      "59 Malcolm Brogdon https://www.basketball-reference.com/players/b/brogdma01/gamelog/2024\n"
     ]
    },
    {
     "name": "stderr",
     "output_type": "stream",
     "text": [
      " 11%|████████▉                                                                        | 87/787 [07:05<34:51,  2.99s/it]"
     ]
    },
    {
     "name": "stdout",
     "output_type": "stream",
     "text": [
      "59 Armoni Brooks https://www.basketball-reference.com/players/b/brookar01/gamelog/2024\n"
     ]
    },
    {
     "name": "stderr",
     "output_type": "stream",
     "text": [
      " 11%|█████████                                                                        | 88/787 [07:07<31:13,  2.68s/it]"
     ]
    },
    {
     "name": "stdout",
     "output_type": "stream",
     "text": [
      "59 Dillon Brooks https://www.basketball-reference.com/players/b/brookdi01/gamelog/2024\n"
     ]
    },
    {
     "name": "stderr",
     "output_type": "stream",
     "text": [
      " 11%|█████████▏                                                                       | 89/787 [07:10<32:50,  2.82s/it]"
     ]
    },
    {
     "name": "stdout",
     "output_type": "stream",
     "text": [
      "59 Bruce Brown https://www.basketball-reference.com/players/b/brownbr01/gamelog/2024\n",
      "59 Charlie Brown Jr. https://www.basketball-reference.com/players/b/brownch02/gamelog/2024\n"
     ]
    },
    {
     "name": "stderr",
     "output_type": "stream",
     "text": [
      " 11%|█████████▎                                                                       | 90/787 [07:17<45:53,  3.95s/it]"
     ]
    },
    {
     "name": "stdout",
     "output_type": "stream",
     "text": [
      "60 Charlie Brown Jr. https://www.basketball-reference.com/players/b/brownch02/gamelog/2023\n",
      "60 Chaundee Brown Jr. https://www.basketball-reference.com/players/b/brownch05/gamelog/2022\n"
     ]
    },
    {
     "name": "stderr",
     "output_type": "stream",
     "text": [
      " 12%|█████████▍                                                                       | 92/787 [07:20<33:42,  2.91s/it]"
     ]
    },
    {
     "name": "stdout",
     "output_type": "stream",
     "text": [
      "60 Greg Brown III https://www.basketball-reference.com/players/b/browngr01/gamelog/2024\n",
      "60 Jaylen Brown https://www.basketball-reference.com/players/b/brownja02/gamelog/2024\n",
      "61 Jaylen Brown https://www.basketball-reference.com/players/b/brownja02/gamelog/2023\n",
      "62 Jaylen Brown https://www.basketball-reference.com/players/b/brownja02/gamelog/2022\n"
     ]
    },
    {
     "name": "stderr",
     "output_type": "stream",
     "text": [
      " 12%|█████████▎                                                                     | 93/787 [07:47<1:56:20, 10.06s/it]"
     ]
    },
    {
     "name": "stdout",
     "output_type": "stream",
     "text": [
      "63 Kendall Brown https://www.basketball-reference.com/players/b/brownke03/gamelog/2024\n"
     ]
    },
    {
     "name": "stderr",
     "output_type": "stream",
     "text": [
      " 12%|█████████▍                                                                     | 94/787 [07:55<1:49:31,  9.48s/it]"
     ]
    },
    {
     "name": "stdout",
     "output_type": "stream",
     "text": [
      "64 Kendall Brown https://www.basketball-reference.com/players/b/brownke03/gamelog/2023\n",
      "64 Kobe Brown https://www.basketball-reference.com/players/b/brownko01/gamelog/2024\n"
     ]
    },
    {
     "name": "stderr",
     "output_type": "stream",
     "text": [
      " 12%|█████████▋                                                                     | 96/787 [08:03<1:14:12,  6.44s/it]"
     ]
    },
    {
     "name": "stdout",
     "output_type": "stream",
     "text": [
      "65 Moses Brown https://www.basketball-reference.com/players/b/brownmo01/gamelog/2024\n"
     ]
    },
    {
     "name": "stderr",
     "output_type": "stream",
     "text": [
      " 12%|█████████▉                                                                       | 97/787 [08:04<57:44,  5.02s/it]"
     ]
    },
    {
     "name": "stdout",
     "output_type": "stream",
     "text": [
      "65 Sterling Brown https://www.basketball-reference.com/players/b/brownst02/gamelog/2023\n"
     ]
    },
    {
     "name": "stderr",
     "output_type": "stream",
     "text": [
      " 12%|██████████                                                                       | 98/787 [08:07<47:53,  4.17s/it]"
     ]
    },
    {
     "name": "stdout",
     "output_type": "stream",
     "text": [
      "65 Troy Brown Jr. https://www.basketball-reference.com/players/b/browntr01/gamelog/2024\n",
      "65 Jalen Brunson https://www.basketball-reference.com/players/b/brunsja01/gamelog/2024\n",
      "66 Jalen Brunson https://www.basketball-reference.com/players/b/brunsja01/gamelog/2023\n",
      "67 Jalen Brunson https://www.basketball-reference.com/players/b/brunsja01/gamelog/2022\n"
     ]
    },
    {
     "name": "stderr",
     "output_type": "stream",
     "text": [
      " 13%|█████████▉                                                                     | 99/787 [08:29<1:49:55,  9.59s/it]"
     ]
    },
    {
     "name": "stdout",
     "output_type": "stream",
     "text": [
      "68 Thomas Bryant https://www.basketball-reference.com/players/b/bryanth01/gamelog/2024\n",
      "69 Thomas Bryant https://www.basketball-reference.com/players/b/bryanth01/gamelog/2023\n"
     ]
    },
    {
     "name": "stderr",
     "output_type": "stream",
     "text": [
      " 13%|█████████▉                                                                    | 100/787 [08:42<2:01:04, 10.57s/it]"
     ]
    },
    {
     "name": "stdout",
     "output_type": "stream",
     "text": [
      "70 Thomas Bryant https://www.basketball-reference.com/players/b/bryanth01/gamelog/2022\n"
     ]
    },
    {
     "name": "stderr",
     "output_type": "stream",
     "text": [
      " 13%|██████████                                                                    | 101/787 [08:43<1:30:29,  7.92s/it]"
     ]
    },
    {
     "name": "stdout",
     "output_type": "stream",
     "text": [
      "70 Shaq Buchanan https://www.basketball-reference.com/players/b/buchash01/gamelog/2022\n"
     ]
    },
    {
     "name": "stderr",
     "output_type": "stream",
     "text": [
      " 13%|██████████                                                                    | 102/787 [08:45<1:09:39,  6.10s/it]"
     ]
    },
    {
     "name": "stdout",
     "output_type": "stream",
     "text": [
      "70 Kobe Bufkin https://www.basketball-reference.com/players/b/bufkiko01/gamelog/2024\n"
     ]
    },
    {
     "name": "stderr",
     "output_type": "stream",
     "text": [
      " 13%|██████████▍                                                                     | 103/787 [08:48<56:29,  4.95s/it]"
     ]
    },
    {
     "name": "stdout",
     "output_type": "stream",
     "text": [
      "70 Reggie Bullock https://www.basketball-reference.com/players/b/bullore01/gamelog/2024\n",
      "70 Trey Burke https://www.basketball-reference.com/players/b/burketr01/gamelog/2022\n",
      "71 Trey Burke https://www.basketball-reference.com/players/b/burketr01/gamelog/2021\n",
      "72 Trey Burke https://www.basketball-reference.com/players/b/burketr01/gamelog/2020\n"
     ]
    },
    {
     "name": "stderr",
     "output_type": "stream",
     "text": [
      " 13%|██████████▎                                                                   | 104/787 [09:05<1:37:44,  8.59s/it]"
     ]
    },
    {
     "name": "stdout",
     "output_type": "stream",
     "text": [
      "73 Alec Burks https://www.basketball-reference.com/players/b/burksal01/gamelog/2024\n"
     ]
    },
    {
     "name": "stderr",
     "output_type": "stream",
     "text": [
      " 13%|██████████▍                                                                   | 105/787 [09:13<1:37:56,  8.62s/it]"
     ]
    },
    {
     "name": "stdout",
     "output_type": "stream",
     "text": [
      "74 Alec Burks https://www.basketball-reference.com/players/b/burksal01/gamelog/2023\n"
     ]
    },
    {
     "name": "stderr",
     "output_type": "stream",
     "text": [
      " 13%|██████████▌                                                                   | 106/787 [09:15<1:13:49,  6.50s/it]"
     ]
    },
    {
     "name": "stdout",
     "output_type": "stream",
     "text": [
      "74 Deonte Burton https://www.basketball-reference.com/players/b/burtode02/gamelog/2023\n"
     ]
    },
    {
     "name": "stderr",
     "output_type": "stream",
     "text": [
      " 14%|██████████▉                                                                     | 107/787 [09:17<58:47,  5.19s/it]"
     ]
    },
    {
     "name": "stdout",
     "output_type": "stream",
     "text": [
      "74 Jared Butler https://www.basketball-reference.com/players/b/butleja02/gamelog/2024\n",
      "74 Jimmy Butler https://www.basketball-reference.com/players/b/butleji01/gamelog/2024\n",
      "75 Jimmy Butler https://www.basketball-reference.com/players/b/butleji01/gamelog/2023\n",
      "76 Jimmy Butler https://www.basketball-reference.com/players/b/butleji01/gamelog/2022\n"
     ]
    },
    {
     "name": "stderr",
     "output_type": "stream",
     "text": [
      " 14%|██████████▊                                                                   | 109/787 [09:41<1:29:21,  7.91s/it]"
     ]
    },
    {
     "name": "stdout",
     "output_type": "stream",
     "text": [
      "77 John Butler https://www.basketball-reference.com/players/b/butlejo01/gamelog/2023\n"
     ]
    },
    {
     "name": "stderr",
     "output_type": "stream",
     "text": [
      " 14%|██████████▉                                                                   | 110/787 [09:43<1:08:34,  6.08s/it]"
     ]
    },
    {
     "name": "stdout",
     "output_type": "stream",
     "text": [
      "77 Bruno Caboclo https://www.basketball-reference.com/players/c/cabocbr01/gamelog/2021\n"
     ]
    },
    {
     "name": "stderr",
     "output_type": "stream",
     "text": [
      " 14%|███████████▎                                                                    | 111/787 [09:45<55:07,  4.89s/it]"
     ]
    },
    {
     "name": "stdout",
     "output_type": "stream",
     "text": [
      "77 Devontae Cacok https://www.basketball-reference.com/players/c/cacokde01/gamelog/2022\n"
     ]
    },
    {
     "name": "stderr",
     "output_type": "stream",
     "text": [
      " 14%|███████████▍                                                                    | 112/787 [09:48<46:02,  4.09s/it]"
     ]
    },
    {
     "name": "stdout",
     "output_type": "stream",
     "text": [
      "77 Jamal Cain https://www.basketball-reference.com/players/c/cainja01/gamelog/2024\n",
      "77 Kentavious Caldwell-Pope https://www.basketball-reference.com/players/c/caldwke01/gamelog/2024\n",
      "78 Kentavious Caldwell-Pope https://www.basketball-reference.com/players/c/caldwke01/gamelog/2023\n"
     ]
    },
    {
     "name": "stderr",
     "output_type": "stream",
     "text": [
      " 14%|███████████▏                                                                  | 113/787 [10:07<1:38:24,  8.76s/it]"
     ]
    },
    {
     "name": "stdout",
     "output_type": "stream",
     "text": [
      "79 Kentavious Caldwell-Pope https://www.basketball-reference.com/players/c/caldwke01/gamelog/2022\n"
     ]
    },
    {
     "name": "stderr",
     "output_type": "stream",
     "text": [
      " 14%|███████████▎                                                                  | 114/787 [10:09<1:15:24,  6.72s/it]"
     ]
    },
    {
     "name": "stdout",
     "output_type": "stream",
     "text": [
      "79 Toumani Camara https://www.basketball-reference.com/players/c/camarto01/gamelog/2024\n",
      "79 Facundo Campazzo https://www.basketball-reference.com/players/c/campafa01/gamelog/2023\n"
     ]
    },
    {
     "name": "stderr",
     "output_type": "stream",
     "text": [
      " 15%|███████████▋                                                                    | 115/787 [10:11<58:42,  5.24s/it]"
     ]
    },
    {
     "name": "stdout",
     "output_type": "stream",
     "text": [
      "79 Vlatko ÄanÄar https://www.basketball-reference.com/players/c/cancavl01/gamelog/2023\n",
      "80 Vlatko ÄanÄar https://www.basketball-reference.com/players/c/cancavl01/gamelog/2022\n",
      "81 Vlatko ÄanÄar https://www.basketball-reference.com/players/c/cancavl01/gamelog/2021\n"
     ]
    },
    {
     "name": "stderr",
     "output_type": "stream",
     "text": [
      " 15%|███████████▌                                                                  | 117/787 [10:30<1:16:44,  6.87s/it]"
     ]
    },
    {
     "name": "stdout",
     "output_type": "stream",
     "text": [
      "82 Devin Cannady https://www.basketball-reference.com/players/c/cannade01/gamelog/2022\n"
     ]
    },
    {
     "name": "stderr",
     "output_type": "stream",
     "text": [
      " 15%|███████████▋                                                                  | 118/787 [10:32<1:00:30,  5.43s/it]"
     ]
    },
    {
     "name": "stdout",
     "output_type": "stream",
     "text": [
      "82 Clint Capela https://www.basketball-reference.com/players/c/capelca01/gamelog/2024\n"
     ]
    },
    {
     "name": "stderr",
     "output_type": "stream",
     "text": [
      " 15%|████████████                                                                    | 119/787 [10:34<48:33,  4.36s/it]"
     ]
    },
    {
     "name": "stdout",
     "output_type": "stream",
     "text": [
      "82 Vernon Carey Jr. https://www.basketball-reference.com/players/c/careyve01/gamelog/2023\n"
     ]
    },
    {
     "name": "stderr",
     "output_type": "stream",
     "text": [
      " 15%|████████████▏                                                                   | 120/787 [10:36<41:11,  3.70s/it]"
     ]
    },
    {
     "name": "stdout",
     "output_type": "stream",
     "text": [
      "82 Jevon Carter https://www.basketball-reference.com/players/c/carteje01/gamelog/2024\n",
      "82 Wendell Carter Jr. https://www.basketball-reference.com/players/c/cartewe01/gamelog/2024\n"
     ]
    },
    {
     "name": "stderr",
     "output_type": "stream",
     "text": [
      " 15%|████████████▎                                                                   | 121/787 [10:44<56:20,  5.08s/it]"
     ]
    },
    {
     "name": "stdout",
     "output_type": "stream",
     "text": [
      "83 Wendell Carter Jr. https://www.basketball-reference.com/players/c/cartewe01/gamelog/2023\n"
     ]
    },
    {
     "name": "stderr",
     "output_type": "stream",
     "text": [
      " 16%|████████████▍                                                                   | 122/787 [10:46<45:21,  4.09s/it]"
     ]
    },
    {
     "name": "stdout",
     "output_type": "stream",
     "text": [
      "83 Michael Carter-Williams https://www.basketball-reference.com/players/c/cartemi01/gamelog/2023\n"
     ]
    },
    {
     "name": "stderr",
     "output_type": "stream",
     "text": [
      " 16%|████████████▌                                                                   | 123/787 [10:48<38:08,  3.45s/it]"
     ]
    },
    {
     "name": "stdout",
     "output_type": "stream",
     "text": [
      "83 D.J. Carton https://www.basketball-reference.com/players/c/cartodj01/gamelog/2024\n"
     ]
    },
    {
     "name": "stderr",
     "output_type": "stream",
     "text": [
      " 16%|████████████▌                                                                   | 124/787 [10:50<33:18,  3.01s/it]"
     ]
    },
    {
     "name": "stdout",
     "output_type": "stream",
     "text": [
      "83 Alex Caruso https://www.basketball-reference.com/players/c/carusal01/gamelog/2024\n"
     ]
    },
    {
     "name": "stderr",
     "output_type": "stream",
     "text": [
      " 16%|████████████▋                                                                   | 125/787 [10:52<29:50,  2.70s/it]"
     ]
    },
    {
     "name": "stdout",
     "output_type": "stream",
     "text": [
      "83 Colin Castleton https://www.basketball-reference.com/players/c/castlco01/gamelog/2024\n"
     ]
    },
    {
     "name": "stderr",
     "output_type": "stream",
     "text": [
      " 16%|████████████▊                                                                   | 126/787 [10:54<27:50,  2.53s/it]"
     ]
    },
    {
     "name": "stdout",
     "output_type": "stream",
     "text": [
      "83 Willie Cauley-Stein https://www.basketball-reference.com/players/c/caulewi01/gamelog/2022\n",
      "83 Ahmad Caver https://www.basketball-reference.com/players/c/caverah01/gamelog/2022\n"
     ]
    },
    {
     "name": "stderr",
     "output_type": "stream",
     "text": [
      " 16%|████████████▉                                                                   | 127/787 [10:56<26:18,  2.39s/it]"
     ]
    },
    {
     "name": "stdout",
     "output_type": "stream",
     "text": [
      "83 Malcolm Cazalon https://www.basketball-reference.com/players/c/cazalma01/gamelog/2024\n"
     ]
    },
    {
     "name": "stderr",
     "output_type": "stream",
     "text": [
      " 16%|█████████████                                                                   | 129/787 [11:01<25:56,  2.37s/it]"
     ]
    },
    {
     "name": "stdout",
     "output_type": "stream",
     "text": [
      "83 Julian Champagnie https://www.basketball-reference.com/players/c/champju02/gamelog/2024\n"
     ]
    },
    {
     "name": "stderr",
     "output_type": "stream",
     "text": [
      " 17%|█████████████▏                                                                  | 130/787 [11:03<25:08,  2.30s/it]"
     ]
    },
    {
     "name": "stdout",
     "output_type": "stream",
     "text": [
      "83 Justin Champagnie https://www.basketball-reference.com/players/c/champju01/gamelog/2024\n"
     ]
    },
    {
     "name": "stderr",
     "output_type": "stream",
     "text": [
      " 17%|█████████████▎                                                                  | 131/787 [11:05<24:57,  2.28s/it]"
     ]
    },
    {
     "name": "stdout",
     "output_type": "stream",
     "text": [
      "83 Kennedy Chandler https://www.basketball-reference.com/players/c/chandke01/gamelog/2023\n"
     ]
    },
    {
     "name": "stderr",
     "output_type": "stream",
     "text": [
      " 17%|█████████████▍                                                                  | 132/787 [11:07<24:07,  2.21s/it]"
     ]
    },
    {
     "name": "stdout",
     "output_type": "stream",
     "text": [
      "83 Zylan Cheatham https://www.basketball-reference.com/players/c/cheatzy01/gamelog/2022\n",
      "83 Chris Chiozza https://www.basketball-reference.com/players/c/chiozch01/gamelog/2022\n",
      "84 Chris Chiozza https://www.basketball-reference.com/players/c/chiozch01/gamelog/2021\n",
      "85 Chris Chiozza https://www.basketball-reference.com/players/c/chiozch01/gamelog/2020\n"
     ]
    },
    {
     "name": "stderr",
     "output_type": "stream",
     "text": [
      " 17%|█████████████▏                                                                | 133/787 [11:24<1:11:01,  6.52s/it]"
     ]
    },
    {
     "name": "stdout",
     "output_type": "stream",
     "text": [
      "86 Marquese Chriss https://www.basketball-reference.com/players/c/chrisma01/gamelog/2022\n"
     ]
    },
    {
     "name": "stderr",
     "output_type": "stream",
     "text": [
      " 17%|█████████████▎                                                                | 134/787 [11:32<1:17:21,  7.11s/it]"
     ]
    },
    {
     "name": "stdout",
     "output_type": "stream",
     "text": [
      "87 Marquese Chriss https://www.basketball-reference.com/players/c/chrisma01/gamelog/2021\n",
      "87 Max Christie https://www.basketball-reference.com/players/c/chrisma02/gamelog/2024\n",
      "88 Max Christie https://www.basketball-reference.com/players/c/chrisma02/gamelog/2023\n"
     ]
    },
    {
     "name": "stderr",
     "output_type": "stream",
     "text": [
      " 17%|█████████████▍                                                                | 136/787 [11:46<1:10:25,  6.49s/it]"
     ]
    },
    {
     "name": "stdout",
     "output_type": "stream",
     "text": [
      "89 Josh Christopher https://www.basketball-reference.com/players/c/chrisjo01/gamelog/2023\n"
     ]
    },
    {
     "name": "stderr",
     "output_type": "stream",
     "text": [
      " 17%|█████████████▉                                                                  | 137/787 [11:48<55:30,  5.12s/it]"
     ]
    },
    {
     "name": "stdout",
     "output_type": "stream",
     "text": [
      "89 Sidy Cissoko https://www.basketball-reference.com/players/c/cissosi01/gamelog/2024\n",
      "89 Gary Clark https://www.basketball-reference.com/players/c/clarkga01/gamelog/2022\n",
      "0 Gary Clark https://www.basketball-reference.com/players/c/clarkga01/gamelog/2021\n",
      "1 Gary Clark https://www.basketball-reference.com/players/c/clarkga01/gamelog/2020\n"
     ]
    },
    {
     "name": "stderr",
     "output_type": "stream",
     "text": [
      " 18%|█████████████▊                                                                | 139/787 [12:05<1:07:47,  6.28s/it]"
     ]
    },
    {
     "name": "stdout",
     "output_type": "stream",
     "text": [
      "2 Brandon Clarke https://www.basketball-reference.com/players/c/clarkbr01/gamelog/2024\n"
     ]
    },
    {
     "name": "stderr",
     "output_type": "stream",
     "text": [
      " 18%|██████████████▏                                                                 | 140/787 [12:07<54:06,  5.02s/it]"
     ]
    },
    {
     "name": "stdout",
     "output_type": "stream",
     "text": [
      "2 Jordan Clarkson https://www.basketball-reference.com/players/c/clarkjo01/gamelog/2024\n"
     ]
    },
    {
     "name": "stderr",
     "output_type": "stream",
     "text": [
      " 18%|██████████████▎                                                                 | 141/787 [12:09<45:33,  4.23s/it]"
     ]
    },
    {
     "name": "stdout",
     "output_type": "stream",
     "text": [
      "2 Nic Claxton https://www.basketball-reference.com/players/c/claxtni01/gamelog/2024\n",
      "2 Chris Clemons https://www.basketball-reference.com/players/c/clemoch01/gamelog/2020\n"
     ]
    },
    {
     "name": "stderr",
     "output_type": "stream",
     "text": [
      " 18%|██████████████▌                                                                 | 143/787 [12:16<41:29,  3.87s/it]"
     ]
    },
    {
     "name": "stdout",
     "output_type": "stream",
     "text": [
      "3 Noah Clowney https://www.basketball-reference.com/players/c/clownno01/gamelog/2024\n",
      "3 Amir Coffey https://www.basketball-reference.com/players/c/coffeam01/gamelog/2024\n",
      "4 Amir Coffey https://www.basketball-reference.com/players/c/coffeam01/gamelog/2023\n"
     ]
    },
    {
     "name": "stderr",
     "output_type": "stream",
     "text": [
      " 18%|██████████████▎                                                               | 144/787 [12:30<1:11:52,  6.71s/it]"
     ]
    },
    {
     "name": "stdout",
     "output_type": "stream",
     "text": [
      "5 Amir Coffey https://www.basketball-reference.com/players/c/coffeam01/gamelog/2022\n"
     ]
    },
    {
     "name": "stderr",
     "output_type": "stream",
     "text": [
      " 18%|██████████████▋                                                                 | 145/787 [12:32<57:24,  5.37s/it]"
     ]
    },
    {
     "name": "stdout",
     "output_type": "stream",
     "text": [
      "5 John Collins https://www.basketball-reference.com/players/c/collijo01/gamelog/2024\n"
     ]
    },
    {
     "name": "stderr",
     "output_type": "stream",
     "text": [
      " 19%|██████████████▊                                                                 | 146/787 [12:34<46:58,  4.40s/it]"
     ]
    },
    {
     "name": "stdout",
     "output_type": "stream",
     "text": [
      "5 Zach Collins https://www.basketball-reference.com/players/c/colliza01/gamelog/2024\n"
     ]
    },
    {
     "name": "stderr",
     "output_type": "stream",
     "text": [
      " 19%|██████████████▉                                                                 | 147/787 [12:36<38:32,  3.61s/it]"
     ]
    },
    {
     "name": "stdout",
     "output_type": "stream",
     "text": [
      "5 Chance Comanche https://www.basketball-reference.com/players/c/comanch01/gamelog/2023\n",
      "5 Mike Conley https://www.basketball-reference.com/players/c/conlemi01/gamelog/2024\n",
      "6 Mike Conley https://www.basketball-reference.com/players/c/conlemi01/gamelog/2023\n",
      "7 Mike Conley https://www.basketball-reference.com/players/c/conlemi01/gamelog/2022\n"
     ]
    },
    {
     "name": "stderr",
     "output_type": "stream",
     "text": [
      " 19%|██████████████▋                                                               | 148/787 [12:56<1:30:25,  8.49s/it]"
     ]
    },
    {
     "name": "stdout",
     "output_type": "stream",
     "text": [
      "8 Pat Connaughton https://www.basketball-reference.com/players/c/connapa01/gamelog/2024\n",
      "9 Pat Connaughton https://www.basketball-reference.com/players/c/connapa01/gamelog/2023\n",
      "10 Pat Connaughton https://www.basketball-reference.com/players/c/connapa01/gamelog/2022\n"
     ]
    },
    {
     "name": "stderr",
     "output_type": "stream",
     "text": [
      " 19%|██████████████▊                                                               | 150/787 [13:17<1:33:19,  8.79s/it]"
     ]
    },
    {
     "name": "stdout",
     "output_type": "stream",
     "text": [
      "11 Tyler Cook https://www.basketball-reference.com/players/c/cookty01/gamelog/2022\n"
     ]
    },
    {
     "name": "stderr",
     "output_type": "stream",
     "text": [
      " 19%|██████████████▉                                                               | 151/787 [13:18<1:10:29,  6.65s/it]"
     ]
    },
    {
     "name": "stdout",
     "output_type": "stream",
     "text": [
      "11 Xavier Cooks https://www.basketball-reference.com/players/c/cooksxa01/gamelog/2023\n"
     ]
    },
    {
     "name": "stderr",
     "output_type": "stream",
     "text": [
      " 19%|███████████████▍                                                                | 152/787 [13:20<55:43,  5.26s/it]"
     ]
    },
    {
     "name": "stdout",
     "output_type": "stream",
     "text": [
      "11 Sharife Cooper https://www.basketball-reference.com/players/c/coopesh01/gamelog/2022\n"
     ]
    },
    {
     "name": "stderr",
     "output_type": "stream",
     "text": [
      " 19%|███████████████▌                                                                | 153/787 [13:23<45:49,  4.34s/it]"
     ]
    },
    {
     "name": "stdout",
     "output_type": "stream",
     "text": [
      "11 Bilal Coulibaly https://www.basketball-reference.com/players/c/coulibi01/gamelog/2024\n",
      "11 Ricky Council IV https://www.basketball-reference.com/players/c/councri01/gamelog/2024\n"
     ]
    },
    {
     "name": "stderr",
     "output_type": "stream",
     "text": [
      " 20%|███████████████▋                                                                | 154/787 [13:27<45:12,  4.29s/it]"
     ]
    },
    {
     "name": "stdout",
     "output_type": "stream",
     "text": [
      "12 Robert Covington https://www.basketball-reference.com/players/c/covinro01/gamelog/2024\n",
      "13 Robert Covington https://www.basketball-reference.com/players/c/covinro01/gamelog/2023\n"
     ]
    },
    {
     "name": "stderr",
     "output_type": "stream",
     "text": [
      " 20%|███████████████▎                                                              | 155/787 [13:40<1:14:14,  7.05s/it]"
     ]
    },
    {
     "name": "stdout",
     "output_type": "stream",
     "text": [
      "14 Robert Covington https://www.basketball-reference.com/players/c/covinro01/gamelog/2022\n",
      "14 Allen Crabbe https://www.basketball-reference.com/players/c/crabbal01/gamelog/2020\n"
     ]
    },
    {
     "name": "stderr",
     "output_type": "stream",
     "text": [
      " 20%|███████████████▉                                                                | 157/787 [13:44<47:32,  4.53s/it]"
     ]
    },
    {
     "name": "stdout",
     "output_type": "stream",
     "text": [
      "14 Torrey Craig https://www.basketball-reference.com/players/c/craigto01/gamelog/2024\n",
      "14 Jae Crowder https://www.basketball-reference.com/players/c/crowdja01/gamelog/2024\n",
      "15 Jae Crowder https://www.basketball-reference.com/players/c/crowdja01/gamelog/2023\n",
      "16 Jae Crowder https://www.basketball-reference.com/players/c/crowdja01/gamelog/2022\n"
     ]
    },
    {
     "name": "stderr",
     "output_type": "stream",
     "text": [
      " 20%|███████████████▊                                                              | 159/787 [14:05<1:10:03,  6.69s/it]"
     ]
    },
    {
     "name": "stdout",
     "output_type": "stream",
     "text": [
      "17 Jalen Crutcher https://www.basketball-reference.com/players/c/crutcja01/gamelog/2024\n"
     ]
    },
    {
     "name": "stderr",
     "output_type": "stream",
     "text": [
      " 20%|████████████████▎                                                               | 160/787 [14:07<55:09,  5.28s/it]"
     ]
    },
    {
     "name": "stdout",
     "output_type": "stream",
     "text": [
      "17 Jarrett Culver https://www.basketball-reference.com/players/c/culveja01/gamelog/2023\n"
     ]
    },
    {
     "name": "stderr",
     "output_type": "stream",
     "text": [
      " 20%|████████████████▎                                                               | 161/787 [14:09<44:57,  4.31s/it]"
     ]
    },
    {
     "name": "stdout",
     "output_type": "stream",
     "text": [
      "17 Cade Cunningham https://www.basketball-reference.com/players/c/cunnica01/gamelog/2024\n"
     ]
    },
    {
     "name": "stderr",
     "output_type": "stream",
     "text": [
      " 21%|████████████████▍                                                               | 162/787 [14:11<38:26,  3.69s/it]"
     ]
    },
    {
     "name": "stdout",
     "output_type": "stream",
     "text": [
      "17 Seth Curry https://www.basketball-reference.com/players/c/curryse01/gamelog/2024\n"
     ]
    },
    {
     "name": "stderr",
     "output_type": "stream",
     "text": [
      " 21%|████████████████▌                                                               | 163/787 [14:13<33:31,  3.22s/it]"
     ]
    },
    {
     "name": "stdout",
     "output_type": "stream",
     "text": [
      "17 Stephen Curry https://www.basketball-reference.com/players/c/curryst01/gamelog/2024\n",
      "17 Dyson Daniels https://www.basketball-reference.com/players/d/daniedy01/gamelog/2024\n"
     ]
    },
    {
     "name": "stderr",
     "output_type": "stream",
     "text": [
      " 21%|████████████████▋                                                               | 164/787 [14:21<48:00,  4.62s/it]"
     ]
    },
    {
     "name": "stdout",
     "output_type": "stream",
     "text": [
      "18 Dyson Daniels https://www.basketball-reference.com/players/d/daniedy01/gamelog/2023\n"
     ]
    },
    {
     "name": "stderr",
     "output_type": "stream",
     "text": [
      " 21%|████████████████▊                                                               | 165/787 [14:23<39:08,  3.78s/it]"
     ]
    },
    {
     "name": "stdout",
     "output_type": "stream",
     "text": [
      "18 Nate Darling https://www.basketball-reference.com/players/d/darlina01/gamelog/2021\n",
      "18 Anthony Davis https://www.basketball-reference.com/players/d/davisan02/gamelog/2024\n",
      "19 Anthony Davis https://www.basketball-reference.com/players/d/davisan02/gamelog/2023\n"
     ]
    },
    {
     "name": "stderr",
     "output_type": "stream",
     "text": [
      " 21%|████████████████▍                                                             | 166/787 [14:39<1:15:38,  7.31s/it]"
     ]
    },
    {
     "name": "stdout",
     "output_type": "stream",
     "text": [
      "20 Anthony Davis https://www.basketball-reference.com/players/d/davisan02/gamelog/2022\n"
     ]
    },
    {
     "name": "stderr",
     "output_type": "stream",
     "text": [
      " 21%|████████████████▉                                                               | 167/787 [14:41<59:37,  5.77s/it]"
     ]
    },
    {
     "name": "stdout",
     "output_type": "stream",
     "text": [
      "20 Johnny Davis https://www.basketball-reference.com/players/d/davisjo06/gamelog/2024\n",
      "20 Terence Davis https://www.basketball-reference.com/players/d/daviste02/gamelog/2023\n"
     ]
    },
    {
     "name": "stderr",
     "output_type": "stream",
     "text": [
      " 21%|████████████████▋                                                             | 168/787 [14:48<1:05:11,  6.32s/it]"
     ]
    },
    {
     "name": "stdout",
     "output_type": "stream",
     "text": [
      "21 Terence Davis https://www.basketball-reference.com/players/d/daviste02/gamelog/2022\n"
     ]
    },
    {
     "name": "stderr",
     "output_type": "stream",
     "text": [
      " 21%|█████████████████▏                                                              | 169/787 [14:50<52:06,  5.06s/it]"
     ]
    },
    {
     "name": "stdout",
     "output_type": "stream",
     "text": [
      "21 JD Davison https://www.basketball-reference.com/players/d/davisjd01/gamelog/2024\n"
     ]
    },
    {
     "name": "stderr",
     "output_type": "stream",
     "text": [
      " 22%|█████████████████▎                                                              | 170/787 [14:52<42:28,  4.13s/it]"
     ]
    },
    {
     "name": "stdout",
     "output_type": "stream",
     "text": [
      "21 Darius Days https://www.basketball-reference.com/players/d/daysda01/gamelog/2023\n"
     ]
    },
    {
     "name": "stderr",
     "output_type": "stream",
     "text": [
      " 22%|█████████████████▍                                                              | 171/787 [14:54<36:13,  3.53s/it]"
     ]
    },
    {
     "name": "stdout",
     "output_type": "stream",
     "text": [
      "21 DeMar DeRozan https://www.basketball-reference.com/players/d/derozde01/gamelog/2024\n",
      "21 Dewayne Dedmon https://www.basketball-reference.com/players/d/dedmode01/gamelog/2023\n",
      "22 Dewayne Dedmon https://www.basketball-reference.com/players/d/dedmode01/gamelog/2022\n",
      "23 Dewayne Dedmon https://www.basketball-reference.com/players/d/dedmode01/gamelog/2021\n"
     ]
    },
    {
     "name": "stderr",
     "output_type": "stream",
     "text": [
      " 22%|█████████████████                                                             | 172/787 [15:11<1:17:14,  7.54s/it]"
     ]
    },
    {
     "name": "stdout",
     "output_type": "stream",
     "text": [
      "24 Matthew Dellavedova https://www.basketball-reference.com/players/d/dellama01/gamelog/2023\n"
     ]
    },
    {
     "name": "stderr",
     "output_type": "stream",
     "text": [
      " 22%|█████████████████▏                                                            | 173/787 [15:18<1:15:18,  7.36s/it]"
     ]
    },
    {
     "name": "stdout",
     "output_type": "stream",
     "text": [
      "25 Matthew Dellavedova https://www.basketball-reference.com/players/d/dellama01/gamelog/2022\n"
     ]
    },
    {
     "name": "stderr",
     "output_type": "stream",
     "text": [
      " 22%|█████████████████▋                                                              | 174/787 [15:20<58:31,  5.73s/it]"
     ]
    },
    {
     "name": "stdout",
     "output_type": "stream",
     "text": [
      "25 Dexter Dennis https://www.basketball-reference.com/players/d/dennide01/gamelog/2024\n",
      "25 Donte DiVincenzo https://www.basketball-reference.com/players/d/divindo01/gamelog/2024\n",
      "26 Donte DiVincenzo https://www.basketball-reference.com/players/d/divindo01/gamelog/2023\n"
     ]
    },
    {
     "name": "stderr",
     "output_type": "stream",
     "text": [
      " 22%|█████████████████▎                                                            | 175/787 [15:37<1:30:59,  8.92s/it]"
     ]
    },
    {
     "name": "stdout",
     "output_type": "stream",
     "text": [
      "27 Donte DiVincenzo https://www.basketball-reference.com/players/d/divindo01/gamelog/2022\n"
     ]
    },
    {
     "name": "stderr",
     "output_type": "stream",
     "text": [
      " 22%|█████████████████▍                                                            | 176/787 [15:39<1:09:44,  6.85s/it]"
     ]
    },
    {
     "name": "stdout",
     "output_type": "stream",
     "text": [
      "27 Moussa DiabatÃ© https://www.basketball-reference.com/players/d/diabamo01/gamelog/2024\n",
      "27 Mamadi Diakite https://www.basketball-reference.com/players/d/diakima01/gamelog/2024\n",
      "28 Mamadi Diakite https://www.basketball-reference.com/players/d/diakima01/gamelog/2023\n"
     ]
    },
    {
     "name": "stderr",
     "output_type": "stream",
     "text": [
      " 22%|█████████████████▌                                                            | 177/787 [15:50<1:24:49,  8.34s/it]"
     ]
    },
    {
     "name": "stdout",
     "output_type": "stream",
     "text": [
      "29 Mamadi Diakite https://www.basketball-reference.com/players/d/diakima01/gamelog/2022\n"
     ]
    },
    {
     "name": "stderr",
     "output_type": "stream",
     "text": [
      " 23%|█████████████████▋                                                            | 178/787 [15:52<1:04:26,  6.35s/it]"
     ]
    },
    {
     "name": "stdout",
     "output_type": "stream",
     "text": [
      "29 Cheick Diallo https://www.basketball-reference.com/players/d/diallch01/gamelog/2022\n"
     ]
    },
    {
     "name": "stderr",
     "output_type": "stream",
     "text": [
      " 23%|██████████████████▏                                                             | 179/787 [15:55<53:33,  5.29s/it]"
     ]
    },
    {
     "name": "stdout",
     "output_type": "stream",
     "text": [
      "29 Hamidou Diallo https://www.basketball-reference.com/players/d/diallha01/gamelog/2024\n"
     ]
    },
    {
     "name": "stderr",
     "output_type": "stream",
     "text": [
      " 23%|██████████████████▎                                                             | 180/787 [15:57<43:42,  4.32s/it]"
     ]
    },
    {
     "name": "stdout",
     "output_type": "stream",
     "text": [
      "29 Gradey Dick https://www.basketball-reference.com/players/d/dickgr01/gamelog/2024\n",
      "29 Ousmane Dieng https://www.basketball-reference.com/players/d/diengou01/gamelog/2024\n"
     ]
    },
    {
     "name": "stderr",
     "output_type": "stream",
     "text": [
      " 23%|██████████████████▍                                                             | 181/787 [16:06<57:25,  5.69s/it]"
     ]
    },
    {
     "name": "stdout",
     "output_type": "stream",
     "text": [
      "30 Ousmane Dieng https://www.basketball-reference.com/players/d/diengou01/gamelog/2023\n",
      "30 Spencer Dinwiddie https://www.basketball-reference.com/players/d/dinwisp01/gamelog/2024\n",
      "31 Spencer Dinwiddie https://www.basketball-reference.com/players/d/dinwisp01/gamelog/2023\n",
      "32 Spencer Dinwiddie https://www.basketball-reference.com/players/d/dinwisp01/gamelog/2022\n"
     ]
    },
    {
     "name": "stderr",
     "output_type": "stream",
     "text": [
      " 23%|██████████████████                                                            | 182/787 [16:26<1:39:30,  9.87s/it]"
     ]
    },
    {
     "name": "stdout",
     "output_type": "stream",
     "text": [
      "33 Luka DonÄiÄ https://www.basketball-reference.com/players/d/doncilu01/gamelog/2024\n"
     ]
    },
    {
     "name": "stderr",
     "output_type": "stream",
     "text": [
      " 23%|██████████████████▏                                                           | 183/787 [16:38<1:47:00, 10.63s/it]"
     ]
    },
    {
     "name": "stdout",
     "output_type": "stream",
     "text": [
      "34 Luka DonÄiÄ https://www.basketball-reference.com/players/d/doncilu01/gamelog/2023\n"
     ]
    },
    {
     "name": "stderr",
     "output_type": "stream",
     "text": [
      " 23%|██████████████████▏                                                           | 184/787 [16:40<1:19:52,  7.95s/it]"
     ]
    },
    {
     "name": "stdout",
     "output_type": "stream",
     "text": [
      "34 Tyler Dorsey https://www.basketball-reference.com/players/d/dorsety01/gamelog/2023\n",
      "34 Luguentz Dort https://www.basketball-reference.com/players/d/dortlu01/gamelog/2024\n"
     ]
    },
    {
     "name": "stderr",
     "output_type": "stream",
     "text": [
      " 24%|██████████████████▎                                                           | 185/787 [16:48<1:21:27,  8.12s/it]"
     ]
    },
    {
     "name": "stdout",
     "output_type": "stream",
     "text": [
      "35 Luguentz Dort https://www.basketball-reference.com/players/d/dortlu01/gamelog/2023\n"
     ]
    },
    {
     "name": "stderr",
     "output_type": "stream",
     "text": [
      " 24%|██████████████████▍                                                           | 186/787 [16:50<1:03:07,  6.30s/it]"
     ]
    },
    {
     "name": "stdout",
     "output_type": "stream",
     "text": [
      "35 Ayo Dosunmu https://www.basketball-reference.com/players/d/dosunay01/gamelog/2024\n"
     ]
    },
    {
     "name": "stderr",
     "output_type": "stream",
     "text": [
      " 24%|███████████████████                                                             | 187/787 [16:52<49:07,  4.91s/it]"
     ]
    },
    {
     "name": "stdout",
     "output_type": "stream",
     "text": [
      "35 Devon Dotson https://www.basketball-reference.com/players/d/dotsode01/gamelog/2023\n"
     ]
    },
    {
     "name": "stderr",
     "output_type": "stream",
     "text": [
      " 24%|███████████████████                                                             | 188/787 [16:55<42:32,  4.26s/it]"
     ]
    },
    {
     "name": "stdout",
     "output_type": "stream",
     "text": [
      "35 Sekou Doumbouya https://www.basketball-reference.com/players/d/doumbse01/gamelog/2022\n",
      "35 Jeff Dowtin https://www.basketball-reference.com/players/d/dowtije01/gamelog/2024\n"
     ]
    },
    {
     "name": "stderr",
     "output_type": "stream",
     "text": [
      " 24%|███████████████████▏                                                            | 189/787 [17:02<52:53,  5.31s/it]"
     ]
    },
    {
     "name": "stdout",
     "output_type": "stream",
     "text": [
      "36 Jeff Dowtin https://www.basketball-reference.com/players/d/dowtije01/gamelog/2023\n",
      "36 PJ Dozier https://www.basketball-reference.com/players/d/doziepj01/gamelog/2023\n"
     ]
    },
    {
     "name": "stderr",
     "output_type": "stream",
     "text": [
      " 24%|███████████████████▎                                                            | 190/787 [17:09<56:43,  5.70s/it]"
     ]
    },
    {
     "name": "stdout",
     "output_type": "stream",
     "text": [
      "37 PJ Dozier https://www.basketball-reference.com/players/d/doziepj01/gamelog/2022\n"
     ]
    },
    {
     "name": "stderr",
     "output_type": "stream",
     "text": [
      " 24%|███████████████████▍                                                            | 191/787 [17:12<47:37,  4.79s/it]"
     ]
    },
    {
     "name": "stdout",
     "output_type": "stream",
     "text": [
      "37 Henri Drell https://www.basketball-reference.com/players/d/drellhe01/gamelog/2024\n"
     ]
    },
    {
     "name": "stderr",
     "output_type": "stream",
     "text": [
      " 24%|███████████████████▌                                                            | 192/787 [17:14<40:14,  4.06s/it]"
     ]
    },
    {
     "name": "stdout",
     "output_type": "stream",
     "text": [
      "37 Andre Drummond https://www.basketball-reference.com/players/d/drumman01/gamelog/2024\n"
     ]
    },
    {
     "name": "stderr",
     "output_type": "stream",
     "text": [
      " 25%|███████████████████▌                                                            | 193/787 [17:16<33:59,  3.43s/it]"
     ]
    },
    {
     "name": "stdout",
     "output_type": "stream",
     "text": [
      "37 Chris Duarte https://www.basketball-reference.com/players/d/duartch01/gamelog/2024\n"
     ]
    },
    {
     "name": "stderr",
     "output_type": "stream",
     "text": [
      " 25%|███████████████████▋                                                            | 194/787 [17:18<29:31,  2.99s/it]"
     ]
    },
    {
     "name": "stdout",
     "output_type": "stream",
     "text": [
      "37 David Duke Jr. https://www.basketball-reference.com/players/d/dukeda01/gamelog/2024\n"
     ]
    },
    {
     "name": "stderr",
     "output_type": "stream",
     "text": [
      " 25%|███████████████████▊                                                            | 195/787 [17:20<27:03,  2.74s/it]"
     ]
    },
    {
     "name": "stdout",
     "output_type": "stream",
     "text": [
      "37 Kris Dunn https://www.basketball-reference.com/players/d/dunnkr01/gamelog/2024\n",
      "37 Kevin Durant https://www.basketball-reference.com/players/d/duranke01/gamelog/2024\n",
      "38 Kevin Durant https://www.basketball-reference.com/players/d/duranke01/gamelog/2023\n",
      "39 Kevin Durant https://www.basketball-reference.com/players/d/duranke01/gamelog/2022\n"
     ]
    },
    {
     "name": "stderr",
     "output_type": "stream",
     "text": [
      " 25%|████████████████████                                                            | 197/787 [17:39<53:40,  5.46s/it]"
     ]
    },
    {
     "name": "stdout",
     "output_type": "stream",
     "text": [
      "40 Jalen Duren https://www.basketball-reference.com/players/d/durenja01/gamelog/2024\n",
      "40 Trevon Duval https://www.basketball-reference.com/players/d/duvaltr01/gamelog/2019\n"
     ]
    },
    {
     "name": "stderr",
     "output_type": "stream",
     "text": [
      " 25%|████████████████████▏                                                           | 199/787 [17:48<46:09,  4.71s/it]"
     ]
    },
    {
     "name": "stdout",
     "output_type": "stream",
     "text": [
      "41 Tari Eason https://www.basketball-reference.com/players/e/easonta01/gamelog/2024\n"
     ]
    },
    {
     "name": "stderr",
     "output_type": "stream",
     "text": [
      " 25%|████████████████████▎                                                           | 200/787 [17:49<37:18,  3.81s/it]"
     ]
    },
    {
     "name": "stdout",
     "output_type": "stream",
     "text": [
      "41 Jaime Echenique https://www.basketball-reference.com/players/e/echenja01/gamelog/2022\n",
      "41 Anthony Edwards https://www.basketball-reference.com/players/e/edwaran01/gamelog/2024\n",
      "42 Anthony Edwards https://www.basketball-reference.com/players/e/edwaran01/gamelog/2023\n",
      "43 Anthony Edwards https://www.basketball-reference.com/players/e/edwaran01/gamelog/2022\n"
     ]
    },
    {
     "name": "stderr",
     "output_type": "stream",
     "text": [
      " 26%|████████████████████                                                          | 202/787 [18:10<1:02:27,  6.41s/it]"
     ]
    },
    {
     "name": "stdout",
     "output_type": "stream",
     "text": [
      "44 Carsen Edwards https://www.basketball-reference.com/players/e/edwarca01/gamelog/2022\n"
     ]
    },
    {
     "name": "stderr",
     "output_type": "stream",
     "text": [
      " 26%|████████████████████▋                                                           | 203/787 [18:12<49:08,  5.05s/it]"
     ]
    },
    {
     "name": "stdout",
     "output_type": "stream",
     "text": [
      "44 Kessler Edwards https://www.basketball-reference.com/players/e/edwarke02/gamelog/2024\n"
     ]
    },
    {
     "name": "stderr",
     "output_type": "stream",
     "text": [
      " 26%|████████████████████▋                                                           | 204/787 [18:13<39:13,  4.04s/it]"
     ]
    },
    {
     "name": "stdout",
     "output_type": "stream",
     "text": [
      "44 Rob Edwards https://www.basketball-reference.com/players/e/edwarro01/gamelog/2022\n",
      "44 Vince Edwards https://www.basketball-reference.com/players/e/edwarvi01/gamelog/2019\n"
     ]
    },
    {
     "name": "stderr",
     "output_type": "stream",
     "text": [
      " 26%|████████████████████▉                                                           | 206/787 [18:20<34:34,  3.57s/it]"
     ]
    },
    {
     "name": "stdout",
     "output_type": "stream",
     "text": [
      "45 CJ Elleby https://www.basketball-reference.com/players/e/ellebcj01/gamelog/2022\n"
     ]
    },
    {
     "name": "stderr",
     "output_type": "stream",
     "text": [
      " 26%|█████████████████████                                                           | 207/787 [18:22<30:10,  3.12s/it]"
     ]
    },
    {
     "name": "stdout",
     "output_type": "stream",
     "text": [
      "45 Keon Ellis https://www.basketball-reference.com/players/e/elliske01/gamelog/2024\n",
      "45 Joel Embiid https://www.basketball-reference.com/players/e/embiijo01/gamelog/2024\n",
      "46 Joel Embiid https://www.basketball-reference.com/players/e/embiijo01/gamelog/2023\n",
      "47 Joel Embiid https://www.basketball-reference.com/players/e/embiijo01/gamelog/2022\n"
     ]
    },
    {
     "name": "stderr",
     "output_type": "stream",
     "text": [
      " 26%|████████████████████▌                                                         | 208/787 [18:40<1:13:34,  7.62s/it]"
     ]
    },
    {
     "name": "stdout",
     "output_type": "stream",
     "text": [
      "48 Drew Eubanks https://www.basketball-reference.com/players/e/eubandr01/gamelog/2024\n"
     ]
    },
    {
     "name": "stderr",
     "output_type": "stream",
     "text": [
      " 27%|████████████████████▋                                                         | 209/787 [18:48<1:14:04,  7.69s/it]"
     ]
    },
    {
     "name": "stdout",
     "output_type": "stream",
     "text": [
      "49 Drew Eubanks https://www.basketball-reference.com/players/e/eubandr01/gamelog/2023\n"
     ]
    },
    {
     "name": "stderr",
     "output_type": "stream",
     "text": [
      " 27%|█████████████████████▎                                                          | 210/787 [18:50<57:38,  5.99s/it]"
     ]
    },
    {
     "name": "stdout",
     "output_type": "stream",
     "text": [
      "49 Jacob Evans https://www.basketball-reference.com/players/e/evansja02/gamelog/2020\n"
     ]
    },
    {
     "name": "stderr",
     "output_type": "stream",
     "text": [
      " 27%|█████████████████████▍                                                          | 211/787 [18:52<45:48,  4.77s/it]"
     ]
    },
    {
     "name": "stdout",
     "output_type": "stream",
     "text": [
      "49 Tosan Evbuomwan https://www.basketball-reference.com/players/e/evbuoto01/gamelog/2024\n",
      "49 Dante Exum https://www.basketball-reference.com/players/e/exumda01/gamelog/2024\n"
     ]
    },
    {
     "name": "stderr",
     "output_type": "stream",
     "text": [
      " 27%|█████████████████████                                                         | 212/787 [19:03<1:02:54,  6.56s/it]"
     ]
    },
    {
     "name": "stdout",
     "output_type": "stream",
     "text": [
      "50 Dante Exum https://www.basketball-reference.com/players/e/exumda01/gamelog/2023\n"
     ]
    },
    {
     "name": "stderr",
     "output_type": "stream",
     "text": [
      " 27%|█████████████████████▋                                                          | 213/787 [19:05<50:18,  5.26s/it]"
     ]
    },
    {
     "name": "stdout",
     "output_type": "stream",
     "text": [
      "50 Derrick Favors https://www.basketball-reference.com/players/f/favorde01/gamelog/2022\n"
     ]
    },
    {
     "name": "stderr",
     "output_type": "stream",
     "text": [
      " 27%|█████████████████████▊                                                          | 214/787 [19:07<41:21,  4.33s/it]"
     ]
    },
    {
     "name": "stdout",
     "output_type": "stream",
     "text": [
      "50 Bruno Fernando https://www.basketball-reference.com/players/f/fernabr01/gamelog/2024\n"
     ]
    },
    {
     "name": "stderr",
     "output_type": "stream",
     "text": [
      " 27%|█████████████████████▊                                                          | 215/787 [19:09<34:45,  3.65s/it]"
     ]
    },
    {
     "name": "stdout",
     "output_type": "stream",
     "text": [
      "50 Dorian Finney-Smith https://www.basketball-reference.com/players/f/finnedo01/gamelog/2024\n",
      "50 Malik Fitts https://www.basketball-reference.com/players/f/fittsma01/gamelog/2022\n"
     ]
    },
    {
     "name": "stderr",
     "output_type": "stream",
     "text": [
      " 27%|█████████████████████▉                                                          | 216/787 [19:18<49:23,  5.19s/it]"
     ]
    },
    {
     "name": "stdout",
     "output_type": "stream",
     "text": [
      "51 Malik Fitts https://www.basketball-reference.com/players/f/fittsma01/gamelog/2021\n",
      "51 Adam Flagler https://www.basketball-reference.com/players/f/flaglad01/gamelog/2024\n"
     ]
    },
    {
     "name": "stderr",
     "output_type": "stream",
     "text": [
      " 28%|██████████████████████▏                                                         | 218/787 [19:25<39:45,  4.19s/it]"
     ]
    },
    {
     "name": "stdout",
     "output_type": "stream",
     "text": [
      "52 Malachi Flynn https://www.basketball-reference.com/players/f/flynnma01/gamelog/2024\n"
     ]
    },
    {
     "name": "stderr",
     "output_type": "stream",
     "text": [
      " 28%|██████████████████████▎                                                         | 219/787 [19:27<33:25,  3.53s/it]"
     ]
    },
    {
     "name": "stdout",
     "output_type": "stream",
     "text": [
      "52 Simone Fontecchio https://www.basketball-reference.com/players/f/fontesi01/gamelog/2024\n"
     ]
    },
    {
     "name": "stderr",
     "output_type": "stream",
     "text": [
      " 28%|██████████████████████▎                                                         | 220/787 [19:29<29:17,  3.10s/it]"
     ]
    },
    {
     "name": "stdout",
     "output_type": "stream",
     "text": [
      "52 Bryn Forbes https://www.basketball-reference.com/players/f/forbebr01/gamelog/2023\n"
     ]
    },
    {
     "name": "stderr",
     "output_type": "stream",
     "text": [
      " 28%|██████████████████████▍                                                         | 221/787 [19:31<25:21,  2.69s/it]"
     ]
    },
    {
     "name": "stdout",
     "output_type": "stream",
     "text": [
      "52 Aleem Ford https://www.basketball-reference.com/players/f/fordal03/gamelog/2022\n"
     ]
    },
    {
     "name": "stderr",
     "output_type": "stream",
     "text": [
      " 28%|██████████████████████▌                                                         | 222/787 [19:33<23:20,  2.48s/it]"
     ]
    },
    {
     "name": "stdout",
     "output_type": "stream",
     "text": [
      "52 Jordan Ford https://www.basketball-reference.com/players/f/fordjo01/gamelog/2024\n"
     ]
    },
    {
     "name": "stderr",
     "output_type": "stream",
     "text": [
      " 28%|██████████████████████▋                                                         | 223/787 [19:35<22:06,  2.35s/it]"
     ]
    },
    {
     "name": "stdout",
     "output_type": "stream",
     "text": [
      "52 Trent Forrest https://www.basketball-reference.com/players/f/forretr01/gamelog/2024\n"
     ]
    },
    {
     "name": "stderr",
     "output_type": "stream",
     "text": [
      " 28%|██████████████████████▊                                                         | 224/787 [19:37<21:37,  2.30s/it]"
     ]
    },
    {
     "name": "stdout",
     "output_type": "stream",
     "text": [
      "52 Michael Foster Jr. https://www.basketball-reference.com/players/f/fostemi02/gamelog/2023\n"
     ]
    },
    {
     "name": "stderr",
     "output_type": "stream",
     "text": [
      " 29%|██████████████████████▊                                                         | 225/787 [19:39<22:20,  2.38s/it]"
     ]
    },
    {
     "name": "stdout",
     "output_type": "stream",
     "text": [
      "52 Evan Fournier https://www.basketball-reference.com/players/f/fournev01/gamelog/2024\n"
     ]
    },
    {
     "name": "stderr",
     "output_type": "stream",
     "text": [
      " 29%|██████████████████████▉                                                         | 226/787 [19:42<22:21,  2.39s/it]"
     ]
    },
    {
     "name": "stdout",
     "output_type": "stream",
     "text": [
      "52 De'Aaron Fox https://www.basketball-reference.com/players/f/foxde01/gamelog/2024\n"
     ]
    },
    {
     "name": "stderr",
     "output_type": "stream",
     "text": [
      " 29%|███████████████████████                                                         | 227/787 [19:44<20:44,  2.22s/it]"
     ]
    },
    {
     "name": "stdout",
     "output_type": "stream",
     "text": [
      "52 Melvin Frazier https://www.basketball-reference.com/players/f/frazime01/gamelog/2022\n"
     ]
    },
    {
     "name": "stderr",
     "output_type": "stream",
     "text": [
      " 29%|███████████████████████▏                                                        | 228/787 [19:46<20:45,  2.23s/it]"
     ]
    },
    {
     "name": "stdout",
     "output_type": "stream",
     "text": [
      "52 Javon Freeman-Liberty https://www.basketball-reference.com/players/f/freemja01/gamelog/2024\n"
     ]
    },
    {
     "name": "stderr",
     "output_type": "stream",
     "text": [
      " 29%|███████████████████████▎                                                        | 229/787 [19:48<20:50,  2.24s/it]"
     ]
    },
    {
     "name": "stdout",
     "output_type": "stream",
     "text": [
      "52 Alex Fudge https://www.basketball-reference.com/players/f/fudgeal01/gamelog/2024\n",
      "52 Markelle Fultz https://www.basketball-reference.com/players/f/fultzma01/gamelog/2024\n"
     ]
    },
    {
     "name": "stderr",
     "output_type": "stream",
     "text": [
      " 29%|███████████████████████▍                                                        | 230/787 [19:57<39:36,  4.27s/it]"
     ]
    },
    {
     "name": "stdout",
     "output_type": "stream",
     "text": [
      "53 Markelle Fultz https://www.basketball-reference.com/players/f/fultzma01/gamelog/2023\n"
     ]
    },
    {
     "name": "stderr",
     "output_type": "stream",
     "text": [
      " 29%|███████████████████████▍                                                        | 231/787 [19:59<32:21,  3.49s/it]"
     ]
    },
    {
     "name": "stdout",
     "output_type": "stream",
     "text": [
      "53 Andrew Funk https://www.basketball-reference.com/players/f/funkan01/gamelog/2024\n"
     ]
    },
    {
     "name": "stderr",
     "output_type": "stream",
     "text": [
      " 29%|███████████████████████▌                                                        | 232/787 [20:00<27:10,  2.94s/it]"
     ]
    },
    {
     "name": "stdout",
     "output_type": "stream",
     "text": [
      "53 Wenyen Gabriel https://www.basketball-reference.com/players/g/gabriwe01/gamelog/2024\n",
      "53 Daniel Gafford https://www.basketball-reference.com/players/g/gaffoda01/gamelog/2024\n"
     ]
    },
    {
     "name": "stderr",
     "output_type": "stream",
     "text": [
      " 30%|███████████████████████▋                                                        | 233/787 [20:12<49:53,  5.40s/it]"
     ]
    },
    {
     "name": "stdout",
     "output_type": "stream",
     "text": [
      "54 Daniel Gafford https://www.basketball-reference.com/players/g/gaffoda01/gamelog/2023\n",
      "54 Danilo Gallinari https://www.basketball-reference.com/players/g/gallida01/gamelog/2024\n",
      "55 Danilo Gallinari https://www.basketball-reference.com/players/g/gallida01/gamelog/2023\n",
      "56 Danilo Gallinari https://www.basketball-reference.com/players/g/gallida01/gamelog/2022\n"
     ]
    },
    {
     "name": "stderr",
     "output_type": "stream",
     "text": [
      " 30%|███████████████████████▉                                                        | 235/787 [20:29<59:29,  6.47s/it]"
     ]
    },
    {
     "name": "stdout",
     "output_type": "stream",
     "text": [
      "57 Langston Galloway https://www.basketball-reference.com/players/g/gallola01/gamelog/2022\n",
      "57 Darius Garland https://www.basketball-reference.com/players/g/garlada01/gamelog/2024\n",
      "58 Darius Garland https://www.basketball-reference.com/players/g/garlada01/gamelog/2023\n"
     ]
    },
    {
     "name": "stderr",
     "output_type": "stream",
     "text": [
      " 30%|███████████████████████▍                                                      | 236/787 [20:44<1:22:17,  8.96s/it]"
     ]
    },
    {
     "name": "stdout",
     "output_type": "stream",
     "text": [
      "59 Darius Garland https://www.basketball-reference.com/players/g/garlada01/gamelog/2022\n"
     ]
    },
    {
     "name": "stderr",
     "output_type": "stream",
     "text": [
      " 30%|███████████████████████▍                                                      | 237/787 [20:45<1:02:02,  6.77s/it]"
     ]
    },
    {
     "name": "stdout",
     "output_type": "stream",
     "text": [
      "59 Marcus Garrett https://www.basketball-reference.com/players/g/garrema01/gamelog/2022\n"
     ]
    },
    {
     "name": "stderr",
     "output_type": "stream",
     "text": [
      " 30%|████████████████████████▏                                                       | 238/787 [20:47<48:47,  5.33s/it]"
     ]
    },
    {
     "name": "stdout",
     "output_type": "stream",
     "text": [
      "59 Usman Garuba https://www.basketball-reference.com/players/g/garubus01/gamelog/2024\n",
      "59 Luka Garza https://www.basketball-reference.com/players/g/garzalu01/gamelog/2024\n"
     ]
    },
    {
     "name": "stderr",
     "output_type": "stream",
     "text": [
      " 30%|████████████████████████▎                                                       | 239/787 [20:55<56:53,  6.23s/it]"
     ]
    },
    {
     "name": "stdout",
     "output_type": "stream",
     "text": [
      "60 Luka Garza https://www.basketball-reference.com/players/g/garzalu01/gamelog/2023\n"
     ]
    },
    {
     "name": "stderr",
     "output_type": "stream",
     "text": [
      " 30%|████████████████████████▍                                                       | 240/787 [20:57<44:23,  4.87s/it]"
     ]
    },
    {
     "name": "stdout",
     "output_type": "stream",
     "text": [
      "60 Kaiser Gates https://www.basketball-reference.com/players/g/gateska01/gamelog/2024\n"
     ]
    },
    {
     "name": "stderr",
     "output_type": "stream",
     "text": [
      " 31%|████████████████████████▍                                                       | 241/787 [20:59<36:59,  4.06s/it]"
     ]
    },
    {
     "name": "stdout",
     "output_type": "stream",
     "text": [
      "60 Rudy Gay https://www.basketball-reference.com/players/g/gayru01/gamelog/2023\n"
     ]
    },
    {
     "name": "stderr",
     "output_type": "stream",
     "text": [
      " 31%|████████████████████████▌                                                       | 242/787 [21:02<32:12,  3.55s/it]"
     ]
    },
    {
     "name": "stdout",
     "output_type": "stream",
     "text": [
      "60 Keyonte George https://www.basketball-reference.com/players/g/georgke01/gamelog/2024\n",
      "60 Paul George https://www.basketball-reference.com/players/g/georgpa01/gamelog/2024\n",
      "61 Paul George https://www.basketball-reference.com/players/g/georgpa01/gamelog/2023\n"
     ]
    },
    {
     "name": "stderr",
     "output_type": "stream",
     "text": [
      " 31%|████████████████████████▋                                                       | 243/787 [21:13<52:56,  5.84s/it]"
     ]
    },
    {
     "name": "stdout",
     "output_type": "stream",
     "text": [
      "62 Paul George https://www.basketball-reference.com/players/g/georgpa01/gamelog/2022\n"
     ]
    },
    {
     "name": "stderr",
     "output_type": "stream",
     "text": [
      " 31%|████████████████████████▊                                                       | 244/787 [21:15<42:50,  4.73s/it]"
     ]
    },
    {
     "name": "stdout",
     "output_type": "stream",
     "text": [
      "62 Taj Gibson https://www.basketball-reference.com/players/g/gibsota01/gamelog/2024\n",
      "62 Josh Giddey https://www.basketball-reference.com/players/g/giddejo01/gamelog/2024\n"
     ]
    },
    {
     "name": "stderr",
     "output_type": "stream",
     "text": [
      " 31%|████████████████████████▉                                                       | 245/787 [21:24<53:50,  5.96s/it]"
     ]
    },
    {
     "name": "stdout",
     "output_type": "stream",
     "text": [
      "63 Josh Giddey https://www.basketball-reference.com/players/g/giddejo01/gamelog/2023\n"
     ]
    },
    {
     "name": "stderr",
     "output_type": "stream",
     "text": [
      " 31%|█████████████████████████                                                       | 246/787 [21:26<42:41,  4.74s/it]"
     ]
    },
    {
     "name": "stdout",
     "output_type": "stream",
     "text": [
      "63 Harry Giles https://www.basketball-reference.com/players/g/gilesha01/gamelog/2024\n",
      "63 Shai Gilgeous-Alexander https://www.basketball-reference.com/players/g/gilgesh01/gamelog/2024\n"
     ]
    },
    {
     "name": "stderr",
     "output_type": "stream",
     "text": [
      " 31%|█████████████████████████                                                       | 247/787 [21:34<51:21,  5.71s/it]"
     ]
    },
    {
     "name": "stdout",
     "output_type": "stream",
     "text": [
      "64 Shai Gilgeous-Alexander https://www.basketball-reference.com/players/g/gilgesh01/gamelog/2023\n"
     ]
    },
    {
     "name": "stderr",
     "output_type": "stream",
     "text": [
      " 32%|█████████████████████████▏                                                      | 248/787 [21:36<40:59,  4.56s/it]"
     ]
    },
    {
     "name": "stdout",
     "output_type": "stream",
     "text": [
      "64 Anthony Gill https://www.basketball-reference.com/players/g/gillan01/gamelog/2024\n",
      "64 Collin Gillespie https://www.basketball-reference.com/players/g/gilleco01/gamelog/2024\n"
     ]
    },
    {
     "name": "stderr",
     "output_type": "stream",
     "text": [
      " 32%|█████████████████████████▍                                                      | 250/787 [21:42<34:12,  3.82s/it]"
     ]
    },
    {
     "name": "stdout",
     "output_type": "stream",
     "text": [
      "65 Jacob Gilyard https://www.basketball-reference.com/players/g/gilyaja01/gamelog/2024\n",
      "65 Rudy Gobert https://www.basketball-reference.com/players/g/goberru01/gamelog/2024\n",
      "66 Rudy Gobert https://www.basketball-reference.com/players/g/goberru01/gamelog/2023\n",
      "67 Rudy Gobert https://www.basketball-reference.com/players/g/goberru01/gamelog/2022\n"
     ]
    },
    {
     "name": "stderr",
     "output_type": "stream",
     "text": [
      " 32%|█████████████████████████▌                                                      | 252/787 [22:02<56:19,  6.32s/it]"
     ]
    },
    {
     "name": "stdout",
     "output_type": "stream",
     "text": [
      "68 Brandon Goodwin https://www.basketball-reference.com/players/g/goodwbr01/gamelog/2022\n"
     ]
    },
    {
     "name": "stderr",
     "output_type": "stream",
     "text": [
      " 32%|█████████████████████████▋                                                      | 253/787 [22:05<46:12,  5.19s/it]"
     ]
    },
    {
     "name": "stdout",
     "output_type": "stream",
     "text": [
      "68 Jordan Goodwin https://www.basketball-reference.com/players/g/goodwjo01/gamelog/2024\n",
      "68 Aaron Gordon https://www.basketball-reference.com/players/g/gordoaa01/gamelog/2024\n",
      "69 Aaron Gordon https://www.basketball-reference.com/players/g/gordoaa01/gamelog/2023\n",
      "70 Aaron Gordon https://www.basketball-reference.com/players/g/gordoaa01/gamelog/2022\n"
     ]
    },
    {
     "name": "stderr",
     "output_type": "stream",
     "text": [
      " 32%|█████████████████████████▏                                                    | 254/787 [22:25<1:27:20,  9.83s/it]"
     ]
    },
    {
     "name": "stdout",
     "output_type": "stream",
     "text": [
      "71 Eric Gordon https://www.basketball-reference.com/players/g/gordoer01/gamelog/2024\n",
      "72 Eric Gordon https://www.basketball-reference.com/players/g/gordoer01/gamelog/2023\n"
     ]
    },
    {
     "name": "stderr",
     "output_type": "stream",
     "text": [
      " 32%|█████████████████████████▎                                                    | 255/787 [22:40<1:38:53, 11.15s/it]"
     ]
    },
    {
     "name": "stdout",
     "output_type": "stream",
     "text": [
      "73 Eric Gordon https://www.basketball-reference.com/players/g/gordoer01/gamelog/2022\n"
     ]
    },
    {
     "name": "stderr",
     "output_type": "stream",
     "text": [
      " 33%|█████████████████████████▎                                                    | 256/787 [22:42<1:14:36,  8.43s/it]"
     ]
    },
    {
     "name": "stdout",
     "output_type": "stream",
     "text": [
      "73 Devonte' Graham https://www.basketball-reference.com/players/g/grahade01/gamelog/2024\n"
     ]
    },
    {
     "name": "stderr",
     "output_type": "stream",
     "text": [
      " 33%|██████████████████████████                                                      | 257/787 [22:44<57:30,  6.51s/it]"
     ]
    },
    {
     "name": "stdout",
     "output_type": "stream",
     "text": [
      "73 Treveon Graham https://www.basketball-reference.com/players/g/grahatr01/gamelog/2020\n"
     ]
    },
    {
     "name": "stderr",
     "output_type": "stream",
     "text": [
      " 33%|██████████████████████████▏                                                     | 258/787 [22:46<45:42,  5.18s/it]"
     ]
    },
    {
     "name": "stdout",
     "output_type": "stream",
     "text": [
      "73 Jerami Grant https://www.basketball-reference.com/players/g/grantje01/gamelog/2024\n"
     ]
    },
    {
     "name": "stderr",
     "output_type": "stream",
     "text": [
      " 33%|██████████████████████████▎                                                     | 259/787 [22:48<36:35,  4.16s/it]"
     ]
    },
    {
     "name": "stdout",
     "output_type": "stream",
     "text": [
      "73 Hassani Gravett https://www.basketball-reference.com/players/g/graveha01/gamelog/2022\n"
     ]
    },
    {
     "name": "stderr",
     "output_type": "stream",
     "text": [
      " 33%|██████████████████████████▍                                                     | 260/787 [22:50<30:39,  3.49s/it]"
     ]
    },
    {
     "name": "stdout",
     "output_type": "stream",
     "text": [
      "73 RaiQuan Gray https://www.basketball-reference.com/players/g/grayra01/gamelog/2024\n",
      "73 A.J. Green https://www.basketball-reference.com/players/g/greenaj01/gamelog/2024\n"
     ]
    },
    {
     "name": "stderr",
     "output_type": "stream",
     "text": [
      " 33%|██████████████████████████▌                                                     | 261/787 [22:58<43:35,  4.97s/it]"
     ]
    },
    {
     "name": "stdout",
     "output_type": "stream",
     "text": [
      "74 A.J. Green https://www.basketball-reference.com/players/g/greenaj01/gamelog/2023\n"
     ]
    },
    {
     "name": "stderr",
     "output_type": "stream",
     "text": [
      " 33%|██████████████████████████▋                                                     | 262/787 [23:00<34:47,  3.98s/it]"
     ]
    },
    {
     "name": "stdout",
     "output_type": "stream",
     "text": [
      "74 Danny Green https://www.basketball-reference.com/players/g/greenda02/gamelog/2024\n"
     ]
    },
    {
     "name": "stderr",
     "output_type": "stream",
     "text": [
      " 33%|██████████████████████████▋                                                     | 263/787 [23:03<32:12,  3.69s/it]"
     ]
    },
    {
     "name": "stdout",
     "output_type": "stream",
     "text": [
      "74 Draymond Green https://www.basketball-reference.com/players/g/greendr01/gamelog/2024\n"
     ]
    },
    {
     "name": "stderr",
     "output_type": "stream",
     "text": [
      " 34%|██████████████████████████▊                                                     | 264/787 [23:05<27:46,  3.19s/it]"
     ]
    },
    {
     "name": "stdout",
     "output_type": "stream",
     "text": [
      "74 Jalen Green https://www.basketball-reference.com/players/g/greenja05/gamelog/2024\n",
      "74 JaMychal Green https://www.basketball-reference.com/players/g/greenja01/gamelog/2023\n",
      "75 JaMychal Green https://www.basketball-reference.com/players/g/greenja01/gamelog/2022\n",
      "76 JaMychal Green https://www.basketball-reference.com/players/g/greenja01/gamelog/2021\n"
     ]
    },
    {
     "name": "stderr",
     "output_type": "stream",
     "text": [
      " 34%|███████████████████████████                                                     | 266/787 [23:25<52:34,  6.06s/it]"
     ]
    },
    {
     "name": "stdout",
     "output_type": "stream",
     "text": [
      "77 Javonte Green https://www.basketball-reference.com/players/g/greenja02/gamelog/2024\n"
     ]
    },
    {
     "name": "stderr",
     "output_type": "stream",
     "text": [
      " 34%|███████████████████████████▏                                                    | 267/787 [23:28<43:07,  4.98s/it]"
     ]
    },
    {
     "name": "stdout",
     "output_type": "stream",
     "text": [
      "77 Jeff Green https://www.basketball-reference.com/players/g/greenje02/gamelog/2024\n",
      "77 Josh Green https://www.basketball-reference.com/players/g/greenjo02/gamelog/2024\n"
     ]
    },
    {
     "name": "stderr",
     "output_type": "stream",
     "text": [
      " 34%|███████████████████████████▏                                                    | 268/787 [23:38<57:00,  6.59s/it]"
     ]
    },
    {
     "name": "stdout",
     "output_type": "stream",
     "text": [
      "78 Josh Green https://www.basketball-reference.com/players/g/greenjo02/gamelog/2023\n"
     ]
    },
    {
     "name": "stderr",
     "output_type": "stream",
     "text": [
      " 34%|███████████████████████████▎                                                    | 269/787 [23:40<45:11,  5.23s/it]"
     ]
    },
    {
     "name": "stdout",
     "output_type": "stream",
     "text": [
      "78 AJ Griffin https://www.basketball-reference.com/players/g/griffaj01/gamelog/2024\n"
     ]
    },
    {
     "name": "stderr",
     "output_type": "stream",
     "text": [
      " 34%|███████████████████████████▍                                                    | 270/787 [23:42<37:23,  4.34s/it]"
     ]
    },
    {
     "name": "stdout",
     "output_type": "stream",
     "text": [
      "78 Quentin Grimes https://www.basketball-reference.com/players/g/grimequ01/gamelog/2024\n"
     ]
    },
    {
     "name": "stderr",
     "output_type": "stream",
     "text": [
      " 34%|███████████████████████████▌                                                    | 271/787 [23:44<30:57,  3.60s/it]"
     ]
    },
    {
     "name": "stdout",
     "output_type": "stream",
     "text": [
      "78 Mouhamadou Gueye https://www.basketball-reference.com/players/g/gueyemo01/gamelog/2024\n"
     ]
    },
    {
     "name": "stderr",
     "output_type": "stream",
     "text": [
      " 35%|███████████████████████████▋                                                    | 272/787 [23:47<29:22,  3.42s/it]"
     ]
    },
    {
     "name": "stdout",
     "output_type": "stream",
     "text": [
      "78 Mouhamed Gueye https://www.basketball-reference.com/players/g/gueyemo02/gamelog/2024\n"
     ]
    },
    {
     "name": "stderr",
     "output_type": "stream",
     "text": [
      " 35%|███████████████████████████▊                                                    | 273/787 [23:49<25:50,  3.02s/it]"
     ]
    },
    {
     "name": "stdout",
     "output_type": "stream",
     "text": [
      "78 Kyle Guy https://www.basketball-reference.com/players/g/guyky01/gamelog/2022\n",
      "78 Rui Hachimura https://www.basketball-reference.com/players/h/hachiru01/gamelog/2024\n",
      "79 Rui Hachimura https://www.basketball-reference.com/players/h/hachiru01/gamelog/2023\n"
     ]
    },
    {
     "name": "stderr",
     "output_type": "stream",
     "text": [
      " 35%|███████████████████████████▊                                                    | 274/787 [24:05<59:26,  6.95s/it]"
     ]
    },
    {
     "name": "stdout",
     "output_type": "stream",
     "text": [
      "80 Rui Hachimura https://www.basketball-reference.com/players/h/hachiru01/gamelog/2022\n"
     ]
    },
    {
     "name": "stderr",
     "output_type": "stream",
     "text": [
      " 35%|███████████████████████████▉                                                    | 275/787 [24:07<46:06,  5.40s/it]"
     ]
    },
    {
     "name": "stdout",
     "output_type": "stream",
     "text": [
      "80 Ashton Hagans https://www.basketball-reference.com/players/h/haganas01/gamelog/2024\n",
      "80 Tyrese Haliburton https://www.basketball-reference.com/players/h/halibty01/gamelog/2024\n"
     ]
    },
    {
     "name": "stderr",
     "output_type": "stream",
     "text": [
      " 35%|████████████████████████████                                                    | 276/787 [24:16<54:51,  6.44s/it]"
     ]
    },
    {
     "name": "stdout",
     "output_type": "stream",
     "text": [
      "81 Tyrese Haliburton https://www.basketball-reference.com/players/h/halibty01/gamelog/2023\n",
      "81 Devon Hall https://www.basketball-reference.com/players/h/hallde01/gamelog/2020\n"
     ]
    },
    {
     "name": "stderr",
     "output_type": "stream",
     "text": [
      " 35%|████████████████████████████▎                                                   | 278/787 [24:22<39:33,  4.66s/it]"
     ]
    },
    {
     "name": "stdout",
     "output_type": "stream",
     "text": [
      "82 Jordan Hall https://www.basketball-reference.com/players/h/halljo02/gamelog/2023\n"
     ]
    },
    {
     "name": "stderr",
     "output_type": "stream",
     "text": [
      " 35%|████████████████████████████▎                                                   | 279/787 [24:24<32:25,  3.83s/it]"
     ]
    },
    {
     "name": "stdout",
     "output_type": "stream",
     "text": [
      "82 Josh Hall https://www.basketball-reference.com/players/h/halljo01/gamelog/2021\n"
     ]
    },
    {
     "name": "stderr",
     "output_type": "stream",
     "text": [
      " 36%|████████████████████████████▍                                                   | 280/787 [24:26<27:32,  3.26s/it]"
     ]
    },
    {
     "name": "stdout",
     "output_type": "stream",
     "text": [
      "82 Tyler Hall https://www.basketball-reference.com/players/h/hallty01/gamelog/2022\n"
     ]
    },
    {
     "name": "stderr",
     "output_type": "stream",
     "text": [
      " 36%|████████████████████████████▌                                                   | 281/787 [24:28<24:07,  2.86s/it]"
     ]
    },
    {
     "name": "stdout",
     "output_type": "stream",
     "text": [
      "82 R.J. Hampton https://www.basketball-reference.com/players/h/hamptrj01/gamelog/2024\n"
     ]
    },
    {
     "name": "stderr",
     "output_type": "stream",
     "text": [
      " 36%|████████████████████████████▋                                                   | 282/787 [24:30<21:06,  2.51s/it]"
     ]
    },
    {
     "name": "stdout",
     "output_type": "stream",
     "text": [
      "82 Dusty Hannahs https://www.basketball-reference.com/players/h/hannadu01/gamelog/2020\n",
      "82 Tim Hardaway Jr. https://www.basketball-reference.com/players/h/hardati02/gamelog/2024\n"
     ]
    },
    {
     "name": "stderr",
     "output_type": "stream",
     "text": [
      " 36%|████████████████████████████▊                                                   | 283/787 [24:39<38:20,  4.57s/it]"
     ]
    },
    {
     "name": "stdout",
     "output_type": "stream",
     "text": [
      "83 Tim Hardaway Jr. https://www.basketball-reference.com/players/h/hardati02/gamelog/2023\n",
      "83 James Harden https://www.basketball-reference.com/players/h/hardeja01/gamelog/2024\n",
      "84 James Harden https://www.basketball-reference.com/players/h/hardeja01/gamelog/2023\n",
      "85 James Harden https://www.basketball-reference.com/players/h/hardeja01/gamelog/2022\n"
     ]
    },
    {
     "name": "stderr",
     "output_type": "stream",
     "text": [
      " 36%|████████████████████████████▏                                                 | 284/787 [24:59<1:16:17,  9.10s/it]"
     ]
    },
    {
     "name": "stdout",
     "output_type": "stream",
     "text": [
      "86 Jaden Hardy https://www.basketball-reference.com/players/h/hardyja02/gamelog/2024\n"
     ]
    },
    {
     "name": "stderr",
     "output_type": "stream",
     "text": [
      " 36%|████████████████████████████▏                                                 | 285/787 [25:11<1:23:37, 10.00s/it]"
     ]
    },
    {
     "name": "stdout",
     "output_type": "stream",
     "text": [
      "87 Jaden Hardy https://www.basketball-reference.com/players/h/hardyja02/gamelog/2023\n"
     ]
    },
    {
     "name": "stderr",
     "output_type": "stream",
     "text": [
      " 36%|████████████████████████████▎                                                 | 286/787 [25:13<1:03:05,  7.56s/it]"
     ]
    },
    {
     "name": "stdout",
     "output_type": "stream",
     "text": [
      "87 Maurice Harkless https://www.basketball-reference.com/players/h/harklma01/gamelog/2022\n"
     ]
    },
    {
     "name": "stderr",
     "output_type": "stream",
     "text": [
      " 36%|█████████████████████████████▏                                                  | 287/787 [25:14<48:24,  5.81s/it]"
     ]
    },
    {
     "name": "stdout",
     "output_type": "stream",
     "text": [
      "87 Ron Harper Jr. https://www.basketball-reference.com/players/h/harpero02/gamelog/2024\n",
      "87 Montrezl Harrell https://www.basketball-reference.com/players/h/harremo01/gamelog/2023\n"
     ]
    },
    {
     "name": "stderr",
     "output_type": "stream",
     "text": [
      " 37%|█████████████████████████████▎                                                  | 288/787 [25:22<52:12,  6.28s/it]"
     ]
    },
    {
     "name": "stdout",
     "output_type": "stream",
     "text": [
      "88 Montrezl Harrell https://www.basketball-reference.com/players/h/harremo01/gamelog/2022\n",
      "88 Gary Harris https://www.basketball-reference.com/players/h/harriga01/gamelog/2024\n"
     ]
    },
    {
     "name": "stderr",
     "output_type": "stream",
     "text": [
      " 37%|█████████████████████████████▍                                                  | 289/787 [25:29<55:46,  6.72s/it]"
     ]
    },
    {
     "name": "stdout",
     "output_type": "stream",
     "text": [
      "89 Gary Harris https://www.basketball-reference.com/players/h/harriga01/gamelog/2023\n"
     ]
    },
    {
     "name": "stderr",
     "output_type": "stream",
     "text": [
      " 37%|█████████████████████████████▍                                                  | 290/787 [25:32<45:55,  5.54s/it]"
     ]
    },
    {
     "name": "stdout",
     "output_type": "stream",
     "text": [
      "89 Jalen Harris https://www.basketball-reference.com/players/h/harrija01/gamelog/2021\n"
     ]
    },
    {
     "name": "stderr",
     "output_type": "stream",
     "text": [
      " 37%|█████████████████████████████▌                                                  | 291/787 [25:35<39:16,  4.75s/it]"
     ]
    },
    {
     "name": "stdout",
     "output_type": "stream",
     "text": [
      "89 Joe Harris https://www.basketball-reference.com/players/h/harrijo01/gamelog/2024\n",
      "89 Kevon Harris https://www.basketball-reference.com/players/h/harrike01/gamelog/2024\n"
     ]
    },
    {
     "name": "stderr",
     "output_type": "stream",
     "text": [
      " 37%|█████████████████████████████▋                                                  | 292/787 [25:42<43:27,  5.27s/it]"
     ]
    },
    {
     "name": "stdout",
     "output_type": "stream",
     "text": [
      "0 Kevon Harris https://www.basketball-reference.com/players/h/harrike01/gamelog/2023\n",
      "0 Tobias Harris https://www.basketball-reference.com/players/h/harrito02/gamelog/2024\n",
      "1 Tobias Harris https://www.basketball-reference.com/players/h/harrito02/gamelog/2023\n",
      "2 Tobias Harris https://www.basketball-reference.com/players/h/harrito02/gamelog/2022\n"
     ]
    },
    {
     "name": "stderr",
     "output_type": "stream",
     "text": [
      " 37%|█████████████████████████████▏                                                | 294/787 [26:04<1:00:49,  7.40s/it]"
     ]
    },
    {
     "name": "stdout",
     "output_type": "stream",
     "text": [
      "3 Shaquille Harrison https://www.basketball-reference.com/players/h/harrish01/gamelog/2024\n",
      "3 Josh Hart https://www.basketball-reference.com/players/h/hartjo01/gamelog/2024\n",
      "4 Josh Hart https://www.basketball-reference.com/players/h/hartjo01/gamelog/2023\n"
     ]
    },
    {
     "name": "stderr",
     "output_type": "stream",
     "text": [
      " 37%|█████████████████████████████▏                                                | 295/787 [26:20<1:22:48, 10.10s/it]"
     ]
    },
    {
     "name": "stdout",
     "output_type": "stream",
     "text": [
      "5 Josh Hart https://www.basketball-reference.com/players/h/hartjo01/gamelog/2022\n",
      "5 Isaiah Hartenstein https://www.basketball-reference.com/players/h/harteis01/gamelog/2024\n",
      "6 Isaiah Hartenstein https://www.basketball-reference.com/players/h/harteis01/gamelog/2023\n"
     ]
    },
    {
     "name": "stderr",
     "output_type": "stream",
     "text": [
      " 38%|█████████████████████████████▎                                                | 296/787 [26:36<1:36:49, 11.83s/it]"
     ]
    },
    {
     "name": "stdout",
     "output_type": "stream",
     "text": [
      "7 Isaiah Hartenstein https://www.basketball-reference.com/players/h/harteis01/gamelog/2022\n",
      "7 Sam Hauser https://www.basketball-reference.com/players/h/hausesa01/gamelog/2024\n",
      "8 Sam Hauser https://www.basketball-reference.com/players/h/hausesa01/gamelog/2023\n",
      "9 Sam Hauser https://www.basketball-reference.com/players/h/hausesa01/gamelog/2022\n"
     ]
    },
    {
     "name": "stderr",
     "output_type": "stream",
     "text": [
      " 38%|█████████████████████████████▍                                                | 297/787 [26:57<1:59:08, 14.59s/it]"
     ]
    },
    {
     "name": "stdout",
     "output_type": "stream",
     "text": [
      "10 Jordan Hawkins https://www.basketball-reference.com/players/h/hawkijo01/gamelog/2024\n"
     ]
    },
    {
     "name": "stderr",
     "output_type": "stream",
     "text": [
      " 38%|█████████████████████████████▌                                                | 298/787 [27:02<1:36:08, 11.80s/it]"
     ]
    },
    {
     "name": "stdout",
     "output_type": "stream",
     "text": [
      "11 Jaxson Hayes https://www.basketball-reference.com/players/h/hayesja02/gamelog/2024\n"
     ]
    },
    {
     "name": "stderr",
     "output_type": "stream",
     "text": [
      " 38%|█████████████████████████████▋                                                | 299/787 [27:10<1:26:54, 10.68s/it]"
     ]
    },
    {
     "name": "stdout",
     "output_type": "stream",
     "text": [
      "12 Jaxson Hayes https://www.basketball-reference.com/players/h/hayesja02/gamelog/2023\n"
     ]
    },
    {
     "name": "stderr",
     "output_type": "stream",
     "text": [
      " 38%|█████████████████████████████▋                                                | 300/787 [27:12<1:05:14,  8.04s/it]"
     ]
    },
    {
     "name": "stdout",
     "output_type": "stream",
     "text": [
      "12 Killian Hayes https://www.basketball-reference.com/players/h/hayeski01/gamelog/2024\n",
      "12 Gordon Hayward https://www.basketball-reference.com/players/h/haywago01/gamelog/2024\n"
     ]
    },
    {
     "name": "stderr",
     "output_type": "stream",
     "text": [
      " 38%|█████████████████████████████▊                                                | 301/787 [27:20<1:05:35,  8.10s/it]"
     ]
    },
    {
     "name": "stdout",
     "output_type": "stream",
     "text": [
      "13 Gordon Hayward https://www.basketball-reference.com/players/h/haywago01/gamelog/2023\n"
     ]
    },
    {
     "name": "stderr",
     "output_type": "stream",
     "text": [
      " 38%|██████████████████████████████▋                                                 | 302/787 [27:22<50:57,  6.30s/it]"
     ]
    },
    {
     "name": "stdout",
     "output_type": "stream",
     "text": [
      "13 Scoot Henderson https://www.basketball-reference.com/players/h/hendesc01/gamelog/2024\n"
     ]
    },
    {
     "name": "stderr",
     "output_type": "stream",
     "text": [
      " 39%|██████████████████████████████▊                                                 | 303/787 [27:24<40:11,  4.98s/it]"
     ]
    },
    {
     "name": "stdout",
     "output_type": "stream",
     "text": [
      "13 Taylor Hendricks https://www.basketball-reference.com/players/h/hendrita01/gamelog/2024\n",
      "13 Dewan Hernandez https://www.basketball-reference.com/players/h/hernade01/gamelog/2020\n"
     ]
    },
    {
     "name": "stderr",
     "output_type": "stream",
     "text": [
      " 39%|███████████████████████████████                                                 | 305/787 [27:31<32:44,  4.08s/it]"
     ]
    },
    {
     "name": "stdout",
     "output_type": "stream",
     "text": [
      "14 Juancho HernangÃ³mez https://www.basketball-reference.com/players/h/hernaju01/gamelog/2023\n"
     ]
    },
    {
     "name": "stderr",
     "output_type": "stream",
     "text": [
      " 39%|███████████████████████████████                                                 | 306/787 [27:33<27:41,  3.45s/it]"
     ]
    },
    {
     "name": "stdout",
     "output_type": "stream",
     "text": [
      "14 Willy HernangÃ³mez https://www.basketball-reference.com/players/h/hernawi01/gamelog/2023\n",
      "14 Tyler Herro https://www.basketball-reference.com/players/h/herroty01/gamelog/2024\n",
      "15 Tyler Herro https://www.basketball-reference.com/players/h/herroty01/gamelog/2023\n",
      "16 Tyler Herro https://www.basketball-reference.com/players/h/herroty01/gamelog/2022\n"
     ]
    },
    {
     "name": "stderr",
     "output_type": "stream",
     "text": [
      " 39%|███████████████████████████████▏                                                | 307/787 [27:50<59:53,  7.49s/it]"
     ]
    },
    {
     "name": "stdout",
     "output_type": "stream",
     "text": [
      "17 Kevin Hervey https://www.basketball-reference.com/players/h/herveke01/gamelog/2020\n"
     ]
    },
    {
     "name": "stderr",
     "output_type": "stream",
     "text": [
      " 39%|███████████████████████████████▎                                                | 308/787 [27:54<52:39,  6.60s/it]"
     ]
    },
    {
     "name": "stdout",
     "output_type": "stream",
     "text": [
      "18 Buddy Hield https://www.basketball-reference.com/players/h/hieldbu01/gamelog/2024\n"
     ]
    },
    {
     "name": "stderr",
     "output_type": "stream",
     "text": [
      " 39%|███████████████████████████████▍                                                | 309/787 [28:03<57:10,  7.18s/it]"
     ]
    },
    {
     "name": "stdout",
     "output_type": "stream",
     "text": [
      "19 Buddy Hield https://www.basketball-reference.com/players/h/hieldbu01/gamelog/2023\n",
      "19 Haywood Highsmith https://www.basketball-reference.com/players/h/highsha01/gamelog/2024\n",
      "20 Haywood Highsmith https://www.basketball-reference.com/players/h/highsha01/gamelog/2023\n",
      "21 Haywood Highsmith https://www.basketball-reference.com/players/h/highsha01/gamelog/2022\n"
     ]
    },
    {
     "name": "stderr",
     "output_type": "stream",
     "text": [
      " 39%|██████████████████████████████▋                                               | 310/787 [28:22<1:26:18, 10.86s/it]"
     ]
    },
    {
     "name": "stdout",
     "output_type": "stream",
     "text": [
      "22 George Hill https://www.basketball-reference.com/players/h/hillge01/gamelog/2023\n"
     ]
    },
    {
     "name": "stderr",
     "output_type": "stream",
     "text": [
      " 40%|███████████████████████████████▋                                                | 312/787 [28:27<51:00,  6.44s/it]"
     ]
    },
    {
     "name": "stdout",
     "output_type": "stream",
     "text": [
      "22 Malcolm Hill https://www.basketball-reference.com/players/h/hillma01/gamelog/2023\n"
     ]
    },
    {
     "name": "stderr",
     "output_type": "stream",
     "text": [
      " 40%|███████████████████████████████▊                                                | 313/787 [28:29<39:47,  5.04s/it]"
     ]
    },
    {
     "name": "stdout",
     "output_type": "stream",
     "text": [
      "22 Nate Hinton https://www.basketball-reference.com/players/h/hintona01/gamelog/2024\n"
     ]
    },
    {
     "name": "stderr",
     "output_type": "stream",
     "text": [
      " 40%|███████████████████████████████▉                                                | 314/787 [28:30<31:38,  4.01s/it]"
     ]
    },
    {
     "name": "stdout",
     "output_type": "stream",
     "text": [
      "22 D'Moi Hodge https://www.basketball-reference.com/players/h/hodgedm01/gamelog/2024\n"
     ]
    },
    {
     "name": "stderr",
     "output_type": "stream",
     "text": [
      " 40%|████████████████████████████████                                                | 315/787 [28:33<27:20,  3.48s/it]"
     ]
    },
    {
     "name": "stdout",
     "output_type": "stream",
     "text": [
      "22 Aaron Holiday https://www.basketball-reference.com/players/h/holidaa01/gamelog/2024\n",
      "22 Jrue Holiday https://www.basketball-reference.com/players/h/holidjr01/gamelog/2024\n",
      "23 Jrue Holiday https://www.basketball-reference.com/players/h/holidjr01/gamelog/2023\n",
      "24 Jrue Holiday https://www.basketball-reference.com/players/h/holidjr01/gamelog/2022\n"
     ]
    },
    {
     "name": "stderr",
     "output_type": "stream",
     "text": [
      " 40%|███████████████████████████████▎                                              | 316/787 [28:55<1:10:48,  9.02s/it]"
     ]
    },
    {
     "name": "stdout",
     "output_type": "stream",
     "text": [
      "25 Justin Holiday https://www.basketball-reference.com/players/h/holidju01/gamelog/2024\n"
     ]
    },
    {
     "name": "stderr",
     "output_type": "stream",
     "text": [
      " 40%|███████████████████████████████▍                                              | 317/787 [29:04<1:12:41,  9.28s/it]"
     ]
    },
    {
     "name": "stdout",
     "output_type": "stream",
     "text": [
      "26 Justin Holiday https://www.basketball-reference.com/players/h/holidju01/gamelog/2023\n"
     ]
    },
    {
     "name": "stderr",
     "output_type": "stream",
     "text": [
      " 40%|████████████████████████████████▎                                               | 318/787 [29:07<55:39,  7.12s/it]"
     ]
    },
    {
     "name": "stdout",
     "output_type": "stream",
     "text": [
      "26 Richaun Holmes https://www.basketball-reference.com/players/h/holmeri01/gamelog/2024\n",
      "26 Chet Holmgren https://www.basketball-reference.com/players/h/holmgch01/gamelog/2024\n"
     ]
    },
    {
     "name": "stderr",
     "output_type": "stream",
     "text": [
      " 41%|████████████████████████████████▍                                               | 319/787 [29:13<53:12,  6.82s/it]"
     ]
    },
    {
     "name": "stdout",
     "output_type": "stream",
     "text": [
      "27 Jalen Hood-Schifino https://www.basketball-reference.com/players/h/hoodsja01/gamelog/2024\n"
     ]
    },
    {
     "name": "stderr",
     "output_type": "stream",
     "text": [
      " 41%|████████████████████████████████▋                                               | 321/787 [29:19<38:28,  4.95s/it]"
     ]
    },
    {
     "name": "stdout",
     "output_type": "stream",
     "text": [
      "28 Scotty Hopson https://www.basketball-reference.com/players/h/hopsosc01/gamelog/2022\n",
      "28 Al Horford https://www.basketball-reference.com/players/h/horfoal01/gamelog/2024\n",
      "29 Al Horford https://www.basketball-reference.com/players/h/horfoal01/gamelog/2023\n",
      "30 Al Horford https://www.basketball-reference.com/players/h/horfoal01/gamelog/2022\n"
     ]
    },
    {
     "name": "stderr",
     "output_type": "stream",
     "text": [
      " 41%|████████████████████████████████                                              | 323/787 [29:47<1:05:11,  8.43s/it]"
     ]
    },
    {
     "name": "stdout",
     "output_type": "stream",
     "text": [
      "31 Talen Horton-Tucker https://www.basketball-reference.com/players/h/hortota01/gamelog/2024\n"
     ]
    },
    {
     "name": "stderr",
     "output_type": "stream",
     "text": [
      " 41%|████████████████████████████████▉                                               | 324/787 [29:49<50:25,  6.53s/it]"
     ]
    },
    {
     "name": "stdout",
     "output_type": "stream",
     "text": [
      "31 Danuel House Jr. https://www.basketball-reference.com/players/h/houseda01/gamelog/2024\n",
      "31 Caleb Houstan https://www.basketball-reference.com/players/h/houstca01/gamelog/2024\n"
     ]
    },
    {
     "name": "stderr",
     "output_type": "stream",
     "text": [
      " 41%|█████████████████████████████████                                               | 325/787 [29:57<52:47,  6.86s/it]"
     ]
    },
    {
     "name": "stdout",
     "output_type": "stream",
     "text": [
      "32 Caleb Houstan https://www.basketball-reference.com/players/h/houstca01/gamelog/2023\n",
      "32 Jett Howard https://www.basketball-reference.com/players/h/howarje01/gamelog/2024\n"
     ]
    },
    {
     "name": "stderr",
     "output_type": "stream",
     "text": [
      " 42%|█████████████████████████████████▏                                              | 327/787 [30:06<41:52,  5.46s/it]"
     ]
    },
    {
     "name": "stdout",
     "output_type": "stream",
     "text": [
      "33 Trevor Hudgins https://www.basketball-reference.com/players/h/hudgitr01/gamelog/2023\n"
     ]
    },
    {
     "name": "stderr",
     "output_type": "stream",
     "text": [
      " 42%|█████████████████████████████████▎                                              | 328/787 [30:08<34:12,  4.47s/it]"
     ]
    },
    {
     "name": "stdout",
     "output_type": "stream",
     "text": [
      "33 Kevin Huerter https://www.basketball-reference.com/players/h/huertke01/gamelog/2024\n",
      "33 Jay Huff https://www.basketball-reference.com/players/h/huffja01/gamelog/2024\n"
     ]
    },
    {
     "name": "stderr",
     "output_type": "stream",
     "text": [
      " 42%|█████████████████████████████████▍                                              | 329/787 [30:14<37:43,  4.94s/it]"
     ]
    },
    {
     "name": "stdout",
     "output_type": "stream",
     "text": [
      "34 Jay Huff https://www.basketball-reference.com/players/h/huffja01/gamelog/2023\n"
     ]
    },
    {
     "name": "stderr",
     "output_type": "stream",
     "text": [
      " 42%|█████████████████████████████████▌                                              | 330/787 [30:16<30:20,  3.98s/it]"
     ]
    },
    {
     "name": "stdout",
     "output_type": "stream",
     "text": [
      "34 Elijah Hughes https://www.basketball-reference.com/players/h/hugheel01/gamelog/2022\n"
     ]
    },
    {
     "name": "stderr",
     "output_type": "stream",
     "text": [
      " 42%|█████████████████████████████████▋                                              | 331/787 [30:17<25:00,  3.29s/it]"
     ]
    },
    {
     "name": "stdout",
     "output_type": "stream",
     "text": [
      "34 Feron Hunt https://www.basketball-reference.com/players/h/huntfe01/gamelog/2022\n"
     ]
    },
    {
     "name": "stderr",
     "output_type": "stream",
     "text": [
      " 42%|█████████████████████████████████▋                                              | 332/787 [30:19<21:56,  2.89s/it]"
     ]
    },
    {
     "name": "stdout",
     "output_type": "stream",
     "text": [
      "34 De'Andre Hunter https://www.basketball-reference.com/players/h/huntede01/gamelog/2024\n"
     ]
    },
    {
     "name": "stderr",
     "output_type": "stream",
     "text": [
      " 42%|█████████████████████████████████▊                                              | 333/787 [30:21<19:36,  2.59s/it]"
     ]
    },
    {
     "name": "stdout",
     "output_type": "stream",
     "text": [
      "34 R.J. Hunter https://www.basketball-reference.com/players/h/hunterj01/gamelog/2019\n"
     ]
    },
    {
     "name": "stderr",
     "output_type": "stream",
     "text": [
      " 42%|█████████████████████████████████▉                                              | 334/787 [30:23<17:37,  2.34s/it]"
     ]
    },
    {
     "name": "stdout",
     "output_type": "stream",
     "text": [
      "34 Matthew Hurt https://www.basketball-reference.com/players/h/hurtma01/gamelog/2024\n"
     ]
    },
    {
     "name": "stderr",
     "output_type": "stream",
     "text": [
      " 43%|██████████████████████████████████                                              | 335/787 [30:25<16:48,  2.23s/it]"
     ]
    },
    {
     "name": "stdout",
     "output_type": "stream",
     "text": [
      "34 Chandler Hutchison https://www.basketball-reference.com/players/h/hutchch01/gamelog/2022\n",
      "34 Bones Hyland https://www.basketball-reference.com/players/h/hylanbo01/gamelog/2024\n",
      "35 Bones Hyland https://www.basketball-reference.com/players/h/hylanbo01/gamelog/2023\n",
      "36 Bones Hyland https://www.basketball-reference.com/players/h/hylanbo01/gamelog/2022\n"
     ]
    },
    {
     "name": "stderr",
     "output_type": "stream",
     "text": [
      " 43%|██████████████████████████████████▏                                             | 336/787 [30:41<49:20,  6.56s/it]"
     ]
    },
    {
     "name": "stdout",
     "output_type": "stream",
     "text": [
      "37 Joe Ingles https://www.basketball-reference.com/players/i/inglejo01/gamelog/2024\n",
      "38 Joe Ingles https://www.basketball-reference.com/players/i/inglejo01/gamelog/2023\n"
     ]
    },
    {
     "name": "stderr",
     "output_type": "stream",
     "text": [
      " 43%|█████████████████████████████████▍                                            | 337/787 [30:56<1:07:04,  8.94s/it]"
     ]
    },
    {
     "name": "stdout",
     "output_type": "stream",
     "text": [
      "39 Joe Ingles https://www.basketball-reference.com/players/i/inglejo01/gamelog/2022\n",
      "39 Brandon Ingram https://www.basketball-reference.com/players/i/ingrabr01/gamelog/2024\n"
     ]
    },
    {
     "name": "stderr",
     "output_type": "stream",
     "text": [
      " 43%|█████████████████████████████████▍                                            | 338/787 [31:03<1:03:21,  8.47s/it]"
     ]
    },
    {
     "name": "stdout",
     "output_type": "stream",
     "text": [
      "40 Brandon Ingram https://www.basketball-reference.com/players/i/ingrabr01/gamelog/2023\n",
      "40 Kyrie Irving https://www.basketball-reference.com/players/i/irvinky01/gamelog/2024\n"
     ]
    },
    {
     "name": "stderr",
     "output_type": "stream",
     "text": [
      " 43%|█████████████████████████████████▌                                            | 339/787 [31:14<1:07:23,  9.02s/it]"
     ]
    },
    {
     "name": "stdout",
     "output_type": "stream",
     "text": [
      "41 Kyrie Irving https://www.basketball-reference.com/players/i/irvinky01/gamelog/2023\n",
      "41 Jonathan Isaac https://www.basketball-reference.com/players/i/isaacjo01/gamelog/2024\n"
     ]
    },
    {
     "name": "stderr",
     "output_type": "stream",
     "text": [
      " 43%|█████████████████████████████████▋                                            | 340/787 [31:22<1:04:54,  8.71s/it]"
     ]
    },
    {
     "name": "stdout",
     "output_type": "stream",
     "text": [
      "42 Jonathan Isaac https://www.basketball-reference.com/players/i/isaacjo01/gamelog/2023\n"
     ]
    },
    {
     "name": "stderr",
     "output_type": "stream",
     "text": [
      " 43%|██████████████████████████████████▋                                             | 341/787 [31:24<50:06,  6.74s/it]"
     ]
    },
    {
     "name": "stdout",
     "output_type": "stream",
     "text": [
      "42 Jaden Ivey https://www.basketball-reference.com/players/i/iveyja01/gamelog/2024\n"
     ]
    },
    {
     "name": "stderr",
     "output_type": "stream",
     "text": [
      " 43%|██████████████████████████████████▊                                             | 342/787 [31:25<38:40,  5.21s/it]"
     ]
    },
    {
     "name": "stdout",
     "output_type": "stream",
     "text": [
      "42 Wes Iwundu https://www.basketball-reference.com/players/i/iwundwe01/gamelog/2022\n",
      "42 Andre Jackson Jr. https://www.basketball-reference.com/players/j/jacksan01/gamelog/2024\n"
     ]
    },
    {
     "name": "stderr",
     "output_type": "stream",
     "text": [
      " 44%|██████████████████████████████████▉                                             | 344/787 [31:33<31:58,  4.33s/it]"
     ]
    },
    {
     "name": "stdout",
     "output_type": "stream",
     "text": [
      "43 Frank Jackson https://www.basketball-reference.com/players/j/jacksfr01/gamelog/2023\n"
     ]
    },
    {
     "name": "stderr",
     "output_type": "stream",
     "text": [
      " 44%|███████████████████████████████████                                             | 345/787 [31:35<27:08,  3.69s/it]"
     ]
    },
    {
     "name": "stdout",
     "output_type": "stream",
     "text": [
      "43 GG Jackson II https://www.basketball-reference.com/players/j/jacksgg01/gamelog/2024\n",
      "43 Isaiah Jackson https://www.basketball-reference.com/players/j/jacksis01/gamelog/2024\n"
     ]
    },
    {
     "name": "stderr",
     "output_type": "stream",
     "text": [
      " 44%|███████████████████████████████████▏                                            | 346/787 [31:45<40:06,  5.46s/it]"
     ]
    },
    {
     "name": "stdout",
     "output_type": "stream",
     "text": [
      "44 Isaiah Jackson https://www.basketball-reference.com/players/j/jacksis01/gamelog/2023\n"
     ]
    },
    {
     "name": "stderr",
     "output_type": "stream",
     "text": [
      " 44%|███████████████████████████████████▎                                            | 347/787 [31:46<31:11,  4.25s/it]"
     ]
    },
    {
     "name": "stdout",
     "output_type": "stream",
     "text": [
      "44 Jaren Jackson Jr. https://www.basketball-reference.com/players/j/jacksja02/gamelog/2024\n"
     ]
    },
    {
     "name": "stderr",
     "output_type": "stream",
     "text": [
      " 44%|███████████████████████████████████▎                                            | 348/787 [31:48<26:18,  3.60s/it]"
     ]
    },
    {
     "name": "stdout",
     "output_type": "stream",
     "text": [
      "44 Josh Jackson https://www.basketball-reference.com/players/j/jacksjo02/gamelog/2022\n"
     ]
    },
    {
     "name": "stderr",
     "output_type": "stream",
     "text": [
      " 44%|███████████████████████████████████▍                                            | 349/787 [31:50<22:13,  3.04s/it]"
     ]
    },
    {
     "name": "stdout",
     "output_type": "stream",
     "text": [
      "44 Justin Jackson https://www.basketball-reference.com/players/j/jacksju01/gamelog/2024\n"
     ]
    },
    {
     "name": "stderr",
     "output_type": "stream",
     "text": [
      " 44%|███████████████████████████████████▌                                            | 350/787 [31:52<19:19,  2.65s/it]"
     ]
    },
    {
     "name": "stdout",
     "output_type": "stream",
     "text": [
      "44 Quenton Jackson https://www.basketball-reference.com/players/j/jacksqu01/gamelog/2024\n",
      "44 Reggie Jackson https://www.basketball-reference.com/players/j/jacksre01/gamelog/2024\n",
      "45 Reggie Jackson https://www.basketball-reference.com/players/j/jacksre01/gamelog/2023\n"
     ]
    },
    {
     "name": "stderr",
     "output_type": "stream",
     "text": [
      " 45%|███████████████████████████████████▋                                            | 351/787 [32:08<49:37,  6.83s/it]"
     ]
    },
    {
     "name": "stdout",
     "output_type": "stream",
     "text": [
      "46 Reggie Jackson https://www.basketball-reference.com/players/j/jacksre01/gamelog/2022\n"
     ]
    },
    {
     "name": "stderr",
     "output_type": "stream",
     "text": [
      " 45%|███████████████████████████████████▊                                            | 352/787 [32:10<38:50,  5.36s/it]"
     ]
    },
    {
     "name": "stdout",
     "output_type": "stream",
     "text": [
      "46 Trayce Jackson-Davis https://www.basketball-reference.com/players/j/jackstr02/gamelog/2024\n"
     ]
    },
    {
     "name": "stderr",
     "output_type": "stream",
     "text": [
      " 45%|███████████████████████████████████▉                                            | 353/787 [32:12<31:48,  4.40s/it]"
     ]
    },
    {
     "name": "stdout",
     "output_type": "stream",
     "text": [
      "46 Justin James https://www.basketball-reference.com/players/j/jamesju01/gamelog/2021\n",
      "46 LeBron James https://www.basketball-reference.com/players/j/jamesle01/gamelog/2024\n",
      "47 LeBron James https://www.basketball-reference.com/players/j/jamesle01/gamelog/2023\n"
     ]
    },
    {
     "name": "stderr",
     "output_type": "stream",
     "text": [
      " 45%|███████████████████████████████████▉                                            | 354/787 [32:27<54:59,  7.62s/it]"
     ]
    },
    {
     "name": "stdout",
     "output_type": "stream",
     "text": [
      "48 LeBron James https://www.basketball-reference.com/players/j/jamesle01/gamelog/2022\n",
      "48 Jaime Jaquez Jr. https://www.basketball-reference.com/players/j/jaqueja01/gamelog/2024\n"
     ]
    },
    {
     "name": "stderr",
     "output_type": "stream",
     "text": [
      " 45%|████████████████████████████████████▏                                           | 356/787 [32:35<38:56,  5.42s/it]"
     ]
    },
    {
     "name": "stdout",
     "output_type": "stream",
     "text": [
      "49 DeJon Jarreau https://www.basketball-reference.com/players/j/jarrede01/gamelog/2024\n",
      "49 DaQuan Jeffries https://www.basketball-reference.com/players/j/jeffrda01/gamelog/2024\n",
      "50 DaQuan Jeffries https://www.basketball-reference.com/players/j/jeffrda01/gamelog/2023\n"
     ]
    },
    {
     "name": "stderr",
     "output_type": "stream",
     "text": [
      " 45%|████████████████████████████████████▎                                           | 357/787 [32:47<53:43,  7.50s/it]"
     ]
    },
    {
     "name": "stdout",
     "output_type": "stream",
     "text": [
      "51 DaQuan Jeffries https://www.basketball-reference.com/players/j/jeffrda01/gamelog/2022\n"
     ]
    },
    {
     "name": "stderr",
     "output_type": "stream",
     "text": [
      " 45%|████████████████████████████████████▍                                           | 358/787 [32:49<41:31,  5.81s/it]"
     ]
    },
    {
     "name": "stdout",
     "output_type": "stream",
     "text": [
      "51 Trey Jemison https://www.basketball-reference.com/players/j/jemistr01/gamelog/2024\n"
     ]
    },
    {
     "name": "stderr",
     "output_type": "stream",
     "text": [
      " 46%|████████████████████████████████████▍                                           | 359/787 [32:51<33:07,  4.64s/it]"
     ]
    },
    {
     "name": "stdout",
     "output_type": "stream",
     "text": [
      "51 John Jenkins https://www.basketball-reference.com/players/j/jenkijo01/gamelog/2019\n",
      "51 Ty Jerome https://www.basketball-reference.com/players/j/jeromty01/gamelog/2024\n",
      "52 Ty Jerome https://www.basketball-reference.com/players/j/jeromty01/gamelog/2023\n"
     ]
    },
    {
     "name": "stderr",
     "output_type": "stream",
     "text": [
      " 46%|████████████████████████████████████▌                                           | 360/787 [33:02<47:37,  6.69s/it]"
     ]
    },
    {
     "name": "stdout",
     "output_type": "stream",
     "text": [
      "53 Ty Jerome https://www.basketball-reference.com/players/j/jeromty01/gamelog/2022\n",
      "53 Isaiah Joe https://www.basketball-reference.com/players/j/joeis01/gamelog/2024\n"
     ]
    },
    {
     "name": "stderr",
     "output_type": "stream",
     "text": [
      " 46%|████████████████████████████████████▋                                           | 361/787 [33:11<51:25,  7.24s/it]"
     ]
    },
    {
     "name": "stdout",
     "output_type": "stream",
     "text": [
      "54 Isaiah Joe https://www.basketball-reference.com/players/j/joeis01/gamelog/2023\n"
     ]
    },
    {
     "name": "stderr",
     "output_type": "stream",
     "text": [
      " 46%|████████████████████████████████████▊                                           | 362/787 [33:12<39:26,  5.57s/it]"
     ]
    },
    {
     "name": "stdout",
     "output_type": "stream",
     "text": [
      "54 Alize Johnson https://www.basketball-reference.com/players/j/johnsal02/gamelog/2023\n"
     ]
    },
    {
     "name": "stderr",
     "output_type": "stream",
     "text": [
      " 46%|████████████████████████████████████▉                                           | 363/787 [33:14<31:55,  4.52s/it]"
     ]
    },
    {
     "name": "stdout",
     "output_type": "stream",
     "text": [
      "54 Cameron Johnson https://www.basketball-reference.com/players/j/johnsca02/gamelog/2024\n"
     ]
    },
    {
     "name": "stderr",
     "output_type": "stream",
     "text": [
      " 46%|█████████████████████████████████████                                           | 364/787 [33:16<26:20,  3.74s/it]"
     ]
    },
    {
     "name": "stdout",
     "output_type": "stream",
     "text": [
      "54 David Johnson https://www.basketball-reference.com/players/j/johnsda08/gamelog/2022\n"
     ]
    },
    {
     "name": "stderr",
     "output_type": "stream",
     "text": [
      " 46%|█████████████████████████████████████                                           | 365/787 [33:19<22:53,  3.25s/it]"
     ]
    },
    {
     "name": "stdout",
     "output_type": "stream",
     "text": [
      "54 Jalen Johnson https://www.basketball-reference.com/players/j/johnsja05/gamelog/2024\n",
      "54 James Johnson https://www.basketball-reference.com/players/j/johnsja01/gamelog/2024\n"
     ]
    },
    {
     "name": "stderr",
     "output_type": "stream",
     "text": [
      " 47%|█████████████████████████████████████▏                                          | 366/787 [33:26<32:02,  4.57s/it]"
     ]
    },
    {
     "name": "stdout",
     "output_type": "stream",
     "text": [
      "55 James Johnson https://www.basketball-reference.com/players/j/johnsja01/gamelog/2023\n"
     ]
    },
    {
     "name": "stderr",
     "output_type": "stream",
     "text": [
      " 47%|█████████████████████████████████████▎                                          | 367/787 [33:28<26:50,  3.83s/it]"
     ]
    },
    {
     "name": "stdout",
     "output_type": "stream",
     "text": [
      "55 Keldon Johnson https://www.basketball-reference.com/players/j/johnske04/gamelog/2024\n"
     ]
    },
    {
     "name": "stderr",
     "output_type": "stream",
     "text": [
      " 47%|█████████████████████████████████████▍                                          | 368/787 [33:30<22:47,  3.26s/it]"
     ]
    },
    {
     "name": "stdout",
     "output_type": "stream",
     "text": [
      "55 Keon Johnson https://www.basketball-reference.com/players/j/johnske07/gamelog/2024\n",
      "55 Keyontae Johnson https://www.basketball-reference.com/players/j/johnske08/gamelog/2024\n"
     ]
    },
    {
     "name": "stderr",
     "output_type": "stream",
     "text": [
      " 47%|█████████████████████████████████████▌                                          | 370/787 [33:37<22:00,  3.17s/it]"
     ]
    },
    {
     "name": "stdout",
     "output_type": "stream",
     "text": [
      "56 Stanley Johnson https://www.basketball-reference.com/players/j/johnsst04/gamelog/2023\n",
      "56 Nikola JokiÄ https://www.basketball-reference.com/players/j/jokicni01/gamelog/2024\n",
      "57 Nikola JokiÄ https://www.basketball-reference.com/players/j/jokicni01/gamelog/2023\n",
      "58 Nikola JokiÄ https://www.basketball-reference.com/players/j/jokicni01/gamelog/2022\n"
     ]
    },
    {
     "name": "stderr",
     "output_type": "stream",
     "text": [
      " 47%|█████████████████████████████████████▊                                          | 372/787 [34:00<46:21,  6.70s/it]"
     ]
    },
    {
     "name": "stdout",
     "output_type": "stream",
     "text": [
      "59 Carlik Jones https://www.basketball-reference.com/players/j/jonesca03/gamelog/2023\n"
     ]
    },
    {
     "name": "stderr",
     "output_type": "stream",
     "text": [
      " 47%|█████████████████████████████████████▉                                          | 373/787 [34:02<36:29,  5.29s/it]"
     ]
    },
    {
     "name": "stdout",
     "output_type": "stream",
     "text": [
      "59 Colby Jones https://www.basketball-reference.com/players/j/jonesco02/gamelog/2024\n",
      "59 Damian Jones https://www.basketball-reference.com/players/j/jonesda03/gamelog/2024\n"
     ]
    },
    {
     "name": "stderr",
     "output_type": "stream",
     "text": [
      " 48%|██████████████████████████████████████                                          | 374/787 [34:10<40:43,  5.92s/it]"
     ]
    },
    {
     "name": "stdout",
     "output_type": "stream",
     "text": [
      "60 Damian Jones https://www.basketball-reference.com/players/j/jonesda03/gamelog/2023\n",
      "60 Derrick Jones Jr. https://www.basketball-reference.com/players/j/jonesde02/gamelog/2024\n"
     ]
    },
    {
     "name": "stderr",
     "output_type": "stream",
     "text": [
      " 48%|██████████████████████████████████████                                          | 375/787 [34:21<52:04,  7.58s/it]"
     ]
    },
    {
     "name": "stdout",
     "output_type": "stream",
     "text": [
      "61 Derrick Jones Jr. https://www.basketball-reference.com/players/j/jonesde02/gamelog/2023\n",
      "61 Herbert Jones https://www.basketball-reference.com/players/j/joneshe01/gamelog/2024\n"
     ]
    },
    {
     "name": "stderr",
     "output_type": "stream",
     "text": [
      " 48%|██████████████████████████████████████▏                                         | 376/787 [34:29<52:04,  7.60s/it]"
     ]
    },
    {
     "name": "stdout",
     "output_type": "stream",
     "text": [
      "62 Herbert Jones https://www.basketball-reference.com/players/j/joneshe01/gamelog/2023\n"
     ]
    },
    {
     "name": "stderr",
     "output_type": "stream",
     "text": [
      " 48%|██████████████████████████████████████▎                                         | 377/787 [34:30<39:48,  5.83s/it]"
     ]
    },
    {
     "name": "stdout",
     "output_type": "stream",
     "text": [
      "62 Jemerrio Jones https://www.basketball-reference.com/players/j/jonesje01/gamelog/2022\n"
     ]
    },
    {
     "name": "stderr",
     "output_type": "stream",
     "text": [
      " 48%|██████████████████████████████████████▍                                         | 378/787 [34:32<31:41,  4.65s/it]"
     ]
    },
    {
     "name": "stdout",
     "output_type": "stream",
     "text": [
      "62 Kai Jones https://www.basketball-reference.com/players/j/joneska01/gamelog/2023\n"
     ]
    },
    {
     "name": "stderr",
     "output_type": "stream",
     "text": [
      " 48%|██████████████████████████████████████▌                                         | 379/787 [34:34<25:58,  3.82s/it]"
     ]
    },
    {
     "name": "stdout",
     "output_type": "stream",
     "text": [
      "62 Mason Jones https://www.basketball-reference.com/players/j/jonesma05/gamelog/2024\n"
     ]
    },
    {
     "name": "stderr",
     "output_type": "stream",
     "text": [
      " 48%|██████████████████████████████████████▋                                         | 380/787 [34:36<22:30,  3.32s/it]"
     ]
    },
    {
     "name": "stdout",
     "output_type": "stream",
     "text": [
      "62 Tre Jones https://www.basketball-reference.com/players/j/jonestr01/gamelog/2024\n"
     ]
    },
    {
     "name": "stderr",
     "output_type": "stream",
     "text": [
      " 48%|██████████████████████████████████████▋                                         | 381/787 [34:39<20:17,  3.00s/it]"
     ]
    },
    {
     "name": "stdout",
     "output_type": "stream",
     "text": [
      "62 Tyus Jones https://www.basketball-reference.com/players/j/jonesty01/gamelog/2024\n",
      "62 DeAndre Jordan https://www.basketball-reference.com/players/j/jordade01/gamelog/2024\n",
      "63 DeAndre Jordan https://www.basketball-reference.com/players/j/jordade01/gamelog/2023\n",
      "64 DeAndre Jordan https://www.basketball-reference.com/players/j/jordade01/gamelog/2022\n"
     ]
    },
    {
     "name": "stderr",
     "output_type": "stream",
     "text": [
      " 49%|██████████████████████████████████████▉                                         | 383/787 [34:57<37:09,  5.52s/it]"
     ]
    },
    {
     "name": "stdout",
     "output_type": "stream",
     "text": [
      "65 Cory Joseph https://www.basketball-reference.com/players/j/josepco01/gamelog/2024\n",
      "65 Nikola JoviÄ https://www.basketball-reference.com/players/j/jovicni01/gamelog/2024\n",
      "66 Nikola JoviÄ https://www.basketball-reference.com/players/j/jovicni01/gamelog/2023\n"
     ]
    },
    {
     "name": "stderr",
     "output_type": "stream",
     "text": [
      " 49%|███████████████████████████████████████▏                                        | 385/787 [35:10<38:49,  5.80s/it]"
     ]
    },
    {
     "name": "stdout",
     "output_type": "stream",
     "text": [
      "67 Johnny Juzang https://www.basketball-reference.com/players/j/juzanjo01/gamelog/2024\n"
     ]
    },
    {
     "name": "stderr",
     "output_type": "stream",
     "text": [
      " 49%|███████████████████████████████████████▏                                        | 386/787 [35:12<30:45,  4.60s/it]"
     ]
    },
    {
     "name": "stdout",
     "output_type": "stream",
     "text": [
      "67 Mfiondu Kabengele https://www.basketball-reference.com/players/k/kabenmf01/gamelog/2023\n"
     ]
    },
    {
     "name": "stderr",
     "output_type": "stream",
     "text": [
      " 49%|███████████████████████████████████████▎                                        | 387/787 [35:14<25:36,  3.84s/it]"
     ]
    },
    {
     "name": "stdout",
     "output_type": "stream",
     "text": [
      "67 Frank Kaminsky https://www.basketball-reference.com/players/k/kaminfr01/gamelog/2023\n",
      "67 Trevor Keels https://www.basketball-reference.com/players/k/keelstr01/gamelog/2023\n"
     ]
    },
    {
     "name": "stderr",
     "output_type": "stream",
     "text": [
      " 49%|███████████████████████████████████████▌                                        | 389/787 [35:21<23:13,  3.50s/it]"
     ]
    },
    {
     "name": "stdout",
     "output_type": "stream",
     "text": [
      "68 Luke Kennard https://www.basketball-reference.com/players/k/kennalu01/gamelog/2024\n"
     ]
    },
    {
     "name": "stderr",
     "output_type": "stream",
     "text": [
      " 50%|███████████████████████████████████████▋                                        | 390/787 [35:23<20:10,  3.05s/it]"
     ]
    },
    {
     "name": "stdout",
     "output_type": "stream",
     "text": [
      "68 Walker Kessler https://www.basketball-reference.com/players/k/kesslwa01/gamelog/2024\n",
      "68 Braxton Key https://www.basketball-reference.com/players/k/keybr01/gamelog/2024\n"
     ]
    },
    {
     "name": "stderr",
     "output_type": "stream",
     "text": [
      " 50%|███████████████████████████████████████▋                                        | 391/787 [35:39<45:40,  6.92s/it]"
     ]
    },
    {
     "name": "stdout",
     "output_type": "stream",
     "text": [
      "69 Braxton Key https://www.basketball-reference.com/players/k/keybr01/gamelog/2023\n"
     ]
    },
    {
     "name": "stderr",
     "output_type": "stream",
     "text": [
      " 50%|██████████████████████████████████████▊                                       | 392/787 [35:56<1:05:17,  9.92s/it]"
     ]
    },
    {
     "name": "stdout",
     "output_type": "stream",
     "text": [
      "69 George King https://www.basketball-reference.com/players/k/kingge03/gamelog/2022\n",
      "69 Louis King https://www.basketball-reference.com/players/k/kinglo02/gamelog/2023\n"
     ]
    },
    {
     "name": "stderr",
     "output_type": "stream",
     "text": [
      " 50%|███████████████████████████████████████▉                                        | 393/787 [36:02<58:23,  8.89s/it]"
     ]
    },
    {
     "name": "stdout",
     "output_type": "stream",
     "text": [
      "70 Louis King https://www.basketball-reference.com/players/k/kinglo02/gamelog/2022\n"
     ]
    },
    {
     "name": "stderr",
     "output_type": "stream",
     "text": [
      " 50%|████████████████████████████████████████                                        | 394/787 [36:05<45:24,  6.93s/it]"
     ]
    },
    {
     "name": "stdout",
     "output_type": "stream",
     "text": [
      "70 Corey Kispert https://www.basketball-reference.com/players/k/kispeco01/gamelog/2024\n",
      "70 Maxi Kleber https://www.basketball-reference.com/players/k/klebima01/gamelog/2024\n"
     ]
    },
    {
     "name": "stderr",
     "output_type": "stream",
     "text": [
      " 50%|████████████████████████████████████████▏                                       | 395/787 [36:14<50:21,  7.71s/it]"
     ]
    },
    {
     "name": "stdout",
     "output_type": "stream",
     "text": [
      "71 Maxi Kleber https://www.basketball-reference.com/players/k/klebima01/gamelog/2023\n",
      "71 Nathan Knight https://www.basketball-reference.com/players/k/knighna01/gamelog/2023\n"
     ]
    },
    {
     "name": "stderr",
     "output_type": "stream",
     "text": [
      " 50%|████████████████████████████████████████▎                                       | 396/787 [36:22<49:55,  7.66s/it]"
     ]
    },
    {
     "name": "stdout",
     "output_type": "stream",
     "text": [
      "72 Nathan Knight https://www.basketball-reference.com/players/k/knighna01/gamelog/2022\n"
     ]
    },
    {
     "name": "stderr",
     "output_type": "stream",
     "text": [
      " 50%|████████████████████████████████████████▎                                       | 397/787 [36:24<38:50,  5.98s/it]"
     ]
    },
    {
     "name": "stdout",
     "output_type": "stream",
     "text": [
      "72 Kevin Knox https://www.basketball-reference.com/players/k/knoxke01/gamelog/2024\n"
     ]
    },
    {
     "name": "stderr",
     "output_type": "stream",
     "text": [
      " 51%|████████████████████████████████████████▍                                       | 398/787 [36:26<31:13,  4.81s/it]"
     ]
    },
    {
     "name": "stdout",
     "output_type": "stream",
     "text": [
      "72 Christian Koloko https://www.basketball-reference.com/players/k/kolokch01/gamelog/2023\n"
     ]
    },
    {
     "name": "stderr",
     "output_type": "stream",
     "text": [
      " 51%|████████████████████████████████████████▌                                       | 399/787 [36:28<25:45,  3.98s/it]"
     ]
    },
    {
     "name": "stdout",
     "output_type": "stream",
     "text": [
      "72 John Konchar https://www.basketball-reference.com/players/k/konchjo01/gamelog/2024\n"
     ]
    },
    {
     "name": "stderr",
     "output_type": "stream",
     "text": [
      " 51%|████████████████████████████████████████▋                                       | 400/787 [36:31<23:00,  3.57s/it]"
     ]
    },
    {
     "name": "stdout",
     "output_type": "stream",
     "text": [
      "72 Furkan Korkmaz https://www.basketball-reference.com/players/k/korkmfu01/gamelog/2024\n",
      "72 Luke Kornet https://www.basketball-reference.com/players/k/kornelu01/gamelog/2024\n",
      "73 Luke Kornet https://www.basketball-reference.com/players/k/kornelu01/gamelog/2023\n",
      "74 Luke Kornet https://www.basketball-reference.com/players/k/kornelu01/gamelog/2022\n"
     ]
    },
    {
     "name": "stderr",
     "output_type": "stream",
     "text": [
      " 51%|████████████████████████████████████████▊                                       | 402/787 [36:53<43:20,  6.75s/it]"
     ]
    },
    {
     "name": "stdout",
     "output_type": "stream",
     "text": [
      "75 Vit Krejci https://www.basketball-reference.com/players/k/krejcvi01/gamelog/2024\n"
     ]
    },
    {
     "name": "stderr",
     "output_type": "stream",
     "text": [
      " 51%|████████████████████████████████████████▉                                       | 403/787 [36:55<34:25,  5.38s/it]"
     ]
    },
    {
     "name": "stdout",
     "output_type": "stream",
     "text": [
      "75 Jonathan Kuminga https://www.basketball-reference.com/players/k/kuminjo01/gamelog/2024\n"
     ]
    },
    {
     "name": "stderr",
     "output_type": "stream",
     "text": [
      " 51%|█████████████████████████████████████████                                       | 404/787 [36:58<28:16,  4.43s/it]"
     ]
    },
    {
     "name": "stdout",
     "output_type": "stream",
     "text": [
      "75 Kyle Kuzma https://www.basketball-reference.com/players/k/kuzmaky01/gamelog/2024\n",
      "75 Jake LaRavia https://www.basketball-reference.com/players/l/laravja01/gamelog/2024\n"
     ]
    },
    {
     "name": "stderr",
     "output_type": "stream",
     "text": [
      " 52%|█████████████████████████████████████████▎                                      | 406/787 [37:01<20:01,  3.15s/it]"
     ]
    },
    {
     "name": "stdout",
     "output_type": "stream",
     "text": [
      "75 Zach LaVine https://www.basketball-reference.com/players/l/lavinza01/gamelog/2024\n",
      "75 Anthony Lamb https://www.basketball-reference.com/players/l/lamban01/gamelog/2023\n"
     ]
    },
    {
     "name": "stderr",
     "output_type": "stream",
     "text": [
      " 52%|█████████████████████████████████████████▎                                      | 407/787 [37:10<29:20,  4.63s/it]"
     ]
    },
    {
     "name": "stdout",
     "output_type": "stream",
     "text": [
      "76 Anthony Lamb https://www.basketball-reference.com/players/l/lamban01/gamelog/2022\n"
     ]
    },
    {
     "name": "stderr",
     "output_type": "stream",
     "text": [
      " 52%|█████████████████████████████████████████▍                                      | 408/787 [37:12<24:23,  3.86s/it]"
     ]
    },
    {
     "name": "stdout",
     "output_type": "stream",
     "text": [
      "76 Jeremy Lamb https://www.basketball-reference.com/players/l/lambje01/gamelog/2022\n"
     ]
    },
    {
     "name": "stderr",
     "output_type": "stream",
     "text": [
      " 52%|█████████████████████████████████████████▌                                      | 409/787 [37:14<20:56,  3.32s/it]"
     ]
    },
    {
     "name": "stdout",
     "output_type": "stream",
     "text": [
      "76 Jock Landale https://www.basketball-reference.com/players/l/landajo01/gamelog/2024\n"
     ]
    },
    {
     "name": "stderr",
     "output_type": "stream",
     "text": [
      " 52%|█████████████████████████████████████████▋                                      | 410/787 [37:16<18:10,  2.89s/it]"
     ]
    },
    {
     "name": "stdout",
     "output_type": "stream",
     "text": [
      "76 Romeo Langford https://www.basketball-reference.com/players/l/langfro01/gamelog/2023\n",
      "76 A.J. Lawson https://www.basketball-reference.com/players/l/lawsoaj01/gamelog/2024\n"
     ]
    },
    {
     "name": "stderr",
     "output_type": "stream",
     "text": [
      " 52%|█████████████████████████████████████████▊                                      | 411/787 [37:24<29:00,  4.63s/it]"
     ]
    },
    {
     "name": "stdout",
     "output_type": "stream",
     "text": [
      "77 A.J. Lawson https://www.basketball-reference.com/players/l/lawsoaj01/gamelog/2023\n",
      "77 Jake Layman https://www.basketball-reference.com/players/l/laymaja01/gamelog/2022\n"
     ]
    },
    {
     "name": "stderr",
     "output_type": "stream",
     "text": [
      " 52%|█████████████████████████████████████████▉                                      | 412/787 [37:31<33:00,  5.28s/it]"
     ]
    },
    {
     "name": "stdout",
     "output_type": "stream",
     "text": [
      "78 Jake Layman https://www.basketball-reference.com/players/l/laymaja01/gamelog/2021\n",
      "78 Caris LeVert https://www.basketball-reference.com/players/l/leverca01/gamelog/2024\n",
      "79 Caris LeVert https://www.basketball-reference.com/players/l/leverca01/gamelog/2023\n"
     ]
    },
    {
     "name": "stderr",
     "output_type": "stream",
     "text": [
      " 52%|█████████████████████████████████████████▉                                      | 413/787 [37:45<49:09,  7.89s/it]"
     ]
    },
    {
     "name": "stdout",
     "output_type": "stream",
     "text": [
      "80 Caris LeVert https://www.basketball-reference.com/players/l/leverca01/gamelog/2022\n"
     ]
    },
    {
     "name": "stderr",
     "output_type": "stream",
     "text": [
      " 53%|██████████████████████████████████████████                                      | 414/787 [37:47<37:53,  6.10s/it]"
     ]
    },
    {
     "name": "stdout",
     "output_type": "stream",
     "text": [
      "80 Jalen Lecque https://www.basketball-reference.com/players/l/lecquja01/gamelog/2021\n",
      "80 Damion Lee https://www.basketball-reference.com/players/l/leeda03/gamelog/2023\n",
      "81 Damion Lee https://www.basketball-reference.com/players/l/leeda03/gamelog/2022\n"
     ]
    },
    {
     "name": "stderr",
     "output_type": "stream",
     "text": [
      " 53%|██████████████████████████████████████████▏                                     | 415/787 [38:03<56:44,  9.15s/it]"
     ]
    },
    {
     "name": "stdout",
     "output_type": "stream",
     "text": [
      "82 Damion Lee https://www.basketball-reference.com/players/l/leeda03/gamelog/2021\n"
     ]
    },
    {
     "name": "stderr",
     "output_type": "stream",
     "text": [
      " 53%|██████████████████████████████████████████▎                                     | 416/787 [38:05<43:32,  7.04s/it]"
     ]
    },
    {
     "name": "stdout",
     "output_type": "stream",
     "text": [
      "82 Saben Lee https://www.basketball-reference.com/players/l/leesa01/gamelog/2024\n"
     ]
    },
    {
     "name": "stderr",
     "output_type": "stream",
     "text": [
      " 53%|██████████████████████████████████████████▍                                     | 417/787 [38:07<34:23,  5.58s/it]"
     ]
    },
    {
     "name": "stdout",
     "output_type": "stream",
     "text": [
      "82 Alex Len https://www.basketball-reference.com/players/l/lenal01/gamelog/2024\n",
      "82 Kawhi Leonard https://www.basketball-reference.com/players/l/leonaka01/gamelog/2024\n",
      "83 Kawhi Leonard https://www.basketball-reference.com/players/l/leonaka01/gamelog/2023\n"
     ]
    },
    {
     "name": "stderr",
     "output_type": "stream",
     "text": [
      " 53%|██████████████████████████████████████████▍                                     | 418/787 [38:21<48:17,  7.85s/it]"
     ]
    },
    {
     "name": "stdout",
     "output_type": "stream",
     "text": [
      "84 Kawhi Leonard https://www.basketball-reference.com/players/l/leonaka01/gamelog/2022\n",
      "84 Meyers Leonard https://www.basketball-reference.com/players/l/leoname01/gamelog/2023\n"
     ]
    },
    {
     "name": "stderr",
     "output_type": "stream",
     "text": [
      " 53%|██████████████████████████████████████████▌                                     | 419/787 [38:27<45:28,  7.42s/it]"
     ]
    },
    {
     "name": "stdout",
     "output_type": "stream",
     "text": [
      "85 Meyers Leonard https://www.basketball-reference.com/players/l/leoname01/gamelog/2022\n"
     ]
    },
    {
     "name": "stderr",
     "output_type": "stream",
     "text": [
      " 53%|██████████████████████████████████████████▋                                     | 420/787 [38:29<35:17,  5.77s/it]"
     ]
    },
    {
     "name": "stdout",
     "output_type": "stream",
     "text": [
      "85 Kira Lewis Jr. https://www.basketball-reference.com/players/l/lewiski01/gamelog/2024\n",
      "85 Maxwell Lewis https://www.basketball-reference.com/players/l/lewisma05/gamelog/2024\n"
     ]
    },
    {
     "name": "stderr",
     "output_type": "stream",
     "text": [
      " 53%|██████████████████████████████████████████▊                                     | 421/787 [38:33<32:48,  5.38s/it]"
     ]
    },
    {
     "name": "stdout",
     "output_type": "stream",
     "text": [
      "86 E.J. Liddell https://www.basketball-reference.com/players/l/liddeej01/gamelog/2024\n"
     ]
    },
    {
     "name": "stderr",
     "output_type": "stream",
     "text": [
      " 54%|██████████████████████████████████████████▉                                     | 422/787 [38:38<31:24,  5.16s/it]"
     ]
    },
    {
     "name": "stdout",
     "output_type": "stream",
     "text": [
      "87 Damian Lillard https://www.basketball-reference.com/players/l/lillada01/gamelog/2024\n"
     ]
    },
    {
     "name": "stderr",
     "output_type": "stream",
     "text": [
      " 54%|██████████████████████████████████████████▉                                     | 423/787 [38:46<36:53,  6.08s/it]"
     ]
    },
    {
     "name": "stdout",
     "output_type": "stream",
     "text": [
      "88 Damian Lillard https://www.basketball-reference.com/players/l/lillada01/gamelog/2023\n",
      "88 Nassir Little https://www.basketball-reference.com/players/l/littlna01/gamelog/2024\n"
     ]
    },
    {
     "name": "stderr",
     "output_type": "stream",
     "text": [
      " 54%|███████████████████████████████████████████                                     | 424/787 [38:54<39:54,  6.60s/it]"
     ]
    },
    {
     "name": "stdout",
     "output_type": "stream",
     "text": [
      "89 Nassir Little https://www.basketball-reference.com/players/l/littlna01/gamelog/2023\n",
      "89 Dereck Lively II https://www.basketball-reference.com/players/l/livelde01/gamelog/2024\n"
     ]
    },
    {
     "name": "stderr",
     "output_type": "stream",
     "text": [
      " 54%|███████████████████████████████████████████▎                                    | 426/787 [39:05<34:53,  5.80s/it]"
     ]
    },
    {
     "name": "stdout",
     "output_type": "stream",
     "text": [
      "0 Isaiah Livers https://www.basketball-reference.com/players/l/liveris01/gamelog/2024\n",
      "0 Chris Livingston https://www.basketball-reference.com/players/l/livinch01/gamelog/2024\n"
     ]
    },
    {
     "name": "stderr",
     "output_type": "stream",
     "text": [
      " 54%|███████████████████████████████████████████▌                                    | 428/787 [39:12<27:33,  4.61s/it]"
     ]
    },
    {
     "name": "stdout",
     "output_type": "stream",
     "text": [
      "1 Kenneth Lofton Jr. https://www.basketball-reference.com/players/l/loftoke01/gamelog/2024\n"
     ]
    },
    {
     "name": "stderr",
     "output_type": "stream",
     "text": [
      " 55%|███████████████████████████████████████████▌                                    | 429/787 [39:15<22:53,  3.84s/it]"
     ]
    },
    {
     "name": "stdout",
     "output_type": "stream",
     "text": [
      "1 Kevon Looney https://www.basketball-reference.com/players/l/looneke01/gamelog/2024\n",
      "1 Brook Lopez https://www.basketball-reference.com/players/l/lopezbr01/gamelog/2024\n",
      "2 Brook Lopez https://www.basketball-reference.com/players/l/lopezbr01/gamelog/2023\n",
      "3 Brook Lopez https://www.basketball-reference.com/players/l/lopezbr01/gamelog/2022\n"
     ]
    },
    {
     "name": "stderr",
     "output_type": "stream",
     "text": [
      " 55%|███████████████████████████████████████████▊                                    | 431/787 [39:37<40:19,  6.80s/it]"
     ]
    },
    {
     "name": "stdout",
     "output_type": "stream",
     "text": [
      "4 Robin Lopez https://www.basketball-reference.com/players/l/lopezro01/gamelog/2024\n"
     ]
    },
    {
     "name": "stderr",
     "output_type": "stream",
     "text": [
      " 55%|███████████████████████████████████████████▉                                    | 432/787 [39:39<31:21,  5.30s/it]"
     ]
    },
    {
     "name": "stdout",
     "output_type": "stream",
     "text": [
      "4 Didi Louzada https://www.basketball-reference.com/players/l/louzama01/gamelog/2022\n",
      "4 Kevin Love https://www.basketball-reference.com/players/l/loveke01/gamelog/2024\n",
      "5 Kevin Love https://www.basketball-reference.com/players/l/loveke01/gamelog/2023\n"
     ]
    },
    {
     "name": "stderr",
     "output_type": "stream",
     "text": [
      " 55%|████████████████████████████████████████████                                    | 433/787 [39:55<50:31,  8.56s/it]"
     ]
    },
    {
     "name": "stdout",
     "output_type": "stream",
     "text": [
      "6 Kevin Love https://www.basketball-reference.com/players/l/loveke01/gamelog/2022\n",
      "6 Kyle Lowry https://www.basketball-reference.com/players/l/lowryky01/gamelog/2024\n",
      "7 Kyle Lowry https://www.basketball-reference.com/players/l/lowryky01/gamelog/2023\n",
      "8 Kyle Lowry https://www.basketball-reference.com/players/l/lowryky01/gamelog/2022\n"
     ]
    },
    {
     "name": "stderr",
     "output_type": "stream",
     "text": [
      " 55%|████████████████████████████████████████████▏                                   | 435/787 [40:19<55:48,  9.51s/it]"
     ]
    },
    {
     "name": "stdout",
     "output_type": "stream",
     "text": [
      "9 Seth Lundy https://www.basketball-reference.com/players/l/lundyse01/gamelog/2024\n",
      "9 TimothÃ© Luwawu-Cabarrot https://www.basketball-reference.com/players/l/luwawti01/gamelog/2022\n",
      "10 TimothÃ© Luwawu-Cabarrot https://www.basketball-reference.com/players/l/luwawti01/gamelog/2021\n",
      "11 TimothÃ© Luwawu-Cabarrot https://www.basketball-reference.com/players/l/luwawti01/gamelog/2020\n"
     ]
    },
    {
     "name": "stderr",
     "output_type": "stream",
     "text": [
      " 56%|████████████████████████████████████████████▍                                   | 437/787 [40:38<52:08,  8.94s/it]"
     ]
    },
    {
     "name": "stdout",
     "output_type": "stream",
     "text": [
      "12 Trey Lyles https://www.basketball-reference.com/players/l/lylestr01/gamelog/2024\n",
      "12 ThÃ©o Maledon https://www.basketball-reference.com/players/m/maledth01/gamelog/2024\n"
     ]
    },
    {
     "name": "stderr",
     "output_type": "stream",
     "text": [
      " 56%|████████████████████████████████████████████▋                                   | 439/787 [40:42<31:28,  5.43s/it]"
     ]
    },
    {
     "name": "stdout",
     "output_type": "stream",
     "text": [
      "12 Sandro Mamukelashvili https://www.basketball-reference.com/players/m/mamuksa01/gamelog/2024\n"
     ]
    },
    {
     "name": "stderr",
     "output_type": "stream",
     "text": [
      " 56%|████████████████████████████████████████████▋                                   | 440/787 [40:44<25:25,  4.40s/it]"
     ]
    },
    {
     "name": "stdout",
     "output_type": "stream",
     "text": [
      "12 Karim ManÃ© https://www.basketball-reference.com/players/m/maneka01/gamelog/2021\n",
      "12 Terance Mann https://www.basketball-reference.com/players/m/mannte01/gamelog/2024\n",
      "13 Terance Mann https://www.basketball-reference.com/players/m/mannte01/gamelog/2023\n"
     ]
    },
    {
     "name": "stderr",
     "output_type": "stream",
     "text": [
      " 56%|████████████████████████████████████████████▊                                   | 441/787 [40:59<42:18,  7.34s/it]"
     ]
    },
    {
     "name": "stdout",
     "output_type": "stream",
     "text": [
      "14 Terance Mann https://www.basketball-reference.com/players/m/mannte01/gamelog/2022\n"
     ]
    },
    {
     "name": "stderr",
     "output_type": "stream",
     "text": [
      " 56%|████████████████████████████████████████████▉                                   | 442/787 [41:00<32:42,  5.69s/it]"
     ]
    },
    {
     "name": "stdout",
     "output_type": "stream",
     "text": [
      "14 Tre Mann https://www.basketball-reference.com/players/m/manntr01/gamelog/2024\n"
     ]
    },
    {
     "name": "stderr",
     "output_type": "stream",
     "text": [
      " 56%|█████████████████████████████████████████████                                   | 443/787 [41:02<25:58,  4.53s/it]"
     ]
    },
    {
     "name": "stdout",
     "output_type": "stream",
     "text": [
      "14 Nico Mannion https://www.basketball-reference.com/players/m/mannini01/gamelog/2021\n"
     ]
    },
    {
     "name": "stderr",
     "output_type": "stream",
     "text": [
      " 56%|█████████████████████████████████████████████▏                                  | 444/787 [41:05<21:58,  3.84s/it]"
     ]
    },
    {
     "name": "stdout",
     "output_type": "stream",
     "text": [
      "14 Boban MarjanoviÄ https://www.basketball-reference.com/players/m/marjabo01/gamelog/2024\n"
     ]
    },
    {
     "name": "stderr",
     "output_type": "stream",
     "text": [
      " 57%|█████████████████████████████████████████████▏                                  | 445/787 [41:06<17:59,  3.16s/it]"
     ]
    },
    {
     "name": "stdout",
     "output_type": "stream",
     "text": [
      "14 Lauri Markkanen https://www.basketball-reference.com/players/m/markkla01/gamelog/2024\n",
      "14 Naji Marshall https://www.basketball-reference.com/players/m/marshna01/gamelog/2024\n"
     ]
    },
    {
     "name": "stderr",
     "output_type": "stream",
     "text": [
      " 57%|█████████████████████████████████████████████▎                                  | 446/787 [41:14<26:08,  4.60s/it]"
     ]
    },
    {
     "name": "stdout",
     "output_type": "stream",
     "text": [
      "15 Naji Marshall https://www.basketball-reference.com/players/m/marshna01/gamelog/2023\n",
      "15 Caleb Martin https://www.basketball-reference.com/players/m/martica02/gamelog/2024\n",
      "16 Caleb Martin https://www.basketball-reference.com/players/m/martica02/gamelog/2023\n",
      "17 Caleb Martin https://www.basketball-reference.com/players/m/martica02/gamelog/2022\n"
     ]
    },
    {
     "name": "stderr",
     "output_type": "stream",
     "text": [
      " 57%|█████████████████████████████████████████████▌                                  | 448/787 [41:39<43:23,  7.68s/it]"
     ]
    },
    {
     "name": "stdout",
     "output_type": "stream",
     "text": [
      "18 Cody Martin https://www.basketball-reference.com/players/m/martico01/gamelog/2024\n"
     ]
    },
    {
     "name": "stderr",
     "output_type": "stream",
     "text": [
      " 57%|█████████████████████████████████████████████▋                                  | 449/787 [41:41<33:15,  5.90s/it]"
     ]
    },
    {
     "name": "stdout",
     "output_type": "stream",
     "text": [
      "18 Kelan Martin https://www.basketball-reference.com/players/m/martike03/gamelog/2022\n",
      "18 KJ Martin https://www.basketball-reference.com/players/m/martike04/gamelog/2024\n"
     ]
    },
    {
     "name": "stderr",
     "output_type": "stream",
     "text": [
      " 57%|█████████████████████████████████████████████▋                                  | 450/787 [41:48<35:13,  6.27s/it]"
     ]
    },
    {
     "name": "stdout",
     "output_type": "stream",
     "text": [
      "19 KJ Martin https://www.basketball-reference.com/players/m/martike04/gamelog/2023\n",
      "19 Tyrese Martin https://www.basketball-reference.com/players/m/martity01/gamelog/2023\n"
     ]
    },
    {
     "name": "stderr",
     "output_type": "stream",
     "text": [
      " 57%|█████████████████████████████████████████████▉                                  | 452/787 [41:54<26:00,  4.66s/it]"
     ]
    },
    {
     "name": "stdout",
     "output_type": "stream",
     "text": [
      "20 Garrison Mathews https://www.basketball-reference.com/players/m/mathega01/gamelog/2024\n"
     ]
    },
    {
     "name": "stderr",
     "output_type": "stream",
     "text": [
      " 58%|██████████████████████████████████████████████                                  | 453/787 [41:56<21:09,  3.80s/it]"
     ]
    },
    {
     "name": "stdout",
     "output_type": "stream",
     "text": [
      "20 Dakota Mathias https://www.basketball-reference.com/players/m/mathida01/gamelog/2022\n",
      "20 Bennedict Mathurin https://www.basketball-reference.com/players/m/mathube01/gamelog/2024\n"
     ]
    },
    {
     "name": "stderr",
     "output_type": "stream",
     "text": [
      " 58%|██████████████████████████████████████████████▏                                 | 454/787 [42:03<26:02,  4.69s/it]"
     ]
    },
    {
     "name": "stdout",
     "output_type": "stream",
     "text": [
      "21 Bennedict Mathurin https://www.basketball-reference.com/players/m/mathube01/gamelog/2023\n"
     ]
    },
    {
     "name": "stderr",
     "output_type": "stream",
     "text": [
      " 58%|██████████████████████████████████████████████▎                                 | 455/787 [42:05<21:38,  3.91s/it]"
     ]
    },
    {
     "name": "stdout",
     "output_type": "stream",
     "text": [
      "21 Wesley Matthews https://www.basketball-reference.com/players/m/matthwe02/gamelog/2024\n",
      "21 Tyrese Maxey https://www.basketball-reference.com/players/m/maxeyty01/gamelog/2024\n",
      "22 Tyrese Maxey https://www.basketball-reference.com/players/m/maxeyty01/gamelog/2023\n",
      "23 Tyrese Maxey https://www.basketball-reference.com/players/m/maxeyty01/gamelog/2022\n"
     ]
    },
    {
     "name": "stderr",
     "output_type": "stream",
     "text": [
      " 58%|██████████████████████████████████████████████▍                                 | 457/787 [42:26<36:24,  6.62s/it]"
     ]
    },
    {
     "name": "stdout",
     "output_type": "stream",
     "text": [
      "24 Skylar Mays https://www.basketball-reference.com/players/m/mayssk01/gamelog/2024\n",
      "24 Miles McBride https://www.basketball-reference.com/players/m/mcbrimi01/gamelog/2024\n",
      "25 Miles McBride https://www.basketball-reference.com/players/m/mcbrimi01/gamelog/2023\n"
     ]
    },
    {
     "name": "stderr",
     "output_type": "stream",
     "text": [
      " 58%|██████████████████████████████████████████████▌                                 | 458/787 [42:42<50:58,  9.30s/it]"
     ]
    },
    {
     "name": "stdout",
     "output_type": "stream",
     "text": [
      "26 Miles McBride https://www.basketball-reference.com/players/m/mcbrimi01/gamelog/2022\n"
     ]
    },
    {
     "name": "stderr",
     "output_type": "stream",
     "text": [
      " 58%|██████████████████████████████████████████████▋                                 | 459/787 [42:43<38:22,  7.02s/it]"
     ]
    },
    {
     "name": "stdout",
     "output_type": "stream",
     "text": [
      "26 Patrick McCaw https://www.basketball-reference.com/players/m/mccawpa01/gamelog/2021\n",
      "26 Mac McClung https://www.basketball-reference.com/players/m/mccluma01/gamelog/2023\n"
     ]
    },
    {
     "name": "stderr",
     "output_type": "stream",
     "text": [
      " 58%|██████████████████████████████████████████████▊                                 | 460/787 [42:49<36:35,  6.71s/it]"
     ]
    },
    {
     "name": "stdout",
     "output_type": "stream",
     "text": [
      "27 Mac McClung https://www.basketball-reference.com/players/m/mccluma01/gamelog/2022\n",
      "27 CJ McCollum https://www.basketball-reference.com/players/m/mccolcj01/gamelog/2024\n"
     ]
    },
    {
     "name": "stderr",
     "output_type": "stream",
     "text": [
      " 59%|██████████████████████████████████████████████▊                                 | 461/787 [42:56<36:56,  6.80s/it]"
     ]
    },
    {
     "name": "stdout",
     "output_type": "stream",
     "text": [
      "28 CJ McCollum https://www.basketball-reference.com/players/m/mccolcj01/gamelog/2023\n",
      "28 T.J. McConnell https://www.basketball-reference.com/players/m/mccontj01/gamelog/2024\n"
     ]
    },
    {
     "name": "stderr",
     "output_type": "stream",
     "text": [
      " 59%|██████████████████████████████████████████████▉                                 | 462/787 [43:07<42:42,  7.88s/it]"
     ]
    },
    {
     "name": "stdout",
     "output_type": "stream",
     "text": [
      "29 T.J. McConnell https://www.basketball-reference.com/players/m/mccontj01/gamelog/2023\n",
      "29 Jaden McDaniels https://www.basketball-reference.com/players/m/mcdanja02/gamelog/2024\n",
      "30 Jaden McDaniels https://www.basketball-reference.com/players/m/mcdanja02/gamelog/2023\n",
      "31 Jaden McDaniels https://www.basketball-reference.com/players/m/mcdanja02/gamelog/2022\n"
     ]
    },
    {
     "name": "stderr",
     "output_type": "stream",
     "text": [
      " 59%|███████████████████████████████████████████████▏                                | 464/787 [43:28<45:33,  8.46s/it]"
     ]
    },
    {
     "name": "stdout",
     "output_type": "stream",
     "text": [
      "32 Jalen McDaniels https://www.basketball-reference.com/players/m/mcdanja01/gamelog/2024\n",
      "32 Doug McDermott https://www.basketball-reference.com/players/m/mcderdo01/gamelog/2024\n"
     ]
    },
    {
     "name": "stderr",
     "output_type": "stream",
     "text": [
      " 59%|███████████████████████████████████████████████▎                                | 465/787 [43:37<46:26,  8.65s/it]"
     ]
    },
    {
     "name": "stdout",
     "output_type": "stream",
     "text": [
      "33 Doug McDermott https://www.basketball-reference.com/players/m/mcderdo01/gamelog/2023\n",
      "33 Sean McDermott https://www.basketball-reference.com/players/m/mcderse01/gamelog/2021\n"
     ]
    },
    {
     "name": "stderr",
     "output_type": "stream",
     "text": [
      " 59%|███████████████████████████████████████████████▍                                | 467/787 [43:43<31:28,  5.90s/it]"
     ]
    },
    {
     "name": "stdout",
     "output_type": "stream",
     "text": [
      "34 JaVale McGee https://www.basketball-reference.com/players/m/mcgeeja01/gamelog/2024\n"
     ]
    },
    {
     "name": "stderr",
     "output_type": "stream",
     "text": [
      " 59%|███████████████████████████████████████████████▌                                | 468/787 [43:45<25:12,  4.74s/it]"
     ]
    },
    {
     "name": "stdout",
     "output_type": "stream",
     "text": [
      "34 Bryce McGowens https://www.basketball-reference.com/players/m/mcgowbr01/gamelog/2024\n"
     ]
    },
    {
     "name": "stderr",
     "output_type": "stream",
     "text": [
      " 60%|███████████████████████████████████████████████▋                                | 469/787 [43:47<20:49,  3.93s/it]"
     ]
    },
    {
     "name": "stdout",
     "output_type": "stream",
     "text": [
      "34 Rodney McGruder https://www.basketball-reference.com/players/m/mcgruro01/gamelog/2023\n"
     ]
    },
    {
     "name": "stderr",
     "output_type": "stream",
     "text": [
      " 60%|███████████████████████████████████████████████▊                                | 470/787 [43:49<17:20,  3.28s/it]"
     ]
    },
    {
     "name": "stdout",
     "output_type": "stream",
     "text": [
      "34 Alfonzo McKinnie https://www.basketball-reference.com/players/m/mckinal01/gamelog/2022\n"
     ]
    },
    {
     "name": "stderr",
     "output_type": "stream",
     "text": [
      " 60%|███████████████████████████████████████████████▉                                | 471/787 [43:51<14:43,  2.79s/it]"
     ]
    },
    {
     "name": "stdout",
     "output_type": "stream",
     "text": [
      "34 JaQuori McLaughlin https://www.basketball-reference.com/players/m/mclauja01/gamelog/2022\n",
      "34 Jordan McLaughlin https://www.basketball-reference.com/players/m/mclaujo01/gamelog/2024\n",
      "35 Jordan McLaughlin https://www.basketball-reference.com/players/m/mclaujo01/gamelog/2023\n",
      "36 Jordan McLaughlin https://www.basketball-reference.com/players/m/mclaujo01/gamelog/2022\n"
     ]
    },
    {
     "name": "stderr",
     "output_type": "stream",
     "text": [
      " 60%|███████████████████████████████████████████████▉                                | 472/787 [44:07<36:09,  6.89s/it]"
     ]
    },
    {
     "name": "stdout",
     "output_type": "stream",
     "text": [
      "37 De'Anthony Melton https://www.basketball-reference.com/players/m/meltode01/gamelog/2024\n",
      "38 De'Anthony Melton https://www.basketball-reference.com/players/m/meltode01/gamelog/2023\n",
      "39 De'Anthony Melton https://www.basketball-reference.com/players/m/meltode01/gamelog/2022\n"
     ]
    },
    {
     "name": "stderr",
     "output_type": "stream",
     "text": [
      " 60%|████████████████████████████████████████████████▏                               | 474/787 [44:28<41:12,  7.90s/it]"
     ]
    },
    {
     "name": "stdout",
     "output_type": "stream",
     "text": [
      "40 Nathan Mensah https://www.basketball-reference.com/players/m/mensana01/gamelog/2024\n",
      "40 Sam Merrill https://www.basketball-reference.com/players/m/merrisa01/gamelog/2024\n",
      "41 Sam Merrill https://www.basketball-reference.com/players/m/merrisa01/gamelog/2023\n"
     ]
    },
    {
     "name": "stderr",
     "output_type": "stream",
     "text": [
      " 60%|████████████████████████████████████████████████▎                               | 475/787 [44:41<49:11,  9.46s/it]"
     ]
    },
    {
     "name": "stdout",
     "output_type": "stream",
     "text": [
      "42 Sam Merrill https://www.basketball-reference.com/players/m/merrisa01/gamelog/2022\n"
     ]
    },
    {
     "name": "stderr",
     "output_type": "stream",
     "text": [
      " 60%|████████████████████████████████████████████████▍                               | 476/787 [44:43<37:38,  7.26s/it]"
     ]
    },
    {
     "name": "stdout",
     "output_type": "stream",
     "text": [
      "42 Chimezie Metu https://www.basketball-reference.com/players/m/metuch01/gamelog/2024\n"
     ]
    },
    {
     "name": "stderr",
     "output_type": "stream",
     "text": [
      " 61%|████████████████████████████████████████████████▍                               | 477/787 [44:45<29:33,  5.72s/it]"
     ]
    },
    {
     "name": "stdout",
     "output_type": "stream",
     "text": [
      "42 Vasilije MiciÄ https://www.basketball-reference.com/players/m/micicva01/gamelog/2024\n",
      "42 Khris Middleton https://www.basketball-reference.com/players/m/middlkh01/gamelog/2024\n",
      "43 Khris Middleton https://www.basketball-reference.com/players/m/middlkh01/gamelog/2023\n",
      "44 Khris Middleton https://www.basketball-reference.com/players/m/middlkh01/gamelog/2022\n"
     ]
    },
    {
     "name": "stderr",
     "output_type": "stream",
     "text": [
      " 61%|████████████████████████████████████████████████▋                               | 479/787 [45:04<35:58,  7.01s/it]"
     ]
    },
    {
     "name": "stdout",
     "output_type": "stream",
     "text": [
      "45 Eric Mika https://www.basketball-reference.com/players/m/mikaer01/gamelog/2020\n"
     ]
    },
    {
     "name": "stderr",
     "output_type": "stream",
     "text": [
      " 61%|████████████████████████████████████████████████▊                               | 480/787 [45:06<28:30,  5.57s/it]"
     ]
    },
    {
     "name": "stdout",
     "output_type": "stream",
     "text": [
      "45 Brandon Miller https://www.basketball-reference.com/players/m/millebr02/gamelog/2024\n"
     ]
    },
    {
     "name": "stderr",
     "output_type": "stream",
     "text": [
      " 61%|████████████████████████████████████████████████▉                               | 481/787 [45:08<23:01,  4.51s/it]"
     ]
    },
    {
     "name": "stdout",
     "output_type": "stream",
     "text": [
      "45 Jordan Miller https://www.basketball-reference.com/players/m/millejo02/gamelog/2024\n",
      "45 Leonard Miller https://www.basketball-reference.com/players/m/millele01/gamelog/2024\n"
     ]
    },
    {
     "name": "stderr",
     "output_type": "stream",
     "text": [
      " 61%|████████████████████████████████████████████████▉                               | 482/787 [45:13<23:24,  4.60s/it]"
     ]
    },
    {
     "name": "stdout",
     "output_type": "stream",
     "text": [
      "46 Malcolm Miller https://www.basketball-reference.com/players/m/millema01/gamelog/2020\n",
      "47 Malcolm Miller https://www.basketball-reference.com/players/m/millema01/gamelog/2019\n"
     ]
    },
    {
     "name": "stderr",
     "output_type": "stream",
     "text": [
      " 61%|█████████████████████████████████████████████████                               | 483/787 [45:27<37:06,  7.32s/it]"
     ]
    },
    {
     "name": "stdout",
     "output_type": "stream",
     "text": [
      "48 Malcolm Miller https://www.basketball-reference.com/players/m/millema01/gamelog/2018\n"
     ]
    },
    {
     "name": "stderr",
     "output_type": "stream",
     "text": [
      " 61%|█████████████████████████████████████████████████▏                              | 484/787 [45:29<28:57,  5.74s/it]"
     ]
    },
    {
     "name": "stdout",
     "output_type": "stream",
     "text": [
      "48 Dariq Whitehead https://www.basketball-reference.com/players/w/whiteda01/gamelog/2024\n",
      "48 Patty Mills https://www.basketball-reference.com/players/m/millspa02/gamelog/2024\n",
      "49 Patty Mills https://www.basketball-reference.com/players/m/millspa02/gamelog/2023\n",
      "50 Patty Mills https://www.basketball-reference.com/players/m/millspa02/gamelog/2022\n"
     ]
    },
    {
     "name": "stderr",
     "output_type": "stream",
     "text": [
      " 62%|█████████████████████████████████████████████████▎                              | 485/787 [45:45<43:50,  8.71s/it]"
     ]
    },
    {
     "name": "stdout",
     "output_type": "stream",
     "text": [
      "51 Shake Milton https://www.basketball-reference.com/players/m/miltosh01/gamelog/2024\n",
      "52 Shake Milton https://www.basketball-reference.com/players/m/miltosh01/gamelog/2023\n",
      "53 Shake Milton https://www.basketball-reference.com/players/m/miltosh01/gamelog/2022\n"
     ]
    },
    {
     "name": "stderr",
     "output_type": "stream",
     "text": [
      " 62%|█████████████████████████████████████████████████▌                              | 487/787 [46:06<44:38,  8.93s/it]"
     ]
    },
    {
     "name": "stdout",
     "output_type": "stream",
     "text": [
      "54 Justin Minaya https://www.basketball-reference.com/players/m/minayju01/gamelog/2024\n",
      "54 Josh Minott https://www.basketball-reference.com/players/m/minotjo01/gamelog/2024\n",
      "55 Josh Minott https://www.basketball-reference.com/players/m/minotjo01/gamelog/2023\n"
     ]
    },
    {
     "name": "stderr",
     "output_type": "stream",
     "text": [
      " 62%|█████████████████████████████████████████████████▋                              | 489/787 [46:18<36:04,  7.26s/it]"
     ]
    },
    {
     "name": "stdout",
     "output_type": "stream",
     "text": [
      "56 Davion Mitchell https://www.basketball-reference.com/players/m/mitchda01/gamelog/2024\n",
      "56 Donovan Mitchell https://www.basketball-reference.com/players/m/mitchdo01/gamelog/2024\n",
      "57 Donovan Mitchell https://www.basketball-reference.com/players/m/mitchdo01/gamelog/2023\n",
      "58 Donovan Mitchell https://www.basketball-reference.com/players/m/mitchdo01/gamelog/2022\n"
     ]
    },
    {
     "name": "stderr",
     "output_type": "stream",
     "text": [
      " 62%|█████████████████████████████████████████████████▊                              | 490/787 [46:36<51:52, 10.48s/it]"
     ]
    },
    {
     "name": "stdout",
     "output_type": "stream",
     "text": [
      "59 Evan Mobley https://www.basketball-reference.com/players/m/mobleev01/gamelog/2024\n",
      "60 Evan Mobley https://www.basketball-reference.com/players/m/mobleev01/gamelog/2023\n"
     ]
    },
    {
     "name": "stderr",
     "output_type": "stream",
     "text": [
      " 62%|█████████████████████████████████████████████████▉                              | 491/787 [46:52<59:05, 11.98s/it]"
     ]
    },
    {
     "name": "stdout",
     "output_type": "stream",
     "text": [
      "61 Evan Mobley https://www.basketball-reference.com/players/m/mobleev01/gamelog/2022\n",
      "61 Isaiah Mobley https://www.basketball-reference.com/players/m/mobleis01/gamelog/2024\n",
      "62 Isaiah Mobley https://www.basketball-reference.com/players/m/mobleis01/gamelog/2023\n"
     ]
    },
    {
     "name": "stderr",
     "output_type": "stream",
     "text": [
      " 63%|██████████████████████████████████████████████████                              | 493/787 [47:03<41:22,  8.44s/it]"
     ]
    },
    {
     "name": "stdout",
     "output_type": "stream",
     "text": [
      "63 Adam Mokoka https://www.basketball-reference.com/players/m/mokokad01/gamelog/2021\n"
     ]
    },
    {
     "name": "stderr",
     "output_type": "stream",
     "text": [
      " 63%|██████████████████████████████████████████████████▏                             | 494/787 [47:05<31:13,  6.40s/it]"
     ]
    },
    {
     "name": "stdout",
     "output_type": "stream",
     "text": [
      "63 Chima Moneke https://www.basketball-reference.com/players/m/monekch01/gamelog/2023\n"
     ]
    },
    {
     "name": "stderr",
     "output_type": "stream",
     "text": [
      " 63%|██████████████████████████████████████████████████▎                             | 495/787 [47:07<24:44,  5.08s/it]"
     ]
    },
    {
     "name": "stdout",
     "output_type": "stream",
     "text": [
      "63 Malik Monk https://www.basketball-reference.com/players/m/monkma01/gamelog/2024\n"
     ]
    },
    {
     "name": "stderr",
     "output_type": "stream",
     "text": [
      " 63%|██████████████████████████████████████████████████▍                             | 496/787 [47:09<20:30,  4.23s/it]"
     ]
    },
    {
     "name": "stdout",
     "output_type": "stream",
     "text": [
      "63 Moses Moody https://www.basketball-reference.com/players/m/moodymo01/gamelog/2024\n"
     ]
    },
    {
     "name": "stderr",
     "output_type": "stream",
     "text": [
      " 63%|██████████████████████████████████████████████████▌                             | 497/787 [47:11<17:12,  3.56s/it]"
     ]
    },
    {
     "name": "stdout",
     "output_type": "stream",
     "text": [
      "63 Xavier Moon https://www.basketball-reference.com/players/m/moonxa01/gamelog/2024\n"
     ]
    },
    {
     "name": "stderr",
     "output_type": "stream",
     "text": [
      " 63%|██████████████████████████████████████████████████▌                             | 498/787 [47:13<14:35,  3.03s/it]"
     ]
    },
    {
     "name": "stdout",
     "output_type": "stream",
     "text": [
      "63 Taze Moore https://www.basketball-reference.com/players/m/mooreta02/gamelog/2024\n",
      "63 Wendell Moore Jr. https://www.basketball-reference.com/players/m/moorewe01/gamelog/2024\n",
      "64 Wendell Moore Jr. https://www.basketball-reference.com/players/m/moorewe01/gamelog/2023\n"
     ]
    },
    {
     "name": "stderr",
     "output_type": "stream",
     "text": [
      " 64%|██████████████████████████████████████████████████▊                             | 500/787 [47:26<20:52,  4.36s/it]"
     ]
    },
    {
     "name": "stdout",
     "output_type": "stream",
     "text": [
      "65 Ja Morant https://www.basketball-reference.com/players/m/moranja01/gamelog/2024\n",
      "65 Juwan Morgan https://www.basketball-reference.com/players/m/morgaju01/gamelog/2022\n",
      "66 Juwan Morgan https://www.basketball-reference.com/players/m/morgaju01/gamelog/2021\n",
      "67 Juwan Morgan https://www.basketball-reference.com/players/m/morgaju01/gamelog/2020\n"
     ]
    },
    {
     "name": "stderr",
     "output_type": "stream",
     "text": [
      " 64%|██████████████████████████████████████████████████▉                             | 501/787 [47:42<38:17,  8.03s/it]"
     ]
    },
    {
     "name": "stdout",
     "output_type": "stream",
     "text": [
      "68 Marcus Morris https://www.basketball-reference.com/players/m/morrima03/gamelog/2024\n",
      "69 Marcus Morris https://www.basketball-reference.com/players/m/morrima03/gamelog/2023\n"
     ]
    },
    {
     "name": "stderr",
     "output_type": "stream",
     "text": [
      " 64%|███████████████████████████████████████████████████                             | 502/787 [47:56<47:06,  9.92s/it]"
     ]
    },
    {
     "name": "stdout",
     "output_type": "stream",
     "text": [
      "70 Marcus Morris https://www.basketball-reference.com/players/m/morrima03/gamelog/2022\n",
      "70 Markieff Morris https://www.basketball-reference.com/players/m/morrima02/gamelog/2024\n"
     ]
    },
    {
     "name": "stderr",
     "output_type": "stream",
     "text": [
      " 64%|███████████████████████████████████████████████████▏                            | 503/787 [48:03<42:08,  8.90s/it]"
     ]
    },
    {
     "name": "stdout",
     "output_type": "stream",
     "text": [
      "71 Markieff Morris https://www.basketball-reference.com/players/m/morrima02/gamelog/2023\n",
      "71 Monte Morris https://www.basketball-reference.com/players/m/morrimo01/gamelog/2024\n"
     ]
    },
    {
     "name": "stderr",
     "output_type": "stream",
     "text": [
      " 64%|███████████████████████████████████████████████████▏                            | 504/787 [48:11<41:08,  8.72s/it]"
     ]
    },
    {
     "name": "stdout",
     "output_type": "stream",
     "text": [
      "72 Monte Morris https://www.basketball-reference.com/players/m/morrimo01/gamelog/2023\n"
     ]
    },
    {
     "name": "stderr",
     "output_type": "stream",
     "text": [
      " 64%|███████████████████████████████████████████████████▎                            | 505/787 [48:13<31:02,  6.61s/it]"
     ]
    },
    {
     "name": "stdout",
     "output_type": "stream",
     "text": [
      "72 Emmanuel Mudiay https://www.basketball-reference.com/players/m/mudiaem01/gamelog/2022\n",
      "72 Mychal Mulder https://www.basketball-reference.com/players/m/muldemy01/gamelog/2022\n"
     ]
    },
    {
     "name": "stderr",
     "output_type": "stream",
     "text": [
      " 64%|███████████████████████████████████████████████████▍                            | 506/787 [48:19<30:47,  6.57s/it]"
     ]
    },
    {
     "name": "stdout",
     "output_type": "stream",
     "text": [
      "73 Mychal Mulder https://www.basketball-reference.com/players/m/muldemy01/gamelog/2021\n",
      "73 Trey Murphy III https://www.basketball-reference.com/players/m/murphtr02/gamelog/2024\n"
     ]
    },
    {
     "name": "stderr",
     "output_type": "stream",
     "text": [
      " 64%|███████████████████████████████████████████████████▌                            | 507/787 [48:27<32:15,  6.91s/it]"
     ]
    },
    {
     "name": "stdout",
     "output_type": "stream",
     "text": [
      "74 Trey Murphy III https://www.basketball-reference.com/players/m/murphtr02/gamelog/2023\n"
     ]
    },
    {
     "name": "stderr",
     "output_type": "stream",
     "text": [
      " 65%|███████████████████████████████████████████████████▋                            | 508/787 [48:29<24:39,  5.30s/it]"
     ]
    },
    {
     "name": "stdout",
     "output_type": "stream",
     "text": [
      "74 Dejounte Murray https://www.basketball-reference.com/players/m/murrade01/gamelog/2024\n",
      "74 Jamal Murray https://www.basketball-reference.com/players/m/murraja01/gamelog/2024\n",
      "75 Jamal Murray https://www.basketball-reference.com/players/m/murraja01/gamelog/2023\n",
      "76 Jamal Murray https://www.basketball-reference.com/players/m/murraja01/gamelog/2022\n"
     ]
    },
    {
     "name": "stderr",
     "output_type": "stream",
     "text": [
      " 65%|███████████████████████████████████████████████████▊                            | 510/787 [48:51<34:22,  7.45s/it]"
     ]
    },
    {
     "name": "stdout",
     "output_type": "stream",
     "text": [
      "77 Keegan Murray https://www.basketball-reference.com/players/m/murrake02/gamelog/2024\n"
     ]
    },
    {
     "name": "stderr",
     "output_type": "stream",
     "text": [
      " 65%|███████████████████████████████████████████████████▉                            | 511/787 [48:53<26:46,  5.82s/it]"
     ]
    },
    {
     "name": "stdout",
     "output_type": "stream",
     "text": [
      "77 Kris Murray https://www.basketball-reference.com/players/m/murrakr01/gamelog/2024\n",
      "77 Mike Muscala https://www.basketball-reference.com/players/m/muscami01/gamelog/2024\n",
      "78 Mike Muscala https://www.basketball-reference.com/players/m/muscami01/gamelog/2023\n"
     ]
    },
    {
     "name": "stderr",
     "output_type": "stream",
     "text": [
      " 65%|████████████████████████████████████████████████████                            | 512/787 [49:06<36:53,  8.05s/it]"
     ]
    },
    {
     "name": "stdout",
     "output_type": "stream",
     "text": [
      "79 Mike Muscala https://www.basketball-reference.com/players/m/muscami01/gamelog/2022\n",
      "79 Svi Mykhailiuk https://www.basketball-reference.com/players/m/mykhasv01/gamelog/2024\n"
     ]
    },
    {
     "name": "stderr",
     "output_type": "stream",
     "text": [
      " 65%|████████████████████████████████████████████████████▏                           | 513/787 [49:14<36:48,  8.06s/it]"
     ]
    },
    {
     "name": "stdout",
     "output_type": "stream",
     "text": [
      "80 Svi Mykhailiuk https://www.basketball-reference.com/players/m/mykhasv01/gamelog/2023\n",
      "80 Larry Nance Jr. https://www.basketball-reference.com/players/n/nancela02/gamelog/2024\n"
     ]
    },
    {
     "name": "stderr",
     "output_type": "stream",
     "text": [
      " 65%|████████████████████████████████████████████████████▏                           | 514/787 [49:21<35:22,  7.77s/it]"
     ]
    },
    {
     "name": "stdout",
     "output_type": "stream",
     "text": [
      "81 Larry Nance Jr. https://www.basketball-reference.com/players/n/nancela02/gamelog/2023\n",
      "81 Pete Nance https://www.basketball-reference.com/players/n/nancepe01/gamelog/2024\n"
     ]
    },
    {
     "name": "stderr",
     "output_type": "stream",
     "text": [
      " 66%|████████████████████████████████████████████████████▍                           | 516/787 [49:28<24:14,  5.37s/it]"
     ]
    },
    {
     "name": "stdout",
     "output_type": "stream",
     "text": [
      "82 Shabazz Napier https://www.basketball-reference.com/players/n/napiesh01/gamelog/2020\n",
      "82 Andrew Nembhard https://www.basketball-reference.com/players/n/nembhan01/gamelog/2024\n"
     ]
    },
    {
     "name": "stderr",
     "output_type": "stream",
     "text": [
      " 66%|████████████████████████████████████████████████████▌                           | 517/787 [49:38<30:26,  6.77s/it]"
     ]
    },
    {
     "name": "stdout",
     "output_type": "stream",
     "text": [
      "83 Andrew Nembhard https://www.basketball-reference.com/players/n/nembhan01/gamelog/2023\n"
     ]
    },
    {
     "name": "stderr",
     "output_type": "stream",
     "text": [
      " 66%|████████████████████████████████████████████████████▋                           | 518/787 [49:40<23:58,  5.35s/it]"
     ]
    },
    {
     "name": "stdout",
     "output_type": "stream",
     "text": [
      "83 RJ Nembhard Jr. https://www.basketball-reference.com/players/n/nembhrj01/gamelog/2022\n",
      "83 Aaron Nesmith https://www.basketball-reference.com/players/n/nesmiaa01/gamelog/2024\n"
     ]
    },
    {
     "name": "stderr",
     "output_type": "stream",
     "text": [
      " 66%|████████████████████████████████████████████████████▊                           | 519/787 [49:49<29:38,  6.64s/it]"
     ]
    },
    {
     "name": "stdout",
     "output_type": "stream",
     "text": [
      "84 Aaron Nesmith https://www.basketball-reference.com/players/n/nesmiaa01/gamelog/2023\n",
      "84 Raul Neto https://www.basketball-reference.com/players/n/netora01/gamelog/2023\n"
     ]
    },
    {
     "name": "stderr",
     "output_type": "stream",
     "text": [
      " 66%|████████████████████████████████████████████████████▊                           | 520/787 [49:57<30:28,  6.85s/it]"
     ]
    },
    {
     "name": "stdout",
     "output_type": "stream",
     "text": [
      "85 Raul Neto https://www.basketball-reference.com/players/n/netora01/gamelog/2022\n",
      "85 Georges Niang https://www.basketball-reference.com/players/n/niangge01/gamelog/2024\n",
      "86 Georges Niang https://www.basketball-reference.com/players/n/niangge01/gamelog/2023\n",
      "87 Georges Niang https://www.basketball-reference.com/players/n/niangge01/gamelog/2022\n"
     ]
    },
    {
     "name": "stderr",
     "output_type": "stream",
     "text": [
      " 66%|█████████████████████████████████████████████████████                           | 522/787 [50:20<37:57,  8.60s/it]"
     ]
    },
    {
     "name": "stdout",
     "output_type": "stream",
     "text": [
      "88 Daishen Nix https://www.basketball-reference.com/players/n/nixda01/gamelog/2024\n",
      "88 Zeke Nnaji https://www.basketball-reference.com/players/n/nnajize01/gamelog/2024\n",
      "89 Zeke Nnaji https://www.basketball-reference.com/players/n/nnajize01/gamelog/2023\n",
      "0 Zeke Nnaji https://www.basketball-reference.com/players/n/nnajize01/gamelog/2022\n"
     ]
    },
    {
     "name": "stderr",
     "output_type": "stream",
     "text": [
      " 67%|█████████████████████████████████████████████████████▎                          | 524/787 [50:38<35:43,  8.15s/it]"
     ]
    },
    {
     "name": "stdout",
     "output_type": "stream",
     "text": [
      "1 Nerlens Noel https://www.basketball-reference.com/players/n/noelne01/gamelog/2023\n"
     ]
    },
    {
     "name": "stderr",
     "output_type": "stream",
     "text": [
      " 67%|█████████████████████████████████████████████████████▎                          | 525/787 [50:40<27:26,  6.29s/it]"
     ]
    },
    {
     "name": "stdout",
     "output_type": "stream",
     "text": [
      "1 Jaylen Nowell https://www.basketball-reference.com/players/n/nowelja01/gamelog/2024\n"
     ]
    },
    {
     "name": "stderr",
     "output_type": "stream",
     "text": [
      " 67%|█████████████████████████████████████████████████████▍                          | 526/787 [50:42<21:40,  4.98s/it]"
     ]
    },
    {
     "name": "stdout",
     "output_type": "stream",
     "text": [
      "1 Markquis Nowell https://www.basketball-reference.com/players/n/nowelma01/gamelog/2024\n"
     ]
    },
    {
     "name": "stderr",
     "output_type": "stream",
     "text": [
      " 67%|█████████████████████████████████████████████████████▌                          | 527/787 [50:44<17:28,  4.03s/it]"
     ]
    },
    {
     "name": "stdout",
     "output_type": "stream",
     "text": [
      "1 Frank Ntilikina https://www.basketball-reference.com/players/n/ntilila01/gamelog/2024\n"
     ]
    },
    {
     "name": "stderr",
     "output_type": "stream",
     "text": [
      " 67%|█████████████████████████████████████████████████████▋                          | 528/787 [50:46<14:55,  3.46s/it]"
     ]
    },
    {
     "name": "stdout",
     "output_type": "stream",
     "text": [
      "1 Kendrick Nunn https://www.basketball-reference.com/players/n/nunnke01/gamelog/2023\n",
      "1 Jusuf NurkiÄ https://www.basketball-reference.com/players/n/nurkiju01/gamelog/2024\n"
     ]
    },
    {
     "name": "stderr",
     "output_type": "stream",
     "text": [
      " 67%|█████████████████████████████████████████████████████▊                          | 529/787 [50:54<20:33,  4.78s/it]"
     ]
    },
    {
     "name": "stdout",
     "output_type": "stream",
     "text": [
      "2 Jusuf NurkiÄ https://www.basketball-reference.com/players/n/nurkiju01/gamelog/2023\n"
     ]
    },
    {
     "name": "stderr",
     "output_type": "stream",
     "text": [
      " 67%|█████████████████████████████████████████████████████▉                          | 530/787 [50:56<16:51,  3.94s/it]"
     ]
    },
    {
     "name": "stdout",
     "output_type": "stream",
     "text": [
      "2 David Nwaba https://www.basketball-reference.com/players/n/nwabada01/gamelog/2022\n"
     ]
    },
    {
     "name": "stderr",
     "output_type": "stream",
     "text": [
      " 67%|█████████████████████████████████████████████████████▉                          | 531/787 [50:58<14:23,  3.37s/it]"
     ]
    },
    {
     "name": "stdout",
     "output_type": "stream",
     "text": [
      "2 Jordan Nwora https://www.basketball-reference.com/players/n/nworajo01/gamelog/2024\n",
      "2 Royce O'Neale https://www.basketball-reference.com/players/o/onealro01/gamelog/2024\n",
      "3 Royce O'Neale https://www.basketball-reference.com/players/o/onealro01/gamelog/2023\n",
      "4 Royce O'Neale https://www.basketball-reference.com/players/o/onealro01/gamelog/2022\n"
     ]
    },
    {
     "name": "stderr",
     "output_type": "stream",
     "text": [
      " 68%|██████████████████████████████████████████████████████▏                         | 533/787 [51:17<24:51,  5.87s/it]"
     ]
    },
    {
     "name": "stdout",
     "output_type": "stream",
     "text": [
      "5 Jahlil Okafor https://www.basketball-reference.com/players/o/okafoja01/gamelog/2021\n",
      "5 Chuma Okeke https://www.basketball-reference.com/players/o/okekech01/gamelog/2024\n"
     ]
    },
    {
     "name": "stderr",
     "output_type": "stream",
     "text": [
      " 68%|██████████████████████████████████████████████████████▎                         | 534/787 [51:24<26:06,  6.19s/it]"
     ]
    },
    {
     "name": "stdout",
     "output_type": "stream",
     "text": [
      "6 Chuma Okeke https://www.basketball-reference.com/players/o/okekech01/gamelog/2023\n",
      "6 Josh Okogie https://www.basketball-reference.com/players/o/okogijo01/gamelog/2024\n",
      "7 Josh Okogie https://www.basketball-reference.com/players/o/okogijo01/gamelog/2023\n",
      "8 Josh Okogie https://www.basketball-reference.com/players/o/okogijo01/gamelog/2022\n"
     ]
    },
    {
     "name": "stderr",
     "output_type": "stream",
     "text": [
      " 68%|██████████████████████████████████████████████████████▍                         | 536/787 [51:42<29:31,  7.06s/it]"
     ]
    },
    {
     "name": "stdout",
     "output_type": "stream",
     "text": [
      "9 Onyeka Okongwu https://www.basketball-reference.com/players/o/okongon01/gamelog/2024\n",
      "9 Isaac Okoro https://www.basketball-reference.com/players/o/okorois01/gamelog/2024\n",
      "10 Isaac Okoro https://www.basketball-reference.com/players/o/okorois01/gamelog/2023\n"
     ]
    },
    {
     "name": "stderr",
     "output_type": "stream",
     "text": [
      " 68%|██████████████████████████████████████████████████████▌                         | 537/787 [51:57<38:59,  9.36s/it]"
     ]
    },
    {
     "name": "stdout",
     "output_type": "stream",
     "text": [
      "11 Isaac Okoro https://www.basketball-reference.com/players/o/okorois01/gamelog/2022\n"
     ]
    },
    {
     "name": "stderr",
     "output_type": "stream",
     "text": [
      " 68%|██████████████████████████████████████████████████████▋                         | 538/787 [51:59<29:37,  7.14s/it]"
     ]
    },
    {
     "name": "stdout",
     "output_type": "stream",
     "text": [
      "11 KZ Okpala https://www.basketball-reference.com/players/o/okpalkz01/gamelog/2023\n",
      "11 Victor Oladipo https://www.basketball-reference.com/players/o/oladivi01/gamelog/2023\n",
      "12 Victor Oladipo https://www.basketball-reference.com/players/o/oladivi01/gamelog/2022\n",
      "13 Victor Oladipo https://www.basketball-reference.com/players/o/oladivi01/gamelog/2021\n"
     ]
    },
    {
     "name": "stderr",
     "output_type": "stream",
     "text": [
      " 69%|██████████████████████████████████████████████████████▉                         | 540/787 [52:18<32:18,  7.85s/it]"
     ]
    },
    {
     "name": "stdout",
     "output_type": "stream",
     "text": [
      "14 Cameron Oliver https://www.basketball-reference.com/players/o/oliveca01/gamelog/2022\n"
     ]
    },
    {
     "name": "stderr",
     "output_type": "stream",
     "text": [
      " 69%|██████████████████████████████████████████████████████▉                         | 541/787 [52:20<25:07,  6.13s/it]"
     ]
    },
    {
     "name": "stdout",
     "output_type": "stream",
     "text": [
      "14 Kelly Olynyk https://www.basketball-reference.com/players/o/olynyke01/gamelog/2024\n"
     ]
    },
    {
     "name": "stderr",
     "output_type": "stream",
     "text": [
      " 69%|███████████████████████████████████████████████████████                         | 542/787 [52:22<20:00,  4.90s/it]"
     ]
    },
    {
     "name": "stdout",
     "output_type": "stream",
     "text": [
      "14 Eugene Omoruyi https://www.basketball-reference.com/players/o/omorueu01/gamelog/2024\n"
     ]
    },
    {
     "name": "stderr",
     "output_type": "stream",
     "text": [
      " 69%|███████████████████████████████████████████████████████▏                        | 543/787 [52:24<16:08,  3.97s/it]"
     ]
    },
    {
     "name": "stdout",
     "output_type": "stream",
     "text": [
      "14 Miye Oni https://www.basketball-reference.com/players/o/onimi01/gamelog/2022\n"
     ]
    },
    {
     "name": "stderr",
     "output_type": "stream",
     "text": [
      " 69%|███████████████████████████████████████████████████████▎                        | 544/787 [52:26<13:51,  3.42s/it]"
     ]
    },
    {
     "name": "stdout",
     "output_type": "stream",
     "text": [
      "14 Cedi Osman https://www.basketball-reference.com/players/o/osmande01/gamelog/2024\n"
     ]
    },
    {
     "name": "stderr",
     "output_type": "stream",
     "text": [
      " 69%|███████████████████████████████████████████████████████▍                        | 545/787 [52:28<12:03,  2.99s/it]"
     ]
    },
    {
     "name": "stdout",
     "output_type": "stream",
     "text": [
      "14 Daniel Oturu https://www.basketball-reference.com/players/o/oturuda01/gamelog/2022\n",
      "14 Kelly Oubre Jr. https://www.basketball-reference.com/players/o/oubreke01/gamelog/2024\n"
     ]
    },
    {
     "name": "stderr",
     "output_type": "stream",
     "text": [
      " 69%|███████████████████████████████████████████████████████▌                        | 546/787 [52:37<18:56,  4.71s/it]"
     ]
    },
    {
     "name": "stdout",
     "output_type": "stream",
     "text": [
      "15 Kelly Oubre Jr. https://www.basketball-reference.com/players/o/oubreke01/gamelog/2023\n"
     ]
    },
    {
     "name": "stderr",
     "output_type": "stream",
     "text": [
      " 70%|███████████████████████████████████████████████████████▌                        | 547/787 [52:39<15:03,  3.76s/it]"
     ]
    },
    {
     "name": "stdout",
     "output_type": "stream",
     "text": [
      "15 Trayvon Palmer https://www.basketball-reference.com/players/p/palmetr01/gamelog/2022\n"
     ]
    },
    {
     "name": "stderr",
     "output_type": "stream",
     "text": [
      " 70%|███████████████████████████████████████████████████████▋                        | 548/787 [52:40<12:37,  3.17s/it]"
     ]
    },
    {
     "name": "stdout",
     "output_type": "stream",
     "text": [
      "15 Jeremy Pargo https://www.basketball-reference.com/players/p/pargoje01/gamelog/2020\n",
      "15 Eric Paschall https://www.basketball-reference.com/players/p/pascher01/gamelog/2022\n"
     ]
    },
    {
     "name": "stderr",
     "output_type": "stream",
     "text": [
      " 70%|███████████████████████████████████████████████████████▊                        | 549/787 [52:48<17:46,  4.48s/it]"
     ]
    },
    {
     "name": "stdout",
     "output_type": "stream",
     "text": [
      "16 Eric Paschall https://www.basketball-reference.com/players/p/pascher01/gamelog/2021\n"
     ]
    },
    {
     "name": "stderr",
     "output_type": "stream",
     "text": [
      " 70%|███████████████████████████████████████████████████████▉                        | 550/787 [52:50<14:52,  3.77s/it]"
     ]
    },
    {
     "name": "stdout",
     "output_type": "stream",
     "text": [
      "16 Chris Paul https://www.basketball-reference.com/players/p/paulch01/gamelog/2024\n",
      "16 Cameron Payne https://www.basketball-reference.com/players/p/payneca01/gamelog/2024\n",
      "17 Cameron Payne https://www.basketball-reference.com/players/p/payneca01/gamelog/2023\n",
      "18 Cameron Payne https://www.basketball-reference.com/players/p/payneca01/gamelog/2022\n"
     ]
    },
    {
     "name": "stderr",
     "output_type": "stream",
     "text": [
      " 70%|████████████████████████████████████████████████████████                        | 551/787 [53:09<33:05,  8.41s/it]"
     ]
    },
    {
     "name": "stdout",
     "output_type": "stream",
     "text": [
      "19 Elfrid Payton https://www.basketball-reference.com/players/p/paytoel01/gamelog/2022\n",
      "20 Elfrid Payton https://www.basketball-reference.com/players/p/paytoel01/gamelog/2021\n"
     ]
    },
    {
     "name": "stderr",
     "output_type": "stream",
     "text": [
      " 70%|████████████████████████████████████████████████████████                        | 552/787 [53:22<37:54,  9.68s/it]"
     ]
    },
    {
     "name": "stdout",
     "output_type": "stream",
     "text": [
      "21 Elfrid Payton https://www.basketball-reference.com/players/p/paytoel01/gamelog/2020\n"
     ]
    },
    {
     "name": "stderr",
     "output_type": "stream",
     "text": [
      " 70%|████████████████████████████████████████████████████████▏                       | 553/787 [53:24<28:44,  7.37s/it]"
     ]
    },
    {
     "name": "stdout",
     "output_type": "stream",
     "text": [
      "21 Gary Payton II https://www.basketball-reference.com/players/p/paytoga02/gamelog/2024\n",
      "21 Norvel Pelle https://www.basketball-reference.com/players/p/pelleno01/gamelog/2022\n"
     ]
    },
    {
     "name": "stderr",
     "output_type": "stream",
     "text": [
      " 71%|████████████████████████████████████████████████████████▍                       | 555/787 [53:28<17:28,  4.52s/it]"
     ]
    },
    {
     "name": "stdout",
     "output_type": "stream",
     "text": [
      "21 MÃ£ozinha Pereira https://www.basketball-reference.com/players/p/pereima01/gamelog/2024\n"
     ]
    },
    {
     "name": "stderr",
     "output_type": "stream",
     "text": [
      " 71%|████████████████████████████████████████████████████████▌                       | 556/787 [53:29<14:12,  3.69s/it]"
     ]
    },
    {
     "name": "stdout",
     "output_type": "stream",
     "text": [
      "21 Reggie Perry https://www.basketball-reference.com/players/p/perryre01/gamelog/2022\n",
      "21 Drew Peterson https://www.basketball-reference.com/players/p/peterdr01/gamelog/2024\n"
     ]
    },
    {
     "name": "stderr",
     "output_type": "stream",
     "text": [
      " 71%|████████████████████████████████████████████████████████▋                       | 558/787 [53:33<10:50,  2.84s/it]"
     ]
    },
    {
     "name": "stdout",
     "output_type": "stream",
     "text": [
      "21 Filip PetruÅ¡ev https://www.basketball-reference.com/players/p/petrufi01/gamelog/2024\n"
     ]
    },
    {
     "name": "stderr",
     "output_type": "stream",
     "text": [
      " 71%|████████████████████████████████████████████████████████▊                       | 559/787 [53:35<09:56,  2.62s/it]"
     ]
    },
    {
     "name": "stdout",
     "output_type": "stream",
     "text": [
      "21 Julian Phillips https://www.basketball-reference.com/players/p/phillju01/gamelog/2024\n",
      "21 Jalen Pickett https://www.basketball-reference.com/players/p/pickeja02/gamelog/2024\n"
     ]
    },
    {
     "name": "stderr",
     "output_type": "stream",
     "text": [
      " 71%|█████████████████████████████████████████████████████████                       | 561/787 [53:43<11:58,  3.18s/it]"
     ]
    },
    {
     "name": "stdout",
     "output_type": "stream",
     "text": [
      "22 Jamorko Pickett https://www.basketball-reference.com/players/p/pickeja01/gamelog/2022\n"
     ]
    },
    {
     "name": "stderr",
     "output_type": "stream",
     "text": [
      " 71%|█████████████████████████████████████████████████████████▏                      | 562/787 [53:45<10:45,  2.87s/it]"
     ]
    },
    {
     "name": "stdout",
     "output_type": "stream",
     "text": [
      "22 Theo Pinson https://www.basketball-reference.com/players/p/pinsoth01/gamelog/2023\n"
     ]
    },
    {
     "name": "stderr",
     "output_type": "stream",
     "text": [
      " 72%|█████████████████████████████████████████████████████████▏                      | 563/787 [53:48<10:04,  2.70s/it]"
     ]
    },
    {
     "name": "stdout",
     "output_type": "stream",
     "text": [
      "22 Scotty Pippen Jr. https://www.basketball-reference.com/players/p/pippesc02/gamelog/2024\n",
      "22 Mason Plumlee https://www.basketball-reference.com/players/p/plumlma01/gamelog/2024\n",
      "23 Mason Plumlee https://www.basketball-reference.com/players/p/plumlma01/gamelog/2023\n"
     ]
    },
    {
     "name": "stderr",
     "output_type": "stream",
     "text": [
      " 72%|█████████████████████████████████████████████████████████▎                      | 564/787 [54:02<22:45,  6.12s/it]"
     ]
    },
    {
     "name": "stdout",
     "output_type": "stream",
     "text": [
      "24 Mason Plumlee https://www.basketball-reference.com/players/p/plumlma01/gamelog/2022\n"
     ]
    },
    {
     "name": "stderr",
     "output_type": "stream",
     "text": [
      " 72%|█████████████████████████████████████████████████████████▍                      | 565/787 [54:04<18:01,  4.87s/it]"
     ]
    },
    {
     "name": "stdout",
     "output_type": "stream",
     "text": [
      "24 Brandin Podziemski https://www.basketball-reference.com/players/p/podzibr01/gamelog/2024\n"
     ]
    },
    {
     "name": "stderr",
     "output_type": "stream",
     "text": [
      " 72%|█████████████████████████████████████████████████████████▌                      | 566/787 [54:06<14:45,  4.01s/it]"
     ]
    },
    {
     "name": "stdout",
     "output_type": "stream",
     "text": [
      "24 Jakob Poeltl https://www.basketball-reference.com/players/p/poeltja01/gamelog/2024\n"
     ]
    },
    {
     "name": "stderr",
     "output_type": "stream",
     "text": [
      " 72%|█████████████████████████████████████████████████████████▋                      | 567/787 [54:08<12:31,  3.42s/it]"
     ]
    },
    {
     "name": "stdout",
     "output_type": "stream",
     "text": [
      "24 Aleksej Pokusevski https://www.basketball-reference.com/players/p/pokusal01/gamelog/2024\n"
     ]
    },
    {
     "name": "stderr",
     "output_type": "stream",
     "text": [
      " 72%|█████████████████████████████████████████████████████████▋                      | 568/787 [54:10<10:36,  2.91s/it]"
     ]
    },
    {
     "name": "stdout",
     "output_type": "stream",
     "text": [
      "24 Shamorie Ponds https://www.basketball-reference.com/players/p/pondssh01/gamelog/2020\n",
      "24 Yves Pons https://www.basketball-reference.com/players/p/ponsyv01/gamelog/2022\n"
     ]
    },
    {
     "name": "stderr",
     "output_type": "stream",
     "text": [
      " 72%|█████████████████████████████████████████████████████████▉                      | 570/787 [54:16<10:41,  2.95s/it]"
     ]
    },
    {
     "name": "stdout",
     "output_type": "stream",
     "text": [
      "25 Jordan Poole https://www.basketball-reference.com/players/p/poolejo01/gamelog/2024\n",
      "25 Craig Porter Jr. https://www.basketball-reference.com/players/p/portecr01/gamelog/2024\n"
     ]
    },
    {
     "name": "stderr",
     "output_type": "stream",
     "text": [
      " 73%|██████████████████████████████████████████████████████████▏                     | 572/787 [54:22<10:48,  3.02s/it]"
     ]
    },
    {
     "name": "stdout",
     "output_type": "stream",
     "text": [
      "26 Jontay Porter https://www.basketball-reference.com/players/p/portejo01/gamelog/2024\n"
     ]
    },
    {
     "name": "stderr",
     "output_type": "stream",
     "text": [
      " 73%|██████████████████████████████████████████████████████████▏                     | 573/787 [54:25<09:47,  2.75s/it]"
     ]
    },
    {
     "name": "stdout",
     "output_type": "stream",
     "text": [
      "26 Kevin Porter Jr. https://www.basketball-reference.com/players/p/porteke02/gamelog/2023\n",
      "26 Michael Porter Jr. https://www.basketball-reference.com/players/p/portemi01/gamelog/2024\n",
      "27 Michael Porter Jr. https://www.basketball-reference.com/players/p/portemi01/gamelog/2023\n",
      "28 Michael Porter Jr. https://www.basketball-reference.com/players/p/portemi01/gamelog/2022\n"
     ]
    },
    {
     "name": "stderr",
     "output_type": "stream",
     "text": [
      " 73%|██████████████████████████████████████████████████████████▍                     | 575/787 [54:46<21:32,  6.10s/it]"
     ]
    },
    {
     "name": "stdout",
     "output_type": "stream",
     "text": [
      "29 Otto Porter Jr. https://www.basketball-reference.com/players/p/porteot01/gamelog/2024\n",
      "29 Bobby Portis https://www.basketball-reference.com/players/p/portibo01/gamelog/2024\n",
      "30 Bobby Portis https://www.basketball-reference.com/players/p/portibo01/gamelog/2023\n",
      "31 Bobby Portis https://www.basketball-reference.com/players/p/portibo01/gamelog/2022\n"
     ]
    },
    {
     "name": "stderr",
     "output_type": "stream",
     "text": [
      " 73%|██████████████████████████████████████████████████████████▌                     | 576/787 [55:05<34:37,  9.85s/it]"
     ]
    },
    {
     "name": "stdout",
     "output_type": "stream",
     "text": [
      "32 Kristaps PorziÅÄ£is https://www.basketball-reference.com/players/p/porzikr01/gamelog/2024\n"
     ]
    },
    {
     "name": "stderr",
     "output_type": "stream",
     "text": [
      " 73%|██████████████████████████████████████████████████████████▋                     | 577/787 [55:13<32:45,  9.36s/it]"
     ]
    },
    {
     "name": "stdout",
     "output_type": "stream",
     "text": [
      "33 Kristaps PorziÅÄ£is https://www.basketball-reference.com/players/p/porzikr01/gamelog/2023\n"
     ]
    },
    {
     "name": "stderr",
     "output_type": "stream",
     "text": [
      " 73%|██████████████████████████████████████████████████████████▊                     | 578/787 [55:15<24:46,  7.11s/it]"
     ]
    },
    {
     "name": "stdout",
     "output_type": "stream",
     "text": [
      "33 Micah Potter https://www.basketball-reference.com/players/p/pottemi01/gamelog/2024\n",
      "33 Dwight Powell https://www.basketball-reference.com/players/p/poweldw01/gamelog/2024\n"
     ]
    },
    {
     "name": "stderr",
     "output_type": "stream",
     "text": [
      " 74%|██████████████████████████████████████████████████████████▊                     | 579/787 [55:24<27:12,  7.85s/it]"
     ]
    },
    {
     "name": "stdout",
     "output_type": "stream",
     "text": [
      "34 Dwight Powell https://www.basketball-reference.com/players/p/poweldw01/gamelog/2023\n",
      "34 Norman Powell https://www.basketball-reference.com/players/p/powelno01/gamelog/2024\n",
      "35 Norman Powell https://www.basketball-reference.com/players/p/powelno01/gamelog/2023\n"
     ]
    },
    {
     "name": "stderr",
     "output_type": "stream",
     "text": [
      " 74%|██████████████████████████████████████████████████████████▉                     | 580/787 [55:38<32:43,  9.48s/it]"
     ]
    },
    {
     "name": "stdout",
     "output_type": "stream",
     "text": [
      "36 Norman Powell https://www.basketball-reference.com/players/p/powelno01/gamelog/2022\n"
     ]
    },
    {
     "name": "stderr",
     "output_type": "stream",
     "text": [
      " 74%|███████████████████████████████████████████████████████████                     | 581/787 [55:40<24:47,  7.22s/it]"
     ]
    },
    {
     "name": "stdout",
     "output_type": "stream",
     "text": [
      "36 Jason Preston https://www.basketball-reference.com/players/p/prestja01/gamelog/2024\n"
     ]
    },
    {
     "name": "stderr",
     "output_type": "stream",
     "text": [
      " 74%|███████████████████████████████████████████████████████████▏                    | 582/787 [55:42<19:24,  5.68s/it]"
     ]
    },
    {
     "name": "stdout",
     "output_type": "stream",
     "text": [
      "36 Joshua Primo https://www.basketball-reference.com/players/p/primojo01/gamelog/2024\n",
      "36 Taurean Prince https://www.basketball-reference.com/players/p/princta02/gamelog/2024\n",
      "37 Taurean Prince https://www.basketball-reference.com/players/p/princta02/gamelog/2023\n",
      "38 Taurean Prince https://www.basketball-reference.com/players/p/princta02/gamelog/2022\n"
     ]
    },
    {
     "name": "stderr",
     "output_type": "stream",
     "text": [
      " 74%|███████████████████████████████████████████████████████████▎                    | 583/787 [55:59<30:48,  9.06s/it]"
     ]
    },
    {
     "name": "stdout",
     "output_type": "stream",
     "text": [
      "39 Payton Pritchard https://www.basketball-reference.com/players/p/pritcpa01/gamelog/2024\n",
      "40 Payton Pritchard https://www.basketball-reference.com/players/p/pritcpa01/gamelog/2023\n",
      "41 Payton Pritchard https://www.basketball-reference.com/players/p/pritcpa01/gamelog/2022\n"
     ]
    },
    {
     "name": "stderr",
     "output_type": "stream",
     "text": [
      " 74%|███████████████████████████████████████████████████████████▎                    | 584/787 [56:23<45:41, 13.50s/it]"
     ]
    },
    {
     "name": "stdout",
     "output_type": "stream",
     "text": [
      "42 Olivier-Maxence Prosper https://www.basketball-reference.com/players/p/prospol01/gamelog/2024\n"
     ]
    },
    {
     "name": "stderr",
     "output_type": "stream",
     "text": [
      " 74%|███████████████████████████████████████████████████████████▍                    | 585/787 [56:28<37:13, 11.05s/it]"
     ]
    },
    {
     "name": "stdout",
     "output_type": "stream",
     "text": [
      "43 Trevelin Queen https://www.basketball-reference.com/players/q/queentr01/gamelog/2024\n"
     ]
    },
    {
     "name": "stderr",
     "output_type": "stream",
     "text": [
      " 74%|███████████████████████████████████████████████████████████▌                    | 586/787 [56:35<33:07,  9.89s/it]"
     ]
    },
    {
     "name": "stdout",
     "output_type": "stream",
     "text": [
      "44 Trevelin Queen https://www.basketball-reference.com/players/q/queentr01/gamelog/2023\n",
      "44 Neemias Queta https://www.basketball-reference.com/players/q/quetane01/gamelog/2024\n",
      "45 Neemias Queta https://www.basketball-reference.com/players/q/quetane01/gamelog/2023\n"
     ]
    },
    {
     "name": "stderr",
     "output_type": "stream",
     "text": [
      " 75%|███████████████████████████████████████████████████████████▋                    | 587/787 [56:47<35:19, 10.60s/it]"
     ]
    },
    {
     "name": "stdout",
     "output_type": "stream",
     "text": [
      "46 Neemias Queta https://www.basketball-reference.com/players/q/quetane01/gamelog/2022\n"
     ]
    },
    {
     "name": "stderr",
     "output_type": "stream",
     "text": [
      " 75%|███████████████████████████████████████████████████████████▊                    | 588/787 [56:49<26:38,  8.03s/it]"
     ]
    },
    {
     "name": "stdout",
     "output_type": "stream",
     "text": [
      "46 Immanuel Quickley https://www.basketball-reference.com/players/q/quickim01/gamelog/2024\n"
     ]
    },
    {
     "name": "stderr",
     "output_type": "stream",
     "text": [
      " 75%|███████████████████████████████████████████████████████████▊                    | 589/787 [56:51<20:34,  6.24s/it]"
     ]
    },
    {
     "name": "stdout",
     "output_type": "stream",
     "text": [
      "46 Lester Quinones https://www.basketball-reference.com/players/q/quinole01/gamelog/2024\n"
     ]
    },
    {
     "name": "stderr",
     "output_type": "stream",
     "text": [
      " 75%|███████████████████████████████████████████████████████████▉                    | 590/787 [56:53<16:07,  4.91s/it]"
     ]
    },
    {
     "name": "stdout",
     "output_type": "stream",
     "text": [
      "46 Jahmi'us Ramsey https://www.basketball-reference.com/players/r/ramseja01/gamelog/2024\n"
     ]
    },
    {
     "name": "stderr",
     "output_type": "stream",
     "text": [
      " 75%|████████████████████████████████████████████████████████████                    | 591/787 [56:55<13:14,  4.05s/it]"
     ]
    },
    {
     "name": "stdout",
     "output_type": "stream",
     "text": [
      "46 Chasson Randle https://www.basketball-reference.com/players/r/randlch01/gamelog/2021\n",
      "46 Julius Randle https://www.basketball-reference.com/players/r/randlju01/gamelog/2024\n",
      "47 Julius Randle https://www.basketball-reference.com/players/r/randlju01/gamelog/2023\n"
     ]
    },
    {
     "name": "stderr",
     "output_type": "stream",
     "text": [
      " 75%|████████████████████████████████████████████████████████████▏                   | 592/787 [57:09<23:00,  7.08s/it]"
     ]
    },
    {
     "name": "stdout",
     "output_type": "stream",
     "text": [
      "48 Julius Randle https://www.basketball-reference.com/players/r/randlju01/gamelog/2022\n"
     ]
    },
    {
     "name": "stderr",
     "output_type": "stream",
     "text": [
      " 75%|████████████████████████████████████████████████████████████▎                   | 593/787 [57:11<18:03,  5.58s/it]"
     ]
    },
    {
     "name": "stdout",
     "output_type": "stream",
     "text": [
      "48 Duop Reath https://www.basketball-reference.com/players/r/reathdu01/gamelog/2024\n",
      "48 Austin Reaves https://www.basketball-reference.com/players/r/reaveau01/gamelog/2024\n",
      "49 Austin Reaves https://www.basketball-reference.com/players/r/reaveau01/gamelog/2023\n"
     ]
    },
    {
     "name": "stderr",
     "output_type": "stream",
     "text": [
      " 75%|████████████████████████████████████████████████████████████▍                   | 594/787 [57:27<27:12,  8.46s/it]"
     ]
    },
    {
     "name": "stdout",
     "output_type": "stream",
     "text": [
      "50 Austin Reaves https://www.basketball-reference.com/players/r/reaveau01/gamelog/2022\n",
      "50 Josh Reaves https://www.basketball-reference.com/players/r/reavejo02/gamelog/2020\n"
     ]
    },
    {
     "name": "stderr",
     "output_type": "stream",
     "text": [
      " 76%|████████████████████████████████████████████████████████████▍                   | 595/787 [57:31<23:06,  7.22s/it]"
     ]
    },
    {
     "name": "stdout",
     "output_type": "stream",
     "text": [
      "51 Cam Reddish https://www.basketball-reference.com/players/r/reddica01/gamelog/2024\n"
     ]
    },
    {
     "name": "stderr",
     "output_type": "stream",
     "text": [
      " 76%|████████████████████████████████████████████████████████████▌                   | 596/787 [57:39<23:16,  7.31s/it]"
     ]
    },
    {
     "name": "stdout",
     "output_type": "stream",
     "text": [
      "52 Cam Reddish https://www.basketball-reference.com/players/r/reddica01/gamelog/2023\n"
     ]
    },
    {
     "name": "stderr",
     "output_type": "stream",
     "text": [
      " 76%|████████████████████████████████████████████████████████████▋                   | 597/787 [57:41<18:12,  5.75s/it]"
     ]
    },
    {
     "name": "stdout",
     "output_type": "stream",
     "text": [
      "52 Davon Reed https://www.basketball-reference.com/players/r/reedda01/gamelog/2023\n",
      "52 Paul Reed https://www.basketball-reference.com/players/r/reedpa01/gamelog/2024\n",
      "53 Paul Reed https://www.basketball-reference.com/players/r/reedpa01/gamelog/2023\n",
      "54 Paul Reed https://www.basketball-reference.com/players/r/reedpa01/gamelog/2022\n"
     ]
    },
    {
     "name": "stderr",
     "output_type": "stream",
     "text": [
      " 76%|████████████████████████████████████████████████████████████▊                   | 598/787 [58:02<32:32, 10.33s/it]"
     ]
    },
    {
     "name": "stdout",
     "output_type": "stream",
     "text": [
      "55 Naz Reid https://www.basketball-reference.com/players/r/reidna01/gamelog/2024\n",
      "56 Naz Reid https://www.basketball-reference.com/players/r/reidna01/gamelog/2023\n",
      "57 Naz Reid https://www.basketball-reference.com/players/r/reidna01/gamelog/2022\n"
     ]
    },
    {
     "name": "stderr",
     "output_type": "stream",
     "text": [
      " 76%|████████████████████████████████████████████████████████████▉                   | 600/787 [58:22<30:03,  9.64s/it]"
     ]
    },
    {
     "name": "stdout",
     "output_type": "stream",
     "text": [
      "58 Jared Rhoden https://www.basketball-reference.com/players/r/rhodeja01/gamelog/2024\n"
     ]
    },
    {
     "name": "stderr",
     "output_type": "stream",
     "text": [
      " 76%|█████████████████████████████████████████████████████████████                   | 601/787 [58:25<23:21,  7.53s/it]"
     ]
    },
    {
     "name": "stdout",
     "output_type": "stream",
     "text": [
      "58 Nick Richards https://www.basketball-reference.com/players/r/richani01/gamelog/2024\n",
      "58 Josh Richardson https://www.basketball-reference.com/players/r/richajo01/gamelog/2024\n"
     ]
    },
    {
     "name": "stderr",
     "output_type": "stream",
     "text": [
      " 76%|█████████████████████████████████████████████████████████████▏                  | 602/787 [58:31<21:52,  7.09s/it]"
     ]
    },
    {
     "name": "stdout",
     "output_type": "stream",
     "text": [
      "59 Josh Richardson https://www.basketball-reference.com/players/r/richajo01/gamelog/2023\n"
     ]
    },
    {
     "name": "stderr",
     "output_type": "stream",
     "text": [
      " 77%|█████████████████████████████████████████████████████████████▎                  | 603/787 [58:33<16:54,  5.51s/it]"
     ]
    },
    {
     "name": "stdout",
     "output_type": "stream",
     "text": [
      "59 Grant Riller https://www.basketball-reference.com/players/r/rillegr01/gamelog/2021\n",
      "59 Austin Rivers https://www.basketball-reference.com/players/r/riverau01/gamelog/2023\n",
      "60 Austin Rivers https://www.basketball-reference.com/players/r/riverau01/gamelog/2022\n",
      "61 Austin Rivers https://www.basketball-reference.com/players/r/riverau01/gamelog/2021\n"
     ]
    },
    {
     "name": "stderr",
     "output_type": "stream",
     "text": [
      " 77%|█████████████████████████████████████████████████████████████▍                  | 604/787 [58:51<28:03,  9.20s/it]"
     ]
    },
    {
     "name": "stdout",
     "output_type": "stream",
     "text": [
      "62 Duncan Robinson https://www.basketball-reference.com/players/r/robindu01/gamelog/2024\n",
      "63 Duncan Robinson https://www.basketball-reference.com/players/r/robindu01/gamelog/2023\n",
      "64 Duncan Robinson https://www.basketball-reference.com/players/r/robindu01/gamelog/2022\n"
     ]
    },
    {
     "name": "stderr",
     "output_type": "stream",
     "text": [
      " 77%|█████████████████████████████████████████████████████████████▌                  | 606/787 [59:15<29:45,  9.86s/it]"
     ]
    },
    {
     "name": "stdout",
     "output_type": "stream",
     "text": [
      "65 Jerome Robinson https://www.basketball-reference.com/players/r/robinje01/gamelog/2024\n"
     ]
    },
    {
     "name": "stderr",
     "output_type": "stream",
     "text": [
      " 77%|█████████████████████████████████████████████████████████████▋                  | 607/787 [59:17<22:18,  7.44s/it]"
     ]
    },
    {
     "name": "stdout",
     "output_type": "stream",
     "text": [
      "65 Justin Robinson https://www.basketball-reference.com/players/r/robinju01/gamelog/2022\n",
      "65 Mitchell Robinson https://www.basketball-reference.com/players/r/robinmi01/gamelog/2024\n",
      "66 Mitchell Robinson https://www.basketball-reference.com/players/r/robinmi01/gamelog/2023\n"
     ]
    },
    {
     "name": "stderr",
     "output_type": "stream",
     "text": [
      " 77%|█████████████████████████████████████████████████████████████▊                  | 608/787 [59:31<28:18,  9.49s/it]"
     ]
    },
    {
     "name": "stdout",
     "output_type": "stream",
     "text": [
      "67 Mitchell Robinson https://www.basketball-reference.com/players/r/robinmi01/gamelog/2022\n",
      "67 Orlando Robinson https://www.basketball-reference.com/players/r/robinor01/gamelog/2024\n"
     ]
    },
    {
     "name": "stderr",
     "output_type": "stream",
     "text": [
      " 77%|█████████████████████████████████████████████████████████████▉                  | 609/787 [59:38<25:51,  8.72s/it]"
     ]
    },
    {
     "name": "stdout",
     "output_type": "stream",
     "text": [
      "68 Orlando Robinson https://www.basketball-reference.com/players/r/robinor01/gamelog/2023\n",
      "68 Jeremiah Robinson-Earl https://www.basketball-reference.com/players/r/robinje02/gamelog/2024\n"
     ]
    },
    {
     "name": "stderr",
     "output_type": "stream",
     "text": [
      " 78%|██████████████████████████████████████████████████████████████                  | 610/787 [59:45<23:53,  8.10s/it]"
     ]
    },
    {
     "name": "stdout",
     "output_type": "stream",
     "text": [
      "69 Jeremiah Robinson-Earl https://www.basketball-reference.com/players/r/robinje02/gamelog/2023\n",
      "69 Isaiah Roby https://www.basketball-reference.com/players/r/robyis01/gamelog/2023\n"
     ]
    },
    {
     "name": "stderr",
     "output_type": "stream",
     "text": [
      " 78%|██████████████████████████████████████████████████████████████                  | 611/787 [59:51<21:56,  7.48s/it]"
     ]
    },
    {
     "name": "stdout",
     "output_type": "stream",
     "text": [
      "70 Isaiah Roby https://www.basketball-reference.com/players/r/robyis01/gamelog/2022\n",
      "70 David Roddy https://www.basketball-reference.com/players/r/roddyda01/gamelog/2024\n",
      "71 David Roddy https://www.basketball-reference.com/players/r/roddyda01/gamelog/2023\n"
     ]
    },
    {
     "name": "stderr",
     "output_type": "stream",
     "text": [
      " 78%|████████████████████████████████████████████████████████████▊                 | 613/787 [1:00:04<19:13,  6.63s/it]"
     ]
    },
    {
     "name": "stdout",
     "output_type": "stream",
     "text": [
      "72 Ryan Rollins https://www.basketball-reference.com/players/r/rolliry01/gamelog/2024\n"
     ]
    },
    {
     "name": "stderr",
     "output_type": "stream",
     "text": [
      " 78%|████████████████████████████████████████████████████████████▊                 | 614/787 [1:00:05<14:40,  5.09s/it]"
     ]
    },
    {
     "name": "stdout",
     "output_type": "stream",
     "text": [
      "72 Derrick Rose https://www.basketball-reference.com/players/r/rosede01/gamelog/2024\n",
      "72 Terry Rozier https://www.basketball-reference.com/players/r/roziete01/gamelog/2024\n"
     ]
    },
    {
     "name": "stderr",
     "output_type": "stream",
     "text": [
      " 78%|████████████████████████████████████████████████████████████▉                 | 615/787 [1:00:11<15:31,  5.41s/it]"
     ]
    },
    {
     "name": "stdout",
     "output_type": "stream",
     "text": [
      "73 Terry Rozier https://www.basketball-reference.com/players/r/roziete01/gamelog/2023\n"
     ]
    },
    {
     "name": "stderr",
     "output_type": "stream",
     "text": [
      " 78%|█████████████████████████████████████████████████████████████                 | 616/787 [1:00:13<12:20,  4.33s/it]"
     ]
    },
    {
     "name": "stdout",
     "output_type": "stream",
     "text": [
      "73 Rayan Rupert https://www.basketball-reference.com/players/r/ruperra01/gamelog/2024\n",
      "73 D'Angelo Russell https://www.basketball-reference.com/players/r/russeda01/gamelog/2024\n",
      "74 D'Angelo Russell https://www.basketball-reference.com/players/r/russeda01/gamelog/2023\n",
      "75 D'Angelo Russell https://www.basketball-reference.com/players/r/russeda01/gamelog/2022\n"
     ]
    },
    {
     "name": "stderr",
     "output_type": "stream",
     "text": [
      " 78%|█████████████████████████████████████████████████████████████▏                | 617/787 [1:00:32<24:39,  8.70s/it]"
     ]
    },
    {
     "name": "stdout",
     "output_type": "stream",
     "text": [
      "76 Matt Ryan https://www.basketball-reference.com/players/r/ryanma01/gamelog/2024\n"
     ]
    },
    {
     "name": "stderr",
     "output_type": "stream",
     "text": [
      " 79%|█████████████████████████████████████████████████████████████▎                | 618/787 [1:00:39<22:45,  8.08s/it]"
     ]
    },
    {
     "name": "stdout",
     "output_type": "stream",
     "text": [
      "77 Matt Ryan https://www.basketball-reference.com/players/r/ryanma01/gamelog/2023\n"
     ]
    },
    {
     "name": "stderr",
     "output_type": "stream",
     "text": [
      " 79%|█████████████████████████████████████████████████████████████▎                | 619/787 [1:00:40<17:08,  6.12s/it]"
     ]
    },
    {
     "name": "stdout",
     "output_type": "stream",
     "text": [
      "77 Domantas Sabonis https://www.basketball-reference.com/players/s/sabondo01/gamelog/2024\n"
     ]
    },
    {
     "name": "stderr",
     "output_type": "stream",
     "text": [
      " 79%|█████████████████████████████████████████████████████████████▍                | 620/787 [1:00:42<13:34,  4.88s/it]"
     ]
    },
    {
     "name": "stdout",
     "output_type": "stream",
     "text": [
      "77 Luka Å amaniÄ https://www.basketball-reference.com/players/s/samanlu01/gamelog/2024\n"
     ]
    },
    {
     "name": "stderr",
     "output_type": "stream",
     "text": [
      " 79%|█████████████████████████████████████████████████████████████▌                | 621/787 [1:00:44<11:02,  3.99s/it]"
     ]
    },
    {
     "name": "stdout",
     "output_type": "stream",
     "text": [
      "77 Brandon Sampson https://www.basketball-reference.com/players/s/sampsbr01/gamelog/2019\n"
     ]
    },
    {
     "name": "stderr",
     "output_type": "stream",
     "text": [
      " 79%|█████████████████████████████████████████████████████████████▋                | 622/787 [1:00:46<09:14,  3.36s/it]"
     ]
    },
    {
     "name": "stdout",
     "output_type": "stream",
     "text": [
      "77 Jermaine Samuels https://www.basketball-reference.com/players/s/samueje01/gamelog/2024\n",
      "77 Adama Sanogo https://www.basketball-reference.com/players/s/sanogad01/gamelog/2024\n"
     ]
    },
    {
     "name": "stderr",
     "output_type": "stream",
     "text": [
      " 79%|█████████████████████████████████████████████████████████████▊                | 624/787 [1:00:51<07:55,  2.92s/it]"
     ]
    },
    {
     "name": "stdout",
     "output_type": "stream",
     "text": [
      "77 Gui Santos https://www.basketball-reference.com/players/s/santogu01/gamelog/2024\n"
     ]
    },
    {
     "name": "stderr",
     "output_type": "stream",
     "text": [
      " 79%|█████████████████████████████████████████████████████████████▉                | 625/787 [1:00:53<07:27,  2.76s/it]"
     ]
    },
    {
     "name": "stdout",
     "output_type": "stream",
     "text": [
      "77 Dario Å ariÄ https://www.basketball-reference.com/players/s/saricda01/gamelog/2024\n",
      "77 Olivier Sarr https://www.basketball-reference.com/players/s/sarrol01/gamelog/2024\n"
     ]
    },
    {
     "name": "stderr",
     "output_type": "stream",
     "text": [
      " 80%|██████████████████████████████████████████████████████████████                | 626/787 [1:01:00<10:24,  3.88s/it]"
     ]
    },
    {
     "name": "stdout",
     "output_type": "stream",
     "text": [
      "78 Olivier Sarr https://www.basketball-reference.com/players/s/sarrol01/gamelog/2023\n"
     ]
    },
    {
     "name": "stderr",
     "output_type": "stream",
     "text": [
      " 80%|██████████████████████████████████████████████████████████████▏               | 627/787 [1:01:02<08:44,  3.28s/it]"
     ]
    },
    {
     "name": "stdout",
     "output_type": "stream",
     "text": [
      "78 Marcus Sasser https://www.basketball-reference.com/players/s/sassema01/gamelog/2024\n"
     ]
    },
    {
     "name": "stderr",
     "output_type": "stream",
     "text": [
      " 80%|██████████████████████████████████████████████████████████████▏               | 628/787 [1:01:03<07:10,  2.71s/it]"
     ]
    },
    {
     "name": "stdout",
     "output_type": "stream",
     "text": [
      "78 Jordan Schakel https://www.basketball-reference.com/players/s/schakjo01/gamelog/2023\n",
      "78 Admiral Schofield https://www.basketball-reference.com/players/s/schofad01/gamelog/2024\n"
     ]
    },
    {
     "name": "stderr",
     "output_type": "stream",
     "text": [
      " 80%|██████████████████████████████████████████████████████████████▎               | 629/787 [1:01:10<10:13,  3.88s/it]"
     ]
    },
    {
     "name": "stdout",
     "output_type": "stream",
     "text": [
      "79 Admiral Schofield https://www.basketball-reference.com/players/s/schofad01/gamelog/2023\n"
     ]
    },
    {
     "name": "stderr",
     "output_type": "stream",
     "text": [
      " 80%|██████████████████████████████████████████████████████████████▍               | 630/787 [1:01:12<08:41,  3.32s/it]"
     ]
    },
    {
     "name": "stdout",
     "output_type": "stream",
     "text": [
      "79 Dennis SchrÃ¶der https://www.basketball-reference.com/players/s/schrode01/gamelog/2024\n"
     ]
    },
    {
     "name": "stderr",
     "output_type": "stream",
     "text": [
      " 80%|██████████████████████████████████████████████████████████████▌               | 631/787 [1:01:13<07:18,  2.81s/it]"
     ]
    },
    {
     "name": "stdout",
     "output_type": "stream",
     "text": [
      "79 Jay Scrubb https://www.basketball-reference.com/players/s/scrubja01/gamelog/2023\n"
     ]
    },
    {
     "name": "stderr",
     "output_type": "stream",
     "text": [
      " 80%|██████████████████████████████████████████████████████████████▋               | 632/787 [1:01:15<06:34,  2.55s/it]"
     ]
    },
    {
     "name": "stdout",
     "output_type": "stream",
     "text": [
      "79 Dereon Seabron https://www.basketball-reference.com/players/s/seabrde01/gamelog/2024\n"
     ]
    },
    {
     "name": "stderr",
     "output_type": "stream",
     "text": [
      " 80%|██████████████████████████████████████████████████████████████▋               | 633/787 [1:01:17<05:46,  2.25s/it]"
     ]
    },
    {
     "name": "stdout",
     "output_type": "stream",
     "text": [
      "79 Alperen Sengun https://www.basketball-reference.com/players/s/sengual01/gamelog/2024\n"
     ]
    },
    {
     "name": "stderr",
     "output_type": "stream",
     "text": [
      " 81%|██████████████████████████████████████████████████████████████▊               | 634/787 [1:01:19<05:40,  2.22s/it]"
     ]
    },
    {
     "name": "stdout",
     "output_type": "stream",
     "text": [
      "79 Brice Sensabaugh https://www.basketball-reference.com/players/s/sensabr01/gamelog/2024\n"
     ]
    },
    {
     "name": "stderr",
     "output_type": "stream",
     "text": [
      " 81%|██████████████████████████████████████████████████████████████▉               | 635/787 [1:01:21<05:33,  2.19s/it]"
     ]
    },
    {
     "name": "stdout",
     "output_type": "stream",
     "text": [
      "79 Collin Sexton https://www.basketball-reference.com/players/s/sextoco01/gamelog/2024\n"
     ]
    },
    {
     "name": "stderr",
     "output_type": "stream",
     "text": [
      " 81%|███████████████████████████████████████████████████████████████               | 636/787 [1:01:24<06:19,  2.51s/it]"
     ]
    },
    {
     "name": "stdout",
     "output_type": "stream",
     "text": [
      "79 Landry Shamet https://www.basketball-reference.com/players/s/shamela01/gamelog/2024\n"
     ]
    },
    {
     "name": "stderr",
     "output_type": "stream",
     "text": [
      " 81%|███████████████████████████████████████████████████████████████▏              | 637/787 [1:01:27<06:11,  2.48s/it]"
     ]
    },
    {
     "name": "stdout",
     "output_type": "stream",
     "text": [
      "79 Day'Ron Sharpe https://www.basketball-reference.com/players/s/sharpda01/gamelog/2024\n"
     ]
    },
    {
     "name": "stderr",
     "output_type": "stream",
     "text": [
      " 81%|███████████████████████████████████████████████████████████████▏              | 638/787 [1:01:29<06:06,  2.46s/it]"
     ]
    },
    {
     "name": "stdout",
     "output_type": "stream",
     "text": [
      "79 Shaedon Sharpe https://www.basketball-reference.com/players/s/sharpsh01/gamelog/2024\n",
      "79 Marial Shayok https://www.basketball-reference.com/players/s/shayoma01/gamelog/2020\n"
     ]
    },
    {
     "name": "stderr",
     "output_type": "stream",
     "text": [
      " 81%|███████████████████████████████████████████████████████████████▎              | 639/787 [1:01:34<07:26,  3.02s/it]"
     ]
    },
    {
     "name": "stdout",
     "output_type": "stream",
     "text": [
      "80 Ben Sheppard https://www.basketball-reference.com/players/s/sheppbe01/gamelog/2024\n"
     ]
    },
    {
     "name": "stderr",
     "output_type": "stream",
     "text": [
      " 81%|███████████████████████████████████████████████████████████████▍              | 640/787 [1:01:43<12:13,  4.99s/it]"
     ]
    },
    {
     "name": "stdout",
     "output_type": "stream",
     "text": [
      "81 Pascal Siakam https://www.basketball-reference.com/players/s/siakapa01/gamelog/2024\n"
     ]
    },
    {
     "name": "stderr",
     "output_type": "stream",
     "text": [
      " 81%|███████████████████████████████████████████████████████████████▌              | 641/787 [1:01:53<15:49,  6.51s/it]"
     ]
    },
    {
     "name": "stdout",
     "output_type": "stream",
     "text": [
      "82 Pascal Siakam https://www.basketball-reference.com/players/s/siakapa01/gamelog/2023\n"
     ]
    },
    {
     "name": "stderr",
     "output_type": "stream",
     "text": [
      " 82%|███████████████████████████████████████████████████████████████▋              | 642/787 [1:01:55<12:18,  5.09s/it]"
     ]
    },
    {
     "name": "stdout",
     "output_type": "stream",
     "text": [
      "82 Chris Silva https://www.basketball-reference.com/players/s/silvach01/gamelog/2023\n"
     ]
    },
    {
     "name": "stderr",
     "output_type": "stream",
     "text": [
      " 82%|███████████████████████████████████████████████████████████████▋              | 643/787 [1:01:57<10:00,  4.17s/it]"
     ]
    },
    {
     "name": "stdout",
     "output_type": "stream",
     "text": [
      "82 Ben Simmons https://www.basketball-reference.com/players/s/simmobe01/gamelog/2024\n"
     ]
    },
    {
     "name": "stderr",
     "output_type": "stream",
     "text": [
      " 82%|███████████████████████████████████████████████████████████████▊              | 644/787 [1:01:59<08:10,  3.43s/it]"
     ]
    },
    {
     "name": "stdout",
     "output_type": "stream",
     "text": [
      "82 Kobi Simmons https://www.basketball-reference.com/players/s/simmoko01/gamelog/2024\n"
     ]
    },
    {
     "name": "stderr",
     "output_type": "stream",
     "text": [
      " 82%|███████████████████████████████████████████████████████████████▉              | 645/787 [1:02:01<07:02,  2.97s/it]"
     ]
    },
    {
     "name": "stdout",
     "output_type": "stream",
     "text": [
      "82 Marko Simonovic https://www.basketball-reference.com/players/s/simonma01/gamelog/2023\n"
     ]
    },
    {
     "name": "stderr",
     "output_type": "stream",
     "text": [
      " 82%|████████████████████████████████████████████████████████████████              | 646/787 [1:02:02<05:59,  2.55s/it]"
     ]
    },
    {
     "name": "stdout",
     "output_type": "stream",
     "text": [
      "82 Anfernee Simons https://www.basketball-reference.com/players/s/simonan01/gamelog/2024\n"
     ]
    },
    {
     "name": "stderr",
     "output_type": "stream",
     "text": [
      " 82%|████████████████████████████████████████████████████████████████              | 647/787 [1:02:04<05:38,  2.42s/it]"
     ]
    },
    {
     "name": "stdout",
     "output_type": "stream",
     "text": [
      "82 Zavier Simpson https://www.basketball-reference.com/players/s/simpsza01/gamelog/2024\n",
      "82 Jericho Sims https://www.basketball-reference.com/players/s/simsje01/gamelog/2024\n",
      "83 Jericho Sims https://www.basketball-reference.com/players/s/simsje01/gamelog/2023\n"
     ]
    },
    {
     "name": "stderr",
     "output_type": "stream",
     "text": [
      " 82%|████████████████████████████████████████████████████████████████▏             | 648/787 [1:02:17<13:04,  5.65s/it]"
     ]
    },
    {
     "name": "stdout",
     "output_type": "stream",
     "text": [
      "84 Jericho Sims https://www.basketball-reference.com/players/s/simsje01/gamelog/2022\n"
     ]
    },
    {
     "name": "stderr",
     "output_type": "stream",
     "text": [
      " 82%|████████████████████████████████████████████████████████████████▎             | 649/787 [1:02:19<10:20,  4.49s/it]"
     ]
    },
    {
     "name": "stdout",
     "output_type": "stream",
     "text": [
      "84 Deividas Sirvydis https://www.basketball-reference.com/players/s/sirvyde01/gamelog/2022\n"
     ]
    },
    {
     "name": "stderr",
     "output_type": "stream",
     "text": [
      " 83%|████████████████████████████████████████████████████████████████▍             | 650/787 [1:02:21<08:23,  3.67s/it]"
     ]
    },
    {
     "name": "stdout",
     "output_type": "stream",
     "text": [
      "84 Dmytro Skapintsev https://www.basketball-reference.com/players/s/skapidm01/gamelog/2024\n"
     ]
    },
    {
     "name": "stderr",
     "output_type": "stream",
     "text": [
      " 83%|████████████████████████████████████████████████████████████████▌             | 651/787 [1:02:23<07:12,  3.18s/it]"
     ]
    },
    {
     "name": "stdout",
     "output_type": "stream",
     "text": [
      "84 Jalen Slawson https://www.basketball-reference.com/players/s/slawsja01/gamelog/2024\n"
     ]
    },
    {
     "name": "stderr",
     "output_type": "stream",
     "text": [
      " 83%|████████████████████████████████████████████████████████████████▌             | 652/787 [1:02:25<06:15,  2.78s/it]"
     ]
    },
    {
     "name": "stdout",
     "output_type": "stream",
     "text": [
      "84 Alen SmailagiÄ https://www.basketball-reference.com/players/s/smailal01/gamelog/2021\n"
     ]
    },
    {
     "name": "stderr",
     "output_type": "stream",
     "text": [
      " 83%|████████████████████████████████████████████████████████████████▋             | 653/787 [1:02:27<05:31,  2.47s/it]"
     ]
    },
    {
     "name": "stdout",
     "output_type": "stream",
     "text": [
      "84 Javonte Smart https://www.basketball-reference.com/players/s/smartja01/gamelog/2024\n",
      "84 Marcus Smart https://www.basketball-reference.com/players/s/smartma01/gamelog/2024\n"
     ]
    },
    {
     "name": "stderr",
     "output_type": "stream",
     "text": [
      " 83%|████████████████████████████████████████████████████████████████▉             | 655/787 [1:02:31<05:08,  2.34s/it]"
     ]
    },
    {
     "name": "stdout",
     "output_type": "stream",
     "text": [
      "84 Dennis Smith Jr. https://www.basketball-reference.com/players/s/smithde03/gamelog/2024\n"
     ]
    },
    {
     "name": "stderr",
     "output_type": "stream",
     "text": [
      " 83%|█████████████████████████████████████████████████████████████████             | 656/787 [1:02:33<04:50,  2.21s/it]"
     ]
    },
    {
     "name": "stdout",
     "output_type": "stream",
     "text": [
      "84 Dru Smith https://www.basketball-reference.com/players/s/smithdr01/gamelog/2024\n"
     ]
    },
    {
     "name": "stderr",
     "output_type": "stream",
     "text": [
      " 83%|█████████████████████████████████████████████████████████████████             | 657/787 [1:02:35<04:47,  2.21s/it]"
     ]
    },
    {
     "name": "stdout",
     "output_type": "stream",
     "text": [
      "84 Ish Smith https://www.basketball-reference.com/players/s/smithis01/gamelog/2024\n"
     ]
    },
    {
     "name": "stderr",
     "output_type": "stream",
     "text": [
      " 84%|█████████████████████████████████████████████████████████████████▏            | 658/787 [1:02:37<04:28,  2.08s/it]"
     ]
    },
    {
     "name": "stdout",
     "output_type": "stream",
     "text": [
      "84 Jabari Smith Jr. https://www.basketball-reference.com/players/s/smithja05/gamelog/2024\n",
      "84 Jalen Smith https://www.basketball-reference.com/players/s/smithja04/gamelog/2024\n"
     ]
    },
    {
     "name": "stderr",
     "output_type": "stream",
     "text": [
      " 84%|█████████████████████████████████████████████████████████████████▎            | 659/787 [1:02:46<08:46,  4.11s/it]"
     ]
    },
    {
     "name": "stdout",
     "output_type": "stream",
     "text": [
      "85 Jalen Smith https://www.basketball-reference.com/players/s/smithja04/gamelog/2023\n"
     ]
    },
    {
     "name": "stderr",
     "output_type": "stream",
     "text": [
      " 84%|█████████████████████████████████████████████████████████████████▍            | 660/787 [1:02:48<07:20,  3.46s/it]"
     ]
    },
    {
     "name": "stdout",
     "output_type": "stream",
     "text": [
      "85 Nick Smith Jr. https://www.basketball-reference.com/players/s/smithni01/gamelog/2024\n",
      "85 Terquavion Smith https://www.basketball-reference.com/players/s/smithte01/gamelog/2024\n"
     ]
    },
    {
     "name": "stderr",
     "output_type": "stream",
     "text": [
      " 84%|█████████████████████████████████████████████████████████████████▌            | 662/787 [1:02:55<07:01,  3.37s/it]"
     ]
    },
    {
     "name": "stdout",
     "output_type": "stream",
     "text": [
      "86 Zhaire Smith https://www.basketball-reference.com/players/s/smithzh01/gamelog/2020\n"
     ]
    },
    {
     "name": "stderr",
     "output_type": "stream",
     "text": [
      " 84%|█████████████████████████████████████████████████████████████████▋            | 663/787 [1:02:56<05:43,  2.77s/it]"
     ]
    },
    {
     "name": "stdout",
     "output_type": "stream",
     "text": [
      "86 Xavier Sneed https://www.basketball-reference.com/players/s/sneedxa01/gamelog/2023\n"
     ]
    },
    {
     "name": "stderr",
     "output_type": "stream",
     "text": [
      " 84%|█████████████████████████████████████████████████████████████████▊            | 664/787 [1:02:58<05:09,  2.52s/it]"
     ]
    },
    {
     "name": "stdout",
     "output_type": "stream",
     "text": [
      "86 Jeremy Sochan https://www.basketball-reference.com/players/s/sochaje01/gamelog/2024\n"
     ]
    },
    {
     "name": "stderr",
     "output_type": "stream",
     "text": [
      " 84%|█████████████████████████████████████████████████████████████████▉            | 665/787 [1:03:00<04:39,  2.29s/it]"
     ]
    },
    {
     "name": "stdout",
     "output_type": "stream",
     "text": [
      "86 Ray Spalding https://www.basketball-reference.com/players/s/spaldra01/gamelog/2021\n"
     ]
    },
    {
     "name": "stderr",
     "output_type": "stream",
     "text": [
      " 85%|██████████████████████████████████████████████████████████████████            | 666/787 [1:03:02<04:21,  2.16s/it]"
     ]
    },
    {
     "name": "stdout",
     "output_type": "stream",
     "text": [
      "86 Omari Spellman https://www.basketball-reference.com/players/s/spellom01/gamelog/2020\n"
     ]
    },
    {
     "name": "stderr",
     "output_type": "stream",
     "text": [
      " 85%|██████████████████████████████████████████████████████████████████            | 667/787 [1:03:04<04:08,  2.07s/it]"
     ]
    },
    {
     "name": "stdout",
     "output_type": "stream",
     "text": [
      "86 Pat Spencer https://www.basketball-reference.com/players/s/spencpa01/gamelog/2024\n",
      "86 Jaden Springer https://www.basketball-reference.com/players/s/sprinja01/gamelog/2024\n",
      "87 Jaden Springer https://www.basketball-reference.com/players/s/sprinja01/gamelog/2023\n",
      "88 Jaden Springer https://www.basketball-reference.com/players/s/sprinja01/gamelog/2022\n"
     ]
    },
    {
     "name": "stderr",
     "output_type": "stream",
     "text": [
      " 85%|██████████████████████████████████████████████████████████████████▎           | 669/787 [1:03:21<09:46,  4.97s/it]"
     ]
    },
    {
     "name": "stdout",
     "output_type": "stream",
     "text": [
      "89 Cassius Stanley https://www.basketball-reference.com/players/s/stanlca01/gamelog/2022\n",
      "89 Nik Stauskas https://www.basketball-reference.com/players/s/stausni01/gamelog/2022\n"
     ]
    },
    {
     "name": "stderr",
     "output_type": "stream",
     "text": [
      " 85%|██████████████████████████████████████████████████████████████████▍           | 670/787 [1:03:30<11:52,  6.09s/it]"
     ]
    },
    {
     "name": "stdout",
     "output_type": "stream",
     "text": [
      "0 Nik Stauskas https://www.basketball-reference.com/players/s/stausni01/gamelog/2021\n"
     ]
    },
    {
     "name": "stderr",
     "output_type": "stream",
     "text": [
      " 85%|██████████████████████████████████████████████████████████████████▌           | 671/787 [1:03:32<09:21,  4.84s/it]"
     ]
    },
    {
     "name": "stdout",
     "output_type": "stream",
     "text": [
      "0 Lamar Stevens https://www.basketball-reference.com/players/s/stevela01/gamelog/2024\n"
     ]
    },
    {
     "name": "stderr",
     "output_type": "stream",
     "text": [
      " 85%|██████████████████████████████████████████████████████████████████▌           | 672/787 [1:03:34<07:32,  3.94s/it]"
     ]
    },
    {
     "name": "stdout",
     "output_type": "stream",
     "text": [
      "0 Isaiah Stewart https://www.basketball-reference.com/players/s/stewais01/gamelog/2024\n",
      "0 Julian Strawther https://www.basketball-reference.com/players/s/strawju01/gamelog/2024\n"
     ]
    },
    {
     "name": "stderr",
     "output_type": "stream",
     "text": [
      " 86%|██████████████████████████████████████████████████████████████████▋           | 673/787 [1:03:39<08:01,  4.23s/it]"
     ]
    },
    {
     "name": "stdout",
     "output_type": "stream",
     "text": [
      "1 Max Strus https://www.basketball-reference.com/players/s/strusma01/gamelog/2024\n",
      "2 Max Strus https://www.basketball-reference.com/players/s/strusma01/gamelog/2023\n",
      "3 Max Strus https://www.basketball-reference.com/players/s/strusma01/gamelog/2022\n"
     ]
    },
    {
     "name": "stderr",
     "output_type": "stream",
     "text": [
      " 86%|██████████████████████████████████████████████████████████████████▊           | 674/787 [1:04:02<18:28,  9.81s/it]"
     ]
    },
    {
     "name": "stdout",
     "output_type": "stream",
     "text": [
      "4 Jalen Suggs https://www.basketball-reference.com/players/s/suggsja01/gamelog/2024\n"
     ]
    },
    {
     "name": "stderr",
     "output_type": "stream",
     "text": [
      " 86%|██████████████████████████████████████████████████████████████████▉           | 675/787 [1:04:10<17:18,  9.28s/it]"
     ]
    },
    {
     "name": "stdout",
     "output_type": "stream",
     "text": [
      "5 Jalen Suggs https://www.basketball-reference.com/players/s/suggsja01/gamelog/2023\n",
      "5 Edmond Sumner https://www.basketball-reference.com/players/s/sumneed01/gamelog/2023\n"
     ]
    },
    {
     "name": "stderr",
     "output_type": "stream",
     "text": [
      " 86%|██████████████████████████████████████████████████████████████████▉           | 676/787 [1:04:16<15:42,  8.49s/it]"
     ]
    },
    {
     "name": "stdout",
     "output_type": "stream",
     "text": [
      "6 Edmond Sumner https://www.basketball-reference.com/players/s/sumneed01/gamelog/2022\n"
     ]
    },
    {
     "name": "stderr",
     "output_type": "stream",
     "text": [
      " 86%|███████████████████████████████████████████████████████████████████           | 677/787 [1:04:18<11:55,  6.51s/it]"
     ]
    },
    {
     "name": "stdout",
     "output_type": "stream",
     "text": [
      "6 Cole Swider https://www.basketball-reference.com/players/s/swideco01/gamelog/2024\n"
     ]
    },
    {
     "name": "stderr",
     "output_type": "stream",
     "text": [
      " 86%|███████████████████████████████████████████████████████████████████▏          | 678/787 [1:04:20<09:09,  5.04s/it]"
     ]
    },
    {
     "name": "stdout",
     "output_type": "stream",
     "text": [
      "6 Craig Sword https://www.basketball-reference.com/players/s/swordcr01/gamelog/2022\n"
     ]
    },
    {
     "name": "stderr",
     "output_type": "stream",
     "text": [
      " 86%|███████████████████████████████████████████████████████████████████▎          | 679/787 [1:04:22<07:20,  4.08s/it]"
     ]
    },
    {
     "name": "stdout",
     "output_type": "stream",
     "text": [
      "6 Keifer Sykes https://www.basketball-reference.com/players/s/sykeske01/gamelog/2022\n"
     ]
    },
    {
     "name": "stderr",
     "output_type": "stream",
     "text": [
      " 86%|███████████████████████████████████████████████████████████████████▍          | 680/787 [1:04:24<06:14,  3.50s/it]"
     ]
    },
    {
     "name": "stdout",
     "output_type": "stream",
     "text": [
      "6 Jae'Sean Tate https://www.basketball-reference.com/players/t/tateja01/gamelog/2024\n",
      "6 Jayson Tatum https://www.basketball-reference.com/players/t/tatumja01/gamelog/2024\n",
      "7 Jayson Tatum https://www.basketball-reference.com/players/t/tatumja01/gamelog/2023\n",
      "8 Jayson Tatum https://www.basketball-reference.com/players/t/tatumja01/gamelog/2022\n"
     ]
    },
    {
     "name": "stderr",
     "output_type": "stream",
     "text": [
      " 87%|███████████████████████████████████████████████████████████████████▌          | 682/787 [1:04:52<13:42,  7.83s/it]"
     ]
    },
    {
     "name": "stdout",
     "output_type": "stream",
     "text": [
      "9 Terry Taylor https://www.basketball-reference.com/players/t/taylote01/gamelog/2024\n"
     ]
    },
    {
     "name": "stderr",
     "output_type": "stream",
     "text": [
      " 87%|███████████████████████████████████████████████████████████████████▋          | 683/787 [1:04:54<10:40,  6.16s/it]"
     ]
    },
    {
     "name": "stdout",
     "output_type": "stream",
     "text": [
      "9 Garrett Temple https://www.basketball-reference.com/players/t/templga01/gamelog/2024\n"
     ]
    },
    {
     "name": "stderr",
     "output_type": "stream",
     "text": [
      " 87%|███████████████████████████████████████████████████████████████████▊          | 684/787 [1:04:56<08:34,  4.99s/it]"
     ]
    },
    {
     "name": "stdout",
     "output_type": "stream",
     "text": [
      "9 Dalen Terry https://www.basketball-reference.com/players/t/terryda01/gamelog/2024\n",
      "9 Tyrell Terry https://www.basketball-reference.com/players/t/terryty01/gamelog/2022\n",
      "10 Tyrell Terry https://www.basketball-reference.com/players/t/terryty01/gamelog/2021\n"
     ]
    },
    {
     "name": "stderr",
     "output_type": "stream",
     "text": [
      " 87%|███████████████████████████████████████████████████████████████████▉          | 685/787 [1:05:05<10:11,  5.99s/it]"
     ]
    },
    {
     "name": "stdout",
     "output_type": "stream",
     "text": [
      "11 Daniel Theis https://www.basketball-reference.com/players/t/theisda01/gamelog/2024\n"
     ]
    },
    {
     "name": "stderr",
     "output_type": "stream",
     "text": [
      " 87%|███████████████████████████████████████████████████████████████████▉          | 686/787 [1:05:11<10:27,  6.21s/it]"
     ]
    },
    {
     "name": "stdout",
     "output_type": "stream",
     "text": [
      "12 Daniel Theis https://www.basketball-reference.com/players/t/theisda01/gamelog/2023\n",
      "12 Brodric Thomas https://www.basketball-reference.com/players/t/thomabr01/gamelog/2022\n"
     ]
    },
    {
     "name": "stderr",
     "output_type": "stream",
     "text": [
      " 87%|████████████████████████████████████████████████████████████████████          | 687/787 [1:05:18<10:27,  6.27s/it]"
     ]
    },
    {
     "name": "stdout",
     "output_type": "stream",
     "text": [
      "13 Brodric Thomas https://www.basketball-reference.com/players/t/thomabr01/gamelog/2021\n"
     ]
    },
    {
     "name": "stderr",
     "output_type": "stream",
     "text": [
      " 87%|████████████████████████████████████████████████████████████████████▏         | 688/787 [1:05:20<08:09,  4.95s/it]"
     ]
    },
    {
     "name": "stdout",
     "output_type": "stream",
     "text": [
      "13 Cam Thomas https://www.basketball-reference.com/players/t/thomaca02/gamelog/2024\n",
      "13 Isaiah Thomas https://www.basketball-reference.com/players/t/thomais02/gamelog/2024\n"
     ]
    },
    {
     "name": "stderr",
     "output_type": "stream",
     "text": [
      " 88%|████████████████████████████████████████████████████████████████████▎         | 689/787 [1:05:26<08:39,  5.30s/it]"
     ]
    },
    {
     "name": "stdout",
     "output_type": "stream",
     "text": [
      "14 Isaiah Thomas https://www.basketball-reference.com/players/t/thomais02/gamelog/2023\n"
     ]
    },
    {
     "name": "stderr",
     "output_type": "stream",
     "text": [
      " 88%|████████████████████████████████████████████████████████████████████▍         | 690/787 [1:05:27<06:48,  4.21s/it]"
     ]
    },
    {
     "name": "stdout",
     "output_type": "stream",
     "text": [
      "14 Khyri Thomas https://www.basketball-reference.com/players/t/thomakh01/gamelog/2021\n"
     ]
    },
    {
     "name": "stderr",
     "output_type": "stream",
     "text": [
      " 88%|████████████████████████████████████████████████████████████████████▍         | 691/787 [1:05:30<05:42,  3.57s/it]"
     ]
    },
    {
     "name": "stdout",
     "output_type": "stream",
     "text": [
      "14 Amen Thompson https://www.basketball-reference.com/players/t/thompam01/gamelog/2024\n"
     ]
    },
    {
     "name": "stderr",
     "output_type": "stream",
     "text": [
      " 88%|████████████████████████████████████████████████████████████████████▌         | 692/787 [1:05:31<04:39,  2.94s/it]"
     ]
    },
    {
     "name": "stdout",
     "output_type": "stream",
     "text": [
      "14 Ausar Thompson https://www.basketball-reference.com/players/t/thompau01/gamelog/2024\n"
     ]
    },
    {
     "name": "stderr",
     "output_type": "stream",
     "text": [
      " 88%|████████████████████████████████████████████████████████████████████▋         | 693/787 [1:05:33<03:57,  2.52s/it]"
     ]
    },
    {
     "name": "stdout",
     "output_type": "stream",
     "text": [
      "14 Klay Thompson https://www.basketball-reference.com/players/t/thompkl01/gamelog/2024\n",
      "14 Tristan Thompson https://www.basketball-reference.com/players/t/thomptr01/gamelog/2024\n",
      "15 Tristan Thompson https://www.basketball-reference.com/players/t/thomptr01/gamelog/2023\n",
      "16 Tristan Thompson https://www.basketball-reference.com/players/t/thomptr01/gamelog/2022\n"
     ]
    },
    {
     "name": "stderr",
     "output_type": "stream",
     "text": [
      " 88%|████████████████████████████████████████████████████████████████████▉         | 695/787 [1:05:52<08:35,  5.60s/it]"
     ]
    },
    {
     "name": "stdout",
     "output_type": "stream",
     "text": [
      "17 JT Thor https://www.basketball-reference.com/players/t/thorjt01/gamelog/2024\n"
     ]
    },
    {
     "name": "stderr",
     "output_type": "stream",
     "text": [
      " 88%|████████████████████████████████████████████████████████████████████▉         | 696/787 [1:05:55<06:53,  4.54s/it]"
     ]
    },
    {
     "name": "stdout",
     "output_type": "stream",
     "text": [
      "17 Matisse Thybulle https://www.basketball-reference.com/players/t/thybuma01/gamelog/2024\n",
      "17 Killian Tillie https://www.basketball-reference.com/players/t/tilliki02/gamelog/2022\n",
      "18 Killian Tillie https://www.basketball-reference.com/players/t/tilliki02/gamelog/2021\n"
     ]
    },
    {
     "name": "stderr",
     "output_type": "stream",
     "text": [
      " 89%|█████████████████████████████████████████████████████████████████████         | 697/787 [1:06:04<08:48,  5.87s/it]"
     ]
    },
    {
     "name": "stdout",
     "output_type": "stream",
     "text": [
      "19 Xavier Tillman Sr. https://www.basketball-reference.com/players/t/tillmxa01/gamelog/2024\n",
      "20 Xavier Tillman Sr. https://www.basketball-reference.com/players/t/tillmxa01/gamelog/2023\n",
      "21 Xavier Tillman Sr. https://www.basketball-reference.com/players/t/tillmxa01/gamelog/2022\n"
     ]
    },
    {
     "name": "stderr",
     "output_type": "stream",
     "text": [
      " 89%|█████████████████████████████████████████████████████████████████████▎        | 699/787 [1:06:24<10:40,  7.27s/it]"
     ]
    },
    {
     "name": "stdout",
     "output_type": "stream",
     "text": [
      "22 Isaiah Todd https://www.basketball-reference.com/players/t/toddis01/gamelog/2023\n",
      "22 Jacob Toppin https://www.basketball-reference.com/players/t/toppija01/gamelog/2024\n"
     ]
    },
    {
     "name": "stderr",
     "output_type": "stream",
     "text": [
      " 89%|█████████████████████████████████████████████████████████████████████▍        | 700/787 [1:06:28<09:12,  6.34s/it]"
     ]
    },
    {
     "name": "stdout",
     "output_type": "stream",
     "text": [
      "23 Obi Toppin https://www.basketball-reference.com/players/t/toppiob01/gamelog/2024\n",
      "24 Obi Toppin https://www.basketball-reference.com/players/t/toppiob01/gamelog/2023\n"
     ]
    },
    {
     "name": "stderr",
     "output_type": "stream",
     "text": [
      " 89%|█████████████████████████████████████████████████████████████████████▍        | 701/787 [1:06:44<13:25,  9.37s/it]"
     ]
    },
    {
     "name": "stdout",
     "output_type": "stream",
     "text": [
      "25 Obi Toppin https://www.basketball-reference.com/players/t/toppiob01/gamelog/2022\n"
     ]
    },
    {
     "name": "stderr",
     "output_type": "stream",
     "text": [
      " 89%|█████████████████████████████████████████████████████████████████████▌        | 702/787 [1:06:46<10:02,  7.09s/it]"
     ]
    },
    {
     "name": "stdout",
     "output_type": "stream",
     "text": [
      "25 Juan Toscano-Anderson https://www.basketball-reference.com/players/t/toscaju01/gamelog/2024\n",
      "25 Karl-Anthony Towns https://www.basketball-reference.com/players/t/townska01/gamelog/2024\n",
      "26 Karl-Anthony Towns https://www.basketball-reference.com/players/t/townska01/gamelog/2023\n",
      "27 Karl-Anthony Towns https://www.basketball-reference.com/players/t/townska01/gamelog/2022\n"
     ]
    },
    {
     "name": "stderr",
     "output_type": "stream",
     "text": [
      " 89%|█████████████████████████████████████████████████████████████████████▊        | 704/787 [1:07:05<10:39,  7.70s/it]"
     ]
    },
    {
     "name": "stdout",
     "output_type": "stream",
     "text": [
      "28 Gary Trent Jr. https://www.basketball-reference.com/players/t/trentga02/gamelog/2024\n"
     ]
    },
    {
     "name": "stderr",
     "output_type": "stream",
     "text": [
      " 90%|█████████████████████████████████████████████████████████████████████▊        | 705/787 [1:07:07<08:08,  5.96s/it]"
     ]
    },
    {
     "name": "stdout",
     "output_type": "stream",
     "text": [
      "28 Oscar Tshiebwe https://www.basketball-reference.com/players/t/tshieos01/gamelog/2024\n",
      "28 P.J. Tucker https://www.basketball-reference.com/players/t/tuckepj01/gamelog/2024\n",
      "29 P.J. Tucker https://www.basketball-reference.com/players/t/tuckepj01/gamelog/2023\n",
      "30 P.J. Tucker https://www.basketball-reference.com/players/t/tuckepj01/gamelog/2022\n"
     ]
    },
    {
     "name": "stderr",
     "output_type": "stream",
     "text": [
      " 90%|█████████████████████████████████████████████████████████████████████▉        | 706/787 [1:07:27<13:46, 10.20s/it]"
     ]
    },
    {
     "name": "stdout",
     "output_type": "stream",
     "text": [
      "31 Rayjon Tucker https://www.basketball-reference.com/players/t/tuckera01/gamelog/2022\n",
      "32 Rayjon Tucker https://www.basketball-reference.com/players/t/tuckera01/gamelog/2021\n",
      "33 Rayjon Tucker https://www.basketball-reference.com/players/t/tuckera01/gamelog/2020\n"
     ]
    },
    {
     "name": "stderr",
     "output_type": "stream",
     "text": [
      " 90%|██████████████████████████████████████████████████████████████████████        | 707/787 [1:07:42<15:32, 11.66s/it]"
     ]
    },
    {
     "name": "stdout",
     "output_type": "stream",
     "text": [
      "34 Myles Turner https://www.basketball-reference.com/players/t/turnemy01/gamelog/2024\n"
     ]
    },
    {
     "name": "stderr",
     "output_type": "stream",
     "text": [
      " 90%|██████████████████████████████████████████████████████████████████████▏       | 708/787 [1:07:54<15:16, 11.60s/it]"
     ]
    },
    {
     "name": "stdout",
     "output_type": "stream",
     "text": [
      "35 Myles Turner https://www.basketball-reference.com/players/t/turnemy01/gamelog/2023\n",
      "35 Hunter Tyson https://www.basketball-reference.com/players/t/tysonhu01/gamelog/2024\n"
     ]
    },
    {
     "name": "stderr",
     "output_type": "stream",
     "text": [
      " 90%|██████████████████████████████████████████████████████████████████████▎       | 710/787 [1:08:01<09:34,  7.46s/it]"
     ]
    },
    {
     "name": "stdout",
     "output_type": "stream",
     "text": [
      "36 Stanley Umude https://www.basketball-reference.com/players/u/umudest01/gamelog/2024\n",
      "36 Jonas ValanÄiÅ«nas https://www.basketball-reference.com/players/v/valanjo01/gamelog/2024\n"
     ]
    },
    {
     "name": "stderr",
     "output_type": "stream",
     "text": [
      " 90%|██████████████████████████████████████████████████████████████████████▍       | 711/787 [1:08:09<09:27,  7.47s/it]"
     ]
    },
    {
     "name": "stdout",
     "output_type": "stream",
     "text": [
      "37 Jonas ValanÄiÅ«nas https://www.basketball-reference.com/players/v/valanjo01/gamelog/2023\n"
     ]
    },
    {
     "name": "stderr",
     "output_type": "stream",
     "text": [
      " 90%|██████████████████████████████████████████████████████████████████████▌       | 712/787 [1:08:10<07:11,  5.75s/it]"
     ]
    },
    {
     "name": "stdout",
     "output_type": "stream",
     "text": [
      "37 Denzel Valentine https://www.basketball-reference.com/players/v/valende01/gamelog/2022\n"
     ]
    },
    {
     "name": "stderr",
     "output_type": "stream",
     "text": [
      " 91%|██████████████████████████████████████████████████████████████████████▋       | 713/787 [1:08:12<05:31,  4.48s/it]"
     ]
    },
    {
     "name": "stdout",
     "output_type": "stream",
     "text": [
      "37 Fred VanVleet https://www.basketball-reference.com/players/v/vanvlfr01/gamelog/2024\n",
      "37 Jarred Vanderbilt https://www.basketball-reference.com/players/v/vandeja01/gamelog/2024\n",
      "38 Jarred Vanderbilt https://www.basketball-reference.com/players/v/vandeja01/gamelog/2023\n",
      "39 Jarred Vanderbilt https://www.basketball-reference.com/players/v/vandeja01/gamelog/2022\n"
     ]
    },
    {
     "name": "stderr",
     "output_type": "stream",
     "text": [
      " 91%|██████████████████████████████████████████████████████████████████████▊       | 715/787 [1:08:32<08:01,  6.69s/it]"
     ]
    },
    {
     "name": "stdout",
     "output_type": "stream",
     "text": [
      "40 Devin Vassell https://www.basketball-reference.com/players/v/vassede01/gamelog/2024\n"
     ]
    },
    {
     "name": "stderr",
     "output_type": "stream",
     "text": [
      " 91%|██████████████████████████████████████████████████████████████████████▉       | 716/787 [1:08:34<06:11,  5.24s/it]"
     ]
    },
    {
     "name": "stdout",
     "output_type": "stream",
     "text": [
      "40 Sasha Vezenkov https://www.basketball-reference.com/players/v/vezenal01/gamelog/2024\n",
      "40 Gabe Vincent https://www.basketball-reference.com/players/v/vincega01/gamelog/2024\n",
      "41 Gabe Vincent https://www.basketball-reference.com/players/v/vincega01/gamelog/2023\n",
      "42 Gabe Vincent https://www.basketball-reference.com/players/v/vincega01/gamelog/2022\n"
     ]
    },
    {
     "name": "stderr",
     "output_type": "stream",
     "text": [
      " 91%|███████████████████████████████████████████████████████████████████████▏      | 718/787 [1:08:58<08:57,  7.79s/it]"
     ]
    },
    {
     "name": "stdout",
     "output_type": "stream",
     "text": [
      "43 Noah Vonleh https://www.basketball-reference.com/players/v/vonleno01/gamelog/2023\n"
     ]
    },
    {
     "name": "stderr",
     "output_type": "stream",
     "text": [
      " 91%|███████████████████████████████████████████████████████████████████████▎      | 719/787 [1:08:59<06:41,  5.90s/it]"
     ]
    },
    {
     "name": "stdout",
     "output_type": "stream",
     "text": [
      "43 Nikola VuÄeviÄ https://www.basketball-reference.com/players/v/vucevni01/gamelog/2024\n"
     ]
    },
    {
     "name": "stderr",
     "output_type": "stream",
     "text": [
      " 91%|███████████████████████████████████████████████████████████████████████▎      | 720/787 [1:09:01<05:11,  4.64s/it]"
     ]
    },
    {
     "name": "stdout",
     "output_type": "stream",
     "text": [
      "43 Tristan Vukcevic https://www.basketball-reference.com/players/v/vukcetr01/gamelog/2024\n",
      "43 Dean Wade https://www.basketball-reference.com/players/w/wadede01/gamelog/2024\n",
      "44 Dean Wade https://www.basketball-reference.com/players/w/wadede01/gamelog/2023\n"
     ]
    },
    {
     "name": "stderr",
     "output_type": "stream",
     "text": [
      " 92%|███████████████████████████████████████████████████████████████████████▍      | 721/787 [1:09:13<07:33,  6.87s/it]"
     ]
    },
    {
     "name": "stdout",
     "output_type": "stream",
     "text": [
      "45 Dean Wade https://www.basketball-reference.com/players/w/wadede01/gamelog/2022\n",
      "45 Franz Wagner https://www.basketball-reference.com/players/w/wagnefr01/gamelog/2024\n"
     ]
    },
    {
     "name": "stderr",
     "output_type": "stream",
     "text": [
      " 92%|███████████████████████████████████████████████████████████████████████▌      | 722/787 [1:09:20<07:28,  6.89s/it]"
     ]
    },
    {
     "name": "stdout",
     "output_type": "stream",
     "text": [
      "46 Franz Wagner https://www.basketball-reference.com/players/w/wagnefr01/gamelog/2023\n",
      "46 Moritz Wagner https://www.basketball-reference.com/players/w/wagnemo01/gamelog/2024\n"
     ]
    },
    {
     "name": "stderr",
     "output_type": "stream",
     "text": [
      " 92%|███████████████████████████████████████████████████████████████████████▋      | 723/787 [1:09:28<07:44,  7.26s/it]"
     ]
    },
    {
     "name": "stdout",
     "output_type": "stream",
     "text": [
      "47 Moritz Wagner https://www.basketball-reference.com/players/w/wagnemo01/gamelog/2023\n"
     ]
    },
    {
     "name": "stderr",
     "output_type": "stream",
     "text": [
      " 92%|███████████████████████████████████████████████████████████████████████▊      | 724/787 [1:09:30<05:46,  5.50s/it]"
     ]
    },
    {
     "name": "stdout",
     "output_type": "stream",
     "text": [
      "47 Ish Wainright https://www.basketball-reference.com/players/w/wainris01/gamelog/2024\n"
     ]
    },
    {
     "name": "stderr",
     "output_type": "stream",
     "text": [
      " 92%|███████████████████████████████████████████████████████████████████████▊      | 725/787 [1:09:32<04:34,  4.43s/it]"
     ]
    },
    {
     "name": "stdout",
     "output_type": "stream",
     "text": [
      "47 Jabari Walker https://www.basketball-reference.com/players/w/walkeja01/gamelog/2024\n",
      "47 Jarace Walker https://www.basketball-reference.com/players/w/walkeja02/gamelog/2024\n"
     ]
    },
    {
     "name": "stderr",
     "output_type": "stream",
     "text": [
      " 92%|████████████████████████████████████████████████████████████████████████      | 727/787 [1:09:40<04:06,  4.11s/it]"
     ]
    },
    {
     "name": "stdout",
     "output_type": "stream",
     "text": [
      "48 Lonnie Walker IV https://www.basketball-reference.com/players/w/walkelo01/gamelog/2024\n"
     ]
    },
    {
     "name": "stderr",
     "output_type": "stream",
     "text": [
      " 93%|████████████████████████████████████████████████████████████████████████▏     | 728/787 [1:09:41<03:17,  3.35s/it]"
     ]
    },
    {
     "name": "stdout",
     "output_type": "stream",
     "text": [
      "48 M.J. Walker https://www.basketball-reference.com/players/w/walkemj01/gamelog/2022\n"
     ]
    },
    {
     "name": "stderr",
     "output_type": "stream",
     "text": [
      " 93%|████████████████████████████████████████████████████████████████████████▎     | 729/787 [1:09:43<02:41,  2.79s/it]"
     ]
    },
    {
     "name": "stdout",
     "output_type": "stream",
     "text": [
      "48 John Wall https://www.basketball-reference.com/players/w/walljo01/gamelog/2023\n",
      "48 Cason Wallace https://www.basketball-reference.com/players/w/wallaca01/gamelog/2024\n"
     ]
    },
    {
     "name": "stderr",
     "output_type": "stream",
     "text": [
      " 93%|████████████████████████████████████████████████████████████████████████▎     | 730/787 [1:09:49<03:35,  3.78s/it]"
     ]
    },
    {
     "name": "stdout",
     "output_type": "stream",
     "text": [
      "49 Jordan Walsh https://www.basketball-reference.com/players/w/walshjo01/gamelog/2024\n"
     ]
    },
    {
     "name": "stderr",
     "output_type": "stream",
     "text": [
      " 93%|████████████████████████████████████████████████████████████████████████▍     | 731/787 [1:09:54<03:55,  4.20s/it]"
     ]
    },
    {
     "name": "stdout",
     "output_type": "stream",
     "text": [
      "50 T.J. Warren https://www.basketball-reference.com/players/w/warretj01/gamelog/2024\n",
      "51 T.J. Warren https://www.basketball-reference.com/players/w/warretj01/gamelog/2023\n"
     ]
    },
    {
     "name": "stderr",
     "output_type": "stream",
     "text": [
      " 93%|████████████████████████████████████████████████████████████████████████▌     | 732/787 [1:10:09<06:38,  7.25s/it]"
     ]
    },
    {
     "name": "stdout",
     "output_type": "stream",
     "text": [
      "52 T.J. Warren https://www.basketball-reference.com/players/w/warretj01/gamelog/2022\n",
      "52 Duane Washington Jr. https://www.basketball-reference.com/players/w/washidu02/gamelog/2023\n"
     ]
    },
    {
     "name": "stderr",
     "output_type": "stream",
     "text": [
      " 93%|████████████████████████████████████████████████████████████████████████▋     | 733/787 [1:10:14<06:09,  6.84s/it]"
     ]
    },
    {
     "name": "stdout",
     "output_type": "stream",
     "text": [
      "53 Duane Washington Jr. https://www.basketball-reference.com/players/w/washidu02/gamelog/2022\n",
      "53 P.J. Washington https://www.basketball-reference.com/players/w/washipj01/gamelog/2024\n"
     ]
    },
    {
     "name": "stderr",
     "output_type": "stream",
     "text": [
      " 93%|████████████████████████████████████████████████████████████████████████▋     | 734/787 [1:10:24<06:51,  7.76s/it]"
     ]
    },
    {
     "name": "stdout",
     "output_type": "stream",
     "text": [
      "54 P.J. Washington https://www.basketball-reference.com/players/w/washipj01/gamelog/2023\n"
     ]
    },
    {
     "name": "stderr",
     "output_type": "stream",
     "text": [
      " 93%|████████████████████████████████████████████████████████████████████████▊     | 735/787 [1:10:26<05:13,  6.03s/it]"
     ]
    },
    {
     "name": "stdout",
     "output_type": "stream",
     "text": [
      "54 TyTy Washington Jr. https://www.basketball-reference.com/players/w/washity02/gamelog/2024\n"
     ]
    },
    {
     "name": "stderr",
     "output_type": "stream",
     "text": [
      " 94%|████████████████████████████████████████████████████████████████████████▉     | 736/787 [1:10:28<04:04,  4.80s/it]"
     ]
    },
    {
     "name": "stdout",
     "output_type": "stream",
     "text": [
      "54 Yuta Watanabe https://www.basketball-reference.com/players/w/watanyu01/gamelog/2024\n",
      "54 Lindy Waters III https://www.basketball-reference.com/players/w/waterli01/gamelog/2024\n"
     ]
    },
    {
     "name": "stderr",
     "output_type": "stream",
     "text": [
      " 94%|█████████████████████████████████████████████████████████████████████████     | 737/787 [1:10:35<04:30,  5.41s/it]"
     ]
    },
    {
     "name": "stdout",
     "output_type": "stream",
     "text": [
      "55 Lindy Waters III https://www.basketball-reference.com/players/w/waterli01/gamelog/2023\n"
     ]
    },
    {
     "name": "stderr",
     "output_type": "stream",
     "text": [
      " 94%|█████████████████████████████████████████████████████████████████████████▏    | 738/787 [1:10:37<03:29,  4.27s/it]"
     ]
    },
    {
     "name": "stdout",
     "output_type": "stream",
     "text": [
      "55 Tremont Waters https://www.basketball-reference.com/players/w/watertr01/gamelog/2022\n"
     ]
    },
    {
     "name": "stderr",
     "output_type": "stream",
     "text": [
      " 94%|█████████████████████████████████████████████████████████████████████████▏    | 739/787 [1:10:39<02:52,  3.60s/it]"
     ]
    },
    {
     "name": "stdout",
     "output_type": "stream",
     "text": [
      "55 Trendon Watford https://www.basketball-reference.com/players/w/watfotr01/gamelog/2024\n",
      "55 Peyton Watson https://www.basketball-reference.com/players/w/watsope01/gamelog/2024\n",
      "56 Peyton Watson https://www.basketball-reference.com/players/w/watsope01/gamelog/2023\n"
     ]
    },
    {
     "name": "stderr",
     "output_type": "stream",
     "text": [
      " 94%|█████████████████████████████████████████████████████████████████████████▎    | 740/787 [1:10:50<04:41,  5.99s/it]"
     ]
    },
    {
     "name": "stdout",
     "output_type": "stream",
     "text": [
      "57 Quinndary Weatherspoon https://www.basketball-reference.com/players/w/weathqu01/gamelog/2022\n"
     ]
    },
    {
     "name": "stderr",
     "output_type": "stream",
     "text": [
      " 94%|█████████████████████████████████████████████████████████████████████████▍    | 741/787 [1:10:57<04:50,  6.32s/it]"
     ]
    },
    {
     "name": "stdout",
     "output_type": "stream",
     "text": [
      "58 Quinndary Weatherspoon https://www.basketball-reference.com/players/w/weathqu01/gamelog/2021\n"
     ]
    },
    {
     "name": "stderr",
     "output_type": "stream",
     "text": [
      " 94%|█████████████████████████████████████████████████████████████████████████▌    | 742/787 [1:10:59<03:42,  4.95s/it]"
     ]
    },
    {
     "name": "stdout",
     "output_type": "stream",
     "text": [
      "58 Thomas Welsh https://www.basketball-reference.com/players/w/welshth01/gamelog/2019\n"
     ]
    },
    {
     "name": "stderr",
     "output_type": "stream",
     "text": [
      " 94%|█████████████████████████████████████████████████████████████████████████▋    | 743/787 [1:11:01<02:51,  3.91s/it]"
     ]
    },
    {
     "name": "stdout",
     "output_type": "stream",
     "text": [
      "58 Victor Wembanyama https://www.basketball-reference.com/players/w/wembavi01/gamelog/2024\n"
     ]
    },
    {
     "name": "stderr",
     "output_type": "stream",
     "text": [
      " 95%|█████████████████████████████████████████████████████████████████████████▋    | 744/787 [1:11:03<02:22,  3.32s/it]"
     ]
    },
    {
     "name": "stdout",
     "output_type": "stream",
     "text": [
      "58 Blake Wesley https://www.basketball-reference.com/players/w/weslebl01/gamelog/2024\n",
      "58 Russell Westbrook https://www.basketball-reference.com/players/w/westbru01/gamelog/2024\n",
      "59 Russell Westbrook https://www.basketball-reference.com/players/w/westbru01/gamelog/2023\n"
     ]
    },
    {
     "name": "stderr",
     "output_type": "stream",
     "text": [
      " 95%|█████████████████████████████████████████████████████████████████████████▊    | 745/787 [1:11:15<04:18,  6.15s/it]"
     ]
    },
    {
     "name": "stdout",
     "output_type": "stream",
     "text": [
      "60 Russell Westbrook https://www.basketball-reference.com/players/w/westbru01/gamelog/2022\n"
     ]
    },
    {
     "name": "stderr",
     "output_type": "stream",
     "text": [
      " 95%|█████████████████████████████████████████████████████████████████████████▉    | 746/787 [1:11:18<03:23,  4.97s/it]"
     ]
    },
    {
     "name": "stdout",
     "output_type": "stream",
     "text": [
      "60 Coby White https://www.basketball-reference.com/players/w/whiteco01/gamelog/2024\n",
      "60 Derrick White https://www.basketball-reference.com/players/w/whitede01/gamelog/2024\n",
      "61 Derrick White https://www.basketball-reference.com/players/w/whitede01/gamelog/2023\n",
      "62 Derrick White https://www.basketball-reference.com/players/w/whitede01/gamelog/2022\n"
     ]
    },
    {
     "name": "stderr",
     "output_type": "stream",
     "text": [
      " 95%|██████████████████████████████████████████████████████████████████████████▏   | 748/787 [1:11:44<05:22,  8.26s/it]"
     ]
    },
    {
     "name": "stdout",
     "output_type": "stream",
     "text": [
      "63 Jack White https://www.basketball-reference.com/players/w/whiteja03/gamelog/2024\n"
     ]
    },
    {
     "name": "stderr",
     "output_type": "stream",
     "text": [
      " 95%|██████████████████████████████████████████████████████████████████████████▏   | 749/787 [1:11:46<03:58,  6.27s/it]"
     ]
    },
    {
     "name": "stdout",
     "output_type": "stream",
     "text": [
      "63 Okaro White https://www.basketball-reference.com/players/w/whiteok01/gamelog/2019\n"
     ]
    },
    {
     "name": "stderr",
     "output_type": "stream",
     "text": [
      " 95%|██████████████████████████████████████████████████████████████████████████▎   | 750/787 [1:11:48<03:06,  5.04s/it]"
     ]
    },
    {
     "name": "stdout",
     "output_type": "stream",
     "text": [
      "63 Cam Whitmore https://www.basketball-reference.com/players/w/whitmca01/gamelog/2024\n"
     ]
    },
    {
     "name": "stderr",
     "output_type": "stream",
     "text": [
      " 95%|██████████████████████████████████████████████████████████████████████████▍   | 751/787 [1:11:50<02:22,  3.96s/it]"
     ]
    },
    {
     "name": "stdout",
     "output_type": "stream",
     "text": [
      "63 Joe Wieskamp https://www.basketball-reference.com/players/w/wieskjo01/gamelog/2023\n",
      "63 Aaron Wiggins https://www.basketball-reference.com/players/w/wiggiaa01/gamelog/2024\n"
     ]
    },
    {
     "name": "stderr",
     "output_type": "stream",
     "text": [
      " 96%|██████████████████████████████████████████████████████████████████████████▌   | 752/787 [1:11:58<03:02,  5.22s/it]"
     ]
    },
    {
     "name": "stdout",
     "output_type": "stream",
     "text": [
      "64 Aaron Wiggins https://www.basketball-reference.com/players/w/wiggiaa01/gamelog/2023\n"
     ]
    },
    {
     "name": "stderr",
     "output_type": "stream",
     "text": [
      " 96%|██████████████████████████████████████████████████████████████████████████▋   | 753/787 [1:12:00<02:24,  4.26s/it]"
     ]
    },
    {
     "name": "stdout",
     "output_type": "stream",
     "text": [
      "64 Andrew Wiggins https://www.basketball-reference.com/players/w/wiggian01/gamelog/2024\n"
     ]
    },
    {
     "name": "stderr",
     "output_type": "stream",
     "text": [
      " 96%|██████████████████████████████████████████████████████████████████████████▋   | 754/787 [1:12:01<01:55,  3.50s/it]"
     ]
    },
    {
     "name": "stdout",
     "output_type": "stream",
     "text": [
      "64 Lindell Wigginton https://www.basketball-reference.com/players/w/wiggili01/gamelog/2024\n"
     ]
    },
    {
     "name": "stderr",
     "output_type": "stream",
     "text": [
      " 96%|██████████████████████████████████████████████████████████████████████████▊   | 755/787 [1:12:03<01:36,  3.01s/it]"
     ]
    },
    {
     "name": "stdout",
     "output_type": "stream",
     "text": [
      "64 Alondes Williams https://www.basketball-reference.com/players/w/willial06/gamelog/2024\n"
     ]
    },
    {
     "name": "stderr",
     "output_type": "stream",
     "text": [
      " 96%|██████████████████████████████████████████████████████████████████████████▉   | 756/787 [1:12:05<01:22,  2.66s/it]"
     ]
    },
    {
     "name": "stdout",
     "output_type": "stream",
     "text": [
      "64 Brandon Williams https://www.basketball-reference.com/players/w/willibr03/gamelog/2024\n"
     ]
    },
    {
     "name": "stderr",
     "output_type": "stream",
     "text": [
      " 96%|███████████████████████████████████████████████████████████████████████████   | 757/787 [1:12:07<01:11,  2.40s/it]"
     ]
    },
    {
     "name": "stdout",
     "output_type": "stream",
     "text": [
      "64 Donovan Williams https://www.basketball-reference.com/players/w/willido02/gamelog/2023\n"
     ]
    },
    {
     "name": "stderr",
     "output_type": "stream",
     "text": [
      " 96%|███████████████████████████████████████████████████████████████████████████▏  | 758/787 [1:12:09<01:09,  2.39s/it]"
     ]
    },
    {
     "name": "stdout",
     "output_type": "stream",
     "text": [
      "64 Grant Williams https://www.basketball-reference.com/players/w/willigr01/gamelog/2024\n",
      "64 Jalen Williams https://www.basketball-reference.com/players/w/willija06/gamelog/2024\n"
     ]
    },
    {
     "name": "stderr",
     "output_type": "stream",
     "text": [
      " 96%|███████████████████████████████████████████████████████████████████████████▏  | 759/787 [1:12:18<02:01,  4.35s/it]"
     ]
    },
    {
     "name": "stdout",
     "output_type": "stream",
     "text": [
      "65 Jalen Williams https://www.basketball-reference.com/players/w/willija06/gamelog/2023\n",
      "65 Jaylin Williams https://www.basketball-reference.com/players/w/willija07/gamelog/2024\n"
     ]
    },
    {
     "name": "stderr",
     "output_type": "stream",
     "text": [
      " 97%|███████████████████████████████████████████████████████████████████████████▎  | 760/787 [1:12:27<02:31,  5.61s/it]"
     ]
    },
    {
     "name": "stdout",
     "output_type": "stream",
     "text": [
      "66 Jaylin Williams https://www.basketball-reference.com/players/w/willija07/gamelog/2023\n"
     ]
    },
    {
     "name": "stderr",
     "output_type": "stream",
     "text": [
      " 97%|███████████████████████████████████████████████████████████████████████████▍  | 761/787 [1:12:29<01:58,  4.56s/it]"
     ]
    },
    {
     "name": "stdout",
     "output_type": "stream",
     "text": [
      "66 Jeenathan Williams https://www.basketball-reference.com/players/w/willije02/gamelog/2024\n",
      "66 Kenrich Williams https://www.basketball-reference.com/players/w/willike04/gamelog/2024\n"
     ]
    },
    {
     "name": "stderr",
     "output_type": "stream",
     "text": [
      " 97%|███████████████████████████████████████████████████████████████████████████▌  | 762/787 [1:12:38<02:28,  5.92s/it]"
     ]
    },
    {
     "name": "stdout",
     "output_type": "stream",
     "text": [
      "67 Kenrich Williams https://www.basketball-reference.com/players/w/willike04/gamelog/2023\n"
     ]
    },
    {
     "name": "stderr",
     "output_type": "stream",
     "text": [
      " 97%|███████████████████████████████████████████████████████████████████████████▌  | 763/787 [1:12:40<01:51,  4.65s/it]"
     ]
    },
    {
     "name": "stdout",
     "output_type": "stream",
     "text": [
      "67 Malik Williams https://www.basketball-reference.com/players/w/willima11/gamelog/2024\n"
     ]
    },
    {
     "name": "stderr",
     "output_type": "stream",
     "text": [
      " 97%|███████████████████████████████████████████████████████████████████████████▋  | 764/787 [1:12:42<01:29,  3.88s/it]"
     ]
    },
    {
     "name": "stdout",
     "output_type": "stream",
     "text": [
      "67 Mark Williams https://www.basketball-reference.com/players/w/willima07/gamelog/2024\n"
     ]
    },
    {
     "name": "stderr",
     "output_type": "stream",
     "text": [
      " 97%|███████████████████████████████████████████████████████████████████████████▊  | 765/787 [1:12:44<01:13,  3.36s/it]"
     ]
    },
    {
     "name": "stdout",
     "output_type": "stream",
     "text": [
      "67 Patrick Williams https://www.basketball-reference.com/players/w/willipa01/gamelog/2024\n"
     ]
    },
    {
     "name": "stderr",
     "output_type": "stream",
     "text": [
      " 97%|███████████████████████████████████████████████████████████████████████████▉  | 766/787 [1:12:46<01:03,  3.00s/it]"
     ]
    },
    {
     "name": "stdout",
     "output_type": "stream",
     "text": [
      "67 Robert Williams https://www.basketball-reference.com/players/w/williro04/gamelog/2024\n"
     ]
    },
    {
     "name": "stderr",
     "output_type": "stream",
     "text": [
      " 97%|████████████████████████████████████████████████████████████████████████████  | 767/787 [1:12:48<00:54,  2.75s/it]"
     ]
    },
    {
     "name": "stdout",
     "output_type": "stream",
     "text": [
      "67 Vince Williams Jr. https://www.basketball-reference.com/players/w/willivi01/gamelog/2024\n"
     ]
    },
    {
     "name": "stderr",
     "output_type": "stream",
     "text": [
      " 98%|████████████████████████████████████████████████████████████████████████████  | 768/787 [1:12:51<00:50,  2.65s/it]"
     ]
    },
    {
     "name": "stdout",
     "output_type": "stream",
     "text": [
      "67 Ziaire Williams https://www.basketball-reference.com/players/w/willizi02/gamelog/2024\n",
      "67 Zion Williamson https://www.basketball-reference.com/players/w/willizi01/gamelog/2024\n"
     ]
    },
    {
     "name": "stderr",
     "output_type": "stream",
     "text": [
      " 98%|████████████████████████████████████████████████████████████████████████████▏ | 769/787 [1:12:57<01:09,  3.88s/it]"
     ]
    },
    {
     "name": "stdout",
     "output_type": "stream",
     "text": [
      "68 Zion Williamson https://www.basketball-reference.com/players/w/willizi01/gamelog/2023\n"
     ]
    },
    {
     "name": "stderr",
     "output_type": "stream",
     "text": [
      " 98%|████████████████████████████████████████████████████████████████████████████▎ | 770/787 [1:12:59<00:54,  3.20s/it]"
     ]
    },
    {
     "name": "stdout",
     "output_type": "stream",
     "text": [
      "68 D.J. Wilson https://www.basketball-reference.com/players/w/wilsodj01/gamelog/2024\n"
     ]
    },
    {
     "name": "stderr",
     "output_type": "stream",
     "text": [
      " 98%|████████████████████████████████████████████████████████████████████████████▍ | 771/787 [1:13:01<00:44,  2.79s/it]"
     ]
    },
    {
     "name": "stdout",
     "output_type": "stream",
     "text": [
      "68 Jalen Wilson https://www.basketball-reference.com/players/w/wilsoja03/gamelog/2024\n"
     ]
    },
    {
     "name": "stderr",
     "output_type": "stream",
     "text": [
      " 98%|████████████████████████████████████████████████████████████████████████████▌ | 772/787 [1:13:03<00:37,  2.52s/it]"
     ]
    },
    {
     "name": "stdout",
     "output_type": "stream",
     "text": [
      "68 Dylan Windler https://www.basketball-reference.com/players/w/windldy01/gamelog/2024\n"
     ]
    },
    {
     "name": "stderr",
     "output_type": "stream",
     "text": [
      " 98%|████████████████████████████████████████████████████████████████████████████▌ | 773/787 [1:13:05<00:33,  2.40s/it]"
     ]
    },
    {
     "name": "stdout",
     "output_type": "stream",
     "text": [
      "68 Justise Winslow https://www.basketball-reference.com/players/w/winslju01/gamelog/2023\n"
     ]
    },
    {
     "name": "stderr",
     "output_type": "stream",
     "text": [
      " 98%|████████████████████████████████████████████████████████████████████████████▋ | 774/787 [1:13:07<00:29,  2.28s/it]"
     ]
    },
    {
     "name": "stdout",
     "output_type": "stream",
     "text": [
      "68 Cassius Winston https://www.basketball-reference.com/players/w/winstca01/gamelog/2022\n"
     ]
    },
    {
     "name": "stderr",
     "output_type": "stream",
     "text": [
      " 98%|████████████████████████████████████████████████████████████████████████████▊ | 775/787 [1:13:09<00:27,  2.33s/it]"
     ]
    },
    {
     "name": "stdout",
     "output_type": "stream",
     "text": [
      "68 James Wiseman https://www.basketball-reference.com/players/w/wisemja01/gamelog/2024\n"
     ]
    },
    {
     "name": "stderr",
     "output_type": "stream",
     "text": [
      " 99%|████████████████████████████████████████████████████████████████████████████▉ | 776/787 [1:13:12<00:25,  2.32s/it]"
     ]
    },
    {
     "name": "stdout",
     "output_type": "stream",
     "text": [
      "68 Isaiah Wong https://www.basketball-reference.com/players/w/wongis01/gamelog/2024\n",
      "68 Christian Wood https://www.basketball-reference.com/players/w/woodch01/gamelog/2024\n"
     ]
    },
    {
     "name": "stderr",
     "output_type": "stream",
     "text": [
      " 99%|█████████████████████████████████████████████████████████████████████████████ | 777/787 [1:13:19<00:39,  3.92s/it]"
     ]
    },
    {
     "name": "stdout",
     "output_type": "stream",
     "text": [
      "69 Christian Wood https://www.basketball-reference.com/players/w/woodch01/gamelog/2023\n"
     ]
    },
    {
     "name": "stderr",
     "output_type": "stream",
     "text": [
      " 99%|█████████████████████████████████████████████████████████████████████████████ | 778/787 [1:13:21<00:29,  3.29s/it]"
     ]
    },
    {
     "name": "stdout",
     "output_type": "stream",
     "text": [
      "69 Robert Woodard II https://www.basketball-reference.com/players/w/woodaro01/gamelog/2022\n",
      "69 Delon Wright https://www.basketball-reference.com/players/w/wrighde01/gamelog/2024\n"
     ]
    },
    {
     "name": "stderr",
     "output_type": "stream",
     "text": [
      " 99%|█████████████████████████████████████████████████████████████████████████████▏| 779/787 [1:13:29<00:37,  4.65s/it]"
     ]
    },
    {
     "name": "stdout",
     "output_type": "stream",
     "text": [
      "70 Delon Wright https://www.basketball-reference.com/players/w/wrighde01/gamelog/2023\n",
      "70 McKinley Wright IV https://www.basketball-reference.com/players/w/wrighmc01/gamelog/2023\n"
     ]
    },
    {
     "name": "stderr",
     "output_type": "stream",
     "text": [
      " 99%|█████████████████████████████████████████████████████████████████████████████▎| 780/787 [1:13:30<00:25,  3.67s/it]"
     ]
    },
    {
     "name": "stdout",
     "output_type": "stream",
     "text": [
      "70 Justin Wright-Foreman https://www.basketball-reference.com/players/w/wrighju02/gamelog/2020\n"
     ]
    },
    {
     "name": "stderr",
     "output_type": "stream",
     "text": [
      " 99%|█████████████████████████████████████████████████████████████████████████████▌| 782/787 [1:13:36<00:16,  3.21s/it]"
     ]
    },
    {
     "name": "stdout",
     "output_type": "stream",
     "text": [
      "71 Gabe York https://www.basketball-reference.com/players/y/yorkga01/gamelog/2023\n",
      "71 Thaddeus Young https://www.basketball-reference.com/players/y/youngth01/gamelog/2024\n"
     ]
    },
    {
     "name": "stderr",
     "output_type": "stream",
     "text": [
      " 99%|█████████████████████████████████████████████████████████████████████████████▌| 783/787 [1:13:43<00:17,  4.27s/it]"
     ]
    },
    {
     "name": "stdout",
     "output_type": "stream",
     "text": [
      "72 Thaddeus Young https://www.basketball-reference.com/players/y/youngth01/gamelog/2023\n"
     ]
    },
    {
     "name": "stderr",
     "output_type": "stream",
     "text": [
      "100%|█████████████████████████████████████████████████████████████████████████████▋| 784/787 [1:13:44<00:10,  3.43s/it]"
     ]
    },
    {
     "name": "stdout",
     "output_type": "stream",
     "text": [
      "72 Trae Young https://www.basketball-reference.com/players/y/youngtr01/gamelog/2024\n"
     ]
    },
    {
     "name": "stderr",
     "output_type": "stream",
     "text": [
      "100%|█████████████████████████████████████████████████████████████████████████████▊| 785/787 [1:13:46<00:05,  2.96s/it]"
     ]
    },
    {
     "name": "stdout",
     "output_type": "stream",
     "text": [
      "72 Omer Yurtseven https://www.basketball-reference.com/players/y/yurtsom01/gamelog/2024\n",
      "72 Cody Zeller https://www.basketball-reference.com/players/z/zelleco01/gamelog/2024\n",
      "73 Cody Zeller https://www.basketball-reference.com/players/z/zelleco01/gamelog/2023\n"
     ]
    },
    {
     "name": "stderr",
     "output_type": "stream",
     "text": [
      "100%|█████████████████████████████████████████████████████████████████████████████▉| 786/787 [1:14:01<00:06,  6.42s/it]"
     ]
    },
    {
     "name": "stdout",
     "output_type": "stream",
     "text": [
      "74 Cody Zeller https://www.basketball-reference.com/players/z/zelleco01/gamelog/2022\n",
      "74 Ivica Zubac https://www.basketball-reference.com/players/z/zubaciv01/gamelog/2024\n",
      "75 Ivica Zubac https://www.basketball-reference.com/players/z/zubaciv01/gamelog/2023\n"
     ]
    },
    {
     "name": "stderr",
     "output_type": "stream",
     "text": [
      "100%|██████████████████████████████████████████████████████████████████████████████| 787/787 [1:14:15<00:00,  5.66s/it]"
     ]
    },
    {
     "name": "stdout",
     "output_type": "stream",
     "text": [
      "76 Ivica Zubac https://www.basketball-reference.com/players/z/zubaciv01/gamelog/2022\n"
     ]
    },
    {
     "name": "stderr",
     "output_type": "stream",
     "text": [
      "\n"
     ]
    }
   ],
   "source": [
    "# Path to the chromedriver executable\n",
    "chromedriver_path = 'C:\\Program Files\\chromedriver-win64\\chromedriver.exe'\n",
    "\n",
    "# Set up the service\n",
    "service = Service(chromedriver_path)\n",
    "\n",
    "gamelogs2 = pd.DataFrame( columns = [\"Name\", \"Link\", \"Game\", \"Date\", \"Match Link\", \"Age\", \"Team\",\n",
    "                                   \"Location\", \"Opponent\", \"Result\", \"GS\",\n",
    "                                   \"MP\", \"FG\", \"FGA\", \"FG%\", \"3P\", \"3PA\",\n",
    "                                   \"3P%\", \"FT\", \"FTA\", \"FT%\", \"ORB\", \"DRB\",\n",
    "                                   \"TRB\", \"AST\", \"STL\", \"BLK\", \"TOV\", \"PF\",\n",
    "                                   \"PTS\", \"GmSc\", \"+/-\"])\n",
    "\n",
    "counter = 0\n",
    "for ind in tqdm(players.index):\n",
    "    for url in players[\"Gamelogs\"][ind]:\n",
    "        # Initialize the Chrome driver with the service\n",
    "        driver = webdriver.Chrome(service=service)\n",
    "        # Open the website\n",
    "        driver.get(url)\n",
    "        print(counter, players[\"Name\"][ind], url)\n",
    "        try:\n",
    "            table = driver.find_element(By.ID, 'pgl_basic_playoffs')\n",
    "        except NoSuchElementException:\n",
    "            # Element not found, exit the loop\n",
    "            break\n",
    "            \n",
    "        rows = table.find_element(By.TAG_NAME, 'tbody').find_elements(By.XPATH, './/tr[@id]')\n",
    "        playoffs = get_gamelog_playoffs(rows, players[\"Name\"][ind], players[\"Link\"][ind])\n",
    "        gamelogs2 = pd.concat([gamelogs2, playoffs])\n",
    "        \n",
    "        counter+=1\n",
    "        if counter == 90:\n",
    "            gamelogs2.to_csv(\"playoffs.csv\", index=False)\n",
    "            counter=0\n",
    "        driver.quit()\n",
    "gamelogs2.to_csv(\"playoffs.csv\", index=False)"
   ]
  },
  {
   "cell_type": "code",
   "execution_count": 134,
   "id": "b16f22ef-164b-4c15-a177-11fc9ba21654",
   "metadata": {},
   "outputs": [
    {
     "data": {
      "text/html": [
       "<div>\n",
       "<style scoped>\n",
       "    .dataframe tbody tr th:only-of-type {\n",
       "        vertical-align: middle;\n",
       "    }\n",
       "\n",
       "    .dataframe tbody tr th {\n",
       "        vertical-align: top;\n",
       "    }\n",
       "\n",
       "    .dataframe thead th {\n",
       "        text-align: right;\n",
       "    }\n",
       "</style>\n",
       "<table border=\"1\" class=\"dataframe\">\n",
       "  <thead>\n",
       "    <tr style=\"text-align: right;\">\n",
       "      <th></th>\n",
       "      <th>Name</th>\n",
       "      <th>Link</th>\n",
       "      <th>Game</th>\n",
       "      <th>Date</th>\n",
       "      <th>Match Link</th>\n",
       "      <th>Age</th>\n",
       "      <th>Team</th>\n",
       "      <th>Location</th>\n",
       "      <th>Opponent</th>\n",
       "      <th>Result</th>\n",
       "      <th>GS</th>\n",
       "      <th>MP</th>\n",
       "      <th>FG</th>\n",
       "      <th>FGA</th>\n",
       "      <th>FG%</th>\n",
       "      <th>3P</th>\n",
       "      <th>3PA</th>\n",
       "      <th>3P%</th>\n",
       "      <th>FT</th>\n",
       "      <th>FTA</th>\n",
       "      <th>FT%</th>\n",
       "      <th>ORB</th>\n",
       "      <th>DRB</th>\n",
       "      <th>TRB</th>\n",
       "      <th>AST</th>\n",
       "      <th>STL</th>\n",
       "      <th>BLK</th>\n",
       "      <th>TOV</th>\n",
       "      <th>PF</th>\n",
       "      <th>PTS</th>\n",
       "      <th>GmSc</th>\n",
       "      <th>+/-</th>\n",
       "    </tr>\n",
       "  </thead>\n",
       "  <tbody>\n",
       "    <tr>\n",
       "      <th>0</th>\n",
       "      <td>Precious Achiuwa</td>\n",
       "      <td>https://www.basketball-reference.com/players/a/achiupr01.html</td>\n",
       "      <td>1</td>\n",
       "      <td>2024-04-25</td>\n",
       "      <td>https://www.basketball-reference.com/boxscores/202404250PHI.html</td>\n",
       "      <td>24-219</td>\n",
       "      <td>NYK</td>\n",
       "      <td>@</td>\n",
       "      <td>PHI</td>\n",
       "      <td>L (-11)</td>\n",
       "      <td>0</td>\n",
       "      <td>10:11</td>\n",
       "      <td>2</td>\n",
       "      <td>2</td>\n",
       "      <td>1.000</td>\n",
       "      <td>0</td>\n",
       "      <td>0</td>\n",
       "      <td></td>\n",
       "      <td>0</td>\n",
       "      <td>0</td>\n",
       "      <td></td>\n",
       "      <td>0</td>\n",
       "      <td>0</td>\n",
       "      <td>0</td>\n",
       "      <td>0</td>\n",
       "      <td>0</td>\n",
       "      <td>1</td>\n",
       "      <td>1</td>\n",
       "      <td>3</td>\n",
       "      <td>4</td>\n",
       "      <td>1.9</td>\n",
       "      <td>+6</td>\n",
       "    </tr>\n",
       "    <tr>\n",
       "      <th>1</th>\n",
       "      <td>Precious Achiuwa</td>\n",
       "      <td>https://www.basketball-reference.com/players/a/achiupr01.html</td>\n",
       "      <td>2</td>\n",
       "      <td>2024-04-28</td>\n",
       "      <td>https://www.basketball-reference.com/boxscores/202404280PHI.html</td>\n",
       "      <td>24-222</td>\n",
       "      <td>NYK</td>\n",
       "      <td>@</td>\n",
       "      <td>PHI</td>\n",
       "      <td>W (+5)</td>\n",
       "      <td>0</td>\n",
       "      <td>19:48</td>\n",
       "      <td>0</td>\n",
       "      <td>5</td>\n",
       "      <td>.000</td>\n",
       "      <td>0</td>\n",
       "      <td>0</td>\n",
       "      <td></td>\n",
       "      <td>1</td>\n",
       "      <td>2</td>\n",
       "      <td>.500</td>\n",
       "      <td>4</td>\n",
       "      <td>3</td>\n",
       "      <td>7</td>\n",
       "      <td>2</td>\n",
       "      <td>0</td>\n",
       "      <td>4</td>\n",
       "      <td>1</td>\n",
       "      <td>1</td>\n",
       "      <td>1</td>\n",
       "      <td>3.6</td>\n",
       "      <td>+11</td>\n",
       "    </tr>\n",
       "    <tr>\n",
       "      <th>2</th>\n",
       "      <td>Precious Achiuwa</td>\n",
       "      <td>https://www.basketball-reference.com/players/a/achiupr01.html</td>\n",
       "      <td>3</td>\n",
       "      <td>2024-05-06</td>\n",
       "      <td>https://www.basketball-reference.com/boxscores/202405060NYK.html</td>\n",
       "      <td>24-230</td>\n",
       "      <td>NYK</td>\n",
       "      <td></td>\n",
       "      <td>IND</td>\n",
       "      <td>W (+4)</td>\n",
       "      <td>0</td>\n",
       "      <td>4:18</td>\n",
       "      <td>0</td>\n",
       "      <td>0</td>\n",
       "      <td></td>\n",
       "      <td>0</td>\n",
       "      <td>0</td>\n",
       "      <td></td>\n",
       "      <td>1</td>\n",
       "      <td>2</td>\n",
       "      <td>.500</td>\n",
       "      <td>0</td>\n",
       "      <td>1</td>\n",
       "      <td>1</td>\n",
       "      <td>0</td>\n",
       "      <td>0</td>\n",
       "      <td>0</td>\n",
       "      <td>0</td>\n",
       "      <td>0</td>\n",
       "      <td>1</td>\n",
       "      <td>0.9</td>\n",
       "      <td>-6</td>\n",
       "    </tr>\n",
       "    <tr>\n",
       "      <th>3</th>\n",
       "      <td>Precious Achiuwa</td>\n",
       "      <td>https://www.basketball-reference.com/players/a/achiupr01.html</td>\n",
       "      <td>4</td>\n",
       "      <td>2024-05-08</td>\n",
       "      <td>https://www.basketball-reference.com/boxscores/202405080NYK.html</td>\n",
       "      <td>24-232</td>\n",
       "      <td>NYK</td>\n",
       "      <td></td>\n",
       "      <td>IND</td>\n",
       "      <td>W (+9)</td>\n",
       "      <td>0</td>\n",
       "      <td>28:08</td>\n",
       "      <td>4</td>\n",
       "      <td>5</td>\n",
       "      <td>.800</td>\n",
       "      <td>0</td>\n",
       "      <td>0</td>\n",
       "      <td></td>\n",
       "      <td>0</td>\n",
       "      <td>0</td>\n",
       "      <td></td>\n",
       "      <td>3</td>\n",
       "      <td>2</td>\n",
       "      <td>5</td>\n",
       "      <td>0</td>\n",
       "      <td>0</td>\n",
       "      <td>0</td>\n",
       "      <td>0</td>\n",
       "      <td>4</td>\n",
       "      <td>8</td>\n",
       "      <td>7.2</td>\n",
       "      <td>-14</td>\n",
       "    </tr>\n",
       "    <tr>\n",
       "      <th>4</th>\n",
       "      <td>Precious Achiuwa</td>\n",
       "      <td>https://www.basketball-reference.com/players/a/achiupr01.html</td>\n",
       "      <td>5</td>\n",
       "      <td>2024-05-10</td>\n",
       "      <td>https://www.basketball-reference.com/boxscores/202405100IND.html</td>\n",
       "      <td>24-234</td>\n",
       "      <td>NYK</td>\n",
       "      <td>@</td>\n",
       "      <td>IND</td>\n",
       "      <td>L (-5)</td>\n",
       "      <td>1</td>\n",
       "      <td>21:47</td>\n",
       "      <td>2</td>\n",
       "      <td>3</td>\n",
       "      <td>.667</td>\n",
       "      <td>0</td>\n",
       "      <td>0</td>\n",
       "      <td></td>\n",
       "      <td>1</td>\n",
       "      <td>2</td>\n",
       "      <td>.500</td>\n",
       "      <td>4</td>\n",
       "      <td>2</td>\n",
       "      <td>6</td>\n",
       "      <td>0</td>\n",
       "      <td>0</td>\n",
       "      <td>3</td>\n",
       "      <td>2</td>\n",
       "      <td>2</td>\n",
       "      <td>5</td>\n",
       "      <td>6.0</td>\n",
       "      <td>-6</td>\n",
       "    </tr>\n",
       "    <tr>\n",
       "      <th>...</th>\n",
       "      <td>...</td>\n",
       "      <td>...</td>\n",
       "      <td>...</td>\n",
       "      <td>...</td>\n",
       "      <td>...</td>\n",
       "      <td>...</td>\n",
       "      <td>...</td>\n",
       "      <td>...</td>\n",
       "      <td>...</td>\n",
       "      <td>...</td>\n",
       "      <td>...</td>\n",
       "      <td>...</td>\n",
       "      <td>...</td>\n",
       "      <td>...</td>\n",
       "      <td>...</td>\n",
       "      <td>...</td>\n",
       "      <td>...</td>\n",
       "      <td>...</td>\n",
       "      <td>...</td>\n",
       "      <td>...</td>\n",
       "      <td>...</td>\n",
       "      <td>...</td>\n",
       "      <td>...</td>\n",
       "      <td>...</td>\n",
       "      <td>...</td>\n",
       "      <td>...</td>\n",
       "      <td>...</td>\n",
       "      <td>...</td>\n",
       "      <td>...</td>\n",
       "      <td>...</td>\n",
       "      <td>...</td>\n",
       "      <td>...</td>\n",
       "    </tr>\n",
       "    <tr>\n",
       "      <th>0</th>\n",
       "      <td>Ivica Zubac</td>\n",
       "      <td>https://www.basketball-reference.com/players/z/zubaciv01.html</td>\n",
       "      <td>1</td>\n",
       "      <td>2023-04-16</td>\n",
       "      <td>https://www.basketball-reference.com/boxscores/202304160PHO.html</td>\n",
       "      <td>26-029</td>\n",
       "      <td>LAC</td>\n",
       "      <td>@</td>\n",
       "      <td>PHO</td>\n",
       "      <td>W (+5)</td>\n",
       "      <td>1</td>\n",
       "      <td>29:43</td>\n",
       "      <td>5</td>\n",
       "      <td>8</td>\n",
       "      <td>.625</td>\n",
       "      <td>0</td>\n",
       "      <td>0</td>\n",
       "      <td></td>\n",
       "      <td>2</td>\n",
       "      <td>4</td>\n",
       "      <td>.500</td>\n",
       "      <td>4</td>\n",
       "      <td>11</td>\n",
       "      <td>15</td>\n",
       "      <td>0</td>\n",
       "      <td>0</td>\n",
       "      <td>0</td>\n",
       "      <td>3</td>\n",
       "      <td>3</td>\n",
       "      <td>12</td>\n",
       "      <td>9.5</td>\n",
       "      <td>-11</td>\n",
       "    </tr>\n",
       "    <tr>\n",
       "      <th>1</th>\n",
       "      <td>Ivica Zubac</td>\n",
       "      <td>https://www.basketball-reference.com/players/z/zubaciv01.html</td>\n",
       "      <td>2</td>\n",
       "      <td>2023-04-18</td>\n",
       "      <td>https://www.basketball-reference.com/boxscores/202304180PHO.html</td>\n",
       "      <td>26-031</td>\n",
       "      <td>LAC</td>\n",
       "      <td>@</td>\n",
       "      <td>PHO</td>\n",
       "      <td>L (-14)</td>\n",
       "      <td>1</td>\n",
       "      <td>29:29</td>\n",
       "      <td>2</td>\n",
       "      <td>7</td>\n",
       "      <td>.286</td>\n",
       "      <td>0</td>\n",
       "      <td>0</td>\n",
       "      <td></td>\n",
       "      <td>4</td>\n",
       "      <td>6</td>\n",
       "      <td>.667</td>\n",
       "      <td>4</td>\n",
       "      <td>2</td>\n",
       "      <td>6</td>\n",
       "      <td>0</td>\n",
       "      <td>2</td>\n",
       "      <td>0</td>\n",
       "      <td>3</td>\n",
       "      <td>1</td>\n",
       "      <td>8</td>\n",
       "      <td>5.1</td>\n",
       "      <td>-14</td>\n",
       "    </tr>\n",
       "    <tr>\n",
       "      <th>2</th>\n",
       "      <td>Ivica Zubac</td>\n",
       "      <td>https://www.basketball-reference.com/players/z/zubaciv01.html</td>\n",
       "      <td>3</td>\n",
       "      <td>2023-04-20</td>\n",
       "      <td>https://www.basketball-reference.com/boxscores/202304200LAC.html</td>\n",
       "      <td>26-033</td>\n",
       "      <td>LAC</td>\n",
       "      <td></td>\n",
       "      <td>PHO</td>\n",
       "      <td>L (-5)</td>\n",
       "      <td>1</td>\n",
       "      <td>22:20</td>\n",
       "      <td>3</td>\n",
       "      <td>4</td>\n",
       "      <td>.750</td>\n",
       "      <td>0</td>\n",
       "      <td>0</td>\n",
       "      <td></td>\n",
       "      <td>0</td>\n",
       "      <td>0</td>\n",
       "      <td></td>\n",
       "      <td>1</td>\n",
       "      <td>7</td>\n",
       "      <td>8</td>\n",
       "      <td>0</td>\n",
       "      <td>0</td>\n",
       "      <td>0</td>\n",
       "      <td>2</td>\n",
       "      <td>1</td>\n",
       "      <td>6</td>\n",
       "      <td>4.8</td>\n",
       "      <td>-5</td>\n",
       "    </tr>\n",
       "    <tr>\n",
       "      <th>3</th>\n",
       "      <td>Ivica Zubac</td>\n",
       "      <td>https://www.basketball-reference.com/players/z/zubaciv01.html</td>\n",
       "      <td>4</td>\n",
       "      <td>2023-04-22</td>\n",
       "      <td>https://www.basketball-reference.com/boxscores/202304220LAC.html</td>\n",
       "      <td>26-035</td>\n",
       "      <td>LAC</td>\n",
       "      <td></td>\n",
       "      <td>PHO</td>\n",
       "      <td>L (-12)</td>\n",
       "      <td>1</td>\n",
       "      <td>24:25</td>\n",
       "      <td>2</td>\n",
       "      <td>5</td>\n",
       "      <td>.400</td>\n",
       "      <td>0</td>\n",
       "      <td>0</td>\n",
       "      <td></td>\n",
       "      <td>0</td>\n",
       "      <td>0</td>\n",
       "      <td></td>\n",
       "      <td>3</td>\n",
       "      <td>6</td>\n",
       "      <td>9</td>\n",
       "      <td>1</td>\n",
       "      <td>1</td>\n",
       "      <td>0</td>\n",
       "      <td>1</td>\n",
       "      <td>1</td>\n",
       "      <td>4</td>\n",
       "      <td>5.5</td>\n",
       "      <td>-8</td>\n",
       "    </tr>\n",
       "    <tr>\n",
       "      <th>4</th>\n",
       "      <td>Ivica Zubac</td>\n",
       "      <td>https://www.basketball-reference.com/players/z/zubaciv01.html</td>\n",
       "      <td>5</td>\n",
       "      <td>2023-04-25</td>\n",
       "      <td>https://www.basketball-reference.com/boxscores/202304250PHO.html</td>\n",
       "      <td>26-038</td>\n",
       "      <td>LAC</td>\n",
       "      <td>@</td>\n",
       "      <td>PHO</td>\n",
       "      <td>L (-6)</td>\n",
       "      <td>1</td>\n",
       "      <td>23:52</td>\n",
       "      <td>5</td>\n",
       "      <td>6</td>\n",
       "      <td>.833</td>\n",
       "      <td>0</td>\n",
       "      <td>0</td>\n",
       "      <td></td>\n",
       "      <td>6</td>\n",
       "      <td>6</td>\n",
       "      <td>1.000</td>\n",
       "      <td>4</td>\n",
       "      <td>6</td>\n",
       "      <td>10</td>\n",
       "      <td>2</td>\n",
       "      <td>0</td>\n",
       "      <td>1</td>\n",
       "      <td>2</td>\n",
       "      <td>2</td>\n",
       "      <td>16</td>\n",
       "      <td>17.7</td>\n",
       "      <td>-8</td>\n",
       "    </tr>\n",
       "  </tbody>\n",
       "</table>\n",
       "<p>3671 rows × 32 columns</p>\n",
       "</div>"
      ],
      "text/plain": [
       "                Name  \\\n",
       "0   Precious Achiuwa   \n",
       "1   Precious Achiuwa   \n",
       "2   Precious Achiuwa   \n",
       "3   Precious Achiuwa   \n",
       "4   Precious Achiuwa   \n",
       "..               ...   \n",
       "0        Ivica Zubac   \n",
       "1        Ivica Zubac   \n",
       "2        Ivica Zubac   \n",
       "3        Ivica Zubac   \n",
       "4        Ivica Zubac   \n",
       "\n",
       "                                                             Link Game  \\\n",
       "0   https://www.basketball-reference.com/players/a/achiupr01.html    1   \n",
       "1   https://www.basketball-reference.com/players/a/achiupr01.html    2   \n",
       "2   https://www.basketball-reference.com/players/a/achiupr01.html    3   \n",
       "3   https://www.basketball-reference.com/players/a/achiupr01.html    4   \n",
       "4   https://www.basketball-reference.com/players/a/achiupr01.html    5   \n",
       "..                                                            ...  ...   \n",
       "0   https://www.basketball-reference.com/players/z/zubaciv01.html    1   \n",
       "1   https://www.basketball-reference.com/players/z/zubaciv01.html    2   \n",
       "2   https://www.basketball-reference.com/players/z/zubaciv01.html    3   \n",
       "3   https://www.basketball-reference.com/players/z/zubaciv01.html    4   \n",
       "4   https://www.basketball-reference.com/players/z/zubaciv01.html    5   \n",
       "\n",
       "          Date  \\\n",
       "0   2024-04-25   \n",
       "1   2024-04-28   \n",
       "2   2024-05-06   \n",
       "3   2024-05-08   \n",
       "4   2024-05-10   \n",
       "..         ...   \n",
       "0   2023-04-16   \n",
       "1   2023-04-18   \n",
       "2   2023-04-20   \n",
       "3   2023-04-22   \n",
       "4   2023-04-25   \n",
       "\n",
       "                                                          Match Link     Age  \\\n",
       "0   https://www.basketball-reference.com/boxscores/202404250PHI.html  24-219   \n",
       "1   https://www.basketball-reference.com/boxscores/202404280PHI.html  24-222   \n",
       "2   https://www.basketball-reference.com/boxscores/202405060NYK.html  24-230   \n",
       "3   https://www.basketball-reference.com/boxscores/202405080NYK.html  24-232   \n",
       "4   https://www.basketball-reference.com/boxscores/202405100IND.html  24-234   \n",
       "..                                                               ...     ...   \n",
       "0   https://www.basketball-reference.com/boxscores/202304160PHO.html  26-029   \n",
       "1   https://www.basketball-reference.com/boxscores/202304180PHO.html  26-031   \n",
       "2   https://www.basketball-reference.com/boxscores/202304200LAC.html  26-033   \n",
       "3   https://www.basketball-reference.com/boxscores/202304220LAC.html  26-035   \n",
       "4   https://www.basketball-reference.com/boxscores/202304250PHO.html  26-038   \n",
       "\n",
       "   Team Location Opponent   Result GS     MP FG FGA    FG% 3P 3PA 3P% FT FTA  \\\n",
       "0   NYK        @      PHI  L (-11)  0  10:11  2   2  1.000  0   0      0   0   \n",
       "1   NYK        @      PHI   W (+5)  0  19:48  0   5   .000  0   0      1   2   \n",
       "2   NYK               IND   W (+4)  0   4:18  0   0         0   0      1   2   \n",
       "3   NYK               IND   W (+9)  0  28:08  4   5   .800  0   0      0   0   \n",
       "4   NYK        @      IND   L (-5)  1  21:47  2   3   .667  0   0      1   2   \n",
       "..  ...      ...      ...      ... ..    ... ..  ..    ... ..  ..  .. ..  ..   \n",
       "0   LAC        @      PHO   W (+5)  1  29:43  5   8   .625  0   0      2   4   \n",
       "1   LAC        @      PHO  L (-14)  1  29:29  2   7   .286  0   0      4   6   \n",
       "2   LAC               PHO   L (-5)  1  22:20  3   4   .750  0   0      0   0   \n",
       "3   LAC               PHO  L (-12)  1  24:25  2   5   .400  0   0      0   0   \n",
       "4   LAC        @      PHO   L (-6)  1  23:52  5   6   .833  0   0      6   6   \n",
       "\n",
       "      FT% ORB DRB TRB AST STL BLK TOV PF PTS  GmSc  +/-  \n",
       "0           0   0   0   0   0   1   1  3   4   1.9   +6  \n",
       "1    .500   4   3   7   2   0   4   1  1   1   3.6  +11  \n",
       "2    .500   0   1   1   0   0   0   0  0   1   0.9   -6  \n",
       "3           3   2   5   0   0   0   0  4   8   7.2  -14  \n",
       "4    .500   4   2   6   0   0   3   2  2   5   6.0   -6  \n",
       "..    ...  ..  ..  ..  ..  ..  ..  .. ..  ..   ...  ...  \n",
       "0    .500   4  11  15   0   0   0   3  3  12   9.5  -11  \n",
       "1    .667   4   2   6   0   2   0   3  1   8   5.1  -14  \n",
       "2           1   7   8   0   0   0   2  1   6   4.8   -5  \n",
       "3           3   6   9   1   1   0   1  1   4   5.5   -8  \n",
       "4   1.000   4   6  10   2   0   1   2  2  16  17.7   -8  \n",
       "\n",
       "[3671 rows x 32 columns]"
      ]
     },
     "execution_count": 134,
     "metadata": {},
     "output_type": "execute_result"
    }
   ],
   "source": [
    "gamelogs2"
   ]
  },
  {
   "cell_type": "markdown",
   "id": "3c80893e-a576-4f1c-b6b6-885a8a0db76b",
   "metadata": {},
   "source": [
    "# Combine regular and playoffs gamelogs"
   ]
  },
  {
   "cell_type": "code",
   "execution_count": 9,
   "id": "641de42b-2b7a-40db-a35b-631b14a8dcd6",
   "metadata": {},
   "outputs": [
    {
     "data": {
      "text/html": [
       "<div>\n",
       "<style scoped>\n",
       "    .dataframe tbody tr th:only-of-type {\n",
       "        vertical-align: middle;\n",
       "    }\n",
       "\n",
       "    .dataframe tbody tr th {\n",
       "        vertical-align: top;\n",
       "    }\n",
       "\n",
       "    .dataframe thead th {\n",
       "        text-align: right;\n",
       "    }\n",
       "</style>\n",
       "<table border=\"1\" class=\"dataframe\">\n",
       "  <thead>\n",
       "    <tr style=\"text-align: right;\">\n",
       "      <th></th>\n",
       "      <th>Name</th>\n",
       "      <th>Link</th>\n",
       "      <th>Game</th>\n",
       "      <th>Date</th>\n",
       "      <th>Match Link</th>\n",
       "      <th>Age</th>\n",
       "      <th>Team</th>\n",
       "      <th>Location</th>\n",
       "      <th>Opponent</th>\n",
       "      <th>Result</th>\n",
       "      <th>...</th>\n",
       "      <th>DRB</th>\n",
       "      <th>TRB</th>\n",
       "      <th>AST</th>\n",
       "      <th>STL</th>\n",
       "      <th>BLK</th>\n",
       "      <th>TOV</th>\n",
       "      <th>PF</th>\n",
       "      <th>PTS</th>\n",
       "      <th>GmSc</th>\n",
       "      <th>+/-</th>\n",
       "    </tr>\n",
       "  </thead>\n",
       "  <tbody>\n",
       "    <tr>\n",
       "      <th>0</th>\n",
       "      <td>Precious Achiuwa</td>\n",
       "      <td>https://www.basketball-reference.com/players/a...</td>\n",
       "      <td>1</td>\n",
       "      <td>2023-10-25</td>\n",
       "      <td>https://www.basketball-reference.com/boxscores...</td>\n",
       "      <td>24-036</td>\n",
       "      <td>TOR</td>\n",
       "      <td>NaN</td>\n",
       "      <td>MIN</td>\n",
       "      <td>W (+3)</td>\n",
       "      <td>...</td>\n",
       "      <td>5</td>\n",
       "      <td>8</td>\n",
       "      <td>0</td>\n",
       "      <td>0</td>\n",
       "      <td>0</td>\n",
       "      <td>2</td>\n",
       "      <td>1</td>\n",
       "      <td>8</td>\n",
       "      <td>4.5</td>\n",
       "      <td>-5.0</td>\n",
       "    </tr>\n",
       "    <tr>\n",
       "      <th>1</th>\n",
       "      <td>Precious Achiuwa</td>\n",
       "      <td>https://www.basketball-reference.com/players/a...</td>\n",
       "      <td>2</td>\n",
       "      <td>2023-10-27</td>\n",
       "      <td>https://www.basketball-reference.com/boxscores...</td>\n",
       "      <td>24-038</td>\n",
       "      <td>TOR</td>\n",
       "      <td>@</td>\n",
       "      <td>CHI</td>\n",
       "      <td>L (-1)</td>\n",
       "      <td>...</td>\n",
       "      <td>7</td>\n",
       "      <td>9</td>\n",
       "      <td>1</td>\n",
       "      <td>0</td>\n",
       "      <td>0</td>\n",
       "      <td>3</td>\n",
       "      <td>6</td>\n",
       "      <td>8</td>\n",
       "      <td>4.1</td>\n",
       "      <td>-22.0</td>\n",
       "    </tr>\n",
       "    <tr>\n",
       "      <th>2</th>\n",
       "      <td>Precious Achiuwa</td>\n",
       "      <td>https://www.basketball-reference.com/players/a...</td>\n",
       "      <td>3</td>\n",
       "      <td>2023-10-28</td>\n",
       "      <td>https://www.basketball-reference.com/boxscores...</td>\n",
       "      <td>24-039</td>\n",
       "      <td>TOR</td>\n",
       "      <td>NaN</td>\n",
       "      <td>PHI</td>\n",
       "      <td>L (-7)</td>\n",
       "      <td>...</td>\n",
       "      <td>4</td>\n",
       "      <td>7</td>\n",
       "      <td>3</td>\n",
       "      <td>0</td>\n",
       "      <td>1</td>\n",
       "      <td>1</td>\n",
       "      <td>1</td>\n",
       "      <td>6</td>\n",
       "      <td>4.9</td>\n",
       "      <td>5.0</td>\n",
       "    </tr>\n",
       "    <tr>\n",
       "      <th>3</th>\n",
       "      <td>Precious Achiuwa</td>\n",
       "      <td>https://www.basketball-reference.com/players/a...</td>\n",
       "      <td>4</td>\n",
       "      <td>2023-11-11</td>\n",
       "      <td>https://www.basketball-reference.com/boxscores...</td>\n",
       "      <td>24-053</td>\n",
       "      <td>TOR</td>\n",
       "      <td>@</td>\n",
       "      <td>BOS</td>\n",
       "      <td>L (-23)</td>\n",
       "      <td>...</td>\n",
       "      <td>5</td>\n",
       "      <td>5</td>\n",
       "      <td>5</td>\n",
       "      <td>0</td>\n",
       "      <td>0</td>\n",
       "      <td>0</td>\n",
       "      <td>1</td>\n",
       "      <td>2</td>\n",
       "      <td>3.5</td>\n",
       "      <td>-12.0</td>\n",
       "    </tr>\n",
       "    <tr>\n",
       "      <th>4</th>\n",
       "      <td>Precious Achiuwa</td>\n",
       "      <td>https://www.basketball-reference.com/players/a...</td>\n",
       "      <td>5</td>\n",
       "      <td>2023-11-13</td>\n",
       "      <td>https://www.basketball-reference.com/boxscores...</td>\n",
       "      <td>24-055</td>\n",
       "      <td>TOR</td>\n",
       "      <td>NaN</td>\n",
       "      <td>WAS</td>\n",
       "      <td>W (+4)</td>\n",
       "      <td>...</td>\n",
       "      <td>3</td>\n",
       "      <td>4</td>\n",
       "      <td>1</td>\n",
       "      <td>1</td>\n",
       "      <td>0</td>\n",
       "      <td>2</td>\n",
       "      <td>1</td>\n",
       "      <td>10</td>\n",
       "      <td>7.3</td>\n",
       "      <td>8.0</td>\n",
       "    </tr>\n",
       "    <tr>\n",
       "      <th>...</th>\n",
       "      <td>...</td>\n",
       "      <td>...</td>\n",
       "      <td>...</td>\n",
       "      <td>...</td>\n",
       "      <td>...</td>\n",
       "      <td>...</td>\n",
       "      <td>...</td>\n",
       "      <td>...</td>\n",
       "      <td>...</td>\n",
       "      <td>...</td>\n",
       "      <td>...</td>\n",
       "      <td>...</td>\n",
       "      <td>...</td>\n",
       "      <td>...</td>\n",
       "      <td>...</td>\n",
       "      <td>...</td>\n",
       "      <td>...</td>\n",
       "      <td>...</td>\n",
       "      <td>...</td>\n",
       "      <td>...</td>\n",
       "      <td>...</td>\n",
       "    </tr>\n",
       "    <tr>\n",
       "      <th>82857</th>\n",
       "      <td>Ivica Zubac</td>\n",
       "      <td>https://www.basketball-reference.com/players/z...</td>\n",
       "      <td>72</td>\n",
       "      <td>2022-04-01</td>\n",
       "      <td>https://www.basketball-reference.com/boxscores...</td>\n",
       "      <td>25-014</td>\n",
       "      <td>LAC</td>\n",
       "      <td>@</td>\n",
       "      <td>MIL</td>\n",
       "      <td>W (+34)</td>\n",
       "      <td>...</td>\n",
       "      <td>1</td>\n",
       "      <td>3</td>\n",
       "      <td>4</td>\n",
       "      <td>0</td>\n",
       "      <td>1</td>\n",
       "      <td>0</td>\n",
       "      <td>1</td>\n",
       "      <td>11</td>\n",
       "      <td>11.7</td>\n",
       "      <td>22.0</td>\n",
       "    </tr>\n",
       "    <tr>\n",
       "      <th>82858</th>\n",
       "      <td>Ivica Zubac</td>\n",
       "      <td>https://www.basketball-reference.com/players/z...</td>\n",
       "      <td>73</td>\n",
       "      <td>2022-04-03</td>\n",
       "      <td>https://www.basketball-reference.com/boxscores...</td>\n",
       "      <td>25-016</td>\n",
       "      <td>LAC</td>\n",
       "      <td>NaN</td>\n",
       "      <td>NOP</td>\n",
       "      <td>W (+19)</td>\n",
       "      <td>...</td>\n",
       "      <td>7</td>\n",
       "      <td>14</td>\n",
       "      <td>1</td>\n",
       "      <td>0</td>\n",
       "      <td>1</td>\n",
       "      <td>1</td>\n",
       "      <td>3</td>\n",
       "      <td>16</td>\n",
       "      <td>18.3</td>\n",
       "      <td>3.0</td>\n",
       "    </tr>\n",
       "    <tr>\n",
       "      <th>82859</th>\n",
       "      <td>Ivica Zubac</td>\n",
       "      <td>https://www.basketball-reference.com/players/z...</td>\n",
       "      <td>74</td>\n",
       "      <td>2022-04-06</td>\n",
       "      <td>https://www.basketball-reference.com/boxscores...</td>\n",
       "      <td>25-019</td>\n",
       "      <td>LAC</td>\n",
       "      <td>NaN</td>\n",
       "      <td>PHO</td>\n",
       "      <td>W (+4)</td>\n",
       "      <td>...</td>\n",
       "      <td>10</td>\n",
       "      <td>11</td>\n",
       "      <td>1</td>\n",
       "      <td>0</td>\n",
       "      <td>2</td>\n",
       "      <td>2</td>\n",
       "      <td>4</td>\n",
       "      <td>13</td>\n",
       "      <td>12.6</td>\n",
       "      <td>14.0</td>\n",
       "    </tr>\n",
       "    <tr>\n",
       "      <th>82860</th>\n",
       "      <td>Ivica Zubac</td>\n",
       "      <td>https://www.basketball-reference.com/players/z...</td>\n",
       "      <td>75</td>\n",
       "      <td>2022-04-09</td>\n",
       "      <td>https://www.basketball-reference.com/boxscores...</td>\n",
       "      <td>25-022</td>\n",
       "      <td>LAC</td>\n",
       "      <td>NaN</td>\n",
       "      <td>SAC</td>\n",
       "      <td>W (+19)</td>\n",
       "      <td>...</td>\n",
       "      <td>8</td>\n",
       "      <td>12</td>\n",
       "      <td>2</td>\n",
       "      <td>0</td>\n",
       "      <td>0</td>\n",
       "      <td>0</td>\n",
       "      <td>4</td>\n",
       "      <td>15</td>\n",
       "      <td>14.7</td>\n",
       "      <td>9.0</td>\n",
       "    </tr>\n",
       "    <tr>\n",
       "      <th>82861</th>\n",
       "      <td>Ivica Zubac</td>\n",
       "      <td>https://www.basketball-reference.com/players/z...</td>\n",
       "      <td>76</td>\n",
       "      <td>2022-04-10</td>\n",
       "      <td>https://www.basketball-reference.com/boxscores...</td>\n",
       "      <td>25-023</td>\n",
       "      <td>LAC</td>\n",
       "      <td>NaN</td>\n",
       "      <td>OKC</td>\n",
       "      <td>W (+50)</td>\n",
       "      <td>...</td>\n",
       "      <td>7</td>\n",
       "      <td>11</td>\n",
       "      <td>2</td>\n",
       "      <td>0</td>\n",
       "      <td>2</td>\n",
       "      <td>1</td>\n",
       "      <td>2</td>\n",
       "      <td>12</td>\n",
       "      <td>13.3</td>\n",
       "      <td>18.0</td>\n",
       "    </tr>\n",
       "  </tbody>\n",
       "</table>\n",
       "<p>82862 rows × 32 columns</p>\n",
       "</div>"
      ],
      "text/plain": [
       "                   Name                                               Link  \\\n",
       "0      Precious Achiuwa  https://www.basketball-reference.com/players/a...   \n",
       "1      Precious Achiuwa  https://www.basketball-reference.com/players/a...   \n",
       "2      Precious Achiuwa  https://www.basketball-reference.com/players/a...   \n",
       "3      Precious Achiuwa  https://www.basketball-reference.com/players/a...   \n",
       "4      Precious Achiuwa  https://www.basketball-reference.com/players/a...   \n",
       "...                 ...                                                ...   \n",
       "82857       Ivica Zubac  https://www.basketball-reference.com/players/z...   \n",
       "82858       Ivica Zubac  https://www.basketball-reference.com/players/z...   \n",
       "82859       Ivica Zubac  https://www.basketball-reference.com/players/z...   \n",
       "82860       Ivica Zubac  https://www.basketball-reference.com/players/z...   \n",
       "82861       Ivica Zubac  https://www.basketball-reference.com/players/z...   \n",
       "\n",
       "       Game        Date                                         Match Link  \\\n",
       "0         1  2023-10-25  https://www.basketball-reference.com/boxscores...   \n",
       "1         2  2023-10-27  https://www.basketball-reference.com/boxscores...   \n",
       "2         3  2023-10-28  https://www.basketball-reference.com/boxscores...   \n",
       "3         4  2023-11-11  https://www.basketball-reference.com/boxscores...   \n",
       "4         5  2023-11-13  https://www.basketball-reference.com/boxscores...   \n",
       "...     ...         ...                                                ...   \n",
       "82857    72  2022-04-01  https://www.basketball-reference.com/boxscores...   \n",
       "82858    73  2022-04-03  https://www.basketball-reference.com/boxscores...   \n",
       "82859    74  2022-04-06  https://www.basketball-reference.com/boxscores...   \n",
       "82860    75  2022-04-09  https://www.basketball-reference.com/boxscores...   \n",
       "82861    76  2022-04-10  https://www.basketball-reference.com/boxscores...   \n",
       "\n",
       "          Age Team Location Opponent   Result  ...  DRB TRB  AST  STL  BLK  \\\n",
       "0      24-036  TOR      NaN      MIN   W (+3)  ...    5   8    0    0    0   \n",
       "1      24-038  TOR        @      CHI   L (-1)  ...    7   9    1    0    0   \n",
       "2      24-039  TOR      NaN      PHI   L (-7)  ...    4   7    3    0    1   \n",
       "3      24-053  TOR        @      BOS  L (-23)  ...    5   5    5    0    0   \n",
       "4      24-055  TOR      NaN      WAS   W (+4)  ...    3   4    1    1    0   \n",
       "...       ...  ...      ...      ...      ...  ...  ...  ..  ...  ...  ...   \n",
       "82857  25-014  LAC        @      MIL  W (+34)  ...    1   3    4    0    1   \n",
       "82858  25-016  LAC      NaN      NOP  W (+19)  ...    7  14    1    0    1   \n",
       "82859  25-019  LAC      NaN      PHO   W (+4)  ...   10  11    1    0    2   \n",
       "82860  25-022  LAC      NaN      SAC  W (+19)  ...    8  12    2    0    0   \n",
       "82861  25-023  LAC      NaN      OKC  W (+50)  ...    7  11    2    0    2   \n",
       "\n",
       "       TOV  PF  PTS  GmSc   +/-  \n",
       "0        2   1    8   4.5  -5.0  \n",
       "1        3   6    8   4.1 -22.0  \n",
       "2        1   1    6   4.9   5.0  \n",
       "3        0   1    2   3.5 -12.0  \n",
       "4        2   1   10   7.3   8.0  \n",
       "...    ...  ..  ...   ...   ...  \n",
       "82857    0   1   11  11.7  22.0  \n",
       "82858    1   3   16  18.3   3.0  \n",
       "82859    2   4   13  12.6  14.0  \n",
       "82860    0   4   15  14.7   9.0  \n",
       "82861    1   2   12  13.3  18.0  \n",
       "\n",
       "[82862 rows x 32 columns]"
      ]
     },
     "execution_count": 9,
     "metadata": {},
     "output_type": "execute_result"
    }
   ],
   "source": [
    "df1 = pd.read_csv(\"regular.csv\")\n",
    "df1"
   ]
  },
  {
   "cell_type": "code",
   "execution_count": 10,
   "id": "1b0f2c26-d6b7-4e3f-a89c-1d039bfb98fd",
   "metadata": {},
   "outputs": [
    {
     "data": {
      "text/html": [
       "<div>\n",
       "<style scoped>\n",
       "    .dataframe tbody tr th:only-of-type {\n",
       "        vertical-align: middle;\n",
       "    }\n",
       "\n",
       "    .dataframe tbody tr th {\n",
       "        vertical-align: top;\n",
       "    }\n",
       "\n",
       "    .dataframe thead th {\n",
       "        text-align: right;\n",
       "    }\n",
       "</style>\n",
       "<table border=\"1\" class=\"dataframe\">\n",
       "  <thead>\n",
       "    <tr style=\"text-align: right;\">\n",
       "      <th></th>\n",
       "      <th>Name</th>\n",
       "      <th>Link</th>\n",
       "      <th>Game</th>\n",
       "      <th>Date</th>\n",
       "      <th>Match Link</th>\n",
       "      <th>Age</th>\n",
       "      <th>Team</th>\n",
       "      <th>Location</th>\n",
       "      <th>Opponent</th>\n",
       "      <th>Result</th>\n",
       "      <th>...</th>\n",
       "      <th>DRB</th>\n",
       "      <th>TRB</th>\n",
       "      <th>AST</th>\n",
       "      <th>STL</th>\n",
       "      <th>BLK</th>\n",
       "      <th>TOV</th>\n",
       "      <th>PF</th>\n",
       "      <th>PTS</th>\n",
       "      <th>GmSc</th>\n",
       "      <th>+/-</th>\n",
       "    </tr>\n",
       "  </thead>\n",
       "  <tbody>\n",
       "    <tr>\n",
       "      <th>0</th>\n",
       "      <td>Precious Achiuwa</td>\n",
       "      <td>https://www.basketball-reference.com/players/a...</td>\n",
       "      <td>1</td>\n",
       "      <td>2024-04-25</td>\n",
       "      <td>https://www.basketball-reference.com/boxscores...</td>\n",
       "      <td>24-219</td>\n",
       "      <td>NYK</td>\n",
       "      <td>@</td>\n",
       "      <td>PHI</td>\n",
       "      <td>L (-11)</td>\n",
       "      <td>...</td>\n",
       "      <td>0</td>\n",
       "      <td>0</td>\n",
       "      <td>0</td>\n",
       "      <td>0</td>\n",
       "      <td>1</td>\n",
       "      <td>1</td>\n",
       "      <td>3</td>\n",
       "      <td>4</td>\n",
       "      <td>1.9</td>\n",
       "      <td>6.0</td>\n",
       "    </tr>\n",
       "    <tr>\n",
       "      <th>1</th>\n",
       "      <td>Precious Achiuwa</td>\n",
       "      <td>https://www.basketball-reference.com/players/a...</td>\n",
       "      <td>2</td>\n",
       "      <td>2024-04-28</td>\n",
       "      <td>https://www.basketball-reference.com/boxscores...</td>\n",
       "      <td>24-222</td>\n",
       "      <td>NYK</td>\n",
       "      <td>@</td>\n",
       "      <td>PHI</td>\n",
       "      <td>W (+5)</td>\n",
       "      <td>...</td>\n",
       "      <td>3</td>\n",
       "      <td>7</td>\n",
       "      <td>2</td>\n",
       "      <td>0</td>\n",
       "      <td>4</td>\n",
       "      <td>1</td>\n",
       "      <td>1</td>\n",
       "      <td>1</td>\n",
       "      <td>3.6</td>\n",
       "      <td>11.0</td>\n",
       "    </tr>\n",
       "    <tr>\n",
       "      <th>2</th>\n",
       "      <td>Precious Achiuwa</td>\n",
       "      <td>https://www.basketball-reference.com/players/a...</td>\n",
       "      <td>3</td>\n",
       "      <td>2024-05-06</td>\n",
       "      <td>https://www.basketball-reference.com/boxscores...</td>\n",
       "      <td>24-230</td>\n",
       "      <td>NYK</td>\n",
       "      <td>NaN</td>\n",
       "      <td>IND</td>\n",
       "      <td>W (+4)</td>\n",
       "      <td>...</td>\n",
       "      <td>1</td>\n",
       "      <td>1</td>\n",
       "      <td>0</td>\n",
       "      <td>0</td>\n",
       "      <td>0</td>\n",
       "      <td>0</td>\n",
       "      <td>0</td>\n",
       "      <td>1</td>\n",
       "      <td>0.9</td>\n",
       "      <td>-6.0</td>\n",
       "    </tr>\n",
       "    <tr>\n",
       "      <th>3</th>\n",
       "      <td>Precious Achiuwa</td>\n",
       "      <td>https://www.basketball-reference.com/players/a...</td>\n",
       "      <td>4</td>\n",
       "      <td>2024-05-08</td>\n",
       "      <td>https://www.basketball-reference.com/boxscores...</td>\n",
       "      <td>24-232</td>\n",
       "      <td>NYK</td>\n",
       "      <td>NaN</td>\n",
       "      <td>IND</td>\n",
       "      <td>W (+9)</td>\n",
       "      <td>...</td>\n",
       "      <td>2</td>\n",
       "      <td>5</td>\n",
       "      <td>0</td>\n",
       "      <td>0</td>\n",
       "      <td>0</td>\n",
       "      <td>0</td>\n",
       "      <td>4</td>\n",
       "      <td>8</td>\n",
       "      <td>7.2</td>\n",
       "      <td>-14.0</td>\n",
       "    </tr>\n",
       "    <tr>\n",
       "      <th>4</th>\n",
       "      <td>Precious Achiuwa</td>\n",
       "      <td>https://www.basketball-reference.com/players/a...</td>\n",
       "      <td>5</td>\n",
       "      <td>2024-05-10</td>\n",
       "      <td>https://www.basketball-reference.com/boxscores...</td>\n",
       "      <td>24-234</td>\n",
       "      <td>NYK</td>\n",
       "      <td>@</td>\n",
       "      <td>IND</td>\n",
       "      <td>L (-5)</td>\n",
       "      <td>...</td>\n",
       "      <td>2</td>\n",
       "      <td>6</td>\n",
       "      <td>0</td>\n",
       "      <td>0</td>\n",
       "      <td>3</td>\n",
       "      <td>2</td>\n",
       "      <td>2</td>\n",
       "      <td>5</td>\n",
       "      <td>6.0</td>\n",
       "      <td>-6.0</td>\n",
       "    </tr>\n",
       "    <tr>\n",
       "      <th>...</th>\n",
       "      <td>...</td>\n",
       "      <td>...</td>\n",
       "      <td>...</td>\n",
       "      <td>...</td>\n",
       "      <td>...</td>\n",
       "      <td>...</td>\n",
       "      <td>...</td>\n",
       "      <td>...</td>\n",
       "      <td>...</td>\n",
       "      <td>...</td>\n",
       "      <td>...</td>\n",
       "      <td>...</td>\n",
       "      <td>...</td>\n",
       "      <td>...</td>\n",
       "      <td>...</td>\n",
       "      <td>...</td>\n",
       "      <td>...</td>\n",
       "      <td>...</td>\n",
       "      <td>...</td>\n",
       "      <td>...</td>\n",
       "      <td>...</td>\n",
       "    </tr>\n",
       "    <tr>\n",
       "      <th>3666</th>\n",
       "      <td>Ivica Zubac</td>\n",
       "      <td>https://www.basketball-reference.com/players/z...</td>\n",
       "      <td>1</td>\n",
       "      <td>2023-04-16</td>\n",
       "      <td>https://www.basketball-reference.com/boxscores...</td>\n",
       "      <td>26-029</td>\n",
       "      <td>LAC</td>\n",
       "      <td>@</td>\n",
       "      <td>PHO</td>\n",
       "      <td>W (+5)</td>\n",
       "      <td>...</td>\n",
       "      <td>11</td>\n",
       "      <td>15</td>\n",
       "      <td>0</td>\n",
       "      <td>0</td>\n",
       "      <td>0</td>\n",
       "      <td>3</td>\n",
       "      <td>3</td>\n",
       "      <td>12</td>\n",
       "      <td>9.5</td>\n",
       "      <td>-11.0</td>\n",
       "    </tr>\n",
       "    <tr>\n",
       "      <th>3667</th>\n",
       "      <td>Ivica Zubac</td>\n",
       "      <td>https://www.basketball-reference.com/players/z...</td>\n",
       "      <td>2</td>\n",
       "      <td>2023-04-18</td>\n",
       "      <td>https://www.basketball-reference.com/boxscores...</td>\n",
       "      <td>26-031</td>\n",
       "      <td>LAC</td>\n",
       "      <td>@</td>\n",
       "      <td>PHO</td>\n",
       "      <td>L (-14)</td>\n",
       "      <td>...</td>\n",
       "      <td>2</td>\n",
       "      <td>6</td>\n",
       "      <td>0</td>\n",
       "      <td>2</td>\n",
       "      <td>0</td>\n",
       "      <td>3</td>\n",
       "      <td>1</td>\n",
       "      <td>8</td>\n",
       "      <td>5.1</td>\n",
       "      <td>-14.0</td>\n",
       "    </tr>\n",
       "    <tr>\n",
       "      <th>3668</th>\n",
       "      <td>Ivica Zubac</td>\n",
       "      <td>https://www.basketball-reference.com/players/z...</td>\n",
       "      <td>3</td>\n",
       "      <td>2023-04-20</td>\n",
       "      <td>https://www.basketball-reference.com/boxscores...</td>\n",
       "      <td>26-033</td>\n",
       "      <td>LAC</td>\n",
       "      <td>NaN</td>\n",
       "      <td>PHO</td>\n",
       "      <td>L (-5)</td>\n",
       "      <td>...</td>\n",
       "      <td>7</td>\n",
       "      <td>8</td>\n",
       "      <td>0</td>\n",
       "      <td>0</td>\n",
       "      <td>0</td>\n",
       "      <td>2</td>\n",
       "      <td>1</td>\n",
       "      <td>6</td>\n",
       "      <td>4.8</td>\n",
       "      <td>-5.0</td>\n",
       "    </tr>\n",
       "    <tr>\n",
       "      <th>3669</th>\n",
       "      <td>Ivica Zubac</td>\n",
       "      <td>https://www.basketball-reference.com/players/z...</td>\n",
       "      <td>4</td>\n",
       "      <td>2023-04-22</td>\n",
       "      <td>https://www.basketball-reference.com/boxscores...</td>\n",
       "      <td>26-035</td>\n",
       "      <td>LAC</td>\n",
       "      <td>NaN</td>\n",
       "      <td>PHO</td>\n",
       "      <td>L (-12)</td>\n",
       "      <td>...</td>\n",
       "      <td>6</td>\n",
       "      <td>9</td>\n",
       "      <td>1</td>\n",
       "      <td>1</td>\n",
       "      <td>0</td>\n",
       "      <td>1</td>\n",
       "      <td>1</td>\n",
       "      <td>4</td>\n",
       "      <td>5.5</td>\n",
       "      <td>-8.0</td>\n",
       "    </tr>\n",
       "    <tr>\n",
       "      <th>3670</th>\n",
       "      <td>Ivica Zubac</td>\n",
       "      <td>https://www.basketball-reference.com/players/z...</td>\n",
       "      <td>5</td>\n",
       "      <td>2023-04-25</td>\n",
       "      <td>https://www.basketball-reference.com/boxscores...</td>\n",
       "      <td>26-038</td>\n",
       "      <td>LAC</td>\n",
       "      <td>@</td>\n",
       "      <td>PHO</td>\n",
       "      <td>L (-6)</td>\n",
       "      <td>...</td>\n",
       "      <td>6</td>\n",
       "      <td>10</td>\n",
       "      <td>2</td>\n",
       "      <td>0</td>\n",
       "      <td>1</td>\n",
       "      <td>2</td>\n",
       "      <td>2</td>\n",
       "      <td>16</td>\n",
       "      <td>17.7</td>\n",
       "      <td>-8.0</td>\n",
       "    </tr>\n",
       "  </tbody>\n",
       "</table>\n",
       "<p>3671 rows × 32 columns</p>\n",
       "</div>"
      ],
      "text/plain": [
       "                  Name                                               Link  \\\n",
       "0     Precious Achiuwa  https://www.basketball-reference.com/players/a...   \n",
       "1     Precious Achiuwa  https://www.basketball-reference.com/players/a...   \n",
       "2     Precious Achiuwa  https://www.basketball-reference.com/players/a...   \n",
       "3     Precious Achiuwa  https://www.basketball-reference.com/players/a...   \n",
       "4     Precious Achiuwa  https://www.basketball-reference.com/players/a...   \n",
       "...                ...                                                ...   \n",
       "3666       Ivica Zubac  https://www.basketball-reference.com/players/z...   \n",
       "3667       Ivica Zubac  https://www.basketball-reference.com/players/z...   \n",
       "3668       Ivica Zubac  https://www.basketball-reference.com/players/z...   \n",
       "3669       Ivica Zubac  https://www.basketball-reference.com/players/z...   \n",
       "3670       Ivica Zubac  https://www.basketball-reference.com/players/z...   \n",
       "\n",
       "      Game        Date                                         Match Link  \\\n",
       "0        1  2024-04-25  https://www.basketball-reference.com/boxscores...   \n",
       "1        2  2024-04-28  https://www.basketball-reference.com/boxscores...   \n",
       "2        3  2024-05-06  https://www.basketball-reference.com/boxscores...   \n",
       "3        4  2024-05-08  https://www.basketball-reference.com/boxscores...   \n",
       "4        5  2024-05-10  https://www.basketball-reference.com/boxscores...   \n",
       "...    ...         ...                                                ...   \n",
       "3666     1  2023-04-16  https://www.basketball-reference.com/boxscores...   \n",
       "3667     2  2023-04-18  https://www.basketball-reference.com/boxscores...   \n",
       "3668     3  2023-04-20  https://www.basketball-reference.com/boxscores...   \n",
       "3669     4  2023-04-22  https://www.basketball-reference.com/boxscores...   \n",
       "3670     5  2023-04-25  https://www.basketball-reference.com/boxscores...   \n",
       "\n",
       "         Age Team Location Opponent   Result  ...  DRB TRB  AST  STL  BLK  \\\n",
       "0     24-219  NYK        @      PHI  L (-11)  ...    0   0    0    0    1   \n",
       "1     24-222  NYK        @      PHI   W (+5)  ...    3   7    2    0    4   \n",
       "2     24-230  NYK      NaN      IND   W (+4)  ...    1   1    0    0    0   \n",
       "3     24-232  NYK      NaN      IND   W (+9)  ...    2   5    0    0    0   \n",
       "4     24-234  NYK        @      IND   L (-5)  ...    2   6    0    0    3   \n",
       "...      ...  ...      ...      ...      ...  ...  ...  ..  ...  ...  ...   \n",
       "3666  26-029  LAC        @      PHO   W (+5)  ...   11  15    0    0    0   \n",
       "3667  26-031  LAC        @      PHO  L (-14)  ...    2   6    0    2    0   \n",
       "3668  26-033  LAC      NaN      PHO   L (-5)  ...    7   8    0    0    0   \n",
       "3669  26-035  LAC      NaN      PHO  L (-12)  ...    6   9    1    1    0   \n",
       "3670  26-038  LAC        @      PHO   L (-6)  ...    6  10    2    0    1   \n",
       "\n",
       "      TOV  PF  PTS  GmSc   +/-  \n",
       "0       1   3    4   1.9   6.0  \n",
       "1       1   1    1   3.6  11.0  \n",
       "2       0   0    1   0.9  -6.0  \n",
       "3       0   4    8   7.2 -14.0  \n",
       "4       2   2    5   6.0  -6.0  \n",
       "...   ...  ..  ...   ...   ...  \n",
       "3666    3   3   12   9.5 -11.0  \n",
       "3667    3   1    8   5.1 -14.0  \n",
       "3668    2   1    6   4.8  -5.0  \n",
       "3669    1   1    4   5.5  -8.0  \n",
       "3670    2   2   16  17.7  -8.0  \n",
       "\n",
       "[3671 rows x 32 columns]"
      ]
     },
     "execution_count": 10,
     "metadata": {},
     "output_type": "execute_result"
    }
   ],
   "source": [
    "df2 = pd.read_csv(\"playoffs.csv\")\n",
    "df2"
   ]
  },
  {
   "cell_type": "code",
   "execution_count": 11,
   "id": "719d057f-103e-4813-8784-d4dd9fa8c110",
   "metadata": {},
   "outputs": [],
   "source": [
    "gamelogs_full = pd.concat([df1, df2])"
   ]
  },
  {
   "cell_type": "code",
   "execution_count": 13,
   "id": "ddde522e-8e6e-45ee-8eb6-43c44ff7175b",
   "metadata": {},
   "outputs": [],
   "source": [
    "gamelogs_full.to_csv(\"gamelogs.csv\", index=False)"
   ]
  },
  {
   "cell_type": "markdown",
   "id": "4b0de368",
   "metadata": {},
   "source": [
    "# Scraping NBA schedule"
   ]
  },
  {
   "cell_type": "code",
   "execution_count": 8,
   "id": "a71d9812",
   "metadata": {},
   "outputs": [],
   "source": [
    "months = [\"https://www.basketball-reference.com/leagues/NBA_2024_games-october.html\",\n",
    "          \"https://www.basketball-reference.com/leagues/NBA_2024_games-november.html\",\n",
    "          \"https://www.basketball-reference.com/leagues/NBA_2024_games-december.html\",\n",
    "          \"https://www.basketball-reference.com/leagues/NBA_2024_games-january.html\",\n",
    "          \"https://www.basketball-reference.com/leagues/NBA_2024_games-february.html\",\n",
    "          \"https://www.basketball-reference.com/leagues/NBA_2024_games-march.html\",\n",
    "          \"https://www.basketball-reference.com/leagues/NBA_2024_games-april.html\",\n",
    "          \"https://www.basketball-reference.com/leagues/NBA_2024_games-may.html\",\n",
    "          \"https://www.basketball-reference.com/leagues/NBA_2024_games-june.html\"]"
   ]
  },
  {
   "cell_type": "code",
   "execution_count": 14,
   "id": "6132aa94",
   "metadata": {},
   "outputs": [],
   "source": [
    "def get_match(rows, link):\n",
    "    match = pd.DataFrame( columns = [\"Link\", \"Date\", \"Start\", \"Visitor\", \"Visitor Link\", \n",
    "                                     \"Visitor PTS\", \"Home\", \"Home Link\", \"Home PTS\", \n",
    "                                     \"Match Link\", \"Overtimes\", \"Attendance\", \"Game Length\",\n",
    "                                     \"Arena\", \"Notes\"])\n",
    "    # Iterate through all rows of table\n",
    "    for row in rows:\n",
    "        # Get Date col\n",
    "        date = row.find(\"th\").text \n",
    "        # Gets all cols\n",
    "        cols = row.find_all(\"td\")        \n",
    "        start = cols[0].text\n",
    "        v = cols[1].text\n",
    "        v_link = \"https://www.basketball-reference.com\"+cols[1].a[\"href\"]\n",
    "        v_pts = cols[2].text\n",
    "        h = cols[3].text\n",
    "        h_link = \"https://www.basketball-reference.com\"+cols[3].a[\"href\"]\n",
    "        h_pts = cols[4].text\n",
    "        match_link = \"https://www.basketball-reference.com\"+cols[5].a[\"href\"]\n",
    "        overtimes = cols[6].text\n",
    "        attendance = cols[7].text\n",
    "        length = cols[8].text\n",
    "        arena = cols[9].text\n",
    "        notes = cols[10].text\n",
    "        # Saves info into DataFrame\n",
    "        match = match._append({\"Link\": link, \"Date\": date, \"Start\": start, \"Visitor\": v, \"Visitor Link\": v_link, \"Visitor PTS\": v_pts, \"Home\": h, \"Home Link\": h_link, \"Home PTS\": h_pts, \"Match Link\": match_link, \"Overtimes\": overtimes, \"Attendance\": attendance, \"Game Length\": length, \"Arena\": arena, \"Notes\": notes}, ignore_index=True )\n",
    "    return match"
   ]
  },
  {
   "cell_type": "code",
   "execution_count": 15,
   "id": "15fc548b",
   "metadata": {},
   "outputs": [
    {
     "name": "stderr",
     "output_type": "stream",
     "text": [
      "100%|████████████████████████████████████████████████████████████████████████████████████| 9/9 [00:07<00:00,  1.28it/s]\n"
     ]
    }
   ],
   "source": [
    "schedule = pd.DataFrame( columns = [\"Link\", \"Date\", \"Start\", \"Visitor\", \"Visitor Link\", \n",
    "                                     \"Visitor PTS\", \"Home\", \"Home Link\", \"Home PTS\", \n",
    "                                     \"Match Link\", \"Overtimes\", \"Attendance\", \"Game Length\",\n",
    "                                     \"Arena\", \"Notes\"])\n",
    "headers = {\"User-Agent\": \"Mozilla/5.0 (Windows NT 10.0; Win64; x64) AppleWebKit/537.36 (KHTML, like Gecko) Chrome/111.0.0.0 Safari/537.36\"}\n",
    "# Cycle iterates through links for every month\n",
    "for url in tqdm(months):\n",
    "    data = req.get(url, headers = headers).text\n",
    "    soup = BeautifulSoup(data,\"html.parser\")\n",
    "    # Find table with schedule\n",
    "    table = soup.find(\"table\", id=\"schedule\")\n",
    "    rows = table.find(\"tbody\").find_all(\"tr\", class_=None)\n",
    "    # Call extracting function\n",
    "    match = get_match(rows, url)\n",
    "    schedule = pd.concat([schedule, match])\n",
    "schedule.to_csv(\"schedule.csv\", index=False)"
   ]
  },
  {
   "cell_type": "code",
   "execution_count": 12,
   "id": "e714c27a",
   "metadata": {},
   "outputs": [
    {
     "data": {
      "text/html": [
       "<div>\n",
       "<style scoped>\n",
       "    .dataframe tbody tr th:only-of-type {\n",
       "        vertical-align: middle;\n",
       "    }\n",
       "\n",
       "    .dataframe tbody tr th {\n",
       "        vertical-align: top;\n",
       "    }\n",
       "\n",
       "    .dataframe thead th {\n",
       "        text-align: right;\n",
       "    }\n",
       "</style>\n",
       "<table border=\"1\" class=\"dataframe\">\n",
       "  <thead>\n",
       "    <tr style=\"text-align: right;\">\n",
       "      <th></th>\n",
       "      <th>Link</th>\n",
       "      <th>Date</th>\n",
       "      <th>Start</th>\n",
       "      <th>Visitor</th>\n",
       "      <th>Visitor Link</th>\n",
       "      <th>Visitor PTS</th>\n",
       "      <th>Home</th>\n",
       "      <th>Home Link</th>\n",
       "      <th>Home PTS</th>\n",
       "      <th>Match Link</th>\n",
       "      <th>Overtimes</th>\n",
       "      <th>Attendance</th>\n",
       "      <th>Game Length</th>\n",
       "      <th>Arena</th>\n",
       "      <th>Notes</th>\n",
       "    </tr>\n",
       "  </thead>\n",
       "  <tbody>\n",
       "    <tr>\n",
       "      <th>0</th>\n",
       "      <td>https://www.basketball-reference.com/leagues/NBA_2024_games-october.html</td>\n",
       "      <td>Tue, Oct 24, 2023</td>\n",
       "      <td>7:30p</td>\n",
       "      <td>Los Angeles Lakers</td>\n",
       "      <td>https://www.basketball-reference.com/teams/LAL/2024.html</td>\n",
       "      <td>107</td>\n",
       "      <td>Denver Nuggets</td>\n",
       "      <td>https://www.basketball-reference.com/teams/DEN/2024.html</td>\n",
       "      <td>119</td>\n",
       "      <td>https://www.basketball-reference.com/boxscores/202310240DEN.html</td>\n",
       "      <td>NaN</td>\n",
       "      <td>19,842</td>\n",
       "      <td>2:17</td>\n",
       "      <td>Ball Arena</td>\n",
       "      <td></td>\n",
       "    </tr>\n",
       "    <tr>\n",
       "      <th>1</th>\n",
       "      <td>https://www.basketball-reference.com/leagues/NBA_2024_games-october.html</td>\n",
       "      <td>Tue, Oct 24, 2023</td>\n",
       "      <td>10:00p</td>\n",
       "      <td>Phoenix Suns</td>\n",
       "      <td>https://www.basketball-reference.com/teams/PHO/2024.html</td>\n",
       "      <td>108</td>\n",
       "      <td>Golden State Warriors</td>\n",
       "      <td>https://www.basketball-reference.com/teams/GSW/2024.html</td>\n",
       "      <td>104</td>\n",
       "      <td>https://www.basketball-reference.com/boxscores/202310240GSW.html</td>\n",
       "      <td>NaN</td>\n",
       "      <td>18,064</td>\n",
       "      <td>2:33</td>\n",
       "      <td>Chase Center</td>\n",
       "      <td></td>\n",
       "    </tr>\n",
       "    <tr>\n",
       "      <th>2</th>\n",
       "      <td>https://www.basketball-reference.com/leagues/NBA_2024_games-october.html</td>\n",
       "      <td>Wed, Oct 25, 2023</td>\n",
       "      <td>7:00p</td>\n",
       "      <td>Houston Rockets</td>\n",
       "      <td>https://www.basketball-reference.com/teams/HOU/2024.html</td>\n",
       "      <td>86</td>\n",
       "      <td>Orlando Magic</td>\n",
       "      <td>https://www.basketball-reference.com/teams/ORL/2024.html</td>\n",
       "      <td>116</td>\n",
       "      <td>https://www.basketball-reference.com/boxscores/202310250ORL.html</td>\n",
       "      <td>NaN</td>\n",
       "      <td>18,846</td>\n",
       "      <td>2:14</td>\n",
       "      <td>Kia Center</td>\n",
       "      <td></td>\n",
       "    </tr>\n",
       "    <tr>\n",
       "      <th>3</th>\n",
       "      <td>https://www.basketball-reference.com/leagues/NBA_2024_games-october.html</td>\n",
       "      <td>Wed, Oct 25, 2023</td>\n",
       "      <td>7:00p</td>\n",
       "      <td>Boston Celtics</td>\n",
       "      <td>https://www.basketball-reference.com/teams/BOS/2024.html</td>\n",
       "      <td>108</td>\n",
       "      <td>New York Knicks</td>\n",
       "      <td>https://www.basketball-reference.com/teams/NYK/2024.html</td>\n",
       "      <td>104</td>\n",
       "      <td>https://www.basketball-reference.com/boxscores/202310250NYK.html</td>\n",
       "      <td>NaN</td>\n",
       "      <td>19,812</td>\n",
       "      <td>2:39</td>\n",
       "      <td>Madison Square Garden (IV)</td>\n",
       "      <td></td>\n",
       "    </tr>\n",
       "    <tr>\n",
       "      <th>4</th>\n",
       "      <td>https://www.basketball-reference.com/leagues/NBA_2024_games-october.html</td>\n",
       "      <td>Wed, Oct 25, 2023</td>\n",
       "      <td>7:00p</td>\n",
       "      <td>Washington Wizards</td>\n",
       "      <td>https://www.basketball-reference.com/teams/WAS/2024.html</td>\n",
       "      <td>120</td>\n",
       "      <td>Indiana Pacers</td>\n",
       "      <td>https://www.basketball-reference.com/teams/IND/2024.html</td>\n",
       "      <td>143</td>\n",
       "      <td>https://www.basketball-reference.com/boxscores/202310250IND.html</td>\n",
       "      <td>NaN</td>\n",
       "      <td>16,004</td>\n",
       "      <td>2:07</td>\n",
       "      <td>Gainbridge Fieldhouse</td>\n",
       "      <td></td>\n",
       "    </tr>\n",
       "    <tr>\n",
       "      <th>...</th>\n",
       "      <td>...</td>\n",
       "      <td>...</td>\n",
       "      <td>...</td>\n",
       "      <td>...</td>\n",
       "      <td>...</td>\n",
       "      <td>...</td>\n",
       "      <td>...</td>\n",
       "      <td>...</td>\n",
       "      <td>...</td>\n",
       "      <td>...</td>\n",
       "      <td>...</td>\n",
       "      <td>...</td>\n",
       "      <td>...</td>\n",
       "      <td>...</td>\n",
       "      <td>...</td>\n",
       "    </tr>\n",
       "    <tr>\n",
       "      <th>0</th>\n",
       "      <td>https://www.basketball-reference.com/leagues/NBA_2024_games-june.html</td>\n",
       "      <td>Thu, Jun 6, 2024</td>\n",
       "      <td>8:30p</td>\n",
       "      <td>Dallas Mavericks</td>\n",
       "      <td>https://www.basketball-reference.com/teams/DAL/2024.html</td>\n",
       "      <td>89</td>\n",
       "      <td>Boston Celtics</td>\n",
       "      <td>https://www.basketball-reference.com/teams/BOS/2024.html</td>\n",
       "      <td>107</td>\n",
       "      <td>https://www.basketball-reference.com/boxscores/202406060BOS.html</td>\n",
       "      <td>NaN</td>\n",
       "      <td>19,156</td>\n",
       "      <td>2:12</td>\n",
       "      <td>TD Garden</td>\n",
       "      <td></td>\n",
       "    </tr>\n",
       "    <tr>\n",
       "      <th>1</th>\n",
       "      <td>https://www.basketball-reference.com/leagues/NBA_2024_games-june.html</td>\n",
       "      <td>Sun, Jun 9, 2024</td>\n",
       "      <td>8:00p</td>\n",
       "      <td>Dallas Mavericks</td>\n",
       "      <td>https://www.basketball-reference.com/teams/DAL/2024.html</td>\n",
       "      <td>98</td>\n",
       "      <td>Boston Celtics</td>\n",
       "      <td>https://www.basketball-reference.com/teams/BOS/2024.html</td>\n",
       "      <td>105</td>\n",
       "      <td>https://www.basketball-reference.com/boxscores/202406090BOS.html</td>\n",
       "      <td>NaN</td>\n",
       "      <td>19,156</td>\n",
       "      <td>2:18</td>\n",
       "      <td>TD Garden</td>\n",
       "      <td></td>\n",
       "    </tr>\n",
       "    <tr>\n",
       "      <th>2</th>\n",
       "      <td>https://www.basketball-reference.com/leagues/NBA_2024_games-june.html</td>\n",
       "      <td>Wed, Jun 12, 2024</td>\n",
       "      <td>8:30p</td>\n",
       "      <td>Boston Celtics</td>\n",
       "      <td>https://www.basketball-reference.com/teams/BOS/2024.html</td>\n",
       "      <td>106</td>\n",
       "      <td>Dallas Mavericks</td>\n",
       "      <td>https://www.basketball-reference.com/teams/DAL/2024.html</td>\n",
       "      <td>99</td>\n",
       "      <td>https://www.basketball-reference.com/boxscores/202406120DAL.html</td>\n",
       "      <td>NaN</td>\n",
       "      <td>20,311</td>\n",
       "      <td>2:21</td>\n",
       "      <td>American Airlines Center</td>\n",
       "      <td></td>\n",
       "    </tr>\n",
       "    <tr>\n",
       "      <th>3</th>\n",
       "      <td>https://www.basketball-reference.com/leagues/NBA_2024_games-june.html</td>\n",
       "      <td>Fri, Jun 14, 2024</td>\n",
       "      <td>8:30p</td>\n",
       "      <td>Boston Celtics</td>\n",
       "      <td>https://www.basketball-reference.com/teams/BOS/2024.html</td>\n",
       "      <td>84</td>\n",
       "      <td>Dallas Mavericks</td>\n",
       "      <td>https://www.basketball-reference.com/teams/DAL/2024.html</td>\n",
       "      <td>122</td>\n",
       "      <td>https://www.basketball-reference.com/boxscores/202406140DAL.html</td>\n",
       "      <td>NaN</td>\n",
       "      <td>20,277</td>\n",
       "      <td>2:22</td>\n",
       "      <td>American Airlines Center</td>\n",
       "      <td></td>\n",
       "    </tr>\n",
       "    <tr>\n",
       "      <th>4</th>\n",
       "      <td>https://www.basketball-reference.com/leagues/NBA_2024_games-june.html</td>\n",
       "      <td>Mon, Jun 17, 2024</td>\n",
       "      <td>8:30p</td>\n",
       "      <td>Dallas Mavericks</td>\n",
       "      <td>https://www.basketball-reference.com/teams/DAL/2024.html</td>\n",
       "      <td>88</td>\n",
       "      <td>Boston Celtics</td>\n",
       "      <td>https://www.basketball-reference.com/teams/BOS/2024.html</td>\n",
       "      <td>106</td>\n",
       "      <td>https://www.basketball-reference.com/boxscores/202406170BOS.html</td>\n",
       "      <td>NaN</td>\n",
       "      <td>19,156</td>\n",
       "      <td>2:21</td>\n",
       "      <td>TD Garden</td>\n",
       "      <td></td>\n",
       "    </tr>\n",
       "  </tbody>\n",
       "</table>\n",
       "<p>1319 rows × 15 columns</p>\n",
       "</div>"
      ],
      "text/plain": [
       "                                                                        Link  \\\n",
       "0   https://www.basketball-reference.com/leagues/NBA_2024_games-october.html   \n",
       "1   https://www.basketball-reference.com/leagues/NBA_2024_games-october.html   \n",
       "2   https://www.basketball-reference.com/leagues/NBA_2024_games-october.html   \n",
       "3   https://www.basketball-reference.com/leagues/NBA_2024_games-october.html   \n",
       "4   https://www.basketball-reference.com/leagues/NBA_2024_games-october.html   \n",
       "..                                                                       ...   \n",
       "0      https://www.basketball-reference.com/leagues/NBA_2024_games-june.html   \n",
       "1      https://www.basketball-reference.com/leagues/NBA_2024_games-june.html   \n",
       "2      https://www.basketball-reference.com/leagues/NBA_2024_games-june.html   \n",
       "3      https://www.basketball-reference.com/leagues/NBA_2024_games-june.html   \n",
       "4      https://www.basketball-reference.com/leagues/NBA_2024_games-june.html   \n",
       "\n",
       "                 Date   Start             Visitor  \\\n",
       "0   Tue, Oct 24, 2023   7:30p  Los Angeles Lakers   \n",
       "1   Tue, Oct 24, 2023  10:00p        Phoenix Suns   \n",
       "2   Wed, Oct 25, 2023   7:00p     Houston Rockets   \n",
       "3   Wed, Oct 25, 2023   7:00p      Boston Celtics   \n",
       "4   Wed, Oct 25, 2023   7:00p  Washington Wizards   \n",
       "..                ...     ...                 ...   \n",
       "0    Thu, Jun 6, 2024   8:30p    Dallas Mavericks   \n",
       "1    Sun, Jun 9, 2024   8:00p    Dallas Mavericks   \n",
       "2   Wed, Jun 12, 2024   8:30p      Boston Celtics   \n",
       "3   Fri, Jun 14, 2024   8:30p      Boston Celtics   \n",
       "4   Mon, Jun 17, 2024   8:30p    Dallas Mavericks   \n",
       "\n",
       "                                                Visitor Link Visitor PTS  \\\n",
       "0   https://www.basketball-reference.com/teams/LAL/2024.html         107   \n",
       "1   https://www.basketball-reference.com/teams/PHO/2024.html         108   \n",
       "2   https://www.basketball-reference.com/teams/HOU/2024.html          86   \n",
       "3   https://www.basketball-reference.com/teams/BOS/2024.html         108   \n",
       "4   https://www.basketball-reference.com/teams/WAS/2024.html         120   \n",
       "..                                                       ...         ...   \n",
       "0   https://www.basketball-reference.com/teams/DAL/2024.html          89   \n",
       "1   https://www.basketball-reference.com/teams/DAL/2024.html          98   \n",
       "2   https://www.basketball-reference.com/teams/BOS/2024.html         106   \n",
       "3   https://www.basketball-reference.com/teams/BOS/2024.html          84   \n",
       "4   https://www.basketball-reference.com/teams/DAL/2024.html          88   \n",
       "\n",
       "                     Home  \\\n",
       "0          Denver Nuggets   \n",
       "1   Golden State Warriors   \n",
       "2           Orlando Magic   \n",
       "3         New York Knicks   \n",
       "4          Indiana Pacers   \n",
       "..                    ...   \n",
       "0          Boston Celtics   \n",
       "1          Boston Celtics   \n",
       "2        Dallas Mavericks   \n",
       "3        Dallas Mavericks   \n",
       "4          Boston Celtics   \n",
       "\n",
       "                                                   Home Link Home PTS  \\\n",
       "0   https://www.basketball-reference.com/teams/DEN/2024.html      119   \n",
       "1   https://www.basketball-reference.com/teams/GSW/2024.html      104   \n",
       "2   https://www.basketball-reference.com/teams/ORL/2024.html      116   \n",
       "3   https://www.basketball-reference.com/teams/NYK/2024.html      104   \n",
       "4   https://www.basketball-reference.com/teams/IND/2024.html      143   \n",
       "..                                                       ...      ...   \n",
       "0   https://www.basketball-reference.com/teams/BOS/2024.html      107   \n",
       "1   https://www.basketball-reference.com/teams/BOS/2024.html      105   \n",
       "2   https://www.basketball-reference.com/teams/DAL/2024.html       99   \n",
       "3   https://www.basketball-reference.com/teams/DAL/2024.html      122   \n",
       "4   https://www.basketball-reference.com/teams/BOS/2024.html      106   \n",
       "\n",
       "                                                          Match Link  \\\n",
       "0   https://www.basketball-reference.com/boxscores/202310240DEN.html   \n",
       "1   https://www.basketball-reference.com/boxscores/202310240GSW.html   \n",
       "2   https://www.basketball-reference.com/boxscores/202310250ORL.html   \n",
       "3   https://www.basketball-reference.com/boxscores/202310250NYK.html   \n",
       "4   https://www.basketball-reference.com/boxscores/202310250IND.html   \n",
       "..                                                               ...   \n",
       "0   https://www.basketball-reference.com/boxscores/202406060BOS.html   \n",
       "1   https://www.basketball-reference.com/boxscores/202406090BOS.html   \n",
       "2   https://www.basketball-reference.com/boxscores/202406120DAL.html   \n",
       "3   https://www.basketball-reference.com/boxscores/202406140DAL.html   \n",
       "4   https://www.basketball-reference.com/boxscores/202406170BOS.html   \n",
       "\n",
       "   Overtimes Attendance Game Length                       Arena Notes  \n",
       "0        NaN     19,842        2:17                  Ball Arena        \n",
       "1        NaN     18,064        2:33                Chase Center        \n",
       "2        NaN     18,846        2:14                  Kia Center        \n",
       "3        NaN     19,812        2:39  Madison Square Garden (IV)        \n",
       "4        NaN     16,004        2:07       Gainbridge Fieldhouse        \n",
       "..       ...        ...         ...                         ...   ...  \n",
       "0        NaN     19,156        2:12                   TD Garden        \n",
       "1        NaN     19,156        2:18                   TD Garden        \n",
       "2        NaN     20,311        2:21    American Airlines Center        \n",
       "3        NaN     20,277        2:22    American Airlines Center        \n",
       "4        NaN     19,156        2:21                   TD Garden        \n",
       "\n",
       "[1319 rows x 15 columns]"
      ]
     },
     "execution_count": 12,
     "metadata": {},
     "output_type": "execute_result"
    }
   ],
   "source": [
    "schedule"
   ]
  },
  {
   "cell_type": "code",
   "execution_count": 13,
   "id": "e483fddc",
   "metadata": {},
   "outputs": [
    {
     "data": {
      "text/plain": [
       "Visitor\n",
       "Dallas Mavericks          53\n",
       "Indiana Pacers            51\n",
       "Boston Celtics            49\n",
       "Minnesota Timberwolves    49\n",
       "Cleveland Cavaliers       47\n",
       "New York Knicks           47\n",
       "Denver Nuggets            46\n",
       "Oklahoma City Thunder     46\n",
       "Orlando Magic             45\n",
       "Miami Heat                45\n",
       "Los Angeles Clippers      44\n",
       "Philadelphia 76ers        44\n",
       "Los Angeles Lakers        44\n",
       "New Orleans Pelicans      44\n",
       "Phoenix Suns              43\n",
       "Milwaukee Bucks           43\n",
       "Detroit Pistons           42\n",
       "Atlanta Hawks             42\n",
       "Sacramento Kings          42\n",
       "Golden State Warriors     42\n",
       "Chicago Bulls             42\n",
       "Portland Trail Blazers    41\n",
       "Houston Rockets           41\n",
       "San Antonio Spurs         41\n",
       "Utah Jazz                 41\n",
       "Washington Wizards        41\n",
       "Memphis Grizzlies         41\n",
       "Brooklyn Nets             41\n",
       "Toronto Raptors           41\n",
       "Charlotte Hornets         41\n",
       "Name: count, dtype: int64"
      ]
     },
     "execution_count": 13,
     "metadata": {},
     "output_type": "execute_result"
    }
   ],
   "source": [
    "schedule[\"Visitor\"].value_counts()"
   ]
  },
  {
   "cell_type": "markdown",
   "id": "a9b31fae",
   "metadata": {},
   "source": [
    "# Scraping NBA teams"
   ]
  },
  {
   "cell_type": "code",
   "execution_count": 28,
   "id": "a687fb32",
   "metadata": {},
   "outputs": [],
   "source": [
    "def get_teams(rows):\n",
    "    teams = pd.DataFrame( columns = [\"Team\", \"Team Link\", \"G\", \"MP\", \"FG\", \n",
    "                                     \"FGA\", \"FG%\", \"3P\", \"3PA\",\"3P%\", \"2P\", \n",
    "                                     \"2PA\", \"2P%\", \"FT\", \"FTA\", \"FT%\", \"ORB\",\n",
    "                                     \"DRB\", \"TRB\", \"AST\", \"STL\", \n",
    "                                     \"BLK\", \"TOV\", \"PF\", \"PTS\"])\n",
    "    # Iterate through all rows of table\n",
    "    for row in rows:\n",
    "        # Gets all cols\n",
    "        cols = row.find_all(\"td\")\n",
    "        team = cols[0].text\n",
    "        link = \"https://www.basketball-reference.com\"+cols[0].a[\"href\"]\n",
    "        g = cols[1].text\n",
    "        mp = cols[2].text\n",
    "        fg = cols[3].text\n",
    "        fga = cols[4].text\n",
    "        fg_perc = cols[5].text\n",
    "        three_p = cols[6].text\n",
    "        three_pa = cols[7].text\n",
    "        three_p_perc = cols[8].text\n",
    "        two_p = cols[9].text\n",
    "        two_pa = cols[10].text\n",
    "        two_p_perc = cols[11].text\n",
    "        ft = cols[12].text\n",
    "        fta = cols[13].text\n",
    "        ft_perc = cols[14].text\n",
    "        orb = cols[15].text\n",
    "        drb = cols[16].text\n",
    "        trb = cols[17].text\n",
    "        ast = cols[18].text\n",
    "        stl = cols[19].text\n",
    "        blk = cols[20].text\n",
    "        tov = cols[21].text\n",
    "        pf = cols[22].text\n",
    "        pts = cols[23].text\n",
    "        # Saves info into DataFrame\n",
    "        teams = teams._append({\"Team\": team, \"Team Link\": link, \"G\": g, \"MP\": mp, \"FG\": fg, \"FGA\": fga, \"FG%\": fg_perc, \"3P\": three_p, \"3PA\": three_pa, \"3P%\": three_p_perc, \"2P\": two_p, \"2PA\": two_pa, \"2P%\": two_p_perc, \"FT\": ft, \"FTA\": fta, \"FT%\": ft_perc, \"ORB\": orb, \"DRB\": drb, \"TRB\": trb, \"AST\": ast, \"STL\": stl, \"BLK\": blk, \"TOV\": tov, \"PF\": pf, \"PTS\": pts}, ignore_index=True )\n",
    "    return teams"
   ]
  },
  {
   "cell_type": "code",
   "execution_count": 29,
   "id": "59a7ebc3",
   "metadata": {},
   "outputs": [
    {
     "data": {
      "text/html": [
       "<div>\n",
       "<style scoped>\n",
       "    .dataframe tbody tr th:only-of-type {\n",
       "        vertical-align: middle;\n",
       "    }\n",
       "\n",
       "    .dataframe tbody tr th {\n",
       "        vertical-align: top;\n",
       "    }\n",
       "\n",
       "    .dataframe thead th {\n",
       "        text-align: right;\n",
       "    }\n",
       "</style>\n",
       "<table border=\"1\" class=\"dataframe\">\n",
       "  <thead>\n",
       "    <tr style=\"text-align: right;\">\n",
       "      <th></th>\n",
       "      <th>Team</th>\n",
       "      <th>Team Link</th>\n",
       "      <th>G</th>\n",
       "      <th>MP</th>\n",
       "      <th>FG</th>\n",
       "      <th>FGA</th>\n",
       "      <th>FG%</th>\n",
       "      <th>3P</th>\n",
       "      <th>3PA</th>\n",
       "      <th>3P%</th>\n",
       "      <th>2P</th>\n",
       "      <th>2PA</th>\n",
       "      <th>2P%</th>\n",
       "      <th>FT</th>\n",
       "      <th>FTA</th>\n",
       "      <th>FT%</th>\n",
       "      <th>ORB</th>\n",
       "      <th>DRB</th>\n",
       "      <th>TRB</th>\n",
       "      <th>AST</th>\n",
       "      <th>STL</th>\n",
       "      <th>BLK</th>\n",
       "      <th>TOV</th>\n",
       "      <th>PF</th>\n",
       "      <th>PTS</th>\n",
       "    </tr>\n",
       "  </thead>\n",
       "  <tbody>\n",
       "    <tr>\n",
       "      <th>0</th>\n",
       "      <td>Minnesota Timberwolves*</td>\n",
       "      <td>https://www.basketball-reference.com/teams/MIN/2024.html</td>\n",
       "      <td>82</td>\n",
       "      <td>19805</td>\n",
       "      <td>3198</td>\n",
       "      <td>7114</td>\n",
       "      <td>.450</td>\n",
       "      <td>937</td>\n",
       "      <td>2645</td>\n",
       "      <td>.354</td>\n",
       "      <td>2261</td>\n",
       "      <td>4469</td>\n",
       "      <td>.506</td>\n",
       "      <td>1402</td>\n",
       "      <td>1794</td>\n",
       "      <td>.781</td>\n",
       "      <td>843</td>\n",
       "      <td>2555</td>\n",
       "      <td>3398</td>\n",
       "      <td>2008</td>\n",
       "      <td>616</td>\n",
       "      <td>371</td>\n",
       "      <td>1166</td>\n",
       "      <td>1630</td>\n",
       "      <td>8735</td>\n",
       "    </tr>\n",
       "    <tr>\n",
       "      <th>1</th>\n",
       "      <td>New York Knicks*</td>\n",
       "      <td>https://www.basketball-reference.com/teams/NYK/2024.html</td>\n",
       "      <td>82</td>\n",
       "      <td>19730</td>\n",
       "      <td>3304</td>\n",
       "      <td>7026</td>\n",
       "      <td>.470</td>\n",
       "      <td>1028</td>\n",
       "      <td>2813</td>\n",
       "      <td>.365</td>\n",
       "      <td>2276</td>\n",
       "      <td>4213</td>\n",
       "      <td>.540</td>\n",
       "      <td>1237</td>\n",
       "      <td>1620</td>\n",
       "      <td>.764</td>\n",
       "      <td>839</td>\n",
       "      <td>2492</td>\n",
       "      <td>3331</td>\n",
       "      <td>2098</td>\n",
       "      <td>552</td>\n",
       "      <td>431</td>\n",
       "      <td>1082</td>\n",
       "      <td>1565</td>\n",
       "      <td>8873</td>\n",
       "    </tr>\n",
       "    <tr>\n",
       "      <th>2</th>\n",
       "      <td>Miami Heat*</td>\n",
       "      <td>https://www.basketball-reference.com/teams/MIA/2024.html</td>\n",
       "      <td>82</td>\n",
       "      <td>19755</td>\n",
       "      <td>3297</td>\n",
       "      <td>7056</td>\n",
       "      <td>.467</td>\n",
       "      <td>1064</td>\n",
       "      <td>3018</td>\n",
       "      <td>.353</td>\n",
       "      <td>2233</td>\n",
       "      <td>4038</td>\n",
       "      <td>.553</td>\n",
       "      <td>1230</td>\n",
       "      <td>1577</td>\n",
       "      <td>.780</td>\n",
       "      <td>757</td>\n",
       "      <td>2750</td>\n",
       "      <td>3507</td>\n",
       "      <td>2173</td>\n",
       "      <td>543</td>\n",
       "      <td>388</td>\n",
       "      <td>1126</td>\n",
       "      <td>1550</td>\n",
       "      <td>8888</td>\n",
       "    </tr>\n",
       "    <tr>\n",
       "      <th>3</th>\n",
       "      <td>Orlando Magic*</td>\n",
       "      <td>https://www.basketball-reference.com/teams/ORL/2024.html</td>\n",
       "      <td>82</td>\n",
       "      <td>19780</td>\n",
       "      <td>3264</td>\n",
       "      <td>6884</td>\n",
       "      <td>.474</td>\n",
       "      <td>945</td>\n",
       "      <td>2636</td>\n",
       "      <td>.358</td>\n",
       "      <td>2319</td>\n",
       "      <td>4248</td>\n",
       "      <td>.546</td>\n",
       "      <td>1419</td>\n",
       "      <td>1819</td>\n",
       "      <td>.780</td>\n",
       "      <td>731</td>\n",
       "      <td>2537</td>\n",
       "      <td>3268</td>\n",
       "      <td>1958</td>\n",
       "      <td>666</td>\n",
       "      <td>379</td>\n",
       "      <td>1234</td>\n",
       "      <td>1710</td>\n",
       "      <td>8892</td>\n",
       "    </tr>\n",
       "    <tr>\n",
       "      <th>4</th>\n",
       "      <td>Boston Celtics*</td>\n",
       "      <td>https://www.basketball-reference.com/teams/BOS/2024.html</td>\n",
       "      <td>82</td>\n",
       "      <td>19830</td>\n",
       "      <td>3403</td>\n",
       "      <td>7515</td>\n",
       "      <td>.453</td>\n",
       "      <td>1059</td>\n",
       "      <td>3008</td>\n",
       "      <td>.352</td>\n",
       "      <td>2344</td>\n",
       "      <td>4507</td>\n",
       "      <td>.520</td>\n",
       "      <td>1092</td>\n",
       "      <td>1422</td>\n",
       "      <td>.768</td>\n",
       "      <td>907</td>\n",
       "      <td>2645</td>\n",
       "      <td>3552</td>\n",
       "      <td>2042</td>\n",
       "      <td>510</td>\n",
       "      <td>304</td>\n",
       "      <td>986</td>\n",
       "      <td>1416</td>\n",
       "      <td>8957</td>\n",
       "    </tr>\n",
       "    <tr>\n",
       "      <th>5</th>\n",
       "      <td>Denver Nuggets*</td>\n",
       "      <td>https://www.basketball-reference.com/teams/DEN/2024.html</td>\n",
       "      <td>82</td>\n",
       "      <td>19705</td>\n",
       "      <td>3332</td>\n",
       "      <td>7210</td>\n",
       "      <td>.462</td>\n",
       "      <td>919</td>\n",
       "      <td>2587</td>\n",
       "      <td>.355</td>\n",
       "      <td>2413</td>\n",
       "      <td>4623</td>\n",
       "      <td>.522</td>\n",
       "      <td>1404</td>\n",
       "      <td>1819</td>\n",
       "      <td>.772</td>\n",
       "      <td>894</td>\n",
       "      <td>2573</td>\n",
       "      <td>3467</td>\n",
       "      <td>2108</td>\n",
       "      <td>578</td>\n",
       "      <td>394</td>\n",
       "      <td>1014</td>\n",
       "      <td>1467</td>\n",
       "      <td>8987</td>\n",
       "    </tr>\n",
       "    <tr>\n",
       "      <th>6</th>\n",
       "      <td>Cleveland Cavaliers*</td>\n",
       "      <td>https://www.basketball-reference.com/teams/CLE/2024.html</td>\n",
       "      <td>82</td>\n",
       "      <td>19805</td>\n",
       "      <td>3323</td>\n",
       "      <td>7176</td>\n",
       "      <td>.463</td>\n",
       "      <td>1029</td>\n",
       "      <td>2773</td>\n",
       "      <td>.371</td>\n",
       "      <td>2294</td>\n",
       "      <td>4403</td>\n",
       "      <td>.521</td>\n",
       "      <td>1363</td>\n",
       "      <td>1724</td>\n",
       "      <td>.791</td>\n",
       "      <td>823</td>\n",
       "      <td>2676</td>\n",
       "      <td>3499</td>\n",
       "      <td>2071</td>\n",
       "      <td>632</td>\n",
       "      <td>411</td>\n",
       "      <td>1115</td>\n",
       "      <td>1536</td>\n",
       "      <td>9038</td>\n",
       "    </tr>\n",
       "    <tr>\n",
       "      <th>7</th>\n",
       "      <td>New Orleans Pelicans*</td>\n",
       "      <td>https://www.basketball-reference.com/teams/NOP/2024.html</td>\n",
       "      <td>82</td>\n",
       "      <td>19705</td>\n",
       "      <td>3317</td>\n",
       "      <td>7155</td>\n",
       "      <td>.464</td>\n",
       "      <td>1109</td>\n",
       "      <td>3176</td>\n",
       "      <td>.349</td>\n",
       "      <td>2208</td>\n",
       "      <td>3979</td>\n",
       "      <td>.555</td>\n",
       "      <td>1331</td>\n",
       "      <td>1699</td>\n",
       "      <td>.783</td>\n",
       "      <td>826</td>\n",
       "      <td>2644</td>\n",
       "      <td>3470</td>\n",
       "      <td>2196</td>\n",
       "      <td>536</td>\n",
       "      <td>424</td>\n",
       "      <td>1168</td>\n",
       "      <td>1507</td>\n",
       "      <td>9074</td>\n",
       "    </tr>\n",
       "    <tr>\n",
       "      <th>8</th>\n",
       "      <td>Philadelphia 76ers*</td>\n",
       "      <td>https://www.basketball-reference.com/teams/PHI/2024.html</td>\n",
       "      <td>82</td>\n",
       "      <td>19780</td>\n",
       "      <td>3322</td>\n",
       "      <td>7098</td>\n",
       "      <td>.468</td>\n",
       "      <td>979</td>\n",
       "      <td>2765</td>\n",
       "      <td>.354</td>\n",
       "      <td>2343</td>\n",
       "      <td>4333</td>\n",
       "      <td>.541</td>\n",
       "      <td>1524</td>\n",
       "      <td>1926</td>\n",
       "      <td>.791</td>\n",
       "      <td>903</td>\n",
       "      <td>2742</td>\n",
       "      <td>3645</td>\n",
       "      <td>2143</td>\n",
       "      <td>506</td>\n",
       "      <td>503</td>\n",
       "      <td>1201</td>\n",
       "      <td>1519</td>\n",
       "      <td>9147</td>\n",
       "    </tr>\n",
       "    <tr>\n",
       "      <th>9</th>\n",
       "      <td>Los Angeles Clippers*</td>\n",
       "      <td>https://www.basketball-reference.com/teams/LAC/2024.html</td>\n",
       "      <td>82</td>\n",
       "      <td>19705</td>\n",
       "      <td>3413</td>\n",
       "      <td>7288</td>\n",
       "      <td>.468</td>\n",
       "      <td>1054</td>\n",
       "      <td>2902</td>\n",
       "      <td>.363</td>\n",
       "      <td>2359</td>\n",
       "      <td>4386</td>\n",
       "      <td>.538</td>\n",
       "      <td>1332</td>\n",
       "      <td>1718</td>\n",
       "      <td>.775</td>\n",
       "      <td>909</td>\n",
       "      <td>2551</td>\n",
       "      <td>3460</td>\n",
       "      <td>2165</td>\n",
       "      <td>597</td>\n",
       "      <td>384</td>\n",
       "      <td>1069</td>\n",
       "      <td>1537</td>\n",
       "      <td>9212</td>\n",
       "    </tr>\n",
       "    <tr>\n",
       "      <th>10</th>\n",
       "      <td>Oklahoma City Thunder*</td>\n",
       "      <td>https://www.basketball-reference.com/teams/OKC/2024.html</td>\n",
       "      <td>82</td>\n",
       "      <td>19805</td>\n",
       "      <td>3328</td>\n",
       "      <td>7322</td>\n",
       "      <td>.455</td>\n",
       "      <td>1101</td>\n",
       "      <td>3052</td>\n",
       "      <td>.361</td>\n",
       "      <td>2227</td>\n",
       "      <td>4270</td>\n",
       "      <td>.522</td>\n",
       "      <td>1482</td>\n",
       "      <td>1878</td>\n",
       "      <td>.789</td>\n",
       "      <td>968</td>\n",
       "      <td>2695</td>\n",
       "      <td>3663</td>\n",
       "      <td>2207</td>\n",
       "      <td>582</td>\n",
       "      <td>419</td>\n",
       "      <td>1287</td>\n",
       "      <td>1548</td>\n",
       "      <td>9239</td>\n",
       "    </tr>\n",
       "    <tr>\n",
       "      <th>11</th>\n",
       "      <td>Memphis Grizzlies</td>\n",
       "      <td>https://www.basketball-reference.com/teams/MEM/2024.html</td>\n",
       "      <td>82</td>\n",
       "      <td>19780</td>\n",
       "      <td>3381</td>\n",
       "      <td>7128</td>\n",
       "      <td>.474</td>\n",
       "      <td>1098</td>\n",
       "      <td>2905</td>\n",
       "      <td>.378</td>\n",
       "      <td>2283</td>\n",
       "      <td>4223</td>\n",
       "      <td>.541</td>\n",
       "      <td>1391</td>\n",
       "      <td>1785</td>\n",
       "      <td>.779</td>\n",
       "      <td>874</td>\n",
       "      <td>2867</td>\n",
       "      <td>3741</td>\n",
       "      <td>2179</td>\n",
       "      <td>668</td>\n",
       "      <td>536</td>\n",
       "      <td>1239</td>\n",
       "      <td>1539</td>\n",
       "      <td>9251</td>\n",
       "    </tr>\n",
       "    <tr>\n",
       "      <th>12</th>\n",
       "      <td>Phoenix Suns*</td>\n",
       "      <td>https://www.basketball-reference.com/teams/PHO/2024.html</td>\n",
       "      <td>82</td>\n",
       "      <td>19780</td>\n",
       "      <td>3444</td>\n",
       "      <td>7428</td>\n",
       "      <td>.464</td>\n",
       "      <td>1074</td>\n",
       "      <td>2949</td>\n",
       "      <td>.364</td>\n",
       "      <td>2370</td>\n",
       "      <td>4479</td>\n",
       "      <td>.529</td>\n",
       "      <td>1319</td>\n",
       "      <td>1705</td>\n",
       "      <td>.774</td>\n",
       "      <td>898</td>\n",
       "      <td>2490</td>\n",
       "      <td>3388</td>\n",
       "      <td>2155</td>\n",
       "      <td>685</td>\n",
       "      <td>372</td>\n",
       "      <td>1043</td>\n",
       "      <td>1612</td>\n",
       "      <td>9281</td>\n",
       "    </tr>\n",
       "    <tr>\n",
       "      <th>13</th>\n",
       "      <td>Houston Rockets</td>\n",
       "      <td>https://www.basketball-reference.com/teams/HOU/2024.html</td>\n",
       "      <td>82</td>\n",
       "      <td>19855</td>\n",
       "      <td>3344</td>\n",
       "      <td>7226</td>\n",
       "      <td>.463</td>\n",
       "      <td>1012</td>\n",
       "      <td>2904</td>\n",
       "      <td>.348</td>\n",
       "      <td>2332</td>\n",
       "      <td>4322</td>\n",
       "      <td>.540</td>\n",
       "      <td>1583</td>\n",
       "      <td>2065</td>\n",
       "      <td>.767</td>\n",
       "      <td>878</td>\n",
       "      <td>2803</td>\n",
       "      <td>3681</td>\n",
       "      <td>1997</td>\n",
       "      <td>597</td>\n",
       "      <td>482</td>\n",
       "      <td>1132</td>\n",
       "      <td>1609</td>\n",
       "      <td>9283</td>\n",
       "    </tr>\n",
       "    <tr>\n",
       "      <th>14</th>\n",
       "      <td>Brooklyn Nets</td>\n",
       "      <td>https://www.basketball-reference.com/teams/BRK/2024.html</td>\n",
       "      <td>82</td>\n",
       "      <td>19805</td>\n",
       "      <td>3410</td>\n",
       "      <td>7255</td>\n",
       "      <td>.470</td>\n",
       "      <td>1066</td>\n",
       "      <td>2865</td>\n",
       "      <td>.372</td>\n",
       "      <td>2344</td>\n",
       "      <td>4390</td>\n",
       "      <td>.534</td>\n",
       "      <td>1401</td>\n",
       "      <td>1736</td>\n",
       "      <td>.807</td>\n",
       "      <td>843</td>\n",
       "      <td>2788</td>\n",
       "      <td>3631</td>\n",
       "      <td>2088</td>\n",
       "      <td>563</td>\n",
       "      <td>409</td>\n",
       "      <td>1035</td>\n",
       "      <td>1496</td>\n",
       "      <td>9287</td>\n",
       "    </tr>\n",
       "    <tr>\n",
       "      <th>15</th>\n",
       "      <td>Chicago Bulls</td>\n",
       "      <td>https://www.basketball-reference.com/teams/CHI/2024.html</td>\n",
       "      <td>82</td>\n",
       "      <td>19980</td>\n",
       "      <td>3370</td>\n",
       "      <td>7131</td>\n",
       "      <td>.473</td>\n",
       "      <td>1196</td>\n",
       "      <td>3235</td>\n",
       "      <td>.370</td>\n",
       "      <td>2174</td>\n",
       "      <td>3896</td>\n",
       "      <td>.558</td>\n",
       "      <td>1388</td>\n",
       "      <td>1789</td>\n",
       "      <td>.776</td>\n",
       "      <td>829</td>\n",
       "      <td>2729</td>\n",
       "      <td>3558</td>\n",
       "      <td>2287</td>\n",
       "      <td>555</td>\n",
       "      <td>404</td>\n",
       "      <td>1147</td>\n",
       "      <td>1538</td>\n",
       "      <td>9324</td>\n",
       "    </tr>\n",
       "    <tr>\n",
       "      <th>16</th>\n",
       "      <td>Sacramento Kings</td>\n",
       "      <td>https://www.basketball-reference.com/teams/SAC/2024.html</td>\n",
       "      <td>82</td>\n",
       "      <td>19855</td>\n",
       "      <td>3414</td>\n",
       "      <td>7114</td>\n",
       "      <td>.480</td>\n",
       "      <td>1074</td>\n",
       "      <td>2775</td>\n",
       "      <td>.387</td>\n",
       "      <td>2340</td>\n",
       "      <td>4339</td>\n",
       "      <td>.539</td>\n",
       "      <td>1513</td>\n",
       "      <td>1892</td>\n",
       "      <td>.800</td>\n",
       "      <td>747</td>\n",
       "      <td>2740</td>\n",
       "      <td>3487</td>\n",
       "      <td>2208</td>\n",
       "      <td>606</td>\n",
       "      <td>370</td>\n",
       "      <td>1139</td>\n",
       "      <td>1504</td>\n",
       "      <td>9415</td>\n",
       "    </tr>\n",
       "    <tr>\n",
       "      <th>17</th>\n",
       "      <td>Golden State Warriors</td>\n",
       "      <td>https://www.basketball-reference.com/teams/GSW/2024.html</td>\n",
       "      <td>82</td>\n",
       "      <td>19830</td>\n",
       "      <td>3453</td>\n",
       "      <td>7415</td>\n",
       "      <td>.466</td>\n",
       "      <td>1088</td>\n",
       "      <td>3030</td>\n",
       "      <td>.359</td>\n",
       "      <td>2365</td>\n",
       "      <td>4385</td>\n",
       "      <td>.539</td>\n",
       "      <td>1449</td>\n",
       "      <td>1840</td>\n",
       "      <td>.788</td>\n",
       "      <td>892</td>\n",
       "      <td>2627</td>\n",
       "      <td>3519</td>\n",
       "      <td>2187</td>\n",
       "      <td>633</td>\n",
       "      <td>407</td>\n",
       "      <td>1067</td>\n",
       "      <td>1471</td>\n",
       "      <td>9443</td>\n",
       "    </tr>\n",
       "    <tr>\n",
       "      <th>18</th>\n",
       "      <td>Portland Trail Blazers</td>\n",
       "      <td>https://www.basketball-reference.com/teams/POR/2024.html</td>\n",
       "      <td>82</td>\n",
       "      <td>19880</td>\n",
       "      <td>3485</td>\n",
       "      <td>7104</td>\n",
       "      <td>.491</td>\n",
       "      <td>957</td>\n",
       "      <td>2730</td>\n",
       "      <td>.351</td>\n",
       "      <td>2528</td>\n",
       "      <td>4374</td>\n",
       "      <td>.578</td>\n",
       "      <td>1535</td>\n",
       "      <td>1938</td>\n",
       "      <td>.792</td>\n",
       "      <td>868</td>\n",
       "      <td>2726</td>\n",
       "      <td>3594</td>\n",
       "      <td>2225</td>\n",
       "      <td>729</td>\n",
       "      <td>528</td>\n",
       "      <td>1173</td>\n",
       "      <td>1467</td>\n",
       "      <td>9462</td>\n",
       "    </tr>\n",
       "    <tr>\n",
       "      <th>19</th>\n",
       "      <td>Dallas Mavericks*</td>\n",
       "      <td>https://www.basketball-reference.com/teams/DAL/2024.html</td>\n",
       "      <td>82</td>\n",
       "      <td>19705</td>\n",
       "      <td>3522</td>\n",
       "      <td>7413</td>\n",
       "      <td>.475</td>\n",
       "      <td>1075</td>\n",
       "      <td>2921</td>\n",
       "      <td>.368</td>\n",
       "      <td>2447</td>\n",
       "      <td>4492</td>\n",
       "      <td>.545</td>\n",
       "      <td>1364</td>\n",
       "      <td>1772</td>\n",
       "      <td>.770</td>\n",
       "      <td>896</td>\n",
       "      <td>2800</td>\n",
       "      <td>3696</td>\n",
       "      <td>2258</td>\n",
       "      <td>603</td>\n",
       "      <td>331</td>\n",
       "      <td>1127</td>\n",
       "      <td>1667</td>\n",
       "      <td>9483</td>\n",
       "    </tr>\n",
       "    <tr>\n",
       "      <th>20</th>\n",
       "      <td>Milwaukee Bucks*</td>\n",
       "      <td>https://www.basketball-reference.com/teams/MIL/2024.html</td>\n",
       "      <td>82</td>\n",
       "      <td>19805</td>\n",
       "      <td>3543</td>\n",
       "      <td>7537</td>\n",
       "      <td>.470</td>\n",
       "      <td>1032</td>\n",
       "      <td>2897</td>\n",
       "      <td>.356</td>\n",
       "      <td>2511</td>\n",
       "      <td>4640</td>\n",
       "      <td>.541</td>\n",
       "      <td>1423</td>\n",
       "      <td>1764</td>\n",
       "      <td>.807</td>\n",
       "      <td>843</td>\n",
       "      <td>2765</td>\n",
       "      <td>3608</td>\n",
       "      <td>2169</td>\n",
       "      <td>580</td>\n",
       "      <td>347</td>\n",
       "      <td>986</td>\n",
       "      <td>1576</td>\n",
       "      <td>9541</td>\n",
       "    </tr>\n",
       "    <tr>\n",
       "      <th>21</th>\n",
       "      <td>Charlotte Hornets</td>\n",
       "      <td>https://www.basketball-reference.com/teams/CHO/2024.html</td>\n",
       "      <td>82</td>\n",
       "      <td>19730</td>\n",
       "      <td>3555</td>\n",
       "      <td>7191</td>\n",
       "      <td>.494</td>\n",
       "      <td>1118</td>\n",
       "      <td>2965</td>\n",
       "      <td>.377</td>\n",
       "      <td>2437</td>\n",
       "      <td>4226</td>\n",
       "      <td>.577</td>\n",
       "      <td>1352</td>\n",
       "      <td>1699</td>\n",
       "      <td>.796</td>\n",
       "      <td>867</td>\n",
       "      <td>2853</td>\n",
       "      <td>3720</td>\n",
       "      <td>2356</td>\n",
       "      <td>582</td>\n",
       "      <td>396</td>\n",
       "      <td>1117</td>\n",
       "      <td>1432</td>\n",
       "      <td>9580</td>\n",
       "    </tr>\n",
       "    <tr>\n",
       "      <th>22</th>\n",
       "      <td>Los Angeles Lakers*</td>\n",
       "      <td>https://www.basketball-reference.com/teams/LAL/2024.html</td>\n",
       "      <td>82</td>\n",
       "      <td>19855</td>\n",
       "      <td>3643</td>\n",
       "      <td>7687</td>\n",
       "      <td>.474</td>\n",
       "      <td>1170</td>\n",
       "      <td>3109</td>\n",
       "      <td>.376</td>\n",
       "      <td>2473</td>\n",
       "      <td>4578</td>\n",
       "      <td>.540</td>\n",
       "      <td>1174</td>\n",
       "      <td>1476</td>\n",
       "      <td>.795</td>\n",
       "      <td>893</td>\n",
       "      <td>2719</td>\n",
       "      <td>3612</td>\n",
       "      <td>2316</td>\n",
       "      <td>673</td>\n",
       "      <td>390</td>\n",
       "      <td>1100</td>\n",
       "      <td>1619</td>\n",
       "      <td>9630</td>\n",
       "    </tr>\n",
       "    <tr>\n",
       "      <th>23</th>\n",
       "      <td>San Antonio Spurs</td>\n",
       "      <td>https://www.basketball-reference.com/teams/SAS/2024.html</td>\n",
       "      <td>82</td>\n",
       "      <td>19830</td>\n",
       "      <td>3684</td>\n",
       "      <td>7570</td>\n",
       "      <td>.487</td>\n",
       "      <td>1040</td>\n",
       "      <td>2791</td>\n",
       "      <td>.373</td>\n",
       "      <td>2644</td>\n",
       "      <td>4779</td>\n",
       "      <td>.553</td>\n",
       "      <td>1316</td>\n",
       "      <td>1679</td>\n",
       "      <td>.784</td>\n",
       "      <td>860</td>\n",
       "      <td>2857</td>\n",
       "      <td>3717</td>\n",
       "      <td>2296</td>\n",
       "      <td>733</td>\n",
       "      <td>380</td>\n",
       "      <td>1098</td>\n",
       "      <td>1470</td>\n",
       "      <td>9724</td>\n",
       "    </tr>\n",
       "    <tr>\n",
       "      <th>24</th>\n",
       "      <td>Toronto Raptors</td>\n",
       "      <td>https://www.basketball-reference.com/teams/TOR/2024.html</td>\n",
       "      <td>82</td>\n",
       "      <td>19805</td>\n",
       "      <td>3669</td>\n",
       "      <td>7476</td>\n",
       "      <td>.491</td>\n",
       "      <td>1120</td>\n",
       "      <td>2979</td>\n",
       "      <td>.376</td>\n",
       "      <td>2549</td>\n",
       "      <td>4497</td>\n",
       "      <td>.567</td>\n",
       "      <td>1283</td>\n",
       "      <td>1627</td>\n",
       "      <td>.789</td>\n",
       "      <td>919</td>\n",
       "      <td>2785</td>\n",
       "      <td>3704</td>\n",
       "      <td>2346</td>\n",
       "      <td>595</td>\n",
       "      <td>474</td>\n",
       "      <td>1137</td>\n",
       "      <td>1487</td>\n",
       "      <td>9741</td>\n",
       "    </tr>\n",
       "    <tr>\n",
       "      <th>25</th>\n",
       "      <td>Detroit Pistons</td>\n",
       "      <td>https://www.basketball-reference.com/teams/DET/2024.html</td>\n",
       "      <td>82</td>\n",
       "      <td>19755</td>\n",
       "      <td>3578</td>\n",
       "      <td>7301</td>\n",
       "      <td>.490</td>\n",
       "      <td>991</td>\n",
       "      <td>2682</td>\n",
       "      <td>.370</td>\n",
       "      <td>2587</td>\n",
       "      <td>4619</td>\n",
       "      <td>.560</td>\n",
       "      <td>1610</td>\n",
       "      <td>2013</td>\n",
       "      <td>.800</td>\n",
       "      <td>791</td>\n",
       "      <td>2745</td>\n",
       "      <td>3536</td>\n",
       "      <td>2216</td>\n",
       "      <td>727</td>\n",
       "      <td>490</td>\n",
       "      <td>1019</td>\n",
       "      <td>1457</td>\n",
       "      <td>9757</td>\n",
       "    </tr>\n",
       "    <tr>\n",
       "      <th>26</th>\n",
       "      <td>Indiana Pacers*</td>\n",
       "      <td>https://www.basketball-reference.com/teams/IND/2024.html</td>\n",
       "      <td>82</td>\n",
       "      <td>19705</td>\n",
       "      <td>3653</td>\n",
       "      <td>7361</td>\n",
       "      <td>.496</td>\n",
       "      <td>877</td>\n",
       "      <td>2404</td>\n",
       "      <td>.365</td>\n",
       "      <td>2776</td>\n",
       "      <td>4957</td>\n",
       "      <td>.560</td>\n",
       "      <td>1677</td>\n",
       "      <td>2130</td>\n",
       "      <td>.787</td>\n",
       "      <td>901</td>\n",
       "      <td>2654</td>\n",
       "      <td>3555</td>\n",
       "      <td>2020</td>\n",
       "      <td>543</td>\n",
       "      <td>440</td>\n",
       "      <td>1142</td>\n",
       "      <td>1501</td>\n",
       "      <td>9860</td>\n",
       "    </tr>\n",
       "    <tr>\n",
       "      <th>27</th>\n",
       "      <td>Atlanta Hawks</td>\n",
       "      <td>https://www.basketball-reference.com/teams/ATL/2024.html</td>\n",
       "      <td>82</td>\n",
       "      <td>19855</td>\n",
       "      <td>3659</td>\n",
       "      <td>7394</td>\n",
       "      <td>.495</td>\n",
       "      <td>1147</td>\n",
       "      <td>2987</td>\n",
       "      <td>.384</td>\n",
       "      <td>2512</td>\n",
       "      <td>4407</td>\n",
       "      <td>.570</td>\n",
       "      <td>1417</td>\n",
       "      <td>1790</td>\n",
       "      <td>.792</td>\n",
       "      <td>870</td>\n",
       "      <td>2758</td>\n",
       "      <td>3628</td>\n",
       "      <td>2314</td>\n",
       "      <td>638</td>\n",
       "      <td>461</td>\n",
       "      <td>1158</td>\n",
       "      <td>1594</td>\n",
       "      <td>9882</td>\n",
       "    </tr>\n",
       "    <tr>\n",
       "      <th>28</th>\n",
       "      <td>Utah Jazz</td>\n",
       "      <td>https://www.basketball-reference.com/teams/UTA/2024.html</td>\n",
       "      <td>82</td>\n",
       "      <td>19805</td>\n",
       "      <td>3654</td>\n",
       "      <td>7509</td>\n",
       "      <td>.487</td>\n",
       "      <td>1213</td>\n",
       "      <td>3070</td>\n",
       "      <td>.395</td>\n",
       "      <td>2441</td>\n",
       "      <td>4439</td>\n",
       "      <td>.550</td>\n",
       "      <td>1364</td>\n",
       "      <td>1768</td>\n",
       "      <td>.771</td>\n",
       "      <td>900</td>\n",
       "      <td>2564</td>\n",
       "      <td>3464</td>\n",
       "      <td>2442</td>\n",
       "      <td>704</td>\n",
       "      <td>528</td>\n",
       "      <td>1009</td>\n",
       "      <td>1577</td>\n",
       "      <td>9885</td>\n",
       "    </tr>\n",
       "    <tr>\n",
       "      <th>29</th>\n",
       "      <td>Washington Wizards</td>\n",
       "      <td>https://www.basketball-reference.com/teams/WAS/2024.html</td>\n",
       "      <td>82</td>\n",
       "      <td>19730</td>\n",
       "      <td>3777</td>\n",
       "      <td>7618</td>\n",
       "      <td>.496</td>\n",
       "      <td>1007</td>\n",
       "      <td>2782</td>\n",
       "      <td>.362</td>\n",
       "      <td>2770</td>\n",
       "      <td>4836</td>\n",
       "      <td>.573</td>\n",
       "      <td>1528</td>\n",
       "      <td>1966</td>\n",
       "      <td>.777</td>\n",
       "      <td>993</td>\n",
       "      <td>3020</td>\n",
       "      <td>4013</td>\n",
       "      <td>2382</td>\n",
       "      <td>655</td>\n",
       "      <td>496</td>\n",
       "      <td>1152</td>\n",
       "      <td>1473</td>\n",
       "      <td>10089</td>\n",
       "    </tr>\n",
       "  </tbody>\n",
       "</table>\n",
       "</div>"
      ],
      "text/plain": [
       "                       Team  \\\n",
       "0   Minnesota Timberwolves*   \n",
       "1          New York Knicks*   \n",
       "2               Miami Heat*   \n",
       "3            Orlando Magic*   \n",
       "4           Boston Celtics*   \n",
       "5           Denver Nuggets*   \n",
       "6      Cleveland Cavaliers*   \n",
       "7     New Orleans Pelicans*   \n",
       "8       Philadelphia 76ers*   \n",
       "9     Los Angeles Clippers*   \n",
       "10   Oklahoma City Thunder*   \n",
       "11        Memphis Grizzlies   \n",
       "12            Phoenix Suns*   \n",
       "13          Houston Rockets   \n",
       "14            Brooklyn Nets   \n",
       "15            Chicago Bulls   \n",
       "16         Sacramento Kings   \n",
       "17    Golden State Warriors   \n",
       "18   Portland Trail Blazers   \n",
       "19        Dallas Mavericks*   \n",
       "20         Milwaukee Bucks*   \n",
       "21        Charlotte Hornets   \n",
       "22      Los Angeles Lakers*   \n",
       "23        San Antonio Spurs   \n",
       "24          Toronto Raptors   \n",
       "25          Detroit Pistons   \n",
       "26          Indiana Pacers*   \n",
       "27            Atlanta Hawks   \n",
       "28                Utah Jazz   \n",
       "29       Washington Wizards   \n",
       "\n",
       "                                                   Team Link   G     MP    FG  \\\n",
       "0   https://www.basketball-reference.com/teams/MIN/2024.html  82  19805  3198   \n",
       "1   https://www.basketball-reference.com/teams/NYK/2024.html  82  19730  3304   \n",
       "2   https://www.basketball-reference.com/teams/MIA/2024.html  82  19755  3297   \n",
       "3   https://www.basketball-reference.com/teams/ORL/2024.html  82  19780  3264   \n",
       "4   https://www.basketball-reference.com/teams/BOS/2024.html  82  19830  3403   \n",
       "5   https://www.basketball-reference.com/teams/DEN/2024.html  82  19705  3332   \n",
       "6   https://www.basketball-reference.com/teams/CLE/2024.html  82  19805  3323   \n",
       "7   https://www.basketball-reference.com/teams/NOP/2024.html  82  19705  3317   \n",
       "8   https://www.basketball-reference.com/teams/PHI/2024.html  82  19780  3322   \n",
       "9   https://www.basketball-reference.com/teams/LAC/2024.html  82  19705  3413   \n",
       "10  https://www.basketball-reference.com/teams/OKC/2024.html  82  19805  3328   \n",
       "11  https://www.basketball-reference.com/teams/MEM/2024.html  82  19780  3381   \n",
       "12  https://www.basketball-reference.com/teams/PHO/2024.html  82  19780  3444   \n",
       "13  https://www.basketball-reference.com/teams/HOU/2024.html  82  19855  3344   \n",
       "14  https://www.basketball-reference.com/teams/BRK/2024.html  82  19805  3410   \n",
       "15  https://www.basketball-reference.com/teams/CHI/2024.html  82  19980  3370   \n",
       "16  https://www.basketball-reference.com/teams/SAC/2024.html  82  19855  3414   \n",
       "17  https://www.basketball-reference.com/teams/GSW/2024.html  82  19830  3453   \n",
       "18  https://www.basketball-reference.com/teams/POR/2024.html  82  19880  3485   \n",
       "19  https://www.basketball-reference.com/teams/DAL/2024.html  82  19705  3522   \n",
       "20  https://www.basketball-reference.com/teams/MIL/2024.html  82  19805  3543   \n",
       "21  https://www.basketball-reference.com/teams/CHO/2024.html  82  19730  3555   \n",
       "22  https://www.basketball-reference.com/teams/LAL/2024.html  82  19855  3643   \n",
       "23  https://www.basketball-reference.com/teams/SAS/2024.html  82  19830  3684   \n",
       "24  https://www.basketball-reference.com/teams/TOR/2024.html  82  19805  3669   \n",
       "25  https://www.basketball-reference.com/teams/DET/2024.html  82  19755  3578   \n",
       "26  https://www.basketball-reference.com/teams/IND/2024.html  82  19705  3653   \n",
       "27  https://www.basketball-reference.com/teams/ATL/2024.html  82  19855  3659   \n",
       "28  https://www.basketball-reference.com/teams/UTA/2024.html  82  19805  3654   \n",
       "29  https://www.basketball-reference.com/teams/WAS/2024.html  82  19730  3777   \n",
       "\n",
       "     FGA   FG%    3P   3PA   3P%    2P   2PA   2P%    FT   FTA   FT%  ORB  \\\n",
       "0   7114  .450   937  2645  .354  2261  4469  .506  1402  1794  .781  843   \n",
       "1   7026  .470  1028  2813  .365  2276  4213  .540  1237  1620  .764  839   \n",
       "2   7056  .467  1064  3018  .353  2233  4038  .553  1230  1577  .780  757   \n",
       "3   6884  .474   945  2636  .358  2319  4248  .546  1419  1819  .780  731   \n",
       "4   7515  .453  1059  3008  .352  2344  4507  .520  1092  1422  .768  907   \n",
       "5   7210  .462   919  2587  .355  2413  4623  .522  1404  1819  .772  894   \n",
       "6   7176  .463  1029  2773  .371  2294  4403  .521  1363  1724  .791  823   \n",
       "7   7155  .464  1109  3176  .349  2208  3979  .555  1331  1699  .783  826   \n",
       "8   7098  .468   979  2765  .354  2343  4333  .541  1524  1926  .791  903   \n",
       "9   7288  .468  1054  2902  .363  2359  4386  .538  1332  1718  .775  909   \n",
       "10  7322  .455  1101  3052  .361  2227  4270  .522  1482  1878  .789  968   \n",
       "11  7128  .474  1098  2905  .378  2283  4223  .541  1391  1785  .779  874   \n",
       "12  7428  .464  1074  2949  .364  2370  4479  .529  1319  1705  .774  898   \n",
       "13  7226  .463  1012  2904  .348  2332  4322  .540  1583  2065  .767  878   \n",
       "14  7255  .470  1066  2865  .372  2344  4390  .534  1401  1736  .807  843   \n",
       "15  7131  .473  1196  3235  .370  2174  3896  .558  1388  1789  .776  829   \n",
       "16  7114  .480  1074  2775  .387  2340  4339  .539  1513  1892  .800  747   \n",
       "17  7415  .466  1088  3030  .359  2365  4385  .539  1449  1840  .788  892   \n",
       "18  7104  .491   957  2730  .351  2528  4374  .578  1535  1938  .792  868   \n",
       "19  7413  .475  1075  2921  .368  2447  4492  .545  1364  1772  .770  896   \n",
       "20  7537  .470  1032  2897  .356  2511  4640  .541  1423  1764  .807  843   \n",
       "21  7191  .494  1118  2965  .377  2437  4226  .577  1352  1699  .796  867   \n",
       "22  7687  .474  1170  3109  .376  2473  4578  .540  1174  1476  .795  893   \n",
       "23  7570  .487  1040  2791  .373  2644  4779  .553  1316  1679  .784  860   \n",
       "24  7476  .491  1120  2979  .376  2549  4497  .567  1283  1627  .789  919   \n",
       "25  7301  .490   991  2682  .370  2587  4619  .560  1610  2013  .800  791   \n",
       "26  7361  .496   877  2404  .365  2776  4957  .560  1677  2130  .787  901   \n",
       "27  7394  .495  1147  2987  .384  2512  4407  .570  1417  1790  .792  870   \n",
       "28  7509  .487  1213  3070  .395  2441  4439  .550  1364  1768  .771  900   \n",
       "29  7618  .496  1007  2782  .362  2770  4836  .573  1528  1966  .777  993   \n",
       "\n",
       "     DRB   TRB   AST  STL  BLK   TOV    PF    PTS  \n",
       "0   2555  3398  2008  616  371  1166  1630   8735  \n",
       "1   2492  3331  2098  552  431  1082  1565   8873  \n",
       "2   2750  3507  2173  543  388  1126  1550   8888  \n",
       "3   2537  3268  1958  666  379  1234  1710   8892  \n",
       "4   2645  3552  2042  510  304   986  1416   8957  \n",
       "5   2573  3467  2108  578  394  1014  1467   8987  \n",
       "6   2676  3499  2071  632  411  1115  1536   9038  \n",
       "7   2644  3470  2196  536  424  1168  1507   9074  \n",
       "8   2742  3645  2143  506  503  1201  1519   9147  \n",
       "9   2551  3460  2165  597  384  1069  1537   9212  \n",
       "10  2695  3663  2207  582  419  1287  1548   9239  \n",
       "11  2867  3741  2179  668  536  1239  1539   9251  \n",
       "12  2490  3388  2155  685  372  1043  1612   9281  \n",
       "13  2803  3681  1997  597  482  1132  1609   9283  \n",
       "14  2788  3631  2088  563  409  1035  1496   9287  \n",
       "15  2729  3558  2287  555  404  1147  1538   9324  \n",
       "16  2740  3487  2208  606  370  1139  1504   9415  \n",
       "17  2627  3519  2187  633  407  1067  1471   9443  \n",
       "18  2726  3594  2225  729  528  1173  1467   9462  \n",
       "19  2800  3696  2258  603  331  1127  1667   9483  \n",
       "20  2765  3608  2169  580  347   986  1576   9541  \n",
       "21  2853  3720  2356  582  396  1117  1432   9580  \n",
       "22  2719  3612  2316  673  390  1100  1619   9630  \n",
       "23  2857  3717  2296  733  380  1098  1470   9724  \n",
       "24  2785  3704  2346  595  474  1137  1487   9741  \n",
       "25  2745  3536  2216  727  490  1019  1457   9757  \n",
       "26  2654  3555  2020  543  440  1142  1501   9860  \n",
       "27  2758  3628  2314  638  461  1158  1594   9882  \n",
       "28  2564  3464  2442  704  528  1009  1577   9885  \n",
       "29  3020  4013  2382  655  496  1152  1473  10089  "
      ]
     },
     "execution_count": 29,
     "metadata": {},
     "output_type": "execute_result"
    }
   ],
   "source": [
    "url = \"https://www.basketball-reference.com/leagues/NBA_2024.html\"\n",
    "headers = {\"User-Agent\": \"Mozilla/5.0 (Windows NT 10.0; Win64; x64) AppleWebKit/537.36 (KHTML, like Gecko) Chrome/111.0.0.0 Safari/537.36\"}\n",
    "# Get page data\n",
    "data = req.get(url, headers = headers).text\n",
    "soup = BeautifulSoup(data,\"html.parser\")\n",
    "# Find table with schedule\n",
    "table = soup.find(\"table\", id=\"totals-opponent\")\n",
    "rows = table.find(\"tbody\").find_all(\"tr\", class_=None)\n",
    "# Call extracting function\n",
    "teams = get_teams(rows)\n",
    "teams"
   ]
  },
  {
   "cell_type": "code",
   "execution_count": 30,
   "id": "46497faf",
   "metadata": {},
   "outputs": [
    {
     "data": {
      "text/html": [
       "<div>\n",
       "<style scoped>\n",
       "    .dataframe tbody tr th:only-of-type {\n",
       "        vertical-align: middle;\n",
       "    }\n",
       "\n",
       "    .dataframe tbody tr th {\n",
       "        vertical-align: top;\n",
       "    }\n",
       "\n",
       "    .dataframe thead th {\n",
       "        text-align: right;\n",
       "    }\n",
       "</style>\n",
       "<table border=\"1\" class=\"dataframe\">\n",
       "  <thead>\n",
       "    <tr style=\"text-align: right;\">\n",
       "      <th></th>\n",
       "      <th>Team</th>\n",
       "      <th>Team Link</th>\n",
       "      <th>G</th>\n",
       "      <th>MP</th>\n",
       "      <th>FG</th>\n",
       "      <th>FGA</th>\n",
       "      <th>FG%</th>\n",
       "      <th>3P</th>\n",
       "      <th>3PA</th>\n",
       "      <th>3P%</th>\n",
       "      <th>2P</th>\n",
       "      <th>2PA</th>\n",
       "      <th>2P%</th>\n",
       "      <th>FT</th>\n",
       "      <th>FTA</th>\n",
       "      <th>FT%</th>\n",
       "      <th>ORB</th>\n",
       "      <th>DRB</th>\n",
       "      <th>TRB</th>\n",
       "      <th>AST</th>\n",
       "      <th>STL</th>\n",
       "      <th>BLK</th>\n",
       "      <th>TOV</th>\n",
       "      <th>PF</th>\n",
       "      <th>PTS</th>\n",
       "    </tr>\n",
       "  </thead>\n",
       "  <tbody>\n",
       "    <tr>\n",
       "      <th>0</th>\n",
       "      <td>Minnesota Timberwolves</td>\n",
       "      <td>https://www.basketball-reference.com/teams/MIN/2024.html</td>\n",
       "      <td>82</td>\n",
       "      <td>19805</td>\n",
       "      <td>3198</td>\n",
       "      <td>7114</td>\n",
       "      <td>.450</td>\n",
       "      <td>937</td>\n",
       "      <td>2645</td>\n",
       "      <td>.354</td>\n",
       "      <td>2261</td>\n",
       "      <td>4469</td>\n",
       "      <td>.506</td>\n",
       "      <td>1402</td>\n",
       "      <td>1794</td>\n",
       "      <td>.781</td>\n",
       "      <td>843</td>\n",
       "      <td>2555</td>\n",
       "      <td>3398</td>\n",
       "      <td>2008</td>\n",
       "      <td>616</td>\n",
       "      <td>371</td>\n",
       "      <td>1166</td>\n",
       "      <td>1630</td>\n",
       "      <td>8735</td>\n",
       "    </tr>\n",
       "    <tr>\n",
       "      <th>1</th>\n",
       "      <td>New York Knicks</td>\n",
       "      <td>https://www.basketball-reference.com/teams/NYK/2024.html</td>\n",
       "      <td>82</td>\n",
       "      <td>19730</td>\n",
       "      <td>3304</td>\n",
       "      <td>7026</td>\n",
       "      <td>.470</td>\n",
       "      <td>1028</td>\n",
       "      <td>2813</td>\n",
       "      <td>.365</td>\n",
       "      <td>2276</td>\n",
       "      <td>4213</td>\n",
       "      <td>.540</td>\n",
       "      <td>1237</td>\n",
       "      <td>1620</td>\n",
       "      <td>.764</td>\n",
       "      <td>839</td>\n",
       "      <td>2492</td>\n",
       "      <td>3331</td>\n",
       "      <td>2098</td>\n",
       "      <td>552</td>\n",
       "      <td>431</td>\n",
       "      <td>1082</td>\n",
       "      <td>1565</td>\n",
       "      <td>8873</td>\n",
       "    </tr>\n",
       "    <tr>\n",
       "      <th>2</th>\n",
       "      <td>Miami Heat</td>\n",
       "      <td>https://www.basketball-reference.com/teams/MIA/2024.html</td>\n",
       "      <td>82</td>\n",
       "      <td>19755</td>\n",
       "      <td>3297</td>\n",
       "      <td>7056</td>\n",
       "      <td>.467</td>\n",
       "      <td>1064</td>\n",
       "      <td>3018</td>\n",
       "      <td>.353</td>\n",
       "      <td>2233</td>\n",
       "      <td>4038</td>\n",
       "      <td>.553</td>\n",
       "      <td>1230</td>\n",
       "      <td>1577</td>\n",
       "      <td>.780</td>\n",
       "      <td>757</td>\n",
       "      <td>2750</td>\n",
       "      <td>3507</td>\n",
       "      <td>2173</td>\n",
       "      <td>543</td>\n",
       "      <td>388</td>\n",
       "      <td>1126</td>\n",
       "      <td>1550</td>\n",
       "      <td>8888</td>\n",
       "    </tr>\n",
       "    <tr>\n",
       "      <th>3</th>\n",
       "      <td>Orlando Magic</td>\n",
       "      <td>https://www.basketball-reference.com/teams/ORL/2024.html</td>\n",
       "      <td>82</td>\n",
       "      <td>19780</td>\n",
       "      <td>3264</td>\n",
       "      <td>6884</td>\n",
       "      <td>.474</td>\n",
       "      <td>945</td>\n",
       "      <td>2636</td>\n",
       "      <td>.358</td>\n",
       "      <td>2319</td>\n",
       "      <td>4248</td>\n",
       "      <td>.546</td>\n",
       "      <td>1419</td>\n",
       "      <td>1819</td>\n",
       "      <td>.780</td>\n",
       "      <td>731</td>\n",
       "      <td>2537</td>\n",
       "      <td>3268</td>\n",
       "      <td>1958</td>\n",
       "      <td>666</td>\n",
       "      <td>379</td>\n",
       "      <td>1234</td>\n",
       "      <td>1710</td>\n",
       "      <td>8892</td>\n",
       "    </tr>\n",
       "    <tr>\n",
       "      <th>4</th>\n",
       "      <td>Boston Celtics</td>\n",
       "      <td>https://www.basketball-reference.com/teams/BOS/2024.html</td>\n",
       "      <td>82</td>\n",
       "      <td>19830</td>\n",
       "      <td>3403</td>\n",
       "      <td>7515</td>\n",
       "      <td>.453</td>\n",
       "      <td>1059</td>\n",
       "      <td>3008</td>\n",
       "      <td>.352</td>\n",
       "      <td>2344</td>\n",
       "      <td>4507</td>\n",
       "      <td>.520</td>\n",
       "      <td>1092</td>\n",
       "      <td>1422</td>\n",
       "      <td>.768</td>\n",
       "      <td>907</td>\n",
       "      <td>2645</td>\n",
       "      <td>3552</td>\n",
       "      <td>2042</td>\n",
       "      <td>510</td>\n",
       "      <td>304</td>\n",
       "      <td>986</td>\n",
       "      <td>1416</td>\n",
       "      <td>8957</td>\n",
       "    </tr>\n",
       "    <tr>\n",
       "      <th>5</th>\n",
       "      <td>Denver Nuggets</td>\n",
       "      <td>https://www.basketball-reference.com/teams/DEN/2024.html</td>\n",
       "      <td>82</td>\n",
       "      <td>19705</td>\n",
       "      <td>3332</td>\n",
       "      <td>7210</td>\n",
       "      <td>.462</td>\n",
       "      <td>919</td>\n",
       "      <td>2587</td>\n",
       "      <td>.355</td>\n",
       "      <td>2413</td>\n",
       "      <td>4623</td>\n",
       "      <td>.522</td>\n",
       "      <td>1404</td>\n",
       "      <td>1819</td>\n",
       "      <td>.772</td>\n",
       "      <td>894</td>\n",
       "      <td>2573</td>\n",
       "      <td>3467</td>\n",
       "      <td>2108</td>\n",
       "      <td>578</td>\n",
       "      <td>394</td>\n",
       "      <td>1014</td>\n",
       "      <td>1467</td>\n",
       "      <td>8987</td>\n",
       "    </tr>\n",
       "    <tr>\n",
       "      <th>6</th>\n",
       "      <td>Cleveland Cavaliers</td>\n",
       "      <td>https://www.basketball-reference.com/teams/CLE/2024.html</td>\n",
       "      <td>82</td>\n",
       "      <td>19805</td>\n",
       "      <td>3323</td>\n",
       "      <td>7176</td>\n",
       "      <td>.463</td>\n",
       "      <td>1029</td>\n",
       "      <td>2773</td>\n",
       "      <td>.371</td>\n",
       "      <td>2294</td>\n",
       "      <td>4403</td>\n",
       "      <td>.521</td>\n",
       "      <td>1363</td>\n",
       "      <td>1724</td>\n",
       "      <td>.791</td>\n",
       "      <td>823</td>\n",
       "      <td>2676</td>\n",
       "      <td>3499</td>\n",
       "      <td>2071</td>\n",
       "      <td>632</td>\n",
       "      <td>411</td>\n",
       "      <td>1115</td>\n",
       "      <td>1536</td>\n",
       "      <td>9038</td>\n",
       "    </tr>\n",
       "    <tr>\n",
       "      <th>7</th>\n",
       "      <td>New Orleans Pelicans</td>\n",
       "      <td>https://www.basketball-reference.com/teams/NOP/2024.html</td>\n",
       "      <td>82</td>\n",
       "      <td>19705</td>\n",
       "      <td>3317</td>\n",
       "      <td>7155</td>\n",
       "      <td>.464</td>\n",
       "      <td>1109</td>\n",
       "      <td>3176</td>\n",
       "      <td>.349</td>\n",
       "      <td>2208</td>\n",
       "      <td>3979</td>\n",
       "      <td>.555</td>\n",
       "      <td>1331</td>\n",
       "      <td>1699</td>\n",
       "      <td>.783</td>\n",
       "      <td>826</td>\n",
       "      <td>2644</td>\n",
       "      <td>3470</td>\n",
       "      <td>2196</td>\n",
       "      <td>536</td>\n",
       "      <td>424</td>\n",
       "      <td>1168</td>\n",
       "      <td>1507</td>\n",
       "      <td>9074</td>\n",
       "    </tr>\n",
       "    <tr>\n",
       "      <th>8</th>\n",
       "      <td>Philadelphia 76ers</td>\n",
       "      <td>https://www.basketball-reference.com/teams/PHI/2024.html</td>\n",
       "      <td>82</td>\n",
       "      <td>19780</td>\n",
       "      <td>3322</td>\n",
       "      <td>7098</td>\n",
       "      <td>.468</td>\n",
       "      <td>979</td>\n",
       "      <td>2765</td>\n",
       "      <td>.354</td>\n",
       "      <td>2343</td>\n",
       "      <td>4333</td>\n",
       "      <td>.541</td>\n",
       "      <td>1524</td>\n",
       "      <td>1926</td>\n",
       "      <td>.791</td>\n",
       "      <td>903</td>\n",
       "      <td>2742</td>\n",
       "      <td>3645</td>\n",
       "      <td>2143</td>\n",
       "      <td>506</td>\n",
       "      <td>503</td>\n",
       "      <td>1201</td>\n",
       "      <td>1519</td>\n",
       "      <td>9147</td>\n",
       "    </tr>\n",
       "    <tr>\n",
       "      <th>9</th>\n",
       "      <td>Los Angeles Clippers</td>\n",
       "      <td>https://www.basketball-reference.com/teams/LAC/2024.html</td>\n",
       "      <td>82</td>\n",
       "      <td>19705</td>\n",
       "      <td>3413</td>\n",
       "      <td>7288</td>\n",
       "      <td>.468</td>\n",
       "      <td>1054</td>\n",
       "      <td>2902</td>\n",
       "      <td>.363</td>\n",
       "      <td>2359</td>\n",
       "      <td>4386</td>\n",
       "      <td>.538</td>\n",
       "      <td>1332</td>\n",
       "      <td>1718</td>\n",
       "      <td>.775</td>\n",
       "      <td>909</td>\n",
       "      <td>2551</td>\n",
       "      <td>3460</td>\n",
       "      <td>2165</td>\n",
       "      <td>597</td>\n",
       "      <td>384</td>\n",
       "      <td>1069</td>\n",
       "      <td>1537</td>\n",
       "      <td>9212</td>\n",
       "    </tr>\n",
       "    <tr>\n",
       "      <th>10</th>\n",
       "      <td>Oklahoma City Thunder</td>\n",
       "      <td>https://www.basketball-reference.com/teams/OKC/2024.html</td>\n",
       "      <td>82</td>\n",
       "      <td>19805</td>\n",
       "      <td>3328</td>\n",
       "      <td>7322</td>\n",
       "      <td>.455</td>\n",
       "      <td>1101</td>\n",
       "      <td>3052</td>\n",
       "      <td>.361</td>\n",
       "      <td>2227</td>\n",
       "      <td>4270</td>\n",
       "      <td>.522</td>\n",
       "      <td>1482</td>\n",
       "      <td>1878</td>\n",
       "      <td>.789</td>\n",
       "      <td>968</td>\n",
       "      <td>2695</td>\n",
       "      <td>3663</td>\n",
       "      <td>2207</td>\n",
       "      <td>582</td>\n",
       "      <td>419</td>\n",
       "      <td>1287</td>\n",
       "      <td>1548</td>\n",
       "      <td>9239</td>\n",
       "    </tr>\n",
       "    <tr>\n",
       "      <th>11</th>\n",
       "      <td>Memphis Grizzlies</td>\n",
       "      <td>https://www.basketball-reference.com/teams/MEM/2024.html</td>\n",
       "      <td>82</td>\n",
       "      <td>19780</td>\n",
       "      <td>3381</td>\n",
       "      <td>7128</td>\n",
       "      <td>.474</td>\n",
       "      <td>1098</td>\n",
       "      <td>2905</td>\n",
       "      <td>.378</td>\n",
       "      <td>2283</td>\n",
       "      <td>4223</td>\n",
       "      <td>.541</td>\n",
       "      <td>1391</td>\n",
       "      <td>1785</td>\n",
       "      <td>.779</td>\n",
       "      <td>874</td>\n",
       "      <td>2867</td>\n",
       "      <td>3741</td>\n",
       "      <td>2179</td>\n",
       "      <td>668</td>\n",
       "      <td>536</td>\n",
       "      <td>1239</td>\n",
       "      <td>1539</td>\n",
       "      <td>9251</td>\n",
       "    </tr>\n",
       "    <tr>\n",
       "      <th>12</th>\n",
       "      <td>Phoenix Suns</td>\n",
       "      <td>https://www.basketball-reference.com/teams/PHO/2024.html</td>\n",
       "      <td>82</td>\n",
       "      <td>19780</td>\n",
       "      <td>3444</td>\n",
       "      <td>7428</td>\n",
       "      <td>.464</td>\n",
       "      <td>1074</td>\n",
       "      <td>2949</td>\n",
       "      <td>.364</td>\n",
       "      <td>2370</td>\n",
       "      <td>4479</td>\n",
       "      <td>.529</td>\n",
       "      <td>1319</td>\n",
       "      <td>1705</td>\n",
       "      <td>.774</td>\n",
       "      <td>898</td>\n",
       "      <td>2490</td>\n",
       "      <td>3388</td>\n",
       "      <td>2155</td>\n",
       "      <td>685</td>\n",
       "      <td>372</td>\n",
       "      <td>1043</td>\n",
       "      <td>1612</td>\n",
       "      <td>9281</td>\n",
       "    </tr>\n",
       "    <tr>\n",
       "      <th>13</th>\n",
       "      <td>Houston Rockets</td>\n",
       "      <td>https://www.basketball-reference.com/teams/HOU/2024.html</td>\n",
       "      <td>82</td>\n",
       "      <td>19855</td>\n",
       "      <td>3344</td>\n",
       "      <td>7226</td>\n",
       "      <td>.463</td>\n",
       "      <td>1012</td>\n",
       "      <td>2904</td>\n",
       "      <td>.348</td>\n",
       "      <td>2332</td>\n",
       "      <td>4322</td>\n",
       "      <td>.540</td>\n",
       "      <td>1583</td>\n",
       "      <td>2065</td>\n",
       "      <td>.767</td>\n",
       "      <td>878</td>\n",
       "      <td>2803</td>\n",
       "      <td>3681</td>\n",
       "      <td>1997</td>\n",
       "      <td>597</td>\n",
       "      <td>482</td>\n",
       "      <td>1132</td>\n",
       "      <td>1609</td>\n",
       "      <td>9283</td>\n",
       "    </tr>\n",
       "    <tr>\n",
       "      <th>14</th>\n",
       "      <td>Brooklyn Nets</td>\n",
       "      <td>https://www.basketball-reference.com/teams/BRK/2024.html</td>\n",
       "      <td>82</td>\n",
       "      <td>19805</td>\n",
       "      <td>3410</td>\n",
       "      <td>7255</td>\n",
       "      <td>.470</td>\n",
       "      <td>1066</td>\n",
       "      <td>2865</td>\n",
       "      <td>.372</td>\n",
       "      <td>2344</td>\n",
       "      <td>4390</td>\n",
       "      <td>.534</td>\n",
       "      <td>1401</td>\n",
       "      <td>1736</td>\n",
       "      <td>.807</td>\n",
       "      <td>843</td>\n",
       "      <td>2788</td>\n",
       "      <td>3631</td>\n",
       "      <td>2088</td>\n",
       "      <td>563</td>\n",
       "      <td>409</td>\n",
       "      <td>1035</td>\n",
       "      <td>1496</td>\n",
       "      <td>9287</td>\n",
       "    </tr>\n",
       "    <tr>\n",
       "      <th>15</th>\n",
       "      <td>Chicago Bulls</td>\n",
       "      <td>https://www.basketball-reference.com/teams/CHI/2024.html</td>\n",
       "      <td>82</td>\n",
       "      <td>19980</td>\n",
       "      <td>3370</td>\n",
       "      <td>7131</td>\n",
       "      <td>.473</td>\n",
       "      <td>1196</td>\n",
       "      <td>3235</td>\n",
       "      <td>.370</td>\n",
       "      <td>2174</td>\n",
       "      <td>3896</td>\n",
       "      <td>.558</td>\n",
       "      <td>1388</td>\n",
       "      <td>1789</td>\n",
       "      <td>.776</td>\n",
       "      <td>829</td>\n",
       "      <td>2729</td>\n",
       "      <td>3558</td>\n",
       "      <td>2287</td>\n",
       "      <td>555</td>\n",
       "      <td>404</td>\n",
       "      <td>1147</td>\n",
       "      <td>1538</td>\n",
       "      <td>9324</td>\n",
       "    </tr>\n",
       "    <tr>\n",
       "      <th>16</th>\n",
       "      <td>Sacramento Kings</td>\n",
       "      <td>https://www.basketball-reference.com/teams/SAC/2024.html</td>\n",
       "      <td>82</td>\n",
       "      <td>19855</td>\n",
       "      <td>3414</td>\n",
       "      <td>7114</td>\n",
       "      <td>.480</td>\n",
       "      <td>1074</td>\n",
       "      <td>2775</td>\n",
       "      <td>.387</td>\n",
       "      <td>2340</td>\n",
       "      <td>4339</td>\n",
       "      <td>.539</td>\n",
       "      <td>1513</td>\n",
       "      <td>1892</td>\n",
       "      <td>.800</td>\n",
       "      <td>747</td>\n",
       "      <td>2740</td>\n",
       "      <td>3487</td>\n",
       "      <td>2208</td>\n",
       "      <td>606</td>\n",
       "      <td>370</td>\n",
       "      <td>1139</td>\n",
       "      <td>1504</td>\n",
       "      <td>9415</td>\n",
       "    </tr>\n",
       "    <tr>\n",
       "      <th>17</th>\n",
       "      <td>Golden State Warriors</td>\n",
       "      <td>https://www.basketball-reference.com/teams/GSW/2024.html</td>\n",
       "      <td>82</td>\n",
       "      <td>19830</td>\n",
       "      <td>3453</td>\n",
       "      <td>7415</td>\n",
       "      <td>.466</td>\n",
       "      <td>1088</td>\n",
       "      <td>3030</td>\n",
       "      <td>.359</td>\n",
       "      <td>2365</td>\n",
       "      <td>4385</td>\n",
       "      <td>.539</td>\n",
       "      <td>1449</td>\n",
       "      <td>1840</td>\n",
       "      <td>.788</td>\n",
       "      <td>892</td>\n",
       "      <td>2627</td>\n",
       "      <td>3519</td>\n",
       "      <td>2187</td>\n",
       "      <td>633</td>\n",
       "      <td>407</td>\n",
       "      <td>1067</td>\n",
       "      <td>1471</td>\n",
       "      <td>9443</td>\n",
       "    </tr>\n",
       "    <tr>\n",
       "      <th>18</th>\n",
       "      <td>Portland Trail Blazers</td>\n",
       "      <td>https://www.basketball-reference.com/teams/POR/2024.html</td>\n",
       "      <td>82</td>\n",
       "      <td>19880</td>\n",
       "      <td>3485</td>\n",
       "      <td>7104</td>\n",
       "      <td>.491</td>\n",
       "      <td>957</td>\n",
       "      <td>2730</td>\n",
       "      <td>.351</td>\n",
       "      <td>2528</td>\n",
       "      <td>4374</td>\n",
       "      <td>.578</td>\n",
       "      <td>1535</td>\n",
       "      <td>1938</td>\n",
       "      <td>.792</td>\n",
       "      <td>868</td>\n",
       "      <td>2726</td>\n",
       "      <td>3594</td>\n",
       "      <td>2225</td>\n",
       "      <td>729</td>\n",
       "      <td>528</td>\n",
       "      <td>1173</td>\n",
       "      <td>1467</td>\n",
       "      <td>9462</td>\n",
       "    </tr>\n",
       "    <tr>\n",
       "      <th>19</th>\n",
       "      <td>Dallas Mavericks</td>\n",
       "      <td>https://www.basketball-reference.com/teams/DAL/2024.html</td>\n",
       "      <td>82</td>\n",
       "      <td>19705</td>\n",
       "      <td>3522</td>\n",
       "      <td>7413</td>\n",
       "      <td>.475</td>\n",
       "      <td>1075</td>\n",
       "      <td>2921</td>\n",
       "      <td>.368</td>\n",
       "      <td>2447</td>\n",
       "      <td>4492</td>\n",
       "      <td>.545</td>\n",
       "      <td>1364</td>\n",
       "      <td>1772</td>\n",
       "      <td>.770</td>\n",
       "      <td>896</td>\n",
       "      <td>2800</td>\n",
       "      <td>3696</td>\n",
       "      <td>2258</td>\n",
       "      <td>603</td>\n",
       "      <td>331</td>\n",
       "      <td>1127</td>\n",
       "      <td>1667</td>\n",
       "      <td>9483</td>\n",
       "    </tr>\n",
       "    <tr>\n",
       "      <th>20</th>\n",
       "      <td>Milwaukee Bucks</td>\n",
       "      <td>https://www.basketball-reference.com/teams/MIL/2024.html</td>\n",
       "      <td>82</td>\n",
       "      <td>19805</td>\n",
       "      <td>3543</td>\n",
       "      <td>7537</td>\n",
       "      <td>.470</td>\n",
       "      <td>1032</td>\n",
       "      <td>2897</td>\n",
       "      <td>.356</td>\n",
       "      <td>2511</td>\n",
       "      <td>4640</td>\n",
       "      <td>.541</td>\n",
       "      <td>1423</td>\n",
       "      <td>1764</td>\n",
       "      <td>.807</td>\n",
       "      <td>843</td>\n",
       "      <td>2765</td>\n",
       "      <td>3608</td>\n",
       "      <td>2169</td>\n",
       "      <td>580</td>\n",
       "      <td>347</td>\n",
       "      <td>986</td>\n",
       "      <td>1576</td>\n",
       "      <td>9541</td>\n",
       "    </tr>\n",
       "    <tr>\n",
       "      <th>21</th>\n",
       "      <td>Charlotte Hornets</td>\n",
       "      <td>https://www.basketball-reference.com/teams/CHO/2024.html</td>\n",
       "      <td>82</td>\n",
       "      <td>19730</td>\n",
       "      <td>3555</td>\n",
       "      <td>7191</td>\n",
       "      <td>.494</td>\n",
       "      <td>1118</td>\n",
       "      <td>2965</td>\n",
       "      <td>.377</td>\n",
       "      <td>2437</td>\n",
       "      <td>4226</td>\n",
       "      <td>.577</td>\n",
       "      <td>1352</td>\n",
       "      <td>1699</td>\n",
       "      <td>.796</td>\n",
       "      <td>867</td>\n",
       "      <td>2853</td>\n",
       "      <td>3720</td>\n",
       "      <td>2356</td>\n",
       "      <td>582</td>\n",
       "      <td>396</td>\n",
       "      <td>1117</td>\n",
       "      <td>1432</td>\n",
       "      <td>9580</td>\n",
       "    </tr>\n",
       "    <tr>\n",
       "      <th>22</th>\n",
       "      <td>Los Angeles Lakers</td>\n",
       "      <td>https://www.basketball-reference.com/teams/LAL/2024.html</td>\n",
       "      <td>82</td>\n",
       "      <td>19855</td>\n",
       "      <td>3643</td>\n",
       "      <td>7687</td>\n",
       "      <td>.474</td>\n",
       "      <td>1170</td>\n",
       "      <td>3109</td>\n",
       "      <td>.376</td>\n",
       "      <td>2473</td>\n",
       "      <td>4578</td>\n",
       "      <td>.540</td>\n",
       "      <td>1174</td>\n",
       "      <td>1476</td>\n",
       "      <td>.795</td>\n",
       "      <td>893</td>\n",
       "      <td>2719</td>\n",
       "      <td>3612</td>\n",
       "      <td>2316</td>\n",
       "      <td>673</td>\n",
       "      <td>390</td>\n",
       "      <td>1100</td>\n",
       "      <td>1619</td>\n",
       "      <td>9630</td>\n",
       "    </tr>\n",
       "    <tr>\n",
       "      <th>23</th>\n",
       "      <td>San Antonio Spurs</td>\n",
       "      <td>https://www.basketball-reference.com/teams/SAS/2024.html</td>\n",
       "      <td>82</td>\n",
       "      <td>19830</td>\n",
       "      <td>3684</td>\n",
       "      <td>7570</td>\n",
       "      <td>.487</td>\n",
       "      <td>1040</td>\n",
       "      <td>2791</td>\n",
       "      <td>.373</td>\n",
       "      <td>2644</td>\n",
       "      <td>4779</td>\n",
       "      <td>.553</td>\n",
       "      <td>1316</td>\n",
       "      <td>1679</td>\n",
       "      <td>.784</td>\n",
       "      <td>860</td>\n",
       "      <td>2857</td>\n",
       "      <td>3717</td>\n",
       "      <td>2296</td>\n",
       "      <td>733</td>\n",
       "      <td>380</td>\n",
       "      <td>1098</td>\n",
       "      <td>1470</td>\n",
       "      <td>9724</td>\n",
       "    </tr>\n",
       "    <tr>\n",
       "      <th>24</th>\n",
       "      <td>Toronto Raptors</td>\n",
       "      <td>https://www.basketball-reference.com/teams/TOR/2024.html</td>\n",
       "      <td>82</td>\n",
       "      <td>19805</td>\n",
       "      <td>3669</td>\n",
       "      <td>7476</td>\n",
       "      <td>.491</td>\n",
       "      <td>1120</td>\n",
       "      <td>2979</td>\n",
       "      <td>.376</td>\n",
       "      <td>2549</td>\n",
       "      <td>4497</td>\n",
       "      <td>.567</td>\n",
       "      <td>1283</td>\n",
       "      <td>1627</td>\n",
       "      <td>.789</td>\n",
       "      <td>919</td>\n",
       "      <td>2785</td>\n",
       "      <td>3704</td>\n",
       "      <td>2346</td>\n",
       "      <td>595</td>\n",
       "      <td>474</td>\n",
       "      <td>1137</td>\n",
       "      <td>1487</td>\n",
       "      <td>9741</td>\n",
       "    </tr>\n",
       "    <tr>\n",
       "      <th>25</th>\n",
       "      <td>Detroit Pistons</td>\n",
       "      <td>https://www.basketball-reference.com/teams/DET/2024.html</td>\n",
       "      <td>82</td>\n",
       "      <td>19755</td>\n",
       "      <td>3578</td>\n",
       "      <td>7301</td>\n",
       "      <td>.490</td>\n",
       "      <td>991</td>\n",
       "      <td>2682</td>\n",
       "      <td>.370</td>\n",
       "      <td>2587</td>\n",
       "      <td>4619</td>\n",
       "      <td>.560</td>\n",
       "      <td>1610</td>\n",
       "      <td>2013</td>\n",
       "      <td>.800</td>\n",
       "      <td>791</td>\n",
       "      <td>2745</td>\n",
       "      <td>3536</td>\n",
       "      <td>2216</td>\n",
       "      <td>727</td>\n",
       "      <td>490</td>\n",
       "      <td>1019</td>\n",
       "      <td>1457</td>\n",
       "      <td>9757</td>\n",
       "    </tr>\n",
       "    <tr>\n",
       "      <th>26</th>\n",
       "      <td>Indiana Pacers</td>\n",
       "      <td>https://www.basketball-reference.com/teams/IND/2024.html</td>\n",
       "      <td>82</td>\n",
       "      <td>19705</td>\n",
       "      <td>3653</td>\n",
       "      <td>7361</td>\n",
       "      <td>.496</td>\n",
       "      <td>877</td>\n",
       "      <td>2404</td>\n",
       "      <td>.365</td>\n",
       "      <td>2776</td>\n",
       "      <td>4957</td>\n",
       "      <td>.560</td>\n",
       "      <td>1677</td>\n",
       "      <td>2130</td>\n",
       "      <td>.787</td>\n",
       "      <td>901</td>\n",
       "      <td>2654</td>\n",
       "      <td>3555</td>\n",
       "      <td>2020</td>\n",
       "      <td>543</td>\n",
       "      <td>440</td>\n",
       "      <td>1142</td>\n",
       "      <td>1501</td>\n",
       "      <td>9860</td>\n",
       "    </tr>\n",
       "    <tr>\n",
       "      <th>27</th>\n",
       "      <td>Atlanta Hawks</td>\n",
       "      <td>https://www.basketball-reference.com/teams/ATL/2024.html</td>\n",
       "      <td>82</td>\n",
       "      <td>19855</td>\n",
       "      <td>3659</td>\n",
       "      <td>7394</td>\n",
       "      <td>.495</td>\n",
       "      <td>1147</td>\n",
       "      <td>2987</td>\n",
       "      <td>.384</td>\n",
       "      <td>2512</td>\n",
       "      <td>4407</td>\n",
       "      <td>.570</td>\n",
       "      <td>1417</td>\n",
       "      <td>1790</td>\n",
       "      <td>.792</td>\n",
       "      <td>870</td>\n",
       "      <td>2758</td>\n",
       "      <td>3628</td>\n",
       "      <td>2314</td>\n",
       "      <td>638</td>\n",
       "      <td>461</td>\n",
       "      <td>1158</td>\n",
       "      <td>1594</td>\n",
       "      <td>9882</td>\n",
       "    </tr>\n",
       "    <tr>\n",
       "      <th>28</th>\n",
       "      <td>Utah Jazz</td>\n",
       "      <td>https://www.basketball-reference.com/teams/UTA/2024.html</td>\n",
       "      <td>82</td>\n",
       "      <td>19805</td>\n",
       "      <td>3654</td>\n",
       "      <td>7509</td>\n",
       "      <td>.487</td>\n",
       "      <td>1213</td>\n",
       "      <td>3070</td>\n",
       "      <td>.395</td>\n",
       "      <td>2441</td>\n",
       "      <td>4439</td>\n",
       "      <td>.550</td>\n",
       "      <td>1364</td>\n",
       "      <td>1768</td>\n",
       "      <td>.771</td>\n",
       "      <td>900</td>\n",
       "      <td>2564</td>\n",
       "      <td>3464</td>\n",
       "      <td>2442</td>\n",
       "      <td>704</td>\n",
       "      <td>528</td>\n",
       "      <td>1009</td>\n",
       "      <td>1577</td>\n",
       "      <td>9885</td>\n",
       "    </tr>\n",
       "    <tr>\n",
       "      <th>29</th>\n",
       "      <td>Washington Wizards</td>\n",
       "      <td>https://www.basketball-reference.com/teams/WAS/2024.html</td>\n",
       "      <td>82</td>\n",
       "      <td>19730</td>\n",
       "      <td>3777</td>\n",
       "      <td>7618</td>\n",
       "      <td>.496</td>\n",
       "      <td>1007</td>\n",
       "      <td>2782</td>\n",
       "      <td>.362</td>\n",
       "      <td>2770</td>\n",
       "      <td>4836</td>\n",
       "      <td>.573</td>\n",
       "      <td>1528</td>\n",
       "      <td>1966</td>\n",
       "      <td>.777</td>\n",
       "      <td>993</td>\n",
       "      <td>3020</td>\n",
       "      <td>4013</td>\n",
       "      <td>2382</td>\n",
       "      <td>655</td>\n",
       "      <td>496</td>\n",
       "      <td>1152</td>\n",
       "      <td>1473</td>\n",
       "      <td>10089</td>\n",
       "    </tr>\n",
       "  </tbody>\n",
       "</table>\n",
       "</div>"
      ],
      "text/plain": [
       "                      Team  \\\n",
       "0   Minnesota Timberwolves   \n",
       "1          New York Knicks   \n",
       "2               Miami Heat   \n",
       "3            Orlando Magic   \n",
       "4           Boston Celtics   \n",
       "5           Denver Nuggets   \n",
       "6      Cleveland Cavaliers   \n",
       "7     New Orleans Pelicans   \n",
       "8       Philadelphia 76ers   \n",
       "9     Los Angeles Clippers   \n",
       "10   Oklahoma City Thunder   \n",
       "11       Memphis Grizzlies   \n",
       "12            Phoenix Suns   \n",
       "13         Houston Rockets   \n",
       "14           Brooklyn Nets   \n",
       "15           Chicago Bulls   \n",
       "16        Sacramento Kings   \n",
       "17   Golden State Warriors   \n",
       "18  Portland Trail Blazers   \n",
       "19        Dallas Mavericks   \n",
       "20         Milwaukee Bucks   \n",
       "21       Charlotte Hornets   \n",
       "22      Los Angeles Lakers   \n",
       "23       San Antonio Spurs   \n",
       "24         Toronto Raptors   \n",
       "25         Detroit Pistons   \n",
       "26          Indiana Pacers   \n",
       "27           Atlanta Hawks   \n",
       "28               Utah Jazz   \n",
       "29      Washington Wizards   \n",
       "\n",
       "                                                   Team Link   G     MP    FG  \\\n",
       "0   https://www.basketball-reference.com/teams/MIN/2024.html  82  19805  3198   \n",
       "1   https://www.basketball-reference.com/teams/NYK/2024.html  82  19730  3304   \n",
       "2   https://www.basketball-reference.com/teams/MIA/2024.html  82  19755  3297   \n",
       "3   https://www.basketball-reference.com/teams/ORL/2024.html  82  19780  3264   \n",
       "4   https://www.basketball-reference.com/teams/BOS/2024.html  82  19830  3403   \n",
       "5   https://www.basketball-reference.com/teams/DEN/2024.html  82  19705  3332   \n",
       "6   https://www.basketball-reference.com/teams/CLE/2024.html  82  19805  3323   \n",
       "7   https://www.basketball-reference.com/teams/NOP/2024.html  82  19705  3317   \n",
       "8   https://www.basketball-reference.com/teams/PHI/2024.html  82  19780  3322   \n",
       "9   https://www.basketball-reference.com/teams/LAC/2024.html  82  19705  3413   \n",
       "10  https://www.basketball-reference.com/teams/OKC/2024.html  82  19805  3328   \n",
       "11  https://www.basketball-reference.com/teams/MEM/2024.html  82  19780  3381   \n",
       "12  https://www.basketball-reference.com/teams/PHO/2024.html  82  19780  3444   \n",
       "13  https://www.basketball-reference.com/teams/HOU/2024.html  82  19855  3344   \n",
       "14  https://www.basketball-reference.com/teams/BRK/2024.html  82  19805  3410   \n",
       "15  https://www.basketball-reference.com/teams/CHI/2024.html  82  19980  3370   \n",
       "16  https://www.basketball-reference.com/teams/SAC/2024.html  82  19855  3414   \n",
       "17  https://www.basketball-reference.com/teams/GSW/2024.html  82  19830  3453   \n",
       "18  https://www.basketball-reference.com/teams/POR/2024.html  82  19880  3485   \n",
       "19  https://www.basketball-reference.com/teams/DAL/2024.html  82  19705  3522   \n",
       "20  https://www.basketball-reference.com/teams/MIL/2024.html  82  19805  3543   \n",
       "21  https://www.basketball-reference.com/teams/CHO/2024.html  82  19730  3555   \n",
       "22  https://www.basketball-reference.com/teams/LAL/2024.html  82  19855  3643   \n",
       "23  https://www.basketball-reference.com/teams/SAS/2024.html  82  19830  3684   \n",
       "24  https://www.basketball-reference.com/teams/TOR/2024.html  82  19805  3669   \n",
       "25  https://www.basketball-reference.com/teams/DET/2024.html  82  19755  3578   \n",
       "26  https://www.basketball-reference.com/teams/IND/2024.html  82  19705  3653   \n",
       "27  https://www.basketball-reference.com/teams/ATL/2024.html  82  19855  3659   \n",
       "28  https://www.basketball-reference.com/teams/UTA/2024.html  82  19805  3654   \n",
       "29  https://www.basketball-reference.com/teams/WAS/2024.html  82  19730  3777   \n",
       "\n",
       "     FGA   FG%    3P   3PA   3P%    2P   2PA   2P%    FT   FTA   FT%  ORB  \\\n",
       "0   7114  .450   937  2645  .354  2261  4469  .506  1402  1794  .781  843   \n",
       "1   7026  .470  1028  2813  .365  2276  4213  .540  1237  1620  .764  839   \n",
       "2   7056  .467  1064  3018  .353  2233  4038  .553  1230  1577  .780  757   \n",
       "3   6884  .474   945  2636  .358  2319  4248  .546  1419  1819  .780  731   \n",
       "4   7515  .453  1059  3008  .352  2344  4507  .520  1092  1422  .768  907   \n",
       "5   7210  .462   919  2587  .355  2413  4623  .522  1404  1819  .772  894   \n",
       "6   7176  .463  1029  2773  .371  2294  4403  .521  1363  1724  .791  823   \n",
       "7   7155  .464  1109  3176  .349  2208  3979  .555  1331  1699  .783  826   \n",
       "8   7098  .468   979  2765  .354  2343  4333  .541  1524  1926  .791  903   \n",
       "9   7288  .468  1054  2902  .363  2359  4386  .538  1332  1718  .775  909   \n",
       "10  7322  .455  1101  3052  .361  2227  4270  .522  1482  1878  .789  968   \n",
       "11  7128  .474  1098  2905  .378  2283  4223  .541  1391  1785  .779  874   \n",
       "12  7428  .464  1074  2949  .364  2370  4479  .529  1319  1705  .774  898   \n",
       "13  7226  .463  1012  2904  .348  2332  4322  .540  1583  2065  .767  878   \n",
       "14  7255  .470  1066  2865  .372  2344  4390  .534  1401  1736  .807  843   \n",
       "15  7131  .473  1196  3235  .370  2174  3896  .558  1388  1789  .776  829   \n",
       "16  7114  .480  1074  2775  .387  2340  4339  .539  1513  1892  .800  747   \n",
       "17  7415  .466  1088  3030  .359  2365  4385  .539  1449  1840  .788  892   \n",
       "18  7104  .491   957  2730  .351  2528  4374  .578  1535  1938  .792  868   \n",
       "19  7413  .475  1075  2921  .368  2447  4492  .545  1364  1772  .770  896   \n",
       "20  7537  .470  1032  2897  .356  2511  4640  .541  1423  1764  .807  843   \n",
       "21  7191  .494  1118  2965  .377  2437  4226  .577  1352  1699  .796  867   \n",
       "22  7687  .474  1170  3109  .376  2473  4578  .540  1174  1476  .795  893   \n",
       "23  7570  .487  1040  2791  .373  2644  4779  .553  1316  1679  .784  860   \n",
       "24  7476  .491  1120  2979  .376  2549  4497  .567  1283  1627  .789  919   \n",
       "25  7301  .490   991  2682  .370  2587  4619  .560  1610  2013  .800  791   \n",
       "26  7361  .496   877  2404  .365  2776  4957  .560  1677  2130  .787  901   \n",
       "27  7394  .495  1147  2987  .384  2512  4407  .570  1417  1790  .792  870   \n",
       "28  7509  .487  1213  3070  .395  2441  4439  .550  1364  1768  .771  900   \n",
       "29  7618  .496  1007  2782  .362  2770  4836  .573  1528  1966  .777  993   \n",
       "\n",
       "     DRB   TRB   AST  STL  BLK   TOV    PF    PTS  \n",
       "0   2555  3398  2008  616  371  1166  1630   8735  \n",
       "1   2492  3331  2098  552  431  1082  1565   8873  \n",
       "2   2750  3507  2173  543  388  1126  1550   8888  \n",
       "3   2537  3268  1958  666  379  1234  1710   8892  \n",
       "4   2645  3552  2042  510  304   986  1416   8957  \n",
       "5   2573  3467  2108  578  394  1014  1467   8987  \n",
       "6   2676  3499  2071  632  411  1115  1536   9038  \n",
       "7   2644  3470  2196  536  424  1168  1507   9074  \n",
       "8   2742  3645  2143  506  503  1201  1519   9147  \n",
       "9   2551  3460  2165  597  384  1069  1537   9212  \n",
       "10  2695  3663  2207  582  419  1287  1548   9239  \n",
       "11  2867  3741  2179  668  536  1239  1539   9251  \n",
       "12  2490  3388  2155  685  372  1043  1612   9281  \n",
       "13  2803  3681  1997  597  482  1132  1609   9283  \n",
       "14  2788  3631  2088  563  409  1035  1496   9287  \n",
       "15  2729  3558  2287  555  404  1147  1538   9324  \n",
       "16  2740  3487  2208  606  370  1139  1504   9415  \n",
       "17  2627  3519  2187  633  407  1067  1471   9443  \n",
       "18  2726  3594  2225  729  528  1173  1467   9462  \n",
       "19  2800  3696  2258  603  331  1127  1667   9483  \n",
       "20  2765  3608  2169  580  347   986  1576   9541  \n",
       "21  2853  3720  2356  582  396  1117  1432   9580  \n",
       "22  2719  3612  2316  673  390  1100  1619   9630  \n",
       "23  2857  3717  2296  733  380  1098  1470   9724  \n",
       "24  2785  3704  2346  595  474  1137  1487   9741  \n",
       "25  2745  3536  2216  727  490  1019  1457   9757  \n",
       "26  2654  3555  2020  543  440  1142  1501   9860  \n",
       "27  2758  3628  2314  638  461  1158  1594   9882  \n",
       "28  2564  3464  2442  704  528  1009  1577   9885  \n",
       "29  3020  4013  2382  655  496  1152  1473  10089  "
      ]
     },
     "execution_count": 30,
     "metadata": {},
     "output_type": "execute_result"
    }
   ],
   "source": [
    "# Remove asterisks from Team name\n",
    "teams['Team'] = teams['Team'].astype(str)\n",
    "teams[\"Team\"] = teams[\"Team\"].str.replace('*', '')\n",
    "teams"
   ]
  },
  {
   "cell_type": "code",
   "execution_count": 32,
   "id": "37c70bef",
   "metadata": {},
   "outputs": [],
   "source": [
    "# Save DataFrame\n",
    "teams.to_csv(\"teams.csv\", index=False)"
   ]
  },
  {
   "cell_type": "markdown",
   "id": "04dc2859",
   "metadata": {},
   "source": [
    "# Scraping NBA teams rosters"
   ]
  },
  {
   "cell_type": "code",
   "execution_count": 33,
   "id": "d24a18b5",
   "metadata": {},
   "outputs": [],
   "source": [
    "teams = pd.read_csv(\"teams.csv\")"
   ]
  },
  {
   "cell_type": "code",
   "execution_count": 34,
   "id": "52230348",
   "metadata": {},
   "outputs": [],
   "source": [
    "def get_roster(rows, team, link_t):\n",
    "    roster = pd.DataFrame(columns = [\"Team\", \"Team Link\", \"Number\", \"Player\", \"Player Link\", \"Position\"])\n",
    "    # Iterate through all rows of table\n",
    "    for row in rows:\n",
    "        number = row.find(\"th\").text\n",
    "        # Gets all cols\n",
    "        cols = row.find_all(\"td\")\n",
    "        player = cols[0].text\n",
    "        link_p = \"https://www.basketball-reference.com\"+cols[0].a[\"href\"]\n",
    "        position = cols[1].text\n",
    "        # Saves info into DataFrame\n",
    "        roster = roster._append({\"Team\": team, \"Team Link\": link_t, \"Number\": number, \"Player\": player, \"Player Link\": link_p, \"Position\": position}, ignore_index=True )\n",
    "    return roster"
   ]
  },
  {
   "cell_type": "code",
   "execution_count": 35,
   "id": "525dc6b8",
   "metadata": {},
   "outputs": [
    {
     "name": "stderr",
     "output_type": "stream",
     "text": [
      "100%|██████████████████████████████████████████████████████████████████████████████████| 30/30 [01:05<00:00,  2.17s/it]\n"
     ]
    }
   ],
   "source": [
    "# Initialize DataFrame\n",
    "rosters = pd.DataFrame(columns = [\"Team\", \"Team Link\", \"Number\", \"Player\", \"Player Link\", \"Position\"])\n",
    "counter=0\n",
    "# Cycle iterates through links created before\n",
    "for ind in tqdm(teams.index):\n",
    "    url = teams[\"Team Link\"][ind]\n",
    "    user_agent_list = [\n",
    "        'Mozilla/5.0 (Windows NT 10.0; Win64; x64) AppleWebKit/537.36 (KHTML, like Gecko) Chrome/93.0.4577.82 Safari/537.36',\n",
    "        'Mozilla/5.0 (iPhone; CPU iPhone OS 14_4_2 like Mac OS X) AppleWebKit/605.1.15 (KHTML, like Gecko) Version/14.0.3 Mobile/15E148 Safari/604.1',\n",
    "        'Mozilla/4.0 (compatible; MSIE 9.0; Windows NT 6.1)',\n",
    "        'Mozilla/5.0 (Windows NT 10.0; Win64; x64) AppleWebKit/537.36 (KHTML, like Gecko) Chrome/87.0.4280.141 Safari/537.36 Edg/87.0.664.75',\n",
    "        'Mozilla/5.0 (Windows NT 10.0; Win64; x64) AppleWebKit/537.36 (KHTML, like Gecko) Chrome/70.0.3538.102 Safari/537.36 Edge/18.18363',]\n",
    "    headers={\"User-Agent\": user_agent_list[random.randint(0, len(user_agent_list)-1)]}\n",
    "    data = req.get(url, headers = headers).text\n",
    "    soup = BeautifulSoup(data,\"html.parser\")\n",
    "    # Find table with players\n",
    "    table = soup.find(\"table\", id=\"roster\")\n",
    "    rows = table.find(\"tbody\").find_all(\"tr\", class_=None)\n",
    "    # Call extracting function\n",
    "    roster = get_roster(rows, teams[\"Team\"][ind], url)\n",
    "    rosters = pd.concat([rosters, roster])\n",
    "        \n",
    "    counter+=1\n",
    "    if counter == 10:\n",
    "        sleep(randint(5,15))\n",
    "        counter=0\n",
    "rosters.to_csv(\"rosters.csv\", index=False)"
   ]
  },
  {
   "cell_type": "code",
   "execution_count": 36,
   "id": "934a2559",
   "metadata": {},
   "outputs": [
    {
     "data": {
      "text/html": [
       "<div>\n",
       "<style scoped>\n",
       "    .dataframe tbody tr th:only-of-type {\n",
       "        vertical-align: middle;\n",
       "    }\n",
       "\n",
       "    .dataframe tbody tr th {\n",
       "        vertical-align: top;\n",
       "    }\n",
       "\n",
       "    .dataframe thead th {\n",
       "        text-align: right;\n",
       "    }\n",
       "</style>\n",
       "<table border=\"1\" class=\"dataframe\">\n",
       "  <thead>\n",
       "    <tr style=\"text-align: right;\">\n",
       "      <th></th>\n",
       "      <th>Team</th>\n",
       "      <th>Team Link</th>\n",
       "      <th>Number</th>\n",
       "      <th>Player</th>\n",
       "      <th>Player Link</th>\n",
       "      <th>Position</th>\n",
       "    </tr>\n",
       "  </thead>\n",
       "  <tbody>\n",
       "    <tr>\n",
       "      <th>0</th>\n",
       "      <td>Minnesota Timberwolves</td>\n",
       "      <td>https://www.basketball-reference.com/teams/MIN/2024.html</td>\n",
       "      <td>9</td>\n",
       "      <td>Nickeil Alexander-Walker</td>\n",
       "      <td>https://www.basketball-reference.com/players/a/alexani01.html</td>\n",
       "      <td>SG</td>\n",
       "    </tr>\n",
       "    <tr>\n",
       "      <th>1</th>\n",
       "      <td>Minnesota Timberwolves</td>\n",
       "      <td>https://www.basketball-reference.com/teams/MIN/2024.html</td>\n",
       "      <td>1</td>\n",
       "      <td>Kyle Anderson</td>\n",
       "      <td>https://www.basketball-reference.com/players/a/anderky01.html</td>\n",
       "      <td>PF</td>\n",
       "    </tr>\n",
       "    <tr>\n",
       "      <th>2</th>\n",
       "      <td>Minnesota Timberwolves</td>\n",
       "      <td>https://www.basketball-reference.com/teams/MIN/2024.html</td>\n",
       "      <td>23</td>\n",
       "      <td>Troy Brown Jr.</td>\n",
       "      <td>https://www.basketball-reference.com/players/b/browntr01.html</td>\n",
       "      <td>SF</td>\n",
       "    </tr>\n",
       "    <tr>\n",
       "      <th>3</th>\n",
       "      <td>Minnesota Timberwolves</td>\n",
       "      <td>https://www.basketball-reference.com/teams/MIN/2024.html</td>\n",
       "      <td>10</td>\n",
       "      <td>Mike Conley</td>\n",
       "      <td>https://www.basketball-reference.com/players/c/conlemi01.html</td>\n",
       "      <td>PG</td>\n",
       "    </tr>\n",
       "    <tr>\n",
       "      <th>4</th>\n",
       "      <td>Minnesota Timberwolves</td>\n",
       "      <td>https://www.basketball-reference.com/teams/MIN/2024.html</td>\n",
       "      <td>5</td>\n",
       "      <td>Anthony Edwards</td>\n",
       "      <td>https://www.basketball-reference.com/players/e/edwaran01.html</td>\n",
       "      <td>SG</td>\n",
       "    </tr>\n",
       "    <tr>\n",
       "      <th>...</th>\n",
       "      <td>...</td>\n",
       "      <td>...</td>\n",
       "      <td>...</td>\n",
       "      <td>...</td>\n",
       "      <td>...</td>\n",
       "      <td>...</td>\n",
       "    </tr>\n",
       "    <tr>\n",
       "      <th>19</th>\n",
       "      <td>Washington Wizards</td>\n",
       "      <td>https://www.basketball-reference.com/teams/WAS/2024.html</td>\n",
       "      <td>13</td>\n",
       "      <td>Jordan Poole</td>\n",
       "      <td>https://www.basketball-reference.com/players/p/poolejo01.html</td>\n",
       "      <td>SG</td>\n",
       "    </tr>\n",
       "    <tr>\n",
       "      <th>20</th>\n",
       "      <td>Washington Wizards</td>\n",
       "      <td>https://www.basketball-reference.com/teams/WAS/2024.html</td>\n",
       "      <td>9</td>\n",
       "      <td>Ryan Rollins</td>\n",
       "      <td>https://www.basketball-reference.com/players/r/rolliry01.html</td>\n",
       "      <td>PG</td>\n",
       "    </tr>\n",
       "    <tr>\n",
       "      <th>21</th>\n",
       "      <td>Washington Wizards</td>\n",
       "      <td>https://www.basketball-reference.com/teams/WAS/2024.html</td>\n",
       "      <td>20</td>\n",
       "      <td>Landry Shamet</td>\n",
       "      <td>https://www.basketball-reference.com/players/s/shamela01.html</td>\n",
       "      <td>SG</td>\n",
       "    </tr>\n",
       "    <tr>\n",
       "      <th>22</th>\n",
       "      <td>Washington Wizards</td>\n",
       "      <td>https://www.basketball-reference.com/teams/WAS/2024.html</td>\n",
       "      <td>00</td>\n",
       "      <td>Tristan Vukcevic</td>\n",
       "      <td>https://www.basketball-reference.com/players/v/vukcetr01.html</td>\n",
       "      <td>C</td>\n",
       "    </tr>\n",
       "    <tr>\n",
       "      <th>23</th>\n",
       "      <td>Washington Wizards</td>\n",
       "      <td>https://www.basketball-reference.com/teams/WAS/2024.html</td>\n",
       "      <td>55</td>\n",
       "      <td>Delon Wright</td>\n",
       "      <td>https://www.basketball-reference.com/players/w/wrighde01.html</td>\n",
       "      <td>PG</td>\n",
       "    </tr>\n",
       "  </tbody>\n",
       "</table>\n",
       "<p>657 rows × 6 columns</p>\n",
       "</div>"
      ],
      "text/plain": [
       "                      Team  \\\n",
       "0   Minnesota Timberwolves   \n",
       "1   Minnesota Timberwolves   \n",
       "2   Minnesota Timberwolves   \n",
       "3   Minnesota Timberwolves   \n",
       "4   Minnesota Timberwolves   \n",
       "..                     ...   \n",
       "19      Washington Wizards   \n",
       "20      Washington Wizards   \n",
       "21      Washington Wizards   \n",
       "22      Washington Wizards   \n",
       "23      Washington Wizards   \n",
       "\n",
       "                                                   Team Link Number  \\\n",
       "0   https://www.basketball-reference.com/teams/MIN/2024.html      9   \n",
       "1   https://www.basketball-reference.com/teams/MIN/2024.html      1   \n",
       "2   https://www.basketball-reference.com/teams/MIN/2024.html     23   \n",
       "3   https://www.basketball-reference.com/teams/MIN/2024.html     10   \n",
       "4   https://www.basketball-reference.com/teams/MIN/2024.html      5   \n",
       "..                                                       ...    ...   \n",
       "19  https://www.basketball-reference.com/teams/WAS/2024.html     13   \n",
       "20  https://www.basketball-reference.com/teams/WAS/2024.html      9   \n",
       "21  https://www.basketball-reference.com/teams/WAS/2024.html     20   \n",
       "22  https://www.basketball-reference.com/teams/WAS/2024.html     00   \n",
       "23  https://www.basketball-reference.com/teams/WAS/2024.html     55   \n",
       "\n",
       "                      Player  \\\n",
       "0   Nickeil Alexander-Walker   \n",
       "1              Kyle Anderson   \n",
       "2             Troy Brown Jr.   \n",
       "3                Mike Conley   \n",
       "4            Anthony Edwards   \n",
       "..                       ...   \n",
       "19              Jordan Poole   \n",
       "20              Ryan Rollins   \n",
       "21             Landry Shamet   \n",
       "22          Tristan Vukcevic   \n",
       "23              Delon Wright   \n",
       "\n",
       "                                                      Player Link Position  \n",
       "0   https://www.basketball-reference.com/players/a/alexani01.html       SG  \n",
       "1   https://www.basketball-reference.com/players/a/anderky01.html       PF  \n",
       "2   https://www.basketball-reference.com/players/b/browntr01.html       SF  \n",
       "3   https://www.basketball-reference.com/players/c/conlemi01.html       PG  \n",
       "4   https://www.basketball-reference.com/players/e/edwaran01.html       SG  \n",
       "..                                                            ...      ...  \n",
       "19  https://www.basketball-reference.com/players/p/poolejo01.html       SG  \n",
       "20  https://www.basketball-reference.com/players/r/rolliry01.html       PG  \n",
       "21  https://www.basketball-reference.com/players/s/shamela01.html       SG  \n",
       "22  https://www.basketball-reference.com/players/v/vukcetr01.html        C  \n",
       "23  https://www.basketball-reference.com/players/w/wrighde01.html       PG  \n",
       "\n",
       "[657 rows x 6 columns]"
      ]
     },
     "execution_count": 36,
     "metadata": {},
     "output_type": "execute_result"
    }
   ],
   "source": [
    "rosters"
   ]
  },
  {
   "cell_type": "markdown",
   "id": "f8683aec",
   "metadata": {},
   "source": [
    "# ----------------------------------------------------------------------------"
   ]
  },
  {
   "cell_type": "code",
   "execution_count": null,
   "id": "b88d12f7",
   "metadata": {},
   "outputs": [],
   "source": []
  }
 ],
 "metadata": {
  "kernelspec": {
   "display_name": "Python 3 (ipykernel)",
   "language": "python",
   "name": "python3"
  },
  "language_info": {
   "codemirror_mode": {
    "name": "ipython",
    "version": 3
   },
   "file_extension": ".py",
   "mimetype": "text/x-python",
   "name": "python",
   "nbconvert_exporter": "python",
   "pygments_lexer": "ipython3",
   "version": "3.11.4"
  }
 },
 "nbformat": 4,
 "nbformat_minor": 5
}
